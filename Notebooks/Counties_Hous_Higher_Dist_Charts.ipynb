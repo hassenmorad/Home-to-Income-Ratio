{
 "cells": [
  {
   "cell_type": "code",
   "execution_count": 755,
   "metadata": {},
   "outputs": [],
   "source": [
    "import pandas as pd\n",
    "import numpy as np\n",
    "import array"
   ]
  },
  {
   "cell_type": "code",
   "execution_count": 2,
   "metadata": {},
   "outputs": [],
   "source": [
    "%run chart_theme.py"
   ]
  },
  {
   "cell_type": "markdown",
   "metadata": {},
   "source": [
    "### Income Devoted to Housing (distribution)"
   ]
  },
  {
   "cell_type": "code",
   "execution_count": 109,
   "metadata": {},
   "outputs": [],
   "source": [
    "file = pd.read_csv('county_rent_mort_inc_units_5yr.csv')"
   ]
  },
  {
   "cell_type": "code",
   "execution_count": 110,
   "metadata": {},
   "outputs": [],
   "source": [
    "cols = ['Year', 'FIPS', 'County', 'Med_Mort', 'Med_Rent', 'Med_Mort_Inc', 'Med_Rent_Inc', 'Mort_Share_Inc', 'Rent_Share_Inc', 'Total_Owned', 'Total_Rented']\n",
    "last = file[cols][file.Year == 2016]"
   ]
  },
  {
   "cell_type": "code",
   "execution_count": 111,
   "metadata": {},
   "outputs": [],
   "source": [
    "last['Rent_Share_Inc_Bin'] = last.Rent_Share_Inc.round().values\n",
    "last['Mort_Share_Inc_Bin'] = last.Mort_Share_Inc.round().values"
   ]
  },
  {
   "cell_type": "code",
   "execution_count": 330,
   "metadata": {},
   "outputs": [],
   "source": [
    "vals_dict = {}\n",
    "for val in last.Rent_Share_Inc_Bin.dropna().unique():\n",
    "    bin_fips = last.FIPS[last.Rent_Share_Inc_Bin == val].values\n",
    "    vals_dict[val] = len(bin_fips)"
   ]
  },
  {
   "cell_type": "code",
   "execution_count": 331,
   "metadata": {},
   "outputs": [],
   "source": [
    "df = pd.DataFrame(vals_dict.items())\n",
    "df.columns = ['Bin', 'Count']"
   ]
  },
  {
   "cell_type": "code",
   "execution_count": 332,
   "metadata": {},
   "outputs": [],
   "source": [
    "chart = alt.Chart(df, title='Renter Income Devoted to Housing (2014-2018)'\n",
    "                 ).mark_bar(size=11, color='#cede54'\n",
    "                           ).encode(x=alt.X('Bin', title='Income Devoted to Housing', axis=alt.Axis(titleY=35, titleOpacity=.8, titleFontSize=18, \n",
    "                                                                                                    labelOpacity=0, labelFontSize=16)), \n",
    "                                    y=alt.Y('Count', title='In most counties, the median share of renter income devoted to housing was', \n",
    "                                            axis=alt.Axis(values=list(range(100,300,100)), \n",
    "                                                          titleX=-30, titleY=-30, titleOpacity=.8, titleFontSize=18, \n",
    "                                                          labelOpacity=.8, labelPadding=30, labelFontSize=16), \n",
    "                                            scale=alt.Scale(domain=[0,305])))\n",
    "y_title2 = alt.Chart(pd.DataFrame({'x':[10.2], 'y':[363], 'text':['between 20% and 40%']})).mark_text(font='lato', fontSize=18, opacity=.8).encode(x='x', y='y', text='text')\n",
    "x_text_df = pd.DataFrame({'x':list(range(10,60,10)), 'y':[0]*5, 'text':['   10%'] + [str(i) for i in range(20,60,10)]})\n",
    "x_text = alt.Chart(x_text_df).mark_text(dx=0, dy=17, fontSize=16, font='lato', opacity=.8).encode(x=alt.X('x'), y='y', text='text')\n",
    "y_text_df = pd.DataFrame({'x':[10], 'y':[300], 'text':['300 counties']})\n",
    "y_text = alt.Chart(y_text_df).mark_text(dx=-44, dy=0, fontSize=16, font='lato', opacity=.8).encode(x=alt.X('x', scale=alt.Scale(domain=[10,50])), y='y', text='text')\n",
    "line = alt.Chart(pd.DataFrame({'x1':[10.2], 'x2':[55], 'y1':[300]})).mark_rule(opacity=.15).encode(x=alt.X('x1', scale=alt.Scale(domain=[10,50])), x2='x2',y='y1')\n",
    "\n",
    "rent_inc_dist = (chart + line + x_text + y_text + y_title2).configure_title(fontSize=24)"
   ]
  },
  {
   "cell_type": "code",
   "execution_count": 333,
   "metadata": {},
   "outputs": [
    {
     "data": {
      "text/html": [
       "\n",
       "<div id=\"altair-viz-117\"></div>\n",
       "<script type=\"text/javascript\">\n",
       "  (function(spec, embedOpt){\n",
       "    const outputDiv = document.getElementById(\"altair-viz-117\");\n",
       "    const paths = {\n",
       "      \"vega\": \"https://cdn.jsdelivr.net/npm//vega@5?noext\",\n",
       "      \"vega-lib\": \"https://cdn.jsdelivr.net/npm//vega-lib?noext\",\n",
       "      \"vega-lite\": \"https://cdn.jsdelivr.net/npm//vega-lite@4.0.0?noext\",\n",
       "      \"vega-embed\": \"https://cdn.jsdelivr.net/npm//vega-embed@6?noext\",\n",
       "    };\n",
       "\n",
       "    function loadScript(lib) {\n",
       "      return new Promise(function(resolve, reject) {\n",
       "        var s = document.createElement('script');\n",
       "        s.src = paths[lib];\n",
       "        s.async = true;\n",
       "        s.onload = () => resolve(paths[lib]);\n",
       "        s.onerror = () => reject(`Error loading script: ${paths[lib]}`);\n",
       "        document.getElementsByTagName(\"head\")[0].appendChild(s);\n",
       "      });\n",
       "    }\n",
       "\n",
       "    function showError(err) {\n",
       "      outputDiv.innerHTML = `<div class=\"error\" style=\"color:red;\">${err}</div>`;\n",
       "      throw err;\n",
       "    }\n",
       "\n",
       "    function displayChart(vegaEmbed) {\n",
       "      vegaEmbed(outputDiv, spec, embedOpt)\n",
       "        .catch(err => showError(`Javascript Error: ${err.message}<br>This usually means there's a typo in your chart specification. See the javascript console for the full traceback.`));\n",
       "    }\n",
       "\n",
       "    if(typeof define === \"function\" && define.amd) {\n",
       "      requirejs.config({paths});\n",
       "      require([\"vega-embed\"], displayChart, err => showError(`Error loading script: ${err.message}`));\n",
       "    } else if (typeof vegaEmbed === \"function\") {\n",
       "      displayChart(vegaEmbed);\n",
       "    } else {\n",
       "      loadScript(\"vega\")\n",
       "        .then(() => loadScript(\"vega-lite\"))\n",
       "        .then(() => loadScript(\"vega-embed\"))\n",
       "        .catch(showError)\n",
       "        .then(() => displayChart(vegaEmbed));\n",
       "    }\n",
       "  })({\"width\": 600, \"height\": 400, \"background\": \"white\", \"config\": {\"title\": {\"fontWeight\": \"normal\", \"fontSize\": 24, \"anchor\": \"start\", \"font\": \"Lato\", \"offset\": 5}, \"axisX\": {\"grid\": false, \"labelFont\": \"Lato\", \"labelFontSize\": 16, \"labelAngle\": 0, \"labelPadding\": 10, \"ticks\": false, \"tickSize\": 5, \"title\": null, \"titleFont\": \"Lato\", \"titleFontSize\": 16, \"titleFontWeight\": \"normal\", \"titleY\": 30, \"titleX\": 280}, \"axisY\": {\"grid\": true, \"gridOpacity\": 1, \"labelFont\": \"Lato\", \"labelFontSize\": 16, \"labelLimit\": 100, \"labelAlign\": \"left\", \"labelPadding\": 20, \"ticks\": false, \"title\": null, \"titleFont\": \"Lato\", \"titleFontWeight\": \"normal\", \"titleFontSize\": 16, \"titleAlign\": \"left\", \"titleAngle\": 0, \"titleY\": -20, \"titleX\": -20, \"domainWidth\": 0}, \"view\": {\"strokeOpacity\": 0}}, \"layer\": [{\"data\": {\"name\": \"data-6cff287b501bbe338755d2392dbd2d54\"}, \"mark\": {\"type\": \"bar\", \"color\": \"#cede54\", \"size\": 11}, \"encoding\": {\"x\": {\"type\": \"quantitative\", \"axis\": {\"labelFontSize\": 16, \"labelOpacity\": 0, \"titleFontSize\": 18, \"titleOpacity\": 0.8, \"titleY\": 35}, \"field\": \"Bin\", \"title\": \"Income Devoted to Housing\"}, \"y\": {\"type\": \"quantitative\", \"axis\": {\"labelFontSize\": 16, \"labelOpacity\": 0.8, \"labelPadding\": 30, \"titleFontSize\": 18, \"titleOpacity\": 0.8, \"titleX\": -30, \"titleY\": -30, \"values\": [100, 200]}, \"field\": \"Count\", \"scale\": {\"domain\": [0, 305]}, \"title\": \"In most counties, the median share of renter income devoted to housing was\"}}, \"title\": \"Renter Income Devoted to Housing (2014-2018)\"}, {\"data\": {\"name\": \"data-893f91d759a568c420213b6ca5c6c455\"}, \"mark\": {\"type\": \"rule\", \"opacity\": 0.15}, \"encoding\": {\"x\": {\"type\": \"quantitative\", \"field\": \"x1\", \"scale\": {\"domain\": [10, 50]}}, \"x2\": {\"field\": \"x2\"}, \"y\": {\"type\": \"quantitative\", \"field\": \"y1\"}}}, {\"data\": {\"name\": \"data-3cd1cb60b0fda40e158ede2659b5db04\"}, \"mark\": {\"type\": \"text\", \"dx\": 0, \"dy\": 17, \"font\": \"lato\", \"fontSize\": 16, \"opacity\": 0.8}, \"encoding\": {\"text\": {\"type\": \"nominal\", \"field\": \"text\"}, \"x\": {\"type\": \"quantitative\", \"field\": \"x\"}, \"y\": {\"type\": \"quantitative\", \"field\": \"y\"}}}, {\"data\": {\"name\": \"data-4a9602a2b82813a3f469ea1330b1523f\"}, \"mark\": {\"type\": \"text\", \"dx\": -44, \"dy\": 0, \"font\": \"lato\", \"fontSize\": 16, \"opacity\": 0.8}, \"encoding\": {\"text\": {\"type\": \"nominal\", \"field\": \"text\"}, \"x\": {\"type\": \"quantitative\", \"field\": \"x\", \"scale\": {\"domain\": [10, 50]}}, \"y\": {\"type\": \"quantitative\", \"field\": \"y\"}}}, {\"data\": {\"name\": \"data-65de788aec15dc2f2be2895eb084c415\"}, \"mark\": {\"type\": \"text\", \"font\": \"lato\", \"fontSize\": 18, \"opacity\": 0.8}, \"encoding\": {\"text\": {\"type\": \"nominal\", \"field\": \"text\"}, \"x\": {\"type\": \"quantitative\", \"field\": \"x\"}, \"y\": {\"type\": \"quantitative\", \"field\": \"y\"}}}], \"$schema\": \"https://vega.github.io/schema/vega-lite/v4.0.0.json\", \"datasets\": {\"data-6cff287b501bbe338755d2392dbd2d54\": [{\"Bin\": 33.0, \"Count\": 145}, {\"Bin\": 31.0, \"Count\": 221}, {\"Bin\": 38.0, \"Count\": 61}, {\"Bin\": 34.0, \"Count\": 166}, {\"Bin\": 30.0, \"Count\": 274}, {\"Bin\": 32.0, \"Count\": 197}, {\"Bin\": 40.0, \"Count\": 35}, {\"Bin\": 36.0, \"Count\": 99}, {\"Bin\": 22.0, \"Count\": 104}, {\"Bin\": 28.0, \"Count\": 259}, {\"Bin\": 35.0, \"Count\": 87}, {\"Bin\": 26.0, \"Count\": 209}, {\"Bin\": 29.0, \"Count\": 195}, {\"Bin\": 39.0, \"Count\": 34}, {\"Bin\": 24.0, \"Count\": 167}, {\"Bin\": 41.0, \"Count\": 23}, {\"Bin\": 25.0, \"Count\": 143}, {\"Bin\": 49.0, \"Count\": 3}, {\"Bin\": 45.0, \"Count\": 14}, {\"Bin\": 27.0, \"Count\": 182}, {\"Bin\": 37.0, \"Count\": 61}, {\"Bin\": 18.0, \"Count\": 44}, {\"Bin\": 19.0, \"Count\": 30}, {\"Bin\": 16.0, \"Count\": 25}, {\"Bin\": 14.0, \"Count\": 13}, {\"Bin\": 21.0, \"Count\": 65}, {\"Bin\": 20.0, \"Count\": 62}, {\"Bin\": 17.0, \"Count\": 21}, {\"Bin\": 23.0, \"Count\": 95}, {\"Bin\": 8.0, \"Count\": 1}, {\"Bin\": 42.0, \"Count\": 16}, {\"Bin\": 44.0, \"Count\": 11}, {\"Bin\": 43.0, \"Count\": 13}, {\"Bin\": 46.0, \"Count\": 7}, {\"Bin\": 12.0, \"Count\": 2}, {\"Bin\": 47.0, \"Count\": 7}, {\"Bin\": 48.0, \"Count\": 5}, {\"Bin\": 50.0, \"Count\": 1}, {\"Bin\": 15.0, \"Count\": 9}, {\"Bin\": 13.0, \"Count\": 6}, {\"Bin\": 11.0, \"Count\": 1}, {\"Bin\": 10.0, \"Count\": 1}, {\"Bin\": 7.0, \"Count\": 1}], \"data-893f91d759a568c420213b6ca5c6c455\": [{\"x1\": 10.2, \"x2\": 55, \"y1\": 300}], \"data-3cd1cb60b0fda40e158ede2659b5db04\": [{\"x\": 10, \"y\": 0, \"text\": \"   10%\"}, {\"x\": 20, \"y\": 0, \"text\": \"20\"}, {\"x\": 30, \"y\": 0, \"text\": \"30\"}, {\"x\": 40, \"y\": 0, \"text\": \"40\"}, {\"x\": 50, \"y\": 0, \"text\": \"50\"}], \"data-4a9602a2b82813a3f469ea1330b1523f\": [{\"x\": 10, \"y\": 300, \"text\": \"300 counties\"}], \"data-65de788aec15dc2f2be2895eb084c415\": [{\"x\": 10.2, \"y\": 363, \"text\": \"between 20% and 40%\"}]}}, {\"mode\": \"vega-lite\"});\n",
       "</script>"
      ],
      "text/plain": [
       "alt.LayerChart(...)"
      ]
     },
     "execution_count": 333,
     "metadata": {},
     "output_type": "execute_result"
    }
   ],
   "source": [
    "rent_inc_dist"
   ]
  },
  {
   "cell_type": "code",
   "execution_count": 334,
   "metadata": {},
   "outputs": [],
   "source": [
    "rent_inc_dist.save('rent_inc_share_dist.svg')"
   ]
  },
  {
   "cell_type": "code",
   "execution_count": 335,
   "metadata": {},
   "outputs": [],
   "source": [
    "vals_dict = {}\n",
    "for val in last.Mort_Share_Inc_Bin.dropna().unique():\n",
    "    bin_fips = last.FIPS[last.Mort_Share_Inc_Bin == val].values\n",
    "    vals_dict[val] = len(bin_fips)"
   ]
  },
  {
   "cell_type": "code",
   "execution_count": 336,
   "metadata": {},
   "outputs": [],
   "source": [
    "df = pd.DataFrame(vals_dict.items())\n",
    "df.columns = ['Bin', 'Count']"
   ]
  },
  {
   "cell_type": "code",
   "execution_count": 337,
   "metadata": {},
   "outputs": [],
   "source": [
    "chart = alt.Chart(df, title='Homeowner Income Devoted to Housing (2014-2018)'\n",
    "                 ).mark_bar(size=11, color='#97c2f2'\n",
    "                           ).encode(x=alt.X('Bin', title='Income Devoted to Housing', axis=alt.Axis(titleY=35, titleOpacity=.8, titleFontSize=18, \n",
    "                                                                                                    labelOpacity=0, labelFontSize=16)),                                                                                                     \n",
    "                                    y=alt.Y('Count', title='In most counties, the median share of homeowner income devoted to housing was', \n",
    "                                            axis=alt.Axis(values=list(range(100,500,100)), \n",
    "                                                          titleX=-30, titleY=-30, titleFontSize=18, titleOpacity=.8, \n",
    "                                                          labelOpacity=.8, labelPadding=30, labelFontSize=16), \n",
    "                                            scale=alt.Scale(domain=[0,501])))\n",
    "y_title2 = alt.Chart(pd.DataFrame({'x':[10.2], 'y':[570], 'text':['between 10% and 20%']})).mark_text(font='lato', fontSize=18, opacity=.8).encode(x='x', y='y', text='text')\n",
    "x_text_df = pd.DataFrame({'x':list(range(5,30,5)), 'y':[0]*5, 'text':['   5%'] + [str(i) for i in range(10,30,5)]})\n",
    "x_text = alt.Chart(x_text_df).mark_text(dx=0, dy=17, fontSize=16, font='lato', opacity=.8).encode(x=alt.X('x'), y='y', text='text')\n",
    "y_text_df = pd.DataFrame({'x':[10], 'y':[500], 'text':['500 counties']})\n",
    "y_text = alt.Chart(y_text_df).mark_text(dx=-44, dy=0, fontSize=16, font='lato', opacity=.8).encode(x=alt.X('x', scale=alt.Scale(domain=[10,50])), y='y', text='text')\n",
    "line = alt.Chart(pd.DataFrame({'x1':[10.3], 'x2':[55], 'y1':[500]})).mark_rule(opacity=.15).encode(x=alt.X('x1', scale=alt.Scale(domain=[10,50])), x2='x2',y='y1')\n",
    "\n",
    "mort_inc_dist = (line + chart + x_text + y_text + y_title2).configure_title(fontSize=24)"
   ]
  },
  {
   "cell_type": "code",
   "execution_count": 338,
   "metadata": {},
   "outputs": [
    {
     "data": {
      "text/html": [
       "\n",
       "<div id=\"altair-viz-118\"></div>\n",
       "<script type=\"text/javascript\">\n",
       "  (function(spec, embedOpt){\n",
       "    const outputDiv = document.getElementById(\"altair-viz-118\");\n",
       "    const paths = {\n",
       "      \"vega\": \"https://cdn.jsdelivr.net/npm//vega@5?noext\",\n",
       "      \"vega-lib\": \"https://cdn.jsdelivr.net/npm//vega-lib?noext\",\n",
       "      \"vega-lite\": \"https://cdn.jsdelivr.net/npm//vega-lite@4.0.0?noext\",\n",
       "      \"vega-embed\": \"https://cdn.jsdelivr.net/npm//vega-embed@6?noext\",\n",
       "    };\n",
       "\n",
       "    function loadScript(lib) {\n",
       "      return new Promise(function(resolve, reject) {\n",
       "        var s = document.createElement('script');\n",
       "        s.src = paths[lib];\n",
       "        s.async = true;\n",
       "        s.onload = () => resolve(paths[lib]);\n",
       "        s.onerror = () => reject(`Error loading script: ${paths[lib]}`);\n",
       "        document.getElementsByTagName(\"head\")[0].appendChild(s);\n",
       "      });\n",
       "    }\n",
       "\n",
       "    function showError(err) {\n",
       "      outputDiv.innerHTML = `<div class=\"error\" style=\"color:red;\">${err}</div>`;\n",
       "      throw err;\n",
       "    }\n",
       "\n",
       "    function displayChart(vegaEmbed) {\n",
       "      vegaEmbed(outputDiv, spec, embedOpt)\n",
       "        .catch(err => showError(`Javascript Error: ${err.message}<br>This usually means there's a typo in your chart specification. See the javascript console for the full traceback.`));\n",
       "    }\n",
       "\n",
       "    if(typeof define === \"function\" && define.amd) {\n",
       "      requirejs.config({paths});\n",
       "      require([\"vega-embed\"], displayChart, err => showError(`Error loading script: ${err.message}`));\n",
       "    } else if (typeof vegaEmbed === \"function\") {\n",
       "      displayChart(vegaEmbed);\n",
       "    } else {\n",
       "      loadScript(\"vega\")\n",
       "        .then(() => loadScript(\"vega-lite\"))\n",
       "        .then(() => loadScript(\"vega-embed\"))\n",
       "        .catch(showError)\n",
       "        .then(() => displayChart(vegaEmbed));\n",
       "    }\n",
       "  })({\"width\": 600, \"height\": 400, \"background\": \"white\", \"config\": {\"title\": {\"fontWeight\": \"normal\", \"fontSize\": 24, \"anchor\": \"start\", \"font\": \"Lato\", \"offset\": 5}, \"axisX\": {\"grid\": false, \"labelFont\": \"Lato\", \"labelFontSize\": 16, \"labelAngle\": 0, \"labelPadding\": 10, \"ticks\": false, \"tickSize\": 5, \"title\": null, \"titleFont\": \"Lato\", \"titleFontSize\": 16, \"titleFontWeight\": \"normal\", \"titleY\": 30, \"titleX\": 280}, \"axisY\": {\"grid\": true, \"gridOpacity\": 1, \"labelFont\": \"Lato\", \"labelFontSize\": 16, \"labelLimit\": 100, \"labelAlign\": \"left\", \"labelPadding\": 20, \"ticks\": false, \"title\": null, \"titleFont\": \"Lato\", \"titleFontWeight\": \"normal\", \"titleFontSize\": 16, \"titleAlign\": \"left\", \"titleAngle\": 0, \"titleY\": -20, \"titleX\": -20, \"domainWidth\": 0}, \"view\": {\"strokeOpacity\": 0}}, \"layer\": [{\"data\": {\"name\": \"data-8f7c72f0624d4b6aca37da8d24e8e19f\"}, \"mark\": {\"type\": \"rule\", \"opacity\": 0.15}, \"encoding\": {\"x\": {\"type\": \"quantitative\", \"field\": \"x1\", \"scale\": {\"domain\": [10, 50]}}, \"x2\": {\"field\": \"x2\"}, \"y\": {\"type\": \"quantitative\", \"field\": \"y1\"}}}, {\"data\": {\"name\": \"data-3bd123076f21c18d652abc9e5e9f723d\"}, \"mark\": {\"type\": \"bar\", \"color\": \"#97c2f2\", \"size\": 11}, \"encoding\": {\"x\": {\"type\": \"quantitative\", \"axis\": {\"labelFontSize\": 16, \"labelOpacity\": 0, \"titleFontSize\": 18, \"titleOpacity\": 0.8, \"titleY\": 35}, \"field\": \"Bin\", \"title\": \"Income Devoted to Housing\"}, \"y\": {\"type\": \"quantitative\", \"axis\": {\"labelFontSize\": 16, \"labelOpacity\": 0.8, \"labelPadding\": 30, \"titleFontSize\": 18, \"titleOpacity\": 0.8, \"titleX\": -30, \"titleY\": -30, \"values\": [100, 200, 300, 400]}, \"field\": \"Count\", \"scale\": {\"domain\": [0, 501]}, \"title\": \"In most counties, the median share of homeowner income devoted to housing was\"}}, \"title\": \"Homeowner Income Devoted to Housing (2014-2018)\"}, {\"data\": {\"name\": \"data-65a770dd65bfc82b69b201c256b60850\"}, \"mark\": {\"type\": \"text\", \"dx\": 0, \"dy\": 17, \"font\": \"lato\", \"fontSize\": 16, \"opacity\": 0.8}, \"encoding\": {\"text\": {\"type\": \"nominal\", \"field\": \"text\"}, \"x\": {\"type\": \"quantitative\", \"field\": \"x\"}, \"y\": {\"type\": \"quantitative\", \"field\": \"y\"}}}, {\"data\": {\"name\": \"data-9173c0de8e8f4907406a62ec014a25fd\"}, \"mark\": {\"type\": \"text\", \"dx\": -44, \"dy\": 0, \"font\": \"lato\", \"fontSize\": 16, \"opacity\": 0.8}, \"encoding\": {\"text\": {\"type\": \"nominal\", \"field\": \"text\"}, \"x\": {\"type\": \"quantitative\", \"field\": \"x\", \"scale\": {\"domain\": [10, 50]}}, \"y\": {\"type\": \"quantitative\", \"field\": \"y\"}}}, {\"data\": {\"name\": \"data-986b3945899e6dd58a7d187eb764f2a0\"}, \"mark\": {\"type\": \"text\", \"font\": \"lato\", \"fontSize\": 18, \"opacity\": 0.8}, \"encoding\": {\"text\": {\"type\": \"nominal\", \"field\": \"text\"}, \"x\": {\"type\": \"quantitative\", \"field\": \"x\"}, \"y\": {\"type\": \"quantitative\", \"field\": \"y\"}}}], \"$schema\": \"https://vega.github.io/schema/vega-lite/v4.0.0.json\", \"datasets\": {\"data-8f7c72f0624d4b6aca37da8d24e8e19f\": [{\"x1\": 10.3, \"x2\": 55, \"y1\": 500}], \"data-3bd123076f21c18d652abc9e5e9f723d\": [{\"Bin\": 16.0, \"Count\": 470}, {\"Bin\": 17.0, \"Count\": 264}, {\"Bin\": 13.0, \"Count\": 340}, {\"Bin\": 11.0, \"Count\": 141}, {\"Bin\": 14.0, \"Count\": 508}, {\"Bin\": 12.0, \"Count\": 280}, {\"Bin\": 10.0, \"Count\": 95}, {\"Bin\": 15.0, \"Count\": 380}, {\"Bin\": 21.0, \"Count\": 57}, {\"Bin\": 19.0, \"Count\": 123}, {\"Bin\": 9.0, \"Count\": 42}, {\"Bin\": 8.0, \"Count\": 19}, {\"Bin\": 20.0, \"Count\": 95}, {\"Bin\": 18.0, \"Count\": 228}, {\"Bin\": 22.0, \"Count\": 34}, {\"Bin\": 23.0, \"Count\": 12}, {\"Bin\": 25.0, \"Count\": 5}, {\"Bin\": 24.0, \"Count\": 15}, {\"Bin\": 7.0, \"Count\": 4}, {\"Bin\": 26.0, \"Count\": 2}, {\"Bin\": 6.0, \"Count\": 1}], \"data-65a770dd65bfc82b69b201c256b60850\": [{\"x\": 5, \"y\": 0, \"text\": \"   5%\"}, {\"x\": 10, \"y\": 0, \"text\": \"10\"}, {\"x\": 15, \"y\": 0, \"text\": \"15\"}, {\"x\": 20, \"y\": 0, \"text\": \"20\"}, {\"x\": 25, \"y\": 0, \"text\": \"25\"}], \"data-9173c0de8e8f4907406a62ec014a25fd\": [{\"x\": 10, \"y\": 500, \"text\": \"500 counties\"}], \"data-986b3945899e6dd58a7d187eb764f2a0\": [{\"x\": 10.2, \"y\": 570, \"text\": \"between 10% and 20%\"}]}}, {\"mode\": \"vega-lite\"});\n",
       "</script>"
      ],
      "text/plain": [
       "alt.LayerChart(...)"
      ]
     },
     "execution_count": 338,
     "metadata": {},
     "output_type": "execute_result"
    }
   ],
   "source": [
    "mort_inc_dist"
   ]
  },
  {
   "cell_type": "code",
   "execution_count": 339,
   "metadata": {},
   "outputs": [],
   "source": [
    "mort_inc_dist.save('mort_inc_share_dist.svg')"
   ]
  },
  {
   "cell_type": "markdown",
   "metadata": {},
   "source": [
    "---"
   ]
  },
  {
   "cell_type": "markdown",
   "metadata": {},
   "source": [
    "Digging deeper into income devoted to housing:"
   ]
  },
  {
   "cell_type": "code",
   "execution_count": 492,
   "metadata": {},
   "outputs": [],
   "source": [
    "rent_hi = last[last.Med_Rent > last.Med_Mort]\n",
    "mort_hi = last[last.Med_Mort > last.Med_Rent]"
   ]
  },
  {
   "cell_type": "code",
   "execution_count": 493,
   "metadata": {},
   "outputs": [
    {
     "data": {
      "text/plain": [
       "1396"
      ]
     },
     "execution_count": 493,
     "metadata": {},
     "output_type": "execute_result"
    }
   ],
   "source": [
    "len(rent_hi)"
   ]
  },
  {
   "cell_type": "code",
   "execution_count": 494,
   "metadata": {},
   "outputs": [
    {
     "data": {
      "text/plain": [
       "1716"
      ]
     },
     "execution_count": 494,
     "metadata": {},
     "output_type": "execute_result"
    }
   ],
   "source": [
    "len(mort_hi)"
   ]
  },
  {
   "cell_type": "code",
   "execution_count": 495,
   "metadata": {
    "collapsed": true,
    "jupyter": {
     "outputs_hidden": true
    }
   },
   "outputs": [
    {
     "name": "stderr",
     "output_type": "stream",
     "text": [
      "C:\\Users\\Mahmoud\\Miniconda3\\envs\\data_analysis\\lib\\site-packages\\ipykernel_launcher.py:1: SettingWithCopyWarning: \n",
      "A value is trying to be set on a copy of a slice from a DataFrame.\n",
      "Try using .loc[row_indexer,col_indexer] = value instead\n",
      "\n",
      "See the caveats in the documentation: http://pandas.pydata.org/pandas-docs/stable/user_guide/indexing.html#returning-a-view-versus-a-copy\n",
      "  \"\"\"Entry point for launching an IPython kernel.\n",
      "C:\\Users\\Mahmoud\\Miniconda3\\envs\\data_analysis\\lib\\site-packages\\ipykernel_launcher.py:2: SettingWithCopyWarning: \n",
      "A value is trying to be set on a copy of a slice from a DataFrame.\n",
      "Try using .loc[row_indexer,col_indexer] = value instead\n",
      "\n",
      "See the caveats in the documentation: http://pandas.pydata.org/pandas-docs/stable/user_guide/indexing.html#returning-a-view-versus-a-copy\n",
      "  \n",
      "C:\\Users\\Mahmoud\\Miniconda3\\envs\\data_analysis\\lib\\site-packages\\ipykernel_launcher.py:3: SettingWithCopyWarning: \n",
      "A value is trying to be set on a copy of a slice from a DataFrame.\n",
      "Try using .loc[row_indexer,col_indexer] = value instead\n",
      "\n",
      "See the caveats in the documentation: http://pandas.pydata.org/pandas-docs/stable/user_guide/indexing.html#returning-a-view-versus-a-copy\n",
      "  This is separate from the ipykernel package so we can avoid doing imports until\n",
      "C:\\Users\\Mahmoud\\Miniconda3\\envs\\data_analysis\\lib\\site-packages\\ipykernel_launcher.py:4: SettingWithCopyWarning: \n",
      "A value is trying to be set on a copy of a slice from a DataFrame.\n",
      "Try using .loc[row_indexer,col_indexer] = value instead\n",
      "\n",
      "See the caveats in the documentation: http://pandas.pydata.org/pandas-docs/stable/user_guide/indexing.html#returning-a-view-versus-a-copy\n",
      "  after removing the cwd from sys.path.\n",
      "C:\\Users\\Mahmoud\\Miniconda3\\envs\\data_analysis\\lib\\site-packages\\ipykernel_launcher.py:5: SettingWithCopyWarning: \n",
      "A value is trying to be set on a copy of a slice from a DataFrame.\n",
      "Try using .loc[row_indexer,col_indexer] = value instead\n",
      "\n",
      "See the caveats in the documentation: http://pandas.pydata.org/pandas-docs/stable/user_guide/indexing.html#returning-a-view-versus-a-copy\n",
      "  \"\"\"\n",
      "C:\\Users\\Mahmoud\\Miniconda3\\envs\\data_analysis\\lib\\site-packages\\ipykernel_launcher.py:6: SettingWithCopyWarning: \n",
      "A value is trying to be set on a copy of a slice from a DataFrame.\n",
      "Try using .loc[row_indexer,col_indexer] = value instead\n",
      "\n",
      "See the caveats in the documentation: http://pandas.pydata.org/pandas-docs/stable/user_guide/indexing.html#returning-a-view-versus-a-copy\n",
      "  \n",
      "C:\\Users\\Mahmoud\\Miniconda3\\envs\\data_analysis\\lib\\site-packages\\ipykernel_launcher.py:8: SettingWithCopyWarning: \n",
      "A value is trying to be set on a copy of a slice from a DataFrame.\n",
      "Try using .loc[row_indexer,col_indexer] = value instead\n",
      "\n",
      "See the caveats in the documentation: http://pandas.pydata.org/pandas-docs/stable/user_guide/indexing.html#returning-a-view-versus-a-copy\n",
      "  \n",
      "C:\\Users\\Mahmoud\\Miniconda3\\envs\\data_analysis\\lib\\site-packages\\ipykernel_launcher.py:9: SettingWithCopyWarning: \n",
      "A value is trying to be set on a copy of a slice from a DataFrame.\n",
      "Try using .loc[row_indexer,col_indexer] = value instead\n",
      "\n",
      "See the caveats in the documentation: http://pandas.pydata.org/pandas-docs/stable/user_guide/indexing.html#returning-a-view-versus-a-copy\n",
      "  if __name__ == '__main__':\n",
      "C:\\Users\\Mahmoud\\Miniconda3\\envs\\data_analysis\\lib\\site-packages\\ipykernel_launcher.py:10: SettingWithCopyWarning: \n",
      "A value is trying to be set on a copy of a slice from a DataFrame.\n",
      "Try using .loc[row_indexer,col_indexer] = value instead\n",
      "\n",
      "See the caveats in the documentation: http://pandas.pydata.org/pandas-docs/stable/user_guide/indexing.html#returning-a-view-versus-a-copy\n",
      "  # Remove the CWD from sys.path while we load stuff.\n",
      "C:\\Users\\Mahmoud\\Miniconda3\\envs\\data_analysis\\lib\\site-packages\\ipykernel_launcher.py:11: SettingWithCopyWarning: \n",
      "A value is trying to be set on a copy of a slice from a DataFrame.\n",
      "Try using .loc[row_indexer,col_indexer] = value instead\n",
      "\n",
      "See the caveats in the documentation: http://pandas.pydata.org/pandas-docs/stable/user_guide/indexing.html#returning-a-view-versus-a-copy\n",
      "  # This is added back by InteractiveShellApp.init_path()\n",
      "C:\\Users\\Mahmoud\\Miniconda3\\envs\\data_analysis\\lib\\site-packages\\ipykernel_launcher.py:12: SettingWithCopyWarning: \n",
      "A value is trying to be set on a copy of a slice from a DataFrame.\n",
      "Try using .loc[row_indexer,col_indexer] = value instead\n",
      "\n",
      "See the caveats in the documentation: http://pandas.pydata.org/pandas-docs/stable/user_guide/indexing.html#returning-a-view-versus-a-copy\n",
      "  if sys.path[0] == '':\n",
      "C:\\Users\\Mahmoud\\Miniconda3\\envs\\data_analysis\\lib\\site-packages\\ipykernel_launcher.py:13: SettingWithCopyWarning: \n",
      "A value is trying to be set on a copy of a slice from a DataFrame.\n",
      "Try using .loc[row_indexer,col_indexer] = value instead\n",
      "\n",
      "See the caveats in the documentation: http://pandas.pydata.org/pandas-docs/stable/user_guide/indexing.html#returning-a-view-versus-a-copy\n",
      "  del sys.path[0]\n",
      "C:\\Users\\Mahmoud\\Miniconda3\\envs\\data_analysis\\lib\\site-packages\\ipykernel_launcher.py:26: SettingWithCopyWarning: \n",
      "A value is trying to be set on a copy of a slice from a DataFrame.\n",
      "Try using .loc[row_indexer,col_indexer] = value instead\n",
      "\n",
      "See the caveats in the documentation: http://pandas.pydata.org/pandas-docs/stable/user_guide/indexing.html#returning-a-view-versus-a-copy\n"
     ]
    }
   ],
   "source": [
    "rent_hi['Rent_Housing_Rent_Higher_Bin'] = rent_hi.Med_Rent.round().values\n",
    "rent_hi['Rent_Housing_Rent_Higher_Inc_Bin'] = rent_hi.Med_Rent_Inc.round().values\n",
    "rent_hi['Rent_Housing_Rent_Higher_Share_Inc_Bin'] = rent_hi.Rent_Share_Inc.round().values\n",
    "mort_hi['Rent_Housing_Mort_Higher_Bin'] = mort_hi.Med_Rent.round().values\n",
    "mort_hi['Rent_Housing_Mort_Higher_Inc_Bin'] = mort_hi.Med_Rent_Inc.round().values\n",
    "mort_hi['Rent_Housing_Mort_Higher_Share_Inc_Bin'] = mort_hi.Rent_Share_Inc.round().values\n",
    "\n",
    "rent_hi['Mort_Housing_Rent_Higher_Bin'] = rent_hi.Med_Mort.round().values\n",
    "rent_hi['Mort_Housing_Rent_Higher_Inc_Bin'] = rent_hi.Med_Mort_Inc.round().values\n",
    "rent_hi['Mort_Housing_Rent_Higher_Share_Inc_Bin'] = rent_hi.Mort_Share_Inc.round().values\n",
    "mort_hi['Mort_Housing_Mort_Higher_Bin'] = mort_hi.Med_Mort.round().values\n",
    "mort_hi['Mort_Housing_Mort_Higher_Inc_Bin'] = mort_hi.Med_Mort_Inc.round().values\n",
    "mort_hi['Mort_Housing_Mort_Higher_Share_Inc_Bin'] = mort_hi.Mort_Share_Inc.round().values\n",
    "\n",
    "rent_dict = {}\n",
    "dfs = [rent_hi, rent_hi, rent_hi, mort_hi, mort_hi, mort_hi]*2\n",
    "divs = [40, 200, 1]*2 + [40, 200, 1]*2\n",
    "counter = 0\n",
    "for col in ['Rent_Housing_Rent_Higher_Bin', 'Rent_Housing_Rent_Higher_Inc_Bin', \n",
    "            'Rent_Housing_Rent_Higher_Share_Inc_Bin', 'Rent_Housing_Mort_Higher_Bin', \n",
    "            'Rent_Housing_Mort_Higher_Inc_Bin', 'Rent_Housing_Mort_Higher_Share_Inc_Bin',\n",
    "            'Mort_Housing_Rent_Higher_Bin', 'Mort_Housing_Rent_Higher_Inc_Bin', \n",
    "            'Mort_Housing_Rent_Higher_Share_Inc_Bin', 'Mort_Housing_Mort_Higher_Bin', \n",
    "            'Mort_Housing_Mort_Higher_Inc_Bin', 'Mort_Housing_Mort_Higher_Share_Inc_Bin']:\n",
    "    df = dfs[counter]\n",
    "    df[col] = [int(round(i/divs[counter])*divs[counter]) for i in df[col].values]\n",
    "    vals_dict = {}\n",
    "    for val in df[col].dropna().unique():\n",
    "        bin_fips = df.FIPS[df[col] == val].values\n",
    "        vals_dict[val] = len(bin_fips)\n",
    "        \n",
    "        dataframe = pd.DataFrame(vals_dict.items())\n",
    "        dataframe.columns = ['Bin', 'Count']\n",
    "    rent_dict[col] = dataframe\n",
    "    counter += 1"
   ]
  },
  {
   "cell_type": "markdown",
   "metadata": {},
   "source": [
    "### Income Devoted to Housing"
   ]
  },
  {
   "cell_type": "code",
   "execution_count": 511,
   "metadata": {},
   "outputs": [
    {
     "data": {
      "text/plain": [
       "1396"
      ]
     },
     "execution_count": 511,
     "metadata": {},
     "output_type": "execute_result"
    }
   ],
   "source": [
    "rent_dict['Mort_Housing_Rent_Higher_Bin'].Count.sum()"
   ]
  },
  {
   "cell_type": "markdown",
   "metadata": {},
   "source": [
    "#### (1) Renters:"
   ]
  },
  {
   "cell_type": "code",
   "execution_count": 90,
   "metadata": {},
   "outputs": [],
   "source": [
    "%run chart_theme.py"
   ]
  },
  {
   "cell_type": "code",
   "execution_count": 516,
   "metadata": {},
   "outputs": [],
   "source": [
    "charts_dict = {}\n",
    "keys = ['Rent_Housing_Rent_Higher_Bin', 'Mort_Housing_Rent_Higher_Bin', 'Rent_Housing_Mort_Higher_Bin', 'Mort_Housing_Mort_Higher_Bin']\n",
    "titles = ['Monthly Renter Housing Expense', 'Monthly Homeowner Housing Expense','','']\n",
    "y_titles = ['Counties where renting is more expensive than owning']*2 + ['Counties where owning is more expensive than renting']*2\n",
    "opacities = [.8,0]*2\n",
    "y_paddings = [55,0]*2\n",
    "colors = ['#cede54','#97c2f2']*2\n",
    "y_texts = [0,500,0,500]\n",
    "counter = 0\n",
    "for key in keys:\n",
    "    df = rent_dict[key]\n",
    "    chart = alt.Chart(df[df.Bin < 2200], title=titles[counter]\n",
    "                     ).mark_bar(size=12, color=colors[counter]\n",
    "                               ).encode(x=alt.X('Bin', title='', \n",
    "                                                axis=alt.Axis(values=list(range(800,2400,400)), titleY=35, titleOpacity=.8, titleFontWeight='bold',\n",
    "                                                              labelOpacity=.7, labelFontSize=28, format='a'), \n",
    "                                                scale=alt.Scale(domain=[400,2000])), \n",
    "                                        y=alt.Y('Count', title=y_titles[counter], \n",
    "                                                axis=alt.Axis(values=list(range(80,240,80)), titleX=-y_paddings[counter], titleY=40, titleOpacity=.8, titleFontSize=32,\n",
    "                                                              labelOpacity=opacities[counter], labelPadding=y_paddings[counter], labelFontSize=28),\n",
    "                                                scale=alt.Scale(domain=[0,300])))\n",
    "\n",
    "    text_df = pd.DataFrame({'x':[400,275,1310,2460], 'y':[0,240,240,270], 'text':['$400','240 counties','_'*85,285]})\n",
    "    x_text = alt.Chart(text_df.query('x==400')).mark_text(dx=0, dy=26.5, fontSize=28, font='lato', opacity=.8).encode(x='x', y='y', text='text')\n",
    "    y_text = alt.Chart(text_df.query('x==275')).mark_text(dx=y_texts[counter], dy=0, fontSize=28, font='lato', opacity=opacities[counter]).encode(x='x', y='y', text='text')\n",
    "    line = alt.Chart(text_df.query('x==1310')).mark_text(dx=20, dy=-4, opacity=.09, fontSize=11.5, fontWeight='bold').encode(x=alt.X('x', scale=alt.Scale(domain=[300,1000])), y='y', text='text')\n",
    "    chart_spacing = alt.Chart(text_df.query('x==2460')).mark_rule(opacity=0, size=3).encode(x='x', y='y', y2='text')\n",
    "\n",
    "    combined = (line + chart + x_text + y_text + chart_spacing).properties(width=650, height=500)\n",
    "    charts_dict[counter] = combined\n",
    "    #combined.save(keys[counter] + str(counter) + '.png', scale_factor=6)\n",
    "    counter += 1"
   ]
  },
  {
   "cell_type": "code",
   "execution_count": 517,
   "metadata": {},
   "outputs": [],
   "source": [
    "renter_owner_hous_exp_charts1 = charts_dict[0] | charts_dict[1]\n",
    "renter_owner_hous_exp_charts2 = charts_dict[2] | charts_dict[3]"
   ]
  },
  {
   "cell_type": "code",
   "execution_count": 518,
   "metadata": {},
   "outputs": [
    {
     "data": {
      "text/html": [
       "\n",
       "<div id=\"altair-viz-178\"></div>\n",
       "<script type=\"text/javascript\">\n",
       "  (function(spec, embedOpt){\n",
       "    const outputDiv = document.getElementById(\"altair-viz-178\");\n",
       "    const paths = {\n",
       "      \"vega\": \"https://cdn.jsdelivr.net/npm//vega@5?noext\",\n",
       "      \"vega-lib\": \"https://cdn.jsdelivr.net/npm//vega-lib?noext\",\n",
       "      \"vega-lite\": \"https://cdn.jsdelivr.net/npm//vega-lite@4.0.0?noext\",\n",
       "      \"vega-embed\": \"https://cdn.jsdelivr.net/npm//vega-embed@6?noext\",\n",
       "    };\n",
       "\n",
       "    function loadScript(lib) {\n",
       "      return new Promise(function(resolve, reject) {\n",
       "        var s = document.createElement('script');\n",
       "        s.src = paths[lib];\n",
       "        s.async = true;\n",
       "        s.onload = () => resolve(paths[lib]);\n",
       "        s.onerror = () => reject(`Error loading script: ${paths[lib]}`);\n",
       "        document.getElementsByTagName(\"head\")[0].appendChild(s);\n",
       "      });\n",
       "    }\n",
       "\n",
       "    function showError(err) {\n",
       "      outputDiv.innerHTML = `<div class=\"error\" style=\"color:red;\">${err}</div>`;\n",
       "      throw err;\n",
       "    }\n",
       "\n",
       "    function displayChart(vegaEmbed) {\n",
       "      vegaEmbed(outputDiv, spec, embedOpt)\n",
       "        .catch(err => showError(`Javascript Error: ${err.message}<br>This usually means there's a typo in your chart specification. See the javascript console for the full traceback.`));\n",
       "    }\n",
       "\n",
       "    if(typeof define === \"function\" && define.amd) {\n",
       "      requirejs.config({paths});\n",
       "      require([\"vega-embed\"], displayChart, err => showError(`Error loading script: ${err.message}`));\n",
       "    } else if (typeof vegaEmbed === \"function\") {\n",
       "      displayChart(vegaEmbed);\n",
       "    } else {\n",
       "      loadScript(\"vega\")\n",
       "        .then(() => loadScript(\"vega-lite\"))\n",
       "        .then(() => loadScript(\"vega-embed\"))\n",
       "        .catch(showError)\n",
       "        .then(() => displayChart(vegaEmbed));\n",
       "    }\n",
       "  })({\"width\": 600, \"height\": 400, \"background\": \"white\", \"config\": {\"title\": {\"fontWeight\": \"normal\", \"fontSize\": 36, \"anchor\": \"start\", \"font\": \"Lato\", \"offset\": 5}, \"axisX\": {\"grid\": false, \"labelFont\": \"Lato\", \"labelFontSize\": 16, \"labelAngle\": 0, \"labelPadding\": 10, \"ticks\": false, \"tickSize\": 5, \"title\": null, \"titleFont\": \"Lato\", \"titleFontSize\": 16, \"titleFontWeight\": \"normal\", \"titleY\": 30, \"titleX\": 280}, \"axisY\": {\"grid\": true, \"gridOpacity\": 1, \"labelFont\": \"Lato\", \"labelFontSize\": 16, \"labelLimit\": 100, \"labelAlign\": \"left\", \"labelPadding\": 20, \"ticks\": false, \"title\": null, \"titleFont\": \"Lato\", \"titleFontWeight\": \"normal\", \"titleFontSize\": 16, \"titleAlign\": \"left\", \"titleAngle\": 0, \"titleY\": -20, \"titleX\": -20, \"domainWidth\": 0}, \"view\": {\"strokeOpacity\": 0}}, \"hconcat\": [{\"layer\": [{\"data\": {\"name\": \"data-c4768ee5e94115f588d5453328b044bf\"}, \"mark\": {\"type\": \"text\", \"dx\": 20, \"dy\": -4, \"fontSize\": 11.5, \"fontWeight\": \"bold\", \"opacity\": 0.09}, \"encoding\": {\"text\": {\"type\": \"nominal\", \"field\": \"text\"}, \"x\": {\"type\": \"quantitative\", \"field\": \"x\", \"scale\": {\"domain\": [300, 1000]}}, \"y\": {\"type\": \"quantitative\", \"field\": \"y\"}}}, {\"data\": {\"name\": \"data-79e3c1bf62d821641a063b2d78419e43\"}, \"mark\": {\"type\": \"bar\", \"color\": \"#cede54\", \"size\": 12}, \"encoding\": {\"x\": {\"type\": \"quantitative\", \"axis\": {\"format\": \"a\", \"labelFontSize\": 28, \"labelOpacity\": 0.7, \"titleFontWeight\": \"bold\", \"titleOpacity\": 0.8, \"titleY\": 35, \"values\": [800, 1200, 1600, 2000]}, \"field\": \"Bin\", \"scale\": {\"domain\": [400, 2000]}, \"title\": \"\"}, \"y\": {\"type\": \"quantitative\", \"axis\": {\"labelFontSize\": 28, \"labelOpacity\": 0.8, \"labelPadding\": 55, \"titleFontSize\": 32, \"titleOpacity\": 0.8, \"titleX\": -55, \"titleY\": 40, \"values\": [80, 160]}, \"field\": \"Count\", \"scale\": {\"domain\": [0, 300]}, \"title\": \"Counties where renting is more expensive than owning\"}}, \"title\": \"Monthly Renter Housing Expense\"}, {\"data\": {\"name\": \"data-b82407ff56bf3e563eb8b27ba0c29967\"}, \"mark\": {\"type\": \"text\", \"dx\": 0, \"dy\": 26.5, \"font\": \"lato\", \"fontSize\": 28, \"opacity\": 0.8}, \"encoding\": {\"text\": {\"type\": \"nominal\", \"field\": \"text\"}, \"x\": {\"type\": \"quantitative\", \"field\": \"x\"}, \"y\": {\"type\": \"quantitative\", \"field\": \"y\"}}}, {\"data\": {\"name\": \"data-bb3824c93b106eaeae888c69f500d9fc\"}, \"mark\": {\"type\": \"text\", \"dx\": 0, \"dy\": 0, \"font\": \"lato\", \"fontSize\": 28, \"opacity\": 0.8}, \"encoding\": {\"text\": {\"type\": \"nominal\", \"field\": \"text\"}, \"x\": {\"type\": \"quantitative\", \"field\": \"x\"}, \"y\": {\"type\": \"quantitative\", \"field\": \"y\"}}}, {\"data\": {\"name\": \"data-49d4aa12e7c63890045fa604713c97c3\"}, \"mark\": {\"type\": \"rule\", \"opacity\": 0, \"size\": 3}, \"encoding\": {\"x\": {\"type\": \"quantitative\", \"field\": \"x\"}, \"y\": {\"type\": \"quantitative\", \"field\": \"y\"}, \"y2\": {\"field\": \"text\"}}}], \"height\": 500, \"width\": 650}, {\"layer\": [{\"data\": {\"name\": \"data-c4768ee5e94115f588d5453328b044bf\"}, \"mark\": {\"type\": \"text\", \"dx\": 20, \"dy\": -4, \"fontSize\": 11.5, \"fontWeight\": \"bold\", \"opacity\": 0.09}, \"encoding\": {\"text\": {\"type\": \"nominal\", \"field\": \"text\"}, \"x\": {\"type\": \"quantitative\", \"field\": \"x\", \"scale\": {\"domain\": [300, 1000]}}, \"y\": {\"type\": \"quantitative\", \"field\": \"y\"}}}, {\"data\": {\"name\": \"data-bc528808dd810b62f88166c11a68df7f\"}, \"mark\": {\"type\": \"bar\", \"color\": \"#97c2f2\", \"size\": 12}, \"encoding\": {\"x\": {\"type\": \"quantitative\", \"axis\": {\"format\": \"a\", \"labelFontSize\": 28, \"labelOpacity\": 0.7, \"titleFontWeight\": \"bold\", \"titleOpacity\": 0.8, \"titleY\": 35, \"values\": [800, 1200, 1600, 2000]}, \"field\": \"Bin\", \"scale\": {\"domain\": [400, 2000]}, \"title\": \"\"}, \"y\": {\"type\": \"quantitative\", \"axis\": {\"labelFontSize\": 28, \"labelOpacity\": 0, \"labelPadding\": 0, \"titleFontSize\": 32, \"titleOpacity\": 0.8, \"titleX\": 0, \"titleY\": 40, \"values\": [80, 160]}, \"field\": \"Count\", \"scale\": {\"domain\": [0, 300]}, \"title\": \"Counties where renting is more expensive than owning\"}}, \"title\": \"Monthly Homeowner Housing Expense\"}, {\"data\": {\"name\": \"data-b82407ff56bf3e563eb8b27ba0c29967\"}, \"mark\": {\"type\": \"text\", \"dx\": 0, \"dy\": 26.5, \"font\": \"lato\", \"fontSize\": 28, \"opacity\": 0.8}, \"encoding\": {\"text\": {\"type\": \"nominal\", \"field\": \"text\"}, \"x\": {\"type\": \"quantitative\", \"field\": \"x\"}, \"y\": {\"type\": \"quantitative\", \"field\": \"y\"}}}, {\"data\": {\"name\": \"data-bb3824c93b106eaeae888c69f500d9fc\"}, \"mark\": {\"type\": \"text\", \"dx\": 500, \"dy\": 0, \"font\": \"lato\", \"fontSize\": 28, \"opacity\": 0}, \"encoding\": {\"text\": {\"type\": \"nominal\", \"field\": \"text\"}, \"x\": {\"type\": \"quantitative\", \"field\": \"x\"}, \"y\": {\"type\": \"quantitative\", \"field\": \"y\"}}}, {\"data\": {\"name\": \"data-49d4aa12e7c63890045fa604713c97c3\"}, \"mark\": {\"type\": \"rule\", \"opacity\": 0, \"size\": 3}, \"encoding\": {\"x\": {\"type\": \"quantitative\", \"field\": \"x\"}, \"y\": {\"type\": \"quantitative\", \"field\": \"y\"}, \"y2\": {\"field\": \"text\"}}}], \"height\": 500, \"width\": 650}], \"$schema\": \"https://vega.github.io/schema/vega-lite/v4.0.0.json\", \"datasets\": {\"data-c4768ee5e94115f588d5453328b044bf\": [{\"x\": 1310, \"y\": 240, \"text\": \"_____________________________________________________________________________________\"}], \"data-79e3c1bf62d821641a063b2d78419e43\": [{\"Bin\": 960, \"Count\": 29}, {\"Bin\": 600, \"Count\": 176}, {\"Bin\": 720, \"Count\": 155}, {\"Bin\": 680, \"Count\": 202}, {\"Bin\": 520, \"Count\": 81}, {\"Bin\": 560, \"Count\": 140}, {\"Bin\": 800, \"Count\": 79}, {\"Bin\": 640, \"Count\": 236}, {\"Bin\": 760, \"Count\": 95}, {\"Bin\": 840, \"Count\": 51}, {\"Bin\": 1000, \"Count\": 17}, {\"Bin\": 1320, \"Count\": 4}, {\"Bin\": 1280, \"Count\": 3}, {\"Bin\": 880, \"Count\": 35}, {\"Bin\": 1080, \"Count\": 6}, {\"Bin\": 1240, \"Count\": 3}, {\"Bin\": 1040, \"Count\": 9}, {\"Bin\": 480, \"Count\": 29}, {\"Bin\": 1120, \"Count\": 7}, {\"Bin\": 920, \"Count\": 21}, {\"Bin\": 440, \"Count\": 6}, {\"Bin\": 1160, \"Count\": 5}, {\"Bin\": 1600, \"Count\": 1}, {\"Bin\": 1200, \"Count\": 3}, {\"Bin\": 360, \"Count\": 1}, {\"Bin\": 400, \"Count\": 2}], \"data-b82407ff56bf3e563eb8b27ba0c29967\": [{\"x\": 400, \"y\": 0, \"text\": \"$400\"}], \"data-bb3824c93b106eaeae888c69f500d9fc\": [{\"x\": 275, \"y\": 240, \"text\": \"240 counties\"}], \"data-49d4aa12e7c63890045fa604713c97c3\": [{\"x\": 2460, \"y\": 270, \"text\": 285}], \"data-bc528808dd810b62f88166c11a68df7f\": [{\"Bin\": 880, \"Count\": 14}, {\"Bin\": 920, \"Count\": 19}, {\"Bin\": 520, \"Count\": 168}, {\"Bin\": 600, \"Count\": 170}, {\"Bin\": 560, \"Count\": 188}, {\"Bin\": 640, \"Count\": 138}, {\"Bin\": 480, \"Count\": 186}, {\"Bin\": 440, \"Count\": 117}, {\"Bin\": 400, \"Count\": 70}, {\"Bin\": 720, \"Count\": 55}, {\"Bin\": 360, \"Count\": 37}, {\"Bin\": 680, \"Count\": 97}, {\"Bin\": 840, \"Count\": 31}, {\"Bin\": 1120, \"Count\": 3}, {\"Bin\": 760, \"Count\": 37}, {\"Bin\": 800, \"Count\": 29}, {\"Bin\": 240, \"Count\": 1}, {\"Bin\": 1080, \"Count\": 5}, {\"Bin\": 1000, \"Count\": 5}, {\"Bin\": 1320, \"Count\": 1}, {\"Bin\": 1040, \"Count\": 2}, {\"Bin\": 1200, \"Count\": 2}, {\"Bin\": 960, \"Count\": 7}, {\"Bin\": 1360, \"Count\": 1}, {\"Bin\": 320, \"Count\": 7}, {\"Bin\": 280, \"Count\": 4}, {\"Bin\": 1160, \"Count\": 2}]}}, {\"mode\": \"vega-lite\"});\n",
       "</script>"
      ],
      "text/plain": [
       "alt.HConcatChart(...)"
      ]
     },
     "execution_count": 518,
     "metadata": {},
     "output_type": "execute_result"
    }
   ],
   "source": [
    "renter_owner_hous_exp_charts1"
   ]
  },
  {
   "cell_type": "code",
   "execution_count": 508,
   "metadata": {},
   "outputs": [
    {
     "data": {
      "text/html": [
       "\n",
       "<div id=\"altair-viz-175\"></div>\n",
       "<script type=\"text/javascript\">\n",
       "  (function(spec, embedOpt){\n",
       "    const outputDiv = document.getElementById(\"altair-viz-175\");\n",
       "    const paths = {\n",
       "      \"vega\": \"https://cdn.jsdelivr.net/npm//vega@5?noext\",\n",
       "      \"vega-lib\": \"https://cdn.jsdelivr.net/npm//vega-lib?noext\",\n",
       "      \"vega-lite\": \"https://cdn.jsdelivr.net/npm//vega-lite@4.0.0?noext\",\n",
       "      \"vega-embed\": \"https://cdn.jsdelivr.net/npm//vega-embed@6?noext\",\n",
       "    };\n",
       "\n",
       "    function loadScript(lib) {\n",
       "      return new Promise(function(resolve, reject) {\n",
       "        var s = document.createElement('script');\n",
       "        s.src = paths[lib];\n",
       "        s.async = true;\n",
       "        s.onload = () => resolve(paths[lib]);\n",
       "        s.onerror = () => reject(`Error loading script: ${paths[lib]}`);\n",
       "        document.getElementsByTagName(\"head\")[0].appendChild(s);\n",
       "      });\n",
       "    }\n",
       "\n",
       "    function showError(err) {\n",
       "      outputDiv.innerHTML = `<div class=\"error\" style=\"color:red;\">${err}</div>`;\n",
       "      throw err;\n",
       "    }\n",
       "\n",
       "    function displayChart(vegaEmbed) {\n",
       "      vegaEmbed(outputDiv, spec, embedOpt)\n",
       "        .catch(err => showError(`Javascript Error: ${err.message}<br>This usually means there's a typo in your chart specification. See the javascript console for the full traceback.`));\n",
       "    }\n",
       "\n",
       "    if(typeof define === \"function\" && define.amd) {\n",
       "      requirejs.config({paths});\n",
       "      require([\"vega-embed\"], displayChart, err => showError(`Error loading script: ${err.message}`));\n",
       "    } else if (typeof vegaEmbed === \"function\") {\n",
       "      displayChart(vegaEmbed);\n",
       "    } else {\n",
       "      loadScript(\"vega\")\n",
       "        .then(() => loadScript(\"vega-lite\"))\n",
       "        .then(() => loadScript(\"vega-embed\"))\n",
       "        .catch(showError)\n",
       "        .then(() => displayChart(vegaEmbed));\n",
       "    }\n",
       "  })({\"width\": 600, \"height\": 400, \"background\": \"white\", \"config\": {\"title\": {\"fontWeight\": \"normal\", \"fontSize\": 36, \"anchor\": \"start\", \"font\": \"Lato\", \"offset\": 5}, \"axisX\": {\"grid\": false, \"labelFont\": \"Lato\", \"labelFontSize\": 16, \"labelAngle\": 0, \"labelPadding\": 10, \"ticks\": false, \"tickSize\": 5, \"title\": null, \"titleFont\": \"Lato\", \"titleFontSize\": 16, \"titleFontWeight\": \"normal\", \"titleY\": 30, \"titleX\": 280}, \"axisY\": {\"grid\": true, \"gridOpacity\": 1, \"labelFont\": \"Lato\", \"labelFontSize\": 16, \"labelLimit\": 100, \"labelAlign\": \"left\", \"labelPadding\": 20, \"ticks\": false, \"title\": null, \"titleFont\": \"Lato\", \"titleFontWeight\": \"normal\", \"titleFontSize\": 16, \"titleAlign\": \"left\", \"titleAngle\": 0, \"titleY\": -20, \"titleX\": -20, \"domainWidth\": 0}, \"view\": {\"strokeOpacity\": 0}}, \"hconcat\": [{\"layer\": [{\"data\": {\"name\": \"data-c4768ee5e94115f588d5453328b044bf\"}, \"mark\": {\"type\": \"text\", \"dx\": 20, \"dy\": -4, \"fontSize\": 11.5, \"fontWeight\": \"bold\", \"opacity\": 0.09}, \"encoding\": {\"text\": {\"type\": \"nominal\", \"field\": \"text\"}, \"x\": {\"type\": \"quantitative\", \"field\": \"x\", \"scale\": {\"domain\": [300, 1000]}}, \"y\": {\"type\": \"quantitative\", \"field\": \"y\"}}}, {\"data\": {\"name\": \"data-596de39fc94a253e2e591e00b4e5483c\"}, \"mark\": {\"type\": \"bar\", \"color\": \"#cede54\", \"size\": 12}, \"encoding\": {\"x\": {\"type\": \"quantitative\", \"axis\": {\"format\": \"a\", \"labelFontSize\": 28, \"labelOpacity\": 0.7, \"titleFontWeight\": \"bold\", \"titleOpacity\": 0.8, \"titleY\": 35, \"values\": [800, 1200, 1600, 2000]}, \"field\": \"Bin\", \"scale\": {\"domain\": [400, 2000]}, \"title\": \"\"}, \"y\": {\"type\": \"quantitative\", \"axis\": {\"labelFontSize\": 28, \"labelOpacity\": 0.8, \"labelPadding\": 55, \"titleFontSize\": 32, \"titleOpacity\": 0.8, \"titleX\": -55, \"titleY\": 40, \"values\": [80, 160]}, \"field\": \"Count\", \"scale\": {\"domain\": [0, 300]}, \"title\": \"Counties where owning is more expensive than renting\"}}, \"title\": \"\"}, {\"data\": {\"name\": \"data-b82407ff56bf3e563eb8b27ba0c29967\"}, \"mark\": {\"type\": \"text\", \"dx\": 0, \"dy\": 26.5, \"font\": \"lato\", \"fontSize\": 28, \"opacity\": 0.8}, \"encoding\": {\"text\": {\"type\": \"nominal\", \"field\": \"text\"}, \"x\": {\"type\": \"quantitative\", \"field\": \"x\"}, \"y\": {\"type\": \"quantitative\", \"field\": \"y\"}}}, {\"data\": {\"name\": \"data-bb3824c93b106eaeae888c69f500d9fc\"}, \"mark\": {\"type\": \"text\", \"dx\": 0, \"dy\": 0, \"font\": \"lato\", \"fontSize\": 28, \"opacity\": 0.8}, \"encoding\": {\"text\": {\"type\": \"nominal\", \"field\": \"text\"}, \"x\": {\"type\": \"quantitative\", \"field\": \"x\"}, \"y\": {\"type\": \"quantitative\", \"field\": \"y\"}}}, {\"data\": {\"name\": \"data-49d4aa12e7c63890045fa604713c97c3\"}, \"mark\": {\"type\": \"rule\", \"opacity\": 0, \"size\": 3}, \"encoding\": {\"x\": {\"type\": \"quantitative\", \"field\": \"x\"}, \"y\": {\"type\": \"quantitative\", \"field\": \"y\"}, \"y2\": {\"field\": \"text\"}}}], \"height\": 500, \"width\": 650}, {\"layer\": [{\"data\": {\"name\": \"data-c4768ee5e94115f588d5453328b044bf\"}, \"mark\": {\"type\": \"text\", \"dx\": 20, \"dy\": -4, \"fontSize\": 11.5, \"fontWeight\": \"bold\", \"opacity\": 0.09}, \"encoding\": {\"text\": {\"type\": \"nominal\", \"field\": \"text\"}, \"x\": {\"type\": \"quantitative\", \"field\": \"x\", \"scale\": {\"domain\": [300, 1000]}}, \"y\": {\"type\": \"quantitative\", \"field\": \"y\"}}}, {\"data\": {\"name\": \"data-e94130014b32cf3d4736fce0bcfdf83e\"}, \"mark\": {\"type\": \"bar\", \"color\": \"#97c2f2\", \"size\": 12}, \"encoding\": {\"x\": {\"type\": \"quantitative\", \"axis\": {\"format\": \"a\", \"labelFontSize\": 28, \"labelOpacity\": 0.7, \"titleFontWeight\": \"bold\", \"titleOpacity\": 0.8, \"titleY\": 35, \"values\": [800, 1200, 1600, 2000]}, \"field\": \"Bin\", \"scale\": {\"domain\": [400, 2000]}, \"title\": \"\"}, \"y\": {\"type\": \"quantitative\", \"axis\": {\"labelFontSize\": 28, \"labelOpacity\": 0, \"labelPadding\": 0, \"titleFontSize\": 32, \"titleOpacity\": 0.8, \"titleX\": 0, \"titleY\": 40, \"values\": [80, 160]}, \"field\": \"Count\", \"scale\": {\"domain\": [0, 300]}, \"title\": \"Counties where renting is more expensive than owning\"}}, \"title\": \"\"}, {\"data\": {\"name\": \"data-b82407ff56bf3e563eb8b27ba0c29967\"}, \"mark\": {\"type\": \"text\", \"dx\": 0, \"dy\": 26.5, \"font\": \"lato\", \"fontSize\": 28, \"opacity\": 0.8}, \"encoding\": {\"text\": {\"type\": \"nominal\", \"field\": \"text\"}, \"x\": {\"type\": \"quantitative\", \"field\": \"x\"}, \"y\": {\"type\": \"quantitative\", \"field\": \"y\"}}}, {\"data\": {\"name\": \"data-bb3824c93b106eaeae888c69f500d9fc\"}, \"mark\": {\"type\": \"text\", \"dx\": 500, \"dy\": 0, \"font\": \"lato\", \"fontSize\": 28, \"opacity\": 0}, \"encoding\": {\"text\": {\"type\": \"nominal\", \"field\": \"text\"}, \"x\": {\"type\": \"quantitative\", \"field\": \"x\"}, \"y\": {\"type\": \"quantitative\", \"field\": \"y\"}}}, {\"data\": {\"name\": \"data-49d4aa12e7c63890045fa604713c97c3\"}, \"mark\": {\"type\": \"rule\", \"opacity\": 0, \"size\": 3}, \"encoding\": {\"x\": {\"type\": \"quantitative\", \"field\": \"x\"}, \"y\": {\"type\": \"quantitative\", \"field\": \"y\"}, \"y2\": {\"field\": \"text\"}}}], \"height\": 500, \"width\": 650}], \"$schema\": \"https://vega.github.io/schema/vega-lite/v4.0.0.json\", \"datasets\": {\"data-c4768ee5e94115f588d5453328b044bf\": [{\"x\": 1310, \"y\": 240, \"text\": \"_____________________________________________________________________________________\"}], \"data-596de39fc94a253e2e591e00b4e5483c\": [{\"Bin\": 560, \"Count\": 89}, {\"Bin\": 880, \"Count\": 82}, {\"Bin\": 520, \"Count\": 45}, {\"Bin\": 400, \"Count\": 9}, {\"Bin\": 640, \"Count\": 155}, {\"Bin\": 840, \"Count\": 81}, {\"Bin\": 440, \"Count\": 17}, {\"Bin\": 760, \"Count\": 156}, {\"Bin\": 1040, \"Count\": 46}, {\"Bin\": 1320, \"Count\": 9}, {\"Bin\": 1280, \"Count\": 20}, {\"Bin\": 920, \"Count\": 60}, {\"Bin\": 1240, \"Count\": 19}, {\"Bin\": 1000, \"Count\": 47}, {\"Bin\": 1160, \"Count\": 25}, {\"Bin\": 1360, \"Count\": 7}, {\"Bin\": 1120, \"Count\": 35}, {\"Bin\": 1080, \"Count\": 30}, {\"Bin\": 680, \"Count\": 205}, {\"Bin\": 800, \"Count\": 112}, {\"Bin\": 360, \"Count\": 4}, {\"Bin\": 480, \"Count\": 24}, {\"Bin\": 600, \"Count\": 118}, {\"Bin\": 1680, \"Count\": 7}, {\"Bin\": 1720, \"Count\": 5}, {\"Bin\": 1200, \"Count\": 24}, {\"Bin\": 960, \"Count\": 63}, {\"Bin\": 1400, \"Count\": 11}, {\"Bin\": 1960, \"Count\": 1}, {\"Bin\": 1640, \"Count\": 3}, {\"Bin\": 1760, \"Count\": 3}, {\"Bin\": 1480, \"Count\": 10}, {\"Bin\": 1560, \"Count\": 7}, {\"Bin\": 1800, \"Count\": 2}, {\"Bin\": 2160, \"Count\": 1}, {\"Bin\": 2120, \"Count\": 1}, {\"Bin\": 1600, \"Count\": 3}, {\"Bin\": 1520, \"Count\": 4}, {\"Bin\": 720, \"Count\": 163}, {\"Bin\": 320, \"Count\": 2}, {\"Bin\": 1440, \"Count\": 7}, {\"Bin\": 1920, \"Count\": 1}, {\"Bin\": 1840, \"Count\": 2}, {\"Bin\": 1880, \"Count\": 1}], \"data-b82407ff56bf3e563eb8b27ba0c29967\": [{\"x\": 400, \"y\": 0, \"text\": \"$400\"}], \"data-bb3824c93b106eaeae888c69f500d9fc\": [{\"x\": 275, \"y\": 240, \"text\": \"240 counties\"}], \"data-49d4aa12e7c63890045fa604713c97c3\": [{\"x\": 2460, \"y\": 270, \"text\": 285}], \"data-e94130014b32cf3d4736fce0bcfdf83e\": [{\"Bin\": 560, \"Count\": 35}, {\"Bin\": 920, \"Count\": 93}, {\"Bin\": 520, \"Count\": 19}, {\"Bin\": 960, \"Count\": 78}, {\"Bin\": 400, \"Count\": 4}, {\"Bin\": 680, \"Count\": 131}, {\"Bin\": 880, \"Count\": 104}, {\"Bin\": 800, \"Count\": 100}, {\"Bin\": 1000, \"Count\": 72}, {\"Bin\": 640, \"Count\": 98}, {\"Bin\": 1160, \"Count\": 42}, {\"Bin\": 1720, \"Count\": 10}, {\"Bin\": 1520, \"Count\": 15}, {\"Bin\": 1040, \"Count\": 46}, {\"Bin\": 1760, \"Count\": 11}, {\"Bin\": 1360, \"Count\": 23}, {\"Bin\": 1560, \"Count\": 11}, {\"Bin\": 1440, \"Count\": 12}, {\"Bin\": 1120, \"Count\": 49}, {\"Bin\": 1280, \"Count\": 33}, {\"Bin\": 1200, \"Count\": 42}, {\"Bin\": 840, \"Count\": 113}, {\"Bin\": 720, \"Count\": 128}, {\"Bin\": 480, \"Count\": 14}, {\"Bin\": 2120, \"Count\": 2}, {\"Bin\": 1240, \"Count\": 27}, {\"Bin\": 1080, \"Count\": 53}, {\"Bin\": 1960, \"Count\": 6}, {\"Bin\": 1400, \"Count\": 18}, {\"Bin\": 1640, \"Count\": 9}, {\"Bin\": 1880, \"Count\": 4}, {\"Bin\": 2160, \"Count\": 3}, {\"Bin\": 1840, \"Count\": 9}, {\"Bin\": 2080, \"Count\": 4}, {\"Bin\": 2000, \"Count\": 2}, {\"Bin\": 1480, \"Count\": 14}, {\"Bin\": 1800, \"Count\": 7}, {\"Bin\": 1320, \"Count\": 29}, {\"Bin\": 2040, \"Count\": 4}, {\"Bin\": 1680, \"Count\": 9}, {\"Bin\": 760, \"Count\": 129}, {\"Bin\": 1600, \"Count\": 14}, {\"Bin\": 440, \"Count\": 6}, {\"Bin\": 600, \"Count\": 56}, {\"Bin\": 1920, \"Count\": 3}]}}, {\"mode\": \"vega-lite\"});\n",
       "</script>"
      ],
      "text/plain": [
       "alt.HConcatChart(...)"
      ]
     },
     "execution_count": 508,
     "metadata": {},
     "output_type": "execute_result"
    }
   ],
   "source": [
    "renter_owner_hous_exp_charts2"
   ]
  },
  {
   "cell_type": "code",
   "execution_count": 519,
   "metadata": {},
   "outputs": [],
   "source": [
    "renter_owner_hous_exp_charts1.save('renter_owner_hous_exp1.svg')\n",
    "renter_owner_hous_exp_charts2.save('renter_owner_hous_exp2.svg')"
   ]
  },
  {
   "cell_type": "code",
   "execution_count": 404,
   "metadata": {},
   "outputs": [],
   "source": [
    "#renter_owner_hous_exp_charts = (charts_dict[0] | charts_dict[3]) & (charts_dict[2] | charts_dict[1])\n",
    "#renter_owner_hous_exp_charts"
   ]
  },
  {
   "cell_type": "markdown",
   "metadata": {},
   "source": [
    "---"
   ]
  },
  {
   "cell_type": "markdown",
   "metadata": {},
   "source": [
    "#### (2) Homeowners"
   ]
  },
  {
   "cell_type": "code",
   "execution_count": 529,
   "metadata": {},
   "outputs": [],
   "source": [
    "charts_dict = {}\n",
    "keys = ['Rent_Housing_Rent_Higher_Share_Inc_Bin', 'Mort_Housing_Rent_Higher_Share_Inc_Bin', 'Rent_Housing_Mort_Higher_Share_Inc_Bin', 'Mort_Housing_Mort_Higher_Share_Inc_Bin']\n",
    "titles = ['Renter Income Devoted to Housing', 'Homeowner Income Devoted to Housing','','']\n",
    "y_titles = ['Counties where renting is more expensive than owning']*2 + ['Counties where owning is more expensive than renting']*2\n",
    "opacities = [.8,0]*2\n",
    "colors = ['#cede54','#97c2f2']*2\n",
    "vals = [list(range(10,60,10)), list(range(10,30,5))]*2\n",
    "counter = 0\n",
    "for key in keys:\n",
    "    df = rent_dict[key]\n",
    "    chart = alt.Chart(df, title=titles[counter]\n",
    "                     ).mark_bar(size=14, color=colors[counter]\n",
    "                           ).encode(x=alt.X('Bin', \n",
    "                                            axis=alt.Axis(values=vals[counter], labelFontSize=32, labelOpacity=.7),\n",
    "                                            scale=alt.Scale(domain=[10,50])), \n",
    "                                    y=alt.Y('Count', title=y_titles[counter], \n",
    "                                            axis=alt.Axis(values=list(range(100,300,100)), \n",
    "                                                          titleX=-60, titleY=0, titleOpacity=.8, titleFontSize=36, \n",
    "                                                          labelPadding=60, labelFontSize=32, labelOpacity=opacities[counter]), \n",
    "                                            scale=alt.Scale(domain=[0,350])))\n",
    "\n",
    "    text_df = pd.DataFrame({'x':[34,6,7,60], 'y':[300,0,300,0], 'text':['_'*94, '5%', '300 counties',-50]})\n",
    "    line = alt.Chart(text_df.query('x==34')).mark_text(dx=-7, dy=-4, opacity=.09, fontSize=11.5, fontWeight='bold').encode(x=alt.X('x', scale=alt.Scale(domain=[10,50])), y='y', text='text')\n",
    "    x_text = alt.Chart(text_df.query('x==6')).mark_text(dx=-5, dy=26.5, fontSize=32, font='lato', opacity=.7).encode(x='x', y='y', text='text')\n",
    "    y_text = alt.Chart(text_df.query('x==7')).mark_text(dx=2, dy=0, fontSize=32, font='lato', opacity=opacities[counter]).encode(x='x', y='y', text='text')\n",
    "    chart_spacing = alt.Chart(text_df.query('x==60')).mark_rule(opacity=0, size=3).encode(x='x', y='y', y2='text')\n",
    "    \n",
    "    combined = (line + chart + x_text + y_text + chart_spacing).properties(width=750, height=450)\n",
    "    charts_dict[counter] = combined\n",
    "    #combined.save(keys[counter] + str(counter) + '.png', scale_factor=6)\n",
    "    counter += 1"
   ]
  },
  {
   "cell_type": "code",
   "execution_count": 530,
   "metadata": {},
   "outputs": [
    {
     "data": {
      "text/html": [
       "\n",
       "<div id=\"altair-viz-183\"></div>\n",
       "<script type=\"text/javascript\">\n",
       "  (function(spec, embedOpt){\n",
       "    const outputDiv = document.getElementById(\"altair-viz-183\");\n",
       "    const paths = {\n",
       "      \"vega\": \"https://cdn.jsdelivr.net/npm//vega@5?noext\",\n",
       "      \"vega-lib\": \"https://cdn.jsdelivr.net/npm//vega-lib?noext\",\n",
       "      \"vega-lite\": \"https://cdn.jsdelivr.net/npm//vega-lite@4.0.0?noext\",\n",
       "      \"vega-embed\": \"https://cdn.jsdelivr.net/npm//vega-embed@6?noext\",\n",
       "    };\n",
       "\n",
       "    function loadScript(lib) {\n",
       "      return new Promise(function(resolve, reject) {\n",
       "        var s = document.createElement('script');\n",
       "        s.src = paths[lib];\n",
       "        s.async = true;\n",
       "        s.onload = () => resolve(paths[lib]);\n",
       "        s.onerror = () => reject(`Error loading script: ${paths[lib]}`);\n",
       "        document.getElementsByTagName(\"head\")[0].appendChild(s);\n",
       "      });\n",
       "    }\n",
       "\n",
       "    function showError(err) {\n",
       "      outputDiv.innerHTML = `<div class=\"error\" style=\"color:red;\">${err}</div>`;\n",
       "      throw err;\n",
       "    }\n",
       "\n",
       "    function displayChart(vegaEmbed) {\n",
       "      vegaEmbed(outputDiv, spec, embedOpt)\n",
       "        .catch(err => showError(`Javascript Error: ${err.message}<br>This usually means there's a typo in your chart specification. See the javascript console for the full traceback.`));\n",
       "    }\n",
       "\n",
       "    if(typeof define === \"function\" && define.amd) {\n",
       "      requirejs.config({paths});\n",
       "      require([\"vega-embed\"], displayChart, err => showError(`Error loading script: ${err.message}`));\n",
       "    } else if (typeof vegaEmbed === \"function\") {\n",
       "      displayChart(vegaEmbed);\n",
       "    } else {\n",
       "      loadScript(\"vega\")\n",
       "        .then(() => loadScript(\"vega-lite\"))\n",
       "        .then(() => loadScript(\"vega-embed\"))\n",
       "        .catch(showError)\n",
       "        .then(() => displayChart(vegaEmbed));\n",
       "    }\n",
       "  })({\"width\": 600, \"height\": 400, \"background\": \"white\", \"config\": {\"title\": {\"fontWeight\": \"normal\", \"fontSize\": 36, \"anchor\": \"start\", \"font\": \"Lato\", \"offset\": 5}, \"axisX\": {\"grid\": false, \"labelFont\": \"Lato\", \"labelFontSize\": 16, \"labelAngle\": 0, \"labelPadding\": 10, \"ticks\": false, \"tickSize\": 5, \"title\": null, \"titleFont\": \"Lato\", \"titleFontSize\": 16, \"titleFontWeight\": \"normal\", \"titleY\": 30, \"titleX\": 280}, \"axisY\": {\"grid\": true, \"gridOpacity\": 1, \"labelFont\": \"Lato\", \"labelFontSize\": 16, \"labelLimit\": 100, \"labelAlign\": \"left\", \"labelPadding\": 20, \"ticks\": false, \"title\": null, \"titleFont\": \"Lato\", \"titleFontWeight\": \"normal\", \"titleFontSize\": 16, \"titleAlign\": \"left\", \"titleAngle\": 0, \"titleY\": -20, \"titleX\": -20, \"domainWidth\": 0}, \"view\": {\"strokeOpacity\": 0}}, \"vconcat\": [{\"hconcat\": [{\"layer\": [{\"data\": {\"name\": \"data-fd38aa270a86fc920126f3f6a09318a2\"}, \"mark\": {\"type\": \"text\", \"dx\": -7, \"dy\": -4, \"fontSize\": 11.5, \"fontWeight\": \"bold\", \"opacity\": 0.09}, \"encoding\": {\"text\": {\"type\": \"nominal\", \"field\": \"text\"}, \"x\": {\"type\": \"quantitative\", \"field\": \"x\", \"scale\": {\"domain\": [10, 50]}}, \"y\": {\"type\": \"quantitative\", \"field\": \"y\"}}}, {\"data\": {\"name\": \"data-21a4e5e6877e5696b40945bd7685b83b\"}, \"mark\": {\"type\": \"bar\", \"color\": \"#cede54\", \"size\": 14}, \"encoding\": {\"x\": {\"type\": \"quantitative\", \"axis\": {\"labelFontSize\": 32, \"labelOpacity\": 0.7, \"values\": [10, 20, 30, 40, 50]}, \"field\": \"Bin\", \"scale\": {\"domain\": [10, 50]}}, \"y\": {\"type\": \"quantitative\", \"axis\": {\"labelFontSize\": 32, \"labelOpacity\": 0.8, \"labelPadding\": 60, \"titleFontSize\": 36, \"titleOpacity\": 0.8, \"titleX\": -60, \"titleY\": 0, \"values\": [100, 200]}, \"field\": \"Count\", \"scale\": {\"domain\": [0, 350]}, \"title\": \"Counties where renting is more expensive than owning\"}}, \"title\": \"Renter Income Devoted to Housing\"}, {\"data\": {\"name\": \"data-fcbf7a1326e5a92c8e8b9df976c576ce\"}, \"mark\": {\"type\": \"text\", \"dx\": -5, \"dy\": 26.5, \"font\": \"lato\", \"fontSize\": 32, \"opacity\": 0.7}, \"encoding\": {\"text\": {\"type\": \"nominal\", \"field\": \"text\"}, \"x\": {\"type\": \"quantitative\", \"field\": \"x\"}, \"y\": {\"type\": \"quantitative\", \"field\": \"y\"}}}, {\"data\": {\"name\": \"data-2d68707734c2d1a91dbd64835181b593\"}, \"mark\": {\"type\": \"text\", \"dx\": 2, \"dy\": 0, \"font\": \"lato\", \"fontSize\": 32, \"opacity\": 0.8}, \"encoding\": {\"text\": {\"type\": \"nominal\", \"field\": \"text\"}, \"x\": {\"type\": \"quantitative\", \"field\": \"x\"}, \"y\": {\"type\": \"quantitative\", \"field\": \"y\"}}}, {\"data\": {\"name\": \"data-424f55aee202cd0ed0981d1fc9849fbe\"}, \"mark\": {\"type\": \"rule\", \"opacity\": 0, \"size\": 3}, \"encoding\": {\"x\": {\"type\": \"quantitative\", \"field\": \"x\"}, \"y\": {\"type\": \"quantitative\", \"field\": \"y\"}, \"y2\": {\"field\": \"text\"}}}], \"height\": 450, \"width\": 750}, {\"layer\": [{\"data\": {\"name\": \"data-fd38aa270a86fc920126f3f6a09318a2\"}, \"mark\": {\"type\": \"text\", \"dx\": -7, \"dy\": -4, \"fontSize\": 11.5, \"fontWeight\": \"bold\", \"opacity\": 0.09}, \"encoding\": {\"text\": {\"type\": \"nominal\", \"field\": \"text\"}, \"x\": {\"type\": \"quantitative\", \"field\": \"x\", \"scale\": {\"domain\": [10, 50]}}, \"y\": {\"type\": \"quantitative\", \"field\": \"y\"}}}, {\"data\": {\"name\": \"data-0d6653b94ecaec5ec23f116b6ccba55a\"}, \"mark\": {\"type\": \"bar\", \"color\": \"#97c2f2\", \"size\": 14}, \"encoding\": {\"x\": {\"type\": \"quantitative\", \"axis\": {\"labelFontSize\": 32, \"labelOpacity\": 0.7, \"values\": [10, 15, 20, 25]}, \"field\": \"Bin\", \"scale\": {\"domain\": [10, 50]}}, \"y\": {\"type\": \"quantitative\", \"axis\": {\"labelFontSize\": 32, \"labelOpacity\": 0, \"labelPadding\": 60, \"titleFontSize\": 36, \"titleOpacity\": 0.8, \"titleX\": -60, \"titleY\": 0, \"values\": [100, 200]}, \"field\": \"Count\", \"scale\": {\"domain\": [0, 350]}, \"title\": \"Counties where renting is more expensive than owning\"}}, \"title\": \"Homeowner Income Devoted to Housing\"}, {\"data\": {\"name\": \"data-fcbf7a1326e5a92c8e8b9df976c576ce\"}, \"mark\": {\"type\": \"text\", \"dx\": -5, \"dy\": 26.5, \"font\": \"lato\", \"fontSize\": 32, \"opacity\": 0.7}, \"encoding\": {\"text\": {\"type\": \"nominal\", \"field\": \"text\"}, \"x\": {\"type\": \"quantitative\", \"field\": \"x\"}, \"y\": {\"type\": \"quantitative\", \"field\": \"y\"}}}, {\"data\": {\"name\": \"data-2d68707734c2d1a91dbd64835181b593\"}, \"mark\": {\"type\": \"text\", \"dx\": 2, \"dy\": 0, \"font\": \"lato\", \"fontSize\": 32, \"opacity\": 0}, \"encoding\": {\"text\": {\"type\": \"nominal\", \"field\": \"text\"}, \"x\": {\"type\": \"quantitative\", \"field\": \"x\"}, \"y\": {\"type\": \"quantitative\", \"field\": \"y\"}}}, {\"data\": {\"name\": \"data-424f55aee202cd0ed0981d1fc9849fbe\"}, \"mark\": {\"type\": \"rule\", \"opacity\": 0, \"size\": 3}, \"encoding\": {\"x\": {\"type\": \"quantitative\", \"field\": \"x\"}, \"y\": {\"type\": \"quantitative\", \"field\": \"y\"}, \"y2\": {\"field\": \"text\"}}}], \"height\": 450, \"width\": 750}]}, {\"hconcat\": [{\"layer\": [{\"data\": {\"name\": \"data-fd38aa270a86fc920126f3f6a09318a2\"}, \"mark\": {\"type\": \"text\", \"dx\": -7, \"dy\": -4, \"fontSize\": 11.5, \"fontWeight\": \"bold\", \"opacity\": 0.09}, \"encoding\": {\"text\": {\"type\": \"nominal\", \"field\": \"text\"}, \"x\": {\"type\": \"quantitative\", \"field\": \"x\", \"scale\": {\"domain\": [10, 50]}}, \"y\": {\"type\": \"quantitative\", \"field\": \"y\"}}}, {\"data\": {\"name\": \"data-77ad753fbdc530e19cb1774976fc8bc9\"}, \"mark\": {\"type\": \"bar\", \"color\": \"#cede54\", \"size\": 14}, \"encoding\": {\"x\": {\"type\": \"quantitative\", \"axis\": {\"labelFontSize\": 32, \"labelOpacity\": 0.7, \"values\": [10, 20, 30, 40, 50]}, \"field\": \"Bin\", \"scale\": {\"domain\": [10, 50]}}, \"y\": {\"type\": \"quantitative\", \"axis\": {\"labelFontSize\": 32, \"labelOpacity\": 0.8, \"labelPadding\": 60, \"titleFontSize\": 36, \"titleOpacity\": 0.8, \"titleX\": -60, \"titleY\": 0, \"values\": [100, 200]}, \"field\": \"Count\", \"scale\": {\"domain\": [0, 350]}, \"title\": \"Counties where owning is more expensive than renting\"}}, \"title\": \"\"}, {\"data\": {\"name\": \"data-fcbf7a1326e5a92c8e8b9df976c576ce\"}, \"mark\": {\"type\": \"text\", \"dx\": -5, \"dy\": 26.5, \"font\": \"lato\", \"fontSize\": 32, \"opacity\": 0.7}, \"encoding\": {\"text\": {\"type\": \"nominal\", \"field\": \"text\"}, \"x\": {\"type\": \"quantitative\", \"field\": \"x\"}, \"y\": {\"type\": \"quantitative\", \"field\": \"y\"}}}, {\"data\": {\"name\": \"data-2d68707734c2d1a91dbd64835181b593\"}, \"mark\": {\"type\": \"text\", \"dx\": 2, \"dy\": 0, \"font\": \"lato\", \"fontSize\": 32, \"opacity\": 0.8}, \"encoding\": {\"text\": {\"type\": \"nominal\", \"field\": \"text\"}, \"x\": {\"type\": \"quantitative\", \"field\": \"x\"}, \"y\": {\"type\": \"quantitative\", \"field\": \"y\"}}}, {\"data\": {\"name\": \"data-424f55aee202cd0ed0981d1fc9849fbe\"}, \"mark\": {\"type\": \"rule\", \"opacity\": 0, \"size\": 3}, \"encoding\": {\"x\": {\"type\": \"quantitative\", \"field\": \"x\"}, \"y\": {\"type\": \"quantitative\", \"field\": \"y\"}, \"y2\": {\"field\": \"text\"}}}], \"height\": 450, \"width\": 750}, {\"layer\": [{\"data\": {\"name\": \"data-fd38aa270a86fc920126f3f6a09318a2\"}, \"mark\": {\"type\": \"text\", \"dx\": -7, \"dy\": -4, \"fontSize\": 11.5, \"fontWeight\": \"bold\", \"opacity\": 0.09}, \"encoding\": {\"text\": {\"type\": \"nominal\", \"field\": \"text\"}, \"x\": {\"type\": \"quantitative\", \"field\": \"x\", \"scale\": {\"domain\": [10, 50]}}, \"y\": {\"type\": \"quantitative\", \"field\": \"y\"}}}, {\"data\": {\"name\": \"data-c7d884abf4a0f8c18f7471f5d7471e99\"}, \"mark\": {\"type\": \"bar\", \"color\": \"#97c2f2\", \"size\": 14}, \"encoding\": {\"x\": {\"type\": \"quantitative\", \"axis\": {\"labelFontSize\": 32, \"labelOpacity\": 0.7, \"values\": [10, 15, 20, 25]}, \"field\": \"Bin\", \"scale\": {\"domain\": [10, 50]}}, \"y\": {\"type\": \"quantitative\", \"axis\": {\"labelFontSize\": 32, \"labelOpacity\": 0, \"labelPadding\": 60, \"titleFontSize\": 36, \"titleOpacity\": 0.8, \"titleX\": -60, \"titleY\": 0, \"values\": [100, 200]}, \"field\": \"Count\", \"scale\": {\"domain\": [0, 350]}, \"title\": \"Counties where owning is more expensive than renting\"}}, \"title\": \"\"}, {\"data\": {\"name\": \"data-fcbf7a1326e5a92c8e8b9df976c576ce\"}, \"mark\": {\"type\": \"text\", \"dx\": -5, \"dy\": 26.5, \"font\": \"lato\", \"fontSize\": 32, \"opacity\": 0.7}, \"encoding\": {\"text\": {\"type\": \"nominal\", \"field\": \"text\"}, \"x\": {\"type\": \"quantitative\", \"field\": \"x\"}, \"y\": {\"type\": \"quantitative\", \"field\": \"y\"}}}, {\"data\": {\"name\": \"data-2d68707734c2d1a91dbd64835181b593\"}, \"mark\": {\"type\": \"text\", \"dx\": 2, \"dy\": 0, \"font\": \"lato\", \"fontSize\": 32, \"opacity\": 0}, \"encoding\": {\"text\": {\"type\": \"nominal\", \"field\": \"text\"}, \"x\": {\"type\": \"quantitative\", \"field\": \"x\"}, \"y\": {\"type\": \"quantitative\", \"field\": \"y\"}}}, {\"data\": {\"name\": \"data-424f55aee202cd0ed0981d1fc9849fbe\"}, \"mark\": {\"type\": \"rule\", \"opacity\": 0, \"size\": 3}, \"encoding\": {\"x\": {\"type\": \"quantitative\", \"field\": \"x\"}, \"y\": {\"type\": \"quantitative\", \"field\": \"y\"}, \"y2\": {\"field\": \"text\"}}}], \"height\": 450, \"width\": 750}]}], \"$schema\": \"https://vega.github.io/schema/vega-lite/v4.0.0.json\", \"datasets\": {\"data-fd38aa270a86fc920126f3f6a09318a2\": [{\"x\": 34, \"y\": 300, \"text\": \"______________________________________________________________________________________________\"}], \"data-21a4e5e6877e5696b40945bd7685b83b\": [{\"Bin\": 33, \"Count\": 81}, {\"Bin\": 31, \"Count\": 97}, {\"Bin\": 38, \"Count\": 37}, {\"Bin\": 34, \"Count\": 79}, {\"Bin\": 30, \"Count\": 106}, {\"Bin\": 32, \"Count\": 93}, {\"Bin\": 40, \"Count\": 24}, {\"Bin\": 36, \"Count\": 50}, {\"Bin\": 22, \"Count\": 45}, {\"Bin\": 28, \"Count\": 98}, {\"Bin\": 35, \"Count\": 49}, {\"Bin\": 29, \"Count\": 74}, {\"Bin\": 39, \"Count\": 23}, {\"Bin\": 24, \"Count\": 57}, {\"Bin\": 25, \"Count\": 52}, {\"Bin\": 49, \"Count\": 3}, {\"Bin\": 37, \"Count\": 38}, {\"Bin\": 18, \"Count\": 30}, {\"Bin\": 19, \"Count\": 15}, {\"Bin\": 16, \"Count\": 17}, {\"Bin\": 14, \"Count\": 5}, {\"Bin\": 27, \"Count\": 69}, {\"Bin\": 20, \"Count\": 29}, {\"Bin\": 17, \"Count\": 11}, {\"Bin\": 23, \"Count\": 37}, {\"Bin\": 8, \"Count\": 1}, {\"Bin\": 42, \"Count\": 10}, {\"Bin\": 44, \"Count\": 9}, {\"Bin\": 26, \"Count\": 74}, {\"Bin\": 41, \"Count\": 17}, {\"Bin\": 46, \"Count\": 4}, {\"Bin\": 45, \"Count\": 11}, {\"Bin\": 21, \"Count\": 25}, {\"Bin\": 43, \"Count\": 7}, {\"Bin\": 47, \"Count\": 7}, {\"Bin\": 48, \"Count\": 4}, {\"Bin\": 50, \"Count\": 1}, {\"Bin\": 15, \"Count\": 3}, {\"Bin\": 11, \"Count\": 1}, {\"Bin\": 13, \"Count\": 3}], \"data-fcbf7a1326e5a92c8e8b9df976c576ce\": [{\"x\": 6, \"y\": 0, \"text\": \"5%\"}], \"data-2d68707734c2d1a91dbd64835181b593\": [{\"x\": 7, \"y\": 300, \"text\": \"300 counties\"}], \"data-424f55aee202cd0ed0981d1fc9849fbe\": [{\"x\": 60, \"y\": 0, \"text\": -50}], \"data-0d6653b94ecaec5ec23f116b6ccba55a\": [{\"Bin\": 16, \"Count\": 123}, {\"Bin\": 17, \"Count\": 62}, {\"Bin\": 13, \"Count\": 228}, {\"Bin\": 11, \"Count\": 113}, {\"Bin\": 14, \"Count\": 281}, {\"Bin\": 12, \"Count\": 223}, {\"Bin\": 10, \"Count\": 85}, {\"Bin\": 15, \"Count\": 152}, {\"Bin\": 21, \"Count\": 4}, {\"Bin\": 9, \"Count\": 38}, {\"Bin\": 8, \"Count\": 19}, {\"Bin\": 18, \"Count\": 42}, {\"Bin\": 20, \"Count\": 11}, {\"Bin\": 19, \"Count\": 9}, {\"Bin\": 22, \"Count\": 2}, {\"Bin\": 7, \"Count\": 3}, {\"Bin\": 6, \"Count\": 1}], \"data-77ad753fbdc530e19cb1774976fc8bc9\": [{\"Bin\": 26, \"Count\": 134}, {\"Bin\": 31, \"Count\": 124}, {\"Bin\": 41, \"Count\": 6}, {\"Bin\": 34, \"Count\": 87}, {\"Bin\": 30, \"Count\": 168}, {\"Bin\": 24, \"Count\": 110}, {\"Bin\": 38, \"Count\": 23}, {\"Bin\": 28, \"Count\": 161}, {\"Bin\": 35, \"Count\": 38}, {\"Bin\": 29, \"Count\": 121}, {\"Bin\": 45, \"Count\": 3}, {\"Bin\": 27, \"Count\": 113}, {\"Bin\": 21, \"Count\": 40}, {\"Bin\": 32, \"Count\": 103}, {\"Bin\": 23, \"Count\": 58}, {\"Bin\": 33, \"Count\": 64}, {\"Bin\": 25, \"Count\": 91}, {\"Bin\": 16, \"Count\": 8}, {\"Bin\": 36, \"Count\": 49}, {\"Bin\": 37, \"Count\": 23}, {\"Bin\": 40, \"Count\": 11}, {\"Bin\": 20, \"Count\": 33}, {\"Bin\": 43, \"Count\": 6}, {\"Bin\": 44, \"Count\": 2}, {\"Bin\": 39, \"Count\": 11}, {\"Bin\": 22, \"Count\": 59}, {\"Bin\": 42, \"Count\": 6}, {\"Bin\": 18, \"Count\": 14}, {\"Bin\": 17, \"Count\": 10}, {\"Bin\": 19, \"Count\": 15}, {\"Bin\": 12, \"Count\": 2}, {\"Bin\": 14, \"Count\": 8}, {\"Bin\": 48, \"Count\": 1}, {\"Bin\": 46, \"Count\": 3}, {\"Bin\": 15, \"Count\": 6}, {\"Bin\": 13, \"Count\": 3}, {\"Bin\": 10, \"Count\": 1}, {\"Bin\": 7, \"Count\": 1}], \"data-c7d884abf4a0f8c18f7471f5d7471e99\": [{\"Bin\": 16, \"Count\": 347}, {\"Bin\": 14, \"Count\": 226}, {\"Bin\": 17, \"Count\": 201}, {\"Bin\": 11, \"Count\": 28}, {\"Bin\": 13, \"Count\": 112}, {\"Bin\": 15, \"Count\": 228}, {\"Bin\": 19, \"Count\": 113}, {\"Bin\": 20, \"Count\": 84}, {\"Bin\": 18, \"Count\": 186}, {\"Bin\": 12, \"Count\": 57}, {\"Bin\": 22, \"Count\": 32}, {\"Bin\": 23, \"Count\": 12}, {\"Bin\": 21, \"Count\": 53}, {\"Bin\": 25, \"Count\": 5}, {\"Bin\": 24, \"Count\": 15}, {\"Bin\": 10, \"Count\": 10}, {\"Bin\": 9, \"Count\": 4}, {\"Bin\": 26, \"Count\": 2}, {\"Bin\": 7, \"Count\": 1}]}}, {\"mode\": \"vega-lite\"});\n",
       "</script>"
      ],
      "text/plain": [
       "alt.VConcatChart(...)"
      ]
     },
     "execution_count": 530,
     "metadata": {},
     "output_type": "execute_result"
    }
   ],
   "source": [
    "inc_housing_charts = (charts_dict[0] | charts_dict[1]) & (charts_dict[2] | charts_dict[3])\n",
    "inc_housing_charts"
   ]
  },
  {
   "cell_type": "code",
   "execution_count": 509,
   "metadata": {},
   "outputs": [],
   "source": [
    "inc_housing_charts.save('renter_homeowner_inc_dev_hous.svg')"
   ]
  },
  {
   "cell_type": "code",
   "execution_count": 123,
   "metadata": {},
   "outputs": [],
   "source": [
    "%run chart_theme.py"
   ]
  },
  {
   "cell_type": "code",
   "execution_count": 540,
   "metadata": {},
   "outputs": [
    {
     "data": {
      "text/plain": [
       "3600.0"
      ]
     },
     "execution_count": 540,
     "metadata": {},
     "output_type": "execute_result"
    }
   ],
   "source": [
    "rent_dict['Rent_Housing_Rent_Higher_Inc_Bin'].Bin.median()"
   ]
  },
  {
   "cell_type": "code",
   "execution_count": 541,
   "metadata": {},
   "outputs": [
    {
     "data": {
      "text/plain": [
       "4100.0"
      ]
     },
     "execution_count": 541,
     "metadata": {},
     "output_type": "execute_result"
    }
   ],
   "source": [
    "rent_dict['Rent_Housing_Mort_Higher_Inc_Bin'].Bin.median()"
   ]
  },
  {
   "cell_type": "code",
   "execution_count": 753,
   "metadata": {},
   "outputs": [
    {
     "data": {
      "text/html": [
       "<div>\n",
       "<style scoped>\n",
       "    .dataframe tbody tr th:only-of-type {\n",
       "        vertical-align: middle;\n",
       "    }\n",
       "\n",
       "    .dataframe tbody tr th {\n",
       "        vertical-align: top;\n",
       "    }\n",
       "\n",
       "    .dataframe thead th {\n",
       "        text-align: right;\n",
       "    }\n",
       "</style>\n",
       "<table border=\"1\" class=\"dataframe\">\n",
       "  <thead>\n",
       "    <tr style=\"text-align: right;\">\n",
       "      <th></th>\n",
       "      <th>Bin</th>\n",
       "      <th>Count</th>\n",
       "    </tr>\n",
       "  </thead>\n",
       "  <tbody>\n",
       "    <tr>\n",
       "      <th>0</th>\n",
       "      <td>5400</td>\n",
       "      <td>42</td>\n",
       "    </tr>\n",
       "    <tr>\n",
       "      <th>1</th>\n",
       "      <td>4000</td>\n",
       "      <td>151</td>\n",
       "    </tr>\n",
       "  </tbody>\n",
       "</table>\n",
       "</div>"
      ],
      "text/plain": [
       "    Bin  Count\n",
       "0  5400     42\n",
       "1  4000    151"
      ]
     },
     "execution_count": 753,
     "metadata": {},
     "output_type": "execute_result"
    }
   ],
   "source": [
    "df = rent_dict['Mort_Housing_Rent_Higher_Inc_Bin']\n",
    "df.head(2)"
   ]
  },
  {
   "cell_type": "code",
   "execution_count": 757,
   "metadata": {},
   "outputs": [
    {
     "name": "stdout",
     "output_type": "stream",
     "text": [
      "5600.0\n"
     ]
    }
   ],
   "source": [
    "df = rent_dict['Mort_Housing_Mort_Higher_Inc_Bin']\n",
    "\n",
    "    \n",
    "print(np.median(bins))"
   ]
  },
  {
   "cell_type": "code",
   "execution_count": 998,
   "metadata": {},
   "outputs": [],
   "source": [
    "charts_dict = {}\n",
    "keys = ['Rent_Housing_Rent_Higher_Inc_Bin', 'Mort_Housing_Rent_Higher_Inc_Bin', 'Rent_Housing_Mort_Higher_Inc_Bin', 'Mort_Housing_Mort_Higher_Inc_Bin']\n",
    "x_titles = ['Monthly Renter Incomes', 'Monthly Homeowner Incomes','','']\n",
    "x_title_pads = [350,350,0,0]\n",
    "y_titles1 = ['Renting More','','Owning More','']\n",
    "y_titles2 = ['Expensive','','Expensive','']\n",
    "y_titles1_pad = [-2400,100]*2\n",
    "y_titles2_pad = [-2780,100]*2\n",
    "opacities = [.8,0]*2\n",
    "y_paddings = [50,0]*2\n",
    "colors = ['#cede54', '#97c2f2']*2\n",
    "y_texts = [-2,500]*2\n",
    "line_x = [0,-50]*2\n",
    "line_len = [94,110]*2\n",
    "counter = 0\n",
    "    \n",
    "for key in keys:\n",
    "    df = rent_dict[key]\n",
    "    df = df[df.Bin < 11000]  # Excluding outliers to minimize plot width\n",
    "    \n",
    "    # Calculating Median Bin (to display as text on chart)\n",
    "    bins = array.array('i')\n",
    "    for bn in df.Bin:\n",
    "        count = df.Count[df.Bin == bn].iloc[0]\n",
    "        bins.extend(np.full(count, bn))\n",
    "\n",
    "    chart = alt.Chart(df,\n",
    "                     ).mark_bar(size=11.8, color=colors[counter]\n",
    "                           ).encode(x=alt.X('Bin', title=x_titles[counter], \n",
    "                                            axis=alt.Axis(values=list(range(4000, 11000, 2000)), format='~s', \n",
    "                                                          titleOpacity=.8, titleFontSize=40, titleX=x_title_pads[counter], titleY=-580, \n",
    "                                                          labelFontSize=28, labelOpacity=.8),\n",
    "                                            scale=alt.Scale(domain=[1000,10000])), \n",
    "                                    y=alt.Y('Count',\n",
    "                                            axis=alt.Axis(values=list(range(100,300,100)), \n",
    "                                                          titleX=-y_paddings[counter], titleY=40, titleOpacity=.8, titleFontSize=30, \n",
    "                                                          labelPadding=y_paddings[counter], labelFontSize=28, labelOpacity=opacities[counter]), \n",
    "                                            scale=alt.Scale(domain=[0,350])))\n",
    "\n",
    "    text_df = pd.DataFrame({'x':[6300,2400,500,13200], 'y':[300,0,300,0], 'text':['_'*line_len[counter], '$2k/mo.', '300 counties',-40]})\n",
    "    line = alt.Chart(text_df.query('x==6300')).mark_text(dx=line_x[counter], dy=-4, opacity=.09, fontSize=11.5, fontWeight='bold').encode(x=alt.X('x', scale=alt.Scale(domain=[1000,10000])), y='y', text='text')\n",
    "    x_text = alt.Chart(text_df.query('x==2400')).mark_text(dx=-5, dy=25, fontSize=28, font='lato', opacity=.8).encode(x='x', y='y', text='text')\n",
    "    y_text = alt.Chart(text_df.query('x==500')).mark_text(dx=y_texts[counter], dy=0, fontSize=28, font='lato', opacity=opacities[counter]).encode(x='x', y='y', text='text')\n",
    "    y_title1 = alt.Chart(pd.DataFrame({'x':[y_titles1_pad[counter]], 'y':[170.5], 'text':y_titles1[counter]})).mark_text(font='lato', fontSize=30, opacity=.8).encode(x='x', y='y', text='text')\n",
    "    y_title2 = alt.Chart(pd.DataFrame({'x':[y_titles2_pad[counter]], 'y':[145.5], 'text':y_titles2[counter]})).mark_text(font='lato', fontSize=30, opacity=.8).encode(x='x', y='y', text='text')    \n",
    "    med_inc_text = alt.Chart(pd.DataFrame({'x':[9600], 'y':[35], 'text':['Median: $' + str(int(np.median(bins)))]})).mark_text(font='lato', fontSize=24, opacity=.8).encode(x='x', y='y', text='text')\n",
    "    #chart_spacing = alt.Chart(text_df.query('x==13200')).mark_rule(opacity=0, size=3).encode(x='x', y='y', y2='text')\n",
    "    \n",
    "    combined = (line + chart + x_text + y_text + y_title1 + y_title2 + med_inc_text).properties(width=700, height=550)\n",
    "    charts_dict[counter] = combined\n",
    "    #combined.save(keys[counter] + str(counter) + '.png', scale_factor=6)\n",
    "    counter += 1"
   ]
  },
  {
   "cell_type": "code",
   "execution_count": 999,
   "metadata": {},
   "outputs": [],
   "source": [
    "incomes_charts1 = charts_dict[0] | charts_dict[1]\n",
    "incomes_charts2 = charts_dict[2] | charts_dict[3]"
   ]
  },
  {
   "cell_type": "code",
   "execution_count": 1000,
   "metadata": {},
   "outputs": [
    {
     "data": {
      "text/html": [
       "\n",
       "<div id=\"altair-viz-341\"></div>\n",
       "<script type=\"text/javascript\">\n",
       "  (function(spec, embedOpt){\n",
       "    const outputDiv = document.getElementById(\"altair-viz-341\");\n",
       "    const paths = {\n",
       "      \"vega\": \"https://cdn.jsdelivr.net/npm//vega@5?noext\",\n",
       "      \"vega-lib\": \"https://cdn.jsdelivr.net/npm//vega-lib?noext\",\n",
       "      \"vega-lite\": \"https://cdn.jsdelivr.net/npm//vega-lite@4.0.0?noext\",\n",
       "      \"vega-embed\": \"https://cdn.jsdelivr.net/npm//vega-embed@6?noext\",\n",
       "    };\n",
       "\n",
       "    function loadScript(lib) {\n",
       "      return new Promise(function(resolve, reject) {\n",
       "        var s = document.createElement('script');\n",
       "        s.src = paths[lib];\n",
       "        s.async = true;\n",
       "        s.onload = () => resolve(paths[lib]);\n",
       "        s.onerror = () => reject(`Error loading script: ${paths[lib]}`);\n",
       "        document.getElementsByTagName(\"head\")[0].appendChild(s);\n",
       "      });\n",
       "    }\n",
       "\n",
       "    function showError(err) {\n",
       "      outputDiv.innerHTML = `<div class=\"error\" style=\"color:red;\">${err}</div>`;\n",
       "      throw err;\n",
       "    }\n",
       "\n",
       "    function displayChart(vegaEmbed) {\n",
       "      vegaEmbed(outputDiv, spec, embedOpt)\n",
       "        .catch(err => showError(`Javascript Error: ${err.message}<br>This usually means there's a typo in your chart specification. See the javascript console for the full traceback.`));\n",
       "    }\n",
       "\n",
       "    if(typeof define === \"function\" && define.amd) {\n",
       "      requirejs.config({paths});\n",
       "      require([\"vega-embed\"], displayChart, err => showError(`Error loading script: ${err.message}`));\n",
       "    } else if (typeof vegaEmbed === \"function\") {\n",
       "      displayChart(vegaEmbed);\n",
       "    } else {\n",
       "      loadScript(\"vega\")\n",
       "        .then(() => loadScript(\"vega-lite\"))\n",
       "        .then(() => loadScript(\"vega-embed\"))\n",
       "        .catch(showError)\n",
       "        .then(() => displayChart(vegaEmbed));\n",
       "    }\n",
       "  })({\"width\": 600, \"height\": 400, \"background\": \"white\", \"config\": {\"title\": {\"fontWeight\": \"normal\", \"fontSize\": 36, \"anchor\": \"start\", \"font\": \"Lato\", \"offset\": 5}, \"axisX\": {\"grid\": false, \"labelFont\": \"Lato\", \"labelFontSize\": 16, \"labelAngle\": 0, \"labelPadding\": 10, \"ticks\": false, \"tickSize\": 5, \"title\": null, \"titleFont\": \"Lato\", \"titleFontSize\": 16, \"titleFontWeight\": \"normal\", \"titleY\": 30, \"titleX\": 280}, \"axisY\": {\"grid\": true, \"gridOpacity\": 1, \"labelFont\": \"Lato\", \"labelFontSize\": 16, \"labelLimit\": 100, \"labelAlign\": \"left\", \"labelPadding\": 20, \"ticks\": false, \"title\": null, \"titleFont\": \"Lato\", \"titleFontWeight\": \"normal\", \"titleFontSize\": 16, \"titleAlign\": \"left\", \"titleAngle\": 0, \"titleY\": -20, \"titleX\": -20, \"domainWidth\": 0}, \"view\": {\"strokeOpacity\": 0}}, \"hconcat\": [{\"layer\": [{\"data\": {\"name\": \"data-7577eb4c0b237e17ba1bc357e80d5722\"}, \"mark\": {\"type\": \"text\", \"dx\": 0, \"dy\": -4, \"fontSize\": 11.5, \"fontWeight\": \"bold\", \"opacity\": 0.09}, \"encoding\": {\"text\": {\"type\": \"nominal\", \"field\": \"text\"}, \"x\": {\"type\": \"quantitative\", \"field\": \"x\", \"scale\": {\"domain\": [1000, 10000]}}, \"y\": {\"type\": \"quantitative\", \"field\": \"y\"}}}, {\"data\": {\"name\": \"data-5a8d7d5e9601b04bb4b347dd34920f33\"}, \"mark\": {\"type\": \"bar\", \"color\": \"#cede54\", \"size\": 11.8}, \"encoding\": {\"x\": {\"type\": \"quantitative\", \"axis\": {\"format\": \"~s\", \"labelFontSize\": 28, \"labelOpacity\": 0.8, \"titleFontSize\": 40, \"titleOpacity\": 0.8, \"titleX\": 350, \"titleY\": -580, \"values\": [4000, 6000, 8000, 10000]}, \"field\": \"Bin\", \"scale\": {\"domain\": [1000, 10000]}, \"title\": \"Monthly Renter Incomes\"}, \"y\": {\"type\": \"quantitative\", \"axis\": {\"labelFontSize\": 28, \"labelOpacity\": 0.8, \"labelPadding\": 50, \"titleFontSize\": 30, \"titleOpacity\": 0.8, \"titleX\": -50, \"titleY\": 40, \"values\": [100, 200]}, \"field\": \"Count\", \"scale\": {\"domain\": [0, 350]}}}}, {\"data\": {\"name\": \"data-71cc95b94a422f4c106ae0c0a6d94e94\"}, \"mark\": {\"type\": \"text\", \"dx\": -5, \"dy\": 25, \"font\": \"lato\", \"fontSize\": 28, \"opacity\": 0.8}, \"encoding\": {\"text\": {\"type\": \"nominal\", \"field\": \"text\"}, \"x\": {\"type\": \"quantitative\", \"field\": \"x\"}, \"y\": {\"type\": \"quantitative\", \"field\": \"y\"}}}, {\"data\": {\"name\": \"data-89542d08060f4443059af9c8ba60c40f\"}, \"mark\": {\"type\": \"text\", \"dx\": -2, \"dy\": 0, \"font\": \"lato\", \"fontSize\": 28, \"opacity\": 0.8}, \"encoding\": {\"text\": {\"type\": \"nominal\", \"field\": \"text\"}, \"x\": {\"type\": \"quantitative\", \"field\": \"x\"}, \"y\": {\"type\": \"quantitative\", \"field\": \"y\"}}}, {\"data\": {\"name\": \"data-c3cdd2bf20f59229eacc134bb7b3dfc2\"}, \"mark\": {\"type\": \"text\", \"font\": \"lato\", \"fontSize\": 30, \"opacity\": 0.8}, \"encoding\": {\"text\": {\"type\": \"nominal\", \"field\": \"text\"}, \"x\": {\"type\": \"quantitative\", \"field\": \"x\"}, \"y\": {\"type\": \"quantitative\", \"field\": \"y\"}}}, {\"data\": {\"name\": \"data-4623dbb74f58031a99b3d97002fc07c4\"}, \"mark\": {\"type\": \"text\", \"font\": \"lato\", \"fontSize\": 30, \"opacity\": 0.8}, \"encoding\": {\"text\": {\"type\": \"nominal\", \"field\": \"text\"}, \"x\": {\"type\": \"quantitative\", \"field\": \"x\"}, \"y\": {\"type\": \"quantitative\", \"field\": \"y\"}}}, {\"data\": {\"name\": \"data-2143f30561acc588c00f1e272968814e\"}, \"mark\": {\"type\": \"text\", \"font\": \"lato\", \"fontSize\": 24, \"opacity\": 0.8}, \"encoding\": {\"text\": {\"type\": \"nominal\", \"field\": \"text\"}, \"x\": {\"type\": \"quantitative\", \"field\": \"x\"}, \"y\": {\"type\": \"quantitative\", \"field\": \"y\"}}}], \"height\": 550, \"width\": 700}, {\"layer\": [{\"data\": {\"name\": \"data-c8b7cc7eaf5367ce6ff617e9994cfce1\"}, \"mark\": {\"type\": \"text\", \"dx\": -50, \"dy\": -4, \"fontSize\": 11.5, \"fontWeight\": \"bold\", \"opacity\": 0.09}, \"encoding\": {\"text\": {\"type\": \"nominal\", \"field\": \"text\"}, \"x\": {\"type\": \"quantitative\", \"field\": \"x\", \"scale\": {\"domain\": [1000, 10000]}}, \"y\": {\"type\": \"quantitative\", \"field\": \"y\"}}}, {\"data\": {\"name\": \"data-5b0f1fe251132edd73a36dc6323e830c\"}, \"mark\": {\"type\": \"bar\", \"color\": \"#97c2f2\", \"size\": 11.8}, \"encoding\": {\"x\": {\"type\": \"quantitative\", \"axis\": {\"format\": \"~s\", \"labelFontSize\": 28, \"labelOpacity\": 0.8, \"titleFontSize\": 40, \"titleOpacity\": 0.8, \"titleX\": 350, \"titleY\": -580, \"values\": [4000, 6000, 8000, 10000]}, \"field\": \"Bin\", \"scale\": {\"domain\": [1000, 10000]}, \"title\": \"Monthly Homeowner Incomes\"}, \"y\": {\"type\": \"quantitative\", \"axis\": {\"labelFontSize\": 28, \"labelOpacity\": 0, \"labelPadding\": 0, \"titleFontSize\": 30, \"titleOpacity\": 0.8, \"titleX\": 0, \"titleY\": 40, \"values\": [100, 200]}, \"field\": \"Count\", \"scale\": {\"domain\": [0, 350]}}}}, {\"data\": {\"name\": \"data-71cc95b94a422f4c106ae0c0a6d94e94\"}, \"mark\": {\"type\": \"text\", \"dx\": -5, \"dy\": 25, \"font\": \"lato\", \"fontSize\": 28, \"opacity\": 0.8}, \"encoding\": {\"text\": {\"type\": \"nominal\", \"field\": \"text\"}, \"x\": {\"type\": \"quantitative\", \"field\": \"x\"}, \"y\": {\"type\": \"quantitative\", \"field\": \"y\"}}}, {\"data\": {\"name\": \"data-89542d08060f4443059af9c8ba60c40f\"}, \"mark\": {\"type\": \"text\", \"dx\": 500, \"dy\": 0, \"font\": \"lato\", \"fontSize\": 28, \"opacity\": 0}, \"encoding\": {\"text\": {\"type\": \"nominal\", \"field\": \"text\"}, \"x\": {\"type\": \"quantitative\", \"field\": \"x\"}, \"y\": {\"type\": \"quantitative\", \"field\": \"y\"}}}, {\"data\": {\"name\": \"data-1376cc7de60adafcf31880ab92579a59\"}, \"mark\": {\"type\": \"text\", \"font\": \"lato\", \"fontSize\": 30, \"opacity\": 0.8}, \"encoding\": {\"text\": {\"type\": \"nominal\", \"field\": \"text\"}, \"x\": {\"type\": \"quantitative\", \"field\": \"x\"}, \"y\": {\"type\": \"quantitative\", \"field\": \"y\"}}}, {\"data\": {\"name\": \"data-c848db8c22ae3eb4de8a08e1f976acd4\"}, \"mark\": {\"type\": \"text\", \"font\": \"lato\", \"fontSize\": 30, \"opacity\": 0.8}, \"encoding\": {\"text\": {\"type\": \"nominal\", \"field\": \"text\"}, \"x\": {\"type\": \"quantitative\", \"field\": \"x\"}, \"y\": {\"type\": \"quantitative\", \"field\": \"y\"}}}, {\"data\": {\"name\": \"data-83c8e37a3ff1d441f158f632d97c043e\"}, \"mark\": {\"type\": \"text\", \"font\": \"lato\", \"fontSize\": 24, \"opacity\": 0.8}, \"encoding\": {\"text\": {\"type\": \"nominal\", \"field\": \"text\"}, \"x\": {\"type\": \"quantitative\", \"field\": \"x\"}, \"y\": {\"type\": \"quantitative\", \"field\": \"y\"}}}], \"height\": 550, \"width\": 700}], \"$schema\": \"https://vega.github.io/schema/vega-lite/v4.0.0.json\", \"datasets\": {\"data-7577eb4c0b237e17ba1bc357e80d5722\": [{\"x\": 6300, \"y\": 300, \"text\": \"______________________________________________________________________________________________\"}], \"data-5a8d7d5e9601b04bb4b347dd34920f33\": [{\"Bin\": 3000, \"Count\": 74}, {\"Bin\": 3200, \"Count\": 65}, {\"Bin\": 1600, \"Count\": 107}, {\"Bin\": 2200, \"Count\": 189}, {\"Bin\": 2000, \"Count\": 172}, {\"Bin\": 2400, \"Count\": 173}, {\"Bin\": 1800, \"Count\": 150}, {\"Bin\": 1400, \"Count\": 60}, {\"Bin\": 2600, \"Count\": 143}, {\"Bin\": 2800, \"Count\": 93}, {\"Bin\": 5400, \"Count\": 6}, {\"Bin\": 7000, \"Count\": 1}, {\"Bin\": 4400, \"Count\": 10}, {\"Bin\": 6200, \"Count\": 2}, {\"Bin\": 5800, \"Count\": 2}, {\"Bin\": 3800, \"Count\": 20}, {\"Bin\": 4600, \"Count\": 4}, {\"Bin\": 4800, \"Count\": 5}, {\"Bin\": 3400, \"Count\": 53}, {\"Bin\": 4000, \"Count\": 10}, {\"Bin\": 5600, \"Count\": 1}, {\"Bin\": 1200, \"Count\": 12}, {\"Bin\": 3600, \"Count\": 29}, {\"Bin\": 4200, \"Count\": 10}, {\"Bin\": 1000, \"Count\": 2}, {\"Bin\": 5200, \"Count\": 1}, {\"Bin\": 5000, \"Count\": 2}], \"data-71cc95b94a422f4c106ae0c0a6d94e94\": [{\"x\": 2400, \"y\": 0, \"text\": \"$2k/mo.\"}], \"data-89542d08060f4443059af9c8ba60c40f\": [{\"x\": 500, \"y\": 300, \"text\": \"300 counties\"}], \"data-c3cdd2bf20f59229eacc134bb7b3dfc2\": [{\"x\": -2400, \"y\": 170.5, \"text\": \"Renting More\"}], \"data-4623dbb74f58031a99b3d97002fc07c4\": [{\"x\": -2780, \"y\": 145.5, \"text\": \"Expensive\"}], \"data-2143f30561acc588c00f1e272968814e\": [{\"x\": 9600, \"y\": 35, \"text\": \"Median: $2400\"}], \"data-c8b7cc7eaf5367ce6ff617e9994cfce1\": [{\"x\": 6300, \"y\": 300, \"text\": \"______________________________________________________________________________________________________________\"}], \"data-5b0f1fe251132edd73a36dc6323e830c\": [{\"Bin\": 5400, \"Count\": 42}, {\"Bin\": 4000, \"Count\": 151}, {\"Bin\": 4400, \"Count\": 145}, {\"Bin\": 4600, \"Count\": 118}, {\"Bin\": 3800, \"Count\": 111}, {\"Bin\": 3400, \"Count\": 82}, {\"Bin\": 5600, \"Count\": 29}, {\"Bin\": 4800, \"Count\": 116}, {\"Bin\": 3200, \"Count\": 48}, {\"Bin\": 4200, \"Count\": 143}, {\"Bin\": 3600, \"Count\": 118}, {\"Bin\": 5000, \"Count\": 79}, {\"Bin\": 2200, \"Count\": 1}, {\"Bin\": 6400, \"Count\": 4}, {\"Bin\": 8200, \"Count\": 1}, {\"Bin\": 8600, \"Count\": 1}, {\"Bin\": 7200, \"Count\": 3}, {\"Bin\": 5800, \"Count\": 25}, {\"Bin\": 6200, \"Count\": 18}, {\"Bin\": 5200, \"Count\": 68}, {\"Bin\": 6600, \"Count\": 5}, {\"Bin\": 7000, \"Count\": 6}, {\"Bin\": 2600, \"Count\": 5}, {\"Bin\": 3000, \"Count\": 31}, {\"Bin\": 6000, \"Count\": 12}, {\"Bin\": 2800, \"Count\": 19}, {\"Bin\": 2400, \"Count\": 3}, {\"Bin\": 6800, \"Count\": 5}, {\"Bin\": 8800, \"Count\": 2}, {\"Bin\": 7400, \"Count\": 2}, {\"Bin\": 8000, \"Count\": 1}, {\"Bin\": 9200, \"Count\": 1}, {\"Bin\": 7800, \"Count\": 1}], \"data-1376cc7de60adafcf31880ab92579a59\": [{\"x\": 100, \"y\": 170.5, \"text\": \"\"}], \"data-c848db8c22ae3eb4de8a08e1f976acd4\": [{\"x\": 100, \"y\": 145.5, \"text\": \"\"}], \"data-83c8e37a3ff1d441f158f632d97c043e\": [{\"x\": 9600, \"y\": 35, \"text\": \"Median: $4200\"}]}}, {\"mode\": \"vega-lite\"});\n",
       "</script>"
      ],
      "text/plain": [
       "alt.HConcatChart(...)"
      ]
     },
     "execution_count": 1000,
     "metadata": {},
     "output_type": "execute_result"
    }
   ],
   "source": [
    "incomes_charts1"
   ]
  },
  {
   "cell_type": "code",
   "execution_count": 1001,
   "metadata": {},
   "outputs": [
    {
     "data": {
      "text/html": [
       "\n",
       "<div id=\"altair-viz-342\"></div>\n",
       "<script type=\"text/javascript\">\n",
       "  (function(spec, embedOpt){\n",
       "    const outputDiv = document.getElementById(\"altair-viz-342\");\n",
       "    const paths = {\n",
       "      \"vega\": \"https://cdn.jsdelivr.net/npm//vega@5?noext\",\n",
       "      \"vega-lib\": \"https://cdn.jsdelivr.net/npm//vega-lib?noext\",\n",
       "      \"vega-lite\": \"https://cdn.jsdelivr.net/npm//vega-lite@4.0.0?noext\",\n",
       "      \"vega-embed\": \"https://cdn.jsdelivr.net/npm//vega-embed@6?noext\",\n",
       "    };\n",
       "\n",
       "    function loadScript(lib) {\n",
       "      return new Promise(function(resolve, reject) {\n",
       "        var s = document.createElement('script');\n",
       "        s.src = paths[lib];\n",
       "        s.async = true;\n",
       "        s.onload = () => resolve(paths[lib]);\n",
       "        s.onerror = () => reject(`Error loading script: ${paths[lib]}`);\n",
       "        document.getElementsByTagName(\"head\")[0].appendChild(s);\n",
       "      });\n",
       "    }\n",
       "\n",
       "    function showError(err) {\n",
       "      outputDiv.innerHTML = `<div class=\"error\" style=\"color:red;\">${err}</div>`;\n",
       "      throw err;\n",
       "    }\n",
       "\n",
       "    function displayChart(vegaEmbed) {\n",
       "      vegaEmbed(outputDiv, spec, embedOpt)\n",
       "        .catch(err => showError(`Javascript Error: ${err.message}<br>This usually means there's a typo in your chart specification. See the javascript console for the full traceback.`));\n",
       "    }\n",
       "\n",
       "    if(typeof define === \"function\" && define.amd) {\n",
       "      requirejs.config({paths});\n",
       "      require([\"vega-embed\"], displayChart, err => showError(`Error loading script: ${err.message}`));\n",
       "    } else if (typeof vegaEmbed === \"function\") {\n",
       "      displayChart(vegaEmbed);\n",
       "    } else {\n",
       "      loadScript(\"vega\")\n",
       "        .then(() => loadScript(\"vega-lite\"))\n",
       "        .then(() => loadScript(\"vega-embed\"))\n",
       "        .catch(showError)\n",
       "        .then(() => displayChart(vegaEmbed));\n",
       "    }\n",
       "  })({\"width\": 600, \"height\": 400, \"background\": \"white\", \"config\": {\"title\": {\"fontWeight\": \"normal\", \"fontSize\": 36, \"anchor\": \"start\", \"font\": \"Lato\", \"offset\": 5}, \"axisX\": {\"grid\": false, \"labelFont\": \"Lato\", \"labelFontSize\": 16, \"labelAngle\": 0, \"labelPadding\": 10, \"ticks\": false, \"tickSize\": 5, \"title\": null, \"titleFont\": \"Lato\", \"titleFontSize\": 16, \"titleFontWeight\": \"normal\", \"titleY\": 30, \"titleX\": 280}, \"axisY\": {\"grid\": true, \"gridOpacity\": 1, \"labelFont\": \"Lato\", \"labelFontSize\": 16, \"labelLimit\": 100, \"labelAlign\": \"left\", \"labelPadding\": 20, \"ticks\": false, \"title\": null, \"titleFont\": \"Lato\", \"titleFontWeight\": \"normal\", \"titleFontSize\": 16, \"titleAlign\": \"left\", \"titleAngle\": 0, \"titleY\": -20, \"titleX\": -20, \"domainWidth\": 0}, \"view\": {\"strokeOpacity\": 0}}, \"hconcat\": [{\"layer\": [{\"data\": {\"name\": \"data-7577eb4c0b237e17ba1bc357e80d5722\"}, \"mark\": {\"type\": \"text\", \"dx\": 0, \"dy\": -4, \"fontSize\": 11.5, \"fontWeight\": \"bold\", \"opacity\": 0.09}, \"encoding\": {\"text\": {\"type\": \"nominal\", \"field\": \"text\"}, \"x\": {\"type\": \"quantitative\", \"field\": \"x\", \"scale\": {\"domain\": [1000, 10000]}}, \"y\": {\"type\": \"quantitative\", \"field\": \"y\"}}}, {\"data\": {\"name\": \"data-fdcc87dee808c3f00794108ea7029c5e\"}, \"mark\": {\"type\": \"bar\", \"color\": \"#cede54\", \"size\": 11.8}, \"encoding\": {\"x\": {\"type\": \"quantitative\", \"axis\": {\"format\": \"~s\", \"labelFontSize\": 28, \"labelOpacity\": 0.8, \"titleFontSize\": 40, \"titleOpacity\": 0.8, \"titleX\": 0, \"titleY\": -580, \"values\": [4000, 6000, 8000, 10000]}, \"field\": \"Bin\", \"scale\": {\"domain\": [1000, 10000]}, \"title\": \"\"}, \"y\": {\"type\": \"quantitative\", \"axis\": {\"labelFontSize\": 28, \"labelOpacity\": 0.8, \"labelPadding\": 50, \"titleFontSize\": 30, \"titleOpacity\": 0.8, \"titleX\": -50, \"titleY\": 40, \"values\": [100, 200]}, \"field\": \"Count\", \"scale\": {\"domain\": [0, 350]}}}}, {\"data\": {\"name\": \"data-71cc95b94a422f4c106ae0c0a6d94e94\"}, \"mark\": {\"type\": \"text\", \"dx\": -5, \"dy\": 25, \"font\": \"lato\", \"fontSize\": 28, \"opacity\": 0.8}, \"encoding\": {\"text\": {\"type\": \"nominal\", \"field\": \"text\"}, \"x\": {\"type\": \"quantitative\", \"field\": \"x\"}, \"y\": {\"type\": \"quantitative\", \"field\": \"y\"}}}, {\"data\": {\"name\": \"data-89542d08060f4443059af9c8ba60c40f\"}, \"mark\": {\"type\": \"text\", \"dx\": -2, \"dy\": 0, \"font\": \"lato\", \"fontSize\": 28, \"opacity\": 0.8}, \"encoding\": {\"text\": {\"type\": \"nominal\", \"field\": \"text\"}, \"x\": {\"type\": \"quantitative\", \"field\": \"x\"}, \"y\": {\"type\": \"quantitative\", \"field\": \"y\"}}}, {\"data\": {\"name\": \"data-a02a8d7a62244c547b30063953660e08\"}, \"mark\": {\"type\": \"text\", \"font\": \"lato\", \"fontSize\": 30, \"opacity\": 0.8}, \"encoding\": {\"text\": {\"type\": \"nominal\", \"field\": \"text\"}, \"x\": {\"type\": \"quantitative\", \"field\": \"x\"}, \"y\": {\"type\": \"quantitative\", \"field\": \"y\"}}}, {\"data\": {\"name\": \"data-4623dbb74f58031a99b3d97002fc07c4\"}, \"mark\": {\"type\": \"text\", \"font\": \"lato\", \"fontSize\": 30, \"opacity\": 0.8}, \"encoding\": {\"text\": {\"type\": \"nominal\", \"field\": \"text\"}, \"x\": {\"type\": \"quantitative\", \"field\": \"x\"}, \"y\": {\"type\": \"quantitative\", \"field\": \"y\"}}}, {\"data\": {\"name\": \"data-008f094596aa45b1acb062b91d1b64c6\"}, \"mark\": {\"type\": \"text\", \"font\": \"lato\", \"fontSize\": 24, \"opacity\": 0.8}, \"encoding\": {\"text\": {\"type\": \"nominal\", \"field\": \"text\"}, \"x\": {\"type\": \"quantitative\", \"field\": \"x\"}, \"y\": {\"type\": \"quantitative\", \"field\": \"y\"}}}], \"height\": 550, \"width\": 700}, {\"layer\": [{\"data\": {\"name\": \"data-c8b7cc7eaf5367ce6ff617e9994cfce1\"}, \"mark\": {\"type\": \"text\", \"dx\": -50, \"dy\": -4, \"fontSize\": 11.5, \"fontWeight\": \"bold\", \"opacity\": 0.09}, \"encoding\": {\"text\": {\"type\": \"nominal\", \"field\": \"text\"}, \"x\": {\"type\": \"quantitative\", \"field\": \"x\", \"scale\": {\"domain\": [1000, 10000]}}, \"y\": {\"type\": \"quantitative\", \"field\": \"y\"}}}, {\"data\": {\"name\": \"data-1ad9a20f97aba60aaa73fd2c6f99d031\"}, \"mark\": {\"type\": \"bar\", \"color\": \"#97c2f2\", \"size\": 11.8}, \"encoding\": {\"x\": {\"type\": \"quantitative\", \"axis\": {\"format\": \"~s\", \"labelFontSize\": 28, \"labelOpacity\": 0.8, \"titleFontSize\": 40, \"titleOpacity\": 0.8, \"titleX\": 0, \"titleY\": -580, \"values\": [4000, 6000, 8000, 10000]}, \"field\": \"Bin\", \"scale\": {\"domain\": [1000, 10000]}, \"title\": \"\"}, \"y\": {\"type\": \"quantitative\", \"axis\": {\"labelFontSize\": 28, \"labelOpacity\": 0, \"labelPadding\": 0, \"titleFontSize\": 30, \"titleOpacity\": 0.8, \"titleX\": 0, \"titleY\": 40, \"values\": [100, 200]}, \"field\": \"Count\", \"scale\": {\"domain\": [0, 350]}}}}, {\"data\": {\"name\": \"data-71cc95b94a422f4c106ae0c0a6d94e94\"}, \"mark\": {\"type\": \"text\", \"dx\": -5, \"dy\": 25, \"font\": \"lato\", \"fontSize\": 28, \"opacity\": 0.8}, \"encoding\": {\"text\": {\"type\": \"nominal\", \"field\": \"text\"}, \"x\": {\"type\": \"quantitative\", \"field\": \"x\"}, \"y\": {\"type\": \"quantitative\", \"field\": \"y\"}}}, {\"data\": {\"name\": \"data-89542d08060f4443059af9c8ba60c40f\"}, \"mark\": {\"type\": \"text\", \"dx\": 500, \"dy\": 0, \"font\": \"lato\", \"fontSize\": 28, \"opacity\": 0}, \"encoding\": {\"text\": {\"type\": \"nominal\", \"field\": \"text\"}, \"x\": {\"type\": \"quantitative\", \"field\": \"x\"}, \"y\": {\"type\": \"quantitative\", \"field\": \"y\"}}}, {\"data\": {\"name\": \"data-1376cc7de60adafcf31880ab92579a59\"}, \"mark\": {\"type\": \"text\", \"font\": \"lato\", \"fontSize\": 30, \"opacity\": 0.8}, \"encoding\": {\"text\": {\"type\": \"nominal\", \"field\": \"text\"}, \"x\": {\"type\": \"quantitative\", \"field\": \"x\"}, \"y\": {\"type\": \"quantitative\", \"field\": \"y\"}}}, {\"data\": {\"name\": \"data-c848db8c22ae3eb4de8a08e1f976acd4\"}, \"mark\": {\"type\": \"text\", \"font\": \"lato\", \"fontSize\": 30, \"opacity\": 0.8}, \"encoding\": {\"text\": {\"type\": \"nominal\", \"field\": \"text\"}, \"x\": {\"type\": \"quantitative\", \"field\": \"x\"}, \"y\": {\"type\": \"quantitative\", \"field\": \"y\"}}}, {\"data\": {\"name\": \"data-31a1ff953d3be1491c8db984439f6612\"}, \"mark\": {\"type\": \"text\", \"font\": \"lato\", \"fontSize\": 24, \"opacity\": 0.8}, \"encoding\": {\"text\": {\"type\": \"nominal\", \"field\": \"text\"}, \"x\": {\"type\": \"quantitative\", \"field\": \"x\"}, \"y\": {\"type\": \"quantitative\", \"field\": \"y\"}}}], \"height\": 550, \"width\": 700}], \"$schema\": \"https://vega.github.io/schema/vega-lite/v4.0.0.json\", \"datasets\": {\"data-7577eb4c0b237e17ba1bc357e80d5722\": [{\"x\": 6300, \"y\": 300, \"text\": \"______________________________________________________________________________________________\"}], \"data-fdcc87dee808c3f00794108ea7029c5e\": [{\"Bin\": 2200, \"Count\": 175}, {\"Bin\": 2800, \"Count\": 219}, {\"Bin\": 1200, \"Count\": 9}, {\"Bin\": 2600, \"Count\": 294}, {\"Bin\": 2400, \"Count\": 175}, {\"Bin\": 1400, \"Count\": 10}, {\"Bin\": 2000, \"Count\": 81}, {\"Bin\": 1600, \"Count\": 25}, {\"Bin\": 3000, \"Count\": 172}, {\"Bin\": 3800, \"Count\": 44}, {\"Bin\": 4800, \"Count\": 13}, {\"Bin\": 4400, \"Count\": 31}, {\"Bin\": 5000, \"Count\": 11}, {\"Bin\": 3600, \"Count\": 63}, {\"Bin\": 4600, \"Count\": 17}, {\"Bin\": 3400, \"Count\": 122}, {\"Bin\": 5200, \"Count\": 5}, {\"Bin\": 3200, \"Count\": 113}, {\"Bin\": 5800, \"Count\": 1}, {\"Bin\": 4200, \"Count\": 30}, {\"Bin\": 7000, \"Count\": 3}, {\"Bin\": 4000, \"Count\": 36}, {\"Bin\": 6200, \"Count\": 3}, {\"Bin\": 1800, \"Count\": 47}, {\"Bin\": 1000, \"Count\": 2}, {\"Bin\": 5400, \"Count\": 7}, {\"Bin\": 6000, \"Count\": 3}, {\"Bin\": 6400, \"Count\": 1}, {\"Bin\": 5600, \"Count\": 1}, {\"Bin\": 7600, \"Count\": 1}, {\"Bin\": 6600, \"Count\": 1}, {\"Bin\": 7200, \"Count\": 1}], \"data-71cc95b94a422f4c106ae0c0a6d94e94\": [{\"x\": 2400, \"y\": 0, \"text\": \"$2k/mo.\"}], \"data-89542d08060f4443059af9c8ba60c40f\": [{\"x\": 500, \"y\": 300, \"text\": \"300 counties\"}], \"data-a02a8d7a62244c547b30063953660e08\": [{\"x\": -2400, \"y\": 170.5, \"text\": \"Owning More\"}], \"data-4623dbb74f58031a99b3d97002fc07c4\": [{\"x\": -2780, \"y\": 145.5, \"text\": \"Expensive\"}], \"data-008f094596aa45b1acb062b91d1b64c6\": [{\"x\": 9600, \"y\": 35, \"text\": \"Median: $2800\"}], \"data-c8b7cc7eaf5367ce6ff617e9994cfce1\": [{\"x\": 6300, \"y\": 300, \"text\": \"______________________________________________________________________________________________________________\"}], \"data-1ad9a20f97aba60aaa73fd2c6f99d031\": [{\"Bin\": 3400, \"Count\": 9}, {\"Bin\": 5800, \"Count\": 117}, {\"Bin\": 3600, \"Count\": 9}, {\"Bin\": 5600, \"Count\": 122}, {\"Bin\": 3800, \"Count\": 22}, {\"Bin\": 5000, \"Count\": 140}, {\"Bin\": 4200, \"Count\": 56}, {\"Bin\": 7000, \"Count\": 37}, {\"Bin\": 4400, \"Count\": 56}, {\"Bin\": 5400, \"Count\": 141}, {\"Bin\": 4000, \"Count\": 27}, {\"Bin\": 5200, \"Count\": 148}, {\"Bin\": 7200, \"Count\": 33}, {\"Bin\": 9000, \"Count\": 9}, {\"Bin\": 8000, \"Count\": 15}, {\"Bin\": 6200, \"Count\": 86}, {\"Bin\": 9200, \"Count\": 12}, {\"Bin\": 6400, \"Count\": 69}, {\"Bin\": 8200, \"Count\": 24}, {\"Bin\": 7400, \"Count\": 23}, {\"Bin\": 7600, \"Count\": 29}, {\"Bin\": 6600, \"Count\": 43}, {\"Bin\": 4600, \"Count\": 112}, {\"Bin\": 4800, \"Count\": 120}, {\"Bin\": 6000, \"Count\": 99}, {\"Bin\": 10600, \"Count\": 4}, {\"Bin\": 9600, \"Count\": 3}, {\"Bin\": 7800, \"Count\": 19}, {\"Bin\": 8800, \"Count\": 16}, {\"Bin\": 9400, \"Count\": 5}, {\"Bin\": 8400, \"Count\": 20}, {\"Bin\": 6800, \"Count\": 39}, {\"Bin\": 8600, \"Count\": 11}, {\"Bin\": 10000, \"Count\": 5}, {\"Bin\": 2600, \"Count\": 1}, {\"Bin\": 2800, \"Count\": 3}, {\"Bin\": 3000, \"Count\": 1}, {\"Bin\": 3200, \"Count\": 4}, {\"Bin\": 9800, \"Count\": 3}, {\"Bin\": 10400, \"Count\": 3}, {\"Bin\": 10200, \"Count\": 3}, {\"Bin\": 10800, \"Count\": 1}], \"data-1376cc7de60adafcf31880ab92579a59\": [{\"x\": 100, \"y\": 170.5, \"text\": \"\"}], \"data-c848db8c22ae3eb4de8a08e1f976acd4\": [{\"x\": 100, \"y\": 145.5, \"text\": \"\"}], \"data-31a1ff953d3be1491c8db984439f6612\": [{\"x\": 9600, \"y\": 35, \"text\": \"Median: $5600\"}]}}, {\"mode\": \"vega-lite\"});\n",
       "</script>"
      ],
      "text/plain": [
       "alt.HConcatChart(...)"
      ]
     },
     "execution_count": 1001,
     "metadata": {},
     "output_type": "execute_result"
    }
   ],
   "source": [
    "incomes_charts2"
   ]
  },
  {
   "cell_type": "code",
   "execution_count": 1002,
   "metadata": {},
   "outputs": [],
   "source": [
    "incomes_charts1.save('renter_owner_incomes1.svg')"
   ]
  },
  {
   "cell_type": "code",
   "execution_count": 1003,
   "metadata": {},
   "outputs": [],
   "source": [
    "incomes_charts2.save('renter_owner_incomes2.svg')"
   ]
  },
  {
   "cell_type": "markdown",
   "metadata": {},
   "source": [
    "---"
   ]
  }
 ],
 "metadata": {
  "kernelspec": {
   "display_name": "Python 3",
   "language": "python",
   "name": "python3"
  },
  "language_info": {
   "codemirror_mode": {
    "name": "ipython",
    "version": 3
   },
   "file_extension": ".py",
   "mimetype": "text/x-python",
   "name": "python",
   "nbconvert_exporter": "python",
   "pygments_lexer": "ipython3",
   "version": "3.7.3"
  }
 },
 "nbformat": 4,
 "nbformat_minor": 4
}
