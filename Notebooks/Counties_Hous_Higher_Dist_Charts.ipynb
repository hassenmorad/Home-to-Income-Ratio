{
 "cells": [
  {
   "cell_type": "code",
   "execution_count": 2,
   "metadata": {},
   "outputs": [],
   "source": [
    "import pandas as pd\n",
    "import numpy as np"
   ]
  },
  {
   "cell_type": "code",
   "execution_count": 3,
   "metadata": {},
   "outputs": [],
   "source": [
    "%run chart_theme.py"
   ]
  },
  {
   "cell_type": "code",
   "execution_count": 4,
   "metadata": {},
   "outputs": [],
   "source": [
    "rent_mort_inc5 = pd.read_csv('national_rent_vs_mort_and_inc_5yr_0816.csv')\n",
    "rent_mort_inc1 = pd.read_csv('national_rent_vs_mort_and_inc_1yr_1018.csv')"
   ]
  },
  {
   "cell_type": "code",
   "execution_count": 5,
   "metadata": {},
   "outputs": [],
   "source": [
    "vals = []\n",
    "cols = ['Med_Mort', 'Med_Rent', 'Med_Mort_Inc', 'Med_Rent_Inc']\n",
    "for col in cols:\n",
    "    vals.append([i*100 for i in rent_mort_inc1[col].pct_change().cumsum()])"
   ]
  },
  {
   "cell_type": "code",
   "execution_count": 6,
   "metadata": {},
   "outputs": [],
   "source": [
    "pct_chg_df = pd.DataFrame(vals).transpose()\n",
    "pct_chg_df.columns = cols\n",
    "pct_chg_df['Year'] = list(range(2010, 2019))\n",
    "pct_chg_df = pct_chg_df.fillna(0)"
   ]
  },
  {
   "cell_type": "code",
   "execution_count": 7,
   "metadata": {},
   "outputs": [],
   "source": [
    "pct_chg_df = pct_chg_df.melt(id_vars='Year', var_name='Value', value_name='Pct_Change')"
   ]
  },
  {
   "cell_type": "code",
   "execution_count": 8,
   "metadata": {},
   "outputs": [],
   "source": [
    "# Medium article formatting (label size, etc.)\n",
    "rh_housing1 = alt.Chart(pct_chg_df.iloc[:9], title='Change in Housing Expenses and Income'\n",
    "         ).mark_area(interpolate='basis', color='#81addc', opacity=1\n",
    "         ).encode(x=alt.X('Year:O', axis=alt.Axis(values=[2010, 2018], ticks=True, tickSize=10, labelFontSize=18, labelOpacity=.7)), \n",
    "                  y=alt.Y('Pct_Change', title= 'Income growth outpaced housing expenses for both renters and homeowners', \n",
    "                          axis=alt.Axis(values=list(range(-5,30,5)), \n",
    "                                        titleFontSize=20, titleOpacity=.7, titleX=-25, titleY=-30,\n",
    "                                        labelPadding = 25, labelFontSize=18, labelOpacity=.7),\n",
    "                          scale=alt.Scale(domain=[-10,30])))\n",
    "\n",
    "rh_housing2 = alt.Chart(pct_chg_df.iloc[9:18],\n",
    "         ).mark_area(interpolate='basis', color='#b7c83e', opacity=1\n",
    "         ).encode(x='Year:O', y=alt.Y('Pct_Change'))\n",
    "\n",
    "rh_income1 = alt.Chart(pct_chg_df.iloc[18:27],\n",
    "         ).mark_line(size=6, strokeCap='round', interpolate='basis', color='#81addc'\n",
    "         ).encode(x='Year:O', y=alt.Y('Pct_Change'))\n",
    "\n",
    "rh_income2 = alt.Chart(pct_chg_df.iloc[27:],\n",
    "         ).mark_line(size=6, strokeCap='round', interpolate='basis', color='#b7c83e'\n",
    "         ).encode(x='Year:O', y=alt.Y('Pct_Change'))\n",
    "\n",
    "df = pd.DataFrame({'x':list(range(2010,2016)), 'y':[30,30,29.3,27.3,22.9,20.9], 'text':['30% increase', '_'*75, 'Renter', 'Homeowner', 'Income', 'Expenses']})\n",
    "text = alt.Chart(df.query('x==2010')).mark_text(dx=-5, font='lato', fontSize=18, opacity=.7).encode(x='x:O', y='y', text='text')\n",
    "line = alt.Chart(df.query('x==2011')).mark_text(dx=230, dy=-4, opacity=.09, fontSize=11.5, fontWeight='bold').encode(x='x:O', y='y', text='text')\n",
    "rent_inc1 = alt.Chart(df.query('x==2012')).mark_text(dx=446, dy=-5, font='lato', fontSize=24, color='#b7c83e').encode(x='x:O', y='y', text='text')\n",
    "rent_inc2 = alt.Chart(df.query('x==2014')).mark_text(dx=316, dy=-48, font='lato', fontSize=24, color='#b7c83e').encode(x='x:O', y='y', text='text')\n",
    "home_inc1 = alt.Chart(df.query('x==2013')).mark_text(dx=410, dy=42, font='lato', fontSize=24, color='#81addc').encode(x='x:O', y='y', text='text')\n",
    "home_inc2 = alt.Chart(df.query('x==2014')).mark_text(dx=316, dy=20, font='lato', fontSize=24, color='#81addc').encode(x='x:O', y='y', text='text')\n",
    "rent_exp1 = alt.Chart(df.query('x==2012')).mark_text(dx=272, dy=215, font='lato', fontSize=22, fontWeight='bold', color='white').encode(x='x:O', y='y', text='text')\n",
    "rent_exp2 = alt.Chart(df.query('x==2015')).mark_text(dx=85, dy=150, font='lato', fontSize=22, fontWeight='bold', color='white').encode(x='x:O', y='y', text='text')\n",
    "home_exp1 = alt.Chart(df.query('x==2013')).mark_text(dx=37, dy=290, font='lato', fontSize=22, fontWeight='bold', color='white').encode(x='x:O', y='y', text='text')\n",
    "home_exp2 = alt.Chart(df.query('x==2015')).mark_text(dx=-111, dy=247, font='lato', fontSize=22, fontWeight='bold', color='white').encode(x='x:O', y='y', text='text')"
   ]
  },
  {
   "cell_type": "code",
   "execution_count": 59,
   "metadata": {},
   "outputs": [],
   "source": [
    "# Website formatting (label size, etc.)\n",
    "rh_housing1 = alt.Chart(pct_chg_df.iloc[:9], title='Change in Housing Expenses and Income'\n",
    "         ).mark_area(interpolate='basis', color='#81addc', opacity=1\n",
    "         ).encode(x=alt.X('Year:O', axis=alt.Axis(values=[2010, 2018], ticks=True, tickSize=10, labelFontSize=18, labelOpacity=.7)), \n",
    "                  y=alt.Y('Pct_Change', title= 'Income growth outpaced housing expenses for both renters and homeowners', \n",
    "                          axis=alt.Axis(values=list(range(-5,30,5)), \n",
    "                                        titleFontSize=20, titleOpacity=.7, titleX=-25, titleY=-30,\n",
    "                                        labelPadding = 25, labelFontSize=18, labelOpacity=.7),\n",
    "                          scale=alt.Scale(domain=[-10,30])))\n",
    "\n",
    "rh_housing2 = alt.Chart(pct_chg_df.iloc[9:18],\n",
    "         ).mark_area(interpolate='basis', color='#b7c83e', opacity=1\n",
    "         ).encode(x='Year:O', y=alt.Y('Pct_Change'))\n",
    "\n",
    "rh_income1 = alt.Chart(pct_chg_df.iloc[18:27],\n",
    "         ).mark_line(size=6, strokeCap='round', interpolate='basis', color='#81addc'\n",
    "         ).encode(x='Year:O', y=alt.Y('Pct_Change'))\n",
    "\n",
    "rh_income2 = alt.Chart(pct_chg_df.iloc[27:],\n",
    "         ).mark_line(size=6, strokeCap='round', interpolate='basis', color='#b7c83e'\n",
    "         ).encode(x='Year:O', y=alt.Y('Pct_Change'))\n",
    "\n",
    "df = pd.DataFrame({'x':list(range(2010,2016)), 'y':[30,30,29.3,27.3,22.9,20.9], 'text':['30% increase', '_'*76, 'Renter', 'Homeowner', 'Income', 'Expenses']})\n",
    "text = alt.Chart(df.query('x==2010')).mark_text(dx=-5, font='lato', fontSize=18, opacity=.7).encode(x='x:O', y='y', text='text')\n",
    "line = alt.Chart(df.query('x==2011')).mark_text(dx=230, dy=-4, opacity=.09, fontSize=11.5, fontWeight='bold').encode(x='x:O', y='y', text='text')\n",
    "rent_inc1 = alt.Chart(df.query('x==2012')).mark_text(dx=445.5, dy=-5, font='lato', fontSize=22, color='#b7c83e').encode(x='x:O', y='y', text='text')\n",
    "rent_inc2 = alt.Chart(df.query('x==2014')).mark_text(dx=315, dy=-48, font='lato', fontSize=22, color='#b7c83e').encode(x='x:O', y='y', text='text')\n",
    "home_inc1 = alt.Chart(df.query('x==2013')).mark_text(dx=406.5, dy=42, font='lato', fontSize=22, color='#81addc').encode(x='x:O', y='y', text='text')\n",
    "home_inc2 = alt.Chart(df.query('x==2014')).mark_text(dx=315, dy=20, font='lato', fontSize=22, color='#81addc').encode(x='x:O', y='y', text='text')\n",
    "rent_exp1 = alt.Chart(df.query('x==2012')).mark_text(dx=272, dy=215, font='lato', fontSize=22, fontWeight='bold', color='white').encode(x='x:O', y='y', text='text')\n",
    "rent_exp2 = alt.Chart(df.query('x==2015')).mark_text(dx=85, dy=150, font='lato', fontSize=22, fontWeight='bold', color='white').encode(x='x:O', y='y', text='text')\n",
    "home_exp1 = alt.Chart(df.query('x==2013')).mark_text(dx=37, dy=290, font='lato', fontSize=22, fontWeight='bold', color='white').encode(x='x:O', y='y', text='text')\n",
    "home_exp2 = alt.Chart(df.query('x==2015')).mark_text(dx=-111, dy=247, font='lato', fontSize=22, fontWeight='bold', color='white').encode(x='x:O', y='y', text='text')"
   ]
  },
  {
   "cell_type": "code",
   "execution_count": 60,
   "metadata": {},
   "outputs": [],
   "source": [
    "inc_hous_chg = (rh_housing1 + rh_housing2 + rh_income1 + rh_income2 + text + line + rent_inc1 + rent_inc2 + home_inc1 + home_inc2 + rent_exp1 + rent_exp2 + home_exp1 + home_exp2).configure_title(fontSize=28)"
   ]
  },
  {
   "cell_type": "code",
   "execution_count": 61,
   "metadata": {},
   "outputs": [
    {
     "data": {
      "text/html": [
       "\n",
       "<div id=\"altair-viz-16\"></div>\n",
       "<script type=\"text/javascript\">\n",
       "  (function(spec, embedOpt){\n",
       "    const outputDiv = document.getElementById(\"altair-viz-16\");\n",
       "    const paths = {\n",
       "      \"vega\": \"https://cdn.jsdelivr.net/npm//vega@5?noext\",\n",
       "      \"vega-lib\": \"https://cdn.jsdelivr.net/npm//vega-lib?noext\",\n",
       "      \"vega-lite\": \"https://cdn.jsdelivr.net/npm//vega-lite@4.0.0?noext\",\n",
       "      \"vega-embed\": \"https://cdn.jsdelivr.net/npm//vega-embed@6?noext\",\n",
       "    };\n",
       "\n",
       "    function loadScript(lib) {\n",
       "      return new Promise(function(resolve, reject) {\n",
       "        var s = document.createElement('script');\n",
       "        s.src = paths[lib];\n",
       "        s.async = true;\n",
       "        s.onload = () => resolve(paths[lib]);\n",
       "        s.onerror = () => reject(`Error loading script: ${paths[lib]}`);\n",
       "        document.getElementsByTagName(\"head\")[0].appendChild(s);\n",
       "      });\n",
       "    }\n",
       "\n",
       "    function showError(err) {\n",
       "      outputDiv.innerHTML = `<div class=\"error\" style=\"color:red;\">${err}</div>`;\n",
       "      throw err;\n",
       "    }\n",
       "\n",
       "    function displayChart(vegaEmbed) {\n",
       "      vegaEmbed(outputDiv, spec, embedOpt)\n",
       "        .catch(err => showError(`Javascript Error: ${err.message}<br>This usually means there's a typo in your chart specification. See the javascript console for the full traceback.`));\n",
       "    }\n",
       "\n",
       "    if(typeof define === \"function\" && define.amd) {\n",
       "      requirejs.config({paths});\n",
       "      require([\"vega-embed\"], displayChart, err => showError(`Error loading script: ${err.message}`));\n",
       "    } else if (typeof vegaEmbed === \"function\") {\n",
       "      displayChart(vegaEmbed);\n",
       "    } else {\n",
       "      loadScript(\"vega\")\n",
       "        .then(() => loadScript(\"vega-lite\"))\n",
       "        .then(() => loadScript(\"vega-embed\"))\n",
       "        .catch(showError)\n",
       "        .then(() => displayChart(vegaEmbed));\n",
       "    }\n",
       "  })({\"width\": 600, \"height\": 400, \"background\": \"white\", \"config\": {\"title\": {\"fontWeight\": \"normal\", \"fontSize\": 28, \"anchor\": \"start\", \"font\": \"Lato\", \"offset\": 5}, \"axisX\": {\"grid\": false, \"labelFont\": \"Lato\", \"labelFontSize\": 16, \"labelAngle\": 0, \"labelPadding\": 10, \"ticks\": false, \"tickSize\": 5, \"title\": null, \"titleFont\": \"Lato\", \"titleFontSize\": 16, \"titleFontWeight\": \"normal\", \"titleY\": 30, \"titleX\": 280}, \"axisY\": {\"grid\": true, \"gridOpacity\": 1, \"labelFont\": \"Lato\", \"labelFontSize\": 16, \"labelLimit\": 100, \"labelAlign\": \"left\", \"labelPadding\": 20, \"ticks\": false, \"title\": null, \"titleFont\": \"Lato\", \"titleFontWeight\": \"normal\", \"titleFontSize\": 16, \"titleAlign\": \"left\", \"titleAngle\": 0, \"titleY\": -20, \"titleX\": -20, \"domainWidth\": 0}, \"view\": {\"strokeOpacity\": 0}}, \"layer\": [{\"data\": {\"name\": \"data-377889f6e56f2e6bee191bf6bc3989ff\"}, \"mark\": {\"type\": \"area\", \"color\": \"#81addc\", \"interpolate\": \"basis\", \"opacity\": 1}, \"encoding\": {\"x\": {\"type\": \"ordinal\", \"axis\": {\"labelFontSize\": 18, \"labelOpacity\": 0.7, \"tickSize\": 10, \"ticks\": true, \"values\": [2010, 2018]}, \"field\": \"Year\"}, \"y\": {\"type\": \"quantitative\", \"axis\": {\"labelFontSize\": 18, \"labelOpacity\": 0.7, \"labelPadding\": 25, \"titleFontSize\": 20, \"titleOpacity\": 0.7, \"titleX\": -25, \"titleY\": -30, \"values\": [-5, 0, 5, 10, 15, 20, 25]}, \"field\": \"Pct_Change\", \"scale\": {\"domain\": [-10, 30]}, \"title\": \"Income growth outpaced housing expenses for both renters and homeowners\"}}, \"title\": \"Change in Housing Expenses and Income\"}, {\"data\": {\"name\": \"data-1c64bb862641fa14714b4f450630859d\"}, \"mark\": {\"type\": \"area\", \"color\": \"#b7c83e\", \"interpolate\": \"basis\", \"opacity\": 1}, \"encoding\": {\"x\": {\"type\": \"ordinal\", \"field\": \"Year\"}, \"y\": {\"type\": \"quantitative\", \"field\": \"Pct_Change\"}}}, {\"data\": {\"name\": \"data-cb4b815d247c2fa5c32d450fe9467f4b\"}, \"mark\": {\"type\": \"line\", \"color\": \"#81addc\", \"interpolate\": \"basis\", \"size\": 6, \"strokeCap\": \"round\"}, \"encoding\": {\"x\": {\"type\": \"ordinal\", \"field\": \"Year\"}, \"y\": {\"type\": \"quantitative\", \"field\": \"Pct_Change\"}}}, {\"data\": {\"name\": \"data-45b362d7abb9c202fe1d1d3fa1fbcba4\"}, \"mark\": {\"type\": \"line\", \"color\": \"#b7c83e\", \"interpolate\": \"basis\", \"size\": 6, \"strokeCap\": \"round\"}, \"encoding\": {\"x\": {\"type\": \"ordinal\", \"field\": \"Year\"}, \"y\": {\"type\": \"quantitative\", \"field\": \"Pct_Change\"}}}, {\"data\": {\"name\": \"data-1312dd03f0a763549776cd2f9d4c18ee\"}, \"mark\": {\"type\": \"text\", \"dx\": -5, \"font\": \"lato\", \"fontSize\": 18, \"opacity\": 0.7}, \"encoding\": {\"text\": {\"type\": \"nominal\", \"field\": \"text\"}, \"x\": {\"type\": \"ordinal\", \"field\": \"x\"}, \"y\": {\"type\": \"quantitative\", \"field\": \"y\"}}}, {\"data\": {\"name\": \"data-b1061d46ddd1e195a9641d33a6d9400b\"}, \"mark\": {\"type\": \"text\", \"dx\": 230, \"dy\": -4, \"fontSize\": 11.5, \"fontWeight\": \"bold\", \"opacity\": 0.09}, \"encoding\": {\"text\": {\"type\": \"nominal\", \"field\": \"text\"}, \"x\": {\"type\": \"ordinal\", \"field\": \"x\"}, \"y\": {\"type\": \"quantitative\", \"field\": \"y\"}}}, {\"data\": {\"name\": \"data-6ea092795ae0a82af1627963e9606d68\"}, \"mark\": {\"type\": \"text\", \"color\": \"#b7c83e\", \"dx\": 445.5, \"dy\": -5, \"font\": \"lato\", \"fontSize\": 22}, \"encoding\": {\"text\": {\"type\": \"nominal\", \"field\": \"text\"}, \"x\": {\"type\": \"ordinal\", \"field\": \"x\"}, \"y\": {\"type\": \"quantitative\", \"field\": \"y\"}}}, {\"data\": {\"name\": \"data-edbaa32503381a1e1d68d4b29a822939\"}, \"mark\": {\"type\": \"text\", \"color\": \"#b7c83e\", \"dx\": 315, \"dy\": -48, \"font\": \"lato\", \"fontSize\": 22}, \"encoding\": {\"text\": {\"type\": \"nominal\", \"field\": \"text\"}, \"x\": {\"type\": \"ordinal\", \"field\": \"x\"}, \"y\": {\"type\": \"quantitative\", \"field\": \"y\"}}}, {\"data\": {\"name\": \"data-696107cd9f2e6b5958456e8d98406dbe\"}, \"mark\": {\"type\": \"text\", \"color\": \"#81addc\", \"dx\": 406.5, \"dy\": 42, \"font\": \"lato\", \"fontSize\": 22}, \"encoding\": {\"text\": {\"type\": \"nominal\", \"field\": \"text\"}, \"x\": {\"type\": \"ordinal\", \"field\": \"x\"}, \"y\": {\"type\": \"quantitative\", \"field\": \"y\"}}}, {\"data\": {\"name\": \"data-edbaa32503381a1e1d68d4b29a822939\"}, \"mark\": {\"type\": \"text\", \"color\": \"#81addc\", \"dx\": 315, \"dy\": 20, \"font\": \"lato\", \"fontSize\": 22}, \"encoding\": {\"text\": {\"type\": \"nominal\", \"field\": \"text\"}, \"x\": {\"type\": \"ordinal\", \"field\": \"x\"}, \"y\": {\"type\": \"quantitative\", \"field\": \"y\"}}}, {\"data\": {\"name\": \"data-6ea092795ae0a82af1627963e9606d68\"}, \"mark\": {\"type\": \"text\", \"color\": \"white\", \"dx\": 272, \"dy\": 215, \"font\": \"lato\", \"fontSize\": 22, \"fontWeight\": \"bold\"}, \"encoding\": {\"text\": {\"type\": \"nominal\", \"field\": \"text\"}, \"x\": {\"type\": \"ordinal\", \"field\": \"x\"}, \"y\": {\"type\": \"quantitative\", \"field\": \"y\"}}}, {\"data\": {\"name\": \"data-17ecb6fad9908ff09ba9b684b3d5fee2\"}, \"mark\": {\"type\": \"text\", \"color\": \"white\", \"dx\": 85, \"dy\": 150, \"font\": \"lato\", \"fontSize\": 22, \"fontWeight\": \"bold\"}, \"encoding\": {\"text\": {\"type\": \"nominal\", \"field\": \"text\"}, \"x\": {\"type\": \"ordinal\", \"field\": \"x\"}, \"y\": {\"type\": \"quantitative\", \"field\": \"y\"}}}, {\"data\": {\"name\": \"data-696107cd9f2e6b5958456e8d98406dbe\"}, \"mark\": {\"type\": \"text\", \"color\": \"white\", \"dx\": 37, \"dy\": 290, \"font\": \"lato\", \"fontSize\": 22, \"fontWeight\": \"bold\"}, \"encoding\": {\"text\": {\"type\": \"nominal\", \"field\": \"text\"}, \"x\": {\"type\": \"ordinal\", \"field\": \"x\"}, \"y\": {\"type\": \"quantitative\", \"field\": \"y\"}}}, {\"data\": {\"name\": \"data-17ecb6fad9908ff09ba9b684b3d5fee2\"}, \"mark\": {\"type\": \"text\", \"color\": \"white\", \"dx\": -111, \"dy\": 247, \"font\": \"lato\", \"fontSize\": 22, \"fontWeight\": \"bold\"}, \"encoding\": {\"text\": {\"type\": \"nominal\", \"field\": \"text\"}, \"x\": {\"type\": \"ordinal\", \"field\": \"x\"}, \"y\": {\"type\": \"quantitative\", \"field\": \"y\"}}}], \"$schema\": \"https://vega.github.io/schema/vega-lite/v4.0.0.json\", \"datasets\": {\"data-377889f6e56f2e6bee191bf6bc3989ff\": [{\"Year\": 2010, \"Value\": \"Med_Mort\", \"Pct_Change\": 0.0}, {\"Year\": 2011, \"Value\": \"Med_Mort\", \"Pct_Change\": -0.9057971014492794}, {\"Year\": 2012, \"Value\": \"Med_Mort\", \"Pct_Change\": -3.4652120923085117}, {\"Year\": 2013, \"Value\": \"Med_Mort\", \"Pct_Change\": -6.748514156098384}, {\"Year\": 2014, \"Value\": \"Med_Mort\", \"Pct_Change\": -5.293615998969381}, {\"Year\": 2015, \"Value\": \"Med_Mort\", \"Pct_Change\": -3.7639792876883016}, {\"Year\": 2016, \"Value\": \"Med_Mort\", \"Pct_Change\": -3.7639792876883016}, {\"Year\": 2017, \"Value\": \"Med_Mort\", \"Pct_Change\": -2.163225992019746}, {\"Year\": 2018, \"Value\": \"Med_Mort\", \"Pct_Change\": 0.061055750334282344}], \"data-1c64bb862641fa14714b4f450630859d\": [{\"Year\": 2010, \"Value\": \"Med_Rent\", \"Pct_Change\": 0.0}, {\"Year\": 2011, \"Value\": \"Med_Rent\", \"Pct_Change\": 1.871345029239757}, {\"Year\": 2012, \"Value\": \"Med_Rent\", \"Pct_Change\": 3.3638823426725972}, {\"Year\": 2013, \"Value\": \"Med_Rent\", \"Pct_Change\": 5.739447953532317}, {\"Year\": 2014, \"Value\": \"Med_Rent\", \"Pct_Change\": 8.943867843035068}, {\"Year\": 2015, \"Value\": \"Med_Rent\", \"Pct_Change\": 11.620527371942991}, {\"Year\": 2016, \"Value\": \"Med_Rent\", \"Pct_Change\": 13.914583680597836}, {\"Year\": 2017, \"Value\": \"Med_Rent\", \"Pct_Change\": 17.07462445531751}, {\"Year\": 2018, \"Value\": \"Med_Rent\", \"Pct_Change\": 21.62007900077205}], \"data-cb4b815d247c2fa5c32d450fe9467f4b\": [{\"Year\": 2010, \"Value\": \"Med_Mort_Inc\", \"Pct_Change\": 0.0}, {\"Year\": 2011, \"Value\": \"Med_Mort_Inc\", \"Pct_Change\": 1.8504387638305975}, {\"Year\": 2012, \"Value\": \"Med_Mort_Inc\", \"Pct_Change\": 4.116780775443263}, {\"Year\": 2013, \"Value\": \"Med_Mort_Inc\", \"Pct_Change\": 6.113117771780252}, {\"Year\": 2014, \"Value\": \"Med_Mort_Inc\", \"Pct_Change\": 9.05799117813686}, {\"Year\": 2015, \"Value\": \"Med_Mort_Inc\", \"Pct_Change\": 12.302365851082953}, {\"Year\": 2016, \"Value\": \"Med_Mort_Inc\", \"Pct_Change\": 15.258946354546365}, {\"Year\": 2017, \"Value\": \"Med_Mort_Inc\", \"Pct_Change\": 19.016740906564756}, {\"Year\": 2018, \"Value\": \"Med_Mort_Inc\", \"Pct_Change\": 21.87930614458469}], \"data-45b362d7abb9c202fe1d1d3fa1fbcba4\": [{\"Year\": 2010, \"Value\": \"Med_Rent_Inc\", \"Pct_Change\": 0.0}, {\"Year\": 2011, \"Value\": \"Med_Rent_Inc\", \"Pct_Change\": 0.8607198748043832}, {\"Year\": 2012, \"Value\": \"Med_Rent_Inc\", \"Pct_Change\": 3.9251108755801845}, {\"Year\": 2013, \"Value\": \"Med_Rent_Inc\", \"Pct_Change\": 6.898389008813144}, {\"Year\": 2014, \"Value\": \"Med_Rent_Inc\", \"Pct_Change\": 11.64985099711724}, {\"Year\": 2015, \"Value\": \"Med_Rent_Inc\", \"Pct_Change\": 15.941546740313338}, {\"Year\": 2016, \"Value\": \"Med_Rent_Inc\", \"Pct_Change\": 19.822443361256802}, {\"Year\": 2017, \"Value\": \"Med_Rent_Inc\", \"Pct_Change\": 24.331300044026527}, {\"Year\": 2018, \"Value\": \"Med_Rent_Inc\", \"Pct_Change\": 28.42991329518214}], \"data-1312dd03f0a763549776cd2f9d4c18ee\": [{\"x\": 2010, \"y\": 30.0, \"text\": \"30% increase\"}], \"data-b1061d46ddd1e195a9641d33a6d9400b\": [{\"x\": 2011, \"y\": 30.0, \"text\": \"____________________________________________________________________________\"}], \"data-6ea092795ae0a82af1627963e9606d68\": [{\"x\": 2012, \"y\": 29.3, \"text\": \"Renter\"}], \"data-edbaa32503381a1e1d68d4b29a822939\": [{\"x\": 2014, \"y\": 22.9, \"text\": \"Income\"}], \"data-696107cd9f2e6b5958456e8d98406dbe\": [{\"x\": 2013, \"y\": 27.3, \"text\": \"Homeowner\"}], \"data-17ecb6fad9908ff09ba9b684b3d5fee2\": [{\"x\": 2015, \"y\": 20.9, \"text\": \"Expenses\"}]}}, {\"mode\": \"vega-lite\"});\n",
       "</script>"
      ],
      "text/plain": [
       "alt.LayerChart(...)"
      ]
     },
     "execution_count": 61,
     "metadata": {},
     "output_type": "execute_result"
    }
   ],
   "source": [
    "inc_hous_chg"
   ]
  },
  {
   "cell_type": "code",
   "execution_count": 24,
   "metadata": {},
   "outputs": [],
   "source": [
    "inc_hous_chg.save('inc_hous_chg_1018.png', scale_factor=6)"
   ]
  },
  {
   "cell_type": "code",
   "execution_count": 62,
   "metadata": {},
   "outputs": [],
   "source": [
    "inc_hous_chg.save('inc_hous_chg_1018.svg')"
   ]
  },
  {
   "cell_type": "markdown",
   "metadata": {},
   "source": [
    "---"
   ]
  },
  {
   "cell_type": "code",
   "execution_count": 78,
   "metadata": {},
   "outputs": [],
   "source": [
    "nat_mort_inc = alt.Chart(rent_mort_inc1\n",
    "                    ).mark_area(opacity=.7, strokeCap='round', color='#97c2f2', interpolate='basis'\n",
    "                               ).encode(x=alt.X('Year:O', axis=alt.Axis(values=[2010,2018], ticks=True, tickSize=13, \n",
    "                                                                        labelFontSize=23, labelOpacity=.7, labelPadding=13)), \n",
    "                                        y=alt.Y('Med_Mort_Inc',\n",
    "                                               axis=alt.Axis(values=list(range(1000, 8000, 1000)), format='~s', \n",
    "                                                             labelPadding=30, \n",
    "                                                             labelOpacity=.7,\n",
    "                                                             labelFontSize=23)))"
   ]
  },
  {
   "cell_type": "code",
   "execution_count": 79,
   "metadata": {},
   "outputs": [],
   "source": [
    "nat_rent_inc = alt.Chart(rent_mort_inc1, title='Median Income (Renters)'\n",
    "                    ).mark_area(opacity=.7, strokeCap='round', color='#cede54', interpolate='basis'\n",
    "                               ).encode(x=alt.X('Year:O', axis=alt.Axis(values=[2010,2018], ticks=True, tickSize=13, labelFontSize=23, \n",
    "                                                                        labelOpacity=.7, labelPadding=13)), \n",
    "                                        y=alt.Y('Med_Rent_Inc',\n",
    "                                               axis=alt.Axis(values=list(range(1000, 8000, 1000)), format='~s', \n",
    "                                                             titleX=-31, titleY=-40, titleOpacity=.7, titleFontSize=26,\n",
    "                                                             labelPadding=30, labelOpacity=.7, labelFontSize=23)))"
   ]
  },
  {
   "cell_type": "code",
   "execution_count": 80,
   "metadata": {},
   "outputs": [],
   "source": [
    "nat_mort = alt.Chart(rent_mort_inc1\n",
    "                    ).mark_line(size=5, strokeCap='round', color='#97c2f2', interpolate='basis'\n",
    "                               ).encode(x=alt.X('Year:O', axis=alt.Axis(values=[2010,2018], ticks=True, tickSize=13, \n",
    "                                                                        labelFontSize=16, labelOpacity=.7, labelPadding=13)), \n",
    "                                        y=alt.Y('Med_Mort',\n",
    "                                               axis=alt.Axis(labelPadding=40, labelOpacity=.7,labelFontSize=16, format='<a'),\n",
    "                                               scale=alt.Scale(domain=[400,1400])))"
   ]
  },
  {
   "cell_type": "code",
   "execution_count": 81,
   "metadata": {},
   "outputs": [],
   "source": [
    "nat_rent = alt.Chart(rent_mort_inc1, title='Monthly Housing Expenses'\n",
    "                    ).mark_line(size=5, strokeCap='round', color='#cede54', interpolate='basis'\n",
    "                               ).encode(x=alt.X('Year:O', axis=alt.Axis(values=[2010,2018], ticks=True, tickSize=13, \n",
    "                                                                        labelFontSize=16, labelOpacity=.7, labelPadding=13)), \n",
    "                                        y=alt.Y('Med_Rent', title='Renter housing expenses are now almost equal to homeowner expenses',\n",
    "                                               axis=alt.Axis(values=list(range(600, 1300, 200)), format='<a',\n",
    "                                                             titleX=-50, titleY=-40, titleOpacity=.7, titleFontSize=18,\n",
    "                                                             labelPadding=40, labelOpacity=.7,labelFontSize=16),\n",
    "                                               scale=alt.Scale(domain=[400,1400])))\n",
    "\n",
    "df = pd.DataFrame({'x':[2010,2011,2017,2016], 'y':[1400, 1400, 1150, 930], 'text':['$1400 per month', '_'*82, 'Homeowners', 'Renters']})\n",
    "y_label = alt.Chart(df.query('x==2010')\n",
    "                   ).mark_text(dx=-20, font='lato', fontSize=16, opacity=.7\n",
    "                   ).encode(x='x:O', y='y', text='text')\n",
    "\n",
    "line = alt.Chart(df.query('x==2011')).mark_text(dx=240, dy=-4, opacity=.09, \n",
    "                                                fontSize=11.5, fontWeight='bold').encode(x='x:O', y='y', text='text')\n",
    "\n",
    "homeowners = alt.Chart(df.query('x==2017')).mark_text(dx=0, dy=0, font='lato', fontSize=22, color='#81addc').encode(x='x:O', y='y', text='text')\n",
    "renters = alt.Chart(df.query('x==2016')).mark_text(dx=60, dy=0, font='lato', fontSize=22, color='#b7c83e').encode(x='x:O', y='y', text='text')"
   ]
  },
  {
   "cell_type": "code",
   "execution_count": 82,
   "metadata": {},
   "outputs": [
    {
     "data": {
      "text/html": [
       "\n",
       "<div id=\"altair-viz-29\"></div>\n",
       "<script type=\"text/javascript\">\n",
       "  (function(spec, embedOpt){\n",
       "    const outputDiv = document.getElementById(\"altair-viz-29\");\n",
       "    const paths = {\n",
       "      \"vega\": \"https://cdn.jsdelivr.net/npm//vega@5?noext\",\n",
       "      \"vega-lib\": \"https://cdn.jsdelivr.net/npm//vega-lib?noext\",\n",
       "      \"vega-lite\": \"https://cdn.jsdelivr.net/npm//vega-lite@4.0.0?noext\",\n",
       "      \"vega-embed\": \"https://cdn.jsdelivr.net/npm//vega-embed@6?noext\",\n",
       "    };\n",
       "\n",
       "    function loadScript(lib) {\n",
       "      return new Promise(function(resolve, reject) {\n",
       "        var s = document.createElement('script');\n",
       "        s.src = paths[lib];\n",
       "        s.async = true;\n",
       "        s.onload = () => resolve(paths[lib]);\n",
       "        s.onerror = () => reject(`Error loading script: ${paths[lib]}`);\n",
       "        document.getElementsByTagName(\"head\")[0].appendChild(s);\n",
       "      });\n",
       "    }\n",
       "\n",
       "    function showError(err) {\n",
       "      outputDiv.innerHTML = `<div class=\"error\" style=\"color:red;\">${err}</div>`;\n",
       "      throw err;\n",
       "    }\n",
       "\n",
       "    function displayChart(vegaEmbed) {\n",
       "      vegaEmbed(outputDiv, spec, embedOpt)\n",
       "        .catch(err => showError(`Javascript Error: ${err.message}<br>This usually means there's a typo in your chart specification. See the javascript console for the full traceback.`));\n",
       "    }\n",
       "\n",
       "    if(typeof define === \"function\" && define.amd) {\n",
       "      requirejs.config({paths});\n",
       "      require([\"vega-embed\"], displayChart, err => showError(`Error loading script: ${err.message}`));\n",
       "    } else if (typeof vegaEmbed === \"function\") {\n",
       "      displayChart(vegaEmbed);\n",
       "    } else {\n",
       "      loadScript(\"vega\")\n",
       "        .then(() => loadScript(\"vega-lite\"))\n",
       "        .then(() => loadScript(\"vega-embed\"))\n",
       "        .catch(showError)\n",
       "        .then(() => displayChart(vegaEmbed));\n",
       "    }\n",
       "  })({\"width\": 600, \"height\": 400, \"background\": \"white\", \"config\": {\"title\": {\"fontWeight\": \"normal\", \"fontSize\": 22, \"anchor\": \"start\", \"font\": \"Lato\", \"offset\": 5}, \"axisX\": {\"grid\": false, \"labelFont\": \"Lato\", \"labelFontSize\": 16, \"labelAngle\": 0, \"labelPadding\": 10, \"ticks\": false, \"tickSize\": 5, \"title\": null, \"titleFont\": \"Lato\", \"titleFontSize\": 16, \"titleFontWeight\": \"normal\", \"titleY\": 30, \"titleX\": 280}, \"axisY\": {\"grid\": true, \"gridOpacity\": 1, \"labelFont\": \"Lato\", \"labelFontSize\": 16, \"labelLimit\": 100, \"labelAlign\": \"left\", \"labelPadding\": 20, \"ticks\": false, \"title\": null, \"titleFont\": \"Lato\", \"titleFontWeight\": \"normal\", \"titleFontSize\": 16, \"titleAlign\": \"left\", \"titleAngle\": 0, \"titleY\": -20, \"titleX\": -20, \"domainWidth\": 0}, \"view\": {\"strokeOpacity\": 0}}, \"layer\": [{\"mark\": {\"type\": \"line\", \"color\": \"#97c2f2\", \"interpolate\": \"basis\", \"size\": 5, \"strokeCap\": \"round\"}, \"encoding\": {\"x\": {\"type\": \"ordinal\", \"axis\": {\"labelFontSize\": 16, \"labelOpacity\": 0.7, \"labelPadding\": 13, \"tickSize\": 13, \"ticks\": true, \"values\": [2010, 2018]}, \"field\": \"Year\"}, \"y\": {\"type\": \"quantitative\", \"axis\": {\"format\": \"<a\", \"labelFontSize\": 16, \"labelOpacity\": 0.7, \"labelPadding\": 40}, \"field\": \"Med_Mort\", \"scale\": {\"domain\": [400, 1400]}}}}, {\"mark\": {\"type\": \"line\", \"color\": \"#cede54\", \"interpolate\": \"basis\", \"size\": 5, \"strokeCap\": \"round\"}, \"encoding\": {\"x\": {\"type\": \"ordinal\", \"axis\": {\"labelFontSize\": 16, \"labelOpacity\": 0.7, \"labelPadding\": 13, \"tickSize\": 13, \"ticks\": true, \"values\": [2010, 2018]}, \"field\": \"Year\"}, \"y\": {\"type\": \"quantitative\", \"axis\": {\"format\": \"<a\", \"labelFontSize\": 16, \"labelOpacity\": 0.7, \"labelPadding\": 40, \"titleFontSize\": 18, \"titleOpacity\": 0.7, \"titleX\": -50, \"titleY\": -40, \"values\": [600, 800, 1000, 1200]}, \"field\": \"Med_Rent\", \"scale\": {\"domain\": [400, 1400]}, \"title\": \"Renter housing expenses are now almost equal to homeowner expenses\"}}, \"title\": \"Monthly Housing Expenses\"}, {\"data\": {\"name\": \"data-d6ee621bd170f7d18843c20a78328718\"}, \"mark\": {\"type\": \"text\", \"dx\": -20, \"font\": \"lato\", \"fontSize\": 16, \"opacity\": 0.7}, \"encoding\": {\"text\": {\"type\": \"nominal\", \"field\": \"text\"}, \"x\": {\"type\": \"ordinal\", \"field\": \"x\"}, \"y\": {\"type\": \"quantitative\", \"field\": \"y\"}}}, {\"data\": {\"name\": \"data-a59e81f22f97a7f01eb2d6d17f8d7982\"}, \"mark\": {\"type\": \"text\", \"dx\": 240, \"dy\": -4, \"fontSize\": 11.5, \"fontWeight\": \"bold\", \"opacity\": 0.09}, \"encoding\": {\"text\": {\"type\": \"nominal\", \"field\": \"text\"}, \"x\": {\"type\": \"ordinal\", \"field\": \"x\"}, \"y\": {\"type\": \"quantitative\", \"field\": \"y\"}}}, {\"data\": {\"name\": \"data-464e0f487171856bc3d4bc783ef0a361\"}, \"mark\": {\"type\": \"text\", \"color\": \"#81addc\", \"dx\": 0, \"dy\": 0, \"font\": \"lato\", \"fontSize\": 22}, \"encoding\": {\"text\": {\"type\": \"nominal\", \"field\": \"text\"}, \"x\": {\"type\": \"ordinal\", \"field\": \"x\"}, \"y\": {\"type\": \"quantitative\", \"field\": \"y\"}}}, {\"data\": {\"name\": \"data-fc573549b9148ee539fc51f47922de73\"}, \"mark\": {\"type\": \"text\", \"color\": \"#b7c83e\", \"dx\": 60, \"dy\": 0, \"font\": \"lato\", \"fontSize\": 22}, \"encoding\": {\"text\": {\"type\": \"nominal\", \"field\": \"text\"}, \"x\": {\"type\": \"ordinal\", \"field\": \"x\"}, \"y\": {\"type\": \"quantitative\", \"field\": \"y\"}}}], \"data\": {\"name\": \"data-d8f4465be593fe0768b1e32b56123bcc\"}, \"$schema\": \"https://vega.github.io/schema/vega-lite/v4.0.0.json\", \"datasets\": {\"data-d8f4465be593fe0768b1e32b56123bcc\": [{\"Year\": 2010, \"Region\": \"United States\", \"Owners30\": 30.5, \"Renters30\": 48.9, \"Med_Mort\": 1104.0, \"Med_Rent\": 855.0, \"Med_Mort_Inc\": 5242.0, \"Med_Rent_Inc\": 2556.0, \"Owned_Units\": 74873372.0, \"Rented_Units\": 39694047.0, \"Mort_Rent_Diff\": -249.0, \"Rent_Mort_Diff\": 249.0, \"Rent_Mort_Diff_div_Rent\": 29.12, \"MR_Diff_Per_Rent_Inc\": -9.74, \"RM_Diff_Per_Mort_Inc\": 4.75, \"Mort_Less30\": 69.5, \"Rent_Less30\": 51.1, \"Total_Units\": 114567419.0, \"Owned_Units_Per_dec\": 0.654, \"Owned_Units_Per_whole\": 65.4, \"Rent_Units_Per_dec\": 0.34600000000000003, \"Rent_Units_Per_whole\": 34.599999999999994, \"Mort_Share_Inc_dec\": 0.21100000000000002, \"Mort_Share_Inc_whole\": 21.1, \"Rent_Share_Inc_dec\": 0.335, \"Rent_Share_Inc_whole\": 33.5}, {\"Year\": 2011, \"Region\": \"United States\", \"Owners30\": 29.6, \"Renters30\": 49.3, \"Med_Mort\": 1094.0, \"Med_Rent\": 871.0, \"Med_Mort_Inc\": 5339.0, \"Med_Rent_Inc\": 2578.0, \"Owned_Units\": 74264435.0, \"Rented_Units\": 40727290.0, \"Mort_Rent_Diff\": -223.0, \"Rent_Mort_Diff\": 223.0, \"Rent_Mort_Diff_div_Rent\": 25.6, \"MR_Diff_Per_Rent_Inc\": -8.65, \"RM_Diff_Per_Mort_Inc\": 4.18, \"Mort_Less30\": 70.4, \"Rent_Less30\": 50.7, \"Total_Units\": 114991725.0, \"Owned_Units_Per_dec\": 0.6459999999999999, \"Owned_Units_Per_whole\": 64.60000000000001, \"Rent_Units_Per_dec\": 0.354, \"Rent_Units_Per_whole\": 35.4, \"Mort_Share_Inc_dec\": 0.205, \"Mort_Share_Inc_whole\": 20.5, \"Rent_Share_Inc_dec\": 0.33799999999999997, \"Rent_Share_Inc_whole\": 33.800000000000004}, {\"Year\": 2012, \"Region\": \"United States\", \"Owners30\": 27.1, \"Renters30\": 48.1, \"Med_Mort\": 1066.0, \"Med_Rent\": 884.0, \"Med_Mort_Inc\": 5460.0, \"Med_Rent_Inc\": 2657.0, \"Owned_Units\": 74119256.0, \"Rented_Units\": 41850284.0, \"Mort_Rent_Diff\": -182.0, \"Rent_Mort_Diff\": 182.0, \"Rent_Mort_Diff_div_Rent\": 20.59, \"MR_Diff_Per_Rent_Inc\": -6.85, \"RM_Diff_Per_Mort_Inc\": 3.33, \"Mort_Less30\": 72.9, \"Rent_Less30\": 51.9, \"Total_Units\": 115969540.0, \"Owned_Units_Per_dec\": 0.639, \"Owned_Units_Per_whole\": 63.9, \"Rent_Units_Per_dec\": 0.361, \"Rent_Units_Per_whole\": 36.1, \"Mort_Share_Inc_dec\": 0.195, \"Mort_Share_Inc_whole\": 19.5, \"Rent_Share_Inc_dec\": 0.33299999999999996, \"Rent_Share_Inc_whole\": 33.300000000000004}, {\"Year\": 2013, \"Region\": \"United States\", \"Owners30\": 25.3, \"Renters30\": 47.7, \"Med_Mort\": 1031.0, \"Med_Rent\": 905.0, \"Med_Mort_Inc\": 5569.0, \"Med_Rent_Inc\": 2736.0, \"Owned_Units\": 73843861.0, \"Rented_Units\": 42447172.0, \"Mort_Rent_Diff\": -126.0, \"Rent_Mort_Diff\": 126.0, \"Rent_Mort_Diff_div_Rent\": 13.92, \"MR_Diff_Per_Rent_Inc\": -4.61, \"RM_Diff_Per_Mort_Inc\": 2.26, \"Mort_Less30\": 74.7, \"Rent_Less30\": 52.3, \"Total_Units\": 116291033.0, \"Owned_Units_Per_dec\": 0.635, \"Owned_Units_Per_whole\": 63.5, \"Rent_Units_Per_dec\": 0.365, \"Rent_Units_Per_whole\": 36.5, \"Mort_Share_Inc_dec\": 0.185, \"Mort_Share_Inc_whole\": 18.5, \"Rent_Share_Inc_dec\": 0.331, \"Rent_Share_Inc_whole\": 33.1}, {\"Year\": 2014, \"Region\": \"United States\", \"Owners30\": 24.8, \"Renters30\": 47.9, \"Med_Mort\": 1046.0, \"Med_Rent\": 934.0, \"Med_Mort_Inc\": 5733.0, \"Med_Rent_Inc\": 2866.0, \"Owned_Units\": 73991995.0, \"Rented_Units\": 43267432.0, \"Mort_Rent_Diff\": -112.0, \"Rent_Mort_Diff\": 112.0, \"Rent_Mort_Diff_div_Rent\": 11.99, \"MR_Diff_Per_Rent_Inc\": -3.91, \"RM_Diff_Per_Mort_Inc\": 1.95, \"Mort_Less30\": 75.2, \"Rent_Less30\": 52.1, \"Total_Units\": 117259427.0, \"Owned_Units_Per_dec\": 0.631, \"Owned_Units_Per_whole\": 63.1, \"Rent_Units_Per_dec\": 0.369, \"Rent_Units_Per_whole\": 36.9, \"Mort_Share_Inc_dec\": 0.182, \"Mort_Share_Inc_whole\": 18.2, \"Rent_Share_Inc_dec\": 0.326, \"Rent_Share_Inc_whole\": 32.6}, {\"Year\": 2015, \"Region\": \"United States\", \"Owners30\": 23.7, \"Renters30\": 46.8, \"Med_Mort\": 1062.0, \"Med_Rent\": 959.0, \"Med_Mort_Inc\": 5919.0, \"Med_Rent_Inc\": 2989.0, \"Owned_Units\": 74506512.0, \"Rented_Units\": 43701738.0, \"Mort_Rent_Diff\": -103.0, \"Rent_Mort_Diff\": 103.0, \"Rent_Mort_Diff_div_Rent\": 10.74, \"MR_Diff_Per_Rent_Inc\": -3.45, \"RM_Diff_Per_Mort_Inc\": 1.74, \"Mort_Less30\": 76.3, \"Rent_Less30\": 53.2, \"Total_Units\": 118208250.0, \"Owned_Units_Per_dec\": 0.63, \"Owned_Units_Per_whole\": 63.0, \"Rent_Units_Per_dec\": 0.37, \"Rent_Units_Per_whole\": 37.0, \"Mort_Share_Inc_dec\": 0.179, \"Mort_Share_Inc_whole\": 17.9, \"Rent_Share_Inc_dec\": 0.321, \"Rent_Share_Inc_whole\": 32.1}, {\"Year\": 2016, \"Region\": \"United States\", \"Owners30\": 22.7, \"Renters30\": 46.1, \"Med_Mort\": 1062.0, \"Med_Rent\": 981.0, \"Med_Mort_Inc\": 6094.0, \"Med_Rent_Inc\": 3105.0, \"Owned_Units\": 75022569.0, \"Rented_Units\": 43837496.0, \"Mort_Rent_Diff\": -81.0, \"Rent_Mort_Diff\": 81.0, \"Rent_Mort_Diff_div_Rent\": 8.26, \"MR_Diff_Per_Rent_Inc\": -2.61, \"RM_Diff_Per_Mort_Inc\": 1.33, \"Mort_Less30\": 77.3, \"Rent_Less30\": 53.9, \"Total_Units\": 118860065.0, \"Owned_Units_Per_dec\": 0.631, \"Owned_Units_Per_whole\": 63.1, \"Rent_Units_Per_dec\": 0.369, \"Rent_Units_Per_whole\": 36.9, \"Mort_Share_Inc_dec\": 0.174, \"Mort_Share_Inc_whole\": 17.4, \"Rent_Share_Inc_dec\": 0.316, \"Rent_Share_Inc_whole\": 31.6}, {\"Year\": 2017, \"Region\": \"United States\", \"Owners30\": 22.1, \"Renters30\": 45.9, \"Med_Mort\": 1079.0, \"Med_Rent\": 1012.0, \"Med_Mort_Inc\": 6323.0, \"Med_Rent_Inc\": 3245.0, \"Owned_Units\": 76684018.0, \"Rented_Units\": 43378800.0, \"Mort_Rent_Diff\": -67.0, \"Rent_Mort_Diff\": 67.0, \"Rent_Mort_Diff_div_Rent\": 6.62, \"MR_Diff_Per_Rent_Inc\": -2.06, \"RM_Diff_Per_Mort_Inc\": 1.06, \"Mort_Less30\": 77.9, \"Rent_Less30\": 54.1, \"Total_Units\": 120062818.0, \"Owned_Units_Per_dec\": 0.639, \"Owned_Units_Per_whole\": 63.9, \"Rent_Units_Per_dec\": 0.361, \"Rent_Units_Per_whole\": 36.1, \"Mort_Share_Inc_dec\": 0.171, \"Mort_Share_Inc_whole\": 17.1, \"Rent_Share_Inc_dec\": 0.312, \"Rent_Share_Inc_whole\": 31.2}, {\"Year\": 2018, \"Region\": \"United States\", \"Owners30\": 22.3, \"Renters30\": 46.1, \"Med_Mort\": 1103.0, \"Med_Rent\": 1058.0, \"Med_Mort_Inc\": 6504.0, \"Med_Rent_Inc\": 3378.0, \"Owned_Units\": 77708394.0, \"Rented_Units\": 43811786.0, \"Mort_Rent_Diff\": -45.0, \"Rent_Mort_Diff\": 45.0, \"Rent_Mort_Diff_div_Rent\": 4.25, \"MR_Diff_Per_Rent_Inc\": -1.33, \"RM_Diff_Per_Mort_Inc\": 0.69, \"Mort_Less30\": 77.7, \"Rent_Less30\": 53.9, \"Total_Units\": 121520180.0, \"Owned_Units_Per_dec\": 0.639, \"Owned_Units_Per_whole\": 63.9, \"Rent_Units_Per_dec\": 0.361, \"Rent_Units_Per_whole\": 36.1, \"Mort_Share_Inc_dec\": 0.17, \"Mort_Share_Inc_whole\": 17.0, \"Rent_Share_Inc_dec\": 0.313, \"Rent_Share_Inc_whole\": 31.3}], \"data-d6ee621bd170f7d18843c20a78328718\": [{\"x\": 2010, \"y\": 1400, \"text\": \"$1400 per month\"}], \"data-a59e81f22f97a7f01eb2d6d17f8d7982\": [{\"x\": 2011, \"y\": 1400, \"text\": \"__________________________________________________________________________________\"}], \"data-464e0f487171856bc3d4bc783ef0a361\": [{\"x\": 2017, \"y\": 1150, \"text\": \"Homeowners\"}], \"data-fc573549b9148ee539fc51f47922de73\": [{\"x\": 2016, \"y\": 930, \"text\": \"Renters\"}]}}, {\"mode\": \"vega-lite\"});\n",
       "</script>"
      ],
      "text/plain": [
       "alt.LayerChart(...)"
      ]
     },
     "execution_count": 82,
     "metadata": {},
     "output_type": "execute_result"
    }
   ],
   "source": [
    "hous_expens_chart = (nat_mort + nat_rent + y_label + line + homeowners + renters).configure_title(fontSize=22)\n",
    "hous_expens_chart"
   ]
  },
  {
   "cell_type": "code",
   "execution_count": 83,
   "metadata": {},
   "outputs": [],
   "source": [
    "hous_expens_chart.save('mort_rent_exp_1018.png', scale_factor=6)"
   ]
  },
  {
   "cell_type": "markdown",
   "metadata": {},
   "source": [
    "---"
   ]
  },
  {
   "cell_type": "code",
   "execution_count": 64,
   "metadata": {},
   "outputs": [],
   "source": [
    "file = pd.read_csv('county_rent_mort_inc_units_5yr.csv')"
   ]
  },
  {
   "cell_type": "code",
   "execution_count": 65,
   "metadata": {},
   "outputs": [],
   "source": [
    "cols = ['Year', 'FIPS', 'County', 'Med_Mort', 'Med_Rent', 'Med_Mort_Inc', 'Med_Rent_Inc', 'Mort_Share_Inc', 'Rent_Share_Inc', 'Total_Owned', 'Total_Rented']\n",
    "last = file[cols][file.Year == 2016]"
   ]
  },
  {
   "cell_type": "code",
   "execution_count": 66,
   "metadata": {},
   "outputs": [],
   "source": [
    "last['Rent_Share_Inc_Bin'] = last.Rent_Share_Inc.round().values\n",
    "last['Mort_Share_Inc_Bin'] = last.Mort_Share_Inc.round().values"
   ]
  },
  {
   "cell_type": "code",
   "execution_count": 67,
   "metadata": {},
   "outputs": [],
   "source": [
    "vals_dict = {}\n",
    "for val in last.Rent_Share_Inc_Bin.dropna().unique():\n",
    "    bin_fips = last.FIPS[last.Rent_Share_Inc_Bin == val].values\n",
    "    vals_dict[val] = len(bin_fips)"
   ]
  },
  {
   "cell_type": "code",
   "execution_count": 68,
   "metadata": {},
   "outputs": [],
   "source": [
    "df = pd.DataFrame(vals_dict.items())\n",
    "df.columns = ['Bin', 'Count']"
   ]
  },
  {
   "cell_type": "code",
   "execution_count": 69,
   "metadata": {},
   "outputs": [],
   "source": [
    "chart = alt.Chart(df, title='Renter Income Devoted to Housing (2014-2018)'\n",
    "                 ).mark_bar(size=11, color='#cede54'\n",
    "                           ).encode(x=alt.X('Bin', title='Income Devoted to Housing', axis=alt.Axis(titleY=35, titleOpacity=.7, labelOpacity=0)), \n",
    "                                    y=alt.Y('Count', title='In most counties, the median share of income devoted to housing is between 20% and 40%', \n",
    "                                            axis=alt.Axis(values=list(range(50,300,50)), \n",
    "                                                          titleX=-30, titleY=-30, titleOpacity=.7, labelOpacity=.7, labelPadding=30), \n",
    "                                            scale=alt.Scale(domain=[0,300])))\n",
    "x_text_df = pd.DataFrame({'x':list(range(5,60,5)), 'y':[0]*11, 'text':['   5%'] + [str(i) for i in range(10,60,5)]})\n",
    "x_text = alt.Chart(x_text_df).mark_text(dx=0, dy=17, fontSize=16, font='lato', opacity=.7).encode(x=alt.X('x'), y='y', text='text')\n",
    "y_text_df = pd.DataFrame({'x':[10], 'y':[300], 'text':['300 counties']})\n",
    "y_text = alt.Chart(y_text_df).mark_text(dx=-44, dy=0, fontSize=16, font='lato', opacity=.7).encode(x=alt.X('x', scale=alt.Scale(domain=[10,50])), y='y', text='text')\n",
    "line = alt.Chart(pd.DataFrame({'x1':[10.3], 'x2':[55], 'y1':[300]})).mark_rule(opacity=.15).encode(x=alt.X('x1', scale=alt.Scale(domain=[10,50])), x2='x2',y='y1')\n",
    "\n",
    "rent_inc_dist = (chart + line + x_text + y_text).configure_title(fontSize=20)"
   ]
  },
  {
   "cell_type": "code",
   "execution_count": 70,
   "metadata": {},
   "outputs": [
    {
     "data": {
      "text/html": [
       "\n",
       "<div id=\"altair-viz-17\"></div>\n",
       "<script type=\"text/javascript\">\n",
       "  (function(spec, embedOpt){\n",
       "    const outputDiv = document.getElementById(\"altair-viz-17\");\n",
       "    const paths = {\n",
       "      \"vega\": \"https://cdn.jsdelivr.net/npm//vega@5?noext\",\n",
       "      \"vega-lib\": \"https://cdn.jsdelivr.net/npm//vega-lib?noext\",\n",
       "      \"vega-lite\": \"https://cdn.jsdelivr.net/npm//vega-lite@4.0.0?noext\",\n",
       "      \"vega-embed\": \"https://cdn.jsdelivr.net/npm//vega-embed@6?noext\",\n",
       "    };\n",
       "\n",
       "    function loadScript(lib) {\n",
       "      return new Promise(function(resolve, reject) {\n",
       "        var s = document.createElement('script');\n",
       "        s.src = paths[lib];\n",
       "        s.async = true;\n",
       "        s.onload = () => resolve(paths[lib]);\n",
       "        s.onerror = () => reject(`Error loading script: ${paths[lib]}`);\n",
       "        document.getElementsByTagName(\"head\")[0].appendChild(s);\n",
       "      });\n",
       "    }\n",
       "\n",
       "    function showError(err) {\n",
       "      outputDiv.innerHTML = `<div class=\"error\" style=\"color:red;\">${err}</div>`;\n",
       "      throw err;\n",
       "    }\n",
       "\n",
       "    function displayChart(vegaEmbed) {\n",
       "      vegaEmbed(outputDiv, spec, embedOpt)\n",
       "        .catch(err => showError(`Javascript Error: ${err.message}<br>This usually means there's a typo in your chart specification. See the javascript console for the full traceback.`));\n",
       "    }\n",
       "\n",
       "    if(typeof define === \"function\" && define.amd) {\n",
       "      requirejs.config({paths});\n",
       "      require([\"vega-embed\"], displayChart, err => showError(`Error loading script: ${err.message}`));\n",
       "    } else if (typeof vegaEmbed === \"function\") {\n",
       "      displayChart(vegaEmbed);\n",
       "    } else {\n",
       "      loadScript(\"vega\")\n",
       "        .then(() => loadScript(\"vega-lite\"))\n",
       "        .then(() => loadScript(\"vega-embed\"))\n",
       "        .catch(showError)\n",
       "        .then(() => displayChart(vegaEmbed));\n",
       "    }\n",
       "  })({\"width\": 600, \"height\": 400, \"background\": \"white\", \"config\": {\"title\": {\"fontWeight\": \"normal\", \"fontSize\": 20, \"anchor\": \"start\", \"font\": \"Lato\", \"offset\": 5}, \"axisX\": {\"grid\": false, \"labelFont\": \"Lato\", \"labelFontSize\": 16, \"labelAngle\": 0, \"labelPadding\": 10, \"ticks\": false, \"tickSize\": 5, \"title\": null, \"titleFont\": \"Lato\", \"titleFontSize\": 16, \"titleFontWeight\": \"normal\", \"titleY\": 30, \"titleX\": 280}, \"axisY\": {\"grid\": true, \"gridOpacity\": 1, \"labelFont\": \"Lato\", \"labelFontSize\": 16, \"labelLimit\": 100, \"labelAlign\": \"left\", \"labelPadding\": 20, \"ticks\": false, \"title\": null, \"titleFont\": \"Lato\", \"titleFontWeight\": \"normal\", \"titleFontSize\": 16, \"titleAlign\": \"left\", \"titleAngle\": 0, \"titleY\": -20, \"titleX\": -20, \"domainWidth\": 0}, \"view\": {\"strokeOpacity\": 0}}, \"layer\": [{\"data\": {\"name\": \"data-6cff287b501bbe338755d2392dbd2d54\"}, \"mark\": {\"type\": \"bar\", \"color\": \"#cede54\", \"size\": 11}, \"encoding\": {\"x\": {\"type\": \"quantitative\", \"axis\": {\"labelOpacity\": 0, \"titleOpacity\": 0.7, \"titleY\": 35}, \"field\": \"Bin\", \"title\": \"Income Devoted to Housing\"}, \"y\": {\"type\": \"quantitative\", \"axis\": {\"labelOpacity\": 0.7, \"labelPadding\": 30, \"titleOpacity\": 0.7, \"titleX\": -30, \"titleY\": -30, \"values\": [50, 100, 150, 200, 250]}, \"field\": \"Count\", \"scale\": {\"domain\": [0, 300]}, \"title\": \"In most counties, the median share of income devoted to housing is between 20% and 40%\"}}, \"title\": \"Renter Income Devoted to Housing (2014-2018)\"}, {\"data\": {\"name\": \"data-9563707fa4e0fff82f50cab0829ea9f3\"}, \"mark\": {\"type\": \"rule\", \"opacity\": 0.15}, \"encoding\": {\"x\": {\"type\": \"quantitative\", \"field\": \"x1\", \"scale\": {\"domain\": [10, 50]}}, \"x2\": {\"field\": \"x2\"}, \"y\": {\"type\": \"quantitative\", \"field\": \"y1\"}}}, {\"data\": {\"name\": \"data-4893136b9156606a4b0bfac83e423081\"}, \"mark\": {\"type\": \"text\", \"dx\": 0, \"dy\": 17, \"font\": \"lato\", \"fontSize\": 16, \"opacity\": 0.7}, \"encoding\": {\"text\": {\"type\": \"nominal\", \"field\": \"text\"}, \"x\": {\"type\": \"quantitative\", \"field\": \"x\"}, \"y\": {\"type\": \"quantitative\", \"field\": \"y\"}}}, {\"data\": {\"name\": \"data-4a9602a2b82813a3f469ea1330b1523f\"}, \"mark\": {\"type\": \"text\", \"dx\": -44, \"dy\": 0, \"font\": \"lato\", \"fontSize\": 16, \"opacity\": 0.7}, \"encoding\": {\"text\": {\"type\": \"nominal\", \"field\": \"text\"}, \"x\": {\"type\": \"quantitative\", \"field\": \"x\", \"scale\": {\"domain\": [10, 50]}}, \"y\": {\"type\": \"quantitative\", \"field\": \"y\"}}}], \"$schema\": \"https://vega.github.io/schema/vega-lite/v4.0.0.json\", \"datasets\": {\"data-6cff287b501bbe338755d2392dbd2d54\": [{\"Bin\": 33.0, \"Count\": 145}, {\"Bin\": 31.0, \"Count\": 221}, {\"Bin\": 38.0, \"Count\": 61}, {\"Bin\": 34.0, \"Count\": 166}, {\"Bin\": 30.0, \"Count\": 274}, {\"Bin\": 32.0, \"Count\": 197}, {\"Bin\": 40.0, \"Count\": 35}, {\"Bin\": 36.0, \"Count\": 99}, {\"Bin\": 22.0, \"Count\": 104}, {\"Bin\": 28.0, \"Count\": 259}, {\"Bin\": 35.0, \"Count\": 87}, {\"Bin\": 26.0, \"Count\": 209}, {\"Bin\": 29.0, \"Count\": 195}, {\"Bin\": 39.0, \"Count\": 34}, {\"Bin\": 24.0, \"Count\": 167}, {\"Bin\": 41.0, \"Count\": 23}, {\"Bin\": 25.0, \"Count\": 143}, {\"Bin\": 49.0, \"Count\": 3}, {\"Bin\": 45.0, \"Count\": 14}, {\"Bin\": 27.0, \"Count\": 182}, {\"Bin\": 37.0, \"Count\": 61}, {\"Bin\": 18.0, \"Count\": 44}, {\"Bin\": 19.0, \"Count\": 30}, {\"Bin\": 16.0, \"Count\": 25}, {\"Bin\": 14.0, \"Count\": 13}, {\"Bin\": 21.0, \"Count\": 65}, {\"Bin\": 20.0, \"Count\": 62}, {\"Bin\": 17.0, \"Count\": 21}, {\"Bin\": 23.0, \"Count\": 95}, {\"Bin\": 8.0, \"Count\": 1}, {\"Bin\": 42.0, \"Count\": 16}, {\"Bin\": 44.0, \"Count\": 11}, {\"Bin\": 43.0, \"Count\": 13}, {\"Bin\": 46.0, \"Count\": 7}, {\"Bin\": 12.0, \"Count\": 2}, {\"Bin\": 47.0, \"Count\": 7}, {\"Bin\": 48.0, \"Count\": 5}, {\"Bin\": 50.0, \"Count\": 1}, {\"Bin\": 15.0, \"Count\": 9}, {\"Bin\": 13.0, \"Count\": 6}, {\"Bin\": 11.0, \"Count\": 1}, {\"Bin\": 10.0, \"Count\": 1}, {\"Bin\": 7.0, \"Count\": 1}], \"data-9563707fa4e0fff82f50cab0829ea9f3\": [{\"x1\": 10.3, \"x2\": 55, \"y1\": 300}], \"data-4893136b9156606a4b0bfac83e423081\": [{\"x\": 5, \"y\": 0, \"text\": \"   5%\"}, {\"x\": 10, \"y\": 0, \"text\": \"10\"}, {\"x\": 15, \"y\": 0, \"text\": \"15\"}, {\"x\": 20, \"y\": 0, \"text\": \"20\"}, {\"x\": 25, \"y\": 0, \"text\": \"25\"}, {\"x\": 30, \"y\": 0, \"text\": \"30\"}, {\"x\": 35, \"y\": 0, \"text\": \"35\"}, {\"x\": 40, \"y\": 0, \"text\": \"40\"}, {\"x\": 45, \"y\": 0, \"text\": \"45\"}, {\"x\": 50, \"y\": 0, \"text\": \"50\"}, {\"x\": 55, \"y\": 0, \"text\": \"55\"}], \"data-4a9602a2b82813a3f469ea1330b1523f\": [{\"x\": 10, \"y\": 300, \"text\": \"300 counties\"}]}}, {\"mode\": \"vega-lite\"});\n",
       "</script>"
      ],
      "text/plain": [
       "alt.LayerChart(...)"
      ]
     },
     "execution_count": 70,
     "metadata": {},
     "output_type": "execute_result"
    }
   ],
   "source": [
    "rent_inc_dist"
   ]
  },
  {
   "cell_type": "code",
   "execution_count": 71,
   "metadata": {},
   "outputs": [],
   "source": [
    "rent_inc_dist.save('rent_inc_share_dist.png', scale_factor=6)"
   ]
  },
  {
   "cell_type": "code",
   "execution_count": 72,
   "metadata": {},
   "outputs": [],
   "source": [
    "vals_dict = {}\n",
    "for val in last.Mort_Share_Inc_Bin.dropna().unique():\n",
    "    bin_fips = last.FIPS[last.Mort_Share_Inc_Bin == val].values\n",
    "    vals_dict[val] = len(bin_fips)"
   ]
  },
  {
   "cell_type": "code",
   "execution_count": 73,
   "metadata": {},
   "outputs": [],
   "source": [
    "df = pd.DataFrame(vals_dict.items())\n",
    "df.columns = ['Bin', 'Count']"
   ]
  },
  {
   "cell_type": "code",
   "execution_count": 74,
   "metadata": {},
   "outputs": [],
   "source": [
    "chart = alt.Chart(df, title='Homeowner Income Devoted to Housing (2014-2018)'\n",
    "                 ).mark_bar(size=11, color='#97c2f2'\n",
    "                           ).encode(x=alt.X('Bin', title='Income Devoted to Housing', axis=alt.Axis(titleY=35, titleOpacity=.7, labelOpacity=0)), \n",
    "                                    y=alt.Y('Count', title='In most counties, the median share of income devoted to housing is between 10% and 20%', \n",
    "                                            axis=alt.Axis(values=list(range(100,500,100)), \n",
    "                                                          titleX=-30, titleY=-30, titleOpacity=.7, labelOpacity=.7, labelPadding=30), \n",
    "                                            scale=alt.Scale(domain=[0,500])))\n",
    "x_text_df = pd.DataFrame({'x':list(range(5,35,5)), 'y':[0]*6, 'text':['   5%'] + [str(i) for i in range(10,35,5)]})\n",
    "x_text = alt.Chart(x_text_df).mark_text(dx=0, dy=17, fontSize=16, font='lato', opacity=.7).encode(x=alt.X('x'), y='y', text='text')\n",
    "y_text_df = pd.DataFrame({'x':[10], 'y':[500], 'text':['500 counties']})\n",
    "y_text = alt.Chart(y_text_df).mark_text(dx=-44, dy=0, fontSize=16, font='lato', opacity=.7).encode(x=alt.X('x', scale=alt.Scale(domain=[10,50])), y='y', text='text')\n",
    "line = alt.Chart(pd.DataFrame({'x1':[10.3], 'x2':[55], 'y1':[500]})).mark_rule(opacity=.15).encode(x=alt.X('x1', scale=alt.Scale(domain=[10,50])), x2='x2',y='y1')\n",
    "\n",
    "mort_inc_dist = (line + chart + x_text + y_text).configure_title(fontSize=20)"
   ]
  },
  {
   "cell_type": "code",
   "execution_count": 75,
   "metadata": {},
   "outputs": [
    {
     "data": {
      "text/html": [
       "\n",
       "<div id=\"altair-viz-18\"></div>\n",
       "<script type=\"text/javascript\">\n",
       "  (function(spec, embedOpt){\n",
       "    const outputDiv = document.getElementById(\"altair-viz-18\");\n",
       "    const paths = {\n",
       "      \"vega\": \"https://cdn.jsdelivr.net/npm//vega@5?noext\",\n",
       "      \"vega-lib\": \"https://cdn.jsdelivr.net/npm//vega-lib?noext\",\n",
       "      \"vega-lite\": \"https://cdn.jsdelivr.net/npm//vega-lite@4.0.0?noext\",\n",
       "      \"vega-embed\": \"https://cdn.jsdelivr.net/npm//vega-embed@6?noext\",\n",
       "    };\n",
       "\n",
       "    function loadScript(lib) {\n",
       "      return new Promise(function(resolve, reject) {\n",
       "        var s = document.createElement('script');\n",
       "        s.src = paths[lib];\n",
       "        s.async = true;\n",
       "        s.onload = () => resolve(paths[lib]);\n",
       "        s.onerror = () => reject(`Error loading script: ${paths[lib]}`);\n",
       "        document.getElementsByTagName(\"head\")[0].appendChild(s);\n",
       "      });\n",
       "    }\n",
       "\n",
       "    function showError(err) {\n",
       "      outputDiv.innerHTML = `<div class=\"error\" style=\"color:red;\">${err}</div>`;\n",
       "      throw err;\n",
       "    }\n",
       "\n",
       "    function displayChart(vegaEmbed) {\n",
       "      vegaEmbed(outputDiv, spec, embedOpt)\n",
       "        .catch(err => showError(`Javascript Error: ${err.message}<br>This usually means there's a typo in your chart specification. See the javascript console for the full traceback.`));\n",
       "    }\n",
       "\n",
       "    if(typeof define === \"function\" && define.amd) {\n",
       "      requirejs.config({paths});\n",
       "      require([\"vega-embed\"], displayChart, err => showError(`Error loading script: ${err.message}`));\n",
       "    } else if (typeof vegaEmbed === \"function\") {\n",
       "      displayChart(vegaEmbed);\n",
       "    } else {\n",
       "      loadScript(\"vega\")\n",
       "        .then(() => loadScript(\"vega-lite\"))\n",
       "        .then(() => loadScript(\"vega-embed\"))\n",
       "        .catch(showError)\n",
       "        .then(() => displayChart(vegaEmbed));\n",
       "    }\n",
       "  })({\"width\": 600, \"height\": 400, \"background\": \"white\", \"config\": {\"title\": {\"fontWeight\": \"normal\", \"fontSize\": 20, \"anchor\": \"start\", \"font\": \"Lato\", \"offset\": 5}, \"axisX\": {\"grid\": false, \"labelFont\": \"Lato\", \"labelFontSize\": 16, \"labelAngle\": 0, \"labelPadding\": 10, \"ticks\": false, \"tickSize\": 5, \"title\": null, \"titleFont\": \"Lato\", \"titleFontSize\": 16, \"titleFontWeight\": \"normal\", \"titleY\": 30, \"titleX\": 280}, \"axisY\": {\"grid\": true, \"gridOpacity\": 1, \"labelFont\": \"Lato\", \"labelFontSize\": 16, \"labelLimit\": 100, \"labelAlign\": \"left\", \"labelPadding\": 20, \"ticks\": false, \"title\": null, \"titleFont\": \"Lato\", \"titleFontWeight\": \"normal\", \"titleFontSize\": 16, \"titleAlign\": \"left\", \"titleAngle\": 0, \"titleY\": -20, \"titleX\": -20, \"domainWidth\": 0}, \"view\": {\"strokeOpacity\": 0}}, \"layer\": [{\"data\": {\"name\": \"data-8f7c72f0624d4b6aca37da8d24e8e19f\"}, \"mark\": {\"type\": \"rule\", \"opacity\": 0.15}, \"encoding\": {\"x\": {\"type\": \"quantitative\", \"field\": \"x1\", \"scale\": {\"domain\": [10, 50]}}, \"x2\": {\"field\": \"x2\"}, \"y\": {\"type\": \"quantitative\", \"field\": \"y1\"}}}, {\"data\": {\"name\": \"data-3bd123076f21c18d652abc9e5e9f723d\"}, \"mark\": {\"type\": \"bar\", \"color\": \"#97c2f2\", \"size\": 11}, \"encoding\": {\"x\": {\"type\": \"quantitative\", \"axis\": {\"labelOpacity\": 0, \"titleOpacity\": 0.7, \"titleY\": 35}, \"field\": \"Bin\", \"title\": \"Income Devoted to Housing\"}, \"y\": {\"type\": \"quantitative\", \"axis\": {\"labelOpacity\": 0.7, \"labelPadding\": 30, \"titleOpacity\": 0.7, \"titleX\": -30, \"titleY\": -30, \"values\": [100, 200, 300, 400]}, \"field\": \"Count\", \"scale\": {\"domain\": [0, 500]}, \"title\": \"In most counties, the median share of income devoted to housing is between 10% and 20%\"}}, \"title\": \"Homeowner Income Devoted to Housing (2014-2018)\"}, {\"data\": {\"name\": \"data-55b86b2343210df69ef3121c1ef72d35\"}, \"mark\": {\"type\": \"text\", \"dx\": 0, \"dy\": 17, \"font\": \"lato\", \"fontSize\": 16, \"opacity\": 0.7}, \"encoding\": {\"text\": {\"type\": \"nominal\", \"field\": \"text\"}, \"x\": {\"type\": \"quantitative\", \"field\": \"x\"}, \"y\": {\"type\": \"quantitative\", \"field\": \"y\"}}}, {\"data\": {\"name\": \"data-9173c0de8e8f4907406a62ec014a25fd\"}, \"mark\": {\"type\": \"text\", \"dx\": -44, \"dy\": 0, \"font\": \"lato\", \"fontSize\": 16, \"opacity\": 0.7}, \"encoding\": {\"text\": {\"type\": \"nominal\", \"field\": \"text\"}, \"x\": {\"type\": \"quantitative\", \"field\": \"x\", \"scale\": {\"domain\": [10, 50]}}, \"y\": {\"type\": \"quantitative\", \"field\": \"y\"}}}], \"$schema\": \"https://vega.github.io/schema/vega-lite/v4.0.0.json\", \"datasets\": {\"data-8f7c72f0624d4b6aca37da8d24e8e19f\": [{\"x1\": 10.3, \"x2\": 55, \"y1\": 500}], \"data-3bd123076f21c18d652abc9e5e9f723d\": [{\"Bin\": 16.0, \"Count\": 470}, {\"Bin\": 17.0, \"Count\": 264}, {\"Bin\": 13.0, \"Count\": 340}, {\"Bin\": 11.0, \"Count\": 141}, {\"Bin\": 14.0, \"Count\": 508}, {\"Bin\": 12.0, \"Count\": 280}, {\"Bin\": 10.0, \"Count\": 95}, {\"Bin\": 15.0, \"Count\": 380}, {\"Bin\": 21.0, \"Count\": 57}, {\"Bin\": 19.0, \"Count\": 123}, {\"Bin\": 9.0, \"Count\": 42}, {\"Bin\": 8.0, \"Count\": 19}, {\"Bin\": 20.0, \"Count\": 95}, {\"Bin\": 18.0, \"Count\": 228}, {\"Bin\": 22.0, \"Count\": 34}, {\"Bin\": 23.0, \"Count\": 12}, {\"Bin\": 25.0, \"Count\": 5}, {\"Bin\": 24.0, \"Count\": 15}, {\"Bin\": 7.0, \"Count\": 4}, {\"Bin\": 26.0, \"Count\": 2}, {\"Bin\": 6.0, \"Count\": 1}], \"data-55b86b2343210df69ef3121c1ef72d35\": [{\"x\": 5, \"y\": 0, \"text\": \"   5%\"}, {\"x\": 10, \"y\": 0, \"text\": \"10\"}, {\"x\": 15, \"y\": 0, \"text\": \"15\"}, {\"x\": 20, \"y\": 0, \"text\": \"20\"}, {\"x\": 25, \"y\": 0, \"text\": \"25\"}, {\"x\": 30, \"y\": 0, \"text\": \"30\"}], \"data-9173c0de8e8f4907406a62ec014a25fd\": [{\"x\": 10, \"y\": 500, \"text\": \"500 counties\"}]}}, {\"mode\": \"vega-lite\"});\n",
       "</script>"
      ],
      "text/plain": [
       "alt.LayerChart(...)"
      ]
     },
     "execution_count": 75,
     "metadata": {},
     "output_type": "execute_result"
    }
   ],
   "source": [
    "mort_inc_dist"
   ]
  },
  {
   "cell_type": "code",
   "execution_count": 97,
   "metadata": {},
   "outputs": [],
   "source": [
    "mort_inc_dist.save('mort_inc_share_dist.png', scale_factor=6)"
   ]
  },
  {
   "cell_type": "markdown",
   "metadata": {},
   "source": [
    "---"
   ]
  },
  {
   "cell_type": "markdown",
   "metadata": {},
   "source": [
    "Digging deeper into income devoted to housing:"
   ]
  },
  {
   "cell_type": "code",
   "execution_count": 76,
   "metadata": {},
   "outputs": [],
   "source": [
    "rent_hi = last[last.Med_Rent > last.Med_Mort]\n",
    "mort_hi = last[last.Med_Mort > last.Med_Rent]"
   ]
  },
  {
   "cell_type": "code",
   "execution_count": 77,
   "metadata": {},
   "outputs": [
    {
     "data": {
      "text/plain": [
       "1396"
      ]
     },
     "execution_count": 77,
     "metadata": {},
     "output_type": "execute_result"
    }
   ],
   "source": [
    "len(rent_hi)"
   ]
  },
  {
   "cell_type": "code",
   "execution_count": 78,
   "metadata": {},
   "outputs": [
    {
     "data": {
      "text/plain": [
       "1716"
      ]
     },
     "execution_count": 78,
     "metadata": {},
     "output_type": "execute_result"
    }
   ],
   "source": [
    "len(mort_hi)"
   ]
  },
  {
   "cell_type": "code",
   "execution_count": 79,
   "metadata": {},
   "outputs": [
    {
     "name": "stderr",
     "output_type": "stream",
     "text": [
      "C:\\Users\\Mahmoud\\Miniconda3\\envs\\data_analysis\\lib\\site-packages\\ipykernel_launcher.py:1: SettingWithCopyWarning: \n",
      "A value is trying to be set on a copy of a slice from a DataFrame.\n",
      "Try using .loc[row_indexer,col_indexer] = value instead\n",
      "\n",
      "See the caveats in the documentation: http://pandas.pydata.org/pandas-docs/stable/user_guide/indexing.html#returning-a-view-versus-a-copy\n",
      "  \"\"\"Entry point for launching an IPython kernel.\n",
      "C:\\Users\\Mahmoud\\Miniconda3\\envs\\data_analysis\\lib\\site-packages\\ipykernel_launcher.py:2: SettingWithCopyWarning: \n",
      "A value is trying to be set on a copy of a slice from a DataFrame.\n",
      "Try using .loc[row_indexer,col_indexer] = value instead\n",
      "\n",
      "See the caveats in the documentation: http://pandas.pydata.org/pandas-docs/stable/user_guide/indexing.html#returning-a-view-versus-a-copy\n",
      "  \n",
      "C:\\Users\\Mahmoud\\Miniconda3\\envs\\data_analysis\\lib\\site-packages\\ipykernel_launcher.py:3: SettingWithCopyWarning: \n",
      "A value is trying to be set on a copy of a slice from a DataFrame.\n",
      "Try using .loc[row_indexer,col_indexer] = value instead\n",
      "\n",
      "See the caveats in the documentation: http://pandas.pydata.org/pandas-docs/stable/user_guide/indexing.html#returning-a-view-versus-a-copy\n",
      "  This is separate from the ipykernel package so we can avoid doing imports until\n",
      "C:\\Users\\Mahmoud\\Miniconda3\\envs\\data_analysis\\lib\\site-packages\\ipykernel_launcher.py:4: SettingWithCopyWarning: \n",
      "A value is trying to be set on a copy of a slice from a DataFrame.\n",
      "Try using .loc[row_indexer,col_indexer] = value instead\n",
      "\n",
      "See the caveats in the documentation: http://pandas.pydata.org/pandas-docs/stable/user_guide/indexing.html#returning-a-view-versus-a-copy\n",
      "  after removing the cwd from sys.path.\n",
      "C:\\Users\\Mahmoud\\Miniconda3\\envs\\data_analysis\\lib\\site-packages\\ipykernel_launcher.py:5: SettingWithCopyWarning: \n",
      "A value is trying to be set on a copy of a slice from a DataFrame.\n",
      "Try using .loc[row_indexer,col_indexer] = value instead\n",
      "\n",
      "See the caveats in the documentation: http://pandas.pydata.org/pandas-docs/stable/user_guide/indexing.html#returning-a-view-versus-a-copy\n",
      "  \"\"\"\n",
      "C:\\Users\\Mahmoud\\Miniconda3\\envs\\data_analysis\\lib\\site-packages\\ipykernel_launcher.py:6: SettingWithCopyWarning: \n",
      "A value is trying to be set on a copy of a slice from a DataFrame.\n",
      "Try using .loc[row_indexer,col_indexer] = value instead\n",
      "\n",
      "See the caveats in the documentation: http://pandas.pydata.org/pandas-docs/stable/user_guide/indexing.html#returning-a-view-versus-a-copy\n",
      "  \n",
      "C:\\Users\\Mahmoud\\Miniconda3\\envs\\data_analysis\\lib\\site-packages\\ipykernel_launcher.py:8: SettingWithCopyWarning: \n",
      "A value is trying to be set on a copy of a slice from a DataFrame.\n",
      "Try using .loc[row_indexer,col_indexer] = value instead\n",
      "\n",
      "See the caveats in the documentation: http://pandas.pydata.org/pandas-docs/stable/user_guide/indexing.html#returning-a-view-versus-a-copy\n",
      "  \n",
      "C:\\Users\\Mahmoud\\Miniconda3\\envs\\data_analysis\\lib\\site-packages\\ipykernel_launcher.py:9: SettingWithCopyWarning: \n",
      "A value is trying to be set on a copy of a slice from a DataFrame.\n",
      "Try using .loc[row_indexer,col_indexer] = value instead\n",
      "\n",
      "See the caveats in the documentation: http://pandas.pydata.org/pandas-docs/stable/user_guide/indexing.html#returning-a-view-versus-a-copy\n",
      "  if __name__ == '__main__':\n",
      "C:\\Users\\Mahmoud\\Miniconda3\\envs\\data_analysis\\lib\\site-packages\\ipykernel_launcher.py:10: SettingWithCopyWarning: \n",
      "A value is trying to be set on a copy of a slice from a DataFrame.\n",
      "Try using .loc[row_indexer,col_indexer] = value instead\n",
      "\n",
      "See the caveats in the documentation: http://pandas.pydata.org/pandas-docs/stable/user_guide/indexing.html#returning-a-view-versus-a-copy\n",
      "  # Remove the CWD from sys.path while we load stuff.\n",
      "C:\\Users\\Mahmoud\\Miniconda3\\envs\\data_analysis\\lib\\site-packages\\ipykernel_launcher.py:11: SettingWithCopyWarning: \n",
      "A value is trying to be set on a copy of a slice from a DataFrame.\n",
      "Try using .loc[row_indexer,col_indexer] = value instead\n",
      "\n",
      "See the caveats in the documentation: http://pandas.pydata.org/pandas-docs/stable/user_guide/indexing.html#returning-a-view-versus-a-copy\n",
      "  # This is added back by InteractiveShellApp.init_path()\n",
      "C:\\Users\\Mahmoud\\Miniconda3\\envs\\data_analysis\\lib\\site-packages\\ipykernel_launcher.py:12: SettingWithCopyWarning: \n",
      "A value is trying to be set on a copy of a slice from a DataFrame.\n",
      "Try using .loc[row_indexer,col_indexer] = value instead\n",
      "\n",
      "See the caveats in the documentation: http://pandas.pydata.org/pandas-docs/stable/user_guide/indexing.html#returning-a-view-versus-a-copy\n",
      "  if sys.path[0] == '':\n",
      "C:\\Users\\Mahmoud\\Miniconda3\\envs\\data_analysis\\lib\\site-packages\\ipykernel_launcher.py:13: SettingWithCopyWarning: \n",
      "A value is trying to be set on a copy of a slice from a DataFrame.\n",
      "Try using .loc[row_indexer,col_indexer] = value instead\n",
      "\n",
      "See the caveats in the documentation: http://pandas.pydata.org/pandas-docs/stable/user_guide/indexing.html#returning-a-view-versus-a-copy\n",
      "  del sys.path[0]\n",
      "C:\\Users\\Mahmoud\\Miniconda3\\envs\\data_analysis\\lib\\site-packages\\ipykernel_launcher.py:26: SettingWithCopyWarning: \n",
      "A value is trying to be set on a copy of a slice from a DataFrame.\n",
      "Try using .loc[row_indexer,col_indexer] = value instead\n",
      "\n",
      "See the caveats in the documentation: http://pandas.pydata.org/pandas-docs/stable/user_guide/indexing.html#returning-a-view-versus-a-copy\n"
     ]
    }
   ],
   "source": [
    "rent_hi['Rent_Housing_Rent_Higher_Bin'] = rent_hi.Med_Rent.round().values\n",
    "rent_hi['Rent_Housing_Rent_Higher_Inc_Bin'] = rent_hi.Med_Rent_Inc.round().values\n",
    "rent_hi['Rent_Housing_Rent_Higher_Share_Inc_Bin'] = rent_hi.Rent_Share_Inc.round().values\n",
    "mort_hi['Rent_Housing_Mort_Higher_Bin'] = mort_hi.Med_Rent.round().values\n",
    "mort_hi['Rent_Housing_Mort_Higher_Inc_Bin'] = mort_hi.Med_Rent_Inc.round().values\n",
    "mort_hi['Rent_Housing_Mort_Higher_Share_Inc_Bin'] = mort_hi.Rent_Share_Inc.round().values\n",
    "\n",
    "mort_hi['Mort_Housing_Rent_Higher_Bin'] = mort_hi.Med_Mort.round().values\n",
    "mort_hi['Mort_Housing_Rent_Higher_Inc_Bin'] = mort_hi.Med_Mort_Inc.round().values\n",
    "mort_hi['Mort_Housing_Rent_Higher_Share_Inc_Bin'] = mort_hi.Mort_Share_Inc.round().values\n",
    "rent_hi['Mort_Housing_Mort_Higher_Bin'] = rent_hi.Med_Mort.round().values\n",
    "rent_hi['Mort_Housing_Mort_Higher_Inc_Bin'] = rent_hi.Med_Mort_Inc.round().values\n",
    "rent_hi['Mort_Housing_Mort_Higher_Share_Inc_Bin'] = rent_hi.Mort_Share_Inc.round().values\n",
    "\n",
    "rent_dict = {}\n",
    "dfs = [rent_hi, rent_hi, rent_hi, mort_hi, mort_hi, mort_hi, mort_hi, mort_hi, mort_hi, rent_hi, rent_hi, rent_hi]\n",
    "divs = [40, 200, 1]*2 + [40, 200, 1]*2\n",
    "counter = 0\n",
    "for col in ['Rent_Housing_Rent_Higher_Bin', 'Rent_Housing_Rent_Higher_Inc_Bin', \n",
    "            'Rent_Housing_Rent_Higher_Share_Inc_Bin', 'Rent_Housing_Mort_Higher_Bin', \n",
    "            'Rent_Housing_Mort_Higher_Inc_Bin', 'Rent_Housing_Mort_Higher_Share_Inc_Bin',\n",
    "            'Mort_Housing_Rent_Higher_Bin', 'Mort_Housing_Rent_Higher_Inc_Bin', \n",
    "            'Mort_Housing_Rent_Higher_Share_Inc_Bin', 'Mort_Housing_Mort_Higher_Bin', \n",
    "            'Mort_Housing_Mort_Higher_Inc_Bin', 'Mort_Housing_Mort_Higher_Share_Inc_Bin']:\n",
    "    df = dfs[counter]\n",
    "    df[col] = [int(round(i/divs[counter])*divs[counter]) for i in df[col].values]\n",
    "    vals_dict = {}\n",
    "    for val in df[col].dropna().unique():\n",
    "        bin_fips = df.FIPS[df[col] == val].values\n",
    "        vals_dict[val] = len(bin_fips)\n",
    "        \n",
    "        dataframe = pd.DataFrame(vals_dict.items())\n",
    "        dataframe.columns = ['Bin', 'Count']\n",
    "    rent_dict[col] = dataframe\n",
    "    counter += 1"
   ]
  },
  {
   "cell_type": "markdown",
   "metadata": {},
   "source": [
    "### Income Devoted to Housing"
   ]
  },
  {
   "cell_type": "markdown",
   "metadata": {},
   "source": [
    "#### (1) Renters:"
   ]
  },
  {
   "cell_type": "code",
   "execution_count": 90,
   "metadata": {},
   "outputs": [],
   "source": [
    "%run chart_theme.py"
   ]
  },
  {
   "cell_type": "code",
   "execution_count": 177,
   "metadata": {},
   "outputs": [],
   "source": [
    "charts_dict = {}\n",
    "keys = ['Rent_Housing_Rent_Higher_Bin', 'Rent_Housing_Mort_Higher_Bin', 'Mort_Housing_Rent_Higher_Bin', 'Mort_Housing_Mort_Higher_Bin']\n",
    "titles = ['Monthly Renter Housing Expense', ''] + ['', 'Monthly Homeowner Housing Expense']\n",
    "y_titles = ['Counties where renting is more expensive than owning', 'Counties where owning is more expensive than renting', 'Counties where renting is more expensive than owning', 'Counties where owning is more expensive than renting']\n",
    "opacities = [.8,.8,0,0]\n",
    "y_paddings = [55,55,0,0]\n",
    "colors = ['#cede54']*2 + ['#97c2f2']*2\n",
    "y_texts = [0,0,500,500]\n",
    "counter = 0\n",
    "for key in keys:\n",
    "    df = rent_dict[key]\n",
    "    chart = alt.Chart(df[df.Bin < 2200], title=titles[counter]\n",
    "                     ).mark_bar(size=14, color=colors[counter]\n",
    "                               ).encode(x=alt.X('Bin', title='', \n",
    "                                                axis=alt.Axis(values=list(range(800,2400,400)), titleY=35, titleOpacity=.8, titleFontSize=32, titleFontWeight='bold',\n",
    "                                                              labelOpacity=.7, labelFontSize=32, format='a'), \n",
    "                                                scale=alt.Scale(domain=[400,2000])), \n",
    "                                        y=alt.Y('Count', title=y_titles[counter], \n",
    "                                                axis=alt.Axis(values=list(range(80,240,80)), titleX=-y_paddings[counter], titleY=60, titleOpacity=.8, titleFontSize=36,\n",
    "                                                              labelOpacity=opacities[counter], labelPadding=y_paddings[counter], labelFontSize=32),\n",
    "                                                scale=alt.Scale(domain=[0,300])))\n",
    "\n",
    "    text_df = pd.DataFrame({'x':[400,300,1310,2460], 'y':[0,240,240,270], 'text':['$400','240 counties','_'*98,285]})\n",
    "    x_text = alt.Chart(text_df.query('x==400')).mark_text(dx=0, dy=26.5, fontSize=32, font='lato', opacity=.8).encode(x='x', y='y', text='text')\n",
    "    y_text = alt.Chart(text_df.query('x==300')).mark_text(dx=y_texts[counter], dy=0, fontSize=32, font='lato', opacity=opacities[counter]).encode(x='x', y='y', text='text')\n",
    "    line = alt.Chart(text_df.query('x==1310')).mark_text(dx=22, dy=-4, opacity=.09, fontSize=11.5, fontWeight='bold').encode(x=alt.X('x', scale=alt.Scale(domain=[300,1000])), y='y', text='text')\n",
    "    vert_line = alt.Chart(text_df.query('x==2460')).mark_rule(opacity=0, size=3).encode(x='x', y='y', y2='text')\n",
    "\n",
    "    combined = (line + chart + x_text + y_text + vert_line).properties(width=750, height=550)\n",
    "    charts_dict[counter] = combined\n",
    "    #combined.save(keys[counter] + str(counter) + '.png', scale_factor=6)\n",
    "    counter += 1"
   ]
  },
  {
   "cell_type": "code",
   "execution_count": 178,
   "metadata": {},
   "outputs": [
    {
     "data": {
      "text/html": [
       "\n",
       "<div id=\"altair-viz-60\"></div>\n",
       "<script type=\"text/javascript\">\n",
       "  (function(spec, embedOpt){\n",
       "    const outputDiv = document.getElementById(\"altair-viz-60\");\n",
       "    const paths = {\n",
       "      \"vega\": \"https://cdn.jsdelivr.net/npm//vega@5?noext\",\n",
       "      \"vega-lib\": \"https://cdn.jsdelivr.net/npm//vega-lib?noext\",\n",
       "      \"vega-lite\": \"https://cdn.jsdelivr.net/npm//vega-lite@4.0.0?noext\",\n",
       "      \"vega-embed\": \"https://cdn.jsdelivr.net/npm//vega-embed@6?noext\",\n",
       "    };\n",
       "\n",
       "    function loadScript(lib) {\n",
       "      return new Promise(function(resolve, reject) {\n",
       "        var s = document.createElement('script');\n",
       "        s.src = paths[lib];\n",
       "        s.async = true;\n",
       "        s.onload = () => resolve(paths[lib]);\n",
       "        s.onerror = () => reject(`Error loading script: ${paths[lib]}`);\n",
       "        document.getElementsByTagName(\"head\")[0].appendChild(s);\n",
       "      });\n",
       "    }\n",
       "\n",
       "    function showError(err) {\n",
       "      outputDiv.innerHTML = `<div class=\"error\" style=\"color:red;\">${err}</div>`;\n",
       "      throw err;\n",
       "    }\n",
       "\n",
       "    function displayChart(vegaEmbed) {\n",
       "      vegaEmbed(outputDiv, spec, embedOpt)\n",
       "        .catch(err => showError(`Javascript Error: ${err.message}<br>This usually means there's a typo in your chart specification. See the javascript console for the full traceback.`));\n",
       "    }\n",
       "\n",
       "    if(typeof define === \"function\" && define.amd) {\n",
       "      requirejs.config({paths});\n",
       "      require([\"vega-embed\"], displayChart, err => showError(`Error loading script: ${err.message}`));\n",
       "    } else if (typeof vegaEmbed === \"function\") {\n",
       "      displayChart(vegaEmbed);\n",
       "    } else {\n",
       "      loadScript(\"vega\")\n",
       "        .then(() => loadScript(\"vega-lite\"))\n",
       "        .then(() => loadScript(\"vega-embed\"))\n",
       "        .catch(showError)\n",
       "        .then(() => displayChart(vegaEmbed));\n",
       "    }\n",
       "  })({\"width\": 600, \"height\": 400, \"background\": \"white\", \"config\": {\"title\": {\"fontWeight\": \"normal\", \"fontSize\": 44, \"anchor\": \"start\", \"font\": \"Lato\", \"offset\": 5}, \"axisX\": {\"grid\": false, \"labelFont\": \"Lato\", \"labelFontSize\": 16, \"labelAngle\": 0, \"labelPadding\": 10, \"ticks\": false, \"tickSize\": 5, \"title\": null, \"titleFont\": \"Lato\", \"titleFontSize\": 16, \"titleFontWeight\": \"normal\", \"titleY\": 30, \"titleX\": 280}, \"axisY\": {\"grid\": true, \"gridOpacity\": 1, \"labelFont\": \"Lato\", \"labelFontSize\": 16, \"labelLimit\": 100, \"labelAlign\": \"left\", \"labelPadding\": 20, \"ticks\": false, \"title\": null, \"titleFont\": \"Lato\", \"titleFontWeight\": \"normal\", \"titleFontSize\": 16, \"titleAlign\": \"left\", \"titleAngle\": 0, \"titleY\": -20, \"titleX\": -20, \"domainWidth\": 0}, \"view\": {\"strokeOpacity\": 0}}, \"vconcat\": [{\"hconcat\": [{\"layer\": [{\"data\": {\"name\": \"data-7f5b432372f8b5a449ebd7308c69491e\"}, \"mark\": {\"type\": \"text\", \"dx\": 22, \"dy\": -4, \"fontSize\": 11.5, \"fontWeight\": \"bold\", \"opacity\": 0.09}, \"encoding\": {\"text\": {\"type\": \"nominal\", \"field\": \"text\"}, \"x\": {\"type\": \"quantitative\", \"field\": \"x\", \"scale\": {\"domain\": [300, 1000]}}, \"y\": {\"type\": \"quantitative\", \"field\": \"y\"}}}, {\"data\": {\"name\": \"data-79e3c1bf62d821641a063b2d78419e43\"}, \"mark\": {\"type\": \"bar\", \"color\": \"#cede54\", \"size\": 14}, \"encoding\": {\"x\": {\"type\": \"quantitative\", \"axis\": {\"format\": \"a\", \"labelFontSize\": 32, \"labelOpacity\": 0.7, \"titleFontSize\": 32, \"titleFontWeight\": \"bold\", \"titleOpacity\": 0.8, \"titleY\": 35, \"values\": [800, 1200, 1600, 2000]}, \"field\": \"Bin\", \"scale\": {\"domain\": [400, 2000]}, \"title\": \"\"}, \"y\": {\"type\": \"quantitative\", \"axis\": {\"labelFontSize\": 32, \"labelOpacity\": 0.8, \"labelPadding\": 55, \"titleFontSize\": 36, \"titleOpacity\": 0.8, \"titleX\": -55, \"titleY\": 60, \"values\": [80, 160]}, \"field\": \"Count\", \"scale\": {\"domain\": [0, 300]}, \"title\": \"Counties where renting is more expensive than owning\"}}, \"title\": \"Monthly Renter Housing Expense\"}, {\"data\": {\"name\": \"data-b82407ff56bf3e563eb8b27ba0c29967\"}, \"mark\": {\"type\": \"text\", \"dx\": 0, \"dy\": 26.5, \"font\": \"lato\", \"fontSize\": 32, \"opacity\": 0.8}, \"encoding\": {\"text\": {\"type\": \"nominal\", \"field\": \"text\"}, \"x\": {\"type\": \"quantitative\", \"field\": \"x\"}, \"y\": {\"type\": \"quantitative\", \"field\": \"y\"}}}, {\"data\": {\"name\": \"data-397cb914ff44c874a99902cec6ab743b\"}, \"mark\": {\"type\": \"text\", \"dx\": 0, \"dy\": 0, \"font\": \"lato\", \"fontSize\": 32, \"opacity\": 0.8}, \"encoding\": {\"text\": {\"type\": \"nominal\", \"field\": \"text\"}, \"x\": {\"type\": \"quantitative\", \"field\": \"x\"}, \"y\": {\"type\": \"quantitative\", \"field\": \"y\"}}}, {\"data\": {\"name\": \"data-49d4aa12e7c63890045fa604713c97c3\"}, \"mark\": {\"type\": \"rule\", \"opacity\": 0, \"size\": 3}, \"encoding\": {\"x\": {\"type\": \"quantitative\", \"field\": \"x\"}, \"y\": {\"type\": \"quantitative\", \"field\": \"y\"}, \"y2\": {\"field\": \"text\"}}}], \"height\": 550, \"width\": 750}, {\"layer\": [{\"data\": {\"name\": \"data-7f5b432372f8b5a449ebd7308c69491e\"}, \"mark\": {\"type\": \"text\", \"dx\": 22, \"dy\": -4, \"fontSize\": 11.5, \"fontWeight\": \"bold\", \"opacity\": 0.09}, \"encoding\": {\"text\": {\"type\": \"nominal\", \"field\": \"text\"}, \"x\": {\"type\": \"quantitative\", \"field\": \"x\", \"scale\": {\"domain\": [300, 1000]}}, \"y\": {\"type\": \"quantitative\", \"field\": \"y\"}}}, {\"data\": {\"name\": \"data-bc528808dd810b62f88166c11a68df7f\"}, \"mark\": {\"type\": \"bar\", \"color\": \"#97c2f2\", \"size\": 14}, \"encoding\": {\"x\": {\"type\": \"quantitative\", \"axis\": {\"format\": \"a\", \"labelFontSize\": 32, \"labelOpacity\": 0.7, \"titleFontSize\": 32, \"titleFontWeight\": \"bold\", \"titleOpacity\": 0.8, \"titleY\": 35, \"values\": [800, 1200, 1600, 2000]}, \"field\": \"Bin\", \"scale\": {\"domain\": [400, 2000]}, \"title\": \"\"}, \"y\": {\"type\": \"quantitative\", \"axis\": {\"labelFontSize\": 32, \"labelOpacity\": 0, \"labelPadding\": 0, \"titleFontSize\": 36, \"titleOpacity\": 0.8, \"titleX\": 0, \"titleY\": 60, \"values\": [80, 160]}, \"field\": \"Count\", \"scale\": {\"domain\": [0, 300]}, \"title\": \"Counties where owning is more expensive than renting\"}}, \"title\": \"Monthly Homeowner Housing Expense\"}, {\"data\": {\"name\": \"data-b82407ff56bf3e563eb8b27ba0c29967\"}, \"mark\": {\"type\": \"text\", \"dx\": 0, \"dy\": 26.5, \"font\": \"lato\", \"fontSize\": 32, \"opacity\": 0.8}, \"encoding\": {\"text\": {\"type\": \"nominal\", \"field\": \"text\"}, \"x\": {\"type\": \"quantitative\", \"field\": \"x\"}, \"y\": {\"type\": \"quantitative\", \"field\": \"y\"}}}, {\"data\": {\"name\": \"data-397cb914ff44c874a99902cec6ab743b\"}, \"mark\": {\"type\": \"text\", \"dx\": 500, \"dy\": 0, \"font\": \"lato\", \"fontSize\": 32, \"opacity\": 0}, \"encoding\": {\"text\": {\"type\": \"nominal\", \"field\": \"text\"}, \"x\": {\"type\": \"quantitative\", \"field\": \"x\"}, \"y\": {\"type\": \"quantitative\", \"field\": \"y\"}}}, {\"data\": {\"name\": \"data-49d4aa12e7c63890045fa604713c97c3\"}, \"mark\": {\"type\": \"rule\", \"opacity\": 0, \"size\": 3}, \"encoding\": {\"x\": {\"type\": \"quantitative\", \"field\": \"x\"}, \"y\": {\"type\": \"quantitative\", \"field\": \"y\"}, \"y2\": {\"field\": \"text\"}}}], \"height\": 550, \"width\": 750}]}, {\"hconcat\": [{\"layer\": [{\"data\": {\"name\": \"data-7f5b432372f8b5a449ebd7308c69491e\"}, \"mark\": {\"type\": \"text\", \"dx\": 22, \"dy\": -4, \"fontSize\": 11.5, \"fontWeight\": \"bold\", \"opacity\": 0.09}, \"encoding\": {\"text\": {\"type\": \"nominal\", \"field\": \"text\"}, \"x\": {\"type\": \"quantitative\", \"field\": \"x\", \"scale\": {\"domain\": [300, 1000]}}, \"y\": {\"type\": \"quantitative\", \"field\": \"y\"}}}, {\"data\": {\"name\": \"data-596de39fc94a253e2e591e00b4e5483c\"}, \"mark\": {\"type\": \"bar\", \"color\": \"#cede54\", \"size\": 14}, \"encoding\": {\"x\": {\"type\": \"quantitative\", \"axis\": {\"format\": \"a\", \"labelFontSize\": 32, \"labelOpacity\": 0.7, \"titleFontSize\": 32, \"titleFontWeight\": \"bold\", \"titleOpacity\": 0.8, \"titleY\": 35, \"values\": [800, 1200, 1600, 2000]}, \"field\": \"Bin\", \"scale\": {\"domain\": [400, 2000]}, \"title\": \"\"}, \"y\": {\"type\": \"quantitative\", \"axis\": {\"labelFontSize\": 32, \"labelOpacity\": 0.8, \"labelPadding\": 55, \"titleFontSize\": 36, \"titleOpacity\": 0.8, \"titleX\": -55, \"titleY\": 60, \"values\": [80, 160]}, \"field\": \"Count\", \"scale\": {\"domain\": [0, 300]}, \"title\": \"Counties where owning is more expensive than renting\"}}, \"title\": \"\"}, {\"data\": {\"name\": \"data-b82407ff56bf3e563eb8b27ba0c29967\"}, \"mark\": {\"type\": \"text\", \"dx\": 0, \"dy\": 26.5, \"font\": \"lato\", \"fontSize\": 32, \"opacity\": 0.8}, \"encoding\": {\"text\": {\"type\": \"nominal\", \"field\": \"text\"}, \"x\": {\"type\": \"quantitative\", \"field\": \"x\"}, \"y\": {\"type\": \"quantitative\", \"field\": \"y\"}}}, {\"data\": {\"name\": \"data-397cb914ff44c874a99902cec6ab743b\"}, \"mark\": {\"type\": \"text\", \"dx\": 0, \"dy\": 0, \"font\": \"lato\", \"fontSize\": 32, \"opacity\": 0.8}, \"encoding\": {\"text\": {\"type\": \"nominal\", \"field\": \"text\"}, \"x\": {\"type\": \"quantitative\", \"field\": \"x\"}, \"y\": {\"type\": \"quantitative\", \"field\": \"y\"}}}, {\"data\": {\"name\": \"data-49d4aa12e7c63890045fa604713c97c3\"}, \"mark\": {\"type\": \"rule\", \"opacity\": 0, \"size\": 3}, \"encoding\": {\"x\": {\"type\": \"quantitative\", \"field\": \"x\"}, \"y\": {\"type\": \"quantitative\", \"field\": \"y\"}, \"y2\": {\"field\": \"text\"}}}], \"height\": 550, \"width\": 750}, {\"layer\": [{\"data\": {\"name\": \"data-7f5b432372f8b5a449ebd7308c69491e\"}, \"mark\": {\"type\": \"text\", \"dx\": 22, \"dy\": -4, \"fontSize\": 11.5, \"fontWeight\": \"bold\", \"opacity\": 0.09}, \"encoding\": {\"text\": {\"type\": \"nominal\", \"field\": \"text\"}, \"x\": {\"type\": \"quantitative\", \"field\": \"x\", \"scale\": {\"domain\": [300, 1000]}}, \"y\": {\"type\": \"quantitative\", \"field\": \"y\"}}}, {\"data\": {\"name\": \"data-e94130014b32cf3d4736fce0bcfdf83e\"}, \"mark\": {\"type\": \"bar\", \"color\": \"#97c2f2\", \"size\": 14}, \"encoding\": {\"x\": {\"type\": \"quantitative\", \"axis\": {\"format\": \"a\", \"labelFontSize\": 32, \"labelOpacity\": 0.7, \"titleFontSize\": 32, \"titleFontWeight\": \"bold\", \"titleOpacity\": 0.8, \"titleY\": 35, \"values\": [800, 1200, 1600, 2000]}, \"field\": \"Bin\", \"scale\": {\"domain\": [400, 2000]}, \"title\": \"\"}, \"y\": {\"type\": \"quantitative\", \"axis\": {\"labelFontSize\": 32, \"labelOpacity\": 0, \"labelPadding\": 0, \"titleFontSize\": 36, \"titleOpacity\": 0.8, \"titleX\": 0, \"titleY\": 60, \"values\": [80, 160]}, \"field\": \"Count\", \"scale\": {\"domain\": [0, 300]}, \"title\": \"Counties where renting is more expensive than owning\"}}, \"title\": \"\"}, {\"data\": {\"name\": \"data-b82407ff56bf3e563eb8b27ba0c29967\"}, \"mark\": {\"type\": \"text\", \"dx\": 0, \"dy\": 26.5, \"font\": \"lato\", \"fontSize\": 32, \"opacity\": 0.8}, \"encoding\": {\"text\": {\"type\": \"nominal\", \"field\": \"text\"}, \"x\": {\"type\": \"quantitative\", \"field\": \"x\"}, \"y\": {\"type\": \"quantitative\", \"field\": \"y\"}}}, {\"data\": {\"name\": \"data-397cb914ff44c874a99902cec6ab743b\"}, \"mark\": {\"type\": \"text\", \"dx\": 500, \"dy\": 0, \"font\": \"lato\", \"fontSize\": 32, \"opacity\": 0}, \"encoding\": {\"text\": {\"type\": \"nominal\", \"field\": \"text\"}, \"x\": {\"type\": \"quantitative\", \"field\": \"x\"}, \"y\": {\"type\": \"quantitative\", \"field\": \"y\"}}}, {\"data\": {\"name\": \"data-49d4aa12e7c63890045fa604713c97c3\"}, \"mark\": {\"type\": \"rule\", \"opacity\": 0, \"size\": 3}, \"encoding\": {\"x\": {\"type\": \"quantitative\", \"field\": \"x\"}, \"y\": {\"type\": \"quantitative\", \"field\": \"y\"}, \"y2\": {\"field\": \"text\"}}}], \"height\": 550, \"width\": 750}]}], \"$schema\": \"https://vega.github.io/schema/vega-lite/v4.0.0.json\", \"datasets\": {\"data-7f5b432372f8b5a449ebd7308c69491e\": [{\"x\": 1310, \"y\": 240, \"text\": \"__________________________________________________________________________________________________\"}], \"data-79e3c1bf62d821641a063b2d78419e43\": [{\"Bin\": 960, \"Count\": 29}, {\"Bin\": 600, \"Count\": 176}, {\"Bin\": 720, \"Count\": 155}, {\"Bin\": 680, \"Count\": 202}, {\"Bin\": 520, \"Count\": 81}, {\"Bin\": 560, \"Count\": 140}, {\"Bin\": 800, \"Count\": 79}, {\"Bin\": 640, \"Count\": 236}, {\"Bin\": 760, \"Count\": 95}, {\"Bin\": 840, \"Count\": 51}, {\"Bin\": 1000, \"Count\": 17}, {\"Bin\": 1320, \"Count\": 4}, {\"Bin\": 1280, \"Count\": 3}, {\"Bin\": 880, \"Count\": 35}, {\"Bin\": 1080, \"Count\": 6}, {\"Bin\": 1240, \"Count\": 3}, {\"Bin\": 1040, \"Count\": 9}, {\"Bin\": 480, \"Count\": 29}, {\"Bin\": 1120, \"Count\": 7}, {\"Bin\": 920, \"Count\": 21}, {\"Bin\": 440, \"Count\": 6}, {\"Bin\": 1160, \"Count\": 5}, {\"Bin\": 1600, \"Count\": 1}, {\"Bin\": 1200, \"Count\": 3}, {\"Bin\": 360, \"Count\": 1}, {\"Bin\": 400, \"Count\": 2}], \"data-b82407ff56bf3e563eb8b27ba0c29967\": [{\"x\": 400, \"y\": 0, \"text\": \"$400\"}], \"data-397cb914ff44c874a99902cec6ab743b\": [{\"x\": 300, \"y\": 240, \"text\": \"240 counties\"}], \"data-49d4aa12e7c63890045fa604713c97c3\": [{\"x\": 2460, \"y\": 270, \"text\": 285}], \"data-bc528808dd810b62f88166c11a68df7f\": [{\"Bin\": 880, \"Count\": 14}, {\"Bin\": 920, \"Count\": 19}, {\"Bin\": 520, \"Count\": 168}, {\"Bin\": 600, \"Count\": 170}, {\"Bin\": 560, \"Count\": 188}, {\"Bin\": 640, \"Count\": 138}, {\"Bin\": 480, \"Count\": 186}, {\"Bin\": 440, \"Count\": 117}, {\"Bin\": 400, \"Count\": 70}, {\"Bin\": 720, \"Count\": 55}, {\"Bin\": 360, \"Count\": 37}, {\"Bin\": 680, \"Count\": 97}, {\"Bin\": 840, \"Count\": 31}, {\"Bin\": 1120, \"Count\": 3}, {\"Bin\": 760, \"Count\": 37}, {\"Bin\": 800, \"Count\": 29}, {\"Bin\": 240, \"Count\": 1}, {\"Bin\": 1080, \"Count\": 5}, {\"Bin\": 1000, \"Count\": 5}, {\"Bin\": 1320, \"Count\": 1}, {\"Bin\": 1040, \"Count\": 2}, {\"Bin\": 1200, \"Count\": 2}, {\"Bin\": 960, \"Count\": 7}, {\"Bin\": 1360, \"Count\": 1}, {\"Bin\": 320, \"Count\": 7}, {\"Bin\": 280, \"Count\": 4}, {\"Bin\": 1160, \"Count\": 2}], \"data-596de39fc94a253e2e591e00b4e5483c\": [{\"Bin\": 560, \"Count\": 89}, {\"Bin\": 880, \"Count\": 82}, {\"Bin\": 520, \"Count\": 45}, {\"Bin\": 400, \"Count\": 9}, {\"Bin\": 640, \"Count\": 155}, {\"Bin\": 840, \"Count\": 81}, {\"Bin\": 440, \"Count\": 17}, {\"Bin\": 760, \"Count\": 156}, {\"Bin\": 1040, \"Count\": 46}, {\"Bin\": 1320, \"Count\": 9}, {\"Bin\": 1280, \"Count\": 20}, {\"Bin\": 920, \"Count\": 60}, {\"Bin\": 1240, \"Count\": 19}, {\"Bin\": 1000, \"Count\": 47}, {\"Bin\": 1160, \"Count\": 25}, {\"Bin\": 1360, \"Count\": 7}, {\"Bin\": 1120, \"Count\": 35}, {\"Bin\": 1080, \"Count\": 30}, {\"Bin\": 680, \"Count\": 205}, {\"Bin\": 800, \"Count\": 112}, {\"Bin\": 360, \"Count\": 4}, {\"Bin\": 480, \"Count\": 24}, {\"Bin\": 600, \"Count\": 118}, {\"Bin\": 1680, \"Count\": 7}, {\"Bin\": 1720, \"Count\": 5}, {\"Bin\": 1200, \"Count\": 24}, {\"Bin\": 960, \"Count\": 63}, {\"Bin\": 1400, \"Count\": 11}, {\"Bin\": 1960, \"Count\": 1}, {\"Bin\": 1640, \"Count\": 3}, {\"Bin\": 1760, \"Count\": 3}, {\"Bin\": 1480, \"Count\": 10}, {\"Bin\": 1560, \"Count\": 7}, {\"Bin\": 1800, \"Count\": 2}, {\"Bin\": 2160, \"Count\": 1}, {\"Bin\": 2120, \"Count\": 1}, {\"Bin\": 1600, \"Count\": 3}, {\"Bin\": 1520, \"Count\": 4}, {\"Bin\": 720, \"Count\": 163}, {\"Bin\": 320, \"Count\": 2}, {\"Bin\": 1440, \"Count\": 7}, {\"Bin\": 1920, \"Count\": 1}, {\"Bin\": 1840, \"Count\": 2}, {\"Bin\": 1880, \"Count\": 1}], \"data-e94130014b32cf3d4736fce0bcfdf83e\": [{\"Bin\": 560, \"Count\": 35}, {\"Bin\": 920, \"Count\": 93}, {\"Bin\": 520, \"Count\": 19}, {\"Bin\": 960, \"Count\": 78}, {\"Bin\": 400, \"Count\": 4}, {\"Bin\": 680, \"Count\": 131}, {\"Bin\": 880, \"Count\": 104}, {\"Bin\": 800, \"Count\": 100}, {\"Bin\": 1000, \"Count\": 72}, {\"Bin\": 640, \"Count\": 98}, {\"Bin\": 1160, \"Count\": 42}, {\"Bin\": 1720, \"Count\": 10}, {\"Bin\": 1520, \"Count\": 15}, {\"Bin\": 1040, \"Count\": 46}, {\"Bin\": 1760, \"Count\": 11}, {\"Bin\": 1360, \"Count\": 23}, {\"Bin\": 1560, \"Count\": 11}, {\"Bin\": 1440, \"Count\": 12}, {\"Bin\": 1120, \"Count\": 49}, {\"Bin\": 1280, \"Count\": 33}, {\"Bin\": 1200, \"Count\": 42}, {\"Bin\": 840, \"Count\": 113}, {\"Bin\": 720, \"Count\": 128}, {\"Bin\": 480, \"Count\": 14}, {\"Bin\": 2120, \"Count\": 2}, {\"Bin\": 1240, \"Count\": 27}, {\"Bin\": 1080, \"Count\": 53}, {\"Bin\": 1960, \"Count\": 6}, {\"Bin\": 1400, \"Count\": 18}, {\"Bin\": 1640, \"Count\": 9}, {\"Bin\": 1880, \"Count\": 4}, {\"Bin\": 2160, \"Count\": 3}, {\"Bin\": 1840, \"Count\": 9}, {\"Bin\": 2080, \"Count\": 4}, {\"Bin\": 2000, \"Count\": 2}, {\"Bin\": 1480, \"Count\": 14}, {\"Bin\": 1800, \"Count\": 7}, {\"Bin\": 1320, \"Count\": 29}, {\"Bin\": 2040, \"Count\": 4}, {\"Bin\": 1680, \"Count\": 9}, {\"Bin\": 760, \"Count\": 129}, {\"Bin\": 1600, \"Count\": 14}, {\"Bin\": 440, \"Count\": 6}, {\"Bin\": 600, \"Count\": 56}, {\"Bin\": 1920, \"Count\": 3}]}}, {\"mode\": \"vega-lite\"});\n",
       "</script>"
      ],
      "text/plain": [
       "alt.VConcatChart(...)"
      ]
     },
     "execution_count": 178,
     "metadata": {},
     "output_type": "execute_result"
    }
   ],
   "source": [
    "renter_owner_hous_exp_charts = (charts_dict[0] | charts_dict[3]) & (charts_dict[1] | charts_dict[2])\n",
    "renter_owner_hous_exp_charts"
   ]
  },
  {
   "cell_type": "code",
   "execution_count": 179,
   "metadata": {},
   "outputs": [],
   "source": [
    "renter_owner_hous_exp_charts.save('renter_owner_hous_exp.svg')"
   ]
  },
  {
   "cell_type": "markdown",
   "metadata": {},
   "source": [
    "---"
   ]
  },
  {
   "cell_type": "markdown",
   "metadata": {},
   "source": [
    "#### (2) Homeowners"
   ]
  },
  {
   "cell_type": "code",
   "execution_count": 36,
   "metadata": {},
   "outputs": [],
   "source": [
    "charts_dict = {}\n",
    "keys = ['Rent_Housing_Rent_Higher_Share_Inc_Bin', 'Rent_Housing_Mort_Higher_Share_Inc_Bin', 'Mort_Housing_Rent_Higher_Share_Inc_Bin', 'Mort_Housing_Mort_Higher_Share_Inc_Bin']\n",
    "titles = ['Renter Income Devoted to Housing', ''] + ['', 'Homeowner Income Devoted to Housing']\n",
    "y_titles = ['Counties where renting is more expensive than owning', 'Counties where owning is more expensive than renting', 'Counties where renting is more expensive than owning', 'Counties where owning is more expensive than renting']\n",
    "opacities = [0,0,.7,.7]\n",
    "colors = ['#cede54']*2 + ['#97c2f2']*2\n",
    "counter = 0\n",
    "for key in keys:\n",
    "    df = rent_dict[key]\n",
    "    chart = alt.Chart(df, title=titles[counter]\n",
    "                     ).mark_bar(size=13, color=colors[counter]\n",
    "                           ).encode(x=alt.X('Bin', \n",
    "                                            axis=alt.Axis(values=list(range(10,60,5)), titleOpacity=.7, \n",
    "                                                          labelFontSize=24, labelOpacity=.7, titleY=35),\n",
    "                                            scale=alt.Scale(domain=[10,50])), \n",
    "                                    y=alt.Y('Count', title=y_titles[counter], \n",
    "                                            axis=alt.Axis(values=list(range(60,360,60)), \n",
    "                                                          titleX=-45, titleY=0, titleOpacity=.7, titleFontSize=24, \n",
    "                                                          labelPadding=45, labelFontSize=24, labelOpacity=opacities[counter]), \n",
    "                                            scale=alt.Scale(domain=[0,360])))\n",
    "\n",
    "    text_df = pd.DataFrame({'x':[34,6,7], 'y':[360,0,360], 'text':['_'*94, '5%', '360 counties']})\n",
    "    line = alt.Chart(text_df.query('x==34')).mark_text(dx=-7, dy=-4, opacity=.09, fontSize=11.5, fontWeight='bold').encode(x=alt.X('x', scale=alt.Scale(domain=[10,50])), y='y', text='text')\n",
    "    x_text = alt.Chart(text_df.query('x==6')).mark_text(dx=-5, dy=22.5, fontSize=24, font='lato', opacity=.7).encode(x='x', y='y', text='text')\n",
    "    y_text = alt.Chart(text_df.query('x==7')).mark_text(dx=-4, dy=0, fontSize=24, font='lato', opacity=opacities[counter]).encode(x='x', y='y', text='text')\n",
    "    \n",
    "    combined = (line + chart + x_text + y_text).properties(width=700, height=550)\n",
    "    charts_dict[counter] = combined\n",
    "    #combined.save(keys[counter] + str(counter) + '.png', scale_factor=6)\n",
    "    counter += 1"
   ]
  },
  {
   "cell_type": "code",
   "execution_count": 37,
   "metadata": {},
   "outputs": [
    {
     "data": {
      "text/html": [
       "\n",
       "<div id=\"altair-viz-10\"></div>\n",
       "<script type=\"text/javascript\">\n",
       "  (function(spec, embedOpt){\n",
       "    const outputDiv = document.getElementById(\"altair-viz-10\");\n",
       "    const paths = {\n",
       "      \"vega\": \"https://cdn.jsdelivr.net/npm//vega@5?noext\",\n",
       "      \"vega-lib\": \"https://cdn.jsdelivr.net/npm//vega-lib?noext\",\n",
       "      \"vega-lite\": \"https://cdn.jsdelivr.net/npm//vega-lite@4.0.0?noext\",\n",
       "      \"vega-embed\": \"https://cdn.jsdelivr.net/npm//vega-embed@6?noext\",\n",
       "    };\n",
       "\n",
       "    function loadScript(lib) {\n",
       "      return new Promise(function(resolve, reject) {\n",
       "        var s = document.createElement('script');\n",
       "        s.src = paths[lib];\n",
       "        s.async = true;\n",
       "        s.onload = () => resolve(paths[lib]);\n",
       "        s.onerror = () => reject(`Error loading script: ${paths[lib]}`);\n",
       "        document.getElementsByTagName(\"head\")[0].appendChild(s);\n",
       "      });\n",
       "    }\n",
       "\n",
       "    function showError(err) {\n",
       "      outputDiv.innerHTML = `<div class=\"error\" style=\"color:red;\">${err}</div>`;\n",
       "      throw err;\n",
       "    }\n",
       "\n",
       "    function displayChart(vegaEmbed) {\n",
       "      vegaEmbed(outputDiv, spec, embedOpt)\n",
       "        .catch(err => showError(`Javascript Error: ${err.message}<br>This usually means there's a typo in your chart specification. See the javascript console for the full traceback.`));\n",
       "    }\n",
       "\n",
       "    if(typeof define === \"function\" && define.amd) {\n",
       "      requirejs.config({paths});\n",
       "      require([\"vega-embed\"], displayChart, err => showError(`Error loading script: ${err.message}`));\n",
       "    } else if (typeof vegaEmbed === \"function\") {\n",
       "      displayChart(vegaEmbed);\n",
       "    } else {\n",
       "      loadScript(\"vega\")\n",
       "        .then(() => loadScript(\"vega-lite\"))\n",
       "        .then(() => loadScript(\"vega-embed\"))\n",
       "        .catch(showError)\n",
       "        .then(() => displayChart(vegaEmbed));\n",
       "    }\n",
       "  })({\"width\": 600, \"height\": 400, \"background\": \"white\", \"config\": {\"title\": {\"fontWeight\": \"normal\", \"fontSize\": 36, \"anchor\": \"start\", \"font\": \"Lato\", \"offset\": 5}, \"axisX\": {\"grid\": false, \"labelFont\": \"Lato\", \"labelFontSize\": 16, \"labelAngle\": 0, \"labelPadding\": 10, \"ticks\": false, \"tickSize\": 5, \"title\": null, \"titleFont\": \"Lato\", \"titleFontSize\": 16, \"titleFontWeight\": \"normal\", \"titleY\": 30, \"titleX\": 280}, \"axisY\": {\"grid\": true, \"gridOpacity\": 1, \"labelFont\": \"Lato\", \"labelFontSize\": 16, \"labelLimit\": 100, \"labelAlign\": \"left\", \"labelPadding\": 20, \"ticks\": false, \"title\": null, \"titleFont\": \"Lato\", \"titleFontWeight\": \"normal\", \"titleFontSize\": 16, \"titleAlign\": \"left\", \"titleAngle\": 0, \"titleY\": -20, \"titleX\": -20, \"domainWidth\": 0}, \"view\": {\"strokeOpacity\": 0}}, \"vconcat\": [{\"hconcat\": [{\"layer\": [{\"data\": {\"name\": \"data-93a1860a1a99ca88f1c22da7f7218985\"}, \"mark\": {\"type\": \"text\", \"dx\": -7, \"dy\": -4, \"fontSize\": 11.5, \"fontWeight\": \"bold\", \"opacity\": 0.09}, \"encoding\": {\"text\": {\"type\": \"nominal\", \"field\": \"text\"}, \"x\": {\"type\": \"quantitative\", \"field\": \"x\", \"scale\": {\"domain\": [10, 50]}}, \"y\": {\"type\": \"quantitative\", \"field\": \"y\"}}}, {\"data\": {\"name\": \"data-0d6653b94ecaec5ec23f116b6ccba55a\"}, \"mark\": {\"type\": \"bar\", \"color\": \"#97c2f2\", \"size\": 13}, \"encoding\": {\"x\": {\"type\": \"quantitative\", \"axis\": {\"labelFontSize\": 24, \"labelOpacity\": 0.7, \"titleOpacity\": 0.7, \"titleY\": 35, \"values\": [10, 15, 20, 25, 30, 35, 40, 45, 50, 55]}, \"field\": \"Bin\", \"scale\": {\"domain\": [10, 50]}}, \"y\": {\"type\": \"quantitative\", \"axis\": {\"labelFontSize\": 24, \"labelOpacity\": 0.7, \"labelPadding\": 45, \"titleFontSize\": 24, \"titleOpacity\": 0.7, \"titleX\": -45, \"titleY\": 0, \"values\": [60, 120, 180, 240, 300]}, \"field\": \"Count\", \"scale\": {\"domain\": [0, 360]}, \"title\": \"Counties where owning is more expensive than renting\"}}, \"title\": \"Homeowner Income Devoted to Housing\"}, {\"data\": {\"name\": \"data-fcbf7a1326e5a92c8e8b9df976c576ce\"}, \"mark\": {\"type\": \"text\", \"dx\": -5, \"dy\": 22.5, \"font\": \"lato\", \"fontSize\": 24, \"opacity\": 0.7}, \"encoding\": {\"text\": {\"type\": \"nominal\", \"field\": \"text\"}, \"x\": {\"type\": \"quantitative\", \"field\": \"x\"}, \"y\": {\"type\": \"quantitative\", \"field\": \"y\"}}}, {\"data\": {\"name\": \"data-d52168d0dfeed3670e7525367a93c397\"}, \"mark\": {\"type\": \"text\", \"dx\": -4, \"dy\": 0, \"font\": \"lato\", \"fontSize\": 24, \"opacity\": 0.7}, \"encoding\": {\"text\": {\"type\": \"nominal\", \"field\": \"text\"}, \"x\": {\"type\": \"quantitative\", \"field\": \"x\"}, \"y\": {\"type\": \"quantitative\", \"field\": \"y\"}}}], \"height\": 550, \"width\": 700}, {\"layer\": [{\"data\": {\"name\": \"data-93a1860a1a99ca88f1c22da7f7218985\"}, \"mark\": {\"type\": \"text\", \"dx\": -7, \"dy\": -4, \"fontSize\": 11.5, \"fontWeight\": \"bold\", \"opacity\": 0.09}, \"encoding\": {\"text\": {\"type\": \"nominal\", \"field\": \"text\"}, \"x\": {\"type\": \"quantitative\", \"field\": \"x\", \"scale\": {\"domain\": [10, 50]}}, \"y\": {\"type\": \"quantitative\", \"field\": \"y\"}}}, {\"data\": {\"name\": \"data-21a4e5e6877e5696b40945bd7685b83b\"}, \"mark\": {\"type\": \"bar\", \"color\": \"#cede54\", \"size\": 13}, \"encoding\": {\"x\": {\"type\": \"quantitative\", \"axis\": {\"labelFontSize\": 24, \"labelOpacity\": 0.7, \"titleOpacity\": 0.7, \"titleY\": 35, \"values\": [10, 15, 20, 25, 30, 35, 40, 45, 50, 55]}, \"field\": \"Bin\", \"scale\": {\"domain\": [10, 50]}}, \"y\": {\"type\": \"quantitative\", \"axis\": {\"labelFontSize\": 24, \"labelOpacity\": 0, \"labelPadding\": 45, \"titleFontSize\": 24, \"titleOpacity\": 0.7, \"titleX\": -45, \"titleY\": 0, \"values\": [60, 120, 180, 240, 300]}, \"field\": \"Count\", \"scale\": {\"domain\": [0, 360]}, \"title\": \"Counties where renting is more expensive than owning\"}}, \"title\": \"Renter Income Devoted to Housing\"}, {\"data\": {\"name\": \"data-fcbf7a1326e5a92c8e8b9df976c576ce\"}, \"mark\": {\"type\": \"text\", \"dx\": -5, \"dy\": 22.5, \"font\": \"lato\", \"fontSize\": 24, \"opacity\": 0.7}, \"encoding\": {\"text\": {\"type\": \"nominal\", \"field\": \"text\"}, \"x\": {\"type\": \"quantitative\", \"field\": \"x\"}, \"y\": {\"type\": \"quantitative\", \"field\": \"y\"}}}, {\"data\": {\"name\": \"data-d52168d0dfeed3670e7525367a93c397\"}, \"mark\": {\"type\": \"text\", \"dx\": -4, \"dy\": 0, \"font\": \"lato\", \"fontSize\": 24, \"opacity\": 0}, \"encoding\": {\"text\": {\"type\": \"nominal\", \"field\": \"text\"}, \"x\": {\"type\": \"quantitative\", \"field\": \"x\"}, \"y\": {\"type\": \"quantitative\", \"field\": \"y\"}}}], \"height\": 550, \"width\": 700}]}, {\"hconcat\": [{\"layer\": [{\"data\": {\"name\": \"data-93a1860a1a99ca88f1c22da7f7218985\"}, \"mark\": {\"type\": \"text\", \"dx\": -7, \"dy\": -4, \"fontSize\": 11.5, \"fontWeight\": \"bold\", \"opacity\": 0.09}, \"encoding\": {\"text\": {\"type\": \"nominal\", \"field\": \"text\"}, \"x\": {\"type\": \"quantitative\", \"field\": \"x\", \"scale\": {\"domain\": [10, 50]}}, \"y\": {\"type\": \"quantitative\", \"field\": \"y\"}}}, {\"data\": {\"name\": \"data-c7d884abf4a0f8c18f7471f5d7471e99\"}, \"mark\": {\"type\": \"bar\", \"color\": \"#97c2f2\", \"size\": 13}, \"encoding\": {\"x\": {\"type\": \"quantitative\", \"axis\": {\"labelFontSize\": 24, \"labelOpacity\": 0.7, \"titleOpacity\": 0.7, \"titleY\": 35, \"values\": [10, 15, 20, 25, 30, 35, 40, 45, 50, 55]}, \"field\": \"Bin\", \"scale\": {\"domain\": [10, 50]}}, \"y\": {\"type\": \"quantitative\", \"axis\": {\"labelFontSize\": 24, \"labelOpacity\": 0.7, \"labelPadding\": 45, \"titleFontSize\": 24, \"titleOpacity\": 0.7, \"titleX\": -45, \"titleY\": 0, \"values\": [60, 120, 180, 240, 300]}, \"field\": \"Count\", \"scale\": {\"domain\": [0, 360]}, \"title\": \"Counties where renting is more expensive than owning\"}}, \"title\": \"\"}, {\"data\": {\"name\": \"data-fcbf7a1326e5a92c8e8b9df976c576ce\"}, \"mark\": {\"type\": \"text\", \"dx\": -5, \"dy\": 22.5, \"font\": \"lato\", \"fontSize\": 24, \"opacity\": 0.7}, \"encoding\": {\"text\": {\"type\": \"nominal\", \"field\": \"text\"}, \"x\": {\"type\": \"quantitative\", \"field\": \"x\"}, \"y\": {\"type\": \"quantitative\", \"field\": \"y\"}}}, {\"data\": {\"name\": \"data-d52168d0dfeed3670e7525367a93c397\"}, \"mark\": {\"type\": \"text\", \"dx\": -4, \"dy\": 0, \"font\": \"lato\", \"fontSize\": 24, \"opacity\": 0.7}, \"encoding\": {\"text\": {\"type\": \"nominal\", \"field\": \"text\"}, \"x\": {\"type\": \"quantitative\", \"field\": \"x\"}, \"y\": {\"type\": \"quantitative\", \"field\": \"y\"}}}], \"height\": 550, \"width\": 700}, {\"layer\": [{\"data\": {\"name\": \"data-93a1860a1a99ca88f1c22da7f7218985\"}, \"mark\": {\"type\": \"text\", \"dx\": -7, \"dy\": -4, \"fontSize\": 11.5, \"fontWeight\": \"bold\", \"opacity\": 0.09}, \"encoding\": {\"text\": {\"type\": \"nominal\", \"field\": \"text\"}, \"x\": {\"type\": \"quantitative\", \"field\": \"x\", \"scale\": {\"domain\": [10, 50]}}, \"y\": {\"type\": \"quantitative\", \"field\": \"y\"}}}, {\"data\": {\"name\": \"data-77ad753fbdc530e19cb1774976fc8bc9\"}, \"mark\": {\"type\": \"bar\", \"color\": \"#cede54\", \"size\": 13}, \"encoding\": {\"x\": {\"type\": \"quantitative\", \"axis\": {\"labelFontSize\": 24, \"labelOpacity\": 0.7, \"titleOpacity\": 0.7, \"titleY\": 35, \"values\": [10, 15, 20, 25, 30, 35, 40, 45, 50, 55]}, \"field\": \"Bin\", \"scale\": {\"domain\": [10, 50]}}, \"y\": {\"type\": \"quantitative\", \"axis\": {\"labelFontSize\": 24, \"labelOpacity\": 0, \"labelPadding\": 45, \"titleFontSize\": 24, \"titleOpacity\": 0.7, \"titleX\": -45, \"titleY\": 0, \"values\": [60, 120, 180, 240, 300]}, \"field\": \"Count\", \"scale\": {\"domain\": [0, 360]}, \"title\": \"Counties where owning is more expensive than renting\"}}, \"title\": \"\"}, {\"data\": {\"name\": \"data-fcbf7a1326e5a92c8e8b9df976c576ce\"}, \"mark\": {\"type\": \"text\", \"dx\": -5, \"dy\": 22.5, \"font\": \"lato\", \"fontSize\": 24, \"opacity\": 0.7}, \"encoding\": {\"text\": {\"type\": \"nominal\", \"field\": \"text\"}, \"x\": {\"type\": \"quantitative\", \"field\": \"x\"}, \"y\": {\"type\": \"quantitative\", \"field\": \"y\"}}}, {\"data\": {\"name\": \"data-d52168d0dfeed3670e7525367a93c397\"}, \"mark\": {\"type\": \"text\", \"dx\": -4, \"dy\": 0, \"font\": \"lato\", \"fontSize\": 24, \"opacity\": 0}, \"encoding\": {\"text\": {\"type\": \"nominal\", \"field\": \"text\"}, \"x\": {\"type\": \"quantitative\", \"field\": \"x\"}, \"y\": {\"type\": \"quantitative\", \"field\": \"y\"}}}], \"height\": 550, \"width\": 700}]}], \"$schema\": \"https://vega.github.io/schema/vega-lite/v4.0.0.json\", \"datasets\": {\"data-93a1860a1a99ca88f1c22da7f7218985\": [{\"x\": 34, \"y\": 360, \"text\": \"______________________________________________________________________________________________\"}], \"data-0d6653b94ecaec5ec23f116b6ccba55a\": [{\"Bin\": 16, \"Count\": 123}, {\"Bin\": 17, \"Count\": 62}, {\"Bin\": 13, \"Count\": 228}, {\"Bin\": 11, \"Count\": 113}, {\"Bin\": 14, \"Count\": 281}, {\"Bin\": 12, \"Count\": 223}, {\"Bin\": 10, \"Count\": 85}, {\"Bin\": 15, \"Count\": 152}, {\"Bin\": 21, \"Count\": 4}, {\"Bin\": 9, \"Count\": 38}, {\"Bin\": 8, \"Count\": 19}, {\"Bin\": 18, \"Count\": 42}, {\"Bin\": 20, \"Count\": 11}, {\"Bin\": 19, \"Count\": 9}, {\"Bin\": 22, \"Count\": 2}, {\"Bin\": 7, \"Count\": 3}, {\"Bin\": 6, \"Count\": 1}], \"data-fcbf7a1326e5a92c8e8b9df976c576ce\": [{\"x\": 6, \"y\": 0, \"text\": \"5%\"}], \"data-d52168d0dfeed3670e7525367a93c397\": [{\"x\": 7, \"y\": 360, \"text\": \"360 counties\"}], \"data-21a4e5e6877e5696b40945bd7685b83b\": [{\"Bin\": 33, \"Count\": 81}, {\"Bin\": 31, \"Count\": 97}, {\"Bin\": 38, \"Count\": 37}, {\"Bin\": 34, \"Count\": 79}, {\"Bin\": 30, \"Count\": 106}, {\"Bin\": 32, \"Count\": 93}, {\"Bin\": 40, \"Count\": 24}, {\"Bin\": 36, \"Count\": 50}, {\"Bin\": 22, \"Count\": 45}, {\"Bin\": 28, \"Count\": 98}, {\"Bin\": 35, \"Count\": 49}, {\"Bin\": 29, \"Count\": 74}, {\"Bin\": 39, \"Count\": 23}, {\"Bin\": 24, \"Count\": 57}, {\"Bin\": 25, \"Count\": 52}, {\"Bin\": 49, \"Count\": 3}, {\"Bin\": 37, \"Count\": 38}, {\"Bin\": 18, \"Count\": 30}, {\"Bin\": 19, \"Count\": 15}, {\"Bin\": 16, \"Count\": 17}, {\"Bin\": 14, \"Count\": 5}, {\"Bin\": 27, \"Count\": 69}, {\"Bin\": 20, \"Count\": 29}, {\"Bin\": 17, \"Count\": 11}, {\"Bin\": 23, \"Count\": 37}, {\"Bin\": 8, \"Count\": 1}, {\"Bin\": 42, \"Count\": 10}, {\"Bin\": 44, \"Count\": 9}, {\"Bin\": 26, \"Count\": 74}, {\"Bin\": 41, \"Count\": 17}, {\"Bin\": 46, \"Count\": 4}, {\"Bin\": 45, \"Count\": 11}, {\"Bin\": 21, \"Count\": 25}, {\"Bin\": 43, \"Count\": 7}, {\"Bin\": 47, \"Count\": 7}, {\"Bin\": 48, \"Count\": 4}, {\"Bin\": 50, \"Count\": 1}, {\"Bin\": 15, \"Count\": 3}, {\"Bin\": 11, \"Count\": 1}, {\"Bin\": 13, \"Count\": 3}], \"data-c7d884abf4a0f8c18f7471f5d7471e99\": [{\"Bin\": 16, \"Count\": 347}, {\"Bin\": 14, \"Count\": 226}, {\"Bin\": 17, \"Count\": 201}, {\"Bin\": 11, \"Count\": 28}, {\"Bin\": 13, \"Count\": 112}, {\"Bin\": 15, \"Count\": 228}, {\"Bin\": 19, \"Count\": 113}, {\"Bin\": 20, \"Count\": 84}, {\"Bin\": 18, \"Count\": 186}, {\"Bin\": 12, \"Count\": 57}, {\"Bin\": 22, \"Count\": 32}, {\"Bin\": 23, \"Count\": 12}, {\"Bin\": 21, \"Count\": 53}, {\"Bin\": 25, \"Count\": 5}, {\"Bin\": 24, \"Count\": 15}, {\"Bin\": 10, \"Count\": 10}, {\"Bin\": 9, \"Count\": 4}, {\"Bin\": 26, \"Count\": 2}, {\"Bin\": 7, \"Count\": 1}], \"data-77ad753fbdc530e19cb1774976fc8bc9\": [{\"Bin\": 26, \"Count\": 134}, {\"Bin\": 31, \"Count\": 124}, {\"Bin\": 41, \"Count\": 6}, {\"Bin\": 34, \"Count\": 87}, {\"Bin\": 30, \"Count\": 168}, {\"Bin\": 24, \"Count\": 110}, {\"Bin\": 38, \"Count\": 23}, {\"Bin\": 28, \"Count\": 161}, {\"Bin\": 35, \"Count\": 38}, {\"Bin\": 29, \"Count\": 121}, {\"Bin\": 45, \"Count\": 3}, {\"Bin\": 27, \"Count\": 113}, {\"Bin\": 21, \"Count\": 40}, {\"Bin\": 32, \"Count\": 103}, {\"Bin\": 23, \"Count\": 58}, {\"Bin\": 33, \"Count\": 64}, {\"Bin\": 25, \"Count\": 91}, {\"Bin\": 16, \"Count\": 8}, {\"Bin\": 36, \"Count\": 49}, {\"Bin\": 37, \"Count\": 23}, {\"Bin\": 40, \"Count\": 11}, {\"Bin\": 20, \"Count\": 33}, {\"Bin\": 43, \"Count\": 6}, {\"Bin\": 44, \"Count\": 2}, {\"Bin\": 39, \"Count\": 11}, {\"Bin\": 22, \"Count\": 59}, {\"Bin\": 42, \"Count\": 6}, {\"Bin\": 18, \"Count\": 14}, {\"Bin\": 17, \"Count\": 10}, {\"Bin\": 19, \"Count\": 15}, {\"Bin\": 12, \"Count\": 2}, {\"Bin\": 14, \"Count\": 8}, {\"Bin\": 48, \"Count\": 1}, {\"Bin\": 46, \"Count\": 3}, {\"Bin\": 15, \"Count\": 6}, {\"Bin\": 13, \"Count\": 3}, {\"Bin\": 10, \"Count\": 1}, {\"Bin\": 7, \"Count\": 1}]}}, {\"mode\": \"vega-lite\"});\n",
       "</script>"
      ],
      "text/plain": [
       "alt.VConcatChart(...)"
      ]
     },
     "execution_count": 37,
     "metadata": {},
     "output_type": "execute_result"
    }
   ],
   "source": [
    "inc_housing_charts = (charts_dict[3] | charts_dict[0]) & (charts_dict[2] | charts_dict[1])\n",
    "inc_housing_charts"
   ]
  },
  {
   "cell_type": "code",
   "execution_count": 38,
   "metadata": {},
   "outputs": [],
   "source": [
    "inc_housing_charts.save('renter_homeowner_inc_dev_hous.png', scale_factor=6)"
   ]
  },
  {
   "cell_type": "code",
   "execution_count": null,
   "metadata": {},
   "outputs": [],
   "source": []
  },
  {
   "cell_type": "code",
   "execution_count": 123,
   "metadata": {},
   "outputs": [],
   "source": [
    "%run chart_theme.py"
   ]
  },
  {
   "cell_type": "code",
   "execution_count": 249,
   "metadata": {},
   "outputs": [],
   "source": [
    "charts_dict = {}\n",
    "keys = ['Rent_Housing_Rent_Higher_Inc_Bin', 'Mort_Housing_Mort_Higher_Inc_Bin', 'Rent_Housing_Mort_Higher_Inc_Bin', 'Mort_Housing_Rent_Higher_Inc_Bin']\n",
    "titles = ['Monthly Renter Income', 'Monthly Homeowner Income', '', '']\n",
    "y_titles = ['Counties where renting is more expensive than owning', 'Counties where owning is more expensive than renting']*2\n",
    "opacities = [.8,0]*2\n",
    "y_paddings = [60,0]*2\n",
    "colors = ['#cede54', '#97c2f2']*2\n",
    "y_texts = [-5,500]*2\n",
    "counter = 0\n",
    "for key in keys:\n",
    "    df = rent_dict[key]\n",
    "    chart = alt.Chart(df[df.Bin < 11000], title=titles[counter]\n",
    "                     ).mark_bar(size=11.8, color=colors[counter]\n",
    "                           ).encode(x=alt.X('Bin', \n",
    "                                            axis=alt.Axis(values=list(range(4000, 11000, 2000)), format='~s', \n",
    "                                                          titleOpacity=.7, titleY=35, \n",
    "                                                          labelFontSize=32, labelOpacity=.8),\n",
    "                                            scale=alt.Scale(domain=[1000,10000])), \n",
    "                                    y=alt.Y('Count', title=y_titles[counter], \n",
    "                                            axis=alt.Axis(values=list(range(100,300,100)), \n",
    "                                                          titleX=-y_paddings[counter], titleY=50, titleOpacity=.8, titleFontSize=36, \n",
    "                                                          labelPadding=y_paddings[counter], labelFontSize=32, labelOpacity=opacities[counter]), \n",
    "                                            scale=alt.Scale(domain=[0,350])))\n",
    "\n",
    "    text_df = pd.DataFrame({'x':[6300,2300,550,13200], 'y':[300,0,300,0], 'text':['_'*94, '$2k/mo', '300 counties',-40]})\n",
    "    line = alt.Chart(text_df.query('x==6300')).mark_text(dx=0, dy=-4, opacity=.09, fontSize=11.5, fontWeight='bold').encode(x=alt.X('x', scale=alt.Scale(domain=[1000,10000])), y='y', text='text')\n",
    "    x_text = alt.Chart(text_df.query('x==2300')).mark_text(dx=-5, dy=25, fontSize=32, font='lato', opacity=.8).encode(x='x', y='y', text='text')\n",
    "    y_text = alt.Chart(text_df.query('x==550')).mark_text(dx=y_texts[counter], dy=0, fontSize=32, font='lato', opacity=opacities[counter]).encode(x='x', y='y', text='text')\n",
    "    chart_spacing = alt.Chart(text_df.query('x==13200')).mark_rule(opacity=0, size=3).encode(x='x', y='y', y2='text')\n",
    "    \n",
    "    combined = (line + chart + x_text + y_text + chart_spacing).properties(width=700, height=550)\n",
    "    charts_dict[counter] = combined\n",
    "    #combined.save(keys[counter] + str(counter) + '.png', scale_factor=6)\n",
    "    counter += 1"
   ]
  },
  {
   "cell_type": "code",
   "execution_count": 250,
   "metadata": {},
   "outputs": [
    {
     "data": {
      "text/html": [
       "\n",
       "<div id=\"altair-viz-91\"></div>\n",
       "<script type=\"text/javascript\">\n",
       "  (function(spec, embedOpt){\n",
       "    const outputDiv = document.getElementById(\"altair-viz-91\");\n",
       "    const paths = {\n",
       "      \"vega\": \"https://cdn.jsdelivr.net/npm//vega@5?noext\",\n",
       "      \"vega-lib\": \"https://cdn.jsdelivr.net/npm//vega-lib?noext\",\n",
       "      \"vega-lite\": \"https://cdn.jsdelivr.net/npm//vega-lite@4.0.0?noext\",\n",
       "      \"vega-embed\": \"https://cdn.jsdelivr.net/npm//vega-embed@6?noext\",\n",
       "    };\n",
       "\n",
       "    function loadScript(lib) {\n",
       "      return new Promise(function(resolve, reject) {\n",
       "        var s = document.createElement('script');\n",
       "        s.src = paths[lib];\n",
       "        s.async = true;\n",
       "        s.onload = () => resolve(paths[lib]);\n",
       "        s.onerror = () => reject(`Error loading script: ${paths[lib]}`);\n",
       "        document.getElementsByTagName(\"head\")[0].appendChild(s);\n",
       "      });\n",
       "    }\n",
       "\n",
       "    function showError(err) {\n",
       "      outputDiv.innerHTML = `<div class=\"error\" style=\"color:red;\">${err}</div>`;\n",
       "      throw err;\n",
       "    }\n",
       "\n",
       "    function displayChart(vegaEmbed) {\n",
       "      vegaEmbed(outputDiv, spec, embedOpt)\n",
       "        .catch(err => showError(`Javascript Error: ${err.message}<br>This usually means there's a typo in your chart specification. See the javascript console for the full traceback.`));\n",
       "    }\n",
       "\n",
       "    if(typeof define === \"function\" && define.amd) {\n",
       "      requirejs.config({paths});\n",
       "      require([\"vega-embed\"], displayChart, err => showError(`Error loading script: ${err.message}`));\n",
       "    } else if (typeof vegaEmbed === \"function\") {\n",
       "      displayChart(vegaEmbed);\n",
       "    } else {\n",
       "      loadScript(\"vega\")\n",
       "        .then(() => loadScript(\"vega-lite\"))\n",
       "        .then(() => loadScript(\"vega-embed\"))\n",
       "        .catch(showError)\n",
       "        .then(() => displayChart(vegaEmbed));\n",
       "    }\n",
       "  })({\"width\": 600, \"height\": 400, \"background\": \"white\", \"config\": {\"title\": {\"fontWeight\": \"normal\", \"fontSize\": 44, \"anchor\": \"start\", \"font\": \"Lato\", \"offset\": 5}, \"axisX\": {\"grid\": false, \"labelFont\": \"Lato\", \"labelFontSize\": 16, \"labelAngle\": 0, \"labelPadding\": 10, \"ticks\": false, \"tickSize\": 5, \"title\": null, \"titleFont\": \"Lato\", \"titleFontSize\": 16, \"titleFontWeight\": \"normal\", \"titleY\": 30, \"titleX\": 280}, \"axisY\": {\"grid\": true, \"gridOpacity\": 1, \"labelFont\": \"Lato\", \"labelFontSize\": 16, \"labelLimit\": 100, \"labelAlign\": \"left\", \"labelPadding\": 20, \"ticks\": false, \"title\": null, \"titleFont\": \"Lato\", \"titleFontWeight\": \"normal\", \"titleFontSize\": 16, \"titleAlign\": \"left\", \"titleAngle\": 0, \"titleY\": -20, \"titleX\": -20, \"domainWidth\": 0}, \"view\": {\"strokeOpacity\": 0}}, \"vconcat\": [{\"hconcat\": [{\"layer\": [{\"data\": {\"name\": \"data-7577eb4c0b237e17ba1bc357e80d5722\"}, \"mark\": {\"type\": \"text\", \"dx\": 0, \"dy\": -4, \"fontSize\": 11.5, \"fontWeight\": \"bold\", \"opacity\": 0.09}, \"encoding\": {\"text\": {\"type\": \"nominal\", \"field\": \"text\"}, \"x\": {\"type\": \"quantitative\", \"field\": \"x\", \"scale\": {\"domain\": [1000, 10000]}}, \"y\": {\"type\": \"quantitative\", \"field\": \"y\"}}}, {\"data\": {\"name\": \"data-5a8d7d5e9601b04bb4b347dd34920f33\"}, \"mark\": {\"type\": \"bar\", \"color\": \"#cede54\", \"size\": 11.8}, \"encoding\": {\"x\": {\"type\": \"quantitative\", \"axis\": {\"format\": \"~s\", \"labelFontSize\": 32, \"labelOpacity\": 0.8, \"titleOpacity\": 0.7, \"titleY\": 35, \"values\": [4000, 6000, 8000, 10000]}, \"field\": \"Bin\", \"scale\": {\"domain\": [1000, 10000]}}, \"y\": {\"type\": \"quantitative\", \"axis\": {\"labelFontSize\": 32, \"labelOpacity\": 0.8, \"labelPadding\": 60, \"titleFontSize\": 36, \"titleOpacity\": 0.8, \"titleX\": -60, \"titleY\": 50, \"values\": [100, 200]}, \"field\": \"Count\", \"scale\": {\"domain\": [0, 350]}, \"title\": \"Counties where renting is more expensive than owning\"}}, \"title\": \"Monthly Renter Income\"}, {\"data\": {\"name\": \"data-ae80e88516c1616baa19089055cec545\"}, \"mark\": {\"type\": \"text\", \"dx\": -5, \"dy\": 25, \"font\": \"lato\", \"fontSize\": 32, \"opacity\": 0.8}, \"encoding\": {\"text\": {\"type\": \"nominal\", \"field\": \"text\"}, \"x\": {\"type\": \"quantitative\", \"field\": \"x\"}, \"y\": {\"type\": \"quantitative\", \"field\": \"y\"}}}, {\"data\": {\"name\": \"data-ddccd6af646b7f30406e1fd1912597ae\"}, \"mark\": {\"type\": \"text\", \"dx\": -5, \"dy\": 0, \"font\": \"lato\", \"fontSize\": 32, \"opacity\": 0.8}, \"encoding\": {\"text\": {\"type\": \"nominal\", \"field\": \"text\"}, \"x\": {\"type\": \"quantitative\", \"field\": \"x\"}, \"y\": {\"type\": \"quantitative\", \"field\": \"y\"}}}, {\"data\": {\"name\": \"data-05f593f4b0105a29f9e87eeb816e175d\"}, \"mark\": {\"type\": \"rule\", \"opacity\": 0, \"size\": 3}, \"encoding\": {\"x\": {\"type\": \"quantitative\", \"field\": \"x\"}, \"y\": {\"type\": \"quantitative\", \"field\": \"y\"}, \"y2\": {\"field\": \"text\"}}}], \"height\": 550, \"width\": 700}, {\"layer\": [{\"data\": {\"name\": \"data-7577eb4c0b237e17ba1bc357e80d5722\"}, \"mark\": {\"type\": \"text\", \"dx\": 0, \"dy\": -4, \"fontSize\": 11.5, \"fontWeight\": \"bold\", \"opacity\": 0.09}, \"encoding\": {\"text\": {\"type\": \"nominal\", \"field\": \"text\"}, \"x\": {\"type\": \"quantitative\", \"field\": \"x\", \"scale\": {\"domain\": [1000, 10000]}}, \"y\": {\"type\": \"quantitative\", \"field\": \"y\"}}}, {\"data\": {\"name\": \"data-5b0f1fe251132edd73a36dc6323e830c\"}, \"mark\": {\"type\": \"bar\", \"color\": \"#97c2f2\", \"size\": 11.8}, \"encoding\": {\"x\": {\"type\": \"quantitative\", \"axis\": {\"format\": \"~s\", \"labelFontSize\": 32, \"labelOpacity\": 0.8, \"titleOpacity\": 0.7, \"titleY\": 35, \"values\": [4000, 6000, 8000, 10000]}, \"field\": \"Bin\", \"scale\": {\"domain\": [1000, 10000]}}, \"y\": {\"type\": \"quantitative\", \"axis\": {\"labelFontSize\": 32, \"labelOpacity\": 0, \"labelPadding\": 0, \"titleFontSize\": 36, \"titleOpacity\": 0.8, \"titleX\": 0, \"titleY\": 50, \"values\": [100, 200]}, \"field\": \"Count\", \"scale\": {\"domain\": [0, 350]}, \"title\": \"Counties where owning is more expensive than renting\"}}, \"title\": \"Monthly Homeowner Income\"}, {\"data\": {\"name\": \"data-ae80e88516c1616baa19089055cec545\"}, \"mark\": {\"type\": \"text\", \"dx\": -5, \"dy\": 25, \"font\": \"lato\", \"fontSize\": 32, \"opacity\": 0.8}, \"encoding\": {\"text\": {\"type\": \"nominal\", \"field\": \"text\"}, \"x\": {\"type\": \"quantitative\", \"field\": \"x\"}, \"y\": {\"type\": \"quantitative\", \"field\": \"y\"}}}, {\"data\": {\"name\": \"data-ddccd6af646b7f30406e1fd1912597ae\"}, \"mark\": {\"type\": \"text\", \"dx\": 500, \"dy\": 0, \"font\": \"lato\", \"fontSize\": 32, \"opacity\": 0}, \"encoding\": {\"text\": {\"type\": \"nominal\", \"field\": \"text\"}, \"x\": {\"type\": \"quantitative\", \"field\": \"x\"}, \"y\": {\"type\": \"quantitative\", \"field\": \"y\"}}}, {\"data\": {\"name\": \"data-05f593f4b0105a29f9e87eeb816e175d\"}, \"mark\": {\"type\": \"rule\", \"opacity\": 0, \"size\": 3}, \"encoding\": {\"x\": {\"type\": \"quantitative\", \"field\": \"x\"}, \"y\": {\"type\": \"quantitative\", \"field\": \"y\"}, \"y2\": {\"field\": \"text\"}}}], \"height\": 550, \"width\": 700}]}, {\"hconcat\": [{\"layer\": [{\"data\": {\"name\": \"data-7577eb4c0b237e17ba1bc357e80d5722\"}, \"mark\": {\"type\": \"text\", \"dx\": 0, \"dy\": -4, \"fontSize\": 11.5, \"fontWeight\": \"bold\", \"opacity\": 0.09}, \"encoding\": {\"text\": {\"type\": \"nominal\", \"field\": \"text\"}, \"x\": {\"type\": \"quantitative\", \"field\": \"x\", \"scale\": {\"domain\": [1000, 10000]}}, \"y\": {\"type\": \"quantitative\", \"field\": \"y\"}}}, {\"data\": {\"name\": \"data-fdcc87dee808c3f00794108ea7029c5e\"}, \"mark\": {\"type\": \"bar\", \"color\": \"#cede54\", \"size\": 11.8}, \"encoding\": {\"x\": {\"type\": \"quantitative\", \"axis\": {\"format\": \"~s\", \"labelFontSize\": 32, \"labelOpacity\": 0.8, \"titleOpacity\": 0.7, \"titleY\": 35, \"values\": [4000, 6000, 8000, 10000]}, \"field\": \"Bin\", \"scale\": {\"domain\": [1000, 10000]}}, \"y\": {\"type\": \"quantitative\", \"axis\": {\"labelFontSize\": 32, \"labelOpacity\": 0.8, \"labelPadding\": 60, \"titleFontSize\": 36, \"titleOpacity\": 0.8, \"titleX\": -60, \"titleY\": 50, \"values\": [100, 200]}, \"field\": \"Count\", \"scale\": {\"domain\": [0, 350]}, \"title\": \"Counties where renting is more expensive than owning\"}}, \"title\": \"\"}, {\"data\": {\"name\": \"data-ae80e88516c1616baa19089055cec545\"}, \"mark\": {\"type\": \"text\", \"dx\": -5, \"dy\": 25, \"font\": \"lato\", \"fontSize\": 32, \"opacity\": 0.8}, \"encoding\": {\"text\": {\"type\": \"nominal\", \"field\": \"text\"}, \"x\": {\"type\": \"quantitative\", \"field\": \"x\"}, \"y\": {\"type\": \"quantitative\", \"field\": \"y\"}}}, {\"data\": {\"name\": \"data-ddccd6af646b7f30406e1fd1912597ae\"}, \"mark\": {\"type\": \"text\", \"dx\": -5, \"dy\": 0, \"font\": \"lato\", \"fontSize\": 32, \"opacity\": 0.8}, \"encoding\": {\"text\": {\"type\": \"nominal\", \"field\": \"text\"}, \"x\": {\"type\": \"quantitative\", \"field\": \"x\"}, \"y\": {\"type\": \"quantitative\", \"field\": \"y\"}}}, {\"data\": {\"name\": \"data-05f593f4b0105a29f9e87eeb816e175d\"}, \"mark\": {\"type\": \"rule\", \"opacity\": 0, \"size\": 3}, \"encoding\": {\"x\": {\"type\": \"quantitative\", \"field\": \"x\"}, \"y\": {\"type\": \"quantitative\", \"field\": \"y\"}, \"y2\": {\"field\": \"text\"}}}], \"height\": 550, \"width\": 700}, {\"layer\": [{\"data\": {\"name\": \"data-7577eb4c0b237e17ba1bc357e80d5722\"}, \"mark\": {\"type\": \"text\", \"dx\": 0, \"dy\": -4, \"fontSize\": 11.5, \"fontWeight\": \"bold\", \"opacity\": 0.09}, \"encoding\": {\"text\": {\"type\": \"nominal\", \"field\": \"text\"}, \"x\": {\"type\": \"quantitative\", \"field\": \"x\", \"scale\": {\"domain\": [1000, 10000]}}, \"y\": {\"type\": \"quantitative\", \"field\": \"y\"}}}, {\"data\": {\"name\": \"data-1ad9a20f97aba60aaa73fd2c6f99d031\"}, \"mark\": {\"type\": \"bar\", \"color\": \"#97c2f2\", \"size\": 11.8}, \"encoding\": {\"x\": {\"type\": \"quantitative\", \"axis\": {\"format\": \"~s\", \"labelFontSize\": 32, \"labelOpacity\": 0.8, \"titleOpacity\": 0.7, \"titleY\": 35, \"values\": [4000, 6000, 8000, 10000]}, \"field\": \"Bin\", \"scale\": {\"domain\": [1000, 10000]}}, \"y\": {\"type\": \"quantitative\", \"axis\": {\"labelFontSize\": 32, \"labelOpacity\": 0, \"labelPadding\": 0, \"titleFontSize\": 36, \"titleOpacity\": 0.8, \"titleX\": 0, \"titleY\": 50, \"values\": [100, 200]}, \"field\": \"Count\", \"scale\": {\"domain\": [0, 350]}, \"title\": \"Counties where owning is more expensive than renting\"}}, \"title\": \"\"}, {\"data\": {\"name\": \"data-ae80e88516c1616baa19089055cec545\"}, \"mark\": {\"type\": \"text\", \"dx\": -5, \"dy\": 25, \"font\": \"lato\", \"fontSize\": 32, \"opacity\": 0.8}, \"encoding\": {\"text\": {\"type\": \"nominal\", \"field\": \"text\"}, \"x\": {\"type\": \"quantitative\", \"field\": \"x\"}, \"y\": {\"type\": \"quantitative\", \"field\": \"y\"}}}, {\"data\": {\"name\": \"data-ddccd6af646b7f30406e1fd1912597ae\"}, \"mark\": {\"type\": \"text\", \"dx\": 500, \"dy\": 0, \"font\": \"lato\", \"fontSize\": 32, \"opacity\": 0}, \"encoding\": {\"text\": {\"type\": \"nominal\", \"field\": \"text\"}, \"x\": {\"type\": \"quantitative\", \"field\": \"x\"}, \"y\": {\"type\": \"quantitative\", \"field\": \"y\"}}}, {\"data\": {\"name\": \"data-05f593f4b0105a29f9e87eeb816e175d\"}, \"mark\": {\"type\": \"rule\", \"opacity\": 0, \"size\": 3}, \"encoding\": {\"x\": {\"type\": \"quantitative\", \"field\": \"x\"}, \"y\": {\"type\": \"quantitative\", \"field\": \"y\"}, \"y2\": {\"field\": \"text\"}}}], \"height\": 550, \"width\": 700}]}], \"$schema\": \"https://vega.github.io/schema/vega-lite/v4.0.0.json\", \"datasets\": {\"data-7577eb4c0b237e17ba1bc357e80d5722\": [{\"x\": 6300, \"y\": 300, \"text\": \"______________________________________________________________________________________________\"}], \"data-5a8d7d5e9601b04bb4b347dd34920f33\": [{\"Bin\": 3000, \"Count\": 74}, {\"Bin\": 3200, \"Count\": 65}, {\"Bin\": 1600, \"Count\": 107}, {\"Bin\": 2200, \"Count\": 189}, {\"Bin\": 2000, \"Count\": 172}, {\"Bin\": 2400, \"Count\": 173}, {\"Bin\": 1800, \"Count\": 150}, {\"Bin\": 1400, \"Count\": 60}, {\"Bin\": 2600, \"Count\": 143}, {\"Bin\": 2800, \"Count\": 93}, {\"Bin\": 5400, \"Count\": 6}, {\"Bin\": 7000, \"Count\": 1}, {\"Bin\": 4400, \"Count\": 10}, {\"Bin\": 6200, \"Count\": 2}, {\"Bin\": 5800, \"Count\": 2}, {\"Bin\": 3800, \"Count\": 20}, {\"Bin\": 4600, \"Count\": 4}, {\"Bin\": 4800, \"Count\": 5}, {\"Bin\": 3400, \"Count\": 53}, {\"Bin\": 4000, \"Count\": 10}, {\"Bin\": 5600, \"Count\": 1}, {\"Bin\": 1200, \"Count\": 12}, {\"Bin\": 3600, \"Count\": 29}, {\"Bin\": 4200, \"Count\": 10}, {\"Bin\": 1000, \"Count\": 2}, {\"Bin\": 5200, \"Count\": 1}, {\"Bin\": 5000, \"Count\": 2}], \"data-ae80e88516c1616baa19089055cec545\": [{\"x\": 2300, \"y\": 0, \"text\": \"$2k/mo\"}], \"data-ddccd6af646b7f30406e1fd1912597ae\": [{\"x\": 550, \"y\": 300, \"text\": \"300 counties\"}], \"data-05f593f4b0105a29f9e87eeb816e175d\": [{\"x\": 13200, \"y\": 0, \"text\": -40}], \"data-5b0f1fe251132edd73a36dc6323e830c\": [{\"Bin\": 5400, \"Count\": 42}, {\"Bin\": 4000, \"Count\": 151}, {\"Bin\": 4400, \"Count\": 145}, {\"Bin\": 4600, \"Count\": 118}, {\"Bin\": 3800, \"Count\": 111}, {\"Bin\": 3400, \"Count\": 82}, {\"Bin\": 5600, \"Count\": 29}, {\"Bin\": 4800, \"Count\": 116}, {\"Bin\": 3200, \"Count\": 48}, {\"Bin\": 4200, \"Count\": 143}, {\"Bin\": 3600, \"Count\": 118}, {\"Bin\": 5000, \"Count\": 79}, {\"Bin\": 2200, \"Count\": 1}, {\"Bin\": 6400, \"Count\": 4}, {\"Bin\": 8200, \"Count\": 1}, {\"Bin\": 8600, \"Count\": 1}, {\"Bin\": 7200, \"Count\": 3}, {\"Bin\": 5800, \"Count\": 25}, {\"Bin\": 6200, \"Count\": 18}, {\"Bin\": 5200, \"Count\": 68}, {\"Bin\": 6600, \"Count\": 5}, {\"Bin\": 7000, \"Count\": 6}, {\"Bin\": 2600, \"Count\": 5}, {\"Bin\": 3000, \"Count\": 31}, {\"Bin\": 6000, \"Count\": 12}, {\"Bin\": 2800, \"Count\": 19}, {\"Bin\": 2400, \"Count\": 3}, {\"Bin\": 6800, \"Count\": 5}, {\"Bin\": 8800, \"Count\": 2}, {\"Bin\": 7400, \"Count\": 2}, {\"Bin\": 8000, \"Count\": 1}, {\"Bin\": 9200, \"Count\": 1}, {\"Bin\": 7800, \"Count\": 1}], \"data-fdcc87dee808c3f00794108ea7029c5e\": [{\"Bin\": 2200, \"Count\": 175}, {\"Bin\": 2800, \"Count\": 219}, {\"Bin\": 1200, \"Count\": 9}, {\"Bin\": 2600, \"Count\": 294}, {\"Bin\": 2400, \"Count\": 175}, {\"Bin\": 1400, \"Count\": 10}, {\"Bin\": 2000, \"Count\": 81}, {\"Bin\": 1600, \"Count\": 25}, {\"Bin\": 3000, \"Count\": 172}, {\"Bin\": 3800, \"Count\": 44}, {\"Bin\": 4800, \"Count\": 13}, {\"Bin\": 4400, \"Count\": 31}, {\"Bin\": 5000, \"Count\": 11}, {\"Bin\": 3600, \"Count\": 63}, {\"Bin\": 4600, \"Count\": 17}, {\"Bin\": 3400, \"Count\": 122}, {\"Bin\": 5200, \"Count\": 5}, {\"Bin\": 3200, \"Count\": 113}, {\"Bin\": 5800, \"Count\": 1}, {\"Bin\": 4200, \"Count\": 30}, {\"Bin\": 7000, \"Count\": 3}, {\"Bin\": 4000, \"Count\": 36}, {\"Bin\": 6200, \"Count\": 3}, {\"Bin\": 1800, \"Count\": 47}, {\"Bin\": 1000, \"Count\": 2}, {\"Bin\": 5400, \"Count\": 7}, {\"Bin\": 6000, \"Count\": 3}, {\"Bin\": 6400, \"Count\": 1}, {\"Bin\": 5600, \"Count\": 1}, {\"Bin\": 7600, \"Count\": 1}, {\"Bin\": 6600, \"Count\": 1}, {\"Bin\": 7200, \"Count\": 1}], \"data-1ad9a20f97aba60aaa73fd2c6f99d031\": [{\"Bin\": 3400, \"Count\": 9}, {\"Bin\": 5800, \"Count\": 117}, {\"Bin\": 3600, \"Count\": 9}, {\"Bin\": 5600, \"Count\": 122}, {\"Bin\": 3800, \"Count\": 22}, {\"Bin\": 5000, \"Count\": 140}, {\"Bin\": 4200, \"Count\": 56}, {\"Bin\": 7000, \"Count\": 37}, {\"Bin\": 4400, \"Count\": 56}, {\"Bin\": 5400, \"Count\": 141}, {\"Bin\": 4000, \"Count\": 27}, {\"Bin\": 5200, \"Count\": 148}, {\"Bin\": 7200, \"Count\": 33}, {\"Bin\": 9000, \"Count\": 9}, {\"Bin\": 8000, \"Count\": 15}, {\"Bin\": 6200, \"Count\": 86}, {\"Bin\": 9200, \"Count\": 12}, {\"Bin\": 6400, \"Count\": 69}, {\"Bin\": 8200, \"Count\": 24}, {\"Bin\": 7400, \"Count\": 23}, {\"Bin\": 7600, \"Count\": 29}, {\"Bin\": 6600, \"Count\": 43}, {\"Bin\": 4600, \"Count\": 112}, {\"Bin\": 4800, \"Count\": 120}, {\"Bin\": 6000, \"Count\": 99}, {\"Bin\": 10600, \"Count\": 4}, {\"Bin\": 9600, \"Count\": 3}, {\"Bin\": 7800, \"Count\": 19}, {\"Bin\": 8800, \"Count\": 16}, {\"Bin\": 9400, \"Count\": 5}, {\"Bin\": 8400, \"Count\": 20}, {\"Bin\": 6800, \"Count\": 39}, {\"Bin\": 8600, \"Count\": 11}, {\"Bin\": 10000, \"Count\": 5}, {\"Bin\": 2600, \"Count\": 1}, {\"Bin\": 2800, \"Count\": 3}, {\"Bin\": 3000, \"Count\": 1}, {\"Bin\": 3200, \"Count\": 4}, {\"Bin\": 9800, \"Count\": 3}, {\"Bin\": 10400, \"Count\": 3}, {\"Bin\": 10200, \"Count\": 3}, {\"Bin\": 10800, \"Count\": 1}]}}, {\"mode\": \"vega-lite\"});\n",
       "</script>"
      ],
      "text/plain": [
       "alt.VConcatChart(...)"
      ]
     },
     "execution_count": 250,
     "metadata": {},
     "output_type": "execute_result"
    }
   ],
   "source": [
    "incomes_charts = (charts_dict[0] | charts_dict[1]) & (charts_dict[2] | charts_dict[3])\n",
    "incomes_charts"
   ]
  },
  {
   "cell_type": "code",
   "execution_count": 251,
   "metadata": {},
   "outputs": [],
   "source": [
    "incomes_charts.save('renter_owner_incomes.svg')"
   ]
  },
  {
   "cell_type": "markdown",
   "metadata": {},
   "source": [
    "---"
   ]
  }
 ],
 "metadata": {
  "kernelspec": {
   "display_name": "Python 3",
   "language": "python",
   "name": "python3"
  },
  "language_info": {
   "codemirror_mode": {
    "name": "ipython",
    "version": 3
   },
   "file_extension": ".py",
   "mimetype": "text/x-python",
   "name": "python",
   "nbconvert_exporter": "python",
   "pygments_lexer": "ipython3",
   "version": "3.7.3"
  }
 },
 "nbformat": 4,
 "nbformat_minor": 4
}
