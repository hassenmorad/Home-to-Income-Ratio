{
 "cells": [
  {
   "cell_type": "markdown",
   "metadata": {},
   "source": [
    "### Monthly Housing Expense (based on pop & housing density)\n",
    "*Split by homeowners & renters"
   ]
  },
  {
   "cell_type": "code",
   "execution_count": 1,
   "metadata": {},
   "outputs": [],
   "source": [
    "import pandas as pd\n",
    "import numpy as np"
   ]
  },
  {
   "cell_type": "code",
   "execution_count": 2,
   "metadata": {},
   "outputs": [],
   "source": [
    "%run chart_theme.py"
   ]
  },
  {
   "cell_type": "code",
   "execution_count": 3,
   "metadata": {},
   "outputs": [],
   "source": [
    "rent_by_hous_den5 = pd.read_csv('rent_by_hous_den_5yr_0816.csv')\n",
    "rent_by_hous_den1 = pd.read_csv('rent_by_hous_den_1yr_1018.csv')"
   ]
  },
  {
   "cell_type": "code",
   "execution_count": 4,
   "metadata": {},
   "outputs": [],
   "source": [
    "rent_hous_den_df = pd.concat([rent_by_hous_den5, rent_by_hous_den1[rent_by_hous_den1.Year > 2016]]).sort_values(['Hous_Den', 'Year']).reset_index(drop=True)"
   ]
  },
  {
   "cell_type": "markdown",
   "metadata": {},
   "source": [
    "*Adjusting 2017 & 2018 values for '10-25' & 'Less than 10' cols (since 1-yr data included few counties of low pop densities, resulting in distorted figures)"
   ]
  },
  {
   "cell_type": "code",
   "execution_count": 5,
   "metadata": {},
   "outputs": [],
   "source": [
    "rent_hous_den_df['pct_chg'] = rent_hous_den_df['Med_Rent'].pct_change()"
   ]
  },
  {
   "cell_type": "code",
   "execution_count": 6,
   "metadata": {},
   "outputs": [],
   "source": [
    "for year in [2017, 2018]:\n",
    "    yr_df = rent_hous_den_df[rent_hous_den_df.Year == year]\n",
    "    for typ in ['30 to 75', '20 to 30', '10 to 20', '5 to 10', 'Less than 5']:\n",
    "        index = yr_df[yr_df.Hous_Den == typ].index[0]\n",
    "        rent_hous_den_df.loc[index, 'Med_Rent'] = round(rent_hous_den_df['Med_Rent'][(rent_hous_den_df.Year == year-1) & (rent_hous_den_df.Hous_Den == typ)].iloc[0] + rent_hous_den_df['Med_Rent'][(rent_hous_den_df.Year == year-1) & (rent_hous_den_df.Hous_Den == typ)].iloc[0] * rent_hous_den_df.pct_chg[(rent_hous_den_df.Year == year) & (rent_hous_den_df.Hous_Den == '75 to 200')].iloc[0], 3)"
   ]
  },
  {
   "cell_type": "code",
   "execution_count": 7,
   "metadata": {},
   "outputs": [],
   "source": [
    "dic = {}\n",
    "for t in ['More than 200', '75 to 200', '30 to 75', '20 to 30', '10 to 20', '5 to 10', 'Less than 5']:\n",
    "    dic[t] = t.split()[-1]"
   ]
  },
  {
   "cell_type": "code",
   "execution_count": 8,
   "metadata": {},
   "outputs": [],
   "source": [
    "rent_hous_den_df['Order'] = rent_hous_den_df.Hous_Den.map(dic).astype(int)"
   ]
  },
  {
   "cell_type": "code",
   "execution_count": 9,
   "metadata": {},
   "outputs": [],
   "source": [
    "rent_hous_den_df = rent_hous_den_df.sort_values(['Order', 'Hous_Den'], ascending=[False, False])"
   ]
  },
  {
   "cell_type": "code",
   "execution_count": 98,
   "metadata": {},
   "outputs": [],
   "source": [
    "rent_hous_den = alt.Chart(rent_hous_den_df, title='Monthly Renter Housing Expense').mark_line(size=8, strokeCap='round', interpolate='basis').encode(\n",
    "x=alt.X('Year:O', axis=alt.Axis(values=[2008, 2018], ticks=True, tickSize=10, labelFontSize=26, labelOpacity=.8)),\n",
    "y=alt.Y('Med_Rent', title='Counties grouped by housing density', \n",
    "        scale=alt.Scale(domain=[0,1600]),\n",
    "        axis=alt.Axis(values=list(range(400, 1600, 400)), format='a',\n",
    "                      titleX=-60, titleY=-30, titleFontSize=26, titleOpacity=.8,\n",
    "                      labelFontSize=26, labelOpacity=.7, labelPadding=60)),\n",
    "color=alt.Color('Hous_Den', scale=alt.Scale(domain=list(mort_hous_den_df.Hous_Den.unique()), \n",
    "                                             range=['#b2182b','#ef8a62','#fddbc7','#e2e0d3', '#d1e5f0','#67a9cf','#2166ac']), \n",
    "                title='Housing Units / sq. mile')\n",
    ")\n",
    "\n",
    "y_text_df = pd.DataFrame({'x':[2008], 'y':[1600], 'text':['$1600 per month']})\n",
    "y_text = alt.Chart(y_text_df).mark_text(dx=14, dy=0, fontSize=26, font='lato', opacity=.8).encode(x=alt.X('x:O'), y='y', text='text')\n",
    "line = alt.Chart(pd.DataFrame({'x':[2014], 'y':[1600], 'text':['_'*72]})).mark_text(dx=18, dy=-4, opacity=.09, fontSize=11.5, fontWeight='bold').encode(x=alt.X('x:O', axis=None), y=alt.Y('y', axis=None), text='text')\n",
    "\n",
    "rent_hous_den_chart = (rent_hous_den + y_text + line).properties(width=600, height=450)"
   ]
  },
  {
   "cell_type": "code",
   "execution_count": 99,
   "metadata": {},
   "outputs": [
    {
     "data": {
      "text/html": [
       "\n",
       "<div id=\"altair-viz-34\"></div>\n",
       "<script type=\"text/javascript\">\n",
       "  (function(spec, embedOpt){\n",
       "    const outputDiv = document.getElementById(\"altair-viz-34\");\n",
       "    const paths = {\n",
       "      \"vega\": \"https://cdn.jsdelivr.net/npm//vega@5?noext\",\n",
       "      \"vega-lib\": \"https://cdn.jsdelivr.net/npm//vega-lib?noext\",\n",
       "      \"vega-lite\": \"https://cdn.jsdelivr.net/npm//vega-lite@4.0.0?noext\",\n",
       "      \"vega-embed\": \"https://cdn.jsdelivr.net/npm//vega-embed@6?noext\",\n",
       "    };\n",
       "\n",
       "    function loadScript(lib) {\n",
       "      return new Promise(function(resolve, reject) {\n",
       "        var s = document.createElement('script');\n",
       "        s.src = paths[lib];\n",
       "        s.async = true;\n",
       "        s.onload = () => resolve(paths[lib]);\n",
       "        s.onerror = () => reject(`Error loading script: ${paths[lib]}`);\n",
       "        document.getElementsByTagName(\"head\")[0].appendChild(s);\n",
       "      });\n",
       "    }\n",
       "\n",
       "    function showError(err) {\n",
       "      outputDiv.innerHTML = `<div class=\"error\" style=\"color:red;\">${err}</div>`;\n",
       "      throw err;\n",
       "    }\n",
       "\n",
       "    function displayChart(vegaEmbed) {\n",
       "      vegaEmbed(outputDiv, spec, embedOpt)\n",
       "        .catch(err => showError(`Javascript Error: ${err.message}<br>This usually means there's a typo in your chart specification. See the javascript console for the full traceback.`));\n",
       "    }\n",
       "\n",
       "    if(typeof define === \"function\" && define.amd) {\n",
       "      requirejs.config({paths});\n",
       "      require([\"vega-embed\"], displayChart, err => showError(`Error loading script: ${err.message}`));\n",
       "    } else if (typeof vegaEmbed === \"function\") {\n",
       "      displayChart(vegaEmbed);\n",
       "    } else {\n",
       "      loadScript(\"vega\")\n",
       "        .then(() => loadScript(\"vega-lite\"))\n",
       "        .then(() => loadScript(\"vega-embed\"))\n",
       "        .catch(showError)\n",
       "        .then(() => displayChart(vegaEmbed));\n",
       "    }\n",
       "  })({\"width\": 600, \"height\": 450, \"background\": \"white\", \"config\": {\"title\": {\"fontWeight\": \"normal\", \"fontSize\": 36, \"anchor\": \"start\", \"font\": \"Lato\", \"offset\": 5}, \"axisX\": {\"grid\": false, \"labelFont\": \"Lato\", \"labelFontSize\": 16, \"labelAngle\": 0, \"labelPadding\": 10, \"ticks\": false, \"tickSize\": 5, \"title\": null, \"titleFont\": \"Lato\", \"titleFontSize\": 16, \"titleFontWeight\": \"normal\", \"titleY\": 30, \"titleX\": 280}, \"axisY\": {\"grid\": true, \"gridOpacity\": 1, \"labelFont\": \"Lato\", \"labelFontSize\": 16, \"labelLimit\": 100, \"labelAlign\": \"left\", \"labelPadding\": 20, \"ticks\": false, \"title\": null, \"titleFont\": \"Lato\", \"titleFontWeight\": \"normal\", \"titleFontSize\": 16, \"titleAlign\": \"left\", \"titleAngle\": 0, \"titleY\": -20, \"titleX\": -20, \"domainWidth\": 0}, \"view\": {\"strokeOpacity\": 0}}, \"layer\": [{\"data\": {\"name\": \"data-b49a0cdf3328dc2a7dabf79cc313ddba\"}, \"mark\": {\"type\": \"line\", \"interpolate\": \"basis\", \"size\": 8, \"strokeCap\": \"round\"}, \"encoding\": {\"color\": {\"type\": \"nominal\", \"field\": \"Hous_Den\", \"scale\": {\"domain\": [\"More than 200\", \"75 to 200\", \"30 to 75\", \"20 to 30\", \"10 to 20\", \"5 to 10\", \"Less than 5\"], \"range\": [\"#b2182b\", \"#ef8a62\", \"#fddbc7\", \"#e2e0d3\", \"#d1e5f0\", \"#67a9cf\", \"#2166ac\"]}, \"title\": \"Housing Units / sq. mile\"}, \"x\": {\"type\": \"ordinal\", \"axis\": {\"labelFontSize\": 26, \"labelOpacity\": 0.8, \"tickSize\": 10, \"ticks\": true, \"values\": [2008, 2018]}, \"field\": \"Year\"}, \"y\": {\"type\": \"quantitative\", \"axis\": {\"format\": \"a\", \"labelFontSize\": 26, \"labelOpacity\": 0.7, \"labelPadding\": 60, \"titleFontSize\": 26, \"titleOpacity\": 0.8, \"titleX\": -60, \"titleY\": -30, \"values\": [400, 800, 1200]}, \"field\": \"Med_Rent\", \"scale\": {\"domain\": [0, 1600]}, \"title\": \"Counties grouped by housing density\"}}, \"title\": \"Monthly Renter Housing Expense\"}, {\"data\": {\"name\": \"data-60db414ad589af0d032e4fa4a78314f1\"}, \"mark\": {\"type\": \"text\", \"dx\": 14, \"dy\": 0, \"font\": \"lato\", \"fontSize\": 26, \"opacity\": 0.8}, \"encoding\": {\"text\": {\"type\": \"nominal\", \"field\": \"text\"}, \"x\": {\"type\": \"ordinal\", \"field\": \"x\"}, \"y\": {\"type\": \"quantitative\", \"field\": \"y\"}}}, {\"data\": {\"name\": \"data-cd1b470d405c37f5481e2988503378bd\"}, \"mark\": {\"type\": \"text\", \"dx\": 18, \"dy\": -4, \"fontSize\": 11.5, \"fontWeight\": \"bold\", \"opacity\": 0.09}, \"encoding\": {\"text\": {\"type\": \"nominal\", \"field\": \"text\"}, \"x\": {\"type\": \"ordinal\", \"axis\": null, \"field\": \"x\"}, \"y\": {\"type\": \"quantitative\", \"axis\": null, \"field\": \"y\"}}}], \"$schema\": \"https://vega.github.io/schema/vega-lite/v4.0.0.json\", \"datasets\": {\"data-b49a0cdf3328dc2a7dabf79cc313ddba\": [{\"Year\": 2008, \"Hous_Den\": \"More than 200\", \"Med_Rent\": 922.0, \"pct_chg\": 0.0646651270207852, \"Order\": 200}, {\"Year\": 2009, \"Hous_Den\": \"More than 200\", \"Med_Rent\": 946.0, \"pct_chg\": 0.026030368763557465, \"Order\": 200}, {\"Year\": 2010, \"Hous_Den\": \"More than 200\", \"Med_Rent\": 960.0, \"pct_chg\": 0.014799154334038, \"Order\": 200}, {\"Year\": 2011, \"Hous_Den\": \"More than 200\", \"Med_Rent\": 976.0, \"pct_chg\": 0.016666666666666607, \"Order\": 200}, {\"Year\": 2012, \"Hous_Den\": \"More than 200\", \"Med_Rent\": 1005.0, \"pct_chg\": 0.029713114754098324, \"Order\": 200}, {\"Year\": 2013, \"Hous_Den\": \"More than 200\", \"Med_Rent\": 1011.0, \"pct_chg\": 0.005970149253731405, \"Order\": 200}, {\"Year\": 2014, \"Hous_Den\": \"More than 200\", \"Med_Rent\": 1051.0, \"pct_chg\": 0.03956478733926816, \"Order\": 200}, {\"Year\": 2015, \"Hous_Den\": \"More than 200\", \"Med_Rent\": 1100.0, \"pct_chg\": 0.04662226450999052, \"Order\": 200}, {\"Year\": 2016, \"Hous_Den\": \"More than 200\", \"Med_Rent\": 1150.0, \"pct_chg\": 0.045454545454545414, \"Order\": 200}, {\"Year\": 2017, \"Hous_Den\": \"More than 200\", \"Med_Rent\": 1151.0, \"pct_chg\": 0.0008695652173913437, \"Order\": 200}, {\"Year\": 2018, \"Hous_Den\": \"More than 200\", \"Med_Rent\": 1188.0, \"pct_chg\": 0.03214596003475245, \"Order\": 200}, {\"Year\": 2008, \"Hous_Den\": \"75 to 200\", \"Med_Rent\": 801.0, \"pct_chg\": 0.003759398496240518, \"Order\": 200}, {\"Year\": 2009, \"Hous_Den\": \"75 to 200\", \"Med_Rent\": 838.0, \"pct_chg\": 0.046192259675405634, \"Order\": 200}, {\"Year\": 2010, \"Hous_Den\": \"75 to 200\", \"Med_Rent\": 853.0, \"pct_chg\": 0.017899761336515496, \"Order\": 200}, {\"Year\": 2011, \"Hous_Den\": \"75 to 200\", \"Med_Rent\": 860.0, \"pct_chg\": 0.008206330597889888, \"Order\": 200}, {\"Year\": 2012, \"Hous_Den\": \"75 to 200\", \"Med_Rent\": 870.0, \"pct_chg\": 0.011627906976744207, \"Order\": 200}, {\"Year\": 2013, \"Hous_Den\": \"75 to 200\", \"Med_Rent\": 875.0, \"pct_chg\": 0.005747126436781658, \"Order\": 200}, {\"Year\": 2014, \"Hous_Den\": \"75 to 200\", \"Med_Rent\": 894.0, \"pct_chg\": 0.021714285714285797, \"Order\": 200}, {\"Year\": 2015, \"Hous_Den\": \"75 to 200\", \"Med_Rent\": 928.0, \"pct_chg\": 0.03803131991051445, \"Order\": 200}, {\"Year\": 2016, \"Hous_Den\": \"75 to 200\", \"Med_Rent\": 958.0, \"pct_chg\": 0.032327586206896575, \"Order\": 200}, {\"Year\": 2017, \"Hous_Den\": \"75 to 200\", \"Med_Rent\": 964.0, \"pct_chg\": 0.006263048016701411, \"Order\": 200}, {\"Year\": 2018, \"Hous_Den\": \"75 to 200\", \"Med_Rent\": 1007.0, \"pct_chg\": 0.04460580912863077, \"Order\": 200}, {\"Year\": 2008, \"Hous_Den\": \"30 to 75\", \"Med_Rent\": 692.0, \"pct_chg\": -0.23535911602209947, \"Order\": 75}, {\"Year\": 2009, \"Hous_Den\": \"30 to 75\", \"Med_Rent\": 715.0, \"pct_chg\": 0.03323699421965309, \"Order\": 75}, {\"Year\": 2010, \"Hous_Den\": \"30 to 75\", \"Med_Rent\": 733.0, \"pct_chg\": 0.025174825174825166, \"Order\": 75}, {\"Year\": 2011, \"Hous_Den\": \"30 to 75\", \"Med_Rent\": 752.0, \"pct_chg\": 0.02592087312414737, \"Order\": 75}, {\"Year\": 2012, \"Hous_Den\": \"30 to 75\", \"Med_Rent\": 762.0, \"pct_chg\": 0.013297872340425565, \"Order\": 75}, {\"Year\": 2013, \"Hous_Den\": \"30 to 75\", \"Med_Rent\": 772.0, \"pct_chg\": 0.013123359580052396, \"Order\": 75}, {\"Year\": 2014, \"Hous_Den\": \"30 to 75\", \"Med_Rent\": 784.0, \"pct_chg\": 0.015544041450777257, \"Order\": 75}, {\"Year\": 2015, \"Hous_Den\": \"30 to 75\", \"Med_Rent\": 807.0, \"pct_chg\": 0.029336734693877542, \"Order\": 75}, {\"Year\": 2016, \"Hous_Den\": \"30 to 75\", \"Med_Rent\": 828.0, \"pct_chg\": 0.026022304832713727, \"Order\": 75}, {\"Year\": 2017, \"Hous_Den\": \"30 to 75\", \"Med_Rent\": 833.186, \"pct_chg\": 0.13888888888888884, \"Order\": 75}, {\"Year\": 2018, \"Hous_Den\": \"30 to 75\", \"Med_Rent\": 870.351, \"pct_chg\": 0.0328738069989396, \"Order\": 75}, {\"Year\": 2008, \"Hous_Den\": \"20 to 30\", \"Med_Rent\": 601.0, \"pct_chg\": -0.30439814814814814, \"Order\": 30}, {\"Year\": 2009, \"Hous_Den\": \"20 to 30\", \"Med_Rent\": 629.0, \"pct_chg\": 0.04658901830282858, \"Order\": 30}, {\"Year\": 2010, \"Hous_Den\": \"20 to 30\", \"Med_Rent\": 656.0, \"pct_chg\": 0.042925278219395846, \"Order\": 30}, {\"Year\": 2011, \"Hous_Den\": \"20 to 30\", \"Med_Rent\": 674.0, \"pct_chg\": 0.027439024390243816, \"Order\": 30}, {\"Year\": 2012, \"Hous_Den\": \"20 to 30\", \"Med_Rent\": 688.0, \"pct_chg\": 0.020771513353115667, \"Order\": 30}, {\"Year\": 2013, \"Hous_Den\": \"20 to 30\", \"Med_Rent\": 691.0, \"pct_chg\": 0.0043604651162789665, \"Order\": 30}, {\"Year\": 2014, \"Hous_Den\": \"20 to 30\", \"Med_Rent\": 698.0, \"pct_chg\": 0.01013024602026058, \"Order\": 30}, {\"Year\": 2015, \"Hous_Den\": \"20 to 30\", \"Med_Rent\": 720.0, \"pct_chg\": 0.03151862464183375, \"Order\": 30}, {\"Year\": 2016, \"Hous_Den\": \"20 to 30\", \"Med_Rent\": 744.0, \"pct_chg\": 0.03333333333333344, \"Order\": 30}, {\"Year\": 2017, \"Hous_Den\": \"20 to 30\", \"Med_Rent\": 748.66, \"pct_chg\": 0.22446236559139776, \"Order\": 30}, {\"Year\": 2018, \"Hous_Den\": \"20 to 30\", \"Med_Rent\": 782.055, \"pct_chg\": -0.00658616904500553, \"Order\": 30}, {\"Year\": 2008, \"Hous_Den\": \"10 to 20\", \"Med_Rent\": 583.0, \"pct_chg\": null, \"Order\": 20}, {\"Year\": 2009, \"Hous_Den\": \"10 to 20\", \"Med_Rent\": 608.0, \"pct_chg\": 0.04288164665523153, \"Order\": 20}, {\"Year\": 2010, \"Hous_Den\": \"10 to 20\", \"Med_Rent\": 622.0, \"pct_chg\": 0.023026315789473673, \"Order\": 20}, {\"Year\": 2011, \"Hous_Den\": \"10 to 20\", \"Med_Rent\": 632.0, \"pct_chg\": 0.016077170418006492, \"Order\": 20}, {\"Year\": 2012, \"Hous_Den\": \"10 to 20\", \"Med_Rent\": 646.0, \"pct_chg\": 0.02215189873417711, \"Order\": 20}, {\"Year\": 2013, \"Hous_Den\": \"10 to 20\", \"Med_Rent\": 650.0, \"pct_chg\": 0.006191950464396356, \"Order\": 20}, {\"Year\": 2014, \"Hous_Den\": \"10 to 20\", \"Med_Rent\": 660.0, \"pct_chg\": 0.01538461538461533, \"Order\": 20}, {\"Year\": 2015, \"Hous_Den\": \"10 to 20\", \"Med_Rent\": 679.0, \"pct_chg\": 0.028787878787878807, \"Order\": 20}, {\"Year\": 2016, \"Hous_Den\": \"10 to 20\", \"Med_Rent\": 699.0, \"pct_chg\": 0.02945508100147265, \"Order\": 20}, {\"Year\": 2017, \"Hous_Den\": \"10 to 20\", \"Med_Rent\": 703.378, \"pct_chg\": 0.19599427753934195, \"Order\": 20}, {\"Year\": 2018, \"Hous_Den\": \"10 to 20\", \"Med_Rent\": 734.753, \"pct_chg\": 0.03349282296650724, \"Order\": 20}, {\"Year\": 2008, \"Hous_Den\": \"5 to 10\", \"Med_Rent\": 570.0, \"pct_chg\": -0.4147843942505134, \"Order\": 10}, {\"Year\": 2009, \"Hous_Den\": \"5 to 10\", \"Med_Rent\": 590.0, \"pct_chg\": 0.03508771929824572, \"Order\": 10}, {\"Year\": 2010, \"Hous_Den\": \"5 to 10\", \"Med_Rent\": 611.0, \"pct_chg\": 0.035593220338983045, \"Order\": 10}, {\"Year\": 2011, \"Hous_Den\": \"5 to 10\", \"Med_Rent\": 630.0, \"pct_chg\": 0.03109656301145658, \"Order\": 10}, {\"Year\": 2012, \"Hous_Den\": \"5 to 10\", \"Med_Rent\": 646.0, \"pct_chg\": 0.025396825396825307, \"Order\": 10}, {\"Year\": 2013, \"Hous_Den\": \"5 to 10\", \"Med_Rent\": 653.0, \"pct_chg\": 0.010835913312693402, \"Order\": 10}, {\"Year\": 2014, \"Hous_Den\": \"5 to 10\", \"Med_Rent\": 658.0, \"pct_chg\": 0.007656967840734996, \"Order\": 10}, {\"Year\": 2015, \"Hous_Den\": \"5 to 10\", \"Med_Rent\": 689.0, \"pct_chg\": 0.04711246200607899, \"Order\": 10}, {\"Year\": 2016, \"Hous_Den\": \"5 to 10\", \"Med_Rent\": 709.0, \"pct_chg\": 0.029027576197387495, \"Order\": 10}, {\"Year\": 2017, \"Hous_Den\": \"5 to 10\", \"Med_Rent\": 713.441, \"pct_chg\": 0.1382228490832158, \"Order\": 10}, {\"Year\": 2018, \"Hous_Den\": \"5 to 10\", \"Med_Rent\": 745.265, \"pct_chg\": -0.01115241635687736, \"Order\": 10}, {\"Year\": 2008, \"Hous_Den\": \"Less than 5\", \"Med_Rent\": 574.0, \"pct_chg\": -0.4299900695134061, \"Order\": 5}, {\"Year\": 2009, \"Hous_Den\": \"Less than 5\", \"Med_Rent\": 590.0, \"pct_chg\": 0.027874564459930307, \"Order\": 5}, {\"Year\": 2010, \"Hous_Den\": \"Less than 5\", \"Med_Rent\": 618.0, \"pct_chg\": 0.047457627118643986, \"Order\": 5}, {\"Year\": 2011, \"Hous_Den\": \"Less than 5\", \"Med_Rent\": 632.0, \"pct_chg\": 0.02265372168284796, \"Order\": 5}, {\"Year\": 2012, \"Hous_Den\": \"Less than 5\", \"Med_Rent\": 653.0, \"pct_chg\": 0.03322784810126578, \"Order\": 5}, {\"Year\": 2013, \"Hous_Den\": \"Less than 5\", \"Med_Rent\": 656.0, \"pct_chg\": 0.004594180704440953, \"Order\": 5}, {\"Year\": 2014, \"Hous_Den\": \"Less than 5\", \"Med_Rent\": 676.0, \"pct_chg\": 0.030487804878048808, \"Order\": 5}, {\"Year\": 2015, \"Hous_Den\": \"Less than 5\", \"Med_Rent\": 690.0, \"pct_chg\": 0.020710059171597628, \"Order\": 5}, {\"Year\": 2016, \"Hous_Den\": \"Less than 5\", \"Med_Rent\": 702.0, \"pct_chg\": 0.017391304347825987, \"Order\": 5}, {\"Year\": 2017, \"Hous_Den\": \"Less than 5\", \"Med_Rent\": 706.397, \"pct_chg\": 0.029914529914529808, \"Order\": 5}, {\"Year\": 2018, \"Hous_Den\": \"Less than 5\", \"Med_Rent\": 737.906, \"pct_chg\": 0.1977869986168741, \"Order\": 5}], \"data-60db414ad589af0d032e4fa4a78314f1\": [{\"x\": 2008, \"y\": 1600, \"text\": \"$1600 per month\"}], \"data-cd1b470d405c37f5481e2988503378bd\": [{\"x\": 2014, \"y\": 1600, \"text\": \"________________________________________________________________________\"}]}}, {\"mode\": \"vega-lite\"});\n",
       "</script>"
      ],
      "text/plain": [
       "alt.LayerChart(...)"
      ]
     },
     "execution_count": 99,
     "metadata": {},
     "output_type": "execute_result"
    }
   ],
   "source": [
    "rent_hous_den_chart"
   ]
  },
  {
   "cell_type": "markdown",
   "metadata": {},
   "source": [
    "---"
   ]
  },
  {
   "cell_type": "code",
   "execution_count": 21,
   "metadata": {},
   "outputs": [],
   "source": [
    "mort_by_hous_den5 = pd.read_csv('mort_by_hous_den_5yr_0816.csv')\n",
    "mort_by_hous_den1 = pd.read_csv('mort_by_hous_den_1yr_1018.csv')"
   ]
  },
  {
   "cell_type": "code",
   "execution_count": 22,
   "metadata": {},
   "outputs": [],
   "source": [
    "mort_hous_den_df = pd.concat([mort_by_hous_den5, mort_by_hous_den1[mort_by_hous_den1.Year > 2016]]).sort_values(['Hous_Den', 'Year']).reset_index(drop=True)"
   ]
  },
  {
   "cell_type": "markdown",
   "metadata": {},
   "source": [
    "*Adjusting 2017 & 2018 values for '10-25' & 'Less than 10' cols (since 1-yr data included few counties of low pop densities, resulting in distorted figures)"
   ]
  },
  {
   "cell_type": "code",
   "execution_count": 23,
   "metadata": {},
   "outputs": [],
   "source": [
    "mort_hous_den_df['pct_chg'] = mort_hous_den_df['Med_Mort'].pct_change()"
   ]
  },
  {
   "cell_type": "code",
   "execution_count": 24,
   "metadata": {},
   "outputs": [],
   "source": [
    "for year in [2017, 2018]:\n",
    "    yr_df = mort_hous_den_df[mort_hous_den_df.Year == year]\n",
    "    for typ in ['30 to 75', '20 to 30', '10 to 20', '5 to 10', 'Less than 5']:\n",
    "        index = yr_df[yr_df.Hous_Den == typ].index[0]\n",
    "        mort_hous_den_df.loc[index, 'Med_Mort'] = round(mort_hous_den_df['Med_Mort'][(mort_hous_den_df.Year == year-1) & (mort_hous_den_df.Hous_Den == typ)].iloc[0] + mort_hous_den_df['Med_Mort'][(mort_hous_den_df.Year == year-1) & (mort_hous_den_df.Hous_Den == typ)].iloc[0] * mort_hous_den_df.pct_chg[(mort_hous_den_df.Year == year) & (mort_hous_den_df.Hous_Den == '75 to 200')].iloc[0], 3)"
   ]
  },
  {
   "cell_type": "code",
   "execution_count": 25,
   "metadata": {},
   "outputs": [],
   "source": [
    "dic = {}\n",
    "for t in ['More than 200', '75 to 200', '30 to 75', '20 to 30', '10 to 20', '5 to 10', 'Less than 5']:\n",
    "    dic[t] = t.split()[-1]"
   ]
  },
  {
   "cell_type": "code",
   "execution_count": 26,
   "metadata": {},
   "outputs": [],
   "source": [
    "mort_hous_den_df['Order'] = mort_hous_den_df.Hous_Den.map(dic).astype(int)"
   ]
  },
  {
   "cell_type": "code",
   "execution_count": 27,
   "metadata": {},
   "outputs": [],
   "source": [
    "mort_hous_den_df = mort_hous_den_df.sort_values(['Order', 'Hous_Den'], ascending=[False, False])"
   ]
  },
  {
   "cell_type": "code",
   "execution_count": 100,
   "metadata": {},
   "outputs": [],
   "source": [
    "mort_hous_den = alt.Chart(mort_hous_den_df, title='Monthly Homeowner Housing Expense').mark_line(size=8, opacity=.85, strokeCap='round', interpolate='basis').encode(\n",
    "x=alt.X('Year:O', axis=alt.Axis(values=[2008, 2018], ticks=True, tickSize=10, labelFontSize=26, labelOpacity=.8)),\n",
    "y=alt.Y('Med_Mort', title='Counties grouped by housing density', \n",
    "        scale=alt.Scale(domain=[0,1600]),\n",
    "        axis=alt.Axis(values=list(range(400,1600,400)), format='a',\n",
    "                      titleX=0, titleY=-35, titleFontSize=26, titleOpacity=.8,\n",
    "                      labelFontSize=26, labelOpacity=0, labelPadding=0)),\n",
    "color=alt.Color('Hous_Den', scale=alt.Scale(domain=list(rent_hous_den_df.Hous_Den.unique()), \n",
    "                                             range=['#b2182b','#ef8a62','#fddbc7','#e2e0d3', '#d1e5f0','#67a9cf','#2166ac']), \n",
    "                title='Housing Units / sq. mile')\n",
    ")\n",
    "\n",
    "line = alt.Chart(pd.DataFrame({'x':[2013], 'y':[1600], 'text':['_'*94]})).mark_text(dx=0, dy=-4, opacity=.09, fontSize=11.5, fontWeight='bold').encode(x=alt.X('x:O', axis=None), y=alt.Y('y', axis=None), text='text')\n",
    "\n",
    "mort_hous_den_chart = (mort_hous_den + line).properties(width=600, height=450)"
   ]
  },
  {
   "cell_type": "code",
   "execution_count": 103,
   "metadata": {},
   "outputs": [
    {
     "data": {
      "text/html": [
       "\n",
       "<div id=\"altair-viz-36\"></div>\n",
       "<script type=\"text/javascript\">\n",
       "  (function(spec, embedOpt){\n",
       "    const outputDiv = document.getElementById(\"altair-viz-36\");\n",
       "    const paths = {\n",
       "      \"vega\": \"https://cdn.jsdelivr.net/npm//vega@5?noext\",\n",
       "      \"vega-lib\": \"https://cdn.jsdelivr.net/npm//vega-lib?noext\",\n",
       "      \"vega-lite\": \"https://cdn.jsdelivr.net/npm//vega-lite@4.0.0?noext\",\n",
       "      \"vega-embed\": \"https://cdn.jsdelivr.net/npm//vega-embed@6?noext\",\n",
       "    };\n",
       "\n",
       "    function loadScript(lib) {\n",
       "      return new Promise(function(resolve, reject) {\n",
       "        var s = document.createElement('script');\n",
       "        s.src = paths[lib];\n",
       "        s.async = true;\n",
       "        s.onload = () => resolve(paths[lib]);\n",
       "        s.onerror = () => reject(`Error loading script: ${paths[lib]}`);\n",
       "        document.getElementsByTagName(\"head\")[0].appendChild(s);\n",
       "      });\n",
       "    }\n",
       "\n",
       "    function showError(err) {\n",
       "      outputDiv.innerHTML = `<div class=\"error\" style=\"color:red;\">${err}</div>`;\n",
       "      throw err;\n",
       "    }\n",
       "\n",
       "    function displayChart(vegaEmbed) {\n",
       "      vegaEmbed(outputDiv, spec, embedOpt)\n",
       "        .catch(err => showError(`Javascript Error: ${err.message}<br>This usually means there's a typo in your chart specification. See the javascript console for the full traceback.`));\n",
       "    }\n",
       "\n",
       "    if(typeof define === \"function\" && define.amd) {\n",
       "      requirejs.config({paths});\n",
       "      require([\"vega-embed\"], displayChart, err => showError(`Error loading script: ${err.message}`));\n",
       "    } else if (typeof vegaEmbed === \"function\") {\n",
       "      displayChart(vegaEmbed);\n",
       "    } else {\n",
       "      loadScript(\"vega\")\n",
       "        .then(() => loadScript(\"vega-lite\"))\n",
       "        .then(() => loadScript(\"vega-embed\"))\n",
       "        .catch(showError)\n",
       "        .then(() => displayChart(vegaEmbed));\n",
       "    }\n",
       "  })({\"width\": 600, \"height\": 400, \"background\": \"white\", \"config\": {\"title\": {\"fontWeight\": \"normal\", \"fontSize\": 36, \"anchor\": \"start\", \"font\": \"Lato\", \"offset\": 5}, \"axisX\": {\"grid\": false, \"labelFont\": \"Lato\", \"labelFontSize\": 16, \"labelAngle\": 0, \"labelPadding\": 10, \"ticks\": false, \"tickSize\": 5, \"title\": null, \"titleFont\": \"Lato\", \"titleFontSize\": 16, \"titleFontWeight\": \"normal\", \"titleY\": 30, \"titleX\": 280}, \"axisY\": {\"grid\": true, \"gridOpacity\": 1, \"labelFont\": \"Lato\", \"labelFontSize\": 16, \"labelLimit\": 100, \"labelAlign\": \"left\", \"labelPadding\": 20, \"ticks\": false, \"title\": null, \"titleFont\": \"Lato\", \"titleFontWeight\": \"normal\", \"titleFontSize\": 16, \"titleAlign\": \"left\", \"titleAngle\": 0, \"titleY\": -20, \"titleX\": -20, \"domainWidth\": 0}, \"view\": {\"strokeOpacity\": 0}, \"legend\": {\"labelFont\": \"Lato\", \"labelFontSize\": 26, \"labelLimit\": 300, \"labelOpacity\": 0.85, \"legendX\": 1250, \"legendY\": 0, \"orient\": \"none\", \"symbolSize\": 400, \"symbolStrokeWidth\": 8, \"titleFont\": \"Lato\", \"titleFontSize\": 26, \"titleLimit\": 300, \"titleOpacity\": 0.85}}, \"hconcat\": [{\"layer\": [{\"data\": {\"name\": \"data-b49a0cdf3328dc2a7dabf79cc313ddba\"}, \"mark\": {\"type\": \"line\", \"interpolate\": \"basis\", \"size\": 8, \"strokeCap\": \"round\"}, \"encoding\": {\"color\": {\"type\": \"nominal\", \"field\": \"Hous_Den\", \"scale\": {\"domain\": [\"More than 200\", \"75 to 200\", \"30 to 75\", \"20 to 30\", \"10 to 20\", \"5 to 10\", \"Less than 5\"], \"range\": [\"#b2182b\", \"#ef8a62\", \"#fddbc7\", \"#e2e0d3\", \"#d1e5f0\", \"#67a9cf\", \"#2166ac\"]}, \"title\": \"Housing Units / sq. mile\"}, \"x\": {\"type\": \"ordinal\", \"axis\": {\"labelFontSize\": 26, \"labelOpacity\": 0.8, \"tickSize\": 10, \"ticks\": true, \"values\": [2008, 2018]}, \"field\": \"Year\"}, \"y\": {\"type\": \"quantitative\", \"axis\": {\"format\": \"a\", \"labelFontSize\": 26, \"labelOpacity\": 0.7, \"labelPadding\": 60, \"titleFontSize\": 26, \"titleOpacity\": 0.8, \"titleX\": -60, \"titleY\": -30, \"values\": [400, 800, 1200]}, \"field\": \"Med_Rent\", \"scale\": {\"domain\": [0, 1600]}, \"title\": \"Counties grouped by housing density\"}}, \"title\": \"Monthly Renter Housing Expense\"}, {\"data\": {\"name\": \"data-60db414ad589af0d032e4fa4a78314f1\"}, \"mark\": {\"type\": \"text\", \"dx\": 14, \"dy\": 0, \"font\": \"lato\", \"fontSize\": 26, \"opacity\": 0.8}, \"encoding\": {\"text\": {\"type\": \"nominal\", \"field\": \"text\"}, \"x\": {\"type\": \"ordinal\", \"field\": \"x\"}, \"y\": {\"type\": \"quantitative\", \"field\": \"y\"}}}, {\"data\": {\"name\": \"data-cd1b470d405c37f5481e2988503378bd\"}, \"mark\": {\"type\": \"text\", \"dx\": 18, \"dy\": -4, \"fontSize\": 11.5, \"fontWeight\": \"bold\", \"opacity\": 0.09}, \"encoding\": {\"text\": {\"type\": \"nominal\", \"field\": \"text\"}, \"x\": {\"type\": \"ordinal\", \"axis\": null, \"field\": \"x\"}, \"y\": {\"type\": \"quantitative\", \"axis\": null, \"field\": \"y\"}}}], \"height\": 450, \"width\": 600}, {\"layer\": [{\"data\": {\"name\": \"data-ddd259a781672235c11b0d81211c14ff\"}, \"mark\": {\"type\": \"line\", \"interpolate\": \"basis\", \"opacity\": 0.85, \"size\": 8, \"strokeCap\": \"round\"}, \"encoding\": {\"color\": {\"type\": \"nominal\", \"field\": \"Hous_Den\", \"scale\": {\"domain\": [\"More than 200\", \"75 to 200\", \"30 to 75\", \"20 to 30\", \"10 to 20\", \"5 to 10\", \"Less than 5\"], \"range\": [\"#b2182b\", \"#ef8a62\", \"#fddbc7\", \"#e2e0d3\", \"#d1e5f0\", \"#67a9cf\", \"#2166ac\"]}, \"title\": \"Housing Units / sq. mile\"}, \"x\": {\"type\": \"ordinal\", \"axis\": {\"labelFontSize\": 26, \"labelOpacity\": 0.8, \"tickSize\": 10, \"ticks\": true, \"values\": [2008, 2018]}, \"field\": \"Year\"}, \"y\": {\"type\": \"quantitative\", \"axis\": {\"format\": \"a\", \"labelFontSize\": 26, \"labelOpacity\": 0, \"labelPadding\": 0, \"titleFontSize\": 26, \"titleOpacity\": 0.8, \"titleX\": 0, \"titleY\": -35, \"values\": [400, 800, 1200]}, \"field\": \"Med_Mort\", \"scale\": {\"domain\": [0, 1600]}, \"title\": \"Counties grouped by housing density\"}}, \"title\": \"Monthly Homeowner Housing Expense\"}, {\"data\": {\"name\": \"data-0b95ab34ce1d017acaa00b8abd1eeb9c\"}, \"mark\": {\"type\": \"text\", \"dx\": 0, \"dy\": -4, \"fontSize\": 11.5, \"fontWeight\": \"bold\", \"opacity\": 0.09}, \"encoding\": {\"text\": {\"type\": \"nominal\", \"field\": \"text\"}, \"x\": {\"type\": \"ordinal\", \"axis\": null, \"field\": \"x\"}, \"y\": {\"type\": \"quantitative\", \"axis\": null, \"field\": \"y\"}}}], \"height\": 450, \"width\": 600}], \"$schema\": \"https://vega.github.io/schema/vega-lite/v4.0.0.json\", \"datasets\": {\"data-b49a0cdf3328dc2a7dabf79cc313ddba\": [{\"Year\": 2008, \"Hous_Den\": \"More than 200\", \"Med_Rent\": 922.0, \"pct_chg\": 0.0646651270207852, \"Order\": 200}, {\"Year\": 2009, \"Hous_Den\": \"More than 200\", \"Med_Rent\": 946.0, \"pct_chg\": 0.026030368763557465, \"Order\": 200}, {\"Year\": 2010, \"Hous_Den\": \"More than 200\", \"Med_Rent\": 960.0, \"pct_chg\": 0.014799154334038, \"Order\": 200}, {\"Year\": 2011, \"Hous_Den\": \"More than 200\", \"Med_Rent\": 976.0, \"pct_chg\": 0.016666666666666607, \"Order\": 200}, {\"Year\": 2012, \"Hous_Den\": \"More than 200\", \"Med_Rent\": 1005.0, \"pct_chg\": 0.029713114754098324, \"Order\": 200}, {\"Year\": 2013, \"Hous_Den\": \"More than 200\", \"Med_Rent\": 1011.0, \"pct_chg\": 0.005970149253731405, \"Order\": 200}, {\"Year\": 2014, \"Hous_Den\": \"More than 200\", \"Med_Rent\": 1051.0, \"pct_chg\": 0.03956478733926816, \"Order\": 200}, {\"Year\": 2015, \"Hous_Den\": \"More than 200\", \"Med_Rent\": 1100.0, \"pct_chg\": 0.04662226450999052, \"Order\": 200}, {\"Year\": 2016, \"Hous_Den\": \"More than 200\", \"Med_Rent\": 1150.0, \"pct_chg\": 0.045454545454545414, \"Order\": 200}, {\"Year\": 2017, \"Hous_Den\": \"More than 200\", \"Med_Rent\": 1151.0, \"pct_chg\": 0.0008695652173913437, \"Order\": 200}, {\"Year\": 2018, \"Hous_Den\": \"More than 200\", \"Med_Rent\": 1188.0, \"pct_chg\": 0.03214596003475245, \"Order\": 200}, {\"Year\": 2008, \"Hous_Den\": \"75 to 200\", \"Med_Rent\": 801.0, \"pct_chg\": 0.003759398496240518, \"Order\": 200}, {\"Year\": 2009, \"Hous_Den\": \"75 to 200\", \"Med_Rent\": 838.0, \"pct_chg\": 0.046192259675405634, \"Order\": 200}, {\"Year\": 2010, \"Hous_Den\": \"75 to 200\", \"Med_Rent\": 853.0, \"pct_chg\": 0.017899761336515496, \"Order\": 200}, {\"Year\": 2011, \"Hous_Den\": \"75 to 200\", \"Med_Rent\": 860.0, \"pct_chg\": 0.008206330597889888, \"Order\": 200}, {\"Year\": 2012, \"Hous_Den\": \"75 to 200\", \"Med_Rent\": 870.0, \"pct_chg\": 0.011627906976744207, \"Order\": 200}, {\"Year\": 2013, \"Hous_Den\": \"75 to 200\", \"Med_Rent\": 875.0, \"pct_chg\": 0.005747126436781658, \"Order\": 200}, {\"Year\": 2014, \"Hous_Den\": \"75 to 200\", \"Med_Rent\": 894.0, \"pct_chg\": 0.021714285714285797, \"Order\": 200}, {\"Year\": 2015, \"Hous_Den\": \"75 to 200\", \"Med_Rent\": 928.0, \"pct_chg\": 0.03803131991051445, \"Order\": 200}, {\"Year\": 2016, \"Hous_Den\": \"75 to 200\", \"Med_Rent\": 958.0, \"pct_chg\": 0.032327586206896575, \"Order\": 200}, {\"Year\": 2017, \"Hous_Den\": \"75 to 200\", \"Med_Rent\": 964.0, \"pct_chg\": 0.006263048016701411, \"Order\": 200}, {\"Year\": 2018, \"Hous_Den\": \"75 to 200\", \"Med_Rent\": 1007.0, \"pct_chg\": 0.04460580912863077, \"Order\": 200}, {\"Year\": 2008, \"Hous_Den\": \"30 to 75\", \"Med_Rent\": 692.0, \"pct_chg\": -0.23535911602209947, \"Order\": 75}, {\"Year\": 2009, \"Hous_Den\": \"30 to 75\", \"Med_Rent\": 715.0, \"pct_chg\": 0.03323699421965309, \"Order\": 75}, {\"Year\": 2010, \"Hous_Den\": \"30 to 75\", \"Med_Rent\": 733.0, \"pct_chg\": 0.025174825174825166, \"Order\": 75}, {\"Year\": 2011, \"Hous_Den\": \"30 to 75\", \"Med_Rent\": 752.0, \"pct_chg\": 0.02592087312414737, \"Order\": 75}, {\"Year\": 2012, \"Hous_Den\": \"30 to 75\", \"Med_Rent\": 762.0, \"pct_chg\": 0.013297872340425565, \"Order\": 75}, {\"Year\": 2013, \"Hous_Den\": \"30 to 75\", \"Med_Rent\": 772.0, \"pct_chg\": 0.013123359580052396, \"Order\": 75}, {\"Year\": 2014, \"Hous_Den\": \"30 to 75\", \"Med_Rent\": 784.0, \"pct_chg\": 0.015544041450777257, \"Order\": 75}, {\"Year\": 2015, \"Hous_Den\": \"30 to 75\", \"Med_Rent\": 807.0, \"pct_chg\": 0.029336734693877542, \"Order\": 75}, {\"Year\": 2016, \"Hous_Den\": \"30 to 75\", \"Med_Rent\": 828.0, \"pct_chg\": 0.026022304832713727, \"Order\": 75}, {\"Year\": 2017, \"Hous_Den\": \"30 to 75\", \"Med_Rent\": 833.186, \"pct_chg\": 0.13888888888888884, \"Order\": 75}, {\"Year\": 2018, \"Hous_Den\": \"30 to 75\", \"Med_Rent\": 870.351, \"pct_chg\": 0.0328738069989396, \"Order\": 75}, {\"Year\": 2008, \"Hous_Den\": \"20 to 30\", \"Med_Rent\": 601.0, \"pct_chg\": -0.30439814814814814, \"Order\": 30}, {\"Year\": 2009, \"Hous_Den\": \"20 to 30\", \"Med_Rent\": 629.0, \"pct_chg\": 0.04658901830282858, \"Order\": 30}, {\"Year\": 2010, \"Hous_Den\": \"20 to 30\", \"Med_Rent\": 656.0, \"pct_chg\": 0.042925278219395846, \"Order\": 30}, {\"Year\": 2011, \"Hous_Den\": \"20 to 30\", \"Med_Rent\": 674.0, \"pct_chg\": 0.027439024390243816, \"Order\": 30}, {\"Year\": 2012, \"Hous_Den\": \"20 to 30\", \"Med_Rent\": 688.0, \"pct_chg\": 0.020771513353115667, \"Order\": 30}, {\"Year\": 2013, \"Hous_Den\": \"20 to 30\", \"Med_Rent\": 691.0, \"pct_chg\": 0.0043604651162789665, \"Order\": 30}, {\"Year\": 2014, \"Hous_Den\": \"20 to 30\", \"Med_Rent\": 698.0, \"pct_chg\": 0.01013024602026058, \"Order\": 30}, {\"Year\": 2015, \"Hous_Den\": \"20 to 30\", \"Med_Rent\": 720.0, \"pct_chg\": 0.03151862464183375, \"Order\": 30}, {\"Year\": 2016, \"Hous_Den\": \"20 to 30\", \"Med_Rent\": 744.0, \"pct_chg\": 0.03333333333333344, \"Order\": 30}, {\"Year\": 2017, \"Hous_Den\": \"20 to 30\", \"Med_Rent\": 748.66, \"pct_chg\": 0.22446236559139776, \"Order\": 30}, {\"Year\": 2018, \"Hous_Den\": \"20 to 30\", \"Med_Rent\": 782.055, \"pct_chg\": -0.00658616904500553, \"Order\": 30}, {\"Year\": 2008, \"Hous_Den\": \"10 to 20\", \"Med_Rent\": 583.0, \"pct_chg\": null, \"Order\": 20}, {\"Year\": 2009, \"Hous_Den\": \"10 to 20\", \"Med_Rent\": 608.0, \"pct_chg\": 0.04288164665523153, \"Order\": 20}, {\"Year\": 2010, \"Hous_Den\": \"10 to 20\", \"Med_Rent\": 622.0, \"pct_chg\": 0.023026315789473673, \"Order\": 20}, {\"Year\": 2011, \"Hous_Den\": \"10 to 20\", \"Med_Rent\": 632.0, \"pct_chg\": 0.016077170418006492, \"Order\": 20}, {\"Year\": 2012, \"Hous_Den\": \"10 to 20\", \"Med_Rent\": 646.0, \"pct_chg\": 0.02215189873417711, \"Order\": 20}, {\"Year\": 2013, \"Hous_Den\": \"10 to 20\", \"Med_Rent\": 650.0, \"pct_chg\": 0.006191950464396356, \"Order\": 20}, {\"Year\": 2014, \"Hous_Den\": \"10 to 20\", \"Med_Rent\": 660.0, \"pct_chg\": 0.01538461538461533, \"Order\": 20}, {\"Year\": 2015, \"Hous_Den\": \"10 to 20\", \"Med_Rent\": 679.0, \"pct_chg\": 0.028787878787878807, \"Order\": 20}, {\"Year\": 2016, \"Hous_Den\": \"10 to 20\", \"Med_Rent\": 699.0, \"pct_chg\": 0.02945508100147265, \"Order\": 20}, {\"Year\": 2017, \"Hous_Den\": \"10 to 20\", \"Med_Rent\": 703.378, \"pct_chg\": 0.19599427753934195, \"Order\": 20}, {\"Year\": 2018, \"Hous_Den\": \"10 to 20\", \"Med_Rent\": 734.753, \"pct_chg\": 0.03349282296650724, \"Order\": 20}, {\"Year\": 2008, \"Hous_Den\": \"5 to 10\", \"Med_Rent\": 570.0, \"pct_chg\": -0.4147843942505134, \"Order\": 10}, {\"Year\": 2009, \"Hous_Den\": \"5 to 10\", \"Med_Rent\": 590.0, \"pct_chg\": 0.03508771929824572, \"Order\": 10}, {\"Year\": 2010, \"Hous_Den\": \"5 to 10\", \"Med_Rent\": 611.0, \"pct_chg\": 0.035593220338983045, \"Order\": 10}, {\"Year\": 2011, \"Hous_Den\": \"5 to 10\", \"Med_Rent\": 630.0, \"pct_chg\": 0.03109656301145658, \"Order\": 10}, {\"Year\": 2012, \"Hous_Den\": \"5 to 10\", \"Med_Rent\": 646.0, \"pct_chg\": 0.025396825396825307, \"Order\": 10}, {\"Year\": 2013, \"Hous_Den\": \"5 to 10\", \"Med_Rent\": 653.0, \"pct_chg\": 0.010835913312693402, \"Order\": 10}, {\"Year\": 2014, \"Hous_Den\": \"5 to 10\", \"Med_Rent\": 658.0, \"pct_chg\": 0.007656967840734996, \"Order\": 10}, {\"Year\": 2015, \"Hous_Den\": \"5 to 10\", \"Med_Rent\": 689.0, \"pct_chg\": 0.04711246200607899, \"Order\": 10}, {\"Year\": 2016, \"Hous_Den\": \"5 to 10\", \"Med_Rent\": 709.0, \"pct_chg\": 0.029027576197387495, \"Order\": 10}, {\"Year\": 2017, \"Hous_Den\": \"5 to 10\", \"Med_Rent\": 713.441, \"pct_chg\": 0.1382228490832158, \"Order\": 10}, {\"Year\": 2018, \"Hous_Den\": \"5 to 10\", \"Med_Rent\": 745.265, \"pct_chg\": -0.01115241635687736, \"Order\": 10}, {\"Year\": 2008, \"Hous_Den\": \"Less than 5\", \"Med_Rent\": 574.0, \"pct_chg\": -0.4299900695134061, \"Order\": 5}, {\"Year\": 2009, \"Hous_Den\": \"Less than 5\", \"Med_Rent\": 590.0, \"pct_chg\": 0.027874564459930307, \"Order\": 5}, {\"Year\": 2010, \"Hous_Den\": \"Less than 5\", \"Med_Rent\": 618.0, \"pct_chg\": 0.047457627118643986, \"Order\": 5}, {\"Year\": 2011, \"Hous_Den\": \"Less than 5\", \"Med_Rent\": 632.0, \"pct_chg\": 0.02265372168284796, \"Order\": 5}, {\"Year\": 2012, \"Hous_Den\": \"Less than 5\", \"Med_Rent\": 653.0, \"pct_chg\": 0.03322784810126578, \"Order\": 5}, {\"Year\": 2013, \"Hous_Den\": \"Less than 5\", \"Med_Rent\": 656.0, \"pct_chg\": 0.004594180704440953, \"Order\": 5}, {\"Year\": 2014, \"Hous_Den\": \"Less than 5\", \"Med_Rent\": 676.0, \"pct_chg\": 0.030487804878048808, \"Order\": 5}, {\"Year\": 2015, \"Hous_Den\": \"Less than 5\", \"Med_Rent\": 690.0, \"pct_chg\": 0.020710059171597628, \"Order\": 5}, {\"Year\": 2016, \"Hous_Den\": \"Less than 5\", \"Med_Rent\": 702.0, \"pct_chg\": 0.017391304347825987, \"Order\": 5}, {\"Year\": 2017, \"Hous_Den\": \"Less than 5\", \"Med_Rent\": 706.397, \"pct_chg\": 0.029914529914529808, \"Order\": 5}, {\"Year\": 2018, \"Hous_Den\": \"Less than 5\", \"Med_Rent\": 737.906, \"pct_chg\": 0.1977869986168741, \"Order\": 5}], \"data-60db414ad589af0d032e4fa4a78314f1\": [{\"x\": 2008, \"y\": 1600, \"text\": \"$1600 per month\"}], \"data-cd1b470d405c37f5481e2988503378bd\": [{\"x\": 2014, \"y\": 1600, \"text\": \"________________________________________________________________________\"}], \"data-ddd259a781672235c11b0d81211c14ff\": [{\"Year\": 2008, \"Hous_Den\": \"More than 200\", \"Med_Mort\": 1485.0, \"pct_chg\": 1.4586092715231787, \"Order\": 200}, {\"Year\": 2009, \"Hous_Den\": \"More than 200\", \"Med_Mort\": 1511.0, \"pct_chg\": 0.017508417508417473, \"Order\": 200}, {\"Year\": 2010, \"Hous_Den\": \"More than 200\", \"Med_Mort\": 1492.0, \"pct_chg\": -0.012574454003970836, \"Order\": 200}, {\"Year\": 2011, \"Hous_Den\": \"More than 200\", \"Med_Mort\": 1454.0, \"pct_chg\": -0.025469168900804307, \"Order\": 200}, {\"Year\": 2012, \"Hous_Den\": \"More than 200\", \"Med_Mort\": 1421.0, \"pct_chg\": -0.02269601100412655, \"Order\": 200}, {\"Year\": 2013, \"Hous_Den\": \"More than 200\", \"Med_Mort\": 1370.0, \"pct_chg\": -0.03589021815622806, \"Order\": 200}, {\"Year\": 2014, \"Hous_Den\": \"More than 200\", \"Med_Mort\": 1363.0, \"pct_chg\": -0.005109489051094873, \"Order\": 200}, {\"Year\": 2015, \"Hous_Den\": \"More than 200\", \"Med_Mort\": 1372.0, \"pct_chg\": 0.006603081438004477, \"Order\": 200}, {\"Year\": 2016, \"Hous_Den\": \"More than 200\", \"Med_Mort\": 1412.0, \"pct_chg\": 0.029154518950437414, \"Order\": 200}, {\"Year\": 2017, \"Hous_Den\": \"More than 200\", \"Med_Mort\": 1359.0, \"pct_chg\": -0.037535410764872545, \"Order\": 200}, {\"Year\": 2018, \"Hous_Den\": \"More than 200\", \"Med_Mort\": 1412.0, \"pct_chg\": 0.03899926416482713, \"Order\": 200}, {\"Year\": 2008, \"Hous_Den\": \"75 to 200\", \"Med_Mort\": 1109.0, \"pct_chg\": 0.6527570789865871, \"Order\": 200}, {\"Year\": 2009, \"Hous_Den\": \"75 to 200\", \"Med_Mort\": 1129.0, \"pct_chg\": 0.0180342651036971, \"Order\": 200}, {\"Year\": 2010, \"Hous_Den\": \"75 to 200\", \"Med_Mort\": 1131.0, \"pct_chg\": 0.001771479185119551, \"Order\": 200}, {\"Year\": 2011, \"Hous_Den\": \"75 to 200\", \"Med_Mort\": 1113.0, \"pct_chg\": -0.01591511936339518, \"Order\": 200}, {\"Year\": 2012, \"Hous_Den\": \"75 to 200\", \"Med_Mort\": 1088.0, \"pct_chg\": -0.02246181491464505, \"Order\": 200}, {\"Year\": 2013, \"Hous_Den\": \"75 to 200\", \"Med_Mort\": 1073.0, \"pct_chg\": -0.01378676470588236, \"Order\": 200}, {\"Year\": 2014, \"Hous_Den\": \"75 to 200\", \"Med_Mort\": 1065.0, \"pct_chg\": -0.00745573159366264, \"Order\": 200}, {\"Year\": 2015, \"Hous_Den\": \"75 to 200\", \"Med_Mort\": 1074.0, \"pct_chg\": 0.008450704225352101, \"Order\": 200}, {\"Year\": 2016, \"Hous_Den\": \"75 to 200\", \"Med_Mort\": 1101.0, \"pct_chg\": 0.025139664804469275, \"Order\": 200}, {\"Year\": 2017, \"Hous_Den\": \"75 to 200\", \"Med_Mort\": 1078.0, \"pct_chg\": -0.020890099909173454, \"Order\": 200}, {\"Year\": 2018, \"Hous_Den\": \"75 to 200\", \"Med_Mort\": 1106.0, \"pct_chg\": 0.025974025974025983, \"Order\": 200}, {\"Year\": 2008, \"Hous_Den\": \"30 to 75\", \"Med_Mort\": 890.0, \"pct_chg\": -0.01220865704772478, \"Order\": 75}, {\"Year\": 2009, \"Hous_Den\": \"30 to 75\", \"Med_Mort\": 915.0, \"pct_chg\": 0.028089887640449396, \"Order\": 75}, {\"Year\": 2010, \"Hous_Den\": \"30 to 75\", \"Med_Mort\": 911.0, \"pct_chg\": -0.0043715846994535346, \"Order\": 75}, {\"Year\": 2011, \"Hous_Den\": \"30 to 75\", \"Med_Mort\": 906.0, \"pct_chg\": -0.005488474204171201, \"Order\": 75}, {\"Year\": 2012, \"Hous_Den\": \"30 to 75\", \"Med_Mort\": 901.0, \"pct_chg\": -0.0055187637969095205, \"Order\": 75}, {\"Year\": 2013, \"Hous_Den\": \"30 to 75\", \"Med_Mort\": 878.0, \"pct_chg\": -0.025527192008878985, \"Order\": 75}, {\"Year\": 2014, \"Hous_Den\": \"30 to 75\", \"Med_Mort\": 874.0, \"pct_chg\": -0.004555808656036442, \"Order\": 75}, {\"Year\": 2015, \"Hous_Den\": \"30 to 75\", \"Med_Mort\": 888.0, \"pct_chg\": 0.016018306636155666, \"Order\": 75}, {\"Year\": 2016, \"Hous_Den\": \"30 to 75\", \"Med_Mort\": 897.0, \"pct_chg\": 0.010135135135135087, \"Order\": 75}, {\"Year\": 2017, \"Hous_Den\": \"30 to 75\", \"Med_Mort\": 878.262, \"pct_chg\": 0.04905239687848373, \"Order\": 75}, {\"Year\": 2018, \"Hous_Den\": \"30 to 75\", \"Med_Mort\": 901.074, \"pct_chg\": 0.057385759829968075, \"Order\": 75}, {\"Year\": 2008, \"Hous_Den\": \"20 to 30\", \"Med_Mort\": 735.0, \"pct_chg\": -0.11764705882352944, \"Order\": 30}, {\"Year\": 2009, \"Hous_Den\": \"20 to 30\", \"Med_Mort\": 752.0, \"pct_chg\": 0.023129251700680253, \"Order\": 30}, {\"Year\": 2010, \"Hous_Den\": \"20 to 30\", \"Med_Mort\": 760.0, \"pct_chg\": 0.010638297872340496, \"Order\": 30}, {\"Year\": 2011, \"Hous_Den\": \"20 to 30\", \"Med_Mort\": 751.0, \"pct_chg\": -0.011842105263157876, \"Order\": 30}, {\"Year\": 2012, \"Hous_Den\": \"20 to 30\", \"Med_Mort\": 749.0, \"pct_chg\": -0.0026631158455392434, \"Order\": 30}, {\"Year\": 2013, \"Hous_Den\": \"20 to 30\", \"Med_Mort\": 742.0, \"pct_chg\": -0.009345794392523366, \"Order\": 30}, {\"Year\": 2014, \"Hous_Den\": \"20 to 30\", \"Med_Mort\": 741.0, \"pct_chg\": -0.0013477088948786742, \"Order\": 30}, {\"Year\": 2015, \"Hous_Den\": \"20 to 30\", \"Med_Mort\": 751.0, \"pct_chg\": 0.013495276653171295, \"Order\": 30}, {\"Year\": 2016, \"Hous_Den\": \"20 to 30\", \"Med_Mort\": 769.0, \"pct_chg\": 0.023968042609853635, \"Order\": 30}, {\"Year\": 2017, \"Hous_Den\": \"20 to 30\", \"Med_Mort\": 752.936, \"pct_chg\": 0.3094928478543564, \"Order\": 30}, {\"Year\": 2018, \"Hous_Den\": \"20 to 30\", \"Med_Mort\": 772.493, \"pct_chg\": -0.10526315789473684, \"Order\": 30}, {\"Year\": 2008, \"Hous_Den\": \"10 to 20\", \"Med_Mort\": 677.0, \"pct_chg\": null, \"Order\": 20}, {\"Year\": 2009, \"Hous_Den\": \"10 to 20\", \"Med_Mort\": 692.0, \"pct_chg\": 0.02215657311669128, \"Order\": 20}, {\"Year\": 2010, \"Hous_Den\": \"10 to 20\", \"Med_Mort\": 688.0, \"pct_chg\": -0.005780346820809301, \"Order\": 20}, {\"Year\": 2011, \"Hous_Den\": \"10 to 20\", \"Med_Mort\": 686.0, \"pct_chg\": -0.0029069767441860517, \"Order\": 20}, {\"Year\": 2012, \"Hous_Den\": \"10 to 20\", \"Med_Mort\": 680.0, \"pct_chg\": -0.008746355685131157, \"Order\": 20}, {\"Year\": 2013, \"Hous_Den\": \"10 to 20\", \"Med_Mort\": 674.0, \"pct_chg\": -0.008823529411764675, \"Order\": 20}, {\"Year\": 2014, \"Hous_Den\": \"10 to 20\", \"Med_Mort\": 670.0, \"pct_chg\": -0.005934718100890191, \"Order\": 20}, {\"Year\": 2015, \"Hous_Den\": \"10 to 20\", \"Med_Mort\": 683.0, \"pct_chg\": 0.0194029850746269, \"Order\": 20}, {\"Year\": 2016, \"Hous_Den\": \"10 to 20\", \"Med_Mort\": 699.0, \"pct_chg\": 0.02342606149341142, \"Order\": 20}, {\"Year\": 2017, \"Hous_Den\": \"10 to 20\", \"Med_Mort\": 684.398, \"pct_chg\": 0.3090128755364807, \"Order\": 20}, {\"Year\": 2018, \"Hous_Den\": \"10 to 20\", \"Med_Mort\": 702.175, \"pct_chg\": -0.08961748633879785, \"Order\": 20}, {\"Year\": 2008, \"Hous_Den\": \"5 to 10\", \"Med_Mort\": 612.0, \"pct_chg\": -0.38492462311557785, \"Order\": 10}, {\"Year\": 2009, \"Hous_Den\": \"5 to 10\", \"Med_Mort\": 632.0, \"pct_chg\": 0.03267973856209161, \"Order\": 10}, {\"Year\": 2010, \"Hous_Den\": \"5 to 10\", \"Med_Mort\": 643.0, \"pct_chg\": 0.017405063291139333, \"Order\": 10}, {\"Year\": 2011, \"Hous_Den\": \"5 to 10\", \"Med_Mort\": 650.0, \"pct_chg\": 0.010886469673405896, \"Order\": 10}, {\"Year\": 2012, \"Hous_Den\": \"5 to 10\", \"Med_Mort\": 653.0, \"pct_chg\": 0.004615384615384688, \"Order\": 10}, {\"Year\": 2013, \"Hous_Den\": \"5 to 10\", \"Med_Mort\": 631.0, \"pct_chg\": -0.03369065849923425, \"Order\": 10}, {\"Year\": 2014, \"Hous_Den\": \"5 to 10\", \"Med_Mort\": 634.0, \"pct_chg\": 0.004754358161648264, \"Order\": 10}, {\"Year\": 2015, \"Hous_Den\": \"5 to 10\", \"Med_Mort\": 641.0, \"pct_chg\": 0.011041009463722329, \"Order\": 10}, {\"Year\": 2016, \"Hous_Den\": \"5 to 10\", \"Med_Mort\": 648.0, \"pct_chg\": 0.010920436817472678, \"Order\": 10}, {\"Year\": 2017, \"Hous_Den\": \"5 to 10\", \"Med_Mort\": 634.463, \"pct_chg\": 0.3472222222222223, \"Order\": 10}, {\"Year\": 2018, \"Hous_Den\": \"5 to 10\", \"Med_Mort\": 650.943, \"pct_chg\": -0.23138602520045815, \"Order\": 10}, {\"Year\": 2008, \"Hous_Den\": \"Less than 5\", \"Med_Mort\": 590.0, \"pct_chg\": -0.4665461121157324, \"Order\": 5}, {\"Year\": 2009, \"Hous_Den\": \"Less than 5\", \"Med_Mort\": 604.0, \"pct_chg\": 0.023728813559322104, \"Order\": 5}, {\"Year\": 2010, \"Hous_Den\": \"Less than 5\", \"Med_Mort\": 607.0, \"pct_chg\": 0.004966887417218624, \"Order\": 5}, {\"Year\": 2011, \"Hous_Den\": \"Less than 5\", \"Med_Mort\": 609.0, \"pct_chg\": 0.0032948929159801743, \"Order\": 5}, {\"Year\": 2012, \"Hous_Den\": \"Less than 5\", \"Med_Mort\": 618.0, \"pct_chg\": 0.014778325123152802, \"Order\": 5}, {\"Year\": 2013, \"Hous_Den\": \"Less than 5\", \"Med_Mort\": 615.0, \"pct_chg\": -0.004854368932038833, \"Order\": 5}, {\"Year\": 2014, \"Hous_Den\": \"Less than 5\", \"Med_Mort\": 614.0, \"pct_chg\": -0.001626016260162566, \"Order\": 5}, {\"Year\": 2015, \"Hous_Den\": \"Less than 5\", \"Med_Mort\": 631.0, \"pct_chg\": 0.027687296416938123, \"Order\": 5}, {\"Year\": 2016, \"Hous_Den\": \"Less than 5\", \"Med_Mort\": 643.0, \"pct_chg\": 0.019017432646592614, \"Order\": 5}, {\"Year\": 2017, \"Hous_Den\": \"Less than 5\", \"Med_Mort\": 629.568, \"pct_chg\": -0.04821150855365475, \"Order\": 5}, {\"Year\": 2018, \"Hous_Den\": \"Less than 5\", \"Med_Mort\": 645.92, \"pct_chg\": -0.013071895424836555, \"Order\": 5}], \"data-0b95ab34ce1d017acaa00b8abd1eeb9c\": [{\"x\": 2013, \"y\": 1600, \"text\": \"______________________________________________________________________________________________\"}]}}, {\"mode\": \"vega-lite\"});\n",
       "</script>"
      ],
      "text/plain": [
       "alt.HConcatChart(...)"
      ]
     },
     "execution_count": 103,
     "metadata": {},
     "output_type": "execute_result"
    }
   ],
   "source": [
    "comb_hous_den_chart = (rent_hous_den_chart | mort_hous_den_chart).configure_legend(orient='none', legendX=1250, legendY=0, titleFont='Lato', titleFontSize=26, titleOpacity=.85, titleLimit=300, labelFont='Lato', labelFontSize=26, labelOpacity=.85, labelLimit=300, symbolSize=400, symbolStrokeWidth=8)\n",
    "comb_hous_den_chart"
   ]
  },
  {
   "cell_type": "code",
   "execution_count": 105,
   "metadata": {},
   "outputs": [],
   "source": [
    "comb_hous_den_chart.save('comb_hous_exp_hous_den_chart.svg')"
   ]
  },
  {
   "cell_type": "markdown",
   "metadata": {},
   "source": [
    "---"
   ]
  },
  {
   "cell_type": "code",
   "execution_count": 12,
   "metadata": {},
   "outputs": [],
   "source": [
    "rent_by_pop_den5 = pd.read_csv('rent_by_pop_den_5yr_0816.csv')\n",
    "rent_by_pop_den1 = pd.read_csv('rent_by_pop_den_1yr_1018.csv')"
   ]
  },
  {
   "cell_type": "code",
   "execution_count": 13,
   "metadata": {},
   "outputs": [],
   "source": [
    "rent_pop_den_df = pd.concat([rent_by_pop_den5, rent_by_pop_den1[rent_by_pop_den1.Year > 2016]]).sort_values(['Pop', 'Year']).reset_index(drop=True)"
   ]
  },
  {
   "cell_type": "markdown",
   "metadata": {},
   "source": [
    "*Adjusting 2017 & 2018 values for '10-25' & 'Less than 10' cols (since 1-yr data included few counties of low pop densities, resulting in distorted figures)"
   ]
  },
  {
   "cell_type": "code",
   "execution_count": 14,
   "metadata": {},
   "outputs": [],
   "source": [
    "rent_pop_den_df['pct_chg'] = rent_pop_den_df['Med_Rent'].pct_change()"
   ]
  },
  {
   "cell_type": "code",
   "execution_count": 15,
   "metadata": {},
   "outputs": [],
   "source": [
    "for year in [2017, 2018]:\n",
    "    yr_df = rent_pop_den_df[rent_pop_den_df.Year == year]\n",
    "    for typ in ['250 to 1000', '100 to 250', '50 to 100', '25 to 50', '10 to 25', 'Less than 10']:\n",
    "        index = yr_df[yr_df.Pop == typ].index[0]\n",
    "        rent_pop_den_df.loc[index, 'Med_Rent'] = round(rent_pop_den_df['Med_Rent'][(rent_pop_den_df.Year == year-1) & (rent_pop_den_df.Pop == typ)].iloc[0] + rent_pop_den_df['Med_Rent'][(rent_pop_den_df.Year == year-1) & (rent_pop_den_df.Pop == typ)].iloc[0] * rent_pop_den_df.pct_chg[(rent_pop_den_df.Year == year) & (rent_pop_den_df.Pop == 'More than 1000')].iloc[0], 3)"
   ]
  },
  {
   "cell_type": "code",
   "execution_count": 16,
   "metadata": {},
   "outputs": [],
   "source": [
    "dic = {}\n",
    "for t in ['More than 1000', '250 to 1000', '100 to 250', '50 to 100', '25 to 50', '10 to 25', 'Less than 10']:\n",
    "    dic[t] = t.split()[-1]"
   ]
  },
  {
   "cell_type": "code",
   "execution_count": 17,
   "metadata": {},
   "outputs": [],
   "source": [
    "rent_pop_den_df['Order'] = rent_pop_den_df.Pop.map(dic).astype(int)"
   ]
  },
  {
   "cell_type": "code",
   "execution_count": 18,
   "metadata": {},
   "outputs": [],
   "source": [
    "rent_pop_den_df = rent_pop_den_df.sort_values(['Order', 'Pop'], ascending=[False, False])"
   ]
  },
  {
   "cell_type": "code",
   "execution_count": 106,
   "metadata": {},
   "outputs": [],
   "source": [
    "rent_pop_den = alt.Chart(rent_pop_den_df).mark_line(size=8, strokeCap='round', interpolate='basis').encode(\n",
    "x=alt.X('Year:O', axis=alt.Axis(values=[2008, 2018], ticks=True, tickSize=10, labelFontSize=26, labelOpacity=.8)),\n",
    "y=alt.Y('Med_Rent', title='Counties grouped by population density', \n",
    "        scale=alt.Scale(domain=[0,1600]),\n",
    "        axis=alt.Axis(values=list(range(400, 1600, 400)), format='a', \n",
    "                      titleX=-60, titleY=-30, titleFontSize=26, titleOpacity=.8,\n",
    "                      labelFontSize=26, labelOpacity=.8, labelPadding=60)),\n",
    "color=alt.Color('Pop', scale=alt.Scale(domain=list(rent_pop_den_df.Pop.unique()), \n",
    "                                             range=['#b2182b','#ef8a62','#fddbc7','#e2e0d3', '#d1e5f0','#67a9cf','#2166ac']), \n",
    "                title='Residents / sq. mile')\n",
    ")\n",
    "\n",
    "y_text_df = pd.DataFrame({'x':[2008], 'y':[1600], 'text':['$1600 per month']})\n",
    "y_text = alt.Chart(y_text_df).mark_text(dx=14, dy=0, fontSize=26, font='lato', opacity=.8).encode(x=alt.X('x:O'), y='y', text='text')\n",
    "line = alt.Chart(pd.DataFrame({'x':[2014], 'y':[1600], 'text':['_'*72]})).mark_text(dx=18, dy=-4, opacity=.09, fontSize=11.5, fontWeight='bold').encode(x=alt.X('x:O', axis=None), y=alt.Y('y', axis=None), text='text')\n",
    "\n",
    "\n",
    "rent_pop_den_chart = (rent_pop_den + y_text + line).properties(width=600, height=450)"
   ]
  },
  {
   "cell_type": "code",
   "execution_count": 107,
   "metadata": {},
   "outputs": [
    {
     "data": {
      "text/html": [
       "\n",
       "<div id=\"altair-viz-37\"></div>\n",
       "<script type=\"text/javascript\">\n",
       "  (function(spec, embedOpt){\n",
       "    const outputDiv = document.getElementById(\"altair-viz-37\");\n",
       "    const paths = {\n",
       "      \"vega\": \"https://cdn.jsdelivr.net/npm//vega@5?noext\",\n",
       "      \"vega-lib\": \"https://cdn.jsdelivr.net/npm//vega-lib?noext\",\n",
       "      \"vega-lite\": \"https://cdn.jsdelivr.net/npm//vega-lite@4.0.0?noext\",\n",
       "      \"vega-embed\": \"https://cdn.jsdelivr.net/npm//vega-embed@6?noext\",\n",
       "    };\n",
       "\n",
       "    function loadScript(lib) {\n",
       "      return new Promise(function(resolve, reject) {\n",
       "        var s = document.createElement('script');\n",
       "        s.src = paths[lib];\n",
       "        s.async = true;\n",
       "        s.onload = () => resolve(paths[lib]);\n",
       "        s.onerror = () => reject(`Error loading script: ${paths[lib]}`);\n",
       "        document.getElementsByTagName(\"head\")[0].appendChild(s);\n",
       "      });\n",
       "    }\n",
       "\n",
       "    function showError(err) {\n",
       "      outputDiv.innerHTML = `<div class=\"error\" style=\"color:red;\">${err}</div>`;\n",
       "      throw err;\n",
       "    }\n",
       "\n",
       "    function displayChart(vegaEmbed) {\n",
       "      vegaEmbed(outputDiv, spec, embedOpt)\n",
       "        .catch(err => showError(`Javascript Error: ${err.message}<br>This usually means there's a typo in your chart specification. See the javascript console for the full traceback.`));\n",
       "    }\n",
       "\n",
       "    if(typeof define === \"function\" && define.amd) {\n",
       "      requirejs.config({paths});\n",
       "      require([\"vega-embed\"], displayChart, err => showError(`Error loading script: ${err.message}`));\n",
       "    } else if (typeof vegaEmbed === \"function\") {\n",
       "      displayChart(vegaEmbed);\n",
       "    } else {\n",
       "      loadScript(\"vega\")\n",
       "        .then(() => loadScript(\"vega-lite\"))\n",
       "        .then(() => loadScript(\"vega-embed\"))\n",
       "        .catch(showError)\n",
       "        .then(() => displayChart(vegaEmbed));\n",
       "    }\n",
       "  })({\"width\": 600, \"height\": 450, \"background\": \"white\", \"config\": {\"title\": {\"fontWeight\": \"normal\", \"fontSize\": 36, \"anchor\": \"start\", \"font\": \"Lato\", \"offset\": 5}, \"axisX\": {\"grid\": false, \"labelFont\": \"Lato\", \"labelFontSize\": 16, \"labelAngle\": 0, \"labelPadding\": 10, \"ticks\": false, \"tickSize\": 5, \"title\": null, \"titleFont\": \"Lato\", \"titleFontSize\": 16, \"titleFontWeight\": \"normal\", \"titleY\": 30, \"titleX\": 280}, \"axisY\": {\"grid\": true, \"gridOpacity\": 1, \"labelFont\": \"Lato\", \"labelFontSize\": 16, \"labelLimit\": 100, \"labelAlign\": \"left\", \"labelPadding\": 20, \"ticks\": false, \"title\": null, \"titleFont\": \"Lato\", \"titleFontWeight\": \"normal\", \"titleFontSize\": 16, \"titleAlign\": \"left\", \"titleAngle\": 0, \"titleY\": -20, \"titleX\": -20, \"domainWidth\": 0}, \"view\": {\"strokeOpacity\": 0}}, \"layer\": [{\"data\": {\"name\": \"data-2b867c9430a4f70fb4a6b60ecb6c3253\"}, \"mark\": {\"type\": \"line\", \"interpolate\": \"basis\", \"size\": 8, \"strokeCap\": \"round\"}, \"encoding\": {\"color\": {\"type\": \"nominal\", \"field\": \"Pop\", \"scale\": {\"domain\": [\"More than 1000\", \"250 to 1000\", \"100 to 250\", \"50 to 100\", \"25 to 50\", \"10 to 25\", \"Less than 10\"], \"range\": [\"#b2182b\", \"#ef8a62\", \"#fddbc7\", \"#e2e0d3\", \"#d1e5f0\", \"#67a9cf\", \"#2166ac\"]}, \"title\": \"Residents / sq. mile\"}, \"x\": {\"type\": \"ordinal\", \"axis\": {\"labelFontSize\": 26, \"labelOpacity\": 0.8, \"tickSize\": 10, \"ticks\": true, \"values\": [2008, 2018]}, \"field\": \"Year\"}, \"y\": {\"type\": \"quantitative\", \"axis\": {\"format\": \"a\", \"labelFontSize\": 26, \"labelOpacity\": 0.8, \"labelPadding\": 60, \"titleFontSize\": 26, \"titleOpacity\": 0.8, \"titleX\": -60, \"titleY\": -30, \"values\": [400, 800, 1200]}, \"field\": \"Med_Rent\", \"scale\": {\"domain\": [0, 1600]}, \"title\": \"Counties grouped by population density\"}}}, {\"data\": {\"name\": \"data-60db414ad589af0d032e4fa4a78314f1\"}, \"mark\": {\"type\": \"text\", \"dx\": 14, \"dy\": 0, \"font\": \"lato\", \"fontSize\": 26, \"opacity\": 0.8}, \"encoding\": {\"text\": {\"type\": \"nominal\", \"field\": \"text\"}, \"x\": {\"type\": \"ordinal\", \"field\": \"x\"}, \"y\": {\"type\": \"quantitative\", \"field\": \"y\"}}}, {\"data\": {\"name\": \"data-cd1b470d405c37f5481e2988503378bd\"}, \"mark\": {\"type\": \"text\", \"dx\": 18, \"dy\": -4, \"fontSize\": 11.5, \"fontWeight\": \"bold\", \"opacity\": 0.09}, \"encoding\": {\"text\": {\"type\": \"nominal\", \"field\": \"text\"}, \"x\": {\"type\": \"ordinal\", \"axis\": null, \"field\": \"x\"}, \"y\": {\"type\": \"quantitative\", \"axis\": null, \"field\": \"y\"}}}], \"$schema\": \"https://vega.github.io/schema/vega-lite/v4.0.0.json\", \"datasets\": {\"data-2b867c9430a4f70fb4a6b60ecb6c3253\": [{\"Year\": 2008, \"Pop\": \"More than 1000\", \"Med_Rent\": 977.0, \"pct_chg\": -0.2082658022690438, \"Order\": 1000}, {\"Year\": 2009, \"Pop\": \"More than 1000\", \"Med_Rent\": 980.0, \"pct_chg\": 0.003070624360286489, \"Order\": 1000}, {\"Year\": 2010, \"Pop\": \"More than 1000\", \"Med_Rent\": 1000.0, \"pct_chg\": 0.020408163265306145, \"Order\": 1000}, {\"Year\": 2011, \"Pop\": \"More than 1000\", \"Med_Rent\": 1024.0, \"pct_chg\": 0.02400000000000002, \"Order\": 1000}, {\"Year\": 2012, \"Pop\": \"More than 1000\", \"Med_Rent\": 1035.0, \"pct_chg\": 0.0107421875, \"Order\": 1000}, {\"Year\": 2013, \"Pop\": \"More than 1000\", \"Med_Rent\": 1043.0, \"pct_chg\": 0.007729468599033895, \"Order\": 1000}, {\"Year\": 2014, \"Pop\": \"More than 1000\", \"Med_Rent\": 1065.0, \"pct_chg\": 0.021093000958772867, \"Order\": 1000}, {\"Year\": 2015, \"Pop\": \"More than 1000\", \"Med_Rent\": 1122.0, \"pct_chg\": 0.05352112676056331, \"Order\": 1000}, {\"Year\": 2016, \"Pop\": \"More than 1000\", \"Med_Rent\": 1176.0, \"pct_chg\": 0.048128342245989275, \"Order\": 1000}, {\"Year\": 2017, \"Pop\": \"More than 1000\", \"Med_Rent\": 1181.0, \"pct_chg\": 0.00425170068027203, \"Order\": 1000}, {\"Year\": 2018, \"Pop\": \"More than 1000\", \"Med_Rent\": 1236.0, \"pct_chg\": 0.046570702794242136, \"Order\": 1000}, {\"Year\": 2008, \"Pop\": \"250 to 1000\", \"Med_Rent\": 839.0, \"pct_chg\": -0.02893518518518523, \"Order\": 1000}, {\"Year\": 2009, \"Pop\": \"250 to 1000\", \"Med_Rent\": 866.0, \"pct_chg\": 0.03218116805721105, \"Order\": 1000}, {\"Year\": 2010, \"Pop\": \"250 to 1000\", \"Med_Rent\": 890.0, \"pct_chg\": 0.02771362586605086, \"Order\": 1000}, {\"Year\": 2011, \"Pop\": \"250 to 1000\", \"Med_Rent\": 910.0, \"pct_chg\": 0.022471910112359605, \"Order\": 1000}, {\"Year\": 2012, \"Pop\": \"250 to 1000\", \"Med_Rent\": 925.0, \"pct_chg\": 0.016483516483516425, \"Order\": 1000}, {\"Year\": 2013, \"Pop\": \"250 to 1000\", \"Med_Rent\": 930.0, \"pct_chg\": 0.00540540540540535, \"Order\": 1000}, {\"Year\": 2014, \"Pop\": \"250 to 1000\", \"Med_Rent\": 943.0, \"pct_chg\": 0.013978494623655857, \"Order\": 1000}, {\"Year\": 2015, \"Pop\": \"250 to 1000\", \"Med_Rent\": 971.0, \"pct_chg\": 0.02969247083775195, \"Order\": 1000}, {\"Year\": 2016, \"Pop\": \"250 to 1000\", \"Med_Rent\": 1018.0, \"pct_chg\": 0.04840370751802259, \"Order\": 1000}, {\"Year\": 2017, \"Pop\": \"250 to 1000\", \"Med_Rent\": 1022.328, \"pct_chg\": -0.01080550098231825, \"Order\": 1000}, {\"Year\": 2018, \"Pop\": \"250 to 1000\", \"Med_Rent\": 1069.939, \"pct_chg\": 0.055610724925521327, \"Order\": 1000}, {\"Year\": 2008, \"Pop\": \"100 to 250\", \"Med_Rent\": 723.0, \"pct_chg\": -0.09398496240601506, \"Order\": 250}, {\"Year\": 2009, \"Pop\": \"100 to 250\", \"Med_Rent\": 757.0, \"pct_chg\": 0.047026279391424675, \"Order\": 250}, {\"Year\": 2010, \"Pop\": \"100 to 250\", \"Med_Rent\": 779.0, \"pct_chg\": 0.029062087186261465, \"Order\": 250}, {\"Year\": 2011, \"Pop\": \"100 to 250\", \"Med_Rent\": 773.0, \"pct_chg\": -0.007702182284980763, \"Order\": 250}, {\"Year\": 2012, \"Pop\": \"100 to 250\", \"Med_Rent\": 782.0, \"pct_chg\": 0.011642949547218562, \"Order\": 250}, {\"Year\": 2013, \"Pop\": \"100 to 250\", \"Med_Rent\": 784.0, \"pct_chg\": 0.002557544757033181, \"Order\": 250}, {\"Year\": 2014, \"Pop\": \"100 to 250\", \"Med_Rent\": 800.0, \"pct_chg\": 0.020408163265306145, \"Order\": 250}, {\"Year\": 2015, \"Pop\": \"100 to 250\", \"Med_Rent\": 823.0, \"pct_chg\": 0.028750000000000053, \"Order\": 250}, {\"Year\": 2016, \"Pop\": \"100 to 250\", \"Med_Rent\": 849.0, \"pct_chg\": 0.03159173754556499, \"Order\": 250}, {\"Year\": 2017, \"Pop\": \"100 to 250\", \"Med_Rent\": 852.61, \"pct_chg\": 0.03180212014134276, \"Order\": 250}, {\"Year\": 2018, \"Pop\": \"100 to 250\", \"Med_Rent\": 892.317, \"pct_chg\": 0.020547945205479534, \"Order\": 250}, {\"Year\": 2008, \"Pop\": \"50 to 100\", \"Med_Rent\": 639.0, \"pct_chg\": -0.3988711194731891, \"Order\": 100}, {\"Year\": 2009, \"Pop\": \"50 to 100\", \"Med_Rent\": 651.0, \"pct_chg\": 0.018779342723004744, \"Order\": 100}, {\"Year\": 2010, \"Pop\": \"50 to 100\", \"Med_Rent\": 666.0, \"pct_chg\": 0.02304147465437789, \"Order\": 100}, {\"Year\": 2011, \"Pop\": \"50 to 100\", \"Med_Rent\": 677.0, \"pct_chg\": 0.016516516516516422, \"Order\": 100}, {\"Year\": 2012, \"Pop\": \"50 to 100\", \"Med_Rent\": 690.0, \"pct_chg\": 0.019202363367799125, \"Order\": 100}, {\"Year\": 2013, \"Pop\": \"50 to 100\", \"Med_Rent\": 696.0, \"pct_chg\": 0.008695652173912993, \"Order\": 100}, {\"Year\": 2014, \"Pop\": \"50 to 100\", \"Med_Rent\": 704.0, \"pct_chg\": 0.011494252873563315, \"Order\": 100}, {\"Year\": 2015, \"Pop\": \"50 to 100\", \"Med_Rent\": 731.0, \"pct_chg\": 0.03835227272727271, \"Order\": 100}, {\"Year\": 2016, \"Pop\": \"50 to 100\", \"Med_Rent\": 745.0, \"pct_chg\": 0.019151846785225635, \"Order\": 100}, {\"Year\": 2017, \"Pop\": \"50 to 100\", \"Med_Rent\": 748.168, \"pct_chg\": 0.22281879194630871, \"Order\": 100}, {\"Year\": 2018, \"Pop\": \"50 to 100\", \"Med_Rent\": 783.011, \"pct_chg\": -0.00658616904500553, \"Order\": 100}, {\"Year\": 2008, \"Pop\": \"25 to 50\", \"Med_Rent\": 577.0, \"pct_chg\": -0.354586129753915, \"Order\": 50}, {\"Year\": 2009, \"Pop\": \"25 to 50\", \"Med_Rent\": 600.0, \"pct_chg\": 0.03986135181975747, \"Order\": 50}, {\"Year\": 2010, \"Pop\": \"25 to 50\", \"Med_Rent\": 618.0, \"pct_chg\": 0.030000000000000027, \"Order\": 50}, {\"Year\": 2011, \"Pop\": \"25 to 50\", \"Med_Rent\": 629.0, \"pct_chg\": 0.017799352750809128, \"Order\": 50}, {\"Year\": 2012, \"Pop\": \"25 to 50\", \"Med_Rent\": 643.0, \"pct_chg\": 0.022257551669316422, \"Order\": 50}, {\"Year\": 2013, \"Pop\": \"25 to 50\", \"Med_Rent\": 646.0, \"pct_chg\": 0.004665629860031162, \"Order\": 50}, {\"Year\": 2014, \"Pop\": \"25 to 50\", \"Med_Rent\": 658.0, \"pct_chg\": 0.018575851393188847, \"Order\": 50}, {\"Year\": 2015, \"Pop\": \"25 to 50\", \"Med_Rent\": 680.0, \"pct_chg\": 0.033434650455927084, \"Order\": 50}, {\"Year\": 2016, \"Pop\": \"25 to 50\", \"Med_Rent\": 698.0, \"pct_chg\": 0.026470588235294024, \"Order\": 50}, {\"Year\": 2017, \"Pop\": \"25 to 50\", \"Med_Rent\": 700.968, \"pct_chg\": 0.2163323782234956, \"Order\": 50}, {\"Year\": 2018, \"Pop\": \"25 to 50\", \"Med_Rent\": 733.613, \"pct_chg\": 0.0176678445229681, \"Order\": 50}, {\"Year\": 2008, \"Pop\": \"10 to 25\", \"Med_Rent\": 576.0, \"pct_chg\": null, \"Order\": 25}, {\"Year\": 2009, \"Pop\": \"10 to 25\", \"Med_Rent\": 590.0, \"pct_chg\": 0.02430555555555558, \"Order\": 25}, {\"Year\": 2010, \"Pop\": \"10 to 25\", \"Med_Rent\": 613.0, \"pct_chg\": 0.03898305084745757, \"Order\": 25}, {\"Year\": 2011, \"Pop\": \"10 to 25\", \"Med_Rent\": 631.0, \"pct_chg\": 0.029363784665579207, \"Order\": 25}, {\"Year\": 2012, \"Pop\": \"10 to 25\", \"Med_Rent\": 648.0, \"pct_chg\": 0.02694136291600624, \"Order\": 25}, {\"Year\": 2013, \"Pop\": \"10 to 25\", \"Med_Rent\": 654.0, \"pct_chg\": 0.0092592592592593, \"Order\": 25}, {\"Year\": 2014, \"Pop\": \"10 to 25\", \"Med_Rent\": 671.0, \"pct_chg\": 0.025993883792049033, \"Order\": 25}, {\"Year\": 2015, \"Pop\": \"10 to 25\", \"Med_Rent\": 689.0, \"pct_chg\": 0.02682563338301036, \"Order\": 25}, {\"Year\": 2016, \"Pop\": \"10 to 25\", \"Med_Rent\": 704.0, \"pct_chg\": 0.021770682148040565, \"Order\": 25}, {\"Year\": 2017, \"Pop\": \"10 to 25\", \"Med_Rent\": 706.993, \"pct_chg\": 0.11221590909090917, \"Order\": 25}, {\"Year\": 2018, \"Pop\": \"10 to 25\", \"Med_Rent\": 739.918, \"pct_chg\": 0.019157088122605304, \"Order\": 25}, {\"Year\": 2008, \"Pop\": \"Less than 10\", \"Med_Rent\": 565.0, \"pct_chg\": -0.37569060773480667, \"Order\": 10}, {\"Year\": 2009, \"Pop\": \"Less than 10\", \"Med_Rent\": 590.0, \"pct_chg\": 0.04424778761061954, \"Order\": 10}, {\"Year\": 2010, \"Pop\": \"Less than 10\", \"Med_Rent\": 613.0, \"pct_chg\": 0.03898305084745757, \"Order\": 10}, {\"Year\": 2011, \"Pop\": \"Less than 10\", \"Med_Rent\": 628.0, \"pct_chg\": 0.02446982055464919, \"Order\": 10}, {\"Year\": 2012, \"Pop\": \"Less than 10\", \"Med_Rent\": 644.0, \"pct_chg\": 0.02547770700636942, \"Order\": 10}, {\"Year\": 2013, \"Pop\": \"Less than 10\", \"Med_Rent\": 647.0, \"pct_chg\": 0.004658385093167627, \"Order\": 10}, {\"Year\": 2014, \"Pop\": \"Less than 10\", \"Med_Rent\": 660.0, \"pct_chg\": 0.020092735703245657, \"Order\": 10}, {\"Year\": 2015, \"Pop\": \"Less than 10\", \"Med_Rent\": 684.0, \"pct_chg\": 0.036363636363636376, \"Order\": 10}, {\"Year\": 2016, \"Pop\": \"Less than 10\", \"Med_Rent\": 699.0, \"pct_chg\": 0.021929824561403466, \"Order\": 10}, {\"Year\": 2017, \"Pop\": \"Less than 10\", \"Med_Rent\": 701.972, \"pct_chg\": 0.6137339055793991, \"Order\": 10}, {\"Year\": 2018, \"Pop\": \"Less than 10\", \"Med_Rent\": 734.663, \"pct_chg\": 0.09397163120567376, \"Order\": 10}], \"data-60db414ad589af0d032e4fa4a78314f1\": [{\"x\": 2008, \"y\": 1600, \"text\": \"$1600 per month\"}], \"data-cd1b470d405c37f5481e2988503378bd\": [{\"x\": 2014, \"y\": 1600, \"text\": \"________________________________________________________________________\"}]}}, {\"mode\": \"vega-lite\"});\n",
       "</script>"
      ],
      "text/plain": [
       "alt.LayerChart(...)"
      ]
     },
     "execution_count": 107,
     "metadata": {},
     "output_type": "execute_result"
    }
   ],
   "source": [
    "rent_pop_den_chart"
   ]
  },
  {
   "cell_type": "markdown",
   "metadata": {},
   "source": [
    "---"
   ]
  },
  {
   "cell_type": "code",
   "execution_count": 30,
   "metadata": {},
   "outputs": [],
   "source": [
    "mort_by_pop_den5 = pd.read_csv('mort_by_pop_den_5yr_0816.csv')\n",
    "mort_by_pop_den1 = pd.read_csv('mort_by_pop_den_1yr_1018.csv')"
   ]
  },
  {
   "cell_type": "code",
   "execution_count": 31,
   "metadata": {},
   "outputs": [],
   "source": [
    "mort_pop_den_df = pd.concat([mort_by_pop_den5, mort_by_pop_den1[mort_by_pop_den1.Year > 2016]]).sort_values(['Pop', 'Year']).reset_index(drop=True)"
   ]
  },
  {
   "cell_type": "markdown",
   "metadata": {},
   "source": [
    "*Adjusting 2017 & 2018 values for '10-25' & 'Less than 10' cols (since 1-yr data included few counties of low pop densities, resulting in distorted figures)"
   ]
  },
  {
   "cell_type": "code",
   "execution_count": 32,
   "metadata": {},
   "outputs": [],
   "source": [
    "mort_pop_den_df['pct_chg'] = mort_pop_den_df['Med_Mort'].pct_change()"
   ]
  },
  {
   "cell_type": "code",
   "execution_count": 33,
   "metadata": {},
   "outputs": [],
   "source": [
    "for year in [2017, 2018]:\n",
    "    yr_df = mort_pop_den_df[mort_pop_den_df.Year == year]\n",
    "    for typ in ['250 to 1000', '100 to 250', '50 to 100', '25 to 50', '10 to 25', 'Less than 10']:\n",
    "        index = yr_df[yr_df.Pop == typ].index[0]\n",
    "        mort_pop_den_df.loc[index, 'Med_Mort'] = round(mort_pop_den_df['Med_Mort'][(mort_pop_den_df.Year == year-1) & (mort_pop_den_df.Pop == typ)].iloc[0] + mort_pop_den_df['Med_Mort'][(mort_pop_den_df.Year == year-1) & (mort_pop_den_df.Pop == typ)].iloc[0] * mort_pop_den_df.pct_chg[(mort_pop_den_df.Year == year) & (mort_pop_den_df.Pop == 'More than 1000')].iloc[0], 3)"
   ]
  },
  {
   "cell_type": "code",
   "execution_count": 34,
   "metadata": {},
   "outputs": [],
   "source": [
    "dic = {}\n",
    "for t in ['More than 1000', '250 to 1000', '100 to 250', '50 to 100', '25 to 50', '10 to 25', 'Less than 10']:\n",
    "    dic[t] = t.split()[-1]"
   ]
  },
  {
   "cell_type": "code",
   "execution_count": 35,
   "metadata": {},
   "outputs": [],
   "source": [
    "mort_pop_den_df['Order'] = mort_pop_den_df.Pop.map(dic).astype(int)"
   ]
  },
  {
   "cell_type": "code",
   "execution_count": 36,
   "metadata": {},
   "outputs": [],
   "source": [
    "mort_pop_den_df = mort_pop_den_df.sort_values(['Order', 'Pop'], ascending=[False, False])"
   ]
  },
  {
   "cell_type": "code",
   "execution_count": 112,
   "metadata": {},
   "outputs": [],
   "source": [
    "mort_pop_den = alt.Chart(mort_pop_den_df).mark_line(size=8, opacity=.85, strokeCap='round', interpolate='basis').encode(\n",
    "x=alt.X('Year:O', axis=alt.Axis(values=[2008, 2018], ticks=True, tickSize=10, titleFontSize=26, labelFontSize=26, labelOpacity=.8)),\n",
    "y=alt.Y('Med_Mort', title='Counties grouped by population density', \n",
    "        scale=alt.Scale(domain=[0,1600]),\n",
    "        axis=alt.Axis(values=list(range(400, 1600, 400)), format='a', \n",
    "                      titleX=0, titleY=-30, titleFontSize=26, titleOpacity=.8,\n",
    "                      labelFontSize=26, labelOpacity=0, labelPadding=0)),\n",
    "color=alt.Color('Pop', scale=alt.Scale(domain=list(mort_pop_den_df.Pop.unique()), \n",
    "                                             range=['#b2182b','#ef8a62','#fddbc7','#e2e0d3', '#d1e5f0','#67a9cf','#2166ac']), \n",
    "                title='Residents / sq. mile')\n",
    ")\n",
    "\n",
    "line = alt.Chart(pd.DataFrame({'x':[2013], 'y':[1600], 'text':['_'*94]})).mark_text(dx=0, dy=-4, opacity=.09, fontSize=11.5, fontWeight='bold').encode(x=alt.X('x:O', axis=None), y=alt.Y('y', axis=None), text='text')\n",
    "\n",
    "\n",
    "mort_pop_den_chart = (mort_pop_den + line).properties(width=600, height=450)"
   ]
  },
  {
   "cell_type": "code",
   "execution_count": 114,
   "metadata": {},
   "outputs": [
    {
     "data": {
      "text/html": [
       "\n",
       "<div id=\"altair-viz-41\"></div>\n",
       "<script type=\"text/javascript\">\n",
       "  (function(spec, embedOpt){\n",
       "    const outputDiv = document.getElementById(\"altair-viz-41\");\n",
       "    const paths = {\n",
       "      \"vega\": \"https://cdn.jsdelivr.net/npm//vega@5?noext\",\n",
       "      \"vega-lib\": \"https://cdn.jsdelivr.net/npm//vega-lib?noext\",\n",
       "      \"vega-lite\": \"https://cdn.jsdelivr.net/npm//vega-lite@4.0.0?noext\",\n",
       "      \"vega-embed\": \"https://cdn.jsdelivr.net/npm//vega-embed@6?noext\",\n",
       "    };\n",
       "\n",
       "    function loadScript(lib) {\n",
       "      return new Promise(function(resolve, reject) {\n",
       "        var s = document.createElement('script');\n",
       "        s.src = paths[lib];\n",
       "        s.async = true;\n",
       "        s.onload = () => resolve(paths[lib]);\n",
       "        s.onerror = () => reject(`Error loading script: ${paths[lib]}`);\n",
       "        document.getElementsByTagName(\"head\")[0].appendChild(s);\n",
       "      });\n",
       "    }\n",
       "\n",
       "    function showError(err) {\n",
       "      outputDiv.innerHTML = `<div class=\"error\" style=\"color:red;\">${err}</div>`;\n",
       "      throw err;\n",
       "    }\n",
       "\n",
       "    function displayChart(vegaEmbed) {\n",
       "      vegaEmbed(outputDiv, spec, embedOpt)\n",
       "        .catch(err => showError(`Javascript Error: ${err.message}<br>This usually means there's a typo in your chart specification. See the javascript console for the full traceback.`));\n",
       "    }\n",
       "\n",
       "    if(typeof define === \"function\" && define.amd) {\n",
       "      requirejs.config({paths});\n",
       "      require([\"vega-embed\"], displayChart, err => showError(`Error loading script: ${err.message}`));\n",
       "    } else if (typeof vegaEmbed === \"function\") {\n",
       "      displayChart(vegaEmbed);\n",
       "    } else {\n",
       "      loadScript(\"vega\")\n",
       "        .then(() => loadScript(\"vega-lite\"))\n",
       "        .then(() => loadScript(\"vega-embed\"))\n",
       "        .catch(showError)\n",
       "        .then(() => displayChart(vegaEmbed));\n",
       "    }\n",
       "  })({\"width\": 600, \"height\": 400, \"background\": \"white\", \"config\": {\"title\": {\"fontWeight\": \"normal\", \"fontSize\": 36, \"anchor\": \"start\", \"font\": \"Lato\", \"offset\": 5}, \"axisX\": {\"grid\": false, \"labelFont\": \"Lato\", \"labelFontSize\": 16, \"labelAngle\": 0, \"labelPadding\": 10, \"ticks\": false, \"tickSize\": 5, \"title\": null, \"titleFont\": \"Lato\", \"titleFontSize\": 16, \"titleFontWeight\": \"normal\", \"titleY\": 30, \"titleX\": 280}, \"axisY\": {\"grid\": true, \"gridOpacity\": 1, \"labelFont\": \"Lato\", \"labelFontSize\": 16, \"labelLimit\": 100, \"labelAlign\": \"left\", \"labelPadding\": 20, \"ticks\": false, \"title\": null, \"titleFont\": \"Lato\", \"titleFontWeight\": \"normal\", \"titleFontSize\": 16, \"titleAlign\": \"left\", \"titleAngle\": 0, \"titleY\": -20, \"titleX\": -20, \"domainWidth\": 0}, \"view\": {\"strokeOpacity\": 0}, \"legend\": {\"labelFont\": \"Lato\", \"labelFontSize\": 26, \"labelLimit\": 300, \"labelOpacity\": 0.85, \"legendX\": 1250, \"legendY\": 0, \"orient\": \"none\", \"symbolSize\": 400, \"symbolStrokeWidth\": 8, \"titleFont\": \"Lato\", \"titleFontSize\": 26, \"titleLimit\": 300, \"titleOpacity\": 0.85}}, \"hconcat\": [{\"layer\": [{\"data\": {\"name\": \"data-2b867c9430a4f70fb4a6b60ecb6c3253\"}, \"mark\": {\"type\": \"line\", \"interpolate\": \"basis\", \"size\": 8, \"strokeCap\": \"round\"}, \"encoding\": {\"color\": {\"type\": \"nominal\", \"field\": \"Pop\", \"scale\": {\"domain\": [\"More than 1000\", \"250 to 1000\", \"100 to 250\", \"50 to 100\", \"25 to 50\", \"10 to 25\", \"Less than 10\"], \"range\": [\"#b2182b\", \"#ef8a62\", \"#fddbc7\", \"#e2e0d3\", \"#d1e5f0\", \"#67a9cf\", \"#2166ac\"]}, \"title\": \"Residents / sq. mile\"}, \"x\": {\"type\": \"ordinal\", \"axis\": {\"labelFontSize\": 26, \"labelOpacity\": 0.8, \"tickSize\": 10, \"ticks\": true, \"values\": [2008, 2018]}, \"field\": \"Year\"}, \"y\": {\"type\": \"quantitative\", \"axis\": {\"format\": \"a\", \"labelFontSize\": 26, \"labelOpacity\": 0.8, \"labelPadding\": 60, \"titleFontSize\": 26, \"titleOpacity\": 0.8, \"titleX\": -60, \"titleY\": -30, \"values\": [400, 800, 1200]}, \"field\": \"Med_Rent\", \"scale\": {\"domain\": [0, 1600]}, \"title\": \"Counties grouped by population density\"}}}, {\"data\": {\"name\": \"data-60db414ad589af0d032e4fa4a78314f1\"}, \"mark\": {\"type\": \"text\", \"dx\": 14, \"dy\": 0, \"font\": \"lato\", \"fontSize\": 26, \"opacity\": 0.8}, \"encoding\": {\"text\": {\"type\": \"nominal\", \"field\": \"text\"}, \"x\": {\"type\": \"ordinal\", \"field\": \"x\"}, \"y\": {\"type\": \"quantitative\", \"field\": \"y\"}}}, {\"data\": {\"name\": \"data-cd1b470d405c37f5481e2988503378bd\"}, \"mark\": {\"type\": \"text\", \"dx\": 18, \"dy\": -4, \"fontSize\": 11.5, \"fontWeight\": \"bold\", \"opacity\": 0.09}, \"encoding\": {\"text\": {\"type\": \"nominal\", \"field\": \"text\"}, \"x\": {\"type\": \"ordinal\", \"axis\": null, \"field\": \"x\"}, \"y\": {\"type\": \"quantitative\", \"axis\": null, \"field\": \"y\"}}}], \"height\": 450, \"width\": 600}, {\"layer\": [{\"data\": {\"name\": \"data-4dbda581d5edde3f4704100ee96bbfe4\"}, \"mark\": {\"type\": \"line\", \"interpolate\": \"basis\", \"opacity\": 0.85, \"size\": 8, \"strokeCap\": \"round\"}, \"encoding\": {\"color\": {\"type\": \"nominal\", \"field\": \"Pop\", \"scale\": {\"domain\": [\"More than 1000\", \"250 to 1000\", \"100 to 250\", \"50 to 100\", \"25 to 50\", \"10 to 25\", \"Less than 10\"], \"range\": [\"#b2182b\", \"#ef8a62\", \"#fddbc7\", \"#e2e0d3\", \"#d1e5f0\", \"#67a9cf\", \"#2166ac\"]}, \"title\": \"Residents / sq. mile\"}, \"x\": {\"type\": \"ordinal\", \"axis\": {\"labelFontSize\": 26, \"labelOpacity\": 0.8, \"tickSize\": 10, \"ticks\": true, \"titleFontSize\": 26, \"values\": [2008, 2018]}, \"field\": \"Year\"}, \"y\": {\"type\": \"quantitative\", \"axis\": {\"format\": \"a\", \"labelFontSize\": 26, \"labelOpacity\": 0, \"labelPadding\": 0, \"titleFontSize\": 26, \"titleOpacity\": 0.8, \"titleX\": 0, \"titleY\": -30, \"values\": [400, 800, 1200]}, \"field\": \"Med_Mort\", \"scale\": {\"domain\": [0, 1600]}, \"title\": \"Counties grouped by population density\"}}}, {\"data\": {\"name\": \"data-0b95ab34ce1d017acaa00b8abd1eeb9c\"}, \"mark\": {\"type\": \"text\", \"dx\": 0, \"dy\": -4, \"fontSize\": 11.5, \"fontWeight\": \"bold\", \"opacity\": 0.09}, \"encoding\": {\"text\": {\"type\": \"nominal\", \"field\": \"text\"}, \"x\": {\"type\": \"ordinal\", \"axis\": null, \"field\": \"x\"}, \"y\": {\"type\": \"quantitative\", \"axis\": null, \"field\": \"y\"}}}], \"height\": 450, \"width\": 600}], \"$schema\": \"https://vega.github.io/schema/vega-lite/v4.0.0.json\", \"datasets\": {\"data-2b867c9430a4f70fb4a6b60ecb6c3253\": [{\"Year\": 2008, \"Pop\": \"More than 1000\", \"Med_Rent\": 977.0, \"pct_chg\": -0.2082658022690438, \"Order\": 1000}, {\"Year\": 2009, \"Pop\": \"More than 1000\", \"Med_Rent\": 980.0, \"pct_chg\": 0.003070624360286489, \"Order\": 1000}, {\"Year\": 2010, \"Pop\": \"More than 1000\", \"Med_Rent\": 1000.0, \"pct_chg\": 0.020408163265306145, \"Order\": 1000}, {\"Year\": 2011, \"Pop\": \"More than 1000\", \"Med_Rent\": 1024.0, \"pct_chg\": 0.02400000000000002, \"Order\": 1000}, {\"Year\": 2012, \"Pop\": \"More than 1000\", \"Med_Rent\": 1035.0, \"pct_chg\": 0.0107421875, \"Order\": 1000}, {\"Year\": 2013, \"Pop\": \"More than 1000\", \"Med_Rent\": 1043.0, \"pct_chg\": 0.007729468599033895, \"Order\": 1000}, {\"Year\": 2014, \"Pop\": \"More than 1000\", \"Med_Rent\": 1065.0, \"pct_chg\": 0.021093000958772867, \"Order\": 1000}, {\"Year\": 2015, \"Pop\": \"More than 1000\", \"Med_Rent\": 1122.0, \"pct_chg\": 0.05352112676056331, \"Order\": 1000}, {\"Year\": 2016, \"Pop\": \"More than 1000\", \"Med_Rent\": 1176.0, \"pct_chg\": 0.048128342245989275, \"Order\": 1000}, {\"Year\": 2017, \"Pop\": \"More than 1000\", \"Med_Rent\": 1181.0, \"pct_chg\": 0.00425170068027203, \"Order\": 1000}, {\"Year\": 2018, \"Pop\": \"More than 1000\", \"Med_Rent\": 1236.0, \"pct_chg\": 0.046570702794242136, \"Order\": 1000}, {\"Year\": 2008, \"Pop\": \"250 to 1000\", \"Med_Rent\": 839.0, \"pct_chg\": -0.02893518518518523, \"Order\": 1000}, {\"Year\": 2009, \"Pop\": \"250 to 1000\", \"Med_Rent\": 866.0, \"pct_chg\": 0.03218116805721105, \"Order\": 1000}, {\"Year\": 2010, \"Pop\": \"250 to 1000\", \"Med_Rent\": 890.0, \"pct_chg\": 0.02771362586605086, \"Order\": 1000}, {\"Year\": 2011, \"Pop\": \"250 to 1000\", \"Med_Rent\": 910.0, \"pct_chg\": 0.022471910112359605, \"Order\": 1000}, {\"Year\": 2012, \"Pop\": \"250 to 1000\", \"Med_Rent\": 925.0, \"pct_chg\": 0.016483516483516425, \"Order\": 1000}, {\"Year\": 2013, \"Pop\": \"250 to 1000\", \"Med_Rent\": 930.0, \"pct_chg\": 0.00540540540540535, \"Order\": 1000}, {\"Year\": 2014, \"Pop\": \"250 to 1000\", \"Med_Rent\": 943.0, \"pct_chg\": 0.013978494623655857, \"Order\": 1000}, {\"Year\": 2015, \"Pop\": \"250 to 1000\", \"Med_Rent\": 971.0, \"pct_chg\": 0.02969247083775195, \"Order\": 1000}, {\"Year\": 2016, \"Pop\": \"250 to 1000\", \"Med_Rent\": 1018.0, \"pct_chg\": 0.04840370751802259, \"Order\": 1000}, {\"Year\": 2017, \"Pop\": \"250 to 1000\", \"Med_Rent\": 1022.328, \"pct_chg\": -0.01080550098231825, \"Order\": 1000}, {\"Year\": 2018, \"Pop\": \"250 to 1000\", \"Med_Rent\": 1069.939, \"pct_chg\": 0.055610724925521327, \"Order\": 1000}, {\"Year\": 2008, \"Pop\": \"100 to 250\", \"Med_Rent\": 723.0, \"pct_chg\": -0.09398496240601506, \"Order\": 250}, {\"Year\": 2009, \"Pop\": \"100 to 250\", \"Med_Rent\": 757.0, \"pct_chg\": 0.047026279391424675, \"Order\": 250}, {\"Year\": 2010, \"Pop\": \"100 to 250\", \"Med_Rent\": 779.0, \"pct_chg\": 0.029062087186261465, \"Order\": 250}, {\"Year\": 2011, \"Pop\": \"100 to 250\", \"Med_Rent\": 773.0, \"pct_chg\": -0.007702182284980763, \"Order\": 250}, {\"Year\": 2012, \"Pop\": \"100 to 250\", \"Med_Rent\": 782.0, \"pct_chg\": 0.011642949547218562, \"Order\": 250}, {\"Year\": 2013, \"Pop\": \"100 to 250\", \"Med_Rent\": 784.0, \"pct_chg\": 0.002557544757033181, \"Order\": 250}, {\"Year\": 2014, \"Pop\": \"100 to 250\", \"Med_Rent\": 800.0, \"pct_chg\": 0.020408163265306145, \"Order\": 250}, {\"Year\": 2015, \"Pop\": \"100 to 250\", \"Med_Rent\": 823.0, \"pct_chg\": 0.028750000000000053, \"Order\": 250}, {\"Year\": 2016, \"Pop\": \"100 to 250\", \"Med_Rent\": 849.0, \"pct_chg\": 0.03159173754556499, \"Order\": 250}, {\"Year\": 2017, \"Pop\": \"100 to 250\", \"Med_Rent\": 852.61, \"pct_chg\": 0.03180212014134276, \"Order\": 250}, {\"Year\": 2018, \"Pop\": \"100 to 250\", \"Med_Rent\": 892.317, \"pct_chg\": 0.020547945205479534, \"Order\": 250}, {\"Year\": 2008, \"Pop\": \"50 to 100\", \"Med_Rent\": 639.0, \"pct_chg\": -0.3988711194731891, \"Order\": 100}, {\"Year\": 2009, \"Pop\": \"50 to 100\", \"Med_Rent\": 651.0, \"pct_chg\": 0.018779342723004744, \"Order\": 100}, {\"Year\": 2010, \"Pop\": \"50 to 100\", \"Med_Rent\": 666.0, \"pct_chg\": 0.02304147465437789, \"Order\": 100}, {\"Year\": 2011, \"Pop\": \"50 to 100\", \"Med_Rent\": 677.0, \"pct_chg\": 0.016516516516516422, \"Order\": 100}, {\"Year\": 2012, \"Pop\": \"50 to 100\", \"Med_Rent\": 690.0, \"pct_chg\": 0.019202363367799125, \"Order\": 100}, {\"Year\": 2013, \"Pop\": \"50 to 100\", \"Med_Rent\": 696.0, \"pct_chg\": 0.008695652173912993, \"Order\": 100}, {\"Year\": 2014, \"Pop\": \"50 to 100\", \"Med_Rent\": 704.0, \"pct_chg\": 0.011494252873563315, \"Order\": 100}, {\"Year\": 2015, \"Pop\": \"50 to 100\", \"Med_Rent\": 731.0, \"pct_chg\": 0.03835227272727271, \"Order\": 100}, {\"Year\": 2016, \"Pop\": \"50 to 100\", \"Med_Rent\": 745.0, \"pct_chg\": 0.019151846785225635, \"Order\": 100}, {\"Year\": 2017, \"Pop\": \"50 to 100\", \"Med_Rent\": 748.168, \"pct_chg\": 0.22281879194630871, \"Order\": 100}, {\"Year\": 2018, \"Pop\": \"50 to 100\", \"Med_Rent\": 783.011, \"pct_chg\": -0.00658616904500553, \"Order\": 100}, {\"Year\": 2008, \"Pop\": \"25 to 50\", \"Med_Rent\": 577.0, \"pct_chg\": -0.354586129753915, \"Order\": 50}, {\"Year\": 2009, \"Pop\": \"25 to 50\", \"Med_Rent\": 600.0, \"pct_chg\": 0.03986135181975747, \"Order\": 50}, {\"Year\": 2010, \"Pop\": \"25 to 50\", \"Med_Rent\": 618.0, \"pct_chg\": 0.030000000000000027, \"Order\": 50}, {\"Year\": 2011, \"Pop\": \"25 to 50\", \"Med_Rent\": 629.0, \"pct_chg\": 0.017799352750809128, \"Order\": 50}, {\"Year\": 2012, \"Pop\": \"25 to 50\", \"Med_Rent\": 643.0, \"pct_chg\": 0.022257551669316422, \"Order\": 50}, {\"Year\": 2013, \"Pop\": \"25 to 50\", \"Med_Rent\": 646.0, \"pct_chg\": 0.004665629860031162, \"Order\": 50}, {\"Year\": 2014, \"Pop\": \"25 to 50\", \"Med_Rent\": 658.0, \"pct_chg\": 0.018575851393188847, \"Order\": 50}, {\"Year\": 2015, \"Pop\": \"25 to 50\", \"Med_Rent\": 680.0, \"pct_chg\": 0.033434650455927084, \"Order\": 50}, {\"Year\": 2016, \"Pop\": \"25 to 50\", \"Med_Rent\": 698.0, \"pct_chg\": 0.026470588235294024, \"Order\": 50}, {\"Year\": 2017, \"Pop\": \"25 to 50\", \"Med_Rent\": 700.968, \"pct_chg\": 0.2163323782234956, \"Order\": 50}, {\"Year\": 2018, \"Pop\": \"25 to 50\", \"Med_Rent\": 733.613, \"pct_chg\": 0.0176678445229681, \"Order\": 50}, {\"Year\": 2008, \"Pop\": \"10 to 25\", \"Med_Rent\": 576.0, \"pct_chg\": null, \"Order\": 25}, {\"Year\": 2009, \"Pop\": \"10 to 25\", \"Med_Rent\": 590.0, \"pct_chg\": 0.02430555555555558, \"Order\": 25}, {\"Year\": 2010, \"Pop\": \"10 to 25\", \"Med_Rent\": 613.0, \"pct_chg\": 0.03898305084745757, \"Order\": 25}, {\"Year\": 2011, \"Pop\": \"10 to 25\", \"Med_Rent\": 631.0, \"pct_chg\": 0.029363784665579207, \"Order\": 25}, {\"Year\": 2012, \"Pop\": \"10 to 25\", \"Med_Rent\": 648.0, \"pct_chg\": 0.02694136291600624, \"Order\": 25}, {\"Year\": 2013, \"Pop\": \"10 to 25\", \"Med_Rent\": 654.0, \"pct_chg\": 0.0092592592592593, \"Order\": 25}, {\"Year\": 2014, \"Pop\": \"10 to 25\", \"Med_Rent\": 671.0, \"pct_chg\": 0.025993883792049033, \"Order\": 25}, {\"Year\": 2015, \"Pop\": \"10 to 25\", \"Med_Rent\": 689.0, \"pct_chg\": 0.02682563338301036, \"Order\": 25}, {\"Year\": 2016, \"Pop\": \"10 to 25\", \"Med_Rent\": 704.0, \"pct_chg\": 0.021770682148040565, \"Order\": 25}, {\"Year\": 2017, \"Pop\": \"10 to 25\", \"Med_Rent\": 706.993, \"pct_chg\": 0.11221590909090917, \"Order\": 25}, {\"Year\": 2018, \"Pop\": \"10 to 25\", \"Med_Rent\": 739.918, \"pct_chg\": 0.019157088122605304, \"Order\": 25}, {\"Year\": 2008, \"Pop\": \"Less than 10\", \"Med_Rent\": 565.0, \"pct_chg\": -0.37569060773480667, \"Order\": 10}, {\"Year\": 2009, \"Pop\": \"Less than 10\", \"Med_Rent\": 590.0, \"pct_chg\": 0.04424778761061954, \"Order\": 10}, {\"Year\": 2010, \"Pop\": \"Less than 10\", \"Med_Rent\": 613.0, \"pct_chg\": 0.03898305084745757, \"Order\": 10}, {\"Year\": 2011, \"Pop\": \"Less than 10\", \"Med_Rent\": 628.0, \"pct_chg\": 0.02446982055464919, \"Order\": 10}, {\"Year\": 2012, \"Pop\": \"Less than 10\", \"Med_Rent\": 644.0, \"pct_chg\": 0.02547770700636942, \"Order\": 10}, {\"Year\": 2013, \"Pop\": \"Less than 10\", \"Med_Rent\": 647.0, \"pct_chg\": 0.004658385093167627, \"Order\": 10}, {\"Year\": 2014, \"Pop\": \"Less than 10\", \"Med_Rent\": 660.0, \"pct_chg\": 0.020092735703245657, \"Order\": 10}, {\"Year\": 2015, \"Pop\": \"Less than 10\", \"Med_Rent\": 684.0, \"pct_chg\": 0.036363636363636376, \"Order\": 10}, {\"Year\": 2016, \"Pop\": \"Less than 10\", \"Med_Rent\": 699.0, \"pct_chg\": 0.021929824561403466, \"Order\": 10}, {\"Year\": 2017, \"Pop\": \"Less than 10\", \"Med_Rent\": 701.972, \"pct_chg\": 0.6137339055793991, \"Order\": 10}, {\"Year\": 2018, \"Pop\": \"Less than 10\", \"Med_Rent\": 734.663, \"pct_chg\": 0.09397163120567376, \"Order\": 10}], \"data-60db414ad589af0d032e4fa4a78314f1\": [{\"x\": 2008, \"y\": 1600, \"text\": \"$1600 per month\"}], \"data-cd1b470d405c37f5481e2988503378bd\": [{\"x\": 2014, \"y\": 1600, \"text\": \"________________________________________________________________________\"}], \"data-4dbda581d5edde3f4704100ee96bbfe4\": [{\"Year\": 2008, \"Pop\": \"More than 1000\", \"Med_Mort\": 1536.0, \"pct_chg\": 0.9393939393939394, \"Order\": 1000}, {\"Year\": 2009, \"Pop\": \"More than 1000\", \"Med_Mort\": 1552.0, \"pct_chg\": 0.01041666666666674, \"Order\": 1000}, {\"Year\": 2010, \"Pop\": \"More than 1000\", \"Med_Mort\": 1534.0, \"pct_chg\": -0.011597938144329856, \"Order\": 1000}, {\"Year\": 2011, \"Pop\": \"More than 1000\", \"Med_Mort\": 1507.0, \"pct_chg\": -0.017601043024771834, \"Order\": 1000}, {\"Year\": 2012, \"Pop\": \"More than 1000\", \"Med_Mort\": 1474.0, \"pct_chg\": -0.021897810218978075, \"Order\": 1000}, {\"Year\": 2013, \"Pop\": \"More than 1000\", \"Med_Mort\": 1454.0, \"pct_chg\": -0.013568521031207648, \"Order\": 1000}, {\"Year\": 2014, \"Pop\": \"More than 1000\", \"Med_Mort\": 1449.0, \"pct_chg\": -0.00343878954607979, \"Order\": 1000}, {\"Year\": 2015, \"Pop\": \"More than 1000\", \"Med_Mort\": 1446.0, \"pct_chg\": -0.0020703933747412417, \"Order\": 1000}, {\"Year\": 2016, \"Pop\": \"More than 1000\", \"Med_Mort\": 1473.0, \"pct_chg\": 0.018672199170124415, \"Order\": 1000}, {\"Year\": 2017, \"Pop\": \"More than 1000\", \"Med_Mort\": 1415.0, \"pct_chg\": -0.039375424304141204, \"Order\": 1000}, {\"Year\": 2018, \"Pop\": \"More than 1000\", \"Med_Mort\": 1478.0, \"pct_chg\": 0.04452296819787982, \"Order\": 1000}, {\"Year\": 2008, \"Pop\": \"250 to 1000\", \"Med_Mort\": 1219.0, \"pct_chg\": 0.4633853541416566, \"Order\": 1000}, {\"Year\": 2009, \"Pop\": \"250 to 1000\", \"Med_Mort\": 1257.0, \"pct_chg\": 0.031173092698933536, \"Order\": 1000}, {\"Year\": 2010, \"Pop\": \"250 to 1000\", \"Med_Mort\": 1248.0, \"pct_chg\": -0.007159904534606243, \"Order\": 1000}, {\"Year\": 2011, \"Pop\": \"250 to 1000\", \"Med_Mort\": 1243.0, \"pct_chg\": -0.004006410256410242, \"Order\": 1000}, {\"Year\": 2012, \"Pop\": \"250 to 1000\", \"Med_Mort\": 1184.0, \"pct_chg\": -0.04746580852775539, \"Order\": 1000}, {\"Year\": 2013, \"Pop\": \"250 to 1000\", \"Med_Mort\": 1137.0, \"pct_chg\": -0.03969594594594594, \"Order\": 1000}, {\"Year\": 2014, \"Pop\": \"250 to 1000\", \"Med_Mort\": 1122.0, \"pct_chg\": -0.01319261213720313, \"Order\": 1000}, {\"Year\": 2015, \"Pop\": \"250 to 1000\", \"Med_Mort\": 1144.0, \"pct_chg\": 0.019607843137254832, \"Order\": 1000}, {\"Year\": 2016, \"Pop\": \"250 to 1000\", \"Med_Mort\": 1175.0, \"pct_chg\": 0.027097902097902082, \"Order\": 1000}, {\"Year\": 2017, \"Pop\": \"250 to 1000\", \"Med_Mort\": 1128.734, \"pct_chg\": -0.039148936170212756, \"Order\": 1000}, {\"Year\": 2018, \"Pop\": \"250 to 1000\", \"Med_Mort\": 1178.989, \"pct_chg\": 0.0380868024800709, \"Order\": 1000}, {\"Year\": 2008, \"Pop\": \"100 to 250\", \"Med_Mort\": 939.0, \"pct_chg\": 0.399403874813711, \"Order\": 250}, {\"Year\": 2009, \"Pop\": \"100 to 250\", \"Med_Mort\": 974.0, \"pct_chg\": 0.03727369542066028, \"Order\": 250}, {\"Year\": 2010, \"Pop\": \"100 to 250\", \"Med_Mort\": 973.0, \"pct_chg\": -0.0010266940451745254, \"Order\": 250}, {\"Year\": 2011, \"Pop\": \"100 to 250\", \"Med_Mort\": 942.0, \"pct_chg\": -0.031860226104830414, \"Order\": 250}, {\"Year\": 2012, \"Pop\": \"100 to 250\", \"Med_Mort\": 928.0, \"pct_chg\": -0.014861995753715496, \"Order\": 250}, {\"Year\": 2013, \"Pop\": \"100 to 250\", \"Med_Mort\": 908.0, \"pct_chg\": -0.02155172413793105, \"Order\": 250}, {\"Year\": 2014, \"Pop\": \"100 to 250\", \"Med_Mort\": 894.0, \"pct_chg\": -0.01541850220264318, \"Order\": 250}, {\"Year\": 2015, \"Pop\": \"100 to 250\", \"Med_Mort\": 910.0, \"pct_chg\": 0.017897091722595126, \"Order\": 250}, {\"Year\": 2016, \"Pop\": \"100 to 250\", \"Med_Mort\": 922.0, \"pct_chg\": 0.01318681318681314, \"Order\": 250}, {\"Year\": 2017, \"Pop\": \"100 to 250\", \"Med_Mort\": 885.696, \"pct_chg\": 0.00433839479392617, \"Order\": 250}, {\"Year\": 2018, \"Pop\": \"100 to 250\", \"Med_Mort\": 925.13, \"pct_chg\": 0.0, \"Order\": 250}, {\"Year\": 2008, \"Pop\": \"50 to 100\", \"Med_Mort\": 780.0, \"pct_chg\": -0.33447098976109213, \"Order\": 100}, {\"Year\": 2009, \"Pop\": \"50 to 100\", \"Med_Mort\": 774.0, \"pct_chg\": -0.007692307692307665, \"Order\": 100}, {\"Year\": 2010, \"Pop\": \"50 to 100\", \"Med_Mort\": 770.0, \"pct_chg\": -0.0051679586563307955, \"Order\": 100}, {\"Year\": 2011, \"Pop\": \"50 to 100\", \"Med_Mort\": 767.0, \"pct_chg\": -0.003896103896103842, \"Order\": 100}, {\"Year\": 2012, \"Pop\": \"50 to 100\", \"Med_Mort\": 758.0, \"pct_chg\": -0.011734028683181186, \"Order\": 100}, {\"Year\": 2013, \"Pop\": \"50 to 100\", \"Med_Mort\": 742.0, \"pct_chg\": -0.02110817941952503, \"Order\": 100}, {\"Year\": 2014, \"Pop\": \"50 to 100\", \"Med_Mort\": 743.0, \"pct_chg\": 0.0013477088948787852, \"Order\": 100}, {\"Year\": 2015, \"Pop\": \"50 to 100\", \"Med_Mort\": 751.0, \"pct_chg\": 0.010767160161507361, \"Order\": 100}, {\"Year\": 2016, \"Pop\": \"50 to 100\", \"Med_Mort\": 765.0, \"pct_chg\": 0.018641810918774926, \"Order\": 100}, {\"Year\": 2017, \"Pop\": \"50 to 100\", \"Med_Mort\": 734.878, \"pct_chg\": 0.1777777777777778, \"Order\": 100}, {\"Year\": 2018, \"Pop\": \"50 to 100\", \"Med_Mort\": 767.597, \"pct_chg\": 0.009988901220865598, \"Order\": 100}, {\"Year\": 2008, \"Pop\": \"25 to 50\", \"Med_Mort\": 668.0, \"pct_chg\": -0.2786177105831533, \"Order\": 50}, {\"Year\": 2009, \"Pop\": \"25 to 50\", \"Med_Mort\": 683.0, \"pct_chg\": 0.022455089820359264, \"Order\": 50}, {\"Year\": 2010, \"Pop\": \"25 to 50\", \"Med_Mort\": 685.0, \"pct_chg\": 0.002928257686676483, \"Order\": 50}, {\"Year\": 2011, \"Pop\": \"25 to 50\", \"Med_Mort\": 682.0, \"pct_chg\": -0.004379562043795637, \"Order\": 50}, {\"Year\": 2012, \"Pop\": \"25 to 50\", \"Med_Mort\": 677.0, \"pct_chg\": -0.007331378299120228, \"Order\": 50}, {\"Year\": 2013, \"Pop\": \"25 to 50\", \"Med_Mort\": 669.0, \"pct_chg\": -0.011816838995568735, \"Order\": 50}, {\"Year\": 2014, \"Pop\": \"25 to 50\", \"Med_Mort\": 669.0, \"pct_chg\": 0.0, \"Order\": 50}, {\"Year\": 2015, \"Pop\": \"25 to 50\", \"Med_Mort\": 684.0, \"pct_chg\": 0.022421524663677195, \"Order\": 50}, {\"Year\": 2016, \"Pop\": \"25 to 50\", \"Med_Mort\": 699.0, \"pct_chg\": 0.021929824561403466, \"Order\": 50}, {\"Year\": 2017, \"Pop\": \"25 to 50\", \"Med_Mort\": 671.477, \"pct_chg\": 0.3090128755364807, \"Order\": 50}, {\"Year\": 2018, \"Pop\": \"25 to 50\", \"Med_Mort\": 701.373, \"pct_chg\": -0.08961748633879785, \"Order\": 50}, {\"Year\": 2008, \"Pop\": \"10 to 25\", \"Med_Mort\": 614.0, \"pct_chg\": null, \"Order\": 25}, {\"Year\": 2009, \"Pop\": \"10 to 25\", \"Med_Mort\": 631.0, \"pct_chg\": 0.027687296416938123, \"Order\": 25}, {\"Year\": 2010, \"Pop\": \"10 to 25\", \"Med_Mort\": 631.0, \"pct_chg\": 0.0, \"Order\": 25}, {\"Year\": 2011, \"Pop\": \"10 to 25\", \"Med_Mort\": 634.0, \"pct_chg\": 0.004754358161648264, \"Order\": 25}, {\"Year\": 2012, \"Pop\": \"10 to 25\", \"Med_Mort\": 641.0, \"pct_chg\": 0.011041009463722329, \"Order\": 25}, {\"Year\": 2013, \"Pop\": \"10 to 25\", \"Med_Mort\": 629.0, \"pct_chg\": -0.018720748829953227, \"Order\": 25}, {\"Year\": 2014, \"Pop\": \"10 to 25\", \"Med_Mort\": 633.0, \"pct_chg\": 0.006359300476947549, \"Order\": 25}, {\"Year\": 2015, \"Pop\": \"10 to 25\", \"Med_Mort\": 641.0, \"pct_chg\": 0.012638230647709303, \"Order\": 25}, {\"Year\": 2016, \"Pop\": \"10 to 25\", \"Med_Mort\": 650.0, \"pct_chg\": 0.014040561622464809, \"Order\": 25}, {\"Year\": 2017, \"Pop\": \"10 to 25\", \"Med_Mort\": 624.406, \"pct_chg\": -0.058461538461538454, \"Order\": 25}, {\"Year\": 2018, \"Pop\": \"10 to 25\", \"Med_Mort\": 652.206, \"pct_chg\": 0.09640522875817004, \"Order\": 25}, {\"Year\": 2008, \"Pop\": \"Less than 10\", \"Med_Mort\": 592.0, \"pct_chg\": -0.34945054945054943, \"Order\": 10}, {\"Year\": 2009, \"Pop\": \"Less than 10\", \"Med_Mort\": 611.0, \"pct_chg\": 0.03209459459459452, \"Order\": 10}, {\"Year\": 2010, \"Pop\": \"Less than 10\", \"Med_Mort\": 617.0, \"pct_chg\": 0.009819967266775809, \"Order\": 10}, {\"Year\": 2011, \"Pop\": \"Less than 10\", \"Med_Mort\": 615.0, \"pct_chg\": -0.0032414910858995505, \"Order\": 10}, {\"Year\": 2012, \"Pop\": \"Less than 10\", \"Med_Mort\": 618.0, \"pct_chg\": 0.004878048780487809, \"Order\": 10}, {\"Year\": 2013, \"Pop\": \"Less than 10\", \"Med_Mort\": 621.0, \"pct_chg\": 0.004854368932038833, \"Order\": 10}, {\"Year\": 2014, \"Pop\": \"Less than 10\", \"Med_Mort\": 618.0, \"pct_chg\": -0.004830917874396157, \"Order\": 10}, {\"Year\": 2015, \"Pop\": \"Less than 10\", \"Med_Mort\": 634.0, \"pct_chg\": 0.025889967637540368, \"Order\": 10}, {\"Year\": 2016, \"Pop\": \"Less than 10\", \"Med_Mort\": 651.0, \"pct_chg\": 0.02681388012618302, \"Order\": 10}, {\"Year\": 2017, \"Pop\": \"Less than 10\", \"Med_Mort\": 625.367, \"pct_chg\": 0.2534562211981566, \"Order\": 10}, {\"Year\": 2018, \"Pop\": \"Less than 10\", \"Med_Mort\": 653.21, \"pct_chg\": -0.02941176470588236, \"Order\": 10}], \"data-0b95ab34ce1d017acaa00b8abd1eeb9c\": [{\"x\": 2013, \"y\": 1600, \"text\": \"______________________________________________________________________________________________\"}]}}, {\"mode\": \"vega-lite\"});\n",
       "</script>"
      ],
      "text/plain": [
       "alt.HConcatChart(...)"
      ]
     },
     "execution_count": 114,
     "metadata": {},
     "output_type": "execute_result"
    }
   ],
   "source": [
    "comb_pop_den_chart = (rent_pop_den_chart | mort_pop_den_chart).configure_legend(orient='none', legendX=1250, legendY=0, titleFont='Lato', titleFontSize=26, titleOpacity=.85, titleLimit=300, labelFont='Lato', labelFontSize=26, labelOpacity=.85, labelLimit=300, symbolSize=400, symbolStrokeWidth=8)\n",
    "comb_pop_den_chart"
   ]
  },
  {
   "cell_type": "code",
   "execution_count": 115,
   "metadata": {},
   "outputs": [],
   "source": [
    "comb_pop_den_chart.save('comb_hous_exp_pop_den_chart.svg')"
   ]
  },
  {
   "cell_type": "markdown",
   "metadata": {},
   "source": [
    "---"
   ]
  }
 ],
 "metadata": {
  "kernelspec": {
   "display_name": "Python 3",
   "language": "python",
   "name": "python3"
  },
  "language_info": {
   "codemirror_mode": {
    "name": "ipython",
    "version": 3
   },
   "file_extension": ".py",
   "mimetype": "text/x-python",
   "name": "python",
   "nbconvert_exporter": "python",
   "pygments_lexer": "ipython3",
   "version": "3.7.3"
  }
 },
 "nbformat": 4,
 "nbformat_minor": 4
}
