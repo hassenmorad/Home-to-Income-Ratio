{
 "cells": [
  {
   "cell_type": "markdown",
   "metadata": {},
   "source": [
    "### Housing Share of Income (based on pop & housing density)\n",
    "*Split by homeowners & renters"
   ]
  },
  {
   "cell_type": "code",
   "execution_count": 1,
   "metadata": {},
   "outputs": [],
   "source": [
    "import pandas as pd\n",
    "import numpy as np"
   ]
  },
  {
   "cell_type": "code",
   "execution_count": 2,
   "metadata": {},
   "outputs": [],
   "source": [
    "%run chart_theme.py"
   ]
  },
  {
   "cell_type": "code",
   "execution_count": 3,
   "metadata": {},
   "outputs": [],
   "source": [
    "rent_share_inc_pop_den5 = pd.read_csv('rent_share_inc_by_pop_den_5yr_0816.csv')\n",
    "rent_share_inc_pop_den1 = pd.read_csv('rent_share_inc_by_pop_den_1yr_1018.csv')"
   ]
  },
  {
   "cell_type": "code",
   "execution_count": 4,
   "metadata": {},
   "outputs": [],
   "source": [
    "rent_pop_den_df = pd.concat([rent_share_inc_pop_den5, rent_share_inc_pop_den1[rent_share_inc_pop_den1.Year > 2016]]).sort_values(['Home_Units', 'Year']).reset_index(drop=True)"
   ]
  },
  {
   "cell_type": "markdown",
   "metadata": {},
   "source": [
    "*Adjusting 2017 & 2018 values for '10-25' & 'Less than 10' cols (since 1-yr data included few counties of low pop densities, resulting in distorted figures)"
   ]
  },
  {
   "cell_type": "code",
   "execution_count": 5,
   "metadata": {},
   "outputs": [],
   "source": [
    "rent_pop_den_df['pct_chg'] = rent_pop_den_df['Rent_Share_Inc'].pct_change()"
   ]
  },
  {
   "cell_type": "code",
   "execution_count": 6,
   "metadata": {},
   "outputs": [],
   "source": [
    "for year in [2017, 2018]:\n",
    "    yr_df = rent_pop_den_df[rent_pop_den_df.Year == year]\n",
    "    for typ in ['100 to 250', '50 to 100', '25 to 50', '10 to 25', 'Less than 10']:\n",
    "        index = yr_df[yr_df.Home_Units == typ].index[0]\n",
    "        rent_pop_den_df.loc[index, 'Rent_Share_Inc'] = round(rent_pop_den_df['Rent_Share_Inc'][(rent_pop_den_df.Year == year-1) & (rent_pop_den_df.Home_Units == typ)].iloc[0] + rent_pop_den_df['Rent_Share_Inc'][(rent_pop_den_df.Year == year-1) & (rent_pop_den_df.Home_Units == typ)].iloc[0] * rent_pop_den_df.pct_chg[(rent_pop_den_df.Year == year) & (rent_pop_den_df.Home_Units == 'More than 1000')].iloc[0], 3)"
   ]
  },
  {
   "cell_type": "code",
   "execution_count": 7,
   "metadata": {},
   "outputs": [],
   "source": [
    "dic = {}\n",
    "for t in ['More than 1000', '250 to 1000', '100 to 250', '50 to 100', '25 to 50', '10 to 25', 'Less than 10']:\n",
    "    dic[t] = t.split()[-1]"
   ]
  },
  {
   "cell_type": "code",
   "execution_count": 8,
   "metadata": {},
   "outputs": [],
   "source": [
    "rent_pop_den_df['Order'] = rent_pop_den_df.Home_Units.map(dic).astype(int)"
   ]
  },
  {
   "cell_type": "code",
   "execution_count": 9,
   "metadata": {},
   "outputs": [],
   "source": [
    "rent_pop_den_df = rent_pop_den_df.sort_values(['Order', 'Home_Units'], ascending=[False, False])"
   ]
  },
  {
   "cell_type": "code",
   "execution_count": 24,
   "metadata": {},
   "outputs": [],
   "source": [
    "rent_pop_den = alt.Chart(rent_pop_den_df).mark_line(size=8, strokeCap='round', interpolate='basis').encode(\n",
    "x=alt.X('Year:O', axis=alt.Axis(values=[2008, 2018], ticks=True, tickSize=10, titleFontSize=28, labelFontSize=26, labelOpacity=.8)),\n",
    "y=alt.Y('Rent_Share_Inc', title='Counties grouped by population density', \n",
    "        scale=alt.Scale(domain=[10,40]),\n",
    "        axis=alt.Axis(values=list(range(15,40,5)),\n",
    "                      titleX=-35, titleY=-35, titleFontSize=26, titleOpacity=.8,\n",
    "                      labelFontSize=26, labelOpacity=.8, labelPadding=35)),\n",
    "color=alt.Color('Home_Units', scale=alt.Scale(domain=list(rent_pop_den_df.Home_Units.unique()), \n",
    "                                             range=['#b2182b','#ef8a62','#fddbc7','#e2e0d3','#d1e5f0','#67a9cf','#2166ac']), title='Residents / sq. mile')\n",
    ")\n",
    "\n",
    "y_text_df = pd.DataFrame({'x':[2008], 'y':[40], 'text':['40% of income']})\n",
    "y_text = alt.Chart(y_text_df).mark_text(dx=21, dy=0, fontSize=26, font='lato', opacity=.8).encode(x=alt.X('x:O'), y='y', text='text')\n",
    "line = alt.Chart(pd.DataFrame({'x':[2014], 'y':[40], 'text':['_'*72]})).mark_text(dx=15, dy=-4, opacity=.09, fontSize=11.5, fontWeight='bold').encode(x=alt.X('x:O', axis=None), y=alt.Y('y', axis=None), text='text')\n",
    "\n",
    "\n",
    "rent_pop_den_chart = (rent_pop_den + y_text + line).properties(width=600, height=450)"
   ]
  },
  {
   "cell_type": "code",
   "execution_count": 25,
   "metadata": {},
   "outputs": [
    {
     "data": {
      "text/html": [
       "\n",
       "<div id=\"altair-viz-5\"></div>\n",
       "<script type=\"text/javascript\">\n",
       "  (function(spec, embedOpt){\n",
       "    const outputDiv = document.getElementById(\"altair-viz-5\");\n",
       "    const paths = {\n",
       "      \"vega\": \"https://cdn.jsdelivr.net/npm//vega@5?noext\",\n",
       "      \"vega-lib\": \"https://cdn.jsdelivr.net/npm//vega-lib?noext\",\n",
       "      \"vega-lite\": \"https://cdn.jsdelivr.net/npm//vega-lite@4.0.0?noext\",\n",
       "      \"vega-embed\": \"https://cdn.jsdelivr.net/npm//vega-embed@6?noext\",\n",
       "    };\n",
       "\n",
       "    function loadScript(lib) {\n",
       "      return new Promise(function(resolve, reject) {\n",
       "        var s = document.createElement('script');\n",
       "        s.src = paths[lib];\n",
       "        s.async = true;\n",
       "        s.onload = () => resolve(paths[lib]);\n",
       "        s.onerror = () => reject(`Error loading script: ${paths[lib]}`);\n",
       "        document.getElementsByTagName(\"head\")[0].appendChild(s);\n",
       "      });\n",
       "    }\n",
       "\n",
       "    function showError(err) {\n",
       "      outputDiv.innerHTML = `<div class=\"error\" style=\"color:red;\">${err}</div>`;\n",
       "      throw err;\n",
       "    }\n",
       "\n",
       "    function displayChart(vegaEmbed) {\n",
       "      vegaEmbed(outputDiv, spec, embedOpt)\n",
       "        .catch(err => showError(`Javascript Error: ${err.message}<br>This usually means there's a typo in your chart specification. See the javascript console for the full traceback.`));\n",
       "    }\n",
       "\n",
       "    if(typeof define === \"function\" && define.amd) {\n",
       "      requirejs.config({paths});\n",
       "      require([\"vega-embed\"], displayChart, err => showError(`Error loading script: ${err.message}`));\n",
       "    } else if (typeof vegaEmbed === \"function\") {\n",
       "      displayChart(vegaEmbed);\n",
       "    } else {\n",
       "      loadScript(\"vega\")\n",
       "        .then(() => loadScript(\"vega-lite\"))\n",
       "        .then(() => loadScript(\"vega-embed\"))\n",
       "        .catch(showError)\n",
       "        .then(() => displayChart(vegaEmbed));\n",
       "    }\n",
       "  })({\"width\": 600, \"height\": 450, \"background\": \"white\", \"config\": {\"title\": {\"fontWeight\": \"normal\", \"fontSize\": 36, \"anchor\": \"start\", \"font\": \"Lato\", \"offset\": 5}, \"axisX\": {\"grid\": false, \"labelFont\": \"Lato\", \"labelFontSize\": 16, \"labelAngle\": 0, \"labelPadding\": 10, \"ticks\": false, \"tickSize\": 5, \"title\": null, \"titleFont\": \"Lato\", \"titleFontSize\": 16, \"titleFontWeight\": \"normal\", \"titleY\": 30, \"titleX\": 280}, \"axisY\": {\"grid\": true, \"gridOpacity\": 1, \"labelFont\": \"Lato\", \"labelFontSize\": 16, \"labelLimit\": 100, \"labelAlign\": \"left\", \"labelPadding\": 20, \"ticks\": false, \"title\": null, \"titleFont\": \"Lato\", \"titleFontWeight\": \"normal\", \"titleFontSize\": 16, \"titleAlign\": \"left\", \"titleAngle\": 0, \"titleY\": -20, \"titleX\": -20, \"domainWidth\": 0}, \"view\": {\"strokeOpacity\": 0}}, \"layer\": [{\"data\": {\"name\": \"data-f1d2e6c90994022b09d9bf043d512484\"}, \"mark\": {\"type\": \"line\", \"interpolate\": \"basis\", \"size\": 8, \"strokeCap\": \"round\"}, \"encoding\": {\"color\": {\"type\": \"nominal\", \"field\": \"Home_Units\", \"scale\": {\"domain\": [\"More than 1000\", \"250 to 1000\", \"100 to 250\", \"50 to 100\", \"25 to 50\", \"10 to 25\", \"Less than 10\"], \"range\": [\"#b2182b\", \"#ef8a62\", \"#fddbc7\", \"#e2e0d3\", \"#d1e5f0\", \"#67a9cf\", \"#2166ac\"]}, \"title\": \"Residents / sq. mile\"}, \"x\": {\"type\": \"ordinal\", \"axis\": {\"labelFontSize\": 26, \"labelOpacity\": 0.8, \"tickSize\": 10, \"ticks\": true, \"titleFontSize\": 28, \"values\": [2008, 2018]}, \"field\": \"Year\"}, \"y\": {\"type\": \"quantitative\", \"axis\": {\"labelFontSize\": 26, \"labelOpacity\": 0.8, \"labelPadding\": 35, \"titleFontSize\": 26, \"titleOpacity\": 0.8, \"titleX\": -35, \"titleY\": -35, \"values\": [15, 20, 25, 30, 35]}, \"field\": \"Rent_Share_Inc\", \"scale\": {\"domain\": [10, 40]}, \"title\": \"Counties grouped by population density\"}}}, {\"data\": {\"name\": \"data-210bcfbf6ca010247ca2ea02fc053f02\"}, \"mark\": {\"type\": \"text\", \"dx\": 21, \"dy\": 0, \"font\": \"lato\", \"fontSize\": 26, \"opacity\": 0.8}, \"encoding\": {\"text\": {\"type\": \"nominal\", \"field\": \"text\"}, \"x\": {\"type\": \"ordinal\", \"field\": \"x\"}, \"y\": {\"type\": \"quantitative\", \"field\": \"y\"}}}, {\"data\": {\"name\": \"data-f8064fcc46e56012f905529fb2f42b79\"}, \"mark\": {\"type\": \"text\", \"dx\": 15, \"dy\": -4, \"fontSize\": 11.5, \"fontWeight\": \"bold\", \"opacity\": 0.09}, \"encoding\": {\"text\": {\"type\": \"nominal\", \"field\": \"text\"}, \"x\": {\"type\": \"ordinal\", \"axis\": null, \"field\": \"x\"}, \"y\": {\"type\": \"quantitative\", \"axis\": null, \"field\": \"y\"}}}], \"$schema\": \"https://vega.github.io/schema/vega-lite/v4.0.0.json\", \"datasets\": {\"data-f1d2e6c90994022b09d9bf043d512484\": [{\"Year\": 2008, \"Rent_Share_Inc\": 33.200000762939446, \"Home_Units\": \"More than 1000\", \"pct_chg\": -0.05142854963030152, \"Order\": 1000}, {\"Year\": 2009, \"Rent_Share_Inc\": 33.700000762939446, \"Home_Units\": \"More than 1000\", \"pct_chg\": 0.01506024061776956, \"Order\": 1000}, {\"Year\": 2010, \"Rent_Share_Inc\": 34.200000762939446, \"Home_Units\": \"More than 1000\", \"pct_chg\": 0.014836794916333051, \"Order\": 1000}, {\"Year\": 2011, \"Rent_Share_Inc\": 34.299999237060554, \"Home_Units\": \"More than 1000\", \"pct_chg\": 0.002923931926617662, \"Order\": 1000}, {\"Year\": 2012, \"Rent_Share_Inc\": 34.200000762939446, \"Home_Units\": \"More than 1000\", \"pct_chg\": -0.002915407473626508, \"Order\": 1000}, {\"Year\": 2013, \"Rent_Share_Inc\": 33.5, \"Home_Units\": \"More than 1000\", \"pct_chg\": -0.02046785810888041, \"Order\": 1000}, {\"Year\": 2014, \"Rent_Share_Inc\": 33.200000762939446, \"Home_Units\": \"More than 1000\", \"pct_chg\": -0.008955201106285227, \"Order\": 1000}, {\"Year\": 2015, \"Rent_Share_Inc\": 33.0, \"Home_Units\": \"More than 1000\", \"pct_chg\": -0.006024119227211133, \"Order\": 1000}, {\"Year\": 2016, \"Rent_Share_Inc\": 32.59999847412109, \"Home_Units\": \"More than 1000\", \"pct_chg\": -0.012121258359967024, \"Order\": 1000}, {\"Year\": 2017, \"Rent_Share_Inc\": 32.200000762939446, \"Home_Units\": \"More than 1000\", \"pct_chg\": -0.012269869015459345, \"Order\": 1000}, {\"Year\": 2018, \"Rent_Share_Inc\": 31.79999923706055, \"Home_Units\": \"More than 1000\", \"pct_chg\": -0.012422407341656894, \"Order\": 1000}, {\"Year\": 2008, \"Rent_Share_Inc\": 31.5, \"Home_Units\": \"250 to 1000\", \"pct_chg\": -0.0031645689956500966, \"Order\": 1000}, {\"Year\": 2009, \"Rent_Share_Inc\": 32.299999237060554, \"Home_Units\": \"250 to 1000\", \"pct_chg\": 0.02539680117652554, \"Order\": 1000}, {\"Year\": 2010, \"Rent_Share_Inc\": 32.59999847412109, \"Home_Units\": \"250 to 1000\", \"pct_chg\": 0.009287902295561645, \"Order\": 1000}, {\"Year\": 2011, \"Rent_Share_Inc\": 32.59999847412109, \"Home_Units\": \"250 to 1000\", \"pct_chg\": 0.0, \"Order\": 1000}, {\"Year\": 2012, \"Rent_Share_Inc\": 32.299999237060554, \"Home_Units\": \"250 to 1000\", \"pct_chg\": -0.009202431015408852, \"Order\": 1000}, {\"Year\": 2013, \"Rent_Share_Inc\": 32.0, \"Home_Units\": \"250 to 1000\", \"pct_chg\": -0.009287902295562311, \"Order\": 1000}, {\"Year\": 2014, \"Rent_Share_Inc\": 31.79999923706055, \"Home_Units\": \"250 to 1000\", \"pct_chg\": -0.006250023841857799, \"Order\": 1000}, {\"Year\": 2015, \"Rent_Share_Inc\": 31.899999618530273, \"Home_Units\": \"250 to 1000\", \"pct_chg\": 0.0031446661593996783, \"Order\": 1000}, {\"Year\": 2016, \"Rent_Share_Inc\": 31.5, \"Home_Units\": \"250 to 1000\", \"pct_chg\": -0.012539173144626603, \"Order\": 1000}, {\"Year\": 2017, \"Rent_Share_Inc\": 31.20000076293945, \"Home_Units\": \"250 to 1000\", \"pct_chg\": -0.009523785303509502, \"Order\": 1000}, {\"Year\": 2018, \"Rent_Share_Inc\": 31.399999618530273, \"Home_Units\": \"250 to 1000\", \"pct_chg\": 0.006410219573724785, \"Order\": 1000}, {\"Year\": 2008, \"Rent_Share_Inc\": 31.0, \"Home_Units\": \"100 to 250\", \"pct_chg\": 0.1071428571428572, \"Order\": 250}, {\"Year\": 2009, \"Rent_Share_Inc\": 31.899999618530273, \"Home_Units\": \"100 to 250\", \"pct_chg\": 0.029032245759041064, \"Order\": 250}, {\"Year\": 2010, \"Rent_Share_Inc\": 32.400001525878906, \"Home_Units\": \"100 to 250\", \"pct_chg\": 0.015674041170150588, \"Order\": 250}, {\"Year\": 2011, \"Rent_Share_Inc\": 33.200000762939446, \"Home_Units\": \"100 to 250\", \"pct_chg\": 0.02469133331433815, \"Order\": 250}, {\"Year\": 2012, \"Rent_Share_Inc\": 32.900001525878906, \"Home_Units\": \"100 to 250\", \"pct_chg\": -0.009036121390557983, \"Order\": 250}, {\"Year\": 2013, \"Rent_Share_Inc\": 32.59999847412109, \"Home_Units\": \"100 to 250\", \"pct_chg\": -0.009118633369115225, \"Order\": 250}, {\"Year\": 2014, \"Rent_Share_Inc\": 32.09999847412109, \"Home_Units\": \"100 to 250\", \"pct_chg\": -0.015337424030768432, \"Order\": 250}, {\"Year\": 2015, \"Rent_Share_Inc\": 31.899999618530273, \"Home_Units\": \"100 to 250\", \"pct_chg\": -0.006230494239806594, \"Order\": 250}, {\"Year\": 2016, \"Rent_Share_Inc\": 31.399999618530273, \"Home_Units\": \"100 to 250\", \"pct_chg\": -0.01567398137865672, \"Order\": 250}, {\"Year\": 2017, \"Rent_Share_Inc\": 31.015, \"Home_Units\": \"100 to 250\", \"pct_chg\": 0.02547774376204326, \"Order\": 250}, {\"Year\": 2018, \"Rent_Share_Inc\": 30.63, \"Home_Units\": \"100 to 250\", \"pct_chg\": 0.00931674627181489, \"Order\": 250}, {\"Year\": 2008, \"Rent_Share_Inc\": 31.399999618530273, \"Home_Units\": \"50 to 100\", \"pct_chg\": 0.0, \"Order\": 100}, {\"Year\": 2009, \"Rent_Share_Inc\": 31.5, \"Home_Units\": \"50 to 100\", \"pct_chg\": 0.0031847255632038163, \"Order\": 100}, {\"Year\": 2010, \"Rent_Share_Inc\": 32.200000762939446, \"Home_Units\": \"50 to 100\", \"pct_chg\": 0.02222224644252213, \"Order\": 100}, {\"Year\": 2011, \"Rent_Share_Inc\": 32.400001525878906, \"Home_Units\": \"50 to 100\", \"pct_chg\": 0.006211203670828835, \"Order\": 100}, {\"Year\": 2012, \"Rent_Share_Inc\": 32.0, \"Home_Units\": \"50 to 100\", \"pct_chg\": -0.012345725525951368, \"Order\": 100}, {\"Year\": 2013, \"Rent_Share_Inc\": 31.70000076293945, \"Home_Units\": \"50 to 100\", \"pct_chg\": -0.0093749761581422, \"Order\": 100}, {\"Year\": 2014, \"Rent_Share_Inc\": 31.20000076293945, \"Home_Units\": \"50 to 100\", \"pct_chg\": -0.01577287028284713, \"Order\": 100}, {\"Year\": 2015, \"Rent_Share_Inc\": 30.60000038146973, \"Home_Units\": \"50 to 100\", \"pct_chg\": -0.019230780987108953, \"Order\": 100}, {\"Year\": 2016, \"Rent_Share_Inc\": 30.60000038146973, \"Home_Units\": \"50 to 100\", \"pct_chg\": 0.0, \"Order\": 100}, {\"Year\": 2017, \"Rent_Share_Inc\": 30.225, \"Home_Units\": \"50 to 100\", \"pct_chg\": 0.07843135910493726, \"Order\": 100}, {\"Year\": 2018, \"Rent_Share_Inc\": 29.85, \"Home_Units\": \"50 to 100\", \"pct_chg\": -0.06060606060606055, \"Order\": 100}, {\"Year\": 2008, \"Rent_Share_Inc\": 30.60000038146973, \"Home_Units\": \"25 to 50\", \"pct_chg\": -0.058461526724008284, \"Order\": 50}, {\"Year\": 2009, \"Rent_Share_Inc\": 31.20000076293945, \"Home_Units\": \"25 to 50\", \"pct_chg\": 0.019607855359147663, \"Order\": 50}, {\"Year\": 2010, \"Rent_Share_Inc\": 31.399999618530273, \"Home_Units\": \"25 to 50\", \"pct_chg\": 0.006410219573724785, \"Order\": 50}, {\"Year\": 2011, \"Rent_Share_Inc\": 32.09999847412109, \"Home_Units\": \"25 to 50\", \"pct_chg\": 0.022292957455251727, \"Order\": 50}, {\"Year\": 2012, \"Rent_Share_Inc\": 32.0, \"Home_Units\": \"25 to 50\", \"pct_chg\": -0.0031152174104215336, \"Order\": 50}, {\"Year\": 2013, \"Rent_Share_Inc\": 31.5, \"Home_Units\": \"25 to 50\", \"pct_chg\": -0.015625, \"Order\": 50}, {\"Year\": 2014, \"Rent_Share_Inc\": 30.899999618530273, \"Home_Units\": \"25 to 50\", \"pct_chg\": -0.019047631157769085, \"Order\": 50}, {\"Year\": 2015, \"Rent_Share_Inc\": 30.79999923706055, \"Home_Units\": \"25 to 50\", \"pct_chg\": -0.003236258339943565, \"Order\": 50}, {\"Year\": 2016, \"Rent_Share_Inc\": 30.5, \"Home_Units\": \"25 to 50\", \"pct_chg\": -0.009740235210771386, \"Order\": 50}, {\"Year\": 2017, \"Rent_Share_Inc\": 30.126, \"Home_Units\": \"25 to 50\", \"pct_chg\": 0.0032787010317945064, \"Order\": 50}, {\"Year\": 2018, \"Rent_Share_Inc\": 29.752, \"Home_Units\": \"25 to 50\", \"pct_chg\": 0.03267973815469505, \"Order\": 50}, {\"Year\": 2008, \"Rent_Share_Inc\": 27.70000076293945, \"Home_Units\": \"10 to 25\", \"pct_chg\": null, \"Order\": 25}, {\"Year\": 2009, \"Rent_Share_Inc\": 28.60000038146973, \"Home_Units\": \"10 to 25\", \"pct_chg\": 0.03249096006287533, \"Order\": 25}, {\"Year\": 2010, \"Rent_Share_Inc\": 29.399999618530273, \"Home_Units\": \"10 to 25\", \"pct_chg\": 0.02797200092272978, \"Order\": 25}, {\"Year\": 2011, \"Rent_Share_Inc\": 30.0, \"Home_Units\": \"10 to 25\", \"pct_chg\": 0.020408176505266162, \"Order\": 25}, {\"Year\": 2012, \"Rent_Share_Inc\": 29.70000076293945, \"Home_Units\": \"10 to 25\", \"pct_chg\": -0.009999974568685066, \"Order\": 25}, {\"Year\": 2013, \"Rent_Share_Inc\": 30.20000076293945, \"Home_Units\": \"10 to 25\", \"pct_chg\": 0.01683501640255569, \"Order\": 25}, {\"Year\": 2014, \"Rent_Share_Inc\": 29.29999923706055, \"Home_Units\": \"10 to 25\", \"pct_chg\": -0.02980137427623364, \"Order\": 25}, {\"Year\": 2015, \"Rent_Share_Inc\": 29.29999923706055, \"Home_Units\": \"10 to 25\", \"pct_chg\": 0.0, \"Order\": 25}, {\"Year\": 2016, \"Rent_Share_Inc\": 28.70000076293945, \"Home_Units\": \"10 to 25\", \"pct_chg\": -0.020477764155098832, \"Order\": 25}, {\"Year\": 2017, \"Rent_Share_Inc\": 28.348, \"Home_Units\": \"10 to 25\", \"pct_chg\": -0.0069686675129887465, \"Order\": 25}, {\"Year\": 2018, \"Rent_Share_Inc\": 27.996, \"Home_Units\": \"10 to 25\", \"pct_chg\": -0.01754385964912286, \"Order\": 25}, {\"Year\": 2008, \"Rent_Share_Inc\": 24.899999618530273, \"Home_Units\": \"Less than 10\", \"pct_chg\": -0.19677420585386218, \"Order\": 10}, {\"Year\": 2009, \"Rent_Share_Inc\": 25.29999923706055, \"Home_Units\": \"Less than 10\", \"pct_chg\": 0.016064241954148573, \"Order\": 10}, {\"Year\": 2010, \"Rent_Share_Inc\": 26.20000076293945, \"Home_Units\": \"Less than 10\", \"pct_chg\": 0.03557318391379782, \"Order\": 10}, {\"Year\": 2011, \"Rent_Share_Inc\": 26.29999923706055, \"Home_Units\": \"Less than 10\", \"pct_chg\": 0.003816735542334415, \"Order\": 10}, {\"Year\": 2012, \"Rent_Share_Inc\": 26.899999618530273, \"Home_Units\": \"Less than 10\", \"pct_chg\": 0.02281370337928501, \"Order\": 10}, {\"Year\": 2013, \"Rent_Share_Inc\": 26.899999618530273, \"Home_Units\": \"Less than 10\", \"pct_chg\": 0.0, \"Order\": 10}, {\"Year\": 2014, \"Rent_Share_Inc\": 26.5, \"Home_Units\": \"Less than 10\", \"pct_chg\": -0.014869874505675895, \"Order\": 10}, {\"Year\": 2015, \"Rent_Share_Inc\": 26.20000076293945, \"Home_Units\": \"Less than 10\", \"pct_chg\": -0.011320725926813213, \"Order\": 10}, {\"Year\": 2016, \"Rent_Share_Inc\": 25.70000076293945, \"Home_Units\": \"Less than 10\", \"pct_chg\": -0.01908396890992703, \"Order\": 10}, {\"Year\": 2017, \"Rent_Share_Inc\": 25.385, \"Home_Units\": \"Less than 10\", \"pct_chg\": 0.43968867321419136, \"Order\": 10}, {\"Year\": 2018, \"Rent_Share_Inc\": 25.07, \"Home_Units\": \"Less than 10\", \"pct_chg\": -0.05405405405405406, \"Order\": 10}], \"data-210bcfbf6ca010247ca2ea02fc053f02\": [{\"x\": 2008, \"y\": 40, \"text\": \"40% of income\"}], \"data-f8064fcc46e56012f905529fb2f42b79\": [{\"x\": 2014, \"y\": 40, \"text\": \"________________________________________________________________________\"}]}}, {\"mode\": \"vega-lite\"});\n",
       "</script>"
      ],
      "text/plain": [
       "alt.LayerChart(...)"
      ]
     },
     "execution_count": 25,
     "metadata": {},
     "output_type": "execute_result"
    }
   ],
   "source": [
    "rent_pop_den_chart"
   ]
  },
  {
   "cell_type": "code",
   "execution_count": 604,
   "metadata": {},
   "outputs": [],
   "source": [
    "#rent_pop_den_chart.save('rent_pop_den.png', scale_factor=3)"
   ]
  },
  {
   "cell_type": "markdown",
   "metadata": {},
   "source": [
    "---"
   ]
  },
  {
   "cell_type": "code",
   "execution_count": 12,
   "metadata": {},
   "outputs": [],
   "source": [
    "mort_share_inc_pop_den5 = pd.read_csv('mort_share_inc_by_pop_den_5yr_0816.csv')\n",
    "mort_share_inc_pop_den1 = pd.read_csv('mort_share_inc_by_pop_den_1yr_1018.csv')"
   ]
  },
  {
   "cell_type": "code",
   "execution_count": 13,
   "metadata": {},
   "outputs": [],
   "source": [
    "mort_pop_den_df = pd.concat([mort_share_inc_pop_den5, mort_share_inc_pop_den1[mort_share_inc_pop_den1.Year > 2016]]).sort_values(['Home_Units', 'Year']).reset_index(drop=True)"
   ]
  },
  {
   "cell_type": "markdown",
   "metadata": {},
   "source": [
    "*Adjusting 2017 & 2018 values for some cols (since 1-yr data included few counties of low pop densities, resulting in distorted figures)"
   ]
  },
  {
   "cell_type": "code",
   "execution_count": 14,
   "metadata": {},
   "outputs": [],
   "source": [
    "mort_pop_den_df['pct_chg'] = mort_pop_den_df['Mort_Share_Inc'].pct_change()"
   ]
  },
  {
   "cell_type": "code",
   "execution_count": 15,
   "metadata": {},
   "outputs": [],
   "source": [
    "for year in [2017, 2018]:\n",
    "    yr_df = mort_pop_den_df[mort_pop_den_df.Year == year]\n",
    "    for typ in ['100 to 250', '50 to 100', '25 to 50', '10 to 25', 'Less than 10']:\n",
    "        index = yr_df[yr_df.Home_Units == typ].index[0]\n",
    "        mort_pop_den_df.loc[index, 'Mort_Share_Inc'] = round(mort_pop_den_df['Mort_Share_Inc'][(mort_pop_den_df.Year == year-1) & (mort_pop_den_df.Home_Units == typ)].iloc[0] + mort_pop_den_df['Mort_Share_Inc'][(mort_pop_den_df.Year == year-1) & (mort_pop_den_df.Home_Units == typ)].iloc[0] * mort_pop_den_df.pct_chg[(mort_pop_den_df.Year == year) & (mort_pop_den_df.Home_Units == 'More than 1000')].iloc[0], 3)"
   ]
  },
  {
   "cell_type": "code",
   "execution_count": 16,
   "metadata": {},
   "outputs": [],
   "source": [
    "dic = {}\n",
    "for t in ['More than 1000', '250 to 1000', '100 to 250', '50 to 100', '25 to 50', '10 to 25', 'Less than 10']:\n",
    "    dic[t] = t.split()[-1]"
   ]
  },
  {
   "cell_type": "code",
   "execution_count": 17,
   "metadata": {},
   "outputs": [],
   "source": [
    "mort_pop_den_df['Order'] = mort_pop_den_df.Home_Units.map(dic).astype(int)\n",
    "mort_pop_den_df = mort_pop_den_df.sort_values(['Order', 'Home_Units'], ascending=[False, False])"
   ]
  },
  {
   "cell_type": "code",
   "execution_count": 26,
   "metadata": {},
   "outputs": [],
   "source": [
    "mort_pop_den = alt.Chart(mort_pop_den_df).mark_line(size=8, strokeCap='round', interpolate='basis').encode(\n",
    "x=alt.X('Year:O', axis=alt.Axis(values=[2008, 2018], ticks=True, tickSize=10, titleFontSize=28, labelFontSize=26, labelOpacity=.8)),\n",
    "y=alt.Y('Mort_Share_Inc', title='Counties grouped by population density', \n",
    "        scale=alt.Scale(domain=[10,40]),\n",
    "        axis=alt.Axis(values=list(range(15,40,5)),\n",
    "                      titleX=-2, titleY=-35, titleFontSize=26, titleOpacity=.8,\n",
    "                      labelFontSize=26, labelOpacity=0, labelPadding=0)),\n",
    "color=alt.Color('Home_Units', scale=alt.Scale(domain=list(mort_pop_den_df.Home_Units.unique()), \n",
    "                                             range=['#b2182b','#ef8a62','#fddbc7','#e2e0d3','#d1e5f0','#67a9cf','#2166ac']), title='Residents / sq. mile')\n",
    ")\n",
    "\n",
    "line = alt.Chart(pd.DataFrame({'x':[2013], 'y':[40], 'text':['_'*94]})).mark_text(dx=0, dy=-4, opacity=.09, fontSize=11.5, fontWeight='bold').encode(x=alt.X('x:O', axis=None), y=alt.Y('y', axis=None), text='text')\n",
    "\n",
    "\n",
    "mort_pop_den_chart = (mort_pop_den + line).properties(width=600, height=450)"
   ]
  },
  {
   "cell_type": "code",
   "execution_count": 27,
   "metadata": {},
   "outputs": [
    {
     "data": {
      "text/html": [
       "\n",
       "<div id=\"altair-viz-6\"></div>\n",
       "<script type=\"text/javascript\">\n",
       "  (function(spec, embedOpt){\n",
       "    const outputDiv = document.getElementById(\"altair-viz-6\");\n",
       "    const paths = {\n",
       "      \"vega\": \"https://cdn.jsdelivr.net/npm//vega@5?noext\",\n",
       "      \"vega-lib\": \"https://cdn.jsdelivr.net/npm//vega-lib?noext\",\n",
       "      \"vega-lite\": \"https://cdn.jsdelivr.net/npm//vega-lite@4.0.0?noext\",\n",
       "      \"vega-embed\": \"https://cdn.jsdelivr.net/npm//vega-embed@6?noext\",\n",
       "    };\n",
       "\n",
       "    function loadScript(lib) {\n",
       "      return new Promise(function(resolve, reject) {\n",
       "        var s = document.createElement('script');\n",
       "        s.src = paths[lib];\n",
       "        s.async = true;\n",
       "        s.onload = () => resolve(paths[lib]);\n",
       "        s.onerror = () => reject(`Error loading script: ${paths[lib]}`);\n",
       "        document.getElementsByTagName(\"head\")[0].appendChild(s);\n",
       "      });\n",
       "    }\n",
       "\n",
       "    function showError(err) {\n",
       "      outputDiv.innerHTML = `<div class=\"error\" style=\"color:red;\">${err}</div>`;\n",
       "      throw err;\n",
       "    }\n",
       "\n",
       "    function displayChart(vegaEmbed) {\n",
       "      vegaEmbed(outputDiv, spec, embedOpt)\n",
       "        .catch(err => showError(`Javascript Error: ${err.message}<br>This usually means there's a typo in your chart specification. See the javascript console for the full traceback.`));\n",
       "    }\n",
       "\n",
       "    if(typeof define === \"function\" && define.amd) {\n",
       "      requirejs.config({paths});\n",
       "      require([\"vega-embed\"], displayChart, err => showError(`Error loading script: ${err.message}`));\n",
       "    } else if (typeof vegaEmbed === \"function\") {\n",
       "      displayChart(vegaEmbed);\n",
       "    } else {\n",
       "      loadScript(\"vega\")\n",
       "        .then(() => loadScript(\"vega-lite\"))\n",
       "        .then(() => loadScript(\"vega-embed\"))\n",
       "        .catch(showError)\n",
       "        .then(() => displayChart(vegaEmbed));\n",
       "    }\n",
       "  })({\"width\": 600, \"height\": 400, \"background\": \"white\", \"config\": {\"title\": {\"fontWeight\": \"normal\", \"fontSize\": 36, \"anchor\": \"start\", \"font\": \"Lato\", \"offset\": 5}, \"axisX\": {\"grid\": false, \"labelFont\": \"Lato\", \"labelFontSize\": 16, \"labelAngle\": 0, \"labelPadding\": 10, \"ticks\": false, \"tickSize\": 5, \"title\": null, \"titleFont\": \"Lato\", \"titleFontSize\": 16, \"titleFontWeight\": \"normal\", \"titleY\": 30, \"titleX\": 280}, \"axisY\": {\"grid\": true, \"gridOpacity\": 1, \"labelFont\": \"Lato\", \"labelFontSize\": 16, \"labelLimit\": 100, \"labelAlign\": \"left\", \"labelPadding\": 20, \"ticks\": false, \"title\": null, \"titleFont\": \"Lato\", \"titleFontWeight\": \"normal\", \"titleFontSize\": 16, \"titleAlign\": \"left\", \"titleAngle\": 0, \"titleY\": -20, \"titleX\": -20, \"domainWidth\": 0}, \"view\": {\"strokeOpacity\": 0}, \"legend\": {\"labelFont\": \"Lato\", \"labelFontSize\": 26, \"labelLimit\": 300, \"labelOpacity\": 0.85, \"legendX\": 1250, \"legendY\": 0, \"orient\": \"none\", \"symbolSize\": 400, \"symbolStrokeWidth\": 8, \"titleFont\": \"Lato\", \"titleFontSize\": 26, \"titleLimit\": 300, \"titleOpacity\": 0.85}}, \"hconcat\": [{\"layer\": [{\"data\": {\"name\": \"data-f1d2e6c90994022b09d9bf043d512484\"}, \"mark\": {\"type\": \"line\", \"interpolate\": \"basis\", \"size\": 8, \"strokeCap\": \"round\"}, \"encoding\": {\"color\": {\"type\": \"nominal\", \"field\": \"Home_Units\", \"scale\": {\"domain\": [\"More than 1000\", \"250 to 1000\", \"100 to 250\", \"50 to 100\", \"25 to 50\", \"10 to 25\", \"Less than 10\"], \"range\": [\"#b2182b\", \"#ef8a62\", \"#fddbc7\", \"#e2e0d3\", \"#d1e5f0\", \"#67a9cf\", \"#2166ac\"]}, \"title\": \"Residents / sq. mile\"}, \"x\": {\"type\": \"ordinal\", \"axis\": {\"labelFontSize\": 26, \"labelOpacity\": 0.8, \"tickSize\": 10, \"ticks\": true, \"titleFontSize\": 28, \"values\": [2008, 2018]}, \"field\": \"Year\"}, \"y\": {\"type\": \"quantitative\", \"axis\": {\"labelFontSize\": 26, \"labelOpacity\": 0.8, \"labelPadding\": 35, \"titleFontSize\": 26, \"titleOpacity\": 0.8, \"titleX\": -35, \"titleY\": -35, \"values\": [15, 20, 25, 30, 35]}, \"field\": \"Rent_Share_Inc\", \"scale\": {\"domain\": [10, 40]}, \"title\": \"Counties grouped by population density\"}}}, {\"data\": {\"name\": \"data-210bcfbf6ca010247ca2ea02fc053f02\"}, \"mark\": {\"type\": \"text\", \"dx\": 21, \"dy\": 0, \"font\": \"lato\", \"fontSize\": 26, \"opacity\": 0.8}, \"encoding\": {\"text\": {\"type\": \"nominal\", \"field\": \"text\"}, \"x\": {\"type\": \"ordinal\", \"field\": \"x\"}, \"y\": {\"type\": \"quantitative\", \"field\": \"y\"}}}, {\"data\": {\"name\": \"data-f8064fcc46e56012f905529fb2f42b79\"}, \"mark\": {\"type\": \"text\", \"dx\": 15, \"dy\": -4, \"fontSize\": 11.5, \"fontWeight\": \"bold\", \"opacity\": 0.09}, \"encoding\": {\"text\": {\"type\": \"nominal\", \"field\": \"text\"}, \"x\": {\"type\": \"ordinal\", \"axis\": null, \"field\": \"x\"}, \"y\": {\"type\": \"quantitative\", \"axis\": null, \"field\": \"y\"}}}], \"height\": 450, \"width\": 600}, {\"layer\": [{\"data\": {\"name\": \"data-ba1618d5c76c34b2e6b213ac41c400e7\"}, \"mark\": {\"type\": \"line\", \"interpolate\": \"basis\", \"size\": 8, \"strokeCap\": \"round\"}, \"encoding\": {\"color\": {\"type\": \"nominal\", \"field\": \"Home_Units\", \"scale\": {\"domain\": [\"More than 1000\", \"250 to 1000\", \"100 to 250\", \"50 to 100\", \"25 to 50\", \"10 to 25\", \"Less than 10\"], \"range\": [\"#b2182b\", \"#ef8a62\", \"#fddbc7\", \"#e2e0d3\", \"#d1e5f0\", \"#67a9cf\", \"#2166ac\"]}, \"title\": \"Residents / sq. mile\"}, \"x\": {\"type\": \"ordinal\", \"axis\": {\"labelFontSize\": 26, \"labelOpacity\": 0.8, \"tickSize\": 10, \"ticks\": true, \"titleFontSize\": 28, \"values\": [2008, 2018]}, \"field\": \"Year\"}, \"y\": {\"type\": \"quantitative\", \"axis\": {\"labelFontSize\": 26, \"labelOpacity\": 0, \"labelPadding\": 0, \"titleFontSize\": 26, \"titleOpacity\": 0.8, \"titleX\": -2, \"titleY\": -35, \"values\": [15, 20, 25, 30, 35]}, \"field\": \"Mort_Share_Inc\", \"scale\": {\"domain\": [10, 40]}, \"title\": \"Counties grouped by population density\"}}}, {\"data\": {\"name\": \"data-868b5685abe58ff4e2b119808eba6245\"}, \"mark\": {\"type\": \"text\", \"dx\": 0, \"dy\": -4, \"fontSize\": 11.5, \"fontWeight\": \"bold\", \"opacity\": 0.09}, \"encoding\": {\"text\": {\"type\": \"nominal\", \"field\": \"text\"}, \"x\": {\"type\": \"ordinal\", \"axis\": null, \"field\": \"x\"}, \"y\": {\"type\": \"quantitative\", \"axis\": null, \"field\": \"y\"}}}], \"height\": 450, \"width\": 600}], \"$schema\": \"https://vega.github.io/schema/vega-lite/v4.0.0.json\", \"datasets\": {\"data-f1d2e6c90994022b09d9bf043d512484\": [{\"Year\": 2008, \"Rent_Share_Inc\": 33.200000762939446, \"Home_Units\": \"More than 1000\", \"pct_chg\": -0.05142854963030152, \"Order\": 1000}, {\"Year\": 2009, \"Rent_Share_Inc\": 33.700000762939446, \"Home_Units\": \"More than 1000\", \"pct_chg\": 0.01506024061776956, \"Order\": 1000}, {\"Year\": 2010, \"Rent_Share_Inc\": 34.200000762939446, \"Home_Units\": \"More than 1000\", \"pct_chg\": 0.014836794916333051, \"Order\": 1000}, {\"Year\": 2011, \"Rent_Share_Inc\": 34.299999237060554, \"Home_Units\": \"More than 1000\", \"pct_chg\": 0.002923931926617662, \"Order\": 1000}, {\"Year\": 2012, \"Rent_Share_Inc\": 34.200000762939446, \"Home_Units\": \"More than 1000\", \"pct_chg\": -0.002915407473626508, \"Order\": 1000}, {\"Year\": 2013, \"Rent_Share_Inc\": 33.5, \"Home_Units\": \"More than 1000\", \"pct_chg\": -0.02046785810888041, \"Order\": 1000}, {\"Year\": 2014, \"Rent_Share_Inc\": 33.200000762939446, \"Home_Units\": \"More than 1000\", \"pct_chg\": -0.008955201106285227, \"Order\": 1000}, {\"Year\": 2015, \"Rent_Share_Inc\": 33.0, \"Home_Units\": \"More than 1000\", \"pct_chg\": -0.006024119227211133, \"Order\": 1000}, {\"Year\": 2016, \"Rent_Share_Inc\": 32.59999847412109, \"Home_Units\": \"More than 1000\", \"pct_chg\": -0.012121258359967024, \"Order\": 1000}, {\"Year\": 2017, \"Rent_Share_Inc\": 32.200000762939446, \"Home_Units\": \"More than 1000\", \"pct_chg\": -0.012269869015459345, \"Order\": 1000}, {\"Year\": 2018, \"Rent_Share_Inc\": 31.79999923706055, \"Home_Units\": \"More than 1000\", \"pct_chg\": -0.012422407341656894, \"Order\": 1000}, {\"Year\": 2008, \"Rent_Share_Inc\": 31.5, \"Home_Units\": \"250 to 1000\", \"pct_chg\": -0.0031645689956500966, \"Order\": 1000}, {\"Year\": 2009, \"Rent_Share_Inc\": 32.299999237060554, \"Home_Units\": \"250 to 1000\", \"pct_chg\": 0.02539680117652554, \"Order\": 1000}, {\"Year\": 2010, \"Rent_Share_Inc\": 32.59999847412109, \"Home_Units\": \"250 to 1000\", \"pct_chg\": 0.009287902295561645, \"Order\": 1000}, {\"Year\": 2011, \"Rent_Share_Inc\": 32.59999847412109, \"Home_Units\": \"250 to 1000\", \"pct_chg\": 0.0, \"Order\": 1000}, {\"Year\": 2012, \"Rent_Share_Inc\": 32.299999237060554, \"Home_Units\": \"250 to 1000\", \"pct_chg\": -0.009202431015408852, \"Order\": 1000}, {\"Year\": 2013, \"Rent_Share_Inc\": 32.0, \"Home_Units\": \"250 to 1000\", \"pct_chg\": -0.009287902295562311, \"Order\": 1000}, {\"Year\": 2014, \"Rent_Share_Inc\": 31.79999923706055, \"Home_Units\": \"250 to 1000\", \"pct_chg\": -0.006250023841857799, \"Order\": 1000}, {\"Year\": 2015, \"Rent_Share_Inc\": 31.899999618530273, \"Home_Units\": \"250 to 1000\", \"pct_chg\": 0.0031446661593996783, \"Order\": 1000}, {\"Year\": 2016, \"Rent_Share_Inc\": 31.5, \"Home_Units\": \"250 to 1000\", \"pct_chg\": -0.012539173144626603, \"Order\": 1000}, {\"Year\": 2017, \"Rent_Share_Inc\": 31.20000076293945, \"Home_Units\": \"250 to 1000\", \"pct_chg\": -0.009523785303509502, \"Order\": 1000}, {\"Year\": 2018, \"Rent_Share_Inc\": 31.399999618530273, \"Home_Units\": \"250 to 1000\", \"pct_chg\": 0.006410219573724785, \"Order\": 1000}, {\"Year\": 2008, \"Rent_Share_Inc\": 31.0, \"Home_Units\": \"100 to 250\", \"pct_chg\": 0.1071428571428572, \"Order\": 250}, {\"Year\": 2009, \"Rent_Share_Inc\": 31.899999618530273, \"Home_Units\": \"100 to 250\", \"pct_chg\": 0.029032245759041064, \"Order\": 250}, {\"Year\": 2010, \"Rent_Share_Inc\": 32.400001525878906, \"Home_Units\": \"100 to 250\", \"pct_chg\": 0.015674041170150588, \"Order\": 250}, {\"Year\": 2011, \"Rent_Share_Inc\": 33.200000762939446, \"Home_Units\": \"100 to 250\", \"pct_chg\": 0.02469133331433815, \"Order\": 250}, {\"Year\": 2012, \"Rent_Share_Inc\": 32.900001525878906, \"Home_Units\": \"100 to 250\", \"pct_chg\": -0.009036121390557983, \"Order\": 250}, {\"Year\": 2013, \"Rent_Share_Inc\": 32.59999847412109, \"Home_Units\": \"100 to 250\", \"pct_chg\": -0.009118633369115225, \"Order\": 250}, {\"Year\": 2014, \"Rent_Share_Inc\": 32.09999847412109, \"Home_Units\": \"100 to 250\", \"pct_chg\": -0.015337424030768432, \"Order\": 250}, {\"Year\": 2015, \"Rent_Share_Inc\": 31.899999618530273, \"Home_Units\": \"100 to 250\", \"pct_chg\": -0.006230494239806594, \"Order\": 250}, {\"Year\": 2016, \"Rent_Share_Inc\": 31.399999618530273, \"Home_Units\": \"100 to 250\", \"pct_chg\": -0.01567398137865672, \"Order\": 250}, {\"Year\": 2017, \"Rent_Share_Inc\": 31.015, \"Home_Units\": \"100 to 250\", \"pct_chg\": 0.02547774376204326, \"Order\": 250}, {\"Year\": 2018, \"Rent_Share_Inc\": 30.63, \"Home_Units\": \"100 to 250\", \"pct_chg\": 0.00931674627181489, \"Order\": 250}, {\"Year\": 2008, \"Rent_Share_Inc\": 31.399999618530273, \"Home_Units\": \"50 to 100\", \"pct_chg\": 0.0, \"Order\": 100}, {\"Year\": 2009, \"Rent_Share_Inc\": 31.5, \"Home_Units\": \"50 to 100\", \"pct_chg\": 0.0031847255632038163, \"Order\": 100}, {\"Year\": 2010, \"Rent_Share_Inc\": 32.200000762939446, \"Home_Units\": \"50 to 100\", \"pct_chg\": 0.02222224644252213, \"Order\": 100}, {\"Year\": 2011, \"Rent_Share_Inc\": 32.400001525878906, \"Home_Units\": \"50 to 100\", \"pct_chg\": 0.006211203670828835, \"Order\": 100}, {\"Year\": 2012, \"Rent_Share_Inc\": 32.0, \"Home_Units\": \"50 to 100\", \"pct_chg\": -0.012345725525951368, \"Order\": 100}, {\"Year\": 2013, \"Rent_Share_Inc\": 31.70000076293945, \"Home_Units\": \"50 to 100\", \"pct_chg\": -0.0093749761581422, \"Order\": 100}, {\"Year\": 2014, \"Rent_Share_Inc\": 31.20000076293945, \"Home_Units\": \"50 to 100\", \"pct_chg\": -0.01577287028284713, \"Order\": 100}, {\"Year\": 2015, \"Rent_Share_Inc\": 30.60000038146973, \"Home_Units\": \"50 to 100\", \"pct_chg\": -0.019230780987108953, \"Order\": 100}, {\"Year\": 2016, \"Rent_Share_Inc\": 30.60000038146973, \"Home_Units\": \"50 to 100\", \"pct_chg\": 0.0, \"Order\": 100}, {\"Year\": 2017, \"Rent_Share_Inc\": 30.225, \"Home_Units\": \"50 to 100\", \"pct_chg\": 0.07843135910493726, \"Order\": 100}, {\"Year\": 2018, \"Rent_Share_Inc\": 29.85, \"Home_Units\": \"50 to 100\", \"pct_chg\": -0.06060606060606055, \"Order\": 100}, {\"Year\": 2008, \"Rent_Share_Inc\": 30.60000038146973, \"Home_Units\": \"25 to 50\", \"pct_chg\": -0.058461526724008284, \"Order\": 50}, {\"Year\": 2009, \"Rent_Share_Inc\": 31.20000076293945, \"Home_Units\": \"25 to 50\", \"pct_chg\": 0.019607855359147663, \"Order\": 50}, {\"Year\": 2010, \"Rent_Share_Inc\": 31.399999618530273, \"Home_Units\": \"25 to 50\", \"pct_chg\": 0.006410219573724785, \"Order\": 50}, {\"Year\": 2011, \"Rent_Share_Inc\": 32.09999847412109, \"Home_Units\": \"25 to 50\", \"pct_chg\": 0.022292957455251727, \"Order\": 50}, {\"Year\": 2012, \"Rent_Share_Inc\": 32.0, \"Home_Units\": \"25 to 50\", \"pct_chg\": -0.0031152174104215336, \"Order\": 50}, {\"Year\": 2013, \"Rent_Share_Inc\": 31.5, \"Home_Units\": \"25 to 50\", \"pct_chg\": -0.015625, \"Order\": 50}, {\"Year\": 2014, \"Rent_Share_Inc\": 30.899999618530273, \"Home_Units\": \"25 to 50\", \"pct_chg\": -0.019047631157769085, \"Order\": 50}, {\"Year\": 2015, \"Rent_Share_Inc\": 30.79999923706055, \"Home_Units\": \"25 to 50\", \"pct_chg\": -0.003236258339943565, \"Order\": 50}, {\"Year\": 2016, \"Rent_Share_Inc\": 30.5, \"Home_Units\": \"25 to 50\", \"pct_chg\": -0.009740235210771386, \"Order\": 50}, {\"Year\": 2017, \"Rent_Share_Inc\": 30.126, \"Home_Units\": \"25 to 50\", \"pct_chg\": 0.0032787010317945064, \"Order\": 50}, {\"Year\": 2018, \"Rent_Share_Inc\": 29.752, \"Home_Units\": \"25 to 50\", \"pct_chg\": 0.03267973815469505, \"Order\": 50}, {\"Year\": 2008, \"Rent_Share_Inc\": 27.70000076293945, \"Home_Units\": \"10 to 25\", \"pct_chg\": null, \"Order\": 25}, {\"Year\": 2009, \"Rent_Share_Inc\": 28.60000038146973, \"Home_Units\": \"10 to 25\", \"pct_chg\": 0.03249096006287533, \"Order\": 25}, {\"Year\": 2010, \"Rent_Share_Inc\": 29.399999618530273, \"Home_Units\": \"10 to 25\", \"pct_chg\": 0.02797200092272978, \"Order\": 25}, {\"Year\": 2011, \"Rent_Share_Inc\": 30.0, \"Home_Units\": \"10 to 25\", \"pct_chg\": 0.020408176505266162, \"Order\": 25}, {\"Year\": 2012, \"Rent_Share_Inc\": 29.70000076293945, \"Home_Units\": \"10 to 25\", \"pct_chg\": -0.009999974568685066, \"Order\": 25}, {\"Year\": 2013, \"Rent_Share_Inc\": 30.20000076293945, \"Home_Units\": \"10 to 25\", \"pct_chg\": 0.01683501640255569, \"Order\": 25}, {\"Year\": 2014, \"Rent_Share_Inc\": 29.29999923706055, \"Home_Units\": \"10 to 25\", \"pct_chg\": -0.02980137427623364, \"Order\": 25}, {\"Year\": 2015, \"Rent_Share_Inc\": 29.29999923706055, \"Home_Units\": \"10 to 25\", \"pct_chg\": 0.0, \"Order\": 25}, {\"Year\": 2016, \"Rent_Share_Inc\": 28.70000076293945, \"Home_Units\": \"10 to 25\", \"pct_chg\": -0.020477764155098832, \"Order\": 25}, {\"Year\": 2017, \"Rent_Share_Inc\": 28.348, \"Home_Units\": \"10 to 25\", \"pct_chg\": -0.0069686675129887465, \"Order\": 25}, {\"Year\": 2018, \"Rent_Share_Inc\": 27.996, \"Home_Units\": \"10 to 25\", \"pct_chg\": -0.01754385964912286, \"Order\": 25}, {\"Year\": 2008, \"Rent_Share_Inc\": 24.899999618530273, \"Home_Units\": \"Less than 10\", \"pct_chg\": -0.19677420585386218, \"Order\": 10}, {\"Year\": 2009, \"Rent_Share_Inc\": 25.29999923706055, \"Home_Units\": \"Less than 10\", \"pct_chg\": 0.016064241954148573, \"Order\": 10}, {\"Year\": 2010, \"Rent_Share_Inc\": 26.20000076293945, \"Home_Units\": \"Less than 10\", \"pct_chg\": 0.03557318391379782, \"Order\": 10}, {\"Year\": 2011, \"Rent_Share_Inc\": 26.29999923706055, \"Home_Units\": \"Less than 10\", \"pct_chg\": 0.003816735542334415, \"Order\": 10}, {\"Year\": 2012, \"Rent_Share_Inc\": 26.899999618530273, \"Home_Units\": \"Less than 10\", \"pct_chg\": 0.02281370337928501, \"Order\": 10}, {\"Year\": 2013, \"Rent_Share_Inc\": 26.899999618530273, \"Home_Units\": \"Less than 10\", \"pct_chg\": 0.0, \"Order\": 10}, {\"Year\": 2014, \"Rent_Share_Inc\": 26.5, \"Home_Units\": \"Less than 10\", \"pct_chg\": -0.014869874505675895, \"Order\": 10}, {\"Year\": 2015, \"Rent_Share_Inc\": 26.20000076293945, \"Home_Units\": \"Less than 10\", \"pct_chg\": -0.011320725926813213, \"Order\": 10}, {\"Year\": 2016, \"Rent_Share_Inc\": 25.70000076293945, \"Home_Units\": \"Less than 10\", \"pct_chg\": -0.01908396890992703, \"Order\": 10}, {\"Year\": 2017, \"Rent_Share_Inc\": 25.385, \"Home_Units\": \"Less than 10\", \"pct_chg\": 0.43968867321419136, \"Order\": 10}, {\"Year\": 2018, \"Rent_Share_Inc\": 25.07, \"Home_Units\": \"Less than 10\", \"pct_chg\": -0.05405405405405406, \"Order\": 10}], \"data-210bcfbf6ca010247ca2ea02fc053f02\": [{\"x\": 2008, \"y\": 40, \"text\": \"40% of income\"}], \"data-f8064fcc46e56012f905529fb2f42b79\": [{\"x\": 2014, \"y\": 40, \"text\": \"________________________________________________________________________\"}], \"data-ba1618d5c76c34b2e6b213ac41c400e7\": [{\"Year\": 2008, \"Mort_Share_Inc\": 23.60000038146973, \"Home_Units\": \"More than 1000\", \"pct_chg\": 0.8582677744808018, \"Order\": 1000}, {\"Year\": 2009, \"Mort_Share_Inc\": 23.29999923706055, \"Home_Units\": \"More than 1000\", \"pct_chg\": -0.01271191269321903, \"Order\": 1000}, {\"Year\": 2010, \"Mort_Share_Inc\": 23.0, \"Home_Units\": \"More than 1000\", \"pct_chg\": -0.012875504158102125, \"Order\": 1000}, {\"Year\": 2011, \"Mort_Share_Inc\": 22.299999237060547, \"Home_Units\": \"More than 1000\", \"pct_chg\": -0.0304348157799762, \"Order\": 1000}, {\"Year\": 2012, \"Mort_Share_Inc\": 21.600000381469727, \"Home_Units\": \"More than 1000\", \"pct_chg\": -0.031390084284284914, \"Order\": 1000}, {\"Year\": 2013, \"Mort_Share_Inc\": 20.899999618530273, \"Home_Units\": \"More than 1000\", \"pct_chg\": -0.03240744215634239, \"Order\": 1000}, {\"Year\": 2014, \"Mort_Share_Inc\": 20.200000762939453, \"Home_Units\": \"More than 1000\", \"pct_chg\": -0.03349276882140184, \"Order\": 1000}, {\"Year\": 2015, \"Mort_Share_Inc\": 19.799999237060547, \"Home_Units\": \"More than 1000\", \"pct_chg\": -0.01980205498867016, \"Order\": 1000}, {\"Year\": 2016, \"Mort_Share_Inc\": 19.399999618530273, \"Home_Units\": \"More than 1000\", \"pct_chg\": -0.020202001714301865, \"Order\": 1000}, {\"Year\": 2017, \"Mort_Share_Inc\": 18.899999618530273, \"Home_Units\": \"More than 1000\", \"pct_chg\": -0.02577319638307707, \"Order\": 1000}, {\"Year\": 2018, \"Mort_Share_Inc\": 18.5, \"Home_Units\": \"More than 1000\", \"pct_chg\": -0.021164001407603106, \"Order\": 1000}, {\"Year\": 2008, \"Mort_Share_Inc\": 21.299999237060547, \"Home_Units\": \"250 to 1000\", \"pct_chg\": 0.2754489978425261, \"Order\": 1000}, {\"Year\": 2009, \"Mort_Share_Inc\": 21.100000381469727, \"Home_Units\": \"250 to 1000\", \"pct_chg\": -0.009389617969696284, \"Order\": 1000}, {\"Year\": 2010, \"Mort_Share_Inc\": 20.899999618530273, \"Home_Units\": \"250 to 1000\", \"pct_chg\": -0.009478708972683103, \"Order\": 1000}, {\"Year\": 2011, \"Mort_Share_Inc\": 20.600000381469727, \"Home_Units\": \"250 to 1000\", \"pct_chg\": -0.014354030743357615, \"Order\": 1000}, {\"Year\": 2012, \"Mort_Share_Inc\": 19.799999237060547, \"Home_Units\": \"250 to 1000\", \"pct_chg\": -0.03883500629100978, \"Order\": 1000}, {\"Year\": 2013, \"Mort_Share_Inc\": 19.200000762939453, \"Home_Units\": \"250 to 1000\", \"pct_chg\": -0.03030295440608144, \"Order\": 1000}, {\"Year\": 2014, \"Mort_Share_Inc\": 18.5, \"Home_Units\": \"250 to 1000\", \"pct_chg\": -0.03645837162103771, \"Order\": 1000}, {\"Year\": 2015, \"Mort_Share_Inc\": 17.899999618530273, \"Home_Units\": \"250 to 1000\", \"pct_chg\": -0.0324324530524176, \"Order\": 1000}, {\"Year\": 2016, \"Mort_Share_Inc\": 17.600000381469727, \"Home_Units\": \"250 to 1000\", \"pct_chg\": -0.016759734271166393, \"Order\": 1000}, {\"Year\": 2017, \"Mort_Share_Inc\": 17.399999618530273, \"Home_Units\": \"250 to 1000\", \"pct_chg\": -0.011363679466167786, \"Order\": 1000}, {\"Year\": 2018, \"Mort_Share_Inc\": 17.399999618530273, \"Home_Units\": \"250 to 1000\", \"pct_chg\": 0.0, \"Order\": 1000}, {\"Year\": 2008, \"Mort_Share_Inc\": 19.200000762939453, \"Home_Units\": \"100 to 250\", \"pct_chg\": 0.2715231972113805, \"Order\": 250}, {\"Year\": 2009, \"Mort_Share_Inc\": 19.100000381469727, \"Home_Units\": \"100 to 250\", \"pct_chg\": -0.0052083529945868845, \"Order\": 250}, {\"Year\": 2010, \"Mort_Share_Inc\": 19.0, \"Home_Units\": \"100 to 250\", \"pct_chg\": -0.005235621961910741, \"Order\": 250}, {\"Year\": 2011, \"Mort_Share_Inc\": 18.5, \"Home_Units\": \"100 to 250\", \"pct_chg\": -0.02631578947368418, \"Order\": 250}, {\"Year\": 2012, \"Mort_Share_Inc\": 18.0, \"Home_Units\": \"100 to 250\", \"pct_chg\": -0.027027027027026973, \"Order\": 250}, {\"Year\": 2013, \"Mort_Share_Inc\": 17.600000381469727, \"Home_Units\": \"100 to 250\", \"pct_chg\": -0.0222222010294596, \"Order\": 250}, {\"Year\": 2014, \"Mort_Share_Inc\": 16.899999618530273, \"Home_Units\": \"100 to 250\", \"pct_chg\": -0.039772769759508275, \"Order\": 250}, {\"Year\": 2015, \"Mort_Share_Inc\": 16.399999618530273, \"Home_Units\": \"100 to 250\", \"pct_chg\": -0.02958579948438389, \"Order\": 250}, {\"Year\": 2016, \"Mort_Share_Inc\": 16.100000381469727, \"Home_Units\": \"100 to 250\", \"pct_chg\": -0.018292636831624076, \"Order\": 250}, {\"Year\": 2017, \"Mort_Share_Inc\": 15.685, \"Home_Units\": \"100 to 250\", \"pct_chg\": -0.012422407341657227, \"Order\": 250}, {\"Year\": 2018, \"Mort_Share_Inc\": 15.353, \"Home_Units\": \"100 to 250\", \"pct_chg\": 0.0, \"Order\": 250}, {\"Year\": 2008, \"Mort_Share_Inc\": 17.899999618530273, \"Home_Units\": \"50 to 100\", \"pct_chg\": 0.028735632813895018, \"Order\": 100}, {\"Year\": 2009, \"Mort_Share_Inc\": 17.600000381469727, \"Home_Units\": \"50 to 100\", \"pct_chg\": -0.016759734271166393, \"Order\": 100}, {\"Year\": 2010, \"Mort_Share_Inc\": 17.600000381469727, \"Home_Units\": \"50 to 100\", \"pct_chg\": 0.0, \"Order\": 100}, {\"Year\": 2011, \"Mort_Share_Inc\": 17.299999237060547, \"Home_Units\": \"50 to 100\", \"pct_chg\": -0.01704551919925168, \"Order\": 100}, {\"Year\": 2012, \"Mort_Share_Inc\": 17.0, \"Home_Units\": \"50 to 100\", \"pct_chg\": -0.017340997126628732, \"Order\": 100}, {\"Year\": 2013, \"Mort_Share_Inc\": 16.600000381469727, \"Home_Units\": \"50 to 100\", \"pct_chg\": -0.023529389325310235, \"Order\": 100}, {\"Year\": 2014, \"Mort_Share_Inc\": 16.100000381469727, \"Home_Units\": \"50 to 100\", \"pct_chg\": -0.03012048123553901, \"Order\": 100}, {\"Year\": 2015, \"Mort_Share_Inc\": 15.800000190734865, \"Home_Units\": \"50 to 100\", \"pct_chg\": -0.018633551778057478, \"Order\": 100}, {\"Year\": 2016, \"Mort_Share_Inc\": 15.5, \"Home_Units\": \"50 to 100\", \"pct_chg\": -0.018987353614766778, \"Order\": 100}, {\"Year\": 2017, \"Mort_Share_Inc\": 15.101, \"Home_Units\": \"50 to 100\", \"pct_chg\": 0.16774196009482112, \"Order\": 100}, {\"Year\": 2018, \"Mort_Share_Inc\": 14.781, \"Home_Units\": \"50 to 100\", \"pct_chg\": -0.04419895732312795, \"Order\": 100}, {\"Year\": 2008, \"Mort_Share_Inc\": 16.700000762939453, \"Home_Units\": \"25 to 50\", \"pct_chg\": 0.050314538591361924, \"Order\": 50}, {\"Year\": 2009, \"Mort_Share_Inc\": 16.700000762939453, \"Home_Units\": \"25 to 50\", \"pct_chg\": 0.0, \"Order\": 50}, {\"Year\": 2010, \"Mort_Share_Inc\": 16.5, \"Home_Units\": \"25 to 50\", \"pct_chg\": -0.011976093042061042, \"Order\": 50}, {\"Year\": 2011, \"Mort_Share_Inc\": 16.200000762939453, \"Home_Units\": \"25 to 50\", \"pct_chg\": -0.018181771943063474, \"Order\": 50}, {\"Year\": 2012, \"Mort_Share_Inc\": 16.100000381469727, \"Home_Units\": \"25 to 50\", \"pct_chg\": -0.006172862762975684, \"Order\": 50}, {\"Year\": 2013, \"Mort_Share_Inc\": 15.800000190734865, \"Home_Units\": \"25 to 50\", \"pct_chg\": -0.018633551778057478, \"Order\": 50}, {\"Year\": 2014, \"Mort_Share_Inc\": 15.300000190734865, \"Home_Units\": \"25 to 50\", \"pct_chg\": -0.03164556923823336, \"Order\": 50}, {\"Year\": 2015, \"Mort_Share_Inc\": 15.0, \"Home_Units\": \"25 to 50\", \"pct_chg\": -0.019607855359147885, \"Order\": 50}, {\"Year\": 2016, \"Mort_Share_Inc\": 14.800000190734865, \"Home_Units\": \"25 to 50\", \"pct_chg\": -0.01333332061767567, \"Order\": 50}, {\"Year\": 2017, \"Mort_Share_Inc\": 14.419, \"Home_Units\": \"25 to 50\", \"pct_chg\": 0.10810806805239404, \"Order\": 50}, {\"Year\": 2018, \"Mort_Share_Inc\": 14.114, \"Home_Units\": \"25 to 50\", \"pct_chg\": 0.01829275313337253, \"Order\": 50}, {\"Year\": 2008, \"Mort_Share_Inc\": 15.800000190734865, \"Home_Units\": \"10 to 25\", \"pct_chg\": null, \"Order\": 25}, {\"Year\": 2009, \"Mort_Share_Inc\": 16.0, \"Home_Units\": \"10 to 25\", \"pct_chg\": 0.012658215623466473, \"Order\": 25}, {\"Year\": 2010, \"Mort_Share_Inc\": 15.800000190734865, \"Home_Units\": \"10 to 25\", \"pct_chg\": -0.012499988079070934, \"Order\": 25}, {\"Year\": 2011, \"Mort_Share_Inc\": 15.800000190734865, \"Home_Units\": \"10 to 25\", \"pct_chg\": 0.0, \"Order\": 25}, {\"Year\": 2012, \"Mort_Share_Inc\": 15.399999618530273, \"Home_Units\": \"10 to 25\", \"pct_chg\": -0.02531649160606675, \"Order\": 25}, {\"Year\": 2013, \"Mort_Share_Inc\": 15.100000381469727, \"Home_Units\": \"10 to 25\", \"pct_chg\": -0.01948047042154266, \"Order\": 25}, {\"Year\": 2014, \"Mort_Share_Inc\": 14.899999618530273, \"Home_Units\": \"10 to 25\", \"pct_chg\": -0.01324508330376517, \"Order\": 25}, {\"Year\": 2015, \"Mort_Share_Inc\": 14.5, \"Home_Units\": \"10 to 25\", \"pct_chg\": -0.026845612669198826, \"Order\": 25}, {\"Year\": 2016, \"Mort_Share_Inc\": 14.300000190734865, \"Home_Units\": \"10 to 25\", \"pct_chg\": -0.013793090294147214, \"Order\": 25}, {\"Year\": 2017, \"Mort_Share_Inc\": 13.931, \"Home_Units\": \"10 to 25\", \"pct_chg\": -0.013986000461365111, \"Order\": 25}, {\"Year\": 2018, \"Mort_Share_Inc\": 13.636, \"Home_Units\": \"10 to 25\", \"pct_chg\": 0.07092198389683757, \"Order\": 25}, {\"Year\": 2008, \"Mort_Share_Inc\": 15.100000381469727, \"Home_Units\": \"Less than 10\", \"pct_chg\": -0.1271675695151432, \"Order\": 10}, {\"Year\": 2009, \"Mort_Share_Inc\": 15.0, \"Home_Units\": \"Less than 10\", \"pct_chg\": -0.006622541651882585, \"Order\": 10}, {\"Year\": 2010, \"Mort_Share_Inc\": 15.0, \"Home_Units\": \"Less than 10\", \"pct_chg\": 0.0, \"Order\": 10}, {\"Year\": 2011, \"Mort_Share_Inc\": 15.0, \"Home_Units\": \"Less than 10\", \"pct_chg\": 0.0, \"Order\": 10}, {\"Year\": 2012, \"Mort_Share_Inc\": 14.800000190734865, \"Home_Units\": \"Less than 10\", \"pct_chg\": -0.01333332061767567, \"Order\": 10}, {\"Year\": 2013, \"Mort_Share_Inc\": 14.5, \"Home_Units\": \"Less than 10\", \"pct_chg\": -0.020270282896528102, \"Order\": 10}, {\"Year\": 2014, \"Mort_Share_Inc\": 14.0, \"Home_Units\": \"Less than 10\", \"pct_chg\": -0.03448275862068961, \"Order\": 10}, {\"Year\": 2015, \"Mort_Share_Inc\": 13.899999618530273, \"Home_Units\": \"Less than 10\", \"pct_chg\": -0.00714288439069477, \"Order\": 10}, {\"Year\": 2016, \"Mort_Share_Inc\": 13.899999618530273, \"Home_Units\": \"Less than 10\", \"pct_chg\": 0.0, \"Order\": 10}, {\"Year\": 2017, \"Mort_Share_Inc\": 13.542, \"Home_Units\": \"Less than 10\", \"pct_chg\": 0.014388544491240829, \"Order\": 10}, {\"Year\": 2018, \"Mort_Share_Inc\": 13.255, \"Home_Units\": \"Less than 10\", \"pct_chg\": -0.09929081803745743, \"Order\": 10}], \"data-868b5685abe58ff4e2b119808eba6245\": [{\"x\": 2013, \"y\": 40, \"text\": \"______________________________________________________________________________________________\"}]}}, {\"mode\": \"vega-lite\"});\n",
       "</script>"
      ],
      "text/plain": [
       "alt.HConcatChart(...)"
      ]
     },
     "execution_count": 27,
     "metadata": {},
     "output_type": "execute_result"
    }
   ],
   "source": [
    "comb_pop_den_chart = (rent_pop_den_chart | mort_pop_den_chart).configure_legend(orient='none', legendX=1250, legendY=0, titleFont='Lato', titleFontSize=26, titleOpacity=.85, titleLimit=300, labelFont='Lato', labelFontSize=26, labelOpacity=.85, labelLimit=300, symbolSize=400, symbolStrokeWidth=8)\n",
    "comb_pop_den_chart"
   ]
  },
  {
   "cell_type": "code",
   "execution_count": 28,
   "metadata": {},
   "outputs": [],
   "source": [
    "comb_pop_den_chart.save('comb_hous_share_pop_den.svg')"
   ]
  },
  {
   "cell_type": "markdown",
   "metadata": {},
   "source": [
    "---"
   ]
  },
  {
   "cell_type": "code",
   "execution_count": 29,
   "metadata": {},
   "outputs": [],
   "source": [
    "mort_share_inc_hous_den5 = pd.read_csv('mort_share_inc_by_hous_den_5yr_0816.csv')\n",
    "mort_share_inc_hous_den1 = pd.read_csv('mort_share_inc_by_hous_den_1yr_1018.csv')"
   ]
  },
  {
   "cell_type": "code",
   "execution_count": 30,
   "metadata": {},
   "outputs": [],
   "source": [
    "mort_hous_den_df = pd.concat([mort_share_inc_hous_den5, mort_share_inc_hous_den1[mort_share_inc_hous_den1.Year > 2016]]).sort_values(['Hous_Den', 'Year']).reset_index(drop=True)"
   ]
  },
  {
   "cell_type": "markdown",
   "metadata": {},
   "source": [
    "*Adjusting 2017 & 2018 values for most cols (since 1-yr data included few counties of low pop densities, resulting in distorted figures)"
   ]
  },
  {
   "cell_type": "code",
   "execution_count": 31,
   "metadata": {},
   "outputs": [],
   "source": [
    "mort_hous_den_df['pct_chg'] = mort_hous_den_df['Mort_Share_Inc'].pct_change()"
   ]
  },
  {
   "cell_type": "code",
   "execution_count": 32,
   "metadata": {},
   "outputs": [],
   "source": [
    "for year in [2017, 2018]:\n",
    "    yr_df = mort_hous_den_df[mort_hous_den_df.Year == year]\n",
    "    for typ in ['30 to 75', '20 to 30', '10 to 20', '5 to 10', 'Less than 5']:\n",
    "        index = yr_df[yr_df.Hous_Den == typ].index[0]\n",
    "        mort_hous_den_df.loc[index, 'Mort_Share_Inc'] = round(mort_hous_den_df['Mort_Share_Inc'][(mort_hous_den_df.Year == year-1) & (mort_hous_den_df.Hous_Den == typ)].iloc[0] + mort_hous_den_df['Mort_Share_Inc'][(mort_hous_den_df.Year == year-1) & (mort_hous_den_df.Hous_Den == typ)].iloc[0] * mort_hous_den_df.pct_chg[(mort_hous_den_df.Year == year) & (mort_hous_den_df.Hous_Den == '75 to 200')].iloc[0], 3)"
   ]
  },
  {
   "cell_type": "code",
   "execution_count": 33,
   "metadata": {},
   "outputs": [],
   "source": [
    "dic = {}\n",
    "for t in ['More than 200', '75 to 200', '30 to 75', '20 to 30', '10 to 20', '5 to 10', 'Less than 5']:\n",
    "    dic[t] = t.split()[-1]"
   ]
  },
  {
   "cell_type": "code",
   "execution_count": 34,
   "metadata": {},
   "outputs": [],
   "source": [
    "mort_hous_den_df['Order'] = mort_hous_den_df.Hous_Den.map(dic).astype(int)\n",
    "mort_hous_den_df = mort_hous_den_df.sort_values(['Order', 'Hous_Den'], ascending=[False, False])"
   ]
  },
  {
   "cell_type": "code",
   "execution_count": 39,
   "metadata": {},
   "outputs": [],
   "source": [
    "mort_hous_den = alt.Chart(mort_hous_den_df, title='Homeowner Income Devoted to Housing').mark_line(size=8, strokeCap='round', interpolate='basis').encode(\n",
    "x=alt.X('Year:O', axis=alt.Axis(values=[2008, 2018], ticks=True, tickSize=10, labelFontSize=26, labelOpacity=.8)),\n",
    "y=alt.Y('Mort_Share_Inc', title='Counties grouped by housing density', \n",
    "        scale=alt.Scale(domain=[10,40]),\n",
    "        axis=alt.Axis(values=list(range(15,40,5)),\n",
    "                      titleX=-2, titleY=-35, titleFontSize=26, titleOpacity=.8,\n",
    "                      labelFontSize=26, labelOpacity=0, labelPadding=0)),\n",
    "color=alt.Color('Hous_Den', scale=alt.Scale(domain=list(mort_hous_den_df.Hous_Den.unique()), \n",
    "                                             range=['#b2182b','#ef8a62','#fddbc7','#e2e0d3', '#d1e5f0','#67a9cf','#2166ac']), title='Housing Units / sq. mile')\n",
    ")\n",
    "\n",
    "line = alt.Chart(pd.DataFrame({'x':[2013], 'y':[40], 'text':['_'*94]})).mark_text(dx=0, dy=-4, opacity=.09, fontSize=11.5, fontWeight='bold').encode(x=alt.X('x:O', axis=None), y=alt.Y('y', axis=None), text='text')\n",
    "\n",
    "\n",
    "mort_hous_den_chart = (mort_hous_den + line).properties(width=600, height=450)"
   ]
  },
  {
   "cell_type": "code",
   "execution_count": 40,
   "metadata": {},
   "outputs": [
    {
     "data": {
      "text/html": [
       "\n",
       "<div id=\"altair-viz-9\"></div>\n",
       "<script type=\"text/javascript\">\n",
       "  (function(spec, embedOpt){\n",
       "    const outputDiv = document.getElementById(\"altair-viz-9\");\n",
       "    const paths = {\n",
       "      \"vega\": \"https://cdn.jsdelivr.net/npm//vega@5?noext\",\n",
       "      \"vega-lib\": \"https://cdn.jsdelivr.net/npm//vega-lib?noext\",\n",
       "      \"vega-lite\": \"https://cdn.jsdelivr.net/npm//vega-lite@4.0.0?noext\",\n",
       "      \"vega-embed\": \"https://cdn.jsdelivr.net/npm//vega-embed@6?noext\",\n",
       "    };\n",
       "\n",
       "    function loadScript(lib) {\n",
       "      return new Promise(function(resolve, reject) {\n",
       "        var s = document.createElement('script');\n",
       "        s.src = paths[lib];\n",
       "        s.async = true;\n",
       "        s.onload = () => resolve(paths[lib]);\n",
       "        s.onerror = () => reject(`Error loading script: ${paths[lib]}`);\n",
       "        document.getElementsByTagName(\"head\")[0].appendChild(s);\n",
       "      });\n",
       "    }\n",
       "\n",
       "    function showError(err) {\n",
       "      outputDiv.innerHTML = `<div class=\"error\" style=\"color:red;\">${err}</div>`;\n",
       "      throw err;\n",
       "    }\n",
       "\n",
       "    function displayChart(vegaEmbed) {\n",
       "      vegaEmbed(outputDiv, spec, embedOpt)\n",
       "        .catch(err => showError(`Javascript Error: ${err.message}<br>This usually means there's a typo in your chart specification. See the javascript console for the full traceback.`));\n",
       "    }\n",
       "\n",
       "    if(typeof define === \"function\" && define.amd) {\n",
       "      requirejs.config({paths});\n",
       "      require([\"vega-embed\"], displayChart, err => showError(`Error loading script: ${err.message}`));\n",
       "    } else if (typeof vegaEmbed === \"function\") {\n",
       "      displayChart(vegaEmbed);\n",
       "    } else {\n",
       "      loadScript(\"vega\")\n",
       "        .then(() => loadScript(\"vega-lite\"))\n",
       "        .then(() => loadScript(\"vega-embed\"))\n",
       "        .catch(showError)\n",
       "        .then(() => displayChart(vegaEmbed));\n",
       "    }\n",
       "  })({\"width\": 600, \"height\": 450, \"background\": \"white\", \"config\": {\"title\": {\"fontWeight\": \"normal\", \"fontSize\": 36, \"anchor\": \"start\", \"font\": \"Lato\", \"offset\": 5}, \"axisX\": {\"grid\": false, \"labelFont\": \"Lato\", \"labelFontSize\": 16, \"labelAngle\": 0, \"labelPadding\": 10, \"ticks\": false, \"tickSize\": 5, \"title\": null, \"titleFont\": \"Lato\", \"titleFontSize\": 16, \"titleFontWeight\": \"normal\", \"titleY\": 30, \"titleX\": 280}, \"axisY\": {\"grid\": true, \"gridOpacity\": 1, \"labelFont\": \"Lato\", \"labelFontSize\": 16, \"labelLimit\": 100, \"labelAlign\": \"left\", \"labelPadding\": 20, \"ticks\": false, \"title\": null, \"titleFont\": \"Lato\", \"titleFontWeight\": \"normal\", \"titleFontSize\": 16, \"titleAlign\": \"left\", \"titleAngle\": 0, \"titleY\": -20, \"titleX\": -20, \"domainWidth\": 0}, \"view\": {\"strokeOpacity\": 0}}, \"layer\": [{\"data\": {\"name\": \"data-b2f0b536f2a862074811c09a3c1e4385\"}, \"mark\": {\"type\": \"line\", \"interpolate\": \"basis\", \"size\": 8, \"strokeCap\": \"round\"}, \"encoding\": {\"color\": {\"type\": \"nominal\", \"field\": \"Hous_Den\", \"scale\": {\"domain\": [\"More than 200\", \"75 to 200\", \"30 to 75\", \"20 to 30\", \"10 to 20\", \"5 to 10\", \"Less than 5\"], \"range\": [\"#b2182b\", \"#ef8a62\", \"#fddbc7\", \"#e2e0d3\", \"#d1e5f0\", \"#67a9cf\", \"#2166ac\"]}, \"title\": \"Housing Units / sq. mile\"}, \"x\": {\"type\": \"ordinal\", \"axis\": {\"labelFontSize\": 26, \"labelOpacity\": 0.8, \"tickSize\": 10, \"ticks\": true, \"titleFontSize\": 28, \"values\": [2008, 2018]}, \"field\": \"Year\"}, \"y\": {\"type\": \"quantitative\", \"axis\": {\"labelFontSize\": 26, \"labelOpacity\": 0, \"labelPadding\": 0, \"titleFontSize\": 26, \"titleOpacity\": 0.8, \"titleX\": -2, \"titleY\": -35, \"values\": [15, 20, 25, 30, 35]}, \"field\": \"Mort_Share_Inc\", \"scale\": {\"domain\": [10, 40]}, \"title\": \"Counties grouped by housing density\"}}, \"title\": \"Homeowner Income Devoted to Housing\"}, {\"data\": {\"name\": \"data-868b5685abe58ff4e2b119808eba6245\"}, \"mark\": {\"type\": \"text\", \"dx\": 0, \"dy\": -4, \"fontSize\": 11.5, \"fontWeight\": \"bold\", \"opacity\": 0.09}, \"encoding\": {\"text\": {\"type\": \"nominal\", \"field\": \"text\"}, \"x\": {\"type\": \"ordinal\", \"axis\": null, \"field\": \"x\"}, \"y\": {\"type\": \"quantitative\", \"axis\": null, \"field\": \"y\"}}}], \"$schema\": \"https://vega.github.io/schema/vega-lite/v4.0.0.json\", \"datasets\": {\"data-b2f0b536f2a862074811c09a3c1e4385\": [{\"Year\": 2008, \"Hous_Den\": \"More than 200\", \"Mort_Share_Inc\": 22.79999923706055, \"pct_chg\": 0.7952755574395427, \"Order\": 200}, {\"Year\": 2009, \"Hous_Den\": \"More than 200\", \"Mort_Share_Inc\": 22.70000076293945, \"pct_chg\": -0.004385898134529609, \"Order\": 200}, {\"Year\": 2010, \"Hous_Den\": \"More than 200\", \"Mort_Share_Inc\": 22.399999618530273, \"pct_chg\": -0.013215909001155879, \"Order\": 200}, {\"Year\": 2011, \"Hous_Den\": \"More than 200\", \"Mort_Share_Inc\": 21.700000762939453, \"pct_chg\": -0.031249949442487934, \"Order\": 200}, {\"Year\": 2012, \"Hous_Den\": \"More than 200\", \"Mort_Share_Inc\": 21.0, \"pct_chg\": -0.03225809854048278, \"Order\": 200}, {\"Year\": 2013, \"Hous_Den\": \"More than 200\", \"Mort_Share_Inc\": 20.5, \"pct_chg\": -0.023809523809523836, \"Order\": 200}, {\"Year\": 2014, \"Hous_Den\": \"More than 200\", \"Mort_Share_Inc\": 19.799999237060547, \"pct_chg\": -0.03414637867997328, \"Order\": 200}, {\"Year\": 2015, \"Hous_Den\": \"More than 200\", \"Mort_Share_Inc\": 19.200000762939453, \"pct_chg\": -0.03030295440608144, \"Order\": 200}, {\"Year\": 2016, \"Hous_Den\": \"More than 200\", \"Mort_Share_Inc\": 18.700000762939453, \"pct_chg\": -0.02604166563186383, \"Order\": 200}, {\"Year\": 2017, \"Hous_Den\": \"More than 200\", \"Mort_Share_Inc\": 18.299999237060547, \"pct_chg\": -0.021390455056646163, \"Order\": 200}, {\"Year\": 2018, \"Hous_Den\": \"More than 200\", \"Mort_Share_Inc\": 18.100000381469727, \"pct_chg\": -0.010928899668246395, \"Order\": 200}, {\"Year\": 2008, \"Hous_Den\": \"75 to 200\", \"Mort_Share_Inc\": 20.700000762939453, \"pct_chg\": 0.33548392018964224, \"Order\": 200}, {\"Year\": 2009, \"Hous_Den\": \"75 to 200\", \"Mort_Share_Inc\": 20.600000381469727, \"pct_chg\": -0.004830936124831653, \"Order\": 200}, {\"Year\": 2010, \"Hous_Den\": \"75 to 200\", \"Mort_Share_Inc\": 20.299999237060547, \"pct_chg\": -0.0145631620802803, \"Order\": 200}, {\"Year\": 2011, \"Hous_Den\": \"75 to 200\", \"Mort_Share_Inc\": 19.799999237060547, \"pct_chg\": -0.02463054279761645, \"Order\": 200}, {\"Year\": 2012, \"Hous_Den\": \"75 to 200\", \"Mort_Share_Inc\": 19.299999237060547, \"pct_chg\": -0.025252526225563066, \"Order\": 200}, {\"Year\": 2013, \"Hous_Den\": \"75 to 200\", \"Mort_Share_Inc\": 18.600000381469727, \"pct_chg\": -0.036269372189749016, \"Order\": 200}, {\"Year\": 2014, \"Hous_Den\": \"75 to 200\", \"Mort_Share_Inc\": 18.0, \"pct_chg\": -0.03225808436366906, \"Order\": 200}, {\"Year\": 2015, \"Hous_Den\": \"75 to 200\", \"Mort_Share_Inc\": 17.399999618530273, \"pct_chg\": -0.03333335452609587, \"Order\": 200}, {\"Year\": 2016, \"Hous_Den\": \"75 to 200\", \"Mort_Share_Inc\": 17.200000762939453, \"pct_chg\": -0.011494187354914032, \"Order\": 200}, {\"Year\": 2017, \"Hous_Den\": \"75 to 200\", \"Mort_Share_Inc\": 16.799999237060547, \"pct_chg\": -0.023255901635817477, \"Order\": 200}, {\"Year\": 2018, \"Hous_Den\": \"75 to 200\", \"Mort_Share_Inc\": 16.799999237060547, \"pct_chg\": 0.0, \"Order\": 200}, {\"Year\": 2008, \"Hous_Den\": \"30 to 75\", \"Mort_Share_Inc\": 18.600000381469727, \"pct_chg\": 0.06896556260044417, \"Order\": 75}, {\"Year\": 2009, \"Hous_Den\": \"30 to 75\", \"Mort_Share_Inc\": 18.600000381469727, \"pct_chg\": 0.0, \"Order\": 75}, {\"Year\": 2010, \"Hous_Den\": \"30 to 75\", \"Mort_Share_Inc\": 18.5, \"pct_chg\": -0.005376364484882101, \"Order\": 75}, {\"Year\": 2011, \"Hous_Den\": \"30 to 75\", \"Mort_Share_Inc\": 18.200000762939453, \"pct_chg\": -0.016216174976245723, \"Order\": 75}, {\"Year\": 2012, \"Hous_Den\": \"30 to 75\", \"Mort_Share_Inc\": 17.899999618530273, \"pct_chg\": -0.01648357867215422, \"Order\": 75}, {\"Year\": 2013, \"Hous_Den\": \"30 to 75\", \"Mort_Share_Inc\": 17.5, \"pct_chg\": -0.02234634788015244, \"Order\": 75}, {\"Year\": 2014, \"Hous_Den\": \"30 to 75\", \"Mort_Share_Inc\": 16.799999237060547, \"pct_chg\": -0.04000004359654019, \"Order\": 75}, {\"Year\": 2015, \"Hous_Den\": \"30 to 75\", \"Mort_Share_Inc\": 16.299999237060547, \"pct_chg\": -0.02976190611348406, \"Order\": 75}, {\"Year\": 2016, \"Hous_Den\": \"30 to 75\", \"Mort_Share_Inc\": 16.0, \"pct_chg\": -0.01840486203081859, \"Order\": 75}, {\"Year\": 2017, \"Hous_Den\": \"30 to 75\", \"Mort_Share_Inc\": 15.628, \"pct_chg\": 0.05624997615814209, \"Order\": 75}, {\"Year\": 2018, \"Hous_Den\": \"30 to 75\", \"Mort_Share_Inc\": 15.628, \"pct_chg\": -0.023668617015333404, \"Order\": 75}, {\"Year\": 2008, \"Hous_Den\": \"20 to 30\", \"Mort_Share_Inc\": 17.399999618530273, \"pct_chg\": 0.023529389325310124, \"Order\": 30}, {\"Year\": 2009, \"Hous_Den\": \"20 to 30\", \"Mort_Share_Inc\": 17.399999618530273, \"pct_chg\": 0.0, \"Order\": 30}, {\"Year\": 2010, \"Hous_Den\": \"20 to 30\", \"Mort_Share_Inc\": 17.399999618530273, \"pct_chg\": 0.0, \"Order\": 30}, {\"Year\": 2011, \"Hous_Den\": \"20 to 30\", \"Mort_Share_Inc\": 17.299999237060547, \"pct_chg\": -0.005747148486326958, \"Order\": 30}, {\"Year\": 2012, \"Hous_Den\": \"20 to 30\", \"Mort_Share_Inc\": 17.0, \"pct_chg\": -0.017340997126628732, \"Order\": 30}, {\"Year\": 2013, \"Hous_Den\": \"20 to 30\", \"Mort_Share_Inc\": 16.799999237060547, \"pct_chg\": -0.01176475076114425, \"Order\": 30}, {\"Year\": 2014, \"Hous_Den\": \"20 to 30\", \"Mort_Share_Inc\": 16.100000381469727, \"pct_chg\": -0.04166660043928061, \"Order\": 30}, {\"Year\": 2015, \"Hous_Den\": \"20 to 30\", \"Mort_Share_Inc\": 15.800000190734865, \"pct_chg\": -0.018633551778057478, \"Order\": 30}, {\"Year\": 2016, \"Hous_Den\": \"20 to 30\", \"Mort_Share_Inc\": 15.5, \"pct_chg\": -0.018987353614766778, \"Order\": 30}, {\"Year\": 2017, \"Hous_Den\": \"20 to 30\", \"Mort_Share_Inc\": 15.14, \"pct_chg\": 0.18709674958259837, \"Order\": 30}, {\"Year\": 2018, \"Hous_Den\": \"20 to 30\", \"Mort_Share_Inc\": 15.14, \"pct_chg\": -0.05434782721369846, \"Order\": 30}, {\"Year\": 2008, \"Hous_Den\": \"10 to 20\", \"Mort_Share_Inc\": 16.700000762939453, \"pct_chg\": null, \"Order\": 20}, {\"Year\": 2009, \"Hous_Den\": \"10 to 20\", \"Mort_Share_Inc\": 16.700000762939453, \"pct_chg\": 0.0, \"Order\": 20}, {\"Year\": 2010, \"Hous_Den\": \"10 to 20\", \"Mort_Share_Inc\": 16.5, \"pct_chg\": -0.011976093042061042, \"Order\": 20}, {\"Year\": 2011, \"Hous_Den\": \"10 to 20\", \"Mort_Share_Inc\": 16.299999237060547, \"pct_chg\": -0.012121258359966802, \"Order\": 20}, {\"Year\": 2012, \"Hous_Den\": \"10 to 20\", \"Mort_Share_Inc\": 16.100000381469727, \"pct_chg\": -0.012269869015459345, \"Order\": 20}, {\"Year\": 2013, \"Hous_Den\": \"10 to 20\", \"Mort_Share_Inc\": 15.800000190734865, \"pct_chg\": -0.018633551778057478, \"Order\": 20}, {\"Year\": 2014, \"Hous_Den\": \"10 to 20\", \"Mort_Share_Inc\": 15.199999809265135, \"pct_chg\": -0.037974707229533555, \"Order\": 20}, {\"Year\": 2015, \"Hous_Den\": \"10 to 20\", \"Mort_Share_Inc\": 14.899999618530273, \"pct_chg\": -0.019736854901274192, \"Order\": 20}, {\"Year\": 2016, \"Hous_Den\": \"10 to 20\", \"Mort_Share_Inc\": 14.699999809265135, \"pct_chg\": -0.013422806334599469, \"Order\": 20}, {\"Year\": 2017, \"Hous_Den\": \"10 to 20\", \"Mort_Share_Inc\": 14.358, \"pct_chg\": 0.14285710578525457, \"Order\": 20}, {\"Year\": 2018, \"Hous_Den\": \"10 to 20\", \"Mort_Share_Inc\": 14.358, \"pct_chg\": 0.011904807858458266, \"Order\": 20}, {\"Year\": 2008, \"Hous_Den\": \"5 to 10\", \"Mort_Share_Inc\": 15.899999618530273, \"pct_chg\": -0.03636365948301368, \"Order\": 10}, {\"Year\": 2009, \"Hous_Den\": \"5 to 10\", \"Mort_Share_Inc\": 16.100000381469727, \"pct_chg\": 0.012578664637599601, \"Order\": 10}, {\"Year\": 2010, \"Hous_Den\": \"5 to 10\", \"Mort_Share_Inc\": 16.100000381469727, \"pct_chg\": 0.0, \"Order\": 10}, {\"Year\": 2011, \"Hous_Den\": \"5 to 10\", \"Mort_Share_Inc\": 15.899999618530273, \"pct_chg\": -0.012422407341657227, \"Order\": 10}, {\"Year\": 2012, \"Hous_Den\": \"5 to 10\", \"Mort_Share_Inc\": 15.600000381469727, \"pct_chg\": -0.01886787699736292, \"Order\": 10}, {\"Year\": 2013, \"Hous_Den\": \"5 to 10\", \"Mort_Share_Inc\": 15.199999809265135, \"pct_chg\": -0.025641061693801426, \"Order\": 10}, {\"Year\": 2014, \"Hous_Den\": \"5 to 10\", \"Mort_Share_Inc\": 15.0, \"pct_chg\": -0.013157882353605377, \"Order\": 10}, {\"Year\": 2015, \"Hous_Den\": \"5 to 10\", \"Mort_Share_Inc\": 14.600000381469727, \"pct_chg\": -0.026666641235351562, \"Order\": 10}, {\"Year\": 2016, \"Hous_Den\": \"5 to 10\", \"Mort_Share_Inc\": 14.399999618530273, \"pct_chg\": -0.0136986820351932, \"Order\": 10}, {\"Year\": 2017, \"Hous_Den\": \"5 to 10\", \"Mort_Share_Inc\": 14.065, \"pct_chg\": 0.09027779341479913, \"Order\": 10}, {\"Year\": 2018, \"Hous_Den\": \"5 to 10\", \"Mort_Share_Inc\": 14.065, \"pct_chg\": -0.012738841509227772, \"Order\": 10}, {\"Year\": 2008, \"Hous_Den\": \"Less than 5\", \"Mort_Share_Inc\": 15.199999809265135, \"pct_chg\": -0.09523806550335057, \"Order\": 5}, {\"Year\": 2009, \"Hous_Den\": \"Less than 5\", \"Mort_Share_Inc\": 15.100000381469727, \"pct_chg\": -0.006578909805936561, \"Order\": 5}, {\"Year\": 2010, \"Hous_Den\": \"Less than 5\", \"Mort_Share_Inc\": 15.0, \"pct_chg\": -0.006622541651882585, \"Order\": 5}, {\"Year\": 2011, \"Hous_Den\": \"Less than 5\", \"Mort_Share_Inc\": 14.800000190734865, \"pct_chg\": -0.01333332061767567, \"Order\": 5}, {\"Year\": 2012, \"Hous_Den\": \"Less than 5\", \"Mort_Share_Inc\": 14.699999809265135, \"pct_chg\": -0.006756782444660603, \"Order\": 5}, {\"Year\": 2013, \"Hous_Den\": \"Less than 5\", \"Mort_Share_Inc\": 14.600000381469727, \"pct_chg\": -0.006802682251218828, \"Order\": 5}, {\"Year\": 2014, \"Hous_Den\": \"Less than 5\", \"Mort_Share_Inc\": 14.100000381469727, \"pct_chg\": -0.0342465744476691, \"Order\": 5}, {\"Year\": 2015, \"Hous_Den\": \"Less than 5\", \"Mort_Share_Inc\": 13.899999618530273, \"pct_chg\": -0.01418445088854714, \"Order\": 5}, {\"Year\": 2016, \"Hous_Den\": \"Less than 5\", \"Mort_Share_Inc\": 13.899999618530273, \"pct_chg\": 0.0, \"Order\": 5}, {\"Year\": 2017, \"Hous_Den\": \"Less than 5\", \"Mort_Share_Inc\": 13.577, \"pct_chg\": 0.014388544491240829, \"Order\": 5}, {\"Year\": 2018, \"Hous_Den\": \"Less than 5\", \"Mort_Share_Inc\": 13.577, \"pct_chg\": -0.09929081803745743, \"Order\": 5}], \"data-868b5685abe58ff4e2b119808eba6245\": [{\"x\": 2013, \"y\": 40, \"text\": \"______________________________________________________________________________________________\"}]}}, {\"mode\": \"vega-lite\"});\n",
       "</script>"
      ],
      "text/plain": [
       "alt.LayerChart(...)"
      ]
     },
     "execution_count": 40,
     "metadata": {},
     "output_type": "execute_result"
    }
   ],
   "source": [
    "mort_hous_den_chart"
   ]
  },
  {
   "cell_type": "markdown",
   "metadata": {},
   "source": [
    "---"
   ]
  },
  {
   "cell_type": "code",
   "execution_count": 43,
   "metadata": {},
   "outputs": [],
   "source": [
    "rent_share_inc_hous_den5 = pd.read_csv('rent_share_inc_by_hous_den_5yr_0816.csv')\n",
    "rent_share_inc_hous_den1 = pd.read_csv('rent_share_inc_by_hous_den_1yr_1018.csv')"
   ]
  },
  {
   "cell_type": "code",
   "execution_count": 44,
   "metadata": {},
   "outputs": [],
   "source": [
    "rent_hous_den_df = pd.concat([rent_share_inc_hous_den5, rent_share_inc_hous_den1[rent_share_inc_hous_den1.Year > 2016]]).sort_values(['Hous_Den', 'Year']).reset_index(drop=True)"
   ]
  },
  {
   "cell_type": "markdown",
   "metadata": {},
   "source": [
    "*Adjusting 2017 & 2018 values for most cols (since 1-yr data included few counties of low pop densities, resulting in distorted figures)"
   ]
  },
  {
   "cell_type": "code",
   "execution_count": 45,
   "metadata": {},
   "outputs": [],
   "source": [
    "rent_hous_den_df['pct_chg'] = rent_hous_den_df['Rent_Share_Inc'].pct_change()"
   ]
  },
  {
   "cell_type": "code",
   "execution_count": 46,
   "metadata": {},
   "outputs": [],
   "source": [
    "for year in [2017, 2018]:\n",
    "    yr_df = rent_hous_den_df[rent_hous_den_df.Year == year]\n",
    "    for typ in ['30 to 75', '20 to 30', '10 to 20', '5 to 10', 'Less than 5']:\n",
    "        index = yr_df[yr_df.Hous_Den == typ].index[0]\n",
    "        rent_hous_den_df.loc[index, 'Rent_Share_Inc'] = round(rent_hous_den_df['Rent_Share_Inc'][(rent_hous_den_df.Year == year-1) & (rent_hous_den_df.Hous_Den == typ)].iloc[0] + rent_hous_den_df['Rent_Share_Inc'][(rent_hous_den_df.Year == year-1) & (rent_hous_den_df.Hous_Den == typ)].iloc[0] * rent_hous_den_df.pct_chg[(rent_hous_den_df.Year == year) & (rent_hous_den_df.Hous_Den == '75 to 200')].iloc[0], 3)"
   ]
  },
  {
   "cell_type": "code",
   "execution_count": 47,
   "metadata": {},
   "outputs": [],
   "source": [
    "dic = {}\n",
    "for t in ['More than 200', '75 to 200', '30 to 75', '20 to 30', '10 to 20', '5 to 10', 'Less than 5']:\n",
    "    dic[t] = t.split()[-1]"
   ]
  },
  {
   "cell_type": "code",
   "execution_count": 48,
   "metadata": {},
   "outputs": [],
   "source": [
    "rent_hous_den_df['Order'] = rent_hous_den_df.Hous_Den.map(dic).astype(int)\n",
    "rent_hous_den_df = rent_hous_den_df.sort_values(['Order', 'Hous_Den'], ascending=[False, False])"
   ]
  },
  {
   "cell_type": "code",
   "execution_count": 49,
   "metadata": {},
   "outputs": [],
   "source": [
    "rent_hous_den = alt.Chart(rent_hous_den_df, title='Renter Income Devoted to Housing').mark_line(size=8, strokeCap='round', interpolate='basis').encode(\n",
    "x=alt.X('Year:O', axis=alt.Axis(values=[2008, 2018], ticks=True, tickSize=10, labelFontSize=26, labelOpacity=.8)),\n",
    "y=alt.Y('Rent_Share_Inc', title='Counties grouped by housing density', \n",
    "        scale=alt.Scale(domain=[10,40]),\n",
    "        axis=alt.Axis(values=list(range(15,40,5)),\n",
    "                      titleX=-35, titleY=-30, titleFontSize=26, titleOpacity=.8,\n",
    "                      labelFontSize=26, labelOpacity=.8, labelPadding=35)),\n",
    "color=alt.Color('Hous_Den', scale=alt.Scale(domain=list(rent_hous_den_df.Hous_Den.unique()), \n",
    "                                             range=['#b2182b','#ef8a62','#fddbc7','#e2e0d3', '#d1e5f0','#67a9cf','#2166ac']), title='Housing Units / sq. mile')\n",
    ")\n",
    "\n",
    "y_text_df = pd.DataFrame({'x':[2008], 'y':[40], 'text':['40% of income']})\n",
    "y_text = alt.Chart(y_text_df).mark_text(dx=21, dy=0, fontSize=26, font='lato', opacity=.8).encode(x=alt.X('x:O'), y='y', text='text')\n",
    "line = alt.Chart(pd.DataFrame({'x':[2014], 'y':[40], 'text':['_'*72]})).mark_text(dx=13, dy=-4, opacity=.09, fontSize=11.5, fontWeight='bold').encode(x=alt.X('x:O', axis=None), y=alt.Y('y', axis=None), text='text')\n",
    "\n",
    "\n",
    "rent_hous_den_chart = (rent_hous_den + y_text + line).properties(width=600, height=450)"
   ]
  },
  {
   "cell_type": "code",
   "execution_count": 50,
   "metadata": {},
   "outputs": [
    {
     "data": {
      "text/html": [
       "\n",
       "<div id=\"altair-viz-10\"></div>\n",
       "<script type=\"text/javascript\">\n",
       "  (function(spec, embedOpt){\n",
       "    const outputDiv = document.getElementById(\"altair-viz-10\");\n",
       "    const paths = {\n",
       "      \"vega\": \"https://cdn.jsdelivr.net/npm//vega@5?noext\",\n",
       "      \"vega-lib\": \"https://cdn.jsdelivr.net/npm//vega-lib?noext\",\n",
       "      \"vega-lite\": \"https://cdn.jsdelivr.net/npm//vega-lite@4.0.0?noext\",\n",
       "      \"vega-embed\": \"https://cdn.jsdelivr.net/npm//vega-embed@6?noext\",\n",
       "    };\n",
       "\n",
       "    function loadScript(lib) {\n",
       "      return new Promise(function(resolve, reject) {\n",
       "        var s = document.createElement('script');\n",
       "        s.src = paths[lib];\n",
       "        s.async = true;\n",
       "        s.onload = () => resolve(paths[lib]);\n",
       "        s.onerror = () => reject(`Error loading script: ${paths[lib]}`);\n",
       "        document.getElementsByTagName(\"head\")[0].appendChild(s);\n",
       "      });\n",
       "    }\n",
       "\n",
       "    function showError(err) {\n",
       "      outputDiv.innerHTML = `<div class=\"error\" style=\"color:red;\">${err}</div>`;\n",
       "      throw err;\n",
       "    }\n",
       "\n",
       "    function displayChart(vegaEmbed) {\n",
       "      vegaEmbed(outputDiv, spec, embedOpt)\n",
       "        .catch(err => showError(`Javascript Error: ${err.message}<br>This usually means there's a typo in your chart specification. See the javascript console for the full traceback.`));\n",
       "    }\n",
       "\n",
       "    if(typeof define === \"function\" && define.amd) {\n",
       "      requirejs.config({paths});\n",
       "      require([\"vega-embed\"], displayChart, err => showError(`Error loading script: ${err.message}`));\n",
       "    } else if (typeof vegaEmbed === \"function\") {\n",
       "      displayChart(vegaEmbed);\n",
       "    } else {\n",
       "      loadScript(\"vega\")\n",
       "        .then(() => loadScript(\"vega-lite\"))\n",
       "        .then(() => loadScript(\"vega-embed\"))\n",
       "        .catch(showError)\n",
       "        .then(() => displayChart(vegaEmbed));\n",
       "    }\n",
       "  })({\"width\": 600, \"height\": 400, \"background\": \"white\", \"config\": {\"title\": {\"fontWeight\": \"normal\", \"fontSize\": 36, \"anchor\": \"start\", \"font\": \"Lato\", \"offset\": 5}, \"axisX\": {\"grid\": false, \"labelFont\": \"Lato\", \"labelFontSize\": 16, \"labelAngle\": 0, \"labelPadding\": 10, \"ticks\": false, \"tickSize\": 5, \"title\": null, \"titleFont\": \"Lato\", \"titleFontSize\": 16, \"titleFontWeight\": \"normal\", \"titleY\": 30, \"titleX\": 280}, \"axisY\": {\"grid\": true, \"gridOpacity\": 1, \"labelFont\": \"Lato\", \"labelFontSize\": 16, \"labelLimit\": 100, \"labelAlign\": \"left\", \"labelPadding\": 20, \"ticks\": false, \"title\": null, \"titleFont\": \"Lato\", \"titleFontWeight\": \"normal\", \"titleFontSize\": 16, \"titleAlign\": \"left\", \"titleAngle\": 0, \"titleY\": -20, \"titleX\": -20, \"domainWidth\": 0}, \"view\": {\"strokeOpacity\": 0}, \"legend\": {\"labelFont\": \"Lato\", \"labelFontSize\": 26, \"labelLimit\": 300, \"labelOpacity\": 0.85, \"legendX\": 1250, \"legendY\": 0, \"orient\": \"none\", \"symbolSize\": 400, \"symbolStrokeWidth\": 8, \"titleFont\": \"Lato\", \"titleFontSize\": 26, \"titleLimit\": 300, \"titleOpacity\": 0.85}}, \"hconcat\": [{\"layer\": [{\"data\": {\"name\": \"data-c701672e35226990ea1c797ae95b9245\"}, \"mark\": {\"type\": \"line\", \"interpolate\": \"basis\", \"size\": 8, \"strokeCap\": \"round\"}, \"encoding\": {\"color\": {\"type\": \"nominal\", \"field\": \"Hous_Den\", \"scale\": {\"domain\": [\"More than 200\", \"75 to 200\", \"30 to 75\", \"20 to 30\", \"10 to 20\", \"5 to 10\", \"Less than 5\"], \"range\": [\"#b2182b\", \"#ef8a62\", \"#fddbc7\", \"#e2e0d3\", \"#d1e5f0\", \"#67a9cf\", \"#2166ac\"]}, \"title\": \"Housing Units / sq. mile\"}, \"x\": {\"type\": \"ordinal\", \"axis\": {\"labelFontSize\": 26, \"labelOpacity\": 0.8, \"tickSize\": 10, \"ticks\": true, \"values\": [2008, 2018]}, \"field\": \"Year\"}, \"y\": {\"type\": \"quantitative\", \"axis\": {\"labelFontSize\": 26, \"labelOpacity\": 0.8, \"labelPadding\": 35, \"titleFontSize\": 26, \"titleOpacity\": 0.8, \"titleX\": -35, \"titleY\": -30, \"values\": [15, 20, 25, 30, 35]}, \"field\": \"Rent_Share_Inc\", \"scale\": {\"domain\": [10, 40]}, \"title\": \"Counties grouped by housing density\"}}, \"title\": \"Renter Income Devoted to Housing\"}, {\"data\": {\"name\": \"data-210bcfbf6ca010247ca2ea02fc053f02\"}, \"mark\": {\"type\": \"text\", \"dx\": 21, \"dy\": 0, \"font\": \"lato\", \"fontSize\": 26, \"opacity\": 0.8}, \"encoding\": {\"text\": {\"type\": \"nominal\", \"field\": \"text\"}, \"x\": {\"type\": \"ordinal\", \"field\": \"x\"}, \"y\": {\"type\": \"quantitative\", \"field\": \"y\"}}}, {\"data\": {\"name\": \"data-f8064fcc46e56012f905529fb2f42b79\"}, \"mark\": {\"type\": \"text\", \"dx\": 13, \"dy\": -4, \"fontSize\": 11.5, \"fontWeight\": \"bold\", \"opacity\": 0.09}, \"encoding\": {\"text\": {\"type\": \"nominal\", \"field\": \"text\"}, \"x\": {\"type\": \"ordinal\", \"axis\": null, \"field\": \"x\"}, \"y\": {\"type\": \"quantitative\", \"axis\": null, \"field\": \"y\"}}}], \"height\": 450, \"width\": 600}, {\"layer\": [{\"data\": {\"name\": \"data-b2f0b536f2a862074811c09a3c1e4385\"}, \"mark\": {\"type\": \"line\", \"interpolate\": \"basis\", \"size\": 8, \"strokeCap\": \"round\"}, \"encoding\": {\"color\": {\"type\": \"nominal\", \"field\": \"Hous_Den\", \"scale\": {\"domain\": [\"More than 200\", \"75 to 200\", \"30 to 75\", \"20 to 30\", \"10 to 20\", \"5 to 10\", \"Less than 5\"], \"range\": [\"#b2182b\", \"#ef8a62\", \"#fddbc7\", \"#e2e0d3\", \"#d1e5f0\", \"#67a9cf\", \"#2166ac\"]}, \"title\": \"Housing Units / sq. mile\"}, \"x\": {\"type\": \"ordinal\", \"axis\": {\"labelFontSize\": 26, \"labelOpacity\": 0.8, \"tickSize\": 10, \"ticks\": true, \"titleFontSize\": 28, \"values\": [2008, 2018]}, \"field\": \"Year\"}, \"y\": {\"type\": \"quantitative\", \"axis\": {\"labelFontSize\": 26, \"labelOpacity\": 0, \"labelPadding\": 0, \"titleFontSize\": 26, \"titleOpacity\": 0.8, \"titleX\": -2, \"titleY\": -35, \"values\": [15, 20, 25, 30, 35]}, \"field\": \"Mort_Share_Inc\", \"scale\": {\"domain\": [10, 40]}, \"title\": \"Counties grouped by housing density\"}}, \"title\": \"Homeowner Income Devoted to Housing\"}, {\"data\": {\"name\": \"data-868b5685abe58ff4e2b119808eba6245\"}, \"mark\": {\"type\": \"text\", \"dx\": 0, \"dy\": -4, \"fontSize\": 11.5, \"fontWeight\": \"bold\", \"opacity\": 0.09}, \"encoding\": {\"text\": {\"type\": \"nominal\", \"field\": \"text\"}, \"x\": {\"type\": \"ordinal\", \"axis\": null, \"field\": \"x\"}, \"y\": {\"type\": \"quantitative\", \"axis\": null, \"field\": \"y\"}}}], \"height\": 450, \"width\": 600}], \"$schema\": \"https://vega.github.io/schema/vega-lite/v4.0.0.json\", \"datasets\": {\"data-c701672e35226990ea1c797ae95b9245\": [{\"Year\": 2008, \"Hous_Den\": \"More than 200\", \"Rent_Share_Inc\": 32.900001525878906, \"pct_chg\": 0.08223690587893162, \"Order\": 200}, {\"Year\": 2009, \"Hous_Den\": \"More than 200\", \"Rent_Share_Inc\": 33.400001525878906, \"pct_chg\": 0.015197567684205326, \"Order\": 200}, {\"Year\": 2010, \"Hous_Den\": \"More than 200\", \"Rent_Share_Inc\": 34.0, \"pct_chg\": 0.017964025350603707, \"Order\": 200}, {\"Year\": 2011, \"Hous_Den\": \"More than 200\", \"Rent_Share_Inc\": 34.200000762939446, \"pct_chg\": 0.005882375380571903, \"Order\": 200}, {\"Year\": 2012, \"Hous_Den\": \"More than 200\", \"Rent_Share_Inc\": 33.900001525878906, \"pct_chg\": -0.008771907320704875, \"Order\": 200}, {\"Year\": 2013, \"Hous_Den\": \"More than 200\", \"Rent_Share_Inc\": 33.5, \"pct_chg\": -0.011799454509568319, \"Order\": 200}, {\"Year\": 2014, \"Hous_Den\": \"More than 200\", \"Rent_Share_Inc\": 33.0, \"pct_chg\": -0.014925373134328401, \"Order\": 200}, {\"Year\": 2015, \"Hous_Den\": \"More than 200\", \"Rent_Share_Inc\": 32.799999237060554, \"pct_chg\": -0.006060629179983179, \"Order\": 200}, {\"Year\": 2016, \"Hous_Den\": \"More than 200\", \"Rent_Share_Inc\": 32.59999847412109, \"pct_chg\": -0.0060975843777912875, \"Order\": 200}, {\"Year\": 2017, \"Hous_Den\": \"More than 200\", \"Rent_Share_Inc\": 32.200000762939446, \"pct_chg\": -0.012269869015459345, \"Order\": 200}, {\"Year\": 2018, \"Hous_Den\": \"More than 200\", \"Rent_Share_Inc\": 31.79999923706055, \"pct_chg\": -0.012422407341656894, \"Order\": 200}, {\"Year\": 2008, \"Hous_Den\": \"75 to 200\", \"Rent_Share_Inc\": 30.79999923706055, \"pct_chg\": 0.11191329923241988, \"Order\": 200}, {\"Year\": 2009, \"Hous_Den\": \"75 to 200\", \"Rent_Share_Inc\": 31.20000076293945, \"pct_chg\": 0.012987062850235098, \"Order\": 200}, {\"Year\": 2010, \"Hous_Den\": \"75 to 200\", \"Rent_Share_Inc\": 31.60000038146973, \"pct_chg\": 0.012820500280417146, \"Order\": 200}, {\"Year\": 2011, \"Hous_Den\": \"75 to 200\", \"Rent_Share_Inc\": 32.0, \"pct_chg\": 0.012658215623466473, \"Order\": 200}, {\"Year\": 2012, \"Hous_Den\": \"75 to 200\", \"Rent_Share_Inc\": 31.70000076293945, \"pct_chg\": -0.0093749761581422, \"Order\": 200}, {\"Year\": 2013, \"Hous_Den\": \"75 to 200\", \"Rent_Share_Inc\": 31.60000038146973, \"pct_chg\": -0.003154586090314271, \"Order\": 200}, {\"Year\": 2014, \"Hous_Den\": \"75 to 200\", \"Rent_Share_Inc\": 31.20000076293945, \"pct_chg\": -0.012658215623466917, \"Order\": 200}, {\"Year\": 2015, \"Hous_Den\": \"75 to 200\", \"Rent_Share_Inc\": 31.20000076293945, \"pct_chg\": 0.0, \"Order\": 200}, {\"Year\": 2016, \"Hous_Den\": \"75 to 200\", \"Rent_Share_Inc\": 31.20000076293945, \"pct_chg\": 0.0, \"Order\": 200}, {\"Year\": 2017, \"Hous_Den\": \"75 to 200\", \"Rent_Share_Inc\": 30.70000076293945, \"pct_chg\": -0.016025640633762994, \"Order\": 200}, {\"Year\": 2018, \"Hous_Den\": \"75 to 200\", \"Rent_Share_Inc\": 31.29999923706055, \"pct_chg\": 0.01954392375277747, \"Order\": 200}, {\"Year\": 2008, \"Hous_Den\": \"30 to 75\", \"Rent_Share_Inc\": 31.70000076293945, \"pct_chg\": -0.0185758045911244, \"Order\": 75}, {\"Year\": 2009, \"Hous_Den\": \"30 to 75\", \"Rent_Share_Inc\": 32.299999237060554, \"pct_chg\": 0.01892739620443673, \"Order\": 75}, {\"Year\": 2010, \"Hous_Den\": \"30 to 75\", \"Rent_Share_Inc\": 32.900001525878906, \"pct_chg\": 0.01857592269320918, \"Order\": 75}, {\"Year\": 2011, \"Hous_Den\": \"30 to 75\", \"Rent_Share_Inc\": 33.299999237060554, \"pct_chg\": 0.012157984578420544, \"Order\": 75}, {\"Year\": 2012, \"Hous_Den\": \"30 to 75\", \"Rent_Share_Inc\": 33.200000762939446, \"pct_chg\": -0.003002957249615079, \"Order\": 75}, {\"Year\": 2013, \"Hous_Den\": \"30 to 75\", \"Rent_Share_Inc\": 32.799999237060554, \"pct_chg\": -0.012048238454422155, \"Order\": 75}, {\"Year\": 2014, \"Hous_Den\": \"30 to 75\", \"Rent_Share_Inc\": 32.59999847412109, \"pct_chg\": -0.0060975843777912875, \"Order\": 75}, {\"Year\": 2015, \"Hous_Den\": \"30 to 75\", \"Rent_Share_Inc\": 32.09999847412109, \"pct_chg\": -0.015337424030768432, \"Order\": 75}, {\"Year\": 2016, \"Hous_Den\": \"30 to 75\", \"Rent_Share_Inc\": 31.60000038146973, \"pct_chg\": -0.015576265308998472, \"Order\": 75}, {\"Year\": 2017, \"Hous_Den\": \"30 to 75\", \"Rent_Share_Inc\": 31.094, \"pct_chg\": 0.05379743148951688, \"Order\": 75}, {\"Year\": 2018, \"Hous_Den\": \"30 to 75\", \"Rent_Share_Inc\": 31.702, \"pct_chg\": 0.003003071805090407, \"Order\": 75}, {\"Year\": 2008, \"Hous_Den\": \"20 to 30\", \"Rent_Share_Inc\": 30.70000076293945, \"pct_chg\": -0.02539680117652543, \"Order\": 30}, {\"Year\": 2009, \"Hous_Den\": \"20 to 30\", \"Rent_Share_Inc\": 31.0, \"pct_chg\": 0.009771961876388735, \"Order\": 30}, {\"Year\": 2010, \"Hous_Den\": \"20 to 30\", \"Rent_Share_Inc\": 32.200000762939446, \"pct_chg\": 0.03870970203030466, \"Order\": 30}, {\"Year\": 2011, \"Hous_Den\": \"20 to 30\", \"Rent_Share_Inc\": 32.200000762939446, \"pct_chg\": 0.0, \"Order\": 30}, {\"Year\": 2012, \"Hous_Den\": \"20 to 30\", \"Rent_Share_Inc\": 32.0, \"pct_chg\": -0.006211203670828391, \"Order\": 30}, {\"Year\": 2013, \"Hous_Den\": \"20 to 30\", \"Rent_Share_Inc\": 31.5, \"pct_chg\": -0.015625, \"Order\": 30}, {\"Year\": 2014, \"Hous_Den\": \"20 to 30\", \"Rent_Share_Inc\": 31.399999618530273, \"pct_chg\": -0.0031746152847532683, \"Order\": 30}, {\"Year\": 2015, \"Hous_Den\": \"20 to 30\", \"Rent_Share_Inc\": 30.60000038146973, \"pct_chg\": -0.025477683018455655, \"Order\": 30}, {\"Year\": 2016, \"Hous_Den\": \"20 to 30\", \"Rent_Share_Inc\": 30.10000038146973, \"pct_chg\": -0.016339869077347524, \"Order\": 30}, {\"Year\": 2017, \"Hous_Den\": \"20 to 30\", \"Rent_Share_Inc\": 29.618, \"pct_chg\": 0.10299004459076855, \"Order\": 30}, {\"Year\": 2018, \"Hous_Den\": \"20 to 30\", \"Rent_Share_Inc\": 30.197, \"pct_chg\": -0.027108479072191716, \"Order\": 30}, {\"Year\": 2008, \"Hous_Den\": \"10 to 20\", \"Rent_Share_Inc\": 30.5, \"pct_chg\": null, \"Order\": 20}, {\"Year\": 2009, \"Hous_Den\": \"10 to 20\", \"Rent_Share_Inc\": 31.399999618530273, \"pct_chg\": 0.02950818421410739, \"Order\": 20}, {\"Year\": 2010, \"Hous_Den\": \"10 to 20\", \"Rent_Share_Inc\": 31.29999923706055, \"pct_chg\": -0.0031847255632038163, \"Order\": 20}, {\"Year\": 2011, \"Hous_Den\": \"10 to 20\", \"Rent_Share_Inc\": 32.0, \"pct_chg\": 0.022364242172588256, \"Order\": 20}, {\"Year\": 2012, \"Hous_Den\": \"10 to 20\", \"Rent_Share_Inc\": 32.0, \"pct_chg\": 0.0, \"Order\": 20}, {\"Year\": 2013, \"Hous_Den\": \"10 to 20\", \"Rent_Share_Inc\": 31.29999923706055, \"pct_chg\": -0.0218750238418578, \"Order\": 20}, {\"Year\": 2014, \"Hous_Den\": \"10 to 20\", \"Rent_Share_Inc\": 30.79999923706055, \"pct_chg\": -0.01597444128394665, \"Order\": 20}, {\"Year\": 2015, \"Hous_Den\": \"10 to 20\", \"Rent_Share_Inc\": 30.70000076293945, \"pct_chg\": -0.003246703785653837, \"Order\": 20}, {\"Year\": 2016, \"Hous_Den\": \"10 to 20\", \"Rent_Share_Inc\": 30.399999618530273, \"pct_chg\": -0.009772024005006985, \"Order\": 20}, {\"Year\": 2017, \"Hous_Den\": \"10 to 20\", \"Rent_Share_Inc\": 29.913, \"pct_chg\": 0.0032894862738344077, \"Order\": 20}, {\"Year\": 2018, \"Hous_Den\": \"10 to 20\", \"Rent_Share_Inc\": 30.498, \"pct_chg\": 0.032786885245901676, \"Order\": 20}, {\"Year\": 2008, \"Hous_Den\": \"5 to 10\", \"Rent_Share_Inc\": 28.29999923706055, \"pct_chg\": -0.15269467233008316, \"Order\": 10}, {\"Year\": 2009, \"Hous_Den\": \"5 to 10\", \"Rent_Share_Inc\": 28.899999618530273, \"pct_chg\": 0.021201427478626522, \"Order\": 10}, {\"Year\": 2010, \"Hous_Den\": \"5 to 10\", \"Rent_Share_Inc\": 29.60000038146973, \"pct_chg\": 0.02422148000620128, \"Order\": 10}, {\"Year\": 2011, \"Hous_Den\": \"5 to 10\", \"Rent_Share_Inc\": 30.20000076293945, \"pct_chg\": 0.02027028289652777, \"Order\": 10}, {\"Year\": 2012, \"Hous_Den\": \"5 to 10\", \"Rent_Share_Inc\": 29.70000076293945, \"pct_chg\": -0.01655629097246858, \"Order\": 10}, {\"Year\": 2013, \"Hous_Den\": \"5 to 10\", \"Rent_Share_Inc\": 30.0, \"pct_chg\": 0.010100984153337045, \"Order\": 10}, {\"Year\": 2014, \"Hous_Den\": \"5 to 10\", \"Rent_Share_Inc\": 29.29999923706055, \"pct_chg\": -0.02333335876464837, \"Order\": 10}, {\"Year\": 2015, \"Hous_Den\": \"5 to 10\", \"Rent_Share_Inc\": 29.29999923706055, \"pct_chg\": 0.0, \"Order\": 10}, {\"Year\": 2016, \"Hous_Den\": \"5 to 10\", \"Rent_Share_Inc\": 28.60000038146973, \"pct_chg\": -0.02389074654668988, \"Order\": 10}, {\"Year\": 2017, \"Hous_Den\": \"5 to 10\", \"Rent_Share_Inc\": 28.142, \"pct_chg\": -0.04195806807460578, \"Order\": 10}, {\"Year\": 2018, \"Hous_Den\": \"5 to 10\", \"Rent_Share_Inc\": 28.692, \"pct_chg\": 0.01094894702868121, \"Order\": 10}, {\"Year\": 2008, \"Hous_Den\": \"Less than 5\", \"Rent_Share_Inc\": 25.399999618530273, \"pct_chg\": -0.18849839496303955, \"Order\": 5}, {\"Year\": 2009, \"Hous_Den\": \"Less than 5\", \"Rent_Share_Inc\": 25.899999618530273, \"pct_chg\": 0.01968503966571844, \"Order\": 5}, {\"Year\": 2010, \"Hous_Den\": \"Less than 5\", \"Rent_Share_Inc\": 26.399999618530273, \"pct_chg\": 0.01930501958935449, \"Order\": 5}, {\"Year\": 2011, \"Hous_Den\": \"Less than 5\", \"Rent_Share_Inc\": 26.70000076293945, \"pct_chg\": 0.011363679876669641, \"Order\": 5}, {\"Year\": 2012, \"Hous_Den\": \"Less than 5\", \"Rent_Share_Inc\": 27.0, \"pct_chg\": 0.011235926160607423, \"Order\": 5}, {\"Year\": 2013, \"Hous_Den\": \"Less than 5\", \"Rent_Share_Inc\": 27.5, \"pct_chg\": 0.0185185185185186, \"Order\": 5}, {\"Year\": 2014, \"Hous_Den\": \"Less than 5\", \"Rent_Share_Inc\": 27.10000038146973, \"pct_chg\": -0.014545440673828014, \"Order\": 5}, {\"Year\": 2015, \"Hous_Den\": \"Less than 5\", \"Rent_Share_Inc\": 26.899999618530273, \"pct_chg\": -0.007380101849600362, \"Order\": 5}, {\"Year\": 2016, \"Hous_Den\": \"Less than 5\", \"Rent_Share_Inc\": 26.5, \"pct_chg\": -0.014869874505675895, \"Order\": 5}, {\"Year\": 2017, \"Hous_Den\": \"Less than 5\", \"Rent_Share_Inc\": 26.075, \"pct_chg\": 0.15471699552715967, \"Order\": 5}, {\"Year\": 2018, \"Hous_Den\": \"Less than 5\", \"Rent_Share_Inc\": 26.585, \"pct_chg\": -0.006535972563600723, \"Order\": 5}], \"data-210bcfbf6ca010247ca2ea02fc053f02\": [{\"x\": 2008, \"y\": 40, \"text\": \"40% of income\"}], \"data-f8064fcc46e56012f905529fb2f42b79\": [{\"x\": 2014, \"y\": 40, \"text\": \"________________________________________________________________________\"}], \"data-b2f0b536f2a862074811c09a3c1e4385\": [{\"Year\": 2008, \"Hous_Den\": \"More than 200\", \"Mort_Share_Inc\": 22.79999923706055, \"pct_chg\": 0.7952755574395427, \"Order\": 200}, {\"Year\": 2009, \"Hous_Den\": \"More than 200\", \"Mort_Share_Inc\": 22.70000076293945, \"pct_chg\": -0.004385898134529609, \"Order\": 200}, {\"Year\": 2010, \"Hous_Den\": \"More than 200\", \"Mort_Share_Inc\": 22.399999618530273, \"pct_chg\": -0.013215909001155879, \"Order\": 200}, {\"Year\": 2011, \"Hous_Den\": \"More than 200\", \"Mort_Share_Inc\": 21.700000762939453, \"pct_chg\": -0.031249949442487934, \"Order\": 200}, {\"Year\": 2012, \"Hous_Den\": \"More than 200\", \"Mort_Share_Inc\": 21.0, \"pct_chg\": -0.03225809854048278, \"Order\": 200}, {\"Year\": 2013, \"Hous_Den\": \"More than 200\", \"Mort_Share_Inc\": 20.5, \"pct_chg\": -0.023809523809523836, \"Order\": 200}, {\"Year\": 2014, \"Hous_Den\": \"More than 200\", \"Mort_Share_Inc\": 19.799999237060547, \"pct_chg\": -0.03414637867997328, \"Order\": 200}, {\"Year\": 2015, \"Hous_Den\": \"More than 200\", \"Mort_Share_Inc\": 19.200000762939453, \"pct_chg\": -0.03030295440608144, \"Order\": 200}, {\"Year\": 2016, \"Hous_Den\": \"More than 200\", \"Mort_Share_Inc\": 18.700000762939453, \"pct_chg\": -0.02604166563186383, \"Order\": 200}, {\"Year\": 2017, \"Hous_Den\": \"More than 200\", \"Mort_Share_Inc\": 18.299999237060547, \"pct_chg\": -0.021390455056646163, \"Order\": 200}, {\"Year\": 2018, \"Hous_Den\": \"More than 200\", \"Mort_Share_Inc\": 18.100000381469727, \"pct_chg\": -0.010928899668246395, \"Order\": 200}, {\"Year\": 2008, \"Hous_Den\": \"75 to 200\", \"Mort_Share_Inc\": 20.700000762939453, \"pct_chg\": 0.33548392018964224, \"Order\": 200}, {\"Year\": 2009, \"Hous_Den\": \"75 to 200\", \"Mort_Share_Inc\": 20.600000381469727, \"pct_chg\": -0.004830936124831653, \"Order\": 200}, {\"Year\": 2010, \"Hous_Den\": \"75 to 200\", \"Mort_Share_Inc\": 20.299999237060547, \"pct_chg\": -0.0145631620802803, \"Order\": 200}, {\"Year\": 2011, \"Hous_Den\": \"75 to 200\", \"Mort_Share_Inc\": 19.799999237060547, \"pct_chg\": -0.02463054279761645, \"Order\": 200}, {\"Year\": 2012, \"Hous_Den\": \"75 to 200\", \"Mort_Share_Inc\": 19.299999237060547, \"pct_chg\": -0.025252526225563066, \"Order\": 200}, {\"Year\": 2013, \"Hous_Den\": \"75 to 200\", \"Mort_Share_Inc\": 18.600000381469727, \"pct_chg\": -0.036269372189749016, \"Order\": 200}, {\"Year\": 2014, \"Hous_Den\": \"75 to 200\", \"Mort_Share_Inc\": 18.0, \"pct_chg\": -0.03225808436366906, \"Order\": 200}, {\"Year\": 2015, \"Hous_Den\": \"75 to 200\", \"Mort_Share_Inc\": 17.399999618530273, \"pct_chg\": -0.03333335452609587, \"Order\": 200}, {\"Year\": 2016, \"Hous_Den\": \"75 to 200\", \"Mort_Share_Inc\": 17.200000762939453, \"pct_chg\": -0.011494187354914032, \"Order\": 200}, {\"Year\": 2017, \"Hous_Den\": \"75 to 200\", \"Mort_Share_Inc\": 16.799999237060547, \"pct_chg\": -0.023255901635817477, \"Order\": 200}, {\"Year\": 2018, \"Hous_Den\": \"75 to 200\", \"Mort_Share_Inc\": 16.799999237060547, \"pct_chg\": 0.0, \"Order\": 200}, {\"Year\": 2008, \"Hous_Den\": \"30 to 75\", \"Mort_Share_Inc\": 18.600000381469727, \"pct_chg\": 0.06896556260044417, \"Order\": 75}, {\"Year\": 2009, \"Hous_Den\": \"30 to 75\", \"Mort_Share_Inc\": 18.600000381469727, \"pct_chg\": 0.0, \"Order\": 75}, {\"Year\": 2010, \"Hous_Den\": \"30 to 75\", \"Mort_Share_Inc\": 18.5, \"pct_chg\": -0.005376364484882101, \"Order\": 75}, {\"Year\": 2011, \"Hous_Den\": \"30 to 75\", \"Mort_Share_Inc\": 18.200000762939453, \"pct_chg\": -0.016216174976245723, \"Order\": 75}, {\"Year\": 2012, \"Hous_Den\": \"30 to 75\", \"Mort_Share_Inc\": 17.899999618530273, \"pct_chg\": -0.01648357867215422, \"Order\": 75}, {\"Year\": 2013, \"Hous_Den\": \"30 to 75\", \"Mort_Share_Inc\": 17.5, \"pct_chg\": -0.02234634788015244, \"Order\": 75}, {\"Year\": 2014, \"Hous_Den\": \"30 to 75\", \"Mort_Share_Inc\": 16.799999237060547, \"pct_chg\": -0.04000004359654019, \"Order\": 75}, {\"Year\": 2015, \"Hous_Den\": \"30 to 75\", \"Mort_Share_Inc\": 16.299999237060547, \"pct_chg\": -0.02976190611348406, \"Order\": 75}, {\"Year\": 2016, \"Hous_Den\": \"30 to 75\", \"Mort_Share_Inc\": 16.0, \"pct_chg\": -0.01840486203081859, \"Order\": 75}, {\"Year\": 2017, \"Hous_Den\": \"30 to 75\", \"Mort_Share_Inc\": 15.628, \"pct_chg\": 0.05624997615814209, \"Order\": 75}, {\"Year\": 2018, \"Hous_Den\": \"30 to 75\", \"Mort_Share_Inc\": 15.628, \"pct_chg\": -0.023668617015333404, \"Order\": 75}, {\"Year\": 2008, \"Hous_Den\": \"20 to 30\", \"Mort_Share_Inc\": 17.399999618530273, \"pct_chg\": 0.023529389325310124, \"Order\": 30}, {\"Year\": 2009, \"Hous_Den\": \"20 to 30\", \"Mort_Share_Inc\": 17.399999618530273, \"pct_chg\": 0.0, \"Order\": 30}, {\"Year\": 2010, \"Hous_Den\": \"20 to 30\", \"Mort_Share_Inc\": 17.399999618530273, \"pct_chg\": 0.0, \"Order\": 30}, {\"Year\": 2011, \"Hous_Den\": \"20 to 30\", \"Mort_Share_Inc\": 17.299999237060547, \"pct_chg\": -0.005747148486326958, \"Order\": 30}, {\"Year\": 2012, \"Hous_Den\": \"20 to 30\", \"Mort_Share_Inc\": 17.0, \"pct_chg\": -0.017340997126628732, \"Order\": 30}, {\"Year\": 2013, \"Hous_Den\": \"20 to 30\", \"Mort_Share_Inc\": 16.799999237060547, \"pct_chg\": -0.01176475076114425, \"Order\": 30}, {\"Year\": 2014, \"Hous_Den\": \"20 to 30\", \"Mort_Share_Inc\": 16.100000381469727, \"pct_chg\": -0.04166660043928061, \"Order\": 30}, {\"Year\": 2015, \"Hous_Den\": \"20 to 30\", \"Mort_Share_Inc\": 15.800000190734865, \"pct_chg\": -0.018633551778057478, \"Order\": 30}, {\"Year\": 2016, \"Hous_Den\": \"20 to 30\", \"Mort_Share_Inc\": 15.5, \"pct_chg\": -0.018987353614766778, \"Order\": 30}, {\"Year\": 2017, \"Hous_Den\": \"20 to 30\", \"Mort_Share_Inc\": 15.14, \"pct_chg\": 0.18709674958259837, \"Order\": 30}, {\"Year\": 2018, \"Hous_Den\": \"20 to 30\", \"Mort_Share_Inc\": 15.14, \"pct_chg\": -0.05434782721369846, \"Order\": 30}, {\"Year\": 2008, \"Hous_Den\": \"10 to 20\", \"Mort_Share_Inc\": 16.700000762939453, \"pct_chg\": null, \"Order\": 20}, {\"Year\": 2009, \"Hous_Den\": \"10 to 20\", \"Mort_Share_Inc\": 16.700000762939453, \"pct_chg\": 0.0, \"Order\": 20}, {\"Year\": 2010, \"Hous_Den\": \"10 to 20\", \"Mort_Share_Inc\": 16.5, \"pct_chg\": -0.011976093042061042, \"Order\": 20}, {\"Year\": 2011, \"Hous_Den\": \"10 to 20\", \"Mort_Share_Inc\": 16.299999237060547, \"pct_chg\": -0.012121258359966802, \"Order\": 20}, {\"Year\": 2012, \"Hous_Den\": \"10 to 20\", \"Mort_Share_Inc\": 16.100000381469727, \"pct_chg\": -0.012269869015459345, \"Order\": 20}, {\"Year\": 2013, \"Hous_Den\": \"10 to 20\", \"Mort_Share_Inc\": 15.800000190734865, \"pct_chg\": -0.018633551778057478, \"Order\": 20}, {\"Year\": 2014, \"Hous_Den\": \"10 to 20\", \"Mort_Share_Inc\": 15.199999809265135, \"pct_chg\": -0.037974707229533555, \"Order\": 20}, {\"Year\": 2015, \"Hous_Den\": \"10 to 20\", \"Mort_Share_Inc\": 14.899999618530273, \"pct_chg\": -0.019736854901274192, \"Order\": 20}, {\"Year\": 2016, \"Hous_Den\": \"10 to 20\", \"Mort_Share_Inc\": 14.699999809265135, \"pct_chg\": -0.013422806334599469, \"Order\": 20}, {\"Year\": 2017, \"Hous_Den\": \"10 to 20\", \"Mort_Share_Inc\": 14.358, \"pct_chg\": 0.14285710578525457, \"Order\": 20}, {\"Year\": 2018, \"Hous_Den\": \"10 to 20\", \"Mort_Share_Inc\": 14.358, \"pct_chg\": 0.011904807858458266, \"Order\": 20}, {\"Year\": 2008, \"Hous_Den\": \"5 to 10\", \"Mort_Share_Inc\": 15.899999618530273, \"pct_chg\": -0.03636365948301368, \"Order\": 10}, {\"Year\": 2009, \"Hous_Den\": \"5 to 10\", \"Mort_Share_Inc\": 16.100000381469727, \"pct_chg\": 0.012578664637599601, \"Order\": 10}, {\"Year\": 2010, \"Hous_Den\": \"5 to 10\", \"Mort_Share_Inc\": 16.100000381469727, \"pct_chg\": 0.0, \"Order\": 10}, {\"Year\": 2011, \"Hous_Den\": \"5 to 10\", \"Mort_Share_Inc\": 15.899999618530273, \"pct_chg\": -0.012422407341657227, \"Order\": 10}, {\"Year\": 2012, \"Hous_Den\": \"5 to 10\", \"Mort_Share_Inc\": 15.600000381469727, \"pct_chg\": -0.01886787699736292, \"Order\": 10}, {\"Year\": 2013, \"Hous_Den\": \"5 to 10\", \"Mort_Share_Inc\": 15.199999809265135, \"pct_chg\": -0.025641061693801426, \"Order\": 10}, {\"Year\": 2014, \"Hous_Den\": \"5 to 10\", \"Mort_Share_Inc\": 15.0, \"pct_chg\": -0.013157882353605377, \"Order\": 10}, {\"Year\": 2015, \"Hous_Den\": \"5 to 10\", \"Mort_Share_Inc\": 14.600000381469727, \"pct_chg\": -0.026666641235351562, \"Order\": 10}, {\"Year\": 2016, \"Hous_Den\": \"5 to 10\", \"Mort_Share_Inc\": 14.399999618530273, \"pct_chg\": -0.0136986820351932, \"Order\": 10}, {\"Year\": 2017, \"Hous_Den\": \"5 to 10\", \"Mort_Share_Inc\": 14.065, \"pct_chg\": 0.09027779341479913, \"Order\": 10}, {\"Year\": 2018, \"Hous_Den\": \"5 to 10\", \"Mort_Share_Inc\": 14.065, \"pct_chg\": -0.012738841509227772, \"Order\": 10}, {\"Year\": 2008, \"Hous_Den\": \"Less than 5\", \"Mort_Share_Inc\": 15.199999809265135, \"pct_chg\": -0.09523806550335057, \"Order\": 5}, {\"Year\": 2009, \"Hous_Den\": \"Less than 5\", \"Mort_Share_Inc\": 15.100000381469727, \"pct_chg\": -0.006578909805936561, \"Order\": 5}, {\"Year\": 2010, \"Hous_Den\": \"Less than 5\", \"Mort_Share_Inc\": 15.0, \"pct_chg\": -0.006622541651882585, \"Order\": 5}, {\"Year\": 2011, \"Hous_Den\": \"Less than 5\", \"Mort_Share_Inc\": 14.800000190734865, \"pct_chg\": -0.01333332061767567, \"Order\": 5}, {\"Year\": 2012, \"Hous_Den\": \"Less than 5\", \"Mort_Share_Inc\": 14.699999809265135, \"pct_chg\": -0.006756782444660603, \"Order\": 5}, {\"Year\": 2013, \"Hous_Den\": \"Less than 5\", \"Mort_Share_Inc\": 14.600000381469727, \"pct_chg\": -0.006802682251218828, \"Order\": 5}, {\"Year\": 2014, \"Hous_Den\": \"Less than 5\", \"Mort_Share_Inc\": 14.100000381469727, \"pct_chg\": -0.0342465744476691, \"Order\": 5}, {\"Year\": 2015, \"Hous_Den\": \"Less than 5\", \"Mort_Share_Inc\": 13.899999618530273, \"pct_chg\": -0.01418445088854714, \"Order\": 5}, {\"Year\": 2016, \"Hous_Den\": \"Less than 5\", \"Mort_Share_Inc\": 13.899999618530273, \"pct_chg\": 0.0, \"Order\": 5}, {\"Year\": 2017, \"Hous_Den\": \"Less than 5\", \"Mort_Share_Inc\": 13.577, \"pct_chg\": 0.014388544491240829, \"Order\": 5}, {\"Year\": 2018, \"Hous_Den\": \"Less than 5\", \"Mort_Share_Inc\": 13.577, \"pct_chg\": -0.09929081803745743, \"Order\": 5}], \"data-868b5685abe58ff4e2b119808eba6245\": [{\"x\": 2013, \"y\": 40, \"text\": \"______________________________________________________________________________________________\"}]}}, {\"mode\": \"vega-lite\"});\n",
       "</script>"
      ],
      "text/plain": [
       "alt.HConcatChart(...)"
      ]
     },
     "execution_count": 50,
     "metadata": {},
     "output_type": "execute_result"
    }
   ],
   "source": [
    "comb_hous_den_chart = (rent_hous_den_chart | mort_hous_den_chart).configure_legend(orient='none', legendX=1250, legendY=0, titleFont='Lato', titleFontSize=26, titleOpacity=.85, titleLimit=300, labelFont='Lato', labelFontSize=26, labelOpacity=.85, labelLimit=300, symbolSize=400, symbolStrokeWidth=8)\n",
    "comb_hous_den_chart"
   ]
  },
  {
   "cell_type": "code",
   "execution_count": 51,
   "metadata": {},
   "outputs": [],
   "source": [
    "comb_hous_den_chart.save('comb_hous_share_hous_den.svg')"
   ]
  },
  {
   "cell_type": "markdown",
   "metadata": {},
   "source": [
    "---"
   ]
  }
 ],
 "metadata": {
  "kernelspec": {
   "display_name": "Python 3",
   "language": "python",
   "name": "python3"
  },
  "language_info": {
   "codemirror_mode": {
    "name": "ipython",
    "version": 3
   },
   "file_extension": ".py",
   "mimetype": "text/x-python",
   "name": "python",
   "nbconvert_exporter": "python",
   "pygments_lexer": "ipython3",
   "version": "3.7.3"
  }
 },
 "nbformat": 4,
 "nbformat_minor": 4
}
