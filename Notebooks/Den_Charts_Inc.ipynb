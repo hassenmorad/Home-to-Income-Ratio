{
 "cells": [
  {
   "cell_type": "markdown",
   "metadata": {},
   "source": [
    "### Monthly Income (based on pop & housing density)\n",
    "*Split by homeowners & renters"
   ]
  },
  {
   "cell_type": "code",
   "execution_count": 1,
   "metadata": {},
   "outputs": [],
   "source": [
    "import pandas as pd\n",
    "import numpy as np"
   ]
  },
  {
   "cell_type": "code",
   "execution_count": 2,
   "metadata": {},
   "outputs": [],
   "source": [
    "%run chart_theme.py"
   ]
  },
  {
   "cell_type": "code",
   "execution_count": 3,
   "metadata": {},
   "outputs": [],
   "source": [
    "renter_inc_by_hous_den5 = pd.read_csv('renter_inc_by_hous_den_5yr_0816.csv')\n",
    "renter_inc_by_hous_den1 = pd.read_csv('renter_inc_by_hous_den_1yr_1018.csv')"
   ]
  },
  {
   "cell_type": "code",
   "execution_count": 4,
   "metadata": {},
   "outputs": [],
   "source": [
    "renter_inc_hous_den = pd.concat([renter_inc_by_hous_den5, renter_inc_by_hous_den1[renter_inc_by_hous_den1.Year > 2016]]).sort_values(['Hous_Den', 'Year']).reset_index(drop=True)"
   ]
  },
  {
   "cell_type": "code",
   "execution_count": 5,
   "metadata": {},
   "outputs": [
    {
     "data": {
      "text/html": [
       "<div>\n",
       "<style scoped>\n",
       "    .dataframe tbody tr th:only-of-type {\n",
       "        vertical-align: middle;\n",
       "    }\n",
       "\n",
       "    .dataframe tbody tr th {\n",
       "        vertical-align: top;\n",
       "    }\n",
       "\n",
       "    .dataframe thead th {\n",
       "        text-align: right;\n",
       "    }\n",
       "</style>\n",
       "<table border=\"1\" class=\"dataframe\">\n",
       "  <thead>\n",
       "    <tr style=\"text-align: right;\">\n",
       "      <th></th>\n",
       "      <th>Year</th>\n",
       "      <th>Hous_Den</th>\n",
       "      <th>Med_Rent</th>\n",
       "    </tr>\n",
       "  </thead>\n",
       "  <tbody>\n",
       "    <tr>\n",
       "      <th>0</th>\n",
       "      <td>2008</td>\n",
       "      <td>10 to 20</td>\n",
       "      <td>1958.0</td>\n",
       "    </tr>\n",
       "  </tbody>\n",
       "</table>\n",
       "</div>"
      ],
      "text/plain": [
       "   Year  Hous_Den  Med_Rent\n",
       "0  2008  10 to 20    1958.0"
      ]
     },
     "execution_count": 5,
     "metadata": {},
     "output_type": "execute_result"
    }
   ],
   "source": [
    "renter_inc_hous_den.head(1)"
   ]
  },
  {
   "cell_type": "markdown",
   "metadata": {},
   "source": [
    "*Adjusting 2017 & 2018 values for '10-25' & 'Less than 10' cols (since 1-yr data included few counties of low pop densities, resulting in distorted figures)"
   ]
  },
  {
   "cell_type": "code",
   "execution_count": 6,
   "metadata": {},
   "outputs": [],
   "source": [
    "renter_inc_hous_den['pct_chg'] = renter_inc_hous_den['Med_Rent'].pct_change()"
   ]
  },
  {
   "cell_type": "code",
   "execution_count": 7,
   "metadata": {},
   "outputs": [],
   "source": [
    "for year in [2017, 2018]:\n",
    "    yr_df = renter_inc_hous_den[renter_inc_hous_den.Year == year]\n",
    "    for typ in ['30 to 75', '20 to 30', '10 to 20', '5 to 10', 'Less than 5']:\n",
    "        index = yr_df[yr_df.Hous_Den == typ].index[0]\n",
    "        renter_inc_hous_den.loc[index, 'Med_Rent'] = round(renter_inc_hous_den['Med_Rent'][(renter_inc_hous_den.Year == year-1) & (renter_inc_hous_den.Hous_Den == typ)].iloc[0] + renter_inc_hous_den['Med_Rent'][(renter_inc_hous_den.Year == year-1) & (renter_inc_hous_den.Hous_Den == typ)].iloc[0] * renter_inc_hous_den.pct_chg[(renter_inc_hous_den.Year == year) & (renter_inc_hous_den.Hous_Den == 'More than 75')].iloc[0], 3)"
   ]
  },
  {
   "cell_type": "code",
   "execution_count": 8,
   "metadata": {},
   "outputs": [],
   "source": [
    "dic = {}\n",
    "for t in ['More than 75', '30 to 75', '20 to 30', '10 to 20', '5 to 10', 'Less than 5']:\n",
    "    dic[t] = t.split()[-1]"
   ]
  },
  {
   "cell_type": "code",
   "execution_count": 9,
   "metadata": {},
   "outputs": [],
   "source": [
    "renter_inc_hous_den['Order'] = renter_inc_hous_den.Hous_Den.map(dic).astype(int)"
   ]
  },
  {
   "cell_type": "code",
   "execution_count": 10,
   "metadata": {},
   "outputs": [],
   "source": [
    "renter_inc_hous_den_df = renter_inc_hous_den.sort_values(['Order', 'Hous_Den'], ascending=[False, False])"
   ]
  },
  {
   "cell_type": "code",
   "execution_count": 65,
   "metadata": {},
   "outputs": [],
   "source": [
    "%run chart_theme.py"
   ]
  },
  {
   "cell_type": "code",
   "execution_count": 11,
   "metadata": {},
   "outputs": [],
   "source": [
    "\"\"\"rent_inc_hous_den = alt.Chart(renter_inc_hous_den_df, title='Monthly Renter Income').mark_line(size=9, opacity=.85, strokeCap='round', interpolate='basis').encode(\n",
    "x=alt.X('Year:O', axis=alt.Axis(values=[2008, 2018], ticks=True, tickSize=10, titleFontSize=20, labelFontSize=26, labelOpacity=.7)),\n",
    "y=alt.Y('Med_Rent', title='Counties grouped by housing density', \n",
    "        scale=alt.Scale(domain=[1000,8000]),\n",
    "        axis=alt.Axis(values=list(range(2000,8000,1000)), format='~s',\n",
    "                      titleX=0, titleY=-30, titleFontSize=28, titleOpacity=.7,\n",
    "                      labelFontSize=26, labelOpacity=0, labelPadding=0)),\n",
    "color=alt.Color('Hous_Den', scale=alt.Scale(domain=list(renter_inc_hous_den_df.Hous_Den.unique()), \n",
    "                                             range=['#b2182b','#ef8a62','#fddbc7','#d1e5f0','#67a9cf','#2166ac']), \n",
    "                title='Housing Units / sq. mile')\n",
    ")\n",
    "\n",
    "y_text_df = pd.DataFrame({'x':[2008], 'y':[8000], 'text':['$8k per month']})\n",
    "y_text = alt.Chart(y_text_df).mark_text(dx=70, dy=0, fontSize=26, font='lato', opacity=0).encode(x=alt.X('x:O'), y='y', text='text')\n",
    "line = alt.Chart(pd.DataFrame({'x':[2008], 'y':[8000], 'text':['_'*94]})).mark_text(dx=275, dy=-4, opacity=.09, fontSize=11.5, fontWeight='bold').encode(x=alt.X('x:O', axis=None), y=alt.Y('y', axis=None), text='text')\n",
    "\n",
    "\n",
    "rent_inc_hous_den_chart = (rent_inc_hous_den + y_text).properties(width=600, height=450)\"\"\""
   ]
  },
  {
   "cell_type": "code",
   "execution_count": 76,
   "metadata": {},
   "outputs": [],
   "source": [
    "rent_inc_hous_den = alt.Chart(renter_inc_hous_den_df, title='Monthly Renter Income').mark_line(size=9, opacity=1, strokeCap='round', interpolate='basis').encode(\n",
    "x=alt.X('Year:O', axis=alt.Axis(values=[2008, 2018], ticks=True, tickSize=10, titleFontSize=28, labelFontSize=26, labelOpacity=.8)),\n",
    "y=alt.Y('Med_Rent', title='Counties grouped by housing density', \n",
    "        scale=alt.Scale(domain=[1000,7000]),\n",
    "        axis=alt.Axis(values=list(range(2000,7000,1000)), format='~s',\n",
    "                      titleX=-25, titleY=-30, titleFontSize=28, titleOpacity=.8,\n",
    "                      labelFontSize=26, labelOpacity=.8, labelPadding=25)),\n",
    "color=alt.Color('Hous_Den', scale=alt.Scale(domain=list(renter_inc_hous_den_df.Hous_Den.unique()), \n",
    "                                             range=['#b2182b','#ef8a62','#fddbc7','#d1e5f0','#67a9cf','#2166ac']), \n",
    "                title='Housing Units / sq. mile')\n",
    ")\n",
    "\n",
    "y_text_df = pd.DataFrame({'x':[2008], 'y':[7000], 'text':['$7k per month']})\n",
    "y_text = alt.Chart(y_text_df).mark_text(dx=32, dy=0, fontSize=26, font='lato', opacity=.8).encode(x=alt.X('x:O'), y='y', text='text')\n",
    "line = alt.Chart(pd.DataFrame({'x':[2008], 'y':[7000], 'text':['_'*72]})).mark_text(dx=345, dy=-4, opacity=.09, fontSize=11.5, fontWeight='bold').encode(x=alt.X('x:O', axis=None), y=alt.Y('y', axis=None), text='text')\n",
    "\n",
    "\n",
    "rent_inc_hous_den_chart = (rent_inc_hous_den + y_text + line).properties(width=600, height=450)"
   ]
  },
  {
   "cell_type": "code",
   "execution_count": 77,
   "metadata": {},
   "outputs": [
    {
     "data": {
      "text/html": [
       "\n",
       "<div id=\"altair-viz-25\"></div>\n",
       "<script type=\"text/javascript\">\n",
       "  (function(spec, embedOpt){\n",
       "    const outputDiv = document.getElementById(\"altair-viz-25\");\n",
       "    const paths = {\n",
       "      \"vega\": \"https://cdn.jsdelivr.net/npm//vega@5?noext\",\n",
       "      \"vega-lib\": \"https://cdn.jsdelivr.net/npm//vega-lib?noext\",\n",
       "      \"vega-lite\": \"https://cdn.jsdelivr.net/npm//vega-lite@4.0.0?noext\",\n",
       "      \"vega-embed\": \"https://cdn.jsdelivr.net/npm//vega-embed@6?noext\",\n",
       "    };\n",
       "\n",
       "    function loadScript(lib) {\n",
       "      return new Promise(function(resolve, reject) {\n",
       "        var s = document.createElement('script');\n",
       "        s.src = paths[lib];\n",
       "        s.async = true;\n",
       "        s.onload = () => resolve(paths[lib]);\n",
       "        s.onerror = () => reject(`Error loading script: ${paths[lib]}`);\n",
       "        document.getElementsByTagName(\"head\")[0].appendChild(s);\n",
       "      });\n",
       "    }\n",
       "\n",
       "    function showError(err) {\n",
       "      outputDiv.innerHTML = `<div class=\"error\" style=\"color:red;\">${err}</div>`;\n",
       "      throw err;\n",
       "    }\n",
       "\n",
       "    function displayChart(vegaEmbed) {\n",
       "      vegaEmbed(outputDiv, spec, embedOpt)\n",
       "        .catch(err => showError(`Javascript Error: ${err.message}<br>This usually means there's a typo in your chart specification. See the javascript console for the full traceback.`));\n",
       "    }\n",
       "\n",
       "    if(typeof define === \"function\" && define.amd) {\n",
       "      requirejs.config({paths});\n",
       "      require([\"vega-embed\"], displayChart, err => showError(`Error loading script: ${err.message}`));\n",
       "    } else if (typeof vegaEmbed === \"function\") {\n",
       "      displayChart(vegaEmbed);\n",
       "    } else {\n",
       "      loadScript(\"vega\")\n",
       "        .then(() => loadScript(\"vega-lite\"))\n",
       "        .then(() => loadScript(\"vega-embed\"))\n",
       "        .catch(showError)\n",
       "        .then(() => displayChart(vegaEmbed));\n",
       "    }\n",
       "  })({\"width\": 600, \"height\": 450, \"background\": \"white\", \"config\": {\"title\": {\"fontWeight\": \"normal\", \"fontSize\": 36, \"anchor\": \"start\", \"font\": \"Lato\", \"offset\": 5}, \"axisX\": {\"grid\": false, \"labelFont\": \"Lato\", \"labelFontSize\": 16, \"labelAngle\": 0, \"labelPadding\": 10, \"ticks\": false, \"tickSize\": 5, \"title\": null, \"titleFont\": \"Lato\", \"titleFontSize\": 16, \"titleFontWeight\": \"normal\", \"titleY\": 30, \"titleX\": 280}, \"axisY\": {\"grid\": true, \"gridOpacity\": 1, \"labelFont\": \"Lato\", \"labelFontSize\": 16, \"labelLimit\": 100, \"labelAlign\": \"left\", \"labelPadding\": 20, \"ticks\": false, \"title\": null, \"titleFont\": \"Lato\", \"titleFontWeight\": \"normal\", \"titleFontSize\": 16, \"titleAlign\": \"left\", \"titleAngle\": 0, \"titleY\": -20, \"titleX\": -20, \"domainWidth\": 0}, \"view\": {\"strokeOpacity\": 0}}, \"layer\": [{\"data\": {\"name\": \"data-6ad6a784249d67150f13bf97409a14f9\"}, \"mark\": {\"type\": \"line\", \"interpolate\": \"basis\", \"opacity\": 1, \"size\": 9, \"strokeCap\": \"round\"}, \"encoding\": {\"color\": {\"type\": \"nominal\", \"field\": \"Hous_Den\", \"scale\": {\"domain\": [\"More than 75\", \"30 to 75\", \"20 to 30\", \"10 to 20\", \"5 to 10\", \"Less than 5\"], \"range\": [\"#b2182b\", \"#ef8a62\", \"#fddbc7\", \"#d1e5f0\", \"#67a9cf\", \"#2166ac\"]}, \"title\": \"Housing Units / sq. mile\"}, \"x\": {\"type\": \"ordinal\", \"axis\": {\"labelFontSize\": 26, \"labelOpacity\": 0.8, \"tickSize\": 10, \"ticks\": true, \"titleFontSize\": 28, \"values\": [2008, 2018]}, \"field\": \"Year\"}, \"y\": {\"type\": \"quantitative\", \"axis\": {\"format\": \"~s\", \"labelFontSize\": 26, \"labelOpacity\": 0.8, \"labelPadding\": 25, \"titleFontSize\": 28, \"titleOpacity\": 0.8, \"titleX\": -25, \"titleY\": -30, \"values\": [2000, 3000, 4000, 5000, 6000]}, \"field\": \"Med_Rent\", \"scale\": {\"domain\": [1000, 7000]}, \"title\": \"Counties grouped by housing density\"}}, \"title\": \"Monthly Renter Income\"}, {\"data\": {\"name\": \"data-7f77d1a2b856b3b124820d6201566dba\"}, \"mark\": {\"type\": \"text\", \"dx\": 32, \"dy\": 0, \"font\": \"lato\", \"fontSize\": 26, \"opacity\": 0.8}, \"encoding\": {\"text\": {\"type\": \"nominal\", \"field\": \"text\"}, \"x\": {\"type\": \"ordinal\", \"field\": \"x\"}, \"y\": {\"type\": \"quantitative\", \"field\": \"y\"}}}, {\"data\": {\"name\": \"data-2db18a0e087b01f6189b9e533332b37b\"}, \"mark\": {\"type\": \"text\", \"dx\": 345, \"dy\": -4, \"fontSize\": 11.5, \"fontWeight\": \"bold\", \"opacity\": 0.09}, \"encoding\": {\"text\": {\"type\": \"nominal\", \"field\": \"text\"}, \"x\": {\"type\": \"ordinal\", \"axis\": null, \"field\": \"x\"}, \"y\": {\"type\": \"quantitative\", \"axis\": null, \"field\": \"y\"}}}], \"$schema\": \"https://vega.github.io/schema/vega-lite/v4.0.0.json\", \"datasets\": {\"data-6ad6a784249d67150f13bf97409a14f9\": [{\"Year\": 2008, \"Hous_Den\": \"More than 75\", \"Med_Rent\": 2752.0, \"pct_chg\": -0.07308858201414614, \"Order\": 75}, {\"Year\": 2009, \"Hous_Den\": \"More than 75\", \"Med_Rent\": 2809.0, \"pct_chg\": 0.020712209302325535, \"Order\": 75}, {\"Year\": 2010, \"Hous_Den\": \"More than 75\", \"Med_Rent\": 2846.0, \"pct_chg\": 0.013171947312210719, \"Order\": 75}, {\"Year\": 2011, \"Hous_Den\": \"More than 75\", \"Med_Rent\": 2892.0, \"pct_chg\": 0.016163035839775075, \"Order\": 75}, {\"Year\": 2012, \"Hous_Den\": \"More than 75\", \"Med_Rent\": 2968.0, \"pct_chg\": 0.026279391424619547, \"Order\": 75}, {\"Year\": 2013, \"Hous_Den\": \"More than 75\", \"Med_Rent\": 3017.0, \"pct_chg\": 0.01650943396226423, \"Order\": 75}, {\"Year\": 2014, \"Hous_Den\": \"More than 75\", \"Med_Rent\": 3096.0, \"pct_chg\": 0.02618495193901227, \"Order\": 75}, {\"Year\": 2015, \"Hous_Den\": \"More than 75\", \"Med_Rent\": 3261.0, \"pct_chg\": 0.05329457364341095, \"Order\": 75}, {\"Year\": 2016, \"Hous_Den\": \"More than 75\", \"Med_Rent\": 3427.0, \"pct_chg\": 0.05090463048144733, \"Order\": 75}, {\"Year\": 2017, \"Hous_Den\": \"More than 75\", \"Med_Rent\": 3470.0, \"pct_chg\": 0.012547417566384667, \"Order\": 75}, {\"Year\": 2018, \"Hous_Den\": \"More than 75\", \"Med_Rent\": 3607.0, \"pct_chg\": 0.03948126801152729, \"Order\": 75}, {\"Year\": 2008, \"Hous_Den\": \"30 to 75\", \"Med_Rent\": 2311.0, \"pct_chg\": -0.15067989709665564, \"Order\": 75}, {\"Year\": 2009, \"Hous_Den\": \"30 to 75\", \"Med_Rent\": 2355.0, \"pct_chg\": 0.019039376893119853, \"Order\": 75}, {\"Year\": 2010, \"Hous_Den\": \"30 to 75\", \"Med_Rent\": 2359.0, \"pct_chg\": 0.001698513800424628, \"Order\": 75}, {\"Year\": 2011, \"Hous_Den\": \"30 to 75\", \"Med_Rent\": 2360.0, \"pct_chg\": 0.0004239084357777756, \"Order\": 75}, {\"Year\": 2012, \"Hous_Den\": \"30 to 75\", \"Med_Rent\": 2397.0, \"pct_chg\": 0.015677966101694807, \"Order\": 75}, {\"Year\": 2013, \"Hous_Den\": \"30 to 75\", \"Med_Rent\": 2437.0, \"pct_chg\": 0.016687526074259385, \"Order\": 75}, {\"Year\": 2014, \"Hous_Den\": \"30 to 75\", \"Med_Rent\": 2514.0, \"pct_chg\": 0.031596224866639266, \"Order\": 75}, {\"Year\": 2015, \"Hous_Den\": \"30 to 75\", \"Med_Rent\": 2606.0, \"pct_chg\": 0.0365950676213207, \"Order\": 75}, {\"Year\": 2016, \"Hous_Den\": \"30 to 75\", \"Med_Rent\": 2746.0, \"pct_chg\": 0.053722179585571794, \"Order\": 75}, {\"Year\": 2017, \"Hous_Den\": \"30 to 75\", \"Med_Rent\": 2780.455, \"pct_chg\": 0.05571740713765472, \"Order\": 75}, {\"Year\": 2018, \"Hous_Den\": \"30 to 75\", \"Med_Rent\": 2890.231, \"pct_chg\": 0.04035874439461873, \"Order\": 75}, {\"Year\": 2008, \"Hous_Den\": \"20 to 30\", \"Med_Rent\": 2031.0, \"pct_chg\": -0.2635968092820885, \"Order\": 30}, {\"Year\": 2009, \"Hous_Den\": \"20 to 30\", \"Med_Rent\": 2088.0, \"pct_chg\": 0.028064992614475592, \"Order\": 30}, {\"Year\": 2010, \"Hous_Den\": \"20 to 30\", \"Med_Rent\": 2098.0, \"pct_chg\": 0.00478927203065127, \"Order\": 30}, {\"Year\": 2011, \"Hous_Den\": \"20 to 30\", \"Med_Rent\": 2133.0, \"pct_chg\": 0.01668255481410874, \"Order\": 30}, {\"Year\": 2012, \"Hous_Den\": \"20 to 30\", \"Med_Rent\": 2204.0, \"pct_chg\": 0.03328645100797001, \"Order\": 30}, {\"Year\": 2013, \"Hous_Den\": \"20 to 30\", \"Med_Rent\": 2265.0, \"pct_chg\": 0.027676950998185124, \"Order\": 30}, {\"Year\": 2014, \"Hous_Den\": \"20 to 30\", \"Med_Rent\": 2331.0, \"pct_chg\": 0.029139072847682135, \"Order\": 30}, {\"Year\": 2015, \"Hous_Den\": \"20 to 30\", \"Med_Rent\": 2446.0, \"pct_chg\": 0.049335049335049286, \"Order\": 30}, {\"Year\": 2016, \"Hous_Den\": \"20 to 30\", \"Med_Rent\": 2513.0, \"pct_chg\": 0.027391659852820993, \"Order\": 30}, {\"Year\": 2017, \"Hous_Den\": \"20 to 30\", \"Med_Rent\": 2544.532, \"pct_chg\": 0.07401512136888178, \"Order\": 30}, {\"Year\": 2018, \"Hous_Den\": \"20 to 30\", \"Med_Rent\": 2644.993, \"pct_chg\": 0.008151167098925605, \"Order\": 30}, {\"Year\": 2008, \"Hous_Den\": \"10 to 20\", \"Med_Rent\": 1958.0, \"pct_chg\": null, \"Order\": 20}, {\"Year\": 2009, \"Hous_Den\": \"10 to 20\", \"Med_Rent\": 2026.0, \"pct_chg\": 0.03472931562819204, \"Order\": 20}, {\"Year\": 2010, \"Hous_Den\": \"10 to 20\", \"Med_Rent\": 2103.0, \"pct_chg\": 0.03800592300098726, \"Order\": 20}, {\"Year\": 2011, \"Hous_Den\": \"10 to 20\", \"Med_Rent\": 2081.0, \"pct_chg\": -0.010461245839277211, \"Order\": 20}, {\"Year\": 2012, \"Hous_Den\": \"10 to 20\", \"Med_Rent\": 2114.0, \"pct_chg\": 0.015857760691974976, \"Order\": 20}, {\"Year\": 2013, \"Hous_Den\": \"10 to 20\", \"Med_Rent\": 2153.0, \"pct_chg\": 0.018448438978240222, \"Order\": 20}, {\"Year\": 2014, \"Hous_Den\": \"10 to 20\", \"Med_Rent\": 2245.0, \"pct_chg\": 0.04273107292150491, \"Order\": 20}, {\"Year\": 2015, \"Hous_Den\": \"10 to 20\", \"Med_Rent\": 2325.0, \"pct_chg\": 0.03563474387527843, \"Order\": 20}, {\"Year\": 2016, \"Hous_Den\": \"10 to 20\", \"Med_Rent\": 2436.0, \"pct_chg\": 0.04774193548387107, \"Order\": 20}, {\"Year\": 2017, \"Hous_Den\": \"10 to 20\", \"Med_Rent\": 2466.566, \"pct_chg\": 0.1354679802955665, \"Order\": 20}, {\"Year\": 2018, \"Hous_Den\": \"10 to 20\", \"Med_Rent\": 2563.949, \"pct_chg\": -0.002892263195950817, \"Order\": 20}, {\"Year\": 2008, \"Hous_Den\": \"5 to 10\", \"Med_Rent\": 2046.0, \"pct_chg\": -0.3216180371352785, \"Order\": 10}, {\"Year\": 2009, \"Hous_Den\": \"5 to 10\", \"Med_Rent\": 2140.0, \"pct_chg\": 0.045943304007820096, \"Order\": 10}, {\"Year\": 2010, \"Hous_Den\": \"5 to 10\", \"Med_Rent\": 2183.0, \"pct_chg\": 0.02009345794392514, \"Order\": 10}, {\"Year\": 2011, \"Hous_Den\": \"5 to 10\", \"Med_Rent\": 2246.0, \"pct_chg\": 0.028859367842418715, \"Order\": 10}, {\"Year\": 2012, \"Hous_Den\": \"5 to 10\", \"Med_Rent\": 2263.0, \"pct_chg\": 0.0075690115761353205, \"Order\": 10}, {\"Year\": 2013, \"Hous_Den\": \"5 to 10\", \"Med_Rent\": 2289.0, \"pct_chg\": 0.011489173663278729, \"Order\": 10}, {\"Year\": 2014, \"Hous_Den\": \"5 to 10\", \"Med_Rent\": 2386.0, \"pct_chg\": 0.04237658366098729, \"Order\": 10}, {\"Year\": 2015, \"Hous_Den\": \"5 to 10\", \"Med_Rent\": 2536.0, \"pct_chg\": 0.0628667225481978, \"Order\": 10}, {\"Year\": 2016, \"Hous_Den\": \"5 to 10\", \"Med_Rent\": 2610.0, \"pct_chg\": 0.02917981072555209, \"Order\": 10}, {\"Year\": 2017, \"Hous_Den\": \"5 to 10\", \"Med_Rent\": 2642.749, \"pct_chg\": 0.1965517241379311, \"Order\": 10}, {\"Year\": 2018, \"Hous_Den\": \"5 to 10\", \"Med_Rent\": 2747.088, \"pct_chg\": -0.07845020813320525, \"Order\": 10}, {\"Year\": 2008, \"Hous_Den\": \"Less than 5\", \"Med_Rent\": 2368.0, \"pct_chg\": -0.17720639332870047, \"Order\": 5}, {\"Year\": 2009, \"Hous_Den\": \"Less than 5\", \"Med_Rent\": 2319.0, \"pct_chg\": -0.020692567567567544, \"Order\": 5}, {\"Year\": 2010, \"Hous_Den\": \"Less than 5\", \"Med_Rent\": 2381.0, \"pct_chg\": 0.026735661923242837, \"Order\": 5}, {\"Year\": 2011, \"Hous_Den\": \"Less than 5\", \"Med_Rent\": 2403.0, \"pct_chg\": 0.009239815203695878, \"Order\": 5}, {\"Year\": 2012, \"Hous_Den\": \"Less than 5\", \"Med_Rent\": 2487.0, \"pct_chg\": 0.03495630461922605, \"Order\": 5}, {\"Year\": 2013, \"Hous_Den\": \"Less than 5\", \"Med_Rent\": 2488.0, \"pct_chg\": 0.00040209087253728626, \"Order\": 5}, {\"Year\": 2014, \"Hous_Den\": \"Less than 5\", \"Med_Rent\": 2554.0, \"pct_chg\": 0.026527331189710512, \"Order\": 5}, {\"Year\": 2015, \"Hous_Den\": \"Less than 5\", \"Med_Rent\": 2665.0, \"pct_chg\": 0.04346123727486306, \"Order\": 5}, {\"Year\": 2016, \"Hous_Den\": \"Less than 5\", \"Med_Rent\": 2745.0, \"pct_chg\": 0.030018761726078758, \"Order\": 5}, {\"Year\": 2017, \"Hous_Den\": \"Less than 5\", \"Med_Rent\": 2779.443, \"pct_chg\": -0.006193078324225887, \"Order\": 5}, {\"Year\": 2018, \"Hous_Den\": \"Less than 5\", \"Med_Rent\": 2889.179, \"pct_chg\": 0.08834310850439886, \"Order\": 5}], \"data-7f77d1a2b856b3b124820d6201566dba\": [{\"x\": 2008, \"y\": 7000, \"text\": \"$7k per month\"}], \"data-2db18a0e087b01f6189b9e533332b37b\": [{\"x\": 2008, \"y\": 7000, \"text\": \"________________________________________________________________________\"}]}}, {\"mode\": \"vega-lite\"});\n",
       "</script>"
      ],
      "text/plain": [
       "alt.LayerChart(...)"
      ]
     },
     "execution_count": 77,
     "metadata": {},
     "output_type": "execute_result"
    }
   ],
   "source": [
    "rent_inc_hous_den_chart"
   ]
  },
  {
   "cell_type": "code",
   "execution_count": 21,
   "metadata": {},
   "outputs": [],
   "source": [
    "rent_hous_den_chart.save('rent_hous_den.png', scale_factor=3)"
   ]
  },
  {
   "cell_type": "markdown",
   "metadata": {},
   "source": [
    "---"
   ]
  },
  {
   "cell_type": "code",
   "execution_count": 13,
   "metadata": {},
   "outputs": [],
   "source": [
    "homeowner_inc_by_hous_den5 = pd.read_csv('homeowner_inc_by_hous_den_5yr_0816.csv')\n",
    "homeowner_inc_by_hous_den1 = pd.read_csv('homeowner_inc_by_hous_den_1yr_1018.csv')"
   ]
  },
  {
   "cell_type": "code",
   "execution_count": 14,
   "metadata": {},
   "outputs": [],
   "source": [
    "homeowner_inc_hous_den_df = pd.concat([homeowner_inc_by_hous_den5, homeowner_inc_by_hous_den1[homeowner_inc_by_hous_den1.Year > 2016]]).sort_values(['Hous_Den', 'Year']).reset_index(drop=True)"
   ]
  },
  {
   "cell_type": "code",
   "execution_count": 15,
   "metadata": {},
   "outputs": [
    {
     "data": {
      "text/html": [
       "<div>\n",
       "<style scoped>\n",
       "    .dataframe tbody tr th:only-of-type {\n",
       "        vertical-align: middle;\n",
       "    }\n",
       "\n",
       "    .dataframe tbody tr th {\n",
       "        vertical-align: top;\n",
       "    }\n",
       "\n",
       "    .dataframe thead th {\n",
       "        text-align: right;\n",
       "    }\n",
       "</style>\n",
       "<table border=\"1\" class=\"dataframe\">\n",
       "  <thead>\n",
       "    <tr style=\"text-align: right;\">\n",
       "      <th></th>\n",
       "      <th>Year</th>\n",
       "      <th>Hous_Den</th>\n",
       "      <th>Med_Mort</th>\n",
       "    </tr>\n",
       "  </thead>\n",
       "  <tbody>\n",
       "    <tr>\n",
       "      <th>0</th>\n",
       "      <td>2008</td>\n",
       "      <td>10 to 20</td>\n",
       "      <td>4051.0</td>\n",
       "    </tr>\n",
       "  </tbody>\n",
       "</table>\n",
       "</div>"
      ],
      "text/plain": [
       "   Year  Hous_Den  Med_Mort\n",
       "0  2008  10 to 20    4051.0"
      ]
     },
     "execution_count": 15,
     "metadata": {},
     "output_type": "execute_result"
    }
   ],
   "source": [
    "homeowner_inc_hous_den_df.head(1)"
   ]
  },
  {
   "cell_type": "markdown",
   "metadata": {},
   "source": [
    "*Adjusting 2017 & 2018 values for '10-25' & 'Less than 10' cols (since 1-yr data included few counties of low pop densities, resulting in distorted figures)"
   ]
  },
  {
   "cell_type": "code",
   "execution_count": 16,
   "metadata": {},
   "outputs": [],
   "source": [
    "homeowner_inc_hous_den_df['pct_chg'] = homeowner_inc_hous_den_df['Med_Mort'].pct_change()"
   ]
  },
  {
   "cell_type": "code",
   "execution_count": 17,
   "metadata": {},
   "outputs": [],
   "source": [
    "for year in [2017, 2018]:\n",
    "    yr_df = homeowner_inc_hous_den_df[homeowner_inc_hous_den_df.Year == year]\n",
    "    for typ in ['30 to 75', '20 to 30', '10 to 20', '5 to 10', 'Less than 5']:\n",
    "        index = yr_df[yr_df.Hous_Den == typ].index[0]\n",
    "        homeowner_inc_hous_den_df.loc[index, 'Med_Mort'] = round(homeowner_inc_hous_den_df['Med_Mort'][(homeowner_inc_hous_den_df.Year == year-1) & (homeowner_inc_hous_den_df.Hous_Den == typ)].iloc[0] + homeowner_inc_hous_den_df['Med_Mort'][(homeowner_inc_hous_den_df.Year == year-1) & (homeowner_inc_hous_den_df.Hous_Den == typ)].iloc[0] * homeowner_inc_hous_den_df.pct_chg[(homeowner_inc_hous_den_df.Year == year) & (homeowner_inc_hous_den_df.Hous_Den == 'More than 75')].iloc[0], 3)"
   ]
  },
  {
   "cell_type": "code",
   "execution_count": 18,
   "metadata": {},
   "outputs": [],
   "source": [
    "dic = {}\n",
    "for t in ['More than 75', '30 to 75', '20 to 30', '10 to 20', '5 to 10', 'Less than 5']:\n",
    "    dic[t] = t.split()[-1]"
   ]
  },
  {
   "cell_type": "code",
   "execution_count": 19,
   "metadata": {},
   "outputs": [],
   "source": [
    "homeowner_inc_hous_den_df['Order'] = homeowner_inc_hous_den_df.Hous_Den.map(dic).astype(int)"
   ]
  },
  {
   "cell_type": "code",
   "execution_count": 20,
   "metadata": {},
   "outputs": [],
   "source": [
    "homeowner_inc_hous_den_df = homeowner_inc_hous_den_df.sort_values(['Order', 'Hous_Den'], ascending=[False, False])"
   ]
  },
  {
   "cell_type": "code",
   "execution_count": 68,
   "metadata": {},
   "outputs": [],
   "source": [
    "homeowner_inc_hous_den = alt.Chart(homeowner_inc_hous_den_df, title='Monthly Homeowner Income').mark_line(size=9, opacity=1, strokeCap='round', interpolate='basis').encode(\n",
    "x=alt.X('Year:O', axis=alt.Axis(values=[2008, 2018], ticks=True, tickSize=10, titleFontSize=28, labelFontSize=26, labelOpacity=.8)),\n",
    "y=alt.Y('Med_Mort', title='Counties grouped by housing density', \n",
    "        scale=alt.Scale(domain=[1000, 7000]),\n",
    "        axis=alt.Axis(values=list(range(2000, 7000, 1000)), format='~s',\n",
    "                      titleX=-2, titleY=-30, titleFontSize=28, titleOpacity=.8,\n",
    "                      labelFontSize=26, labelOpacity=0, labelPadding=0)),\n",
    "color=alt.Color('Hous_Den', scale=alt.Scale(domain=list(homeowner_inc_hous_den_df.Hous_Den.unique()), \n",
    "                                             range=['#b2182b','#ef8a62','#fddbc7','#d1e5f0','#67a9cf','#2166ac']), \n",
    "                title='Housing Units / sq. mile')\n",
    ")\n",
    "\n",
    "y_text_df = pd.DataFrame({'x':[2008], 'y':[7000], 'text':['$7k per month']})\n",
    "y_text = alt.Chart(y_text_df).mark_text(dx=70, dy=0, fontSize=26, font='lato', opacity=.8).encode(x=alt.X('x:O'), y='y', text='text')\n",
    "line = alt.Chart(pd.DataFrame({'x':[2008], 'y':[7000], 'text':['_'*94]})).mark_text(dx=275, dy=-4, opacity=.09, fontSize=11.5, fontWeight='bold').encode(x=alt.X('x:O', axis=None), y=alt.Y('y', axis=None), text='text')\n",
    "\n",
    "\n",
    "homeowner_inc_hous_den_chart = (homeowner_inc_hous_den + line).properties(width=600, height=450)"
   ]
  },
  {
   "cell_type": "code",
   "execution_count": 69,
   "metadata": {},
   "outputs": [
    {
     "data": {
      "text/html": [
       "\n",
       "<div id=\"altair-viz-24\"></div>\n",
       "<script type=\"text/javascript\">\n",
       "  (function(spec, embedOpt){\n",
       "    const outputDiv = document.getElementById(\"altair-viz-24\");\n",
       "    const paths = {\n",
       "      \"vega\": \"https://cdn.jsdelivr.net/npm//vega@5?noext\",\n",
       "      \"vega-lib\": \"https://cdn.jsdelivr.net/npm//vega-lib?noext\",\n",
       "      \"vega-lite\": \"https://cdn.jsdelivr.net/npm//vega-lite@4.0.0?noext\",\n",
       "      \"vega-embed\": \"https://cdn.jsdelivr.net/npm//vega-embed@6?noext\",\n",
       "    };\n",
       "\n",
       "    function loadScript(lib) {\n",
       "      return new Promise(function(resolve, reject) {\n",
       "        var s = document.createElement('script');\n",
       "        s.src = paths[lib];\n",
       "        s.async = true;\n",
       "        s.onload = () => resolve(paths[lib]);\n",
       "        s.onerror = () => reject(`Error loading script: ${paths[lib]}`);\n",
       "        document.getElementsByTagName(\"head\")[0].appendChild(s);\n",
       "      });\n",
       "    }\n",
       "\n",
       "    function showError(err) {\n",
       "      outputDiv.innerHTML = `<div class=\"error\" style=\"color:red;\">${err}</div>`;\n",
       "      throw err;\n",
       "    }\n",
       "\n",
       "    function displayChart(vegaEmbed) {\n",
       "      vegaEmbed(outputDiv, spec, embedOpt)\n",
       "        .catch(err => showError(`Javascript Error: ${err.message}<br>This usually means there's a typo in your chart specification. See the javascript console for the full traceback.`));\n",
       "    }\n",
       "\n",
       "    if(typeof define === \"function\" && define.amd) {\n",
       "      requirejs.config({paths});\n",
       "      require([\"vega-embed\"], displayChart, err => showError(`Error loading script: ${err.message}`));\n",
       "    } else if (typeof vegaEmbed === \"function\") {\n",
       "      displayChart(vegaEmbed);\n",
       "    } else {\n",
       "      loadScript(\"vega\")\n",
       "        .then(() => loadScript(\"vega-lite\"))\n",
       "        .then(() => loadScript(\"vega-embed\"))\n",
       "        .catch(showError)\n",
       "        .then(() => displayChart(vegaEmbed));\n",
       "    }\n",
       "  })({\"width\": 600, \"height\": 400, \"background\": \"white\", \"config\": {\"title\": {\"fontWeight\": \"normal\", \"fontSize\": 36, \"anchor\": \"start\", \"font\": \"Lato\", \"offset\": 5}, \"axisX\": {\"grid\": false, \"labelFont\": \"Lato\", \"labelFontSize\": 16, \"labelAngle\": 0, \"labelPadding\": 10, \"ticks\": false, \"tickSize\": 5, \"title\": null, \"titleFont\": \"Lato\", \"titleFontSize\": 16, \"titleFontWeight\": \"normal\", \"titleY\": 30, \"titleX\": 280}, \"axisY\": {\"grid\": true, \"gridOpacity\": 1, \"labelFont\": \"Lato\", \"labelFontSize\": 16, \"labelLimit\": 100, \"labelAlign\": \"left\", \"labelPadding\": 20, \"ticks\": false, \"title\": null, \"titleFont\": \"Lato\", \"titleFontWeight\": \"normal\", \"titleFontSize\": 16, \"titleAlign\": \"left\", \"titleAngle\": 0, \"titleY\": -20, \"titleX\": -20, \"domainWidth\": 0}, \"view\": {\"strokeOpacity\": 0}, \"legend\": {\"labelFont\": \"Lato\", \"labelFontSize\": 26, \"labelOpacity\": 0.85, \"symbolSize\": 400, \"symbolStrokeWidth\": 9, \"titleFont\": \"Lato\", \"titleFontSize\": 26, \"titleLimit\": 300, \"titleOpacity\": 0.85}}, \"hconcat\": [{\"layer\": [{\"data\": {\"name\": \"data-6ad6a784249d67150f13bf97409a14f9\"}, \"mark\": {\"type\": \"line\", \"interpolate\": \"basis\", \"opacity\": 1, \"size\": 9, \"strokeCap\": \"round\"}, \"encoding\": {\"color\": {\"type\": \"nominal\", \"field\": \"Hous_Den\", \"scale\": {\"domain\": [\"More than 75\", \"30 to 75\", \"20 to 30\", \"10 to 20\", \"5 to 10\", \"Less than 5\"], \"range\": [\"#b2182b\", \"#ef8a62\", \"#fddbc7\", \"#d1e5f0\", \"#67a9cf\", \"#2166ac\"]}, \"title\": \"Housing Units / sq. mile\"}, \"x\": {\"type\": \"ordinal\", \"axis\": {\"labelFontSize\": 26, \"labelOpacity\": 0.8, \"tickSize\": 10, \"ticks\": true, \"titleFontSize\": 28, \"values\": [2008, 2018]}, \"field\": \"Year\"}, \"y\": {\"type\": \"quantitative\", \"axis\": {\"format\": \"~s\", \"labelFontSize\": 26, \"labelOpacity\": 0.8, \"labelPadding\": 25, \"titleFontSize\": 28, \"titleOpacity\": 0.8, \"titleX\": -25, \"titleY\": -30, \"values\": [2000, 3000, 4000, 5000, 6000]}, \"field\": \"Med_Rent\", \"scale\": {\"domain\": [1000, 7000]}, \"title\": \"Counties grouped by housing density\"}}, \"title\": \"Monthly Renter Income\"}, {\"data\": {\"name\": \"data-7f77d1a2b856b3b124820d6201566dba\"}, \"mark\": {\"type\": \"text\", \"dx\": 32, \"dy\": 0, \"font\": \"lato\", \"fontSize\": 26, \"opacity\": 0.8}, \"encoding\": {\"text\": {\"type\": \"nominal\", \"field\": \"text\"}, \"x\": {\"type\": \"ordinal\", \"field\": \"x\"}, \"y\": {\"type\": \"quantitative\", \"field\": \"y\"}}}, {\"data\": {\"name\": \"data-2db18a0e087b01f6189b9e533332b37b\"}, \"mark\": {\"type\": \"text\", \"dx\": 345, \"dy\": -4, \"fontSize\": 11.5, \"fontWeight\": \"bold\", \"opacity\": 0.09}, \"encoding\": {\"text\": {\"type\": \"nominal\", \"field\": \"text\"}, \"x\": {\"type\": \"ordinal\", \"axis\": null, \"field\": \"x\"}, \"y\": {\"type\": \"quantitative\", \"axis\": null, \"field\": \"y\"}}}], \"height\": 450, \"width\": 600}, {\"layer\": [{\"data\": {\"name\": \"data-031b65b667b496a28542c93ae8f96f43\"}, \"mark\": {\"type\": \"line\", \"interpolate\": \"basis\", \"opacity\": 1, \"size\": 9, \"strokeCap\": \"round\"}, \"encoding\": {\"color\": {\"type\": \"nominal\", \"field\": \"Hous_Den\", \"scale\": {\"domain\": [\"More than 75\", \"30 to 75\", \"20 to 30\", \"10 to 20\", \"5 to 10\", \"Less than 5\"], \"range\": [\"#b2182b\", \"#ef8a62\", \"#fddbc7\", \"#d1e5f0\", \"#67a9cf\", \"#2166ac\"]}, \"title\": \"Housing Units / sq. mile\"}, \"x\": {\"type\": \"ordinal\", \"axis\": {\"labelFontSize\": 26, \"labelOpacity\": 0.8, \"tickSize\": 10, \"ticks\": true, \"titleFontSize\": 28, \"values\": [2008, 2018]}, \"field\": \"Year\"}, \"y\": {\"type\": \"quantitative\", \"axis\": {\"format\": \"~s\", \"labelFontSize\": 26, \"labelOpacity\": 0, \"labelPadding\": 0, \"titleFontSize\": 28, \"titleOpacity\": 0.8, \"titleX\": -2, \"titleY\": -30, \"values\": [2000, 3000, 4000, 5000, 6000]}, \"field\": \"Med_Mort\", \"scale\": {\"domain\": [1000, 7000]}, \"title\": \"Counties grouped by housing density\"}}, \"title\": \"Monthly Homeowner Income\"}, {\"data\": {\"name\": \"data-ce6c13907655dace81867d6bd13429cc\"}, \"mark\": {\"type\": \"text\", \"dx\": 275, \"dy\": -4, \"fontSize\": 11.5, \"fontWeight\": \"bold\", \"opacity\": 0.09}, \"encoding\": {\"text\": {\"type\": \"nominal\", \"field\": \"text\"}, \"x\": {\"type\": \"ordinal\", \"axis\": null, \"field\": \"x\"}, \"y\": {\"type\": \"quantitative\", \"axis\": null, \"field\": \"y\"}}}], \"height\": 450, \"width\": 600}], \"$schema\": \"https://vega.github.io/schema/vega-lite/v4.0.0.json\", \"datasets\": {\"data-6ad6a784249d67150f13bf97409a14f9\": [{\"Year\": 2008, \"Hous_Den\": \"More than 75\", \"Med_Rent\": 2752.0, \"pct_chg\": -0.07308858201414614, \"Order\": 75}, {\"Year\": 2009, \"Hous_Den\": \"More than 75\", \"Med_Rent\": 2809.0, \"pct_chg\": 0.020712209302325535, \"Order\": 75}, {\"Year\": 2010, \"Hous_Den\": \"More than 75\", \"Med_Rent\": 2846.0, \"pct_chg\": 0.013171947312210719, \"Order\": 75}, {\"Year\": 2011, \"Hous_Den\": \"More than 75\", \"Med_Rent\": 2892.0, \"pct_chg\": 0.016163035839775075, \"Order\": 75}, {\"Year\": 2012, \"Hous_Den\": \"More than 75\", \"Med_Rent\": 2968.0, \"pct_chg\": 0.026279391424619547, \"Order\": 75}, {\"Year\": 2013, \"Hous_Den\": \"More than 75\", \"Med_Rent\": 3017.0, \"pct_chg\": 0.01650943396226423, \"Order\": 75}, {\"Year\": 2014, \"Hous_Den\": \"More than 75\", \"Med_Rent\": 3096.0, \"pct_chg\": 0.02618495193901227, \"Order\": 75}, {\"Year\": 2015, \"Hous_Den\": \"More than 75\", \"Med_Rent\": 3261.0, \"pct_chg\": 0.05329457364341095, \"Order\": 75}, {\"Year\": 2016, \"Hous_Den\": \"More than 75\", \"Med_Rent\": 3427.0, \"pct_chg\": 0.05090463048144733, \"Order\": 75}, {\"Year\": 2017, \"Hous_Den\": \"More than 75\", \"Med_Rent\": 3470.0, \"pct_chg\": 0.012547417566384667, \"Order\": 75}, {\"Year\": 2018, \"Hous_Den\": \"More than 75\", \"Med_Rent\": 3607.0, \"pct_chg\": 0.03948126801152729, \"Order\": 75}, {\"Year\": 2008, \"Hous_Den\": \"30 to 75\", \"Med_Rent\": 2311.0, \"pct_chg\": -0.15067989709665564, \"Order\": 75}, {\"Year\": 2009, \"Hous_Den\": \"30 to 75\", \"Med_Rent\": 2355.0, \"pct_chg\": 0.019039376893119853, \"Order\": 75}, {\"Year\": 2010, \"Hous_Den\": \"30 to 75\", \"Med_Rent\": 2359.0, \"pct_chg\": 0.001698513800424628, \"Order\": 75}, {\"Year\": 2011, \"Hous_Den\": \"30 to 75\", \"Med_Rent\": 2360.0, \"pct_chg\": 0.0004239084357777756, \"Order\": 75}, {\"Year\": 2012, \"Hous_Den\": \"30 to 75\", \"Med_Rent\": 2397.0, \"pct_chg\": 0.015677966101694807, \"Order\": 75}, {\"Year\": 2013, \"Hous_Den\": \"30 to 75\", \"Med_Rent\": 2437.0, \"pct_chg\": 0.016687526074259385, \"Order\": 75}, {\"Year\": 2014, \"Hous_Den\": \"30 to 75\", \"Med_Rent\": 2514.0, \"pct_chg\": 0.031596224866639266, \"Order\": 75}, {\"Year\": 2015, \"Hous_Den\": \"30 to 75\", \"Med_Rent\": 2606.0, \"pct_chg\": 0.0365950676213207, \"Order\": 75}, {\"Year\": 2016, \"Hous_Den\": \"30 to 75\", \"Med_Rent\": 2746.0, \"pct_chg\": 0.053722179585571794, \"Order\": 75}, {\"Year\": 2017, \"Hous_Den\": \"30 to 75\", \"Med_Rent\": 2780.455, \"pct_chg\": 0.05571740713765472, \"Order\": 75}, {\"Year\": 2018, \"Hous_Den\": \"30 to 75\", \"Med_Rent\": 2890.231, \"pct_chg\": 0.04035874439461873, \"Order\": 75}, {\"Year\": 2008, \"Hous_Den\": \"20 to 30\", \"Med_Rent\": 2031.0, \"pct_chg\": -0.2635968092820885, \"Order\": 30}, {\"Year\": 2009, \"Hous_Den\": \"20 to 30\", \"Med_Rent\": 2088.0, \"pct_chg\": 0.028064992614475592, \"Order\": 30}, {\"Year\": 2010, \"Hous_Den\": \"20 to 30\", \"Med_Rent\": 2098.0, \"pct_chg\": 0.00478927203065127, \"Order\": 30}, {\"Year\": 2011, \"Hous_Den\": \"20 to 30\", \"Med_Rent\": 2133.0, \"pct_chg\": 0.01668255481410874, \"Order\": 30}, {\"Year\": 2012, \"Hous_Den\": \"20 to 30\", \"Med_Rent\": 2204.0, \"pct_chg\": 0.03328645100797001, \"Order\": 30}, {\"Year\": 2013, \"Hous_Den\": \"20 to 30\", \"Med_Rent\": 2265.0, \"pct_chg\": 0.027676950998185124, \"Order\": 30}, {\"Year\": 2014, \"Hous_Den\": \"20 to 30\", \"Med_Rent\": 2331.0, \"pct_chg\": 0.029139072847682135, \"Order\": 30}, {\"Year\": 2015, \"Hous_Den\": \"20 to 30\", \"Med_Rent\": 2446.0, \"pct_chg\": 0.049335049335049286, \"Order\": 30}, {\"Year\": 2016, \"Hous_Den\": \"20 to 30\", \"Med_Rent\": 2513.0, \"pct_chg\": 0.027391659852820993, \"Order\": 30}, {\"Year\": 2017, \"Hous_Den\": \"20 to 30\", \"Med_Rent\": 2544.532, \"pct_chg\": 0.07401512136888178, \"Order\": 30}, {\"Year\": 2018, \"Hous_Den\": \"20 to 30\", \"Med_Rent\": 2644.993, \"pct_chg\": 0.008151167098925605, \"Order\": 30}, {\"Year\": 2008, \"Hous_Den\": \"10 to 20\", \"Med_Rent\": 1958.0, \"pct_chg\": null, \"Order\": 20}, {\"Year\": 2009, \"Hous_Den\": \"10 to 20\", \"Med_Rent\": 2026.0, \"pct_chg\": 0.03472931562819204, \"Order\": 20}, {\"Year\": 2010, \"Hous_Den\": \"10 to 20\", \"Med_Rent\": 2103.0, \"pct_chg\": 0.03800592300098726, \"Order\": 20}, {\"Year\": 2011, \"Hous_Den\": \"10 to 20\", \"Med_Rent\": 2081.0, \"pct_chg\": -0.010461245839277211, \"Order\": 20}, {\"Year\": 2012, \"Hous_Den\": \"10 to 20\", \"Med_Rent\": 2114.0, \"pct_chg\": 0.015857760691974976, \"Order\": 20}, {\"Year\": 2013, \"Hous_Den\": \"10 to 20\", \"Med_Rent\": 2153.0, \"pct_chg\": 0.018448438978240222, \"Order\": 20}, {\"Year\": 2014, \"Hous_Den\": \"10 to 20\", \"Med_Rent\": 2245.0, \"pct_chg\": 0.04273107292150491, \"Order\": 20}, {\"Year\": 2015, \"Hous_Den\": \"10 to 20\", \"Med_Rent\": 2325.0, \"pct_chg\": 0.03563474387527843, \"Order\": 20}, {\"Year\": 2016, \"Hous_Den\": \"10 to 20\", \"Med_Rent\": 2436.0, \"pct_chg\": 0.04774193548387107, \"Order\": 20}, {\"Year\": 2017, \"Hous_Den\": \"10 to 20\", \"Med_Rent\": 2466.566, \"pct_chg\": 0.1354679802955665, \"Order\": 20}, {\"Year\": 2018, \"Hous_Den\": \"10 to 20\", \"Med_Rent\": 2563.949, \"pct_chg\": -0.002892263195950817, \"Order\": 20}, {\"Year\": 2008, \"Hous_Den\": \"5 to 10\", \"Med_Rent\": 2046.0, \"pct_chg\": -0.3216180371352785, \"Order\": 10}, {\"Year\": 2009, \"Hous_Den\": \"5 to 10\", \"Med_Rent\": 2140.0, \"pct_chg\": 0.045943304007820096, \"Order\": 10}, {\"Year\": 2010, \"Hous_Den\": \"5 to 10\", \"Med_Rent\": 2183.0, \"pct_chg\": 0.02009345794392514, \"Order\": 10}, {\"Year\": 2011, \"Hous_Den\": \"5 to 10\", \"Med_Rent\": 2246.0, \"pct_chg\": 0.028859367842418715, \"Order\": 10}, {\"Year\": 2012, \"Hous_Den\": \"5 to 10\", \"Med_Rent\": 2263.0, \"pct_chg\": 0.0075690115761353205, \"Order\": 10}, {\"Year\": 2013, \"Hous_Den\": \"5 to 10\", \"Med_Rent\": 2289.0, \"pct_chg\": 0.011489173663278729, \"Order\": 10}, {\"Year\": 2014, \"Hous_Den\": \"5 to 10\", \"Med_Rent\": 2386.0, \"pct_chg\": 0.04237658366098729, \"Order\": 10}, {\"Year\": 2015, \"Hous_Den\": \"5 to 10\", \"Med_Rent\": 2536.0, \"pct_chg\": 0.0628667225481978, \"Order\": 10}, {\"Year\": 2016, \"Hous_Den\": \"5 to 10\", \"Med_Rent\": 2610.0, \"pct_chg\": 0.02917981072555209, \"Order\": 10}, {\"Year\": 2017, \"Hous_Den\": \"5 to 10\", \"Med_Rent\": 2642.749, \"pct_chg\": 0.1965517241379311, \"Order\": 10}, {\"Year\": 2018, \"Hous_Den\": \"5 to 10\", \"Med_Rent\": 2747.088, \"pct_chg\": -0.07845020813320525, \"Order\": 10}, {\"Year\": 2008, \"Hous_Den\": \"Less than 5\", \"Med_Rent\": 2368.0, \"pct_chg\": -0.17720639332870047, \"Order\": 5}, {\"Year\": 2009, \"Hous_Den\": \"Less than 5\", \"Med_Rent\": 2319.0, \"pct_chg\": -0.020692567567567544, \"Order\": 5}, {\"Year\": 2010, \"Hous_Den\": \"Less than 5\", \"Med_Rent\": 2381.0, \"pct_chg\": 0.026735661923242837, \"Order\": 5}, {\"Year\": 2011, \"Hous_Den\": \"Less than 5\", \"Med_Rent\": 2403.0, \"pct_chg\": 0.009239815203695878, \"Order\": 5}, {\"Year\": 2012, \"Hous_Den\": \"Less than 5\", \"Med_Rent\": 2487.0, \"pct_chg\": 0.03495630461922605, \"Order\": 5}, {\"Year\": 2013, \"Hous_Den\": \"Less than 5\", \"Med_Rent\": 2488.0, \"pct_chg\": 0.00040209087253728626, \"Order\": 5}, {\"Year\": 2014, \"Hous_Den\": \"Less than 5\", \"Med_Rent\": 2554.0, \"pct_chg\": 0.026527331189710512, \"Order\": 5}, {\"Year\": 2015, \"Hous_Den\": \"Less than 5\", \"Med_Rent\": 2665.0, \"pct_chg\": 0.04346123727486306, \"Order\": 5}, {\"Year\": 2016, \"Hous_Den\": \"Less than 5\", \"Med_Rent\": 2745.0, \"pct_chg\": 0.030018761726078758, \"Order\": 5}, {\"Year\": 2017, \"Hous_Den\": \"Less than 5\", \"Med_Rent\": 2779.443, \"pct_chg\": -0.006193078324225887, \"Order\": 5}, {\"Year\": 2018, \"Hous_Den\": \"Less than 5\", \"Med_Rent\": 2889.179, \"pct_chg\": 0.08834310850439886, \"Order\": 5}], \"data-7f77d1a2b856b3b124820d6201566dba\": [{\"x\": 2008, \"y\": 7000, \"text\": \"$7k per month\"}], \"data-2db18a0e087b01f6189b9e533332b37b\": [{\"x\": 2008, \"y\": 7000, \"text\": \"________________________________________________________________________\"}], \"data-031b65b667b496a28542c93ae8f96f43\": [{\"Year\": 2008, \"Hous_Den\": \"More than 75\", \"Med_Mort\": 5902.0, \"pct_chg\": 0.3773628938156359, \"Order\": 75}, {\"Year\": 2009, \"Hous_Den\": \"More than 75\", \"Med_Mort\": 6039.0, \"pct_chg\": 0.023212470349034175, \"Order\": 75}, {\"Year\": 2010, \"Hous_Den\": \"More than 75\", \"Med_Mort\": 6145.0, \"pct_chg\": 0.017552574929624143, \"Order\": 75}, {\"Year\": 2011, \"Hous_Den\": \"More than 75\", \"Med_Mort\": 6172.0, \"pct_chg\": 0.004393816110659143, \"Order\": 75}, {\"Year\": 2012, \"Hous_Den\": \"More than 75\", \"Med_Mort\": 6236.0, \"pct_chg\": 0.010369410239792654, \"Order\": 75}, {\"Year\": 2013, \"Hous_Den\": \"More than 75\", \"Med_Mort\": 6302.0, \"pct_chg\": 0.010583707504810747, \"Order\": 75}, {\"Year\": 2014, \"Hous_Den\": \"More than 75\", \"Med_Mort\": 6464.0, \"pct_chg\": 0.025706125039669958, \"Order\": 75}, {\"Year\": 2015, \"Hous_Den\": \"More than 75\", \"Med_Mort\": 6689.0, \"pct_chg\": 0.034808168316831756, \"Order\": 75}, {\"Year\": 2016, \"Hous_Den\": \"More than 75\", \"Med_Mort\": 6949.0, \"pct_chg\": 0.03886978621617576, \"Order\": 75}, {\"Year\": 2017, \"Hous_Den\": \"More than 75\", \"Med_Mort\": 6839.0, \"pct_chg\": -0.01582961577205355, \"Order\": 75}, {\"Year\": 2018, \"Hous_Den\": \"More than 75\", \"Med_Mort\": 7050.0, \"pct_chg\": 0.030852463810498554, \"Order\": 75}, {\"Year\": 2008, \"Hous_Den\": \"30 to 75\", \"Med_Mort\": 4751.0, \"pct_chg\": -0.09141327213616368, \"Order\": 75}, {\"Year\": 2009, \"Hous_Den\": \"30 to 75\", \"Med_Mort\": 4906.0, \"pct_chg\": 0.03262471058724481, \"Order\": 75}, {\"Year\": 2010, \"Hous_Den\": \"30 to 75\", \"Med_Mort\": 4913.0, \"pct_chg\": 0.0014268242967794276, \"Order\": 75}, {\"Year\": 2011, \"Hous_Den\": \"30 to 75\", \"Med_Mort\": 4928.0, \"pct_chg\": 0.003053124363932458, \"Order\": 75}, {\"Year\": 2012, \"Hous_Den\": \"30 to 75\", \"Med_Mort\": 4952.0, \"pct_chg\": 0.004870129870129913, \"Order\": 75}, {\"Year\": 2013, \"Hous_Den\": \"30 to 75\", \"Med_Mort\": 5023.0, \"pct_chg\": 0.01433764135702753, \"Order\": 75}, {\"Year\": 2014, \"Hous_Den\": \"30 to 75\", \"Med_Mort\": 5090.0, \"pct_chg\": 0.01333864224566983, \"Order\": 75}, {\"Year\": 2015, \"Hous_Den\": \"30 to 75\", \"Med_Mort\": 5285.0, \"pct_chg\": 0.03831041257367396, \"Order\": 75}, {\"Year\": 2016, \"Hous_Den\": \"30 to 75\", \"Med_Mort\": 5479.0, \"pct_chg\": 0.036707663197729445, \"Order\": 75}, {\"Year\": 2017, \"Hous_Den\": \"30 to 75\", \"Med_Mort\": 5392.27, \"pct_chg\": 0.012776054024457029, \"Order\": 75}, {\"Year\": 2018, \"Hous_Den\": \"30 to 75\", \"Med_Mort\": 5558.635, \"pct_chg\": 0.054964858533069094, \"Order\": 75}, {\"Year\": 2008, \"Hous_Den\": \"20 to 30\", \"Med_Mort\": 4217.0, \"pct_chg\": -0.2314561691270275, \"Order\": 30}, {\"Year\": 2009, \"Hous_Den\": \"20 to 30\", \"Med_Mort\": 4324.0, \"pct_chg\": 0.025373488261797528, \"Order\": 30}, {\"Year\": 2010, \"Hous_Den\": \"20 to 30\", \"Med_Mort\": 4377.0, \"pct_chg\": 0.01225716928769649, \"Order\": 30}, {\"Year\": 2011, \"Hous_Den\": \"20 to 30\", \"Med_Mort\": 4389.0, \"pct_chg\": 0.002741603838245288, \"Order\": 30}, {\"Year\": 2012, \"Hous_Den\": \"20 to 30\", \"Med_Mort\": 4450.0, \"pct_chg\": 0.013898382319434965, \"Order\": 30}, {\"Year\": 2013, \"Hous_Den\": \"20 to 30\", \"Med_Mort\": 4498.0, \"pct_chg\": 0.010786516853932504, \"Order\": 30}, {\"Year\": 2014, \"Hous_Den\": \"20 to 30\", \"Med_Mort\": 4621.0, \"pct_chg\": 0.027345486883059156, \"Order\": 30}, {\"Year\": 2015, \"Hous_Den\": \"20 to 30\", \"Med_Mort\": 4813.0, \"pct_chg\": 0.04154944817139139, \"Order\": 30}, {\"Year\": 2016, \"Hous_Den\": \"20 to 30\", \"Med_Mort\": 4997.0, \"pct_chg\": 0.03822979430708506, \"Order\": 30}, {\"Year\": 2017, \"Hous_Den\": \"20 to 30\", \"Med_Mort\": 4917.899, \"pct_chg\": 0.08385031018611167, \"Order\": 30}, {\"Year\": 2018, \"Hous_Den\": \"20 to 30\", \"Med_Mort\": 5069.628, \"pct_chg\": -0.0345273264401772, \"Order\": 30}, {\"Year\": 2008, \"Hous_Den\": \"10 to 20\", \"Med_Mort\": 4051.0, \"pct_chg\": null, \"Order\": 20}, {\"Year\": 2009, \"Hous_Den\": \"10 to 20\", \"Med_Mort\": 4161.0, \"pct_chg\": 0.027153789187854827, \"Order\": 20}, {\"Year\": 2010, \"Hous_Den\": \"10 to 20\", \"Med_Mort\": 4207.0, \"pct_chg\": 0.011055034847392564, \"Order\": 20}, {\"Year\": 2011, \"Hous_Den\": \"10 to 20\", \"Med_Mort\": 4244.0, \"pct_chg\": 0.008794865700023857, \"Order\": 20}, {\"Year\": 2012, \"Hous_Den\": \"10 to 20\", \"Med_Mort\": 4286.0, \"pct_chg\": 0.009896324222431696, \"Order\": 20}, {\"Year\": 2013, \"Hous_Den\": \"10 to 20\", \"Med_Mort\": 4301.0, \"pct_chg\": 0.0034997666822211837, \"Order\": 20}, {\"Year\": 2014, \"Hous_Den\": \"10 to 20\", \"Med_Mort\": 4434.0, \"pct_chg\": 0.0309230411532202, \"Order\": 20}, {\"Year\": 2015, \"Hous_Den\": \"10 to 20\", \"Med_Mort\": 4544.0, \"pct_chg\": 0.02480829950383412, \"Order\": 20}, {\"Year\": 2016, \"Hous_Den\": \"10 to 20\", \"Med_Mort\": 4728.0, \"pct_chg\": 0.040492957746478764, \"Order\": 20}, {\"Year\": 2017, \"Hous_Den\": \"10 to 20\", \"Med_Mort\": 4653.158, \"pct_chg\": 0.08629441624365475, \"Order\": 20}, {\"Year\": 2018, \"Hous_Den\": \"10 to 20\", \"Med_Mort\": 4796.719, \"pct_chg\": 0.06834112149532712, \"Order\": 20}, {\"Year\": 2008, \"Hous_Den\": \"5 to 10\", \"Med_Mort\": 3931.0, \"pct_chg\": -0.3284933378886231, \"Order\": 10}, {\"Year\": 2009, \"Hous_Den\": \"5 to 10\", \"Med_Mort\": 4120.0, \"pct_chg\": 0.04807936911727295, \"Order\": 10}, {\"Year\": 2010, \"Hous_Den\": \"5 to 10\", \"Med_Mort\": 4133.0, \"pct_chg\": 0.0031553398058252746, \"Order\": 10}, {\"Year\": 2011, \"Hous_Den\": \"5 to 10\", \"Med_Mort\": 4202.0, \"pct_chg\": 0.01669489474957664, \"Order\": 10}, {\"Year\": 2012, \"Hous_Den\": \"5 to 10\", \"Med_Mort\": 4250.0, \"pct_chg\": 0.011423131841979961, \"Order\": 10}, {\"Year\": 2013, \"Hous_Den\": \"5 to 10\", \"Med_Mort\": 4324.0, \"pct_chg\": 0.01741176470588246, \"Order\": 10}, {\"Year\": 2014, \"Hous_Den\": \"5 to 10\", \"Med_Mort\": 4358.0, \"pct_chg\": 0.007863089731729778, \"Order\": 10}, {\"Year\": 2015, \"Hous_Den\": \"5 to 10\", \"Med_Mort\": 4543.0, \"pct_chg\": 0.0424506654428638, \"Order\": 10}, {\"Year\": 2016, \"Hous_Den\": \"5 to 10\", \"Med_Mort\": 4702.0, \"pct_chg\": 0.03499889940567913, \"Order\": 10}, {\"Year\": 2017, \"Hous_Den\": \"5 to 10\", \"Med_Mort\": 4627.569, \"pct_chg\": 0.1454700127605275, \"Order\": 10}, {\"Year\": 2018, \"Hous_Den\": \"5 to 10\", \"Med_Mort\": 4770.341, \"pct_chg\": -0.18919420720386182, \"Order\": 10}, {\"Year\": 2008, \"Hous_Den\": \"Less than 5\", \"Med_Mort\": 4069.0, \"pct_chg\": -0.06823906572017402, \"Order\": 5}, {\"Year\": 2009, \"Hous_Den\": \"Less than 5\", \"Med_Mort\": 4155.0, \"pct_chg\": 0.0211354141066602, \"Order\": 5}, {\"Year\": 2010, \"Hous_Den\": \"Less than 5\", \"Med_Mort\": 4177.0, \"pct_chg\": 0.005294825511432011, \"Order\": 5}, {\"Year\": 2011, \"Hous_Den\": \"Less than 5\", \"Med_Mort\": 4228.0, \"pct_chg\": 0.01220971989466113, \"Order\": 5}, {\"Year\": 2012, \"Hous_Den\": \"Less than 5\", \"Med_Mort\": 4353.0, \"pct_chg\": 0.029564806054872328, \"Order\": 5}, {\"Year\": 2013, \"Hous_Den\": \"Less than 5\", \"Med_Mort\": 4364.0, \"pct_chg\": 0.0025269928784745765, \"Order\": 5}, {\"Year\": 2014, \"Hous_Den\": \"Less than 5\", \"Med_Mort\": 4523.0, \"pct_chg\": 0.03643446379468385, \"Order\": 5}, {\"Year\": 2015, \"Hous_Den\": \"Less than 5\", \"Med_Mort\": 4669.0, \"pct_chg\": 0.03227946053504316, \"Order\": 5}, {\"Year\": 2016, \"Hous_Den\": \"Less than 5\", \"Med_Mort\": 4809.0, \"pct_chg\": 0.02998500749625177, \"Order\": 5}, {\"Year\": 2017, \"Hous_Den\": \"Less than 5\", \"Med_Mort\": 4732.875, \"pct_chg\": -0.11790393013100442, \"Order\": 5}, {\"Year\": 2018, \"Hous_Den\": \"Less than 5\", \"Med_Mort\": 4878.896, \"pct_chg\": 0.010136727958510061, \"Order\": 5}], \"data-ce6c13907655dace81867d6bd13429cc\": [{\"x\": 2008, \"y\": 7000, \"text\": \"______________________________________________________________________________________________\"}]}}, {\"mode\": \"vega-lite\"});\n",
       "</script>"
      ],
      "text/plain": [
       "alt.HConcatChart(...)"
      ]
     },
     "execution_count": 69,
     "metadata": {},
     "output_type": "execute_result"
    }
   ],
   "source": [
    "comb_hous_den_chart = (rent_inc_hous_den_chart | homeowner_inc_hous_den_chart).configure_legend(titleFont='Lato', titleFontSize=26, titleOpacity=.85, titleLimit=300, labelFont='Lato', labelFontSize=26, labelOpacity=.85, symbolSize=400, symbolStrokeWidth=9)\n",
    "comb_hous_den_chart"
   ]
  },
  {
   "cell_type": "code",
   "execution_count": 70,
   "metadata": {},
   "outputs": [],
   "source": [
    "comb_hous_den_chart.save('comb_hous_den.svg')"
   ]
  },
  {
   "cell_type": "code",
   "execution_count": 121,
   "metadata": {
    "collapsed": true,
    "jupyter": {
     "outputs_hidden": true,
     "source_hidden": true
    }
   },
   "outputs": [
    {
     "data": {
      "text/html": [
       "\n",
       "<div id=\"altair-viz-38\"></div>\n",
       "<script type=\"text/javascript\">\n",
       "  (function(spec, embedOpt){\n",
       "    const outputDiv = document.getElementById(\"altair-viz-38\");\n",
       "    const paths = {\n",
       "      \"vega\": \"https://cdn.jsdelivr.net/npm//vega@5?noext\",\n",
       "      \"vega-lib\": \"https://cdn.jsdelivr.net/npm//vega-lib?noext\",\n",
       "      \"vega-lite\": \"https://cdn.jsdelivr.net/npm//vega-lite@4.0.0?noext\",\n",
       "      \"vega-embed\": \"https://cdn.jsdelivr.net/npm//vega-embed@6?noext\",\n",
       "    };\n",
       "\n",
       "    function loadScript(lib) {\n",
       "      return new Promise(function(resolve, reject) {\n",
       "        var s = document.createElement('script');\n",
       "        s.src = paths[lib];\n",
       "        s.async = true;\n",
       "        s.onload = () => resolve(paths[lib]);\n",
       "        s.onerror = () => reject(`Error loading script: ${paths[lib]}`);\n",
       "        document.getElementsByTagName(\"head\")[0].appendChild(s);\n",
       "      });\n",
       "    }\n",
       "\n",
       "    function showError(err) {\n",
       "      outputDiv.innerHTML = `<div class=\"error\" style=\"color:red;\">${err}</div>`;\n",
       "      throw err;\n",
       "    }\n",
       "\n",
       "    function displayChart(vegaEmbed) {\n",
       "      vegaEmbed(outputDiv, spec, embedOpt)\n",
       "        .catch(err => showError(`Javascript Error: ${err.message}<br>This usually means there's a typo in your chart specification. See the javascript console for the full traceback.`));\n",
       "    }\n",
       "\n",
       "    if(typeof define === \"function\" && define.amd) {\n",
       "      requirejs.config({paths});\n",
       "      require([\"vega-embed\"], displayChart, err => showError(`Error loading script: ${err.message}`));\n",
       "    } else if (typeof vegaEmbed === \"function\") {\n",
       "      displayChart(vegaEmbed);\n",
       "    } else {\n",
       "      loadScript(\"vega\")\n",
       "        .then(() => loadScript(\"vega-lite\"))\n",
       "        .then(() => loadScript(\"vega-embed\"))\n",
       "        .catch(showError)\n",
       "        .then(() => displayChart(vegaEmbed));\n",
       "    }\n",
       "  })({\"width\": 600, \"height\": 450, \"background\": \"white\", \"config\": {\"title\": {\"fontWeight\": \"normal\", \"fontSize\": 36, \"anchor\": \"start\", \"font\": \"Lato\", \"offset\": 5}, \"axisX\": {\"grid\": false, \"labelFont\": \"Lato\", \"labelFontSize\": 16, \"labelAngle\": 0, \"labelPadding\": 10, \"ticks\": false, \"tickSize\": 5, \"title\": null, \"titleFont\": \"Lato\", \"titleFontSize\": 16, \"titleFontWeight\": \"normal\", \"titleY\": 30, \"titleX\": 280}, \"axisY\": {\"grid\": true, \"gridOpacity\": 1, \"labelFont\": \"Lato\", \"labelFontSize\": 16, \"labelLimit\": 100, \"labelAlign\": \"left\", \"labelPadding\": 20, \"ticks\": false, \"title\": null, \"titleFont\": \"Lato\", \"titleFontWeight\": \"normal\", \"titleFontSize\": 16, \"titleAlign\": \"left\", \"titleAngle\": 0, \"titleY\": -20, \"titleX\": -20, \"domainWidth\": 0}, \"view\": {\"strokeOpacity\": 0}, \"legend\": {\"labelFont\": \"Lato\", \"labelFontSize\": 20, \"labelOpacity\": 0.85, \"symbolSize\": 300, \"symbolStrokeWidth\": 6, \"titleFont\": \"Lato\", \"titleFontSize\": 20, \"titleLimit\": 250, \"titleOpacity\": 0.85}}, \"layer\": [{\"data\": {\"name\": \"data-031b65b667b496a28542c93ae8f96f43\"}, \"mark\": {\"type\": \"line\", \"interpolate\": \"basis\", \"opacity\": 0.85, \"size\": 6, \"strokeCap\": \"round\"}, \"encoding\": {\"color\": {\"type\": \"nominal\", \"field\": \"Hous_Den\", \"scale\": {\"domain\": [\"More than 75\", \"30 to 75\", \"20 to 30\", \"10 to 20\", \"5 to 10\", \"Less than 5\"], \"range\": [\"#b2182b\", \"#ef8a62\", \"#fddbc7\", \"#d1e5f0\", \"#67a9cf\", \"#2166ac\"]}, \"title\": \"Housing Units / sq. mile\"}, \"x\": {\"type\": \"ordinal\", \"axis\": {\"labelFontSize\": 18, \"labelOpacity\": 0.7, \"tickSize\": 10, \"ticks\": true, \"titleFontSize\": 20, \"values\": [2008, 2018]}, \"field\": \"Year\"}, \"y\": {\"type\": \"quantitative\", \"axis\": {\"format\": \"~s\", \"labelFontSize\": 18, \"labelOpacity\": 0.7, \"labelPadding\": 25, \"titleFontSize\": 20, \"titleOpacity\": 0.7, \"titleX\": -25, \"titleY\": -30, \"values\": [2000, 3000, 4000, 5000, 6000, 7000]}, \"field\": \"Med_Mort\", \"scale\": {\"domain\": [1000, 8000]}, \"title\": \"Counties grouped by housing density\"}}, \"title\": \"Monthly Homeowner Income\"}, {\"data\": {\"name\": \"data-e8530897f689fae5d28f94668b1d7e65\"}, \"mark\": {\"type\": \"text\", \"dx\": 8, \"dy\": 0, \"font\": \"lato\", \"fontSize\": 18, \"opacity\": 0.7}, \"encoding\": {\"text\": {\"type\": \"nominal\", \"field\": \"text\"}, \"x\": {\"type\": \"ordinal\", \"field\": \"x\"}, \"y\": {\"type\": \"quantitative\", \"field\": \"y\"}}}, {\"data\": {\"name\": \"data-8f136234395aa97b4ad72a5576c29347\"}, \"mark\": {\"type\": \"text\", \"dx\": 322, \"dy\": -4, \"fontSize\": 11.5, \"fontWeight\": \"bold\", \"opacity\": 0.09}, \"encoding\": {\"text\": {\"type\": \"nominal\", \"field\": \"text\"}, \"x\": {\"type\": \"ordinal\", \"axis\": null, \"field\": \"x\"}, \"y\": {\"type\": \"quantitative\", \"axis\": null, \"field\": \"y\"}}}, {\"layer\": [{\"data\": {\"name\": \"data-6ad6a784249d67150f13bf97409a14f9\"}, \"mark\": {\"type\": \"line\", \"interpolate\": \"basis\", \"opacity\": 0.85, \"size\": 6, \"strokeCap\": \"round\"}, \"encoding\": {\"color\": {\"type\": \"nominal\", \"field\": \"Hous_Den\", \"scale\": {\"domain\": [\"More than 75\", \"30 to 75\", \"20 to 30\", \"10 to 20\", \"5 to 10\", \"Less than 5\"], \"range\": [\"#b2182b\", \"#ef8a62\", \"#fddbc7\", \"#d1e5f0\", \"#67a9cf\", \"#2166ac\"]}, \"title\": \"Housing Units / sq. mile\"}, \"x\": {\"type\": \"ordinal\", \"axis\": {\"labelFontSize\": 18, \"labelOpacity\": 0.7, \"tickSize\": 10, \"ticks\": true, \"titleFontSize\": 20, \"values\": [2008, 2018]}, \"field\": \"Year\"}, \"y\": {\"type\": \"quantitative\", \"axis\": {\"format\": \"~s\", \"labelFontSize\": 18, \"labelOpacity\": 0.7, \"labelPadding\": 25, \"titleFontSize\": 20, \"titleOpacity\": 0.7, \"titleX\": -25, \"titleY\": -30, \"values\": [2000, 3000, 4000, 5000, 6000, 7000]}, \"field\": \"Med_Rent\", \"scale\": {\"domain\": [1000, 8000]}, \"title\": \"Counties grouped by housing density\"}}, \"title\": \"Monthly Renter Income\"}, {\"data\": {\"name\": \"data-e8530897f689fae5d28f94668b1d7e65\"}, \"mark\": {\"type\": \"text\", \"dx\": 8, \"dy\": 0, \"font\": \"lato\", \"fontSize\": 18, \"opacity\": 0.7}, \"encoding\": {\"text\": {\"type\": \"nominal\", \"field\": \"text\"}, \"x\": {\"type\": \"ordinal\", \"field\": \"x\"}, \"y\": {\"type\": \"quantitative\", \"field\": \"y\"}}}, {\"data\": {\"name\": \"data-8f136234395aa97b4ad72a5576c29347\"}, \"mark\": {\"type\": \"text\", \"dx\": 322, \"dy\": -4, \"fontSize\": 11.5, \"fontWeight\": \"bold\", \"opacity\": 0.09}, \"encoding\": {\"text\": {\"type\": \"nominal\", \"field\": \"text\"}, \"x\": {\"type\": \"ordinal\", \"axis\": null, \"field\": \"x\"}, \"y\": {\"type\": \"quantitative\", \"axis\": null, \"field\": \"y\"}}}], \"height\": 450, \"width\": 600}], \"$schema\": \"https://vega.github.io/schema/vega-lite/v4.0.0.json\", \"datasets\": {\"data-031b65b667b496a28542c93ae8f96f43\": [{\"Year\": 2008, \"Hous_Den\": \"More than 75\", \"Med_Mort\": 5902.0, \"pct_chg\": 0.3773628938156359, \"Order\": 75}, {\"Year\": 2009, \"Hous_Den\": \"More than 75\", \"Med_Mort\": 6039.0, \"pct_chg\": 0.023212470349034175, \"Order\": 75}, {\"Year\": 2010, \"Hous_Den\": \"More than 75\", \"Med_Mort\": 6145.0, \"pct_chg\": 0.017552574929624143, \"Order\": 75}, {\"Year\": 2011, \"Hous_Den\": \"More than 75\", \"Med_Mort\": 6172.0, \"pct_chg\": 0.004393816110659143, \"Order\": 75}, {\"Year\": 2012, \"Hous_Den\": \"More than 75\", \"Med_Mort\": 6236.0, \"pct_chg\": 0.010369410239792654, \"Order\": 75}, {\"Year\": 2013, \"Hous_Den\": \"More than 75\", \"Med_Mort\": 6302.0, \"pct_chg\": 0.010583707504810747, \"Order\": 75}, {\"Year\": 2014, \"Hous_Den\": \"More than 75\", \"Med_Mort\": 6464.0, \"pct_chg\": 0.025706125039669958, \"Order\": 75}, {\"Year\": 2015, \"Hous_Den\": \"More than 75\", \"Med_Mort\": 6689.0, \"pct_chg\": 0.034808168316831756, \"Order\": 75}, {\"Year\": 2016, \"Hous_Den\": \"More than 75\", \"Med_Mort\": 6949.0, \"pct_chg\": 0.03886978621617576, \"Order\": 75}, {\"Year\": 2017, \"Hous_Den\": \"More than 75\", \"Med_Mort\": 6839.0, \"pct_chg\": -0.01582961577205355, \"Order\": 75}, {\"Year\": 2018, \"Hous_Den\": \"More than 75\", \"Med_Mort\": 7050.0, \"pct_chg\": 0.030852463810498554, \"Order\": 75}, {\"Year\": 2008, \"Hous_Den\": \"30 to 75\", \"Med_Mort\": 4751.0, \"pct_chg\": -0.09141327213616368, \"Order\": 75}, {\"Year\": 2009, \"Hous_Den\": \"30 to 75\", \"Med_Mort\": 4906.0, \"pct_chg\": 0.03262471058724481, \"Order\": 75}, {\"Year\": 2010, \"Hous_Den\": \"30 to 75\", \"Med_Mort\": 4913.0, \"pct_chg\": 0.0014268242967794276, \"Order\": 75}, {\"Year\": 2011, \"Hous_Den\": \"30 to 75\", \"Med_Mort\": 4928.0, \"pct_chg\": 0.003053124363932458, \"Order\": 75}, {\"Year\": 2012, \"Hous_Den\": \"30 to 75\", \"Med_Mort\": 4952.0, \"pct_chg\": 0.004870129870129913, \"Order\": 75}, {\"Year\": 2013, \"Hous_Den\": \"30 to 75\", \"Med_Mort\": 5023.0, \"pct_chg\": 0.01433764135702753, \"Order\": 75}, {\"Year\": 2014, \"Hous_Den\": \"30 to 75\", \"Med_Mort\": 5090.0, \"pct_chg\": 0.01333864224566983, \"Order\": 75}, {\"Year\": 2015, \"Hous_Den\": \"30 to 75\", \"Med_Mort\": 5285.0, \"pct_chg\": 0.03831041257367396, \"Order\": 75}, {\"Year\": 2016, \"Hous_Den\": \"30 to 75\", \"Med_Mort\": 5479.0, \"pct_chg\": 0.036707663197729445, \"Order\": 75}, {\"Year\": 2017, \"Hous_Den\": \"30 to 75\", \"Med_Mort\": 5392.27, \"pct_chg\": 0.012776054024457029, \"Order\": 75}, {\"Year\": 2018, \"Hous_Den\": \"30 to 75\", \"Med_Mort\": 5558.635, \"pct_chg\": 0.054964858533069094, \"Order\": 75}, {\"Year\": 2008, \"Hous_Den\": \"20 to 30\", \"Med_Mort\": 4217.0, \"pct_chg\": -0.2314561691270275, \"Order\": 30}, {\"Year\": 2009, \"Hous_Den\": \"20 to 30\", \"Med_Mort\": 4324.0, \"pct_chg\": 0.025373488261797528, \"Order\": 30}, {\"Year\": 2010, \"Hous_Den\": \"20 to 30\", \"Med_Mort\": 4377.0, \"pct_chg\": 0.01225716928769649, \"Order\": 30}, {\"Year\": 2011, \"Hous_Den\": \"20 to 30\", \"Med_Mort\": 4389.0, \"pct_chg\": 0.002741603838245288, \"Order\": 30}, {\"Year\": 2012, \"Hous_Den\": \"20 to 30\", \"Med_Mort\": 4450.0, \"pct_chg\": 0.013898382319434965, \"Order\": 30}, {\"Year\": 2013, \"Hous_Den\": \"20 to 30\", \"Med_Mort\": 4498.0, \"pct_chg\": 0.010786516853932504, \"Order\": 30}, {\"Year\": 2014, \"Hous_Den\": \"20 to 30\", \"Med_Mort\": 4621.0, \"pct_chg\": 0.027345486883059156, \"Order\": 30}, {\"Year\": 2015, \"Hous_Den\": \"20 to 30\", \"Med_Mort\": 4813.0, \"pct_chg\": 0.04154944817139139, \"Order\": 30}, {\"Year\": 2016, \"Hous_Den\": \"20 to 30\", \"Med_Mort\": 4997.0, \"pct_chg\": 0.03822979430708506, \"Order\": 30}, {\"Year\": 2017, \"Hous_Den\": \"20 to 30\", \"Med_Mort\": 4917.899, \"pct_chg\": 0.08385031018611167, \"Order\": 30}, {\"Year\": 2018, \"Hous_Den\": \"20 to 30\", \"Med_Mort\": 5069.628, \"pct_chg\": -0.0345273264401772, \"Order\": 30}, {\"Year\": 2008, \"Hous_Den\": \"10 to 20\", \"Med_Mort\": 4051.0, \"pct_chg\": null, \"Order\": 20}, {\"Year\": 2009, \"Hous_Den\": \"10 to 20\", \"Med_Mort\": 4161.0, \"pct_chg\": 0.027153789187854827, \"Order\": 20}, {\"Year\": 2010, \"Hous_Den\": \"10 to 20\", \"Med_Mort\": 4207.0, \"pct_chg\": 0.011055034847392564, \"Order\": 20}, {\"Year\": 2011, \"Hous_Den\": \"10 to 20\", \"Med_Mort\": 4244.0, \"pct_chg\": 0.008794865700023857, \"Order\": 20}, {\"Year\": 2012, \"Hous_Den\": \"10 to 20\", \"Med_Mort\": 4286.0, \"pct_chg\": 0.009896324222431696, \"Order\": 20}, {\"Year\": 2013, \"Hous_Den\": \"10 to 20\", \"Med_Mort\": 4301.0, \"pct_chg\": 0.0034997666822211837, \"Order\": 20}, {\"Year\": 2014, \"Hous_Den\": \"10 to 20\", \"Med_Mort\": 4434.0, \"pct_chg\": 0.0309230411532202, \"Order\": 20}, {\"Year\": 2015, \"Hous_Den\": \"10 to 20\", \"Med_Mort\": 4544.0, \"pct_chg\": 0.02480829950383412, \"Order\": 20}, {\"Year\": 2016, \"Hous_Den\": \"10 to 20\", \"Med_Mort\": 4728.0, \"pct_chg\": 0.040492957746478764, \"Order\": 20}, {\"Year\": 2017, \"Hous_Den\": \"10 to 20\", \"Med_Mort\": 4653.158, \"pct_chg\": 0.08629441624365475, \"Order\": 20}, {\"Year\": 2018, \"Hous_Den\": \"10 to 20\", \"Med_Mort\": 4796.719, \"pct_chg\": 0.06834112149532712, \"Order\": 20}, {\"Year\": 2008, \"Hous_Den\": \"5 to 10\", \"Med_Mort\": 3931.0, \"pct_chg\": -0.3284933378886231, \"Order\": 10}, {\"Year\": 2009, \"Hous_Den\": \"5 to 10\", \"Med_Mort\": 4120.0, \"pct_chg\": 0.04807936911727295, \"Order\": 10}, {\"Year\": 2010, \"Hous_Den\": \"5 to 10\", \"Med_Mort\": 4133.0, \"pct_chg\": 0.0031553398058252746, \"Order\": 10}, {\"Year\": 2011, \"Hous_Den\": \"5 to 10\", \"Med_Mort\": 4202.0, \"pct_chg\": 0.01669489474957664, \"Order\": 10}, {\"Year\": 2012, \"Hous_Den\": \"5 to 10\", \"Med_Mort\": 4250.0, \"pct_chg\": 0.011423131841979961, \"Order\": 10}, {\"Year\": 2013, \"Hous_Den\": \"5 to 10\", \"Med_Mort\": 4324.0, \"pct_chg\": 0.01741176470588246, \"Order\": 10}, {\"Year\": 2014, \"Hous_Den\": \"5 to 10\", \"Med_Mort\": 4358.0, \"pct_chg\": 0.007863089731729778, \"Order\": 10}, {\"Year\": 2015, \"Hous_Den\": \"5 to 10\", \"Med_Mort\": 4543.0, \"pct_chg\": 0.0424506654428638, \"Order\": 10}, {\"Year\": 2016, \"Hous_Den\": \"5 to 10\", \"Med_Mort\": 4702.0, \"pct_chg\": 0.03499889940567913, \"Order\": 10}, {\"Year\": 2017, \"Hous_Den\": \"5 to 10\", \"Med_Mort\": 4627.569, \"pct_chg\": 0.1454700127605275, \"Order\": 10}, {\"Year\": 2018, \"Hous_Den\": \"5 to 10\", \"Med_Mort\": 4770.341, \"pct_chg\": -0.18919420720386182, \"Order\": 10}, {\"Year\": 2008, \"Hous_Den\": \"Less than 5\", \"Med_Mort\": 4069.0, \"pct_chg\": -0.06823906572017402, \"Order\": 5}, {\"Year\": 2009, \"Hous_Den\": \"Less than 5\", \"Med_Mort\": 4155.0, \"pct_chg\": 0.0211354141066602, \"Order\": 5}, {\"Year\": 2010, \"Hous_Den\": \"Less than 5\", \"Med_Mort\": 4177.0, \"pct_chg\": 0.005294825511432011, \"Order\": 5}, {\"Year\": 2011, \"Hous_Den\": \"Less than 5\", \"Med_Mort\": 4228.0, \"pct_chg\": 0.01220971989466113, \"Order\": 5}, {\"Year\": 2012, \"Hous_Den\": \"Less than 5\", \"Med_Mort\": 4353.0, \"pct_chg\": 0.029564806054872328, \"Order\": 5}, {\"Year\": 2013, \"Hous_Den\": \"Less than 5\", \"Med_Mort\": 4364.0, \"pct_chg\": 0.0025269928784745765, \"Order\": 5}, {\"Year\": 2014, \"Hous_Den\": \"Less than 5\", \"Med_Mort\": 4523.0, \"pct_chg\": 0.03643446379468385, \"Order\": 5}, {\"Year\": 2015, \"Hous_Den\": \"Less than 5\", \"Med_Mort\": 4669.0, \"pct_chg\": 0.03227946053504316, \"Order\": 5}, {\"Year\": 2016, \"Hous_Den\": \"Less than 5\", \"Med_Mort\": 4809.0, \"pct_chg\": 0.02998500749625177, \"Order\": 5}, {\"Year\": 2017, \"Hous_Den\": \"Less than 5\", \"Med_Mort\": 4732.875, \"pct_chg\": -0.11790393013100442, \"Order\": 5}, {\"Year\": 2018, \"Hous_Den\": \"Less than 5\", \"Med_Mort\": 4878.896, \"pct_chg\": 0.010136727958510061, \"Order\": 5}], \"data-e8530897f689fae5d28f94668b1d7e65\": [{\"x\": 2008, \"y\": 8000, \"text\": \"$8k per month\"}], \"data-8f136234395aa97b4ad72a5576c29347\": [{\"x\": 2008, \"y\": 8000, \"text\": \"_______________________________________________________________________________\"}], \"data-6ad6a784249d67150f13bf97409a14f9\": [{\"Year\": 2008, \"Hous_Den\": \"More than 75\", \"Med_Rent\": 2752.0, \"pct_chg\": -0.07308858201414614, \"Order\": 75}, {\"Year\": 2009, \"Hous_Den\": \"More than 75\", \"Med_Rent\": 2809.0, \"pct_chg\": 0.020712209302325535, \"Order\": 75}, {\"Year\": 2010, \"Hous_Den\": \"More than 75\", \"Med_Rent\": 2846.0, \"pct_chg\": 0.013171947312210719, \"Order\": 75}, {\"Year\": 2011, \"Hous_Den\": \"More than 75\", \"Med_Rent\": 2892.0, \"pct_chg\": 0.016163035839775075, \"Order\": 75}, {\"Year\": 2012, \"Hous_Den\": \"More than 75\", \"Med_Rent\": 2968.0, \"pct_chg\": 0.026279391424619547, \"Order\": 75}, {\"Year\": 2013, \"Hous_Den\": \"More than 75\", \"Med_Rent\": 3017.0, \"pct_chg\": 0.01650943396226423, \"Order\": 75}, {\"Year\": 2014, \"Hous_Den\": \"More than 75\", \"Med_Rent\": 3096.0, \"pct_chg\": 0.02618495193901227, \"Order\": 75}, {\"Year\": 2015, \"Hous_Den\": \"More than 75\", \"Med_Rent\": 3261.0, \"pct_chg\": 0.05329457364341095, \"Order\": 75}, {\"Year\": 2016, \"Hous_Den\": \"More than 75\", \"Med_Rent\": 3427.0, \"pct_chg\": 0.05090463048144733, \"Order\": 75}, {\"Year\": 2017, \"Hous_Den\": \"More than 75\", \"Med_Rent\": 3470.0, \"pct_chg\": 0.012547417566384667, \"Order\": 75}, {\"Year\": 2018, \"Hous_Den\": \"More than 75\", \"Med_Rent\": 3607.0, \"pct_chg\": 0.03948126801152729, \"Order\": 75}, {\"Year\": 2008, \"Hous_Den\": \"30 to 75\", \"Med_Rent\": 2311.0, \"pct_chg\": -0.15067989709665564, \"Order\": 75}, {\"Year\": 2009, \"Hous_Den\": \"30 to 75\", \"Med_Rent\": 2355.0, \"pct_chg\": 0.019039376893119853, \"Order\": 75}, {\"Year\": 2010, \"Hous_Den\": \"30 to 75\", \"Med_Rent\": 2359.0, \"pct_chg\": 0.001698513800424628, \"Order\": 75}, {\"Year\": 2011, \"Hous_Den\": \"30 to 75\", \"Med_Rent\": 2360.0, \"pct_chg\": 0.0004239084357777756, \"Order\": 75}, {\"Year\": 2012, \"Hous_Den\": \"30 to 75\", \"Med_Rent\": 2397.0, \"pct_chg\": 0.015677966101694807, \"Order\": 75}, {\"Year\": 2013, \"Hous_Den\": \"30 to 75\", \"Med_Rent\": 2437.0, \"pct_chg\": 0.016687526074259385, \"Order\": 75}, {\"Year\": 2014, \"Hous_Den\": \"30 to 75\", \"Med_Rent\": 2514.0, \"pct_chg\": 0.031596224866639266, \"Order\": 75}, {\"Year\": 2015, \"Hous_Den\": \"30 to 75\", \"Med_Rent\": 2606.0, \"pct_chg\": 0.0365950676213207, \"Order\": 75}, {\"Year\": 2016, \"Hous_Den\": \"30 to 75\", \"Med_Rent\": 2746.0, \"pct_chg\": 0.053722179585571794, \"Order\": 75}, {\"Year\": 2017, \"Hous_Den\": \"30 to 75\", \"Med_Rent\": 2780.455, \"pct_chg\": 0.05571740713765472, \"Order\": 75}, {\"Year\": 2018, \"Hous_Den\": \"30 to 75\", \"Med_Rent\": 2890.231, \"pct_chg\": 0.04035874439461873, \"Order\": 75}, {\"Year\": 2008, \"Hous_Den\": \"20 to 30\", \"Med_Rent\": 2031.0, \"pct_chg\": -0.2635968092820885, \"Order\": 30}, {\"Year\": 2009, \"Hous_Den\": \"20 to 30\", \"Med_Rent\": 2088.0, \"pct_chg\": 0.028064992614475592, \"Order\": 30}, {\"Year\": 2010, \"Hous_Den\": \"20 to 30\", \"Med_Rent\": 2098.0, \"pct_chg\": 0.00478927203065127, \"Order\": 30}, {\"Year\": 2011, \"Hous_Den\": \"20 to 30\", \"Med_Rent\": 2133.0, \"pct_chg\": 0.01668255481410874, \"Order\": 30}, {\"Year\": 2012, \"Hous_Den\": \"20 to 30\", \"Med_Rent\": 2204.0, \"pct_chg\": 0.03328645100797001, \"Order\": 30}, {\"Year\": 2013, \"Hous_Den\": \"20 to 30\", \"Med_Rent\": 2265.0, \"pct_chg\": 0.027676950998185124, \"Order\": 30}, {\"Year\": 2014, \"Hous_Den\": \"20 to 30\", \"Med_Rent\": 2331.0, \"pct_chg\": 0.029139072847682135, \"Order\": 30}, {\"Year\": 2015, \"Hous_Den\": \"20 to 30\", \"Med_Rent\": 2446.0, \"pct_chg\": 0.049335049335049286, \"Order\": 30}, {\"Year\": 2016, \"Hous_Den\": \"20 to 30\", \"Med_Rent\": 2513.0, \"pct_chg\": 0.027391659852820993, \"Order\": 30}, {\"Year\": 2017, \"Hous_Den\": \"20 to 30\", \"Med_Rent\": 2544.532, \"pct_chg\": 0.07401512136888178, \"Order\": 30}, {\"Year\": 2018, \"Hous_Den\": \"20 to 30\", \"Med_Rent\": 2644.993, \"pct_chg\": 0.008151167098925605, \"Order\": 30}, {\"Year\": 2008, \"Hous_Den\": \"10 to 20\", \"Med_Rent\": 1958.0, \"pct_chg\": null, \"Order\": 20}, {\"Year\": 2009, \"Hous_Den\": \"10 to 20\", \"Med_Rent\": 2026.0, \"pct_chg\": 0.03472931562819204, \"Order\": 20}, {\"Year\": 2010, \"Hous_Den\": \"10 to 20\", \"Med_Rent\": 2103.0, \"pct_chg\": 0.03800592300098726, \"Order\": 20}, {\"Year\": 2011, \"Hous_Den\": \"10 to 20\", \"Med_Rent\": 2081.0, \"pct_chg\": -0.010461245839277211, \"Order\": 20}, {\"Year\": 2012, \"Hous_Den\": \"10 to 20\", \"Med_Rent\": 2114.0, \"pct_chg\": 0.015857760691974976, \"Order\": 20}, {\"Year\": 2013, \"Hous_Den\": \"10 to 20\", \"Med_Rent\": 2153.0, \"pct_chg\": 0.018448438978240222, \"Order\": 20}, {\"Year\": 2014, \"Hous_Den\": \"10 to 20\", \"Med_Rent\": 2245.0, \"pct_chg\": 0.04273107292150491, \"Order\": 20}, {\"Year\": 2015, \"Hous_Den\": \"10 to 20\", \"Med_Rent\": 2325.0, \"pct_chg\": 0.03563474387527843, \"Order\": 20}, {\"Year\": 2016, \"Hous_Den\": \"10 to 20\", \"Med_Rent\": 2436.0, \"pct_chg\": 0.04774193548387107, \"Order\": 20}, {\"Year\": 2017, \"Hous_Den\": \"10 to 20\", \"Med_Rent\": 2466.566, \"pct_chg\": 0.1354679802955665, \"Order\": 20}, {\"Year\": 2018, \"Hous_Den\": \"10 to 20\", \"Med_Rent\": 2563.949, \"pct_chg\": -0.002892263195950817, \"Order\": 20}, {\"Year\": 2008, \"Hous_Den\": \"5 to 10\", \"Med_Rent\": 2046.0, \"pct_chg\": -0.3216180371352785, \"Order\": 10}, {\"Year\": 2009, \"Hous_Den\": \"5 to 10\", \"Med_Rent\": 2140.0, \"pct_chg\": 0.045943304007820096, \"Order\": 10}, {\"Year\": 2010, \"Hous_Den\": \"5 to 10\", \"Med_Rent\": 2183.0, \"pct_chg\": 0.02009345794392514, \"Order\": 10}, {\"Year\": 2011, \"Hous_Den\": \"5 to 10\", \"Med_Rent\": 2246.0, \"pct_chg\": 0.028859367842418715, \"Order\": 10}, {\"Year\": 2012, \"Hous_Den\": \"5 to 10\", \"Med_Rent\": 2263.0, \"pct_chg\": 0.0075690115761353205, \"Order\": 10}, {\"Year\": 2013, \"Hous_Den\": \"5 to 10\", \"Med_Rent\": 2289.0, \"pct_chg\": 0.011489173663278729, \"Order\": 10}, {\"Year\": 2014, \"Hous_Den\": \"5 to 10\", \"Med_Rent\": 2386.0, \"pct_chg\": 0.04237658366098729, \"Order\": 10}, {\"Year\": 2015, \"Hous_Den\": \"5 to 10\", \"Med_Rent\": 2536.0, \"pct_chg\": 0.0628667225481978, \"Order\": 10}, {\"Year\": 2016, \"Hous_Den\": \"5 to 10\", \"Med_Rent\": 2610.0, \"pct_chg\": 0.02917981072555209, \"Order\": 10}, {\"Year\": 2017, \"Hous_Den\": \"5 to 10\", \"Med_Rent\": 2642.749, \"pct_chg\": 0.1965517241379311, \"Order\": 10}, {\"Year\": 2018, \"Hous_Den\": \"5 to 10\", \"Med_Rent\": 2747.088, \"pct_chg\": -0.07845020813320525, \"Order\": 10}, {\"Year\": 2008, \"Hous_Den\": \"Less than 5\", \"Med_Rent\": 2368.0, \"pct_chg\": -0.17720639332870047, \"Order\": 5}, {\"Year\": 2009, \"Hous_Den\": \"Less than 5\", \"Med_Rent\": 2319.0, \"pct_chg\": -0.020692567567567544, \"Order\": 5}, {\"Year\": 2010, \"Hous_Den\": \"Less than 5\", \"Med_Rent\": 2381.0, \"pct_chg\": 0.026735661923242837, \"Order\": 5}, {\"Year\": 2011, \"Hous_Den\": \"Less than 5\", \"Med_Rent\": 2403.0, \"pct_chg\": 0.009239815203695878, \"Order\": 5}, {\"Year\": 2012, \"Hous_Den\": \"Less than 5\", \"Med_Rent\": 2487.0, \"pct_chg\": 0.03495630461922605, \"Order\": 5}, {\"Year\": 2013, \"Hous_Den\": \"Less than 5\", \"Med_Rent\": 2488.0, \"pct_chg\": 0.00040209087253728626, \"Order\": 5}, {\"Year\": 2014, \"Hous_Den\": \"Less than 5\", \"Med_Rent\": 2554.0, \"pct_chg\": 0.026527331189710512, \"Order\": 5}, {\"Year\": 2015, \"Hous_Den\": \"Less than 5\", \"Med_Rent\": 2665.0, \"pct_chg\": 0.04346123727486306, \"Order\": 5}, {\"Year\": 2016, \"Hous_Den\": \"Less than 5\", \"Med_Rent\": 2745.0, \"pct_chg\": 0.030018761726078758, \"Order\": 5}, {\"Year\": 2017, \"Hous_Den\": \"Less than 5\", \"Med_Rent\": 2779.443, \"pct_chg\": -0.006193078324225887, \"Order\": 5}, {\"Year\": 2018, \"Hous_Den\": \"Less than 5\", \"Med_Rent\": 2889.179, \"pct_chg\": 0.08834310850439886, \"Order\": 5}]}}, {\"mode\": \"vega-lite\"});\n",
       "</script>"
      ],
      "text/plain": [
       "alt.LayerChart(...)"
      ]
     },
     "execution_count": 121,
     "metadata": {},
     "output_type": "execute_result"
    }
   ],
   "source": [
    "# Renters & Homeowner lines on same chart (looks too busy)\n",
    "(homeowner_inc_hous_den_chart + rent_inc_hous_den_chart).configure_legend(titleFont='Lato', titleFontSize=20, titleOpacity=.85, titleLimit=250, labelFont='Lato', labelFontSize=20, labelOpacity=.85, symbolSize=300, symbolStrokeWidth=6)"
   ]
  },
  {
   "cell_type": "markdown",
   "metadata": {},
   "source": [
    "---"
   ]
  },
  {
   "cell_type": "code",
   "execution_count": 31,
   "metadata": {},
   "outputs": [],
   "source": [
    "renter_inc_by_pop_den5 = pd.read_csv('renter_inc_by_pop_den_5yr_0816.csv')\n",
    "renter_inc_by_pop_den1 = pd.read_csv('renter_inc_by_pop_den_1yr_1018.csv')"
   ]
  },
  {
   "cell_type": "code",
   "execution_count": 34,
   "metadata": {},
   "outputs": [],
   "source": [
    "renter_inc_pop_den_df = pd.concat([renter_inc_by_pop_den5, renter_inc_by_pop_den1[renter_inc_by_pop_den1.Year > 2016]]).sort_values(['Pop', 'Year']).reset_index(drop=True)"
   ]
  },
  {
   "cell_type": "code",
   "execution_count": 49,
   "metadata": {},
   "outputs": [
    {
     "data": {
      "text/html": [
       "<div>\n",
       "<style scoped>\n",
       "    .dataframe tbody tr th:only-of-type {\n",
       "        vertical-align: middle;\n",
       "    }\n",
       "\n",
       "    .dataframe tbody tr th {\n",
       "        vertical-align: top;\n",
       "    }\n",
       "\n",
       "    .dataframe thead th {\n",
       "        text-align: right;\n",
       "    }\n",
       "</style>\n",
       "<table border=\"1\" class=\"dataframe\">\n",
       "  <thead>\n",
       "    <tr style=\"text-align: right;\">\n",
       "      <th></th>\n",
       "      <th>Year</th>\n",
       "      <th>Pop</th>\n",
       "      <th>Med_Rent</th>\n",
       "    </tr>\n",
       "  </thead>\n",
       "  <tbody>\n",
       "    <tr>\n",
       "      <th>0</th>\n",
       "      <td>2008</td>\n",
       "      <td>10 to 25</td>\n",
       "      <td>2124.0</td>\n",
       "    </tr>\n",
       "  </tbody>\n",
       "</table>\n",
       "</div>"
      ],
      "text/plain": [
       "   Year       Pop  Med_Rent\n",
       "0  2008  10 to 25    2124.0"
      ]
     },
     "execution_count": 49,
     "metadata": {},
     "output_type": "execute_result"
    }
   ],
   "source": [
    "renter_inc_pop_den_df.head(1)"
   ]
  },
  {
   "cell_type": "markdown",
   "metadata": {},
   "source": [
    "*Adjusting 2017 & 2018 values for '10-25' & 'Less than 10' cols (since 1-yr data included few counties of low pop densities, resulting in distorted figures)"
   ]
  },
  {
   "cell_type": "code",
   "execution_count": 51,
   "metadata": {},
   "outputs": [],
   "source": [
    "renter_inc_pop_den_df['pct_chg'] = renter_inc_pop_den_df['Med_Rent'].pct_change()"
   ]
  },
  {
   "cell_type": "code",
   "execution_count": 52,
   "metadata": {},
   "outputs": [],
   "source": [
    "for year in [2017, 2018]:\n",
    "    yr_df = renter_inc_pop_den_df[renter_inc_pop_den_df.Year == year]\n",
    "    for typ in ['250 to 1000', '100 to 250', '50 to 100', '25 to 50', '10 to 25', 'Less than 10']:\n",
    "        index = yr_df[yr_df.Pop == typ].index[0]\n",
    "        renter_inc_pop_den_df.loc[index, 'Med_Rent'] = round(renter_inc_pop_den_df['Med_Rent'][(renter_inc_pop_den_df.Year == year-1) & (renter_inc_pop_den_df.Pop == typ)].iloc[0] + renter_inc_pop_den_df['Med_Rent'][(renter_inc_pop_den_df.Year == year-1) & (renter_inc_pop_den_df.Pop == typ)].iloc[0] * renter_inc_pop_den_df.pct_chg[(renter_inc_pop_den_df.Year == year) & (renter_inc_pop_den_df.Pop == 'More than 1000')].iloc[0], 3)"
   ]
  },
  {
   "cell_type": "code",
   "execution_count": 53,
   "metadata": {},
   "outputs": [],
   "source": [
    "dic = {}\n",
    "for t in ['More than 1000', '250 to 1000', '100 to 250', '50 to 100', '25 to 50', '10 to 25', 'Less than 10']:\n",
    "    dic[t] = t.split()[-1]"
   ]
  },
  {
   "cell_type": "code",
   "execution_count": 54,
   "metadata": {},
   "outputs": [],
   "source": [
    "renter_inc_pop_den_df['Order'] = renter_inc_pop_den_df.Pop.map(dic).astype(int)"
   ]
  },
  {
   "cell_type": "code",
   "execution_count": 55,
   "metadata": {},
   "outputs": [],
   "source": [
    "renter_inc_pop_den_df = renter_inc_pop_den_df.sort_values(['Order', 'Pop'], ascending=[False, False])"
   ]
  },
  {
   "cell_type": "code",
   "execution_count": 107,
   "metadata": {},
   "outputs": [],
   "source": [
    "rent_inc_pop_den = alt.Chart(renter_inc_pop_den_df, title='Monthly Renter Income').mark_line(size=6, opacity=.85, strokeCap='round', interpolate='basis').encode(\n",
    "x=alt.X('Year:O', axis=alt.Axis(values=[2008, 2018], ticks=True, tickSize=10, titleFontSize=20, labelFontSize=18, labelOpacity=.7)),\n",
    "y=alt.Y('Med_Rent', title='Counties grouped by population density', \n",
    "        scale=alt.Scale(domain=[1000,8000, 2000]),\n",
    "        axis=alt.Axis(values=list(range(2000, 8000, 1000)), format='~s', \n",
    "                      titleX=-25, titleY=-30, titleFontSize=20, titleOpacity=.7,\n",
    "                      labelFontSize=18, labelOpacity=.7, labelPadding=25)),\n",
    "color=alt.Color('Pop', scale=alt.Scale(domain=list(renter_inc_pop_den_df.Pop.unique()), \n",
    "                                             range=['#b2182b','#ef8a62','#fddbc7','#e2e0d3', '#d1e5f0','#67a9cf','#2166ac']), \n",
    "                title='Residents / sq. mile')\n",
    ")\n",
    "\n",
    "y_text_df = pd.DataFrame({'x':[2008], 'y':[8000], 'text':['$8k per month']})\n",
    "y_text = alt.Chart(y_text_df).mark_text(dx=8, dy=0, fontSize=18, font='lato', opacity=.7).encode(x=alt.X('x:O'), y='y', text='text')\n",
    "line = alt.Chart(pd.DataFrame({'x':[2008], 'y':[8000], 'text':['_'*79]})).mark_text(dx=322, dy=-4, opacity=.09, fontSize=11.5, fontWeight='bold').encode(x=alt.X('x:O', axis=None), y=alt.Y('y', axis=None), text='text')\n",
    "\n",
    "\n",
    "rent_inc_pop_den_chart = (rent_inc_pop_den + y_text + line).configure_legend(titleFont='Lato', titleFontSize=20, titleOpacity=.85, titleLimit=250, labelFont='Lato', labelFontSize=20, labelOpacity=.85, symbolSize=300, symbolStrokeWidth=6)"
   ]
  },
  {
   "cell_type": "code",
   "execution_count": 108,
   "metadata": {},
   "outputs": [
    {
     "data": {
      "text/html": [
       "\n",
       "<div id=\"altair-viz-29\"></div>\n",
       "<script type=\"text/javascript\">\n",
       "  (function(spec, embedOpt){\n",
       "    const outputDiv = document.getElementById(\"altair-viz-29\");\n",
       "    const paths = {\n",
       "      \"vega\": \"https://cdn.jsdelivr.net/npm//vega@5?noext\",\n",
       "      \"vega-lib\": \"https://cdn.jsdelivr.net/npm//vega-lib?noext\",\n",
       "      \"vega-lite\": \"https://cdn.jsdelivr.net/npm//vega-lite@4.0.0?noext\",\n",
       "      \"vega-embed\": \"https://cdn.jsdelivr.net/npm//vega-embed@6?noext\",\n",
       "    };\n",
       "\n",
       "    function loadScript(lib) {\n",
       "      return new Promise(function(resolve, reject) {\n",
       "        var s = document.createElement('script');\n",
       "        s.src = paths[lib];\n",
       "        s.async = true;\n",
       "        s.onload = () => resolve(paths[lib]);\n",
       "        s.onerror = () => reject(`Error loading script: ${paths[lib]}`);\n",
       "        document.getElementsByTagName(\"head\")[0].appendChild(s);\n",
       "      });\n",
       "    }\n",
       "\n",
       "    function showError(err) {\n",
       "      outputDiv.innerHTML = `<div class=\"error\" style=\"color:red;\">${err}</div>`;\n",
       "      throw err;\n",
       "    }\n",
       "\n",
       "    function displayChart(vegaEmbed) {\n",
       "      vegaEmbed(outputDiv, spec, embedOpt)\n",
       "        .catch(err => showError(`Javascript Error: ${err.message}<br>This usually means there's a typo in your chart specification. See the javascript console for the full traceback.`));\n",
       "    }\n",
       "\n",
       "    if(typeof define === \"function\" && define.amd) {\n",
       "      requirejs.config({paths});\n",
       "      require([\"vega-embed\"], displayChart, err => showError(`Error loading script: ${err.message}`));\n",
       "    } else if (typeof vegaEmbed === \"function\") {\n",
       "      displayChart(vegaEmbed);\n",
       "    } else {\n",
       "      loadScript(\"vega\")\n",
       "        .then(() => loadScript(\"vega-lite\"))\n",
       "        .then(() => loadScript(\"vega-embed\"))\n",
       "        .catch(showError)\n",
       "        .then(() => displayChart(vegaEmbed));\n",
       "    }\n",
       "  })({\"width\": 600, \"height\": 400, \"background\": \"white\", \"config\": {\"title\": {\"fontWeight\": \"normal\", \"fontSize\": 36, \"anchor\": \"start\", \"font\": \"Lato\", \"offset\": 5}, \"axisX\": {\"grid\": false, \"labelFont\": \"Lato\", \"labelFontSize\": 16, \"labelAngle\": 0, \"labelPadding\": 10, \"ticks\": false, \"tickSize\": 5, \"title\": null, \"titleFont\": \"Lato\", \"titleFontSize\": 16, \"titleFontWeight\": \"normal\", \"titleY\": 30, \"titleX\": 280}, \"axisY\": {\"grid\": true, \"gridOpacity\": 1, \"labelFont\": \"Lato\", \"labelFontSize\": 16, \"labelLimit\": 100, \"labelAlign\": \"left\", \"labelPadding\": 20, \"ticks\": false, \"title\": null, \"titleFont\": \"Lato\", \"titleFontWeight\": \"normal\", \"titleFontSize\": 16, \"titleAlign\": \"left\", \"titleAngle\": 0, \"titleY\": -20, \"titleX\": -20, \"domainWidth\": 0}, \"view\": {\"strokeOpacity\": 0}}, \"layer\": [{\"data\": {\"name\": \"data-8c1126790ef362fb91e577c93e039bce\"}, \"mark\": {\"type\": \"line\", \"interpolate\": \"basis\", \"opacity\": 0.85, \"size\": 6, \"strokeCap\": \"round\"}, \"encoding\": {\"color\": {\"type\": \"nominal\", \"field\": \"Pop\", \"scale\": {\"domain\": [\"More than 1000\", \"250 to 1000\", \"100 to 250\", \"50 to 100\", \"25 to 50\", \"10 to 25\", \"Less than 10\"], \"range\": [\"#b2182b\", \"#ef8a62\", \"#fddbc7\", \"#e2e0d3\", \"#d1e5f0\", \"#67a9cf\", \"#2166ac\"]}, \"title\": \"Residents / sq. mile\"}, \"x\": {\"type\": \"ordinal\", \"axis\": {\"labelFontSize\": 18, \"labelOpacity\": 0.7, \"tickSize\": 10, \"ticks\": true, \"titleFontSize\": 20, \"values\": [2008, 2018]}, \"field\": \"Year\"}, \"y\": {\"type\": \"quantitative\", \"axis\": {\"format\": \"~s\", \"labelFontSize\": 18, \"labelOpacity\": 0.7, \"labelPadding\": 25, \"titleFontSize\": 20, \"titleOpacity\": 0.7, \"titleX\": -25, \"titleY\": -30, \"values\": [2000, 3000, 4000, 5000, 6000, 7000]}, \"field\": \"Med_Rent\", \"scale\": {\"domain\": [1000, 8000, 2000]}, \"title\": \"Counties grouped by population density\"}}, \"title\": \"Monthly Renter Income\"}, {\"data\": {\"name\": \"data-e8530897f689fae5d28f94668b1d7e65\"}, \"mark\": {\"type\": \"text\", \"dx\": 8, \"dy\": 0, \"font\": \"lato\", \"fontSize\": 18, \"opacity\": 0.7}, \"encoding\": {\"text\": {\"type\": \"nominal\", \"field\": \"text\"}, \"x\": {\"type\": \"ordinal\", \"field\": \"x\"}, \"y\": {\"type\": \"quantitative\", \"field\": \"y\"}}}, {\"data\": {\"name\": \"data-8f136234395aa97b4ad72a5576c29347\"}, \"mark\": {\"type\": \"text\", \"dx\": 322, \"dy\": -4, \"fontSize\": 11.5, \"fontWeight\": \"bold\", \"opacity\": 0.09}, \"encoding\": {\"text\": {\"type\": \"nominal\", \"field\": \"text\"}, \"x\": {\"type\": \"ordinal\", \"axis\": null, \"field\": \"x\"}, \"y\": {\"type\": \"quantitative\", \"axis\": null, \"field\": \"y\"}}}], \"$schema\": \"https://vega.github.io/schema/vega-lite/v4.0.0.json\", \"datasets\": {\"data-8c1126790ef362fb91e577c93e039bce\": [{\"Year\": 2008, \"Pop\": \"More than 1000\", \"Med_Rent\": 2843.0, \"pct_chg\": -0.1932463110102156, \"Order\": 1000}, {\"Year\": 2009, \"Pop\": \"More than 1000\", \"Med_Rent\": 2898.0, \"pct_chg\": 0.01934576151952161, \"Order\": 1000}, {\"Year\": 2010, \"Pop\": \"More than 1000\", \"Med_Rent\": 2908.0, \"pct_chg\": 0.003450655624568588, \"Order\": 1000}, {\"Year\": 2011, \"Pop\": \"More than 1000\", \"Med_Rent\": 2935.0, \"pct_chg\": 0.009284731774415356, \"Order\": 1000}, {\"Year\": 2012, \"Pop\": \"More than 1000\", \"Med_Rent\": 3006.0, \"pct_chg\": 0.02419080068143109, \"Order\": 1000}, {\"Year\": 2013, \"Pop\": \"More than 1000\", \"Med_Rent\": 3082.0, \"pct_chg\": 0.02528276779773786, \"Order\": 1000}, {\"Year\": 2014, \"Pop\": \"More than 1000\", \"Med_Rent\": 3209.0, \"pct_chg\": 0.041207008436080494, \"Order\": 1000}, {\"Year\": 2015, \"Pop\": \"More than 1000\", \"Med_Rent\": 3404.0, \"pct_chg\": 0.06076659395450301, \"Order\": 1000}, {\"Year\": 2016, \"Pop\": \"More than 1000\", \"Med_Rent\": 3555.0, \"pct_chg\": 0.04435957696827253, \"Order\": 1000}, {\"Year\": 2017, \"Pop\": \"More than 1000\", \"Med_Rent\": 3629.0, \"pct_chg\": 0.020815752461322168, \"Order\": 1000}, {\"Year\": 2018, \"Pop\": \"More than 1000\", \"Med_Rent\": 3905.0, \"pct_chg\": 0.07605400936897211, \"Order\": 1000}, {\"Year\": 2008, \"Pop\": \"250 to 1000\", \"Med_Rent\": 2672.0, \"pct_chg\": -0.031182015953589604, \"Order\": 1000}, {\"Year\": 2009, \"Pop\": \"250 to 1000\", \"Med_Rent\": 2698.0, \"pct_chg\": 0.009730538922155585, \"Order\": 1000}, {\"Year\": 2010, \"Pop\": \"250 to 1000\", \"Med_Rent\": 2702.0, \"pct_chg\": 0.00148257968865817, \"Order\": 1000}, {\"Year\": 2011, \"Pop\": \"250 to 1000\", \"Med_Rent\": 2772.0, \"pct_chg\": 0.02590673575129543, \"Order\": 1000}, {\"Year\": 2012, \"Pop\": \"250 to 1000\", \"Med_Rent\": 2813.0, \"pct_chg\": 0.014790764790764799, \"Order\": 1000}, {\"Year\": 2013, \"Pop\": \"250 to 1000\", \"Med_Rent\": 2859.0, \"pct_chg\": 0.016352648418058946, \"Order\": 1000}, {\"Year\": 2014, \"Pop\": \"250 to 1000\", \"Med_Rent\": 2993.0, \"pct_chg\": 0.04686953480237843, \"Order\": 1000}, {\"Year\": 2015, \"Pop\": \"250 to 1000\", \"Med_Rent\": 3066.0, \"pct_chg\": 0.024390243902439046, \"Order\": 1000}, {\"Year\": 2016, \"Pop\": \"250 to 1000\", \"Med_Rent\": 3244.0, \"pct_chg\": 0.058056099151989615, \"Order\": 1000}, {\"Year\": 2017, \"Pop\": \"250 to 1000\", \"Med_Rent\": 3311.526, \"pct_chg\": 0.006165228113440113, \"Order\": 1000}, {\"Year\": 2018, \"Pop\": \"250 to 1000\", \"Med_Rent\": 3563.381, \"pct_chg\": 0.047487745098039325, \"Order\": 1000}, {\"Year\": 2008, \"Pop\": \"100 to 250\", \"Med_Rent\": 2320.0, \"pct_chg\": -0.18682089029092186, \"Order\": 250}, {\"Year\": 2009, \"Pop\": \"100 to 250\", \"Med_Rent\": 2375.0, \"pct_chg\": 0.0237068965517242, \"Order\": 250}, {\"Year\": 2010, \"Pop\": \"100 to 250\", \"Med_Rent\": 2401.0, \"pct_chg\": 0.010947368421052595, \"Order\": 250}, {\"Year\": 2011, \"Pop\": \"100 to 250\", \"Med_Rent\": 2369.0, \"pct_chg\": -0.013327780091628494, \"Order\": 250}, {\"Year\": 2012, \"Pop\": \"100 to 250\", \"Med_Rent\": 2425.0, \"pct_chg\": 0.023638666103841244, \"Order\": 250}, {\"Year\": 2013, \"Pop\": \"100 to 250\", \"Med_Rent\": 2462.0, \"pct_chg\": 0.015257731958762788, \"Order\": 250}, {\"Year\": 2014, \"Pop\": \"100 to 250\", \"Med_Rent\": 2527.0, \"pct_chg\": 0.026401299756295682, \"Order\": 250}, {\"Year\": 2015, \"Pop\": \"100 to 250\", \"Med_Rent\": 2606.0, \"pct_chg\": 0.03126236644242186, \"Order\": 250}, {\"Year\": 2016, \"Pop\": \"100 to 250\", \"Med_Rent\": 2756.0, \"pct_chg\": 0.057559478127398256, \"Order\": 250}, {\"Year\": 2017, \"Pop\": \"100 to 250\", \"Med_Rent\": 2813.368, \"pct_chg\": 0.018867924528301883, \"Order\": 250}, {\"Year\": 2018, \"Pop\": \"100 to 250\", \"Med_Rent\": 3027.336, \"pct_chg\": 0.05056980056980054, \"Order\": 250}, {\"Year\": 2008, \"Pop\": \"50 to 100\", \"Med_Rent\": 2154.0, \"pct_chg\": -0.36999122550453345, \"Order\": 100}, {\"Year\": 2009, \"Pop\": \"50 to 100\", \"Med_Rent\": 2129.0, \"pct_chg\": -0.0116063138347261, \"Order\": 100}, {\"Year\": 2010, \"Pop\": \"50 to 100\", \"Med_Rent\": 2159.0, \"pct_chg\": 0.014091122592766459, \"Order\": 100}, {\"Year\": 2011, \"Pop\": \"50 to 100\", \"Med_Rent\": 2186.0, \"pct_chg\": 0.012505789717461857, \"Order\": 100}, {\"Year\": 2012, \"Pop\": \"50 to 100\", \"Med_Rent\": 2224.0, \"pct_chg\": 0.017383348581884617, \"Order\": 100}, {\"Year\": 2013, \"Pop\": \"50 to 100\", \"Med_Rent\": 2267.0, \"pct_chg\": 0.019334532374100766, \"Order\": 100}, {\"Year\": 2014, \"Pop\": \"50 to 100\", \"Med_Rent\": 2359.0, \"pct_chg\": 0.04058226731363024, \"Order\": 100}, {\"Year\": 2015, \"Pop\": \"50 to 100\", \"Med_Rent\": 2466.0, \"pct_chg\": 0.0453582026282322, \"Order\": 100}, {\"Year\": 2016, \"Pop\": \"50 to 100\", \"Med_Rent\": 2561.0, \"pct_chg\": 0.03852392538523919, \"Order\": 100}, {\"Year\": 2017, \"Pop\": \"50 to 100\", \"Med_Rent\": 2614.309, \"pct_chg\": 0.05388520109332284, \"Order\": 100}, {\"Year\": 2018, \"Pop\": \"50 to 100\", \"Med_Rent\": 2813.138, \"pct_chg\": 0.09225639125602081, \"Order\": 100}, {\"Year\": 2008, \"Pop\": \"25 to 50\", \"Med_Rent\": 1940.0, \"pct_chg\": -0.34237288135593225, \"Order\": 50}, {\"Year\": 2009, \"Pop\": \"25 to 50\", \"Med_Rent\": 2022.0, \"pct_chg\": 0.042268041237113474, \"Order\": 50}, {\"Year\": 2010, \"Pop\": \"25 to 50\", \"Med_Rent\": 2079.0, \"pct_chg\": 0.028189910979228516, \"Order\": 50}, {\"Year\": 2011, \"Pop\": \"25 to 50\", \"Med_Rent\": 2063.0, \"pct_chg\": -0.007696007696007645, \"Order\": 50}, {\"Year\": 2012, \"Pop\": \"25 to 50\", \"Med_Rent\": 2107.0, \"pct_chg\": 0.02132816286960737, \"Order\": 50}, {\"Year\": 2013, \"Pop\": \"25 to 50\", \"Med_Rent\": 2146.0, \"pct_chg\": 0.018509729473184633, \"Order\": 50}, {\"Year\": 2014, \"Pop\": \"25 to 50\", \"Med_Rent\": 2235.0, \"pct_chg\": 0.04147250698974836, \"Order\": 50}, {\"Year\": 2015, \"Pop\": \"25 to 50\", \"Med_Rent\": 2323.0, \"pct_chg\": 0.03937360178970928, \"Order\": 50}, {\"Year\": 2016, \"Pop\": \"25 to 50\", \"Med_Rent\": 2448.0, \"pct_chg\": 0.05380972879896695, \"Order\": 50}, {\"Year\": 2017, \"Pop\": \"25 to 50\", \"Med_Rent\": 2498.957, \"pct_chg\": 0.20424836601307184, \"Order\": 50}, {\"Year\": 2018, \"Pop\": \"25 to 50\", \"Med_Rent\": 2689.013, \"pct_chg\": -0.06445047489823608, \"Order\": 50}, {\"Year\": 2008, \"Pop\": \"10 to 25\", \"Med_Rent\": 2124.0, \"pct_chg\": null, \"Order\": 25}, {\"Year\": 2009, \"Pop\": \"10 to 25\", \"Med_Rent\": 2193.0, \"pct_chg\": 0.03248587570621475, \"Order\": 25}, {\"Year\": 2010, \"Pop\": \"10 to 25\", \"Med_Rent\": 2222.0, \"pct_chg\": 0.013223894208846287, \"Order\": 25}, {\"Year\": 2011, \"Pop\": \"10 to 25\", \"Med_Rent\": 2239.0, \"pct_chg\": 0.007650765076507637, \"Order\": 25}, {\"Year\": 2012, \"Pop\": \"10 to 25\", \"Med_Rent\": 2243.0, \"pct_chg\": 0.001786511835640825, \"Order\": 25}, {\"Year\": 2013, \"Pop\": \"10 to 25\", \"Med_Rent\": 2272.0, \"pct_chg\": 0.012929112795363462, \"Order\": 25}, {\"Year\": 2014, \"Pop\": \"10 to 25\", \"Med_Rent\": 2366.0, \"pct_chg\": 0.041373239436619746, \"Order\": 25}, {\"Year\": 2015, \"Pop\": \"10 to 25\", \"Med_Rent\": 2472.0, \"pct_chg\": 0.04480135249366013, \"Order\": 25}, {\"Year\": 2016, \"Pop\": \"10 to 25\", \"Med_Rent\": 2595.0, \"pct_chg\": 0.04975728155339798, \"Order\": 25}, {\"Year\": 2017, \"Pop\": \"10 to 25\", \"Med_Rent\": 2649.017, \"pct_chg\": 0.09788053949903652, \"Order\": 25}, {\"Year\": 2018, \"Pop\": \"10 to 25\", \"Med_Rent\": 2850.485, \"pct_chg\": 0.0014040014040013205, \"Order\": 25}, {\"Year\": 2008, \"Pop\": \"Less than 10\", \"Med_Rent\": 2368.0, \"pct_chg\": -0.19674355495251017, \"Order\": 10}, {\"Year\": 2009, \"Pop\": \"Less than 10\", \"Med_Rent\": 2399.0, \"pct_chg\": 0.013091216216216228, \"Order\": 10}, {\"Year\": 2010, \"Pop\": \"Less than 10\", \"Med_Rent\": 2451.0, \"pct_chg\": 0.021675698207586525, \"Order\": 10}, {\"Year\": 2011, \"Pop\": \"Less than 10\", \"Med_Rent\": 2500.0, \"pct_chg\": 0.01999184006527943, \"Order\": 10}, {\"Year\": 2012, \"Pop\": \"Less than 10\", \"Med_Rent\": 2553.0, \"pct_chg\": 0.021200000000000108, \"Order\": 10}, {\"Year\": 2013, \"Pop\": \"Less than 10\", \"Med_Rent\": 2594.0, \"pct_chg\": 0.01605953779866831, \"Order\": 10}, {\"Year\": 2014, \"Pop\": \"Less than 10\", \"Med_Rent\": 2626.0, \"pct_chg\": 0.012336160370084892, \"Order\": 10}, {\"Year\": 2015, \"Pop\": \"Less than 10\", \"Med_Rent\": 2713.0, \"pct_chg\": 0.03313023610053323, \"Order\": 10}, {\"Year\": 2016, \"Pop\": \"Less than 10\", \"Med_Rent\": 2862.0, \"pct_chg\": 0.05492075193512713, \"Order\": 10}, {\"Year\": 2017, \"Pop\": \"Less than 10\", \"Med_Rent\": 2921.575, \"pct_chg\": 0.04856743535988817, \"Order\": 10}, {\"Year\": 2018, \"Pop\": \"Less than 10\", \"Med_Rent\": 3143.772, \"pct_chg\": 0.17427524158613794, \"Order\": 10}], \"data-e8530897f689fae5d28f94668b1d7e65\": [{\"x\": 2008, \"y\": 8000, \"text\": \"$8k per month\"}], \"data-8f136234395aa97b4ad72a5576c29347\": [{\"x\": 2008, \"y\": 8000, \"text\": \"_______________________________________________________________________________\"}]}}, {\"mode\": \"vega-lite\"});\n",
       "</script>"
      ],
      "text/plain": [
       "alt.LayerChart(...)"
      ]
     },
     "execution_count": 108,
     "metadata": {},
     "output_type": "execute_result"
    }
   ],
   "source": [
    "rent_inc_pop_den_chart"
   ]
  },
  {
   "cell_type": "markdown",
   "metadata": {},
   "source": [
    "---"
   ]
  },
  {
   "cell_type": "code",
   "execution_count": 84,
   "metadata": {},
   "outputs": [],
   "source": [
    "homeowner_inc_by_pop_den5 = pd.read_csv('homeowner_inc_by_pop_den_5yr_0816.csv')\n",
    "homeowner_inc_by_pop_den1 = pd.read_csv('homeowner_inc_by_pop_den_1yr_1018.csv')"
   ]
  },
  {
   "cell_type": "code",
   "execution_count": 85,
   "metadata": {},
   "outputs": [],
   "source": [
    "homeowner_inc_pop_den_df = pd.concat([homeowner_inc_by_pop_den5, homeowner_inc_by_pop_den1[homeowner_inc_by_pop_den1.Year > 2016]]).sort_values(['Pop', 'Year']).reset_index(drop=True)"
   ]
  },
  {
   "cell_type": "code",
   "execution_count": 86,
   "metadata": {},
   "outputs": [
    {
     "data": {
      "text/html": [
       "<div>\n",
       "<style scoped>\n",
       "    .dataframe tbody tr th:only-of-type {\n",
       "        vertical-align: middle;\n",
       "    }\n",
       "\n",
       "    .dataframe tbody tr th {\n",
       "        vertical-align: top;\n",
       "    }\n",
       "\n",
       "    .dataframe thead th {\n",
       "        text-align: right;\n",
       "    }\n",
       "</style>\n",
       "<table border=\"1\" class=\"dataframe\">\n",
       "  <thead>\n",
       "    <tr style=\"text-align: right;\">\n",
       "      <th></th>\n",
       "      <th>Year</th>\n",
       "      <th>Pop</th>\n",
       "      <th>Med_Mort</th>\n",
       "    </tr>\n",
       "  </thead>\n",
       "  <tbody>\n",
       "    <tr>\n",
       "      <th>76</th>\n",
       "      <td>2018</td>\n",
       "      <td>More than 1000</td>\n",
       "      <td>7767.0</td>\n",
       "    </tr>\n",
       "  </tbody>\n",
       "</table>\n",
       "</div>"
      ],
      "text/plain": [
       "    Year             Pop  Med_Mort\n",
       "76  2018  More than 1000    7767.0"
      ]
     },
     "execution_count": 86,
     "metadata": {},
     "output_type": "execute_result"
    }
   ],
   "source": [
    "homeowner_inc_pop_den_df.tail(1)"
   ]
  },
  {
   "cell_type": "markdown",
   "metadata": {},
   "source": [
    "*Adjusting 2017 & 2018 values for '10-25' & 'Less than 10' cols (since 1-yr data included few counties of low pop densities, resulting in distorted figures)"
   ]
  },
  {
   "cell_type": "code",
   "execution_count": 87,
   "metadata": {},
   "outputs": [],
   "source": [
    "homeowner_inc_pop_den_df['pct_chg'] = homeowner_inc_pop_den_df['Med_Mort'].pct_change()"
   ]
  },
  {
   "cell_type": "code",
   "execution_count": 88,
   "metadata": {},
   "outputs": [],
   "source": [
    "for year in [2017, 2018]:\n",
    "    yr_df = homeowner_inc_pop_den_df[homeowner_inc_pop_den_df.Year == year]\n",
    "    for typ in ['250 to 1000', '100 to 250', '50 to 100', '25 to 50', '10 to 25', 'Less than 10']:\n",
    "        index = yr_df[yr_df.Pop == typ].index[0]\n",
    "        homeowner_inc_pop_den_df.loc[index, 'Med_Mort'] = round(homeowner_inc_pop_den_df['Med_Mort'][(homeowner_inc_pop_den_df.Year == year-1) & (homeowner_inc_pop_den_df.Pop == typ)].iloc[0] + homeowner_inc_pop_den_df['Med_Mort'][(homeowner_inc_pop_den_df.Year == year-1) & (homeowner_inc_pop_den_df.Pop == typ)].iloc[0] * homeowner_inc_pop_den_df.pct_chg[(homeowner_inc_pop_den_df.Year == year) & (homeowner_inc_pop_den_df.Pop == 'More than 1000')].iloc[0], 3)"
   ]
  },
  {
   "cell_type": "code",
   "execution_count": 89,
   "metadata": {},
   "outputs": [],
   "source": [
    "dic = {}\n",
    "for t in ['More than 1000', '250 to 1000', '100 to 250', '50 to 100', '25 to 50', '10 to 25', 'Less than 10']:\n",
    "    dic[t] = t.split()[-1]"
   ]
  },
  {
   "cell_type": "code",
   "execution_count": 90,
   "metadata": {},
   "outputs": [],
   "source": [
    "homeowner_inc_pop_den_df['Order'] = homeowner_inc_pop_den_df.Pop.map(dic).astype(int)"
   ]
  },
  {
   "cell_type": "code",
   "execution_count": 91,
   "metadata": {},
   "outputs": [],
   "source": [
    "homeowner_inc_pop_den_df = homeowner_inc_pop_den_df.sort_values(['Order', 'Pop'], ascending=[False, False])"
   ]
  },
  {
   "cell_type": "code",
   "execution_count": 95,
   "metadata": {},
   "outputs": [],
   "source": [
    "homeowner_inc_pop_den = alt.Chart(homeowner_inc_pop_den_df, title='Monthly Homeowner Income').mark_line(size=6, opacity=.85, strokeCap='round', interpolate='basis').encode(\n",
    "x=alt.X('Year:O', axis=alt.Axis(values=[2008, 2018], ticks=True, tickSize=10, titleFontSize=20, labelFontSize=18, labelOpacity=.7)),\n",
    "y=alt.Y('Med_Mort', title='Counties grouped by population density', \n",
    "        scale=alt.Scale(domain=[2000,8000]),\n",
    "        axis=alt.Axis(values=list(range(2000, 8000, 1000)), format='~s', \n",
    "                      titleX=-25, titleY=-30, titleFontSize=20, titleOpacity=.7,\n",
    "                      labelFontSize=18, labelOpacity=.7, labelPadding=25)),\n",
    "color=alt.Color('Pop', scale=alt.Scale(domain=list(homeowner_inc_pop_den_df.Pop.unique()), \n",
    "                                             range=['#b2182b','#ef8a62','#fddbc7','#e2e0d3', '#d1e5f0','#67a9cf','#2166ac']), \n",
    "                title='Residents / sq. mile')\n",
    ")\n",
    "\n",
    "y_text_df = pd.DataFrame({'x':[2008], 'y':[8000], 'text':['$8k per month']})\n",
    "y_text = alt.Chart(y_text_df).mark_text(dx=8, dy=0, fontSize=18, font='lato', opacity=.7).encode(x=alt.X('x:O'), y='y', text='text')\n",
    "line = alt.Chart(pd.DataFrame({'x':[2008], 'y':[8000], 'text':['_'*79]})).mark_text(dx=322, dy=-4, opacity=.09, fontSize=11.5, fontWeight='bold').encode(x=alt.X('x:O', axis=None), y=alt.Y('y', axis=None), text='text')\n",
    "\n",
    "\n",
    "homeowner_inc_pop_den_chart = (homeowner_inc_pop_den + y_text + line).configure_legend(titleFont='Lato', titleFontSize=20, titleOpacity=.85, titleLimit=250, labelFont='Lato', labelFontSize=20, labelOpacity=.85, symbolSize=300, symbolStrokeWidth=6)"
   ]
  },
  {
   "cell_type": "code",
   "execution_count": 96,
   "metadata": {},
   "outputs": [
    {
     "data": {
      "text/html": [
       "\n",
       "<div id=\"altair-viz-24\"></div>\n",
       "<script type=\"text/javascript\">\n",
       "  (function(spec, embedOpt){\n",
       "    const outputDiv = document.getElementById(\"altair-viz-24\");\n",
       "    const paths = {\n",
       "      \"vega\": \"https://cdn.jsdelivr.net/npm//vega@5?noext\",\n",
       "      \"vega-lib\": \"https://cdn.jsdelivr.net/npm//vega-lib?noext\",\n",
       "      \"vega-lite\": \"https://cdn.jsdelivr.net/npm//vega-lite@4.0.0?noext\",\n",
       "      \"vega-embed\": \"https://cdn.jsdelivr.net/npm//vega-embed@6?noext\",\n",
       "    };\n",
       "\n",
       "    function loadScript(lib) {\n",
       "      return new Promise(function(resolve, reject) {\n",
       "        var s = document.createElement('script');\n",
       "        s.src = paths[lib];\n",
       "        s.async = true;\n",
       "        s.onload = () => resolve(paths[lib]);\n",
       "        s.onerror = () => reject(`Error loading script: ${paths[lib]}`);\n",
       "        document.getElementsByTagName(\"head\")[0].appendChild(s);\n",
       "      });\n",
       "    }\n",
       "\n",
       "    function showError(err) {\n",
       "      outputDiv.innerHTML = `<div class=\"error\" style=\"color:red;\">${err}</div>`;\n",
       "      throw err;\n",
       "    }\n",
       "\n",
       "    function displayChart(vegaEmbed) {\n",
       "      vegaEmbed(outputDiv, spec, embedOpt)\n",
       "        .catch(err => showError(`Javascript Error: ${err.message}<br>This usually means there's a typo in your chart specification. See the javascript console for the full traceback.`));\n",
       "    }\n",
       "\n",
       "    if(typeof define === \"function\" && define.amd) {\n",
       "      requirejs.config({paths});\n",
       "      require([\"vega-embed\"], displayChart, err => showError(`Error loading script: ${err.message}`));\n",
       "    } else if (typeof vegaEmbed === \"function\") {\n",
       "      displayChart(vegaEmbed);\n",
       "    } else {\n",
       "      loadScript(\"vega\")\n",
       "        .then(() => loadScript(\"vega-lite\"))\n",
       "        .then(() => loadScript(\"vega-embed\"))\n",
       "        .catch(showError)\n",
       "        .then(() => displayChart(vegaEmbed));\n",
       "    }\n",
       "  })({\"width\": 600, \"height\": 400, \"background\": \"white\", \"config\": {\"title\": {\"fontWeight\": \"normal\", \"fontSize\": 36, \"anchor\": \"start\", \"font\": \"Lato\", \"offset\": 5}, \"axisX\": {\"grid\": false, \"labelFont\": \"Lato\", \"labelFontSize\": 16, \"labelAngle\": 0, \"labelPadding\": 10, \"ticks\": false, \"tickSize\": 5, \"title\": null, \"titleFont\": \"Lato\", \"titleFontSize\": 16, \"titleFontWeight\": \"normal\", \"titleY\": 30, \"titleX\": 280}, \"axisY\": {\"grid\": true, \"gridOpacity\": 1, \"labelFont\": \"Lato\", \"labelFontSize\": 16, \"labelLimit\": 100, \"labelAlign\": \"left\", \"labelPadding\": 20, \"ticks\": false, \"title\": null, \"titleFont\": \"Lato\", \"titleFontWeight\": \"normal\", \"titleFontSize\": 16, \"titleAlign\": \"left\", \"titleAngle\": 0, \"titleY\": -20, \"titleX\": -20, \"domainWidth\": 0}, \"view\": {\"strokeOpacity\": 0}, \"legend\": {\"labelFont\": \"Lato\", \"labelFontSize\": 20, \"labelOpacity\": 0.85, \"symbolSize\": 300, \"symbolStrokeWidth\": 6, \"titleFont\": \"Lato\", \"titleFontSize\": 20, \"titleLimit\": 250, \"titleOpacity\": 0.85}}, \"layer\": [{\"data\": {\"name\": \"data-a7e990abf6a0b47809c7a7f174fe5e1d\"}, \"mark\": {\"type\": \"line\", \"interpolate\": \"basis\", \"opacity\": 0.85, \"size\": 6, \"strokeCap\": \"round\"}, \"encoding\": {\"color\": {\"type\": \"nominal\", \"field\": \"Pop\", \"scale\": {\"domain\": [\"More than 1000\", \"250 to 1000\", \"100 to 250\", \"50 to 100\", \"25 to 50\", \"10 to 25\", \"Less than 10\"], \"range\": [\"#b2182b\", \"#ef8a62\", \"#fddbc7\", \"#e2e0d3\", \"#d1e5f0\", \"#67a9cf\", \"#2166ac\"]}, \"title\": \"Residents / sq. mile\"}, \"x\": {\"type\": \"ordinal\", \"axis\": {\"labelFontSize\": 18, \"labelOpacity\": 0.7, \"tickSize\": 10, \"ticks\": true, \"titleFontSize\": 20, \"values\": [2008, 2018]}, \"field\": \"Year\"}, \"y\": {\"type\": \"quantitative\", \"axis\": {\"format\": \"~s\", \"labelFontSize\": 18, \"labelOpacity\": 0.7, \"labelPadding\": 25, \"titleFontSize\": 20, \"titleOpacity\": 0.7, \"titleX\": -25, \"titleY\": -30, \"values\": [2000, 3000, 4000, 5000, 6000, 7000]}, \"field\": \"Med_Mort\", \"scale\": {\"domain\": [2000, 8000]}, \"title\": \"Counties grouped by population density\"}}, \"title\": \"Monthly Homeowner Income\"}, {\"data\": {\"name\": \"data-e8530897f689fae5d28f94668b1d7e65\"}, \"mark\": {\"type\": \"text\", \"dx\": 8, \"dy\": 0, \"font\": \"lato\", \"fontSize\": 18, \"opacity\": 0.7}, \"encoding\": {\"text\": {\"type\": \"nominal\", \"field\": \"text\"}, \"x\": {\"type\": \"ordinal\", \"field\": \"x\"}, \"y\": {\"type\": \"quantitative\", \"field\": \"y\"}}}, {\"data\": {\"name\": \"data-8f136234395aa97b4ad72a5576c29347\"}, \"mark\": {\"type\": \"text\", \"dx\": 322, \"dy\": -4, \"fontSize\": 11.5, \"fontWeight\": \"bold\", \"opacity\": 0.09}, \"encoding\": {\"text\": {\"type\": \"nominal\", \"field\": \"text\"}, \"x\": {\"type\": \"ordinal\", \"axis\": null, \"field\": \"x\"}, \"y\": {\"type\": \"quantitative\", \"axis\": null, \"field\": \"y\"}}}], \"$schema\": \"https://vega.github.io/schema/vega-lite/v4.0.0.json\", \"datasets\": {\"data-a7e990abf6a0b47809c7a7f174fe5e1d\": [{\"Year\": 2008, \"Pop\": \"More than 1000\", \"Med_Mort\": 6203.0, \"pct_chg\": -0.004333868378812222, \"Order\": 1000}, {\"Year\": 2009, \"Pop\": \"More than 1000\", \"Med_Mort\": 6396.0, \"pct_chg\": 0.03111397710785102, \"Order\": 1000}, {\"Year\": 2010, \"Pop\": \"More than 1000\", \"Med_Mort\": 6427.0, \"pct_chg\": 0.004846779237023036, \"Order\": 1000}, {\"Year\": 2011, \"Pop\": \"More than 1000\", \"Med_Mort\": 6472.0, \"pct_chg\": 0.007001711529484922, \"Order\": 1000}, {\"Year\": 2012, \"Pop\": \"More than 1000\", \"Med_Mort\": 6532.0, \"pct_chg\": 0.009270704573547617, \"Order\": 1000}, {\"Year\": 2013, \"Pop\": \"More than 1000\", \"Med_Mort\": 6598.0, \"pct_chg\": 0.010104102878138344, \"Order\": 1000}, {\"Year\": 2014, \"Pop\": \"More than 1000\", \"Med_Mort\": 6789.0, \"pct_chg\": 0.028948166110942752, \"Order\": 1000}, {\"Year\": 2015, \"Pop\": \"More than 1000\", \"Med_Mort\": 7147.0, \"pct_chg\": 0.05273236117248481, \"Order\": 1000}, {\"Year\": 2016, \"Pop\": \"More than 1000\", \"Med_Mort\": 7463.0, \"pct_chg\": 0.04421435567370935, \"Order\": 1000}, {\"Year\": 2017, \"Pop\": \"More than 1000\", \"Med_Mort\": 7554.0, \"pct_chg\": 0.012193487873509268, \"Order\": 1000}, {\"Year\": 2018, \"Pop\": \"More than 1000\", \"Med_Mort\": 7767.0, \"pct_chg\": 0.028196981731533066, \"Order\": 1000}, {\"Year\": 2008, \"Pop\": \"250 to 1000\", \"Med_Mort\": 5652.0, \"pct_chg\": 0.014721723518851038, \"Order\": 1000}, {\"Year\": 2009, \"Pop\": \"250 to 1000\", \"Med_Mort\": 5780.0, \"pct_chg\": 0.0226468506723283, \"Order\": 1000}, {\"Year\": 2010, \"Pop\": \"250 to 1000\", \"Med_Mort\": 5734.0, \"pct_chg\": -0.00795847750865053, \"Order\": 1000}, {\"Year\": 2011, \"Pop\": \"250 to 1000\", \"Med_Mort\": 5738.0, \"pct_chg\": 0.0006975933031043713, \"Order\": 1000}, {\"Year\": 2012, \"Pop\": \"250 to 1000\", \"Med_Mort\": 5781.0, \"pct_chg\": 0.007493900313698232, \"Order\": 1000}, {\"Year\": 2013, \"Pop\": \"250 to 1000\", \"Med_Mort\": 5802.0, \"pct_chg\": 0.0036325895173845435, \"Order\": 1000}, {\"Year\": 2014, \"Pop\": \"250 to 1000\", \"Med_Mort\": 5942.0, \"pct_chg\": 0.02412961047914508, \"Order\": 1000}, {\"Year\": 2015, \"Pop\": \"250 to 1000\", \"Med_Mort\": 6217.0, \"pct_chg\": 0.04628071356445651, \"Order\": 1000}, {\"Year\": 2016, \"Pop\": \"250 to 1000\", \"Med_Mort\": 6499.0, \"pct_chg\": 0.04535949815023321, \"Order\": 1000}, {\"Year\": 2017, \"Pop\": \"250 to 1000\", \"Med_Mort\": 6578.245, \"pct_chg\": -0.007385751654100603, \"Order\": 1000}, {\"Year\": 2018, \"Pop\": \"250 to 1000\", \"Med_Mort\": 6763.732, \"pct_chg\": 0.027747636025422517, \"Order\": 1000}, {\"Year\": 2008, \"Pop\": \"100 to 250\", \"Med_Mort\": 4919.0, \"pct_chg\": 0.12640256468971844, \"Order\": 250}, {\"Year\": 2009, \"Pop\": \"100 to 250\", \"Med_Mort\": 5056.0, \"pct_chg\": 0.027851189266111076, \"Order\": 250}, {\"Year\": 2010, \"Pop\": \"100 to 250\", \"Med_Mort\": 5060.0, \"pct_chg\": 0.0007911392405062223, \"Order\": 250}, {\"Year\": 2011, \"Pop\": \"100 to 250\", \"Med_Mort\": 5017.0, \"pct_chg\": -0.00849802371541497, \"Order\": 250}, {\"Year\": 2012, \"Pop\": \"100 to 250\", \"Med_Mort\": 5046.0, \"pct_chg\": 0.005780346820809301, \"Order\": 250}, {\"Year\": 2013, \"Pop\": \"100 to 250\", \"Med_Mort\": 5091.0, \"pct_chg\": 0.008917954815695683, \"Order\": 250}, {\"Year\": 2014, \"Pop\": \"100 to 250\", \"Med_Mort\": 5189.0, \"pct_chg\": 0.019249656256138392, \"Order\": 250}, {\"Year\": 2015, \"Pop\": \"100 to 250\", \"Med_Mort\": 5417.0, \"pct_chg\": 0.04393910194642503, \"Order\": 250}, {\"Year\": 2016, \"Pop\": \"100 to 250\", \"Med_Mort\": 5637.0, \"pct_chg\": 0.04061288536090091, \"Order\": 250}, {\"Year\": 2017, \"Pop\": \"100 to 250\", \"Med_Mort\": 5705.735, \"pct_chg\": 0.004967181124711617, \"Order\": 250}, {\"Year\": 2018, \"Pop\": \"100 to 250\", \"Med_Mort\": 5866.62, \"pct_chg\": 0.0333627537511032, \"Order\": 250}, {\"Year\": 2008, \"Pop\": \"50 to 100\", \"Med_Mort\": 4356.0, \"pct_chg\": -0.3429864253393665, \"Order\": 100}, {\"Year\": 2009, \"Pop\": \"50 to 100\", \"Med_Mort\": 4369.0, \"pct_chg\": 0.0029843893480256956, \"Order\": 100}, {\"Year\": 2010, \"Pop\": \"50 to 100\", \"Med_Mort\": 4413.0, \"pct_chg\": 0.010070954451819603, \"Order\": 100}, {\"Year\": 2011, \"Pop\": \"50 to 100\", \"Med_Mort\": 4461.0, \"pct_chg\": 0.010876954452753163, \"Order\": 100}, {\"Year\": 2012, \"Pop\": \"50 to 100\", \"Med_Mort\": 4524.0, \"pct_chg\": 0.014122394082044298, \"Order\": 100}, {\"Year\": 2013, \"Pop\": \"50 to 100\", \"Med_Mort\": 4586.0, \"pct_chg\": 0.013704686118479303, \"Order\": 100}, {\"Year\": 2014, \"Pop\": \"50 to 100\", \"Med_Mort\": 4689.0, \"pct_chg\": 0.022459659834278334, \"Order\": 100}, {\"Year\": 2015, \"Pop\": \"50 to 100\", \"Med_Mort\": 4850.0, \"pct_chg\": 0.034335679249306805, \"Order\": 100}, {\"Year\": 2016, \"Pop\": \"50 to 100\", \"Med_Mort\": 5077.0, \"pct_chg\": 0.04680412371134013, \"Order\": 100}, {\"Year\": 2017, \"Pop\": \"50 to 100\", \"Med_Mort\": 5138.906, \"pct_chg\": 0.043529643490250125, \"Order\": 100}, {\"Year\": 2018, \"Pop\": \"50 to 100\", \"Med_Mort\": 5283.808, \"pct_chg\": 0.03567383918459788, \"Order\": 100}, {\"Year\": 2008, \"Pop\": \"25 to 50\", \"Med_Mort\": 4051.0, \"pct_chg\": -0.30799453365220364, \"Order\": 50}, {\"Year\": 2009, \"Pop\": \"25 to 50\", \"Med_Mort\": 4160.0, \"pct_chg\": 0.026906936558874328, \"Order\": 50}, {\"Year\": 2010, \"Pop\": \"25 to 50\", \"Med_Mort\": 4203.0, \"pct_chg\": 0.01033653846153837, \"Order\": 50}, {\"Year\": 2011, \"Pop\": \"25 to 50\", \"Med_Mort\": 4248.0, \"pct_chg\": 0.010706638115631772, \"Order\": 50}, {\"Year\": 2012, \"Pop\": \"25 to 50\", \"Med_Mort\": 4276.0, \"pct_chg\": 0.006591337099811634, \"Order\": 50}, {\"Year\": 2013, \"Pop\": \"25 to 50\", \"Med_Mort\": 4294.0, \"pct_chg\": 0.004209541627689495, \"Order\": 50}, {\"Year\": 2014, \"Pop\": \"25 to 50\", \"Med_Mort\": 4389.0, \"pct_chg\": 0.022123893805309658, \"Order\": 50}, {\"Year\": 2015, \"Pop\": \"25 to 50\", \"Med_Mort\": 4523.0, \"pct_chg\": 0.030530872636135742, \"Order\": 50}, {\"Year\": 2016, \"Pop\": \"25 to 50\", \"Med_Mort\": 4690.0, \"pct_chg\": 0.03692239663939856, \"Order\": 50}, {\"Year\": 2017, \"Pop\": \"25 to 50\", \"Med_Mort\": 4747.187, \"pct_chg\": 0.11343283582089558, \"Order\": 50}, {\"Year\": 2018, \"Pop\": \"25 to 50\", \"Med_Mort\": 4881.043, \"pct_chg\": 0.06664113366526236, \"Order\": 50}, {\"Year\": 2008, \"Pop\": \"10 to 25\", \"Med_Mort\": 3945.0, \"pct_chg\": null, \"Order\": 25}, {\"Year\": 2009, \"Pop\": \"10 to 25\", \"Med_Mort\": 4107.0, \"pct_chg\": 0.04106463878327005, \"Order\": 25}, {\"Year\": 2010, \"Pop\": \"10 to 25\", \"Med_Mort\": 4133.0, \"pct_chg\": 0.006330654979303629, \"Order\": 25}, {\"Year\": 2011, \"Pop\": \"10 to 25\", \"Med_Mort\": 4150.0, \"pct_chg\": 0.004113234938301513, \"Order\": 25}, {\"Year\": 2012, \"Pop\": \"10 to 25\", \"Med_Mort\": 4231.0, \"pct_chg\": 0.019518072289156585, \"Order\": 25}, {\"Year\": 2013, \"Pop\": \"10 to 25\", \"Med_Mort\": 4289.0, \"pct_chg\": 0.013708343181281002, \"Order\": 25}, {\"Year\": 2014, \"Pop\": \"10 to 25\", \"Med_Mort\": 4358.0, \"pct_chg\": 0.016087666122639233, \"Order\": 25}, {\"Year\": 2015, \"Pop\": \"10 to 25\", \"Med_Mort\": 4515.0, \"pct_chg\": 0.03602569986232207, \"Order\": 25}, {\"Year\": 2016, \"Pop\": \"10 to 25\", \"Med_Mort\": 4709.0, \"pct_chg\": 0.0429678848283499, \"Order\": 25}, {\"Year\": 2017, \"Pop\": \"10 to 25\", \"Med_Mort\": 4766.419, \"pct_chg\": -0.05139095349331069, \"Order\": 25}, {\"Year\": 2018, \"Pop\": \"10 to 25\", \"Med_Mort\": 4900.818, \"pct_chg\": -0.022386389075442104, \"Order\": 25}, {\"Year\": 2008, \"Pop\": \"Less than 10\", \"Med_Mort\": 4080.0, \"pct_chg\": -0.2564242755604156, \"Order\": 10}, {\"Year\": 2009, \"Pop\": \"Less than 10\", \"Med_Mort\": 4168.0, \"pct_chg\": 0.021568627450980316, \"Order\": 10}, {\"Year\": 2010, \"Pop\": \"Less than 10\", \"Med_Mort\": 4265.0, \"pct_chg\": 0.023272552783109468, \"Order\": 10}, {\"Year\": 2011, \"Pop\": \"Less than 10\", \"Med_Mort\": 4296.0, \"pct_chg\": 0.007268464243845196, \"Order\": 10}, {\"Year\": 2012, \"Pop\": \"Less than 10\", \"Med_Mort\": 4391.0, \"pct_chg\": 0.022113594040968243, \"Order\": 10}, {\"Year\": 2013, \"Pop\": \"Less than 10\", \"Med_Mort\": 4430.0, \"pct_chg\": 0.008881803689364531, \"Order\": 10}, {\"Year\": 2014, \"Pop\": \"Less than 10\", \"Med_Mort\": 4599.0, \"pct_chg\": 0.03814898419864554, \"Order\": 10}, {\"Year\": 2015, \"Pop\": \"Less than 10\", \"Med_Mort\": 4730.0, \"pct_chg\": 0.028484453141987442, \"Order\": 10}, {\"Year\": 2016, \"Pop\": \"Less than 10\", \"Med_Mort\": 4923.0, \"pct_chg\": 0.040803382663847865, \"Order\": 10}, {\"Year\": 2017, \"Pop\": \"Less than 10\", \"Med_Mort\": 4983.029, \"pct_chg\": 0.1738777168393255, \"Order\": 10}, {\"Year\": 2018, \"Pop\": \"Less than 10\", \"Med_Mort\": 5123.535, \"pct_chg\": 0.07804118359577772, \"Order\": 10}], \"data-e8530897f689fae5d28f94668b1d7e65\": [{\"x\": 2008, \"y\": 8000, \"text\": \"$8k per month\"}], \"data-8f136234395aa97b4ad72a5576c29347\": [{\"x\": 2008, \"y\": 8000, \"text\": \"_______________________________________________________________________________\"}]}}, {\"mode\": \"vega-lite\"});\n",
       "</script>"
      ],
      "text/plain": [
       "alt.LayerChart(...)"
      ]
     },
     "execution_count": 96,
     "metadata": {},
     "output_type": "execute_result"
    }
   ],
   "source": [
    "homeowner_inc_pop_den_chart"
   ]
  },
  {
   "cell_type": "markdown",
   "metadata": {},
   "source": [
    "---"
   ]
  }
 ],
 "metadata": {
  "kernelspec": {
   "display_name": "Python 3",
   "language": "python",
   "name": "python3"
  },
  "language_info": {
   "codemirror_mode": {
    "name": "ipython",
    "version": 3
   },
   "file_extension": ".py",
   "mimetype": "text/x-python",
   "name": "python",
   "nbconvert_exporter": "python",
   "pygments_lexer": "ipython3",
   "version": "3.7.3"
  }
 },
 "nbformat": 4,
 "nbformat_minor": 4
}
