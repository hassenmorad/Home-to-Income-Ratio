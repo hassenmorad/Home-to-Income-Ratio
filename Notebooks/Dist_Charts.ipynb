{
 "cells": [
  {
   "cell_type": "code",
   "execution_count": 246,
   "metadata": {},
   "outputs": [],
   "source": [
    "import pandas as pd\n",
    "import numpy as np"
   ]
  },
  {
   "cell_type": "code",
   "execution_count": 93,
   "metadata": {},
   "outputs": [],
   "source": [
    "%run chart_theme.py"
   ]
  },
  {
   "cell_type": "code",
   "execution_count": 3,
   "metadata": {},
   "outputs": [],
   "source": [
    "rent_mort_inc5 = pd.read_csv('national_rent_vs_mort_and_inc_5yr_0816.csv')\n",
    "rent_mort_inc1 = pd.read_csv('national_rent_vs_mort_and_inc_1yr_1018.csv')"
   ]
  },
  {
   "cell_type": "code",
   "execution_count": 4,
   "metadata": {},
   "outputs": [],
   "source": [
    "vals = []\n",
    "cols = ['Med_Mort', 'Med_Rent', 'Med_Mort_Inc', 'Med_Rent_Inc']\n",
    "for col in cols:\n",
    "    vals.append([i*100 for i in rent_mort_inc1[col].pct_change().cumsum()])"
   ]
  },
  {
   "cell_type": "code",
   "execution_count": 5,
   "metadata": {},
   "outputs": [],
   "source": [
    "pct_chg_df = pd.DataFrame(vals).transpose()\n",
    "pct_chg_df.columns = cols\n",
    "pct_chg_df['Year'] = list(range(2010, 2019))\n",
    "pct_chg_df = pct_chg_df.fillna(0)"
   ]
  },
  {
   "cell_type": "code",
   "execution_count": 6,
   "metadata": {},
   "outputs": [],
   "source": [
    "pct_chg_df = pct_chg_df.melt(id_vars='Year', var_name='Value', value_name='Pct_Change')"
   ]
  },
  {
   "cell_type": "code",
   "execution_count": 7,
   "metadata": {},
   "outputs": [],
   "source": [
    "# Medium article formatting (label size, etc.)\n",
    "rh_housing1 = alt.Chart(pct_chg_df.iloc[:9], title='Change in Housing Expenses and Income'\n",
    "         ).mark_area(interpolate='basis', color='#81addc', opacity=1\n",
    "         ).encode(x=alt.X('Year:O', axis=alt.Axis(values=[2010, 2018], ticks=True, tickSize=10, labelFontSize=18, labelOpacity=.7)), \n",
    "                  y=alt.Y('Pct_Change', title= 'Income growth outpaced housing expenses for both renters and homeowners', \n",
    "                          axis=alt.Axis(values=list(range(-5,30,5)), \n",
    "                                        titleFontSize=20, titleOpacity=.7, titleX=-25, titleY=-30,\n",
    "                                        labelPadding = 25, labelFontSize=18, labelOpacity=.7),\n",
    "                          scale=alt.Scale(domain=[-10,30])))\n",
    "\n",
    "rh_housing2 = alt.Chart(pct_chg_df.iloc[9:18],\n",
    "         ).mark_area(interpolate='basis', color='#b7c83e', opacity=1\n",
    "         ).encode(x='Year:O', y=alt.Y('Pct_Change'))\n",
    "\n",
    "rh_income1 = alt.Chart(pct_chg_df.iloc[18:27],\n",
    "         ).mark_line(size=6, strokeCap='round', interpolate='basis', color='#81addc'\n",
    "         ).encode(x='Year:O', y=alt.Y('Pct_Change'))\n",
    "\n",
    "rh_income2 = alt.Chart(pct_chg_df.iloc[27:],\n",
    "         ).mark_line(size=6, strokeCap='round', interpolate='basis', color='#b7c83e'\n",
    "         ).encode(x='Year:O', y=alt.Y('Pct_Change'))\n",
    "\n",
    "df = pd.DataFrame({'x':list(range(2010,2016)), 'y':[30,30,29.3,27.3,22.9,20.9], 'text':['30% increase', '_'*75, 'Renter', 'Homeowner', 'Income', 'Expenses']})\n",
    "text = alt.Chart(df.query('x==2010')).mark_text(dx=-5, font='lato', fontSize=18, opacity=.7).encode(x='x:O', y='y', text='text')\n",
    "line = alt.Chart(df.query('x==2011')).mark_text(dx=230, dy=-4, opacity=.09, fontSize=11.5, fontWeight='bold').encode(x='x:O', y='y', text='text')\n",
    "rent_inc1 = alt.Chart(df.query('x==2012')).mark_text(dx=446, dy=-5, font='lato', fontSize=24, color='#b7c83e').encode(x='x:O', y='y', text='text')\n",
    "rent_inc2 = alt.Chart(df.query('x==2014')).mark_text(dx=316, dy=-48, font='lato', fontSize=24, color='#b7c83e').encode(x='x:O', y='y', text='text')\n",
    "home_inc1 = alt.Chart(df.query('x==2013')).mark_text(dx=410, dy=42, font='lato', fontSize=24, color='#81addc').encode(x='x:O', y='y', text='text')\n",
    "home_inc2 = alt.Chart(df.query('x==2014')).mark_text(dx=316, dy=20, font='lato', fontSize=24, color='#81addc').encode(x='x:O', y='y', text='text')\n",
    "rent_exp1 = alt.Chart(df.query('x==2012')).mark_text(dx=272, dy=215, font='lato', fontSize=22, fontWeight='bold', color='white').encode(x='x:O', y='y', text='text')\n",
    "rent_exp2 = alt.Chart(df.query('x==2015')).mark_text(dx=85, dy=150, font='lato', fontSize=22, fontWeight='bold', color='white').encode(x='x:O', y='y', text='text')\n",
    "home_exp1 = alt.Chart(df.query('x==2013')).mark_text(dx=37, dy=290, font='lato', fontSize=22, fontWeight='bold', color='white').encode(x='x:O', y='y', text='text')\n",
    "home_exp2 = alt.Chart(df.query('x==2015')).mark_text(dx=-111, dy=247, font='lato', fontSize=22, fontWeight='bold', color='white').encode(x='x:O', y='y', text='text')"
   ]
  },
  {
   "cell_type": "code",
   "execution_count": 80,
   "metadata": {},
   "outputs": [],
   "source": [
    "# Website formatting (label size, etc.)\n",
    "rh_housing1 = alt.Chart(pct_chg_df.iloc[:9], title='Change in Housing Expenses and Income'\n",
    "         ).mark_area(interpolate='basis', color='#81addc', opacity=1\n",
    "         ).encode(x=alt.X('Year:O', axis=alt.Axis(values=[2010, 2018], ticks=True, tickSize=10, labelFontSize=14, labelOpacity=.7)), \n",
    "                  y=alt.Y('Pct_Change', title= 'Income growth outpaced housing expenses for both renters and homeowners', \n",
    "                          axis=alt.Axis(values=list(range(-5,30,5)), \n",
    "                                        titleFontSize=16, titleOpacity=.7, titleX=-25, titleY=-30,\n",
    "                                        labelPadding = 25, labelFontSize=14, labelOpacity=.7),\n",
    "                          scale=alt.Scale(domain=[-10,30])))\n",
    "\n",
    "rh_housing2 = alt.Chart(pct_chg_df.iloc[9:18],\n",
    "         ).mark_area(interpolate='basis', color='#b7c83e', opacity=1\n",
    "         ).encode(x='Year:O', y=alt.Y('Pct_Change'))\n",
    "\n",
    "rh_income1 = alt.Chart(pct_chg_df.iloc[18:27],\n",
    "         ).mark_line(size=6, strokeCap='round', interpolate='basis', color='#81addc'\n",
    "         ).encode(x='Year:O', y=alt.Y('Pct_Change'))\n",
    "\n",
    "rh_income2 = alt.Chart(pct_chg_df.iloc[27:],\n",
    "         ).mark_line(size=6, strokeCap='round', interpolate='basis', color='#b7c83e'\n",
    "         ).encode(x='Year:O', y=alt.Y('Pct_Change'))\n",
    "\n",
    "df = pd.DataFrame({'x':list(range(2010,2016)), 'y':[30,30,29.3,27.3,22.9,20.9], 'text':['30% increase', '_'*80, 'Renter', 'Homeowner', 'Income', 'Expenses']})\n",
    "text = alt.Chart(df.query('x==2010')).mark_text(dx=-17, font='lato', fontSize=14, opacity=.7).encode(x='x:O', y='y', text='text')\n",
    "line = alt.Chart(df.query('x==2011')).mark_text(dx=220, dy=-4, opacity=.09, fontSize=11.5, fontWeight='bold').encode(x='x:O', y='y', text='text')\n",
    "rent_inc1 = alt.Chart(df.query('x==2012')).mark_text(dx=446, dy=-5, font='lato', fontSize=22, color='#b7c83e').encode(x='x:O', y='y', text='text')\n",
    "rent_inc2 = alt.Chart(df.query('x==2014')).mark_text(dx=316, dy=-48, font='lato', fontSize=22, color='#b7c83e').encode(x='x:O', y='y', text='text')\n",
    "home_inc1 = alt.Chart(df.query('x==2013')).mark_text(dx=410, dy=42, font='lato', fontSize=22, color='#81addc').encode(x='x:O', y='y', text='text')\n",
    "home_inc2 = alt.Chart(df.query('x==2014')).mark_text(dx=316, dy=20, font='lato', fontSize=22, color='#81addc').encode(x='x:O', y='y', text='text')\n",
    "rent_exp1 = alt.Chart(df.query('x==2012')).mark_text(dx=272, dy=215, font='lato', fontSize=22, fontWeight='bold', color='white').encode(x='x:O', y='y', text='text')\n",
    "rent_exp2 = alt.Chart(df.query('x==2015')).mark_text(dx=85, dy=150, font='lato', fontSize=22, fontWeight='bold', color='white').encode(x='x:O', y='y', text='text')\n",
    "home_exp1 = alt.Chart(df.query('x==2013')).mark_text(dx=37, dy=290, font='lato', fontSize=22, fontWeight='bold', color='white').encode(x='x:O', y='y', text='text')\n",
    "home_exp2 = alt.Chart(df.query('x==2015')).mark_text(dx=-111, dy=247, font='lato', fontSize=22, fontWeight='bold', color='white').encode(x='x:O', y='y', text='text')"
   ]
  },
  {
   "cell_type": "code",
   "execution_count": 81,
   "metadata": {},
   "outputs": [],
   "source": [
    "inc_hous_chg = (rh_housing1 + rh_housing2 + rh_income1 + rh_income2 + text + line + rent_inc1 + rent_inc2 + home_inc1 + home_inc2 + rent_exp1 + rent_exp2 + home_exp1 + home_exp2).configure_title(fontSize=18)"
   ]
  },
  {
   "cell_type": "code",
   "execution_count": 82,
   "metadata": {},
   "outputs": [
    {
     "data": {
      "text/html": [
       "\n",
       "<div id=\"altair-viz-21\"></div>\n",
       "<script type=\"text/javascript\">\n",
       "  (function(spec, embedOpt){\n",
       "    const outputDiv = document.getElementById(\"altair-viz-21\");\n",
       "    const paths = {\n",
       "      \"vega\": \"https://cdn.jsdelivr.net/npm//vega@5?noext\",\n",
       "      \"vega-lib\": \"https://cdn.jsdelivr.net/npm//vega-lib?noext\",\n",
       "      \"vega-lite\": \"https://cdn.jsdelivr.net/npm//vega-lite@4.0.0?noext\",\n",
       "      \"vega-embed\": \"https://cdn.jsdelivr.net/npm//vega-embed@6?noext\",\n",
       "    };\n",
       "\n",
       "    function loadScript(lib) {\n",
       "      return new Promise(function(resolve, reject) {\n",
       "        var s = document.createElement('script');\n",
       "        s.src = paths[lib];\n",
       "        s.async = true;\n",
       "        s.onload = () => resolve(paths[lib]);\n",
       "        s.onerror = () => reject(`Error loading script: ${paths[lib]}`);\n",
       "        document.getElementsByTagName(\"head\")[0].appendChild(s);\n",
       "      });\n",
       "    }\n",
       "\n",
       "    function showError(err) {\n",
       "      outputDiv.innerHTML = `<div class=\"error\" style=\"color:red;\">${err}</div>`;\n",
       "      throw err;\n",
       "    }\n",
       "\n",
       "    function displayChart(vegaEmbed) {\n",
       "      vegaEmbed(outputDiv, spec, embedOpt)\n",
       "        .catch(err => showError(`Javascript Error: ${err.message}<br>This usually means there's a typo in your chart specification. See the javascript console for the full traceback.`));\n",
       "    }\n",
       "\n",
       "    if(typeof define === \"function\" && define.amd) {\n",
       "      requirejs.config({paths});\n",
       "      require([\"vega-embed\"], displayChart, err => showError(`Error loading script: ${err.message}`));\n",
       "    } else if (typeof vegaEmbed === \"function\") {\n",
       "      displayChart(vegaEmbed);\n",
       "    } else {\n",
       "      loadScript(\"vega\")\n",
       "        .then(() => loadScript(\"vega-lite\"))\n",
       "        .then(() => loadScript(\"vega-embed\"))\n",
       "        .catch(showError)\n",
       "        .then(() => displayChart(vegaEmbed));\n",
       "    }\n",
       "  })({\"width\": 600, \"height\": 400, \"background\": \"white\", \"config\": {\"title\": {\"fontSize\": 18, \"anchor\": \"start\", \"font\": \"Lato\", \"offset\": 5}, \"axisX\": {\"grid\": false, \"labelFont\": \"Lato\", \"labelFontSize\": 16, \"labelAngle\": 0, \"labelPadding\": 10, \"ticks\": false, \"tickSize\": 5, \"title\": null, \"titleFont\": \"Lato\", \"titleFontSize\": 16, \"titleFontWeight\": \"normal\", \"titleY\": 30, \"titleX\": 280}, \"axisY\": {\"grid\": true, \"gridOpacity\": 1, \"labelFont\": \"Lato\", \"labelFontSize\": 16, \"labelLimit\": 100, \"labelAlign\": \"left\", \"labelPadding\": 20, \"ticks\": false, \"title\": null, \"titleFont\": \"Lato\", \"titleFontWeight\": \"normal\", \"titleFontSize\": 16, \"titleAlign\": \"left\", \"titleAngle\": 0, \"titleY\": -20, \"titleX\": -20, \"domainWidth\": 0}, \"view\": {\"strokeOpacity\": 0}}, \"layer\": [{\"data\": {\"name\": \"data-377889f6e56f2e6bee191bf6bc3989ff\"}, \"mark\": {\"type\": \"area\", \"color\": \"#81addc\", \"interpolate\": \"basis\", \"opacity\": 1}, \"encoding\": {\"x\": {\"type\": \"ordinal\", \"axis\": {\"labelFontSize\": 14, \"labelOpacity\": 0.7, \"tickSize\": 10, \"ticks\": true, \"values\": [2010, 2018]}, \"field\": \"Year\"}, \"y\": {\"type\": \"quantitative\", \"axis\": {\"labelFontSize\": 14, \"labelOpacity\": 0.7, \"labelPadding\": 25, \"titleFontSize\": 16, \"titleOpacity\": 0.7, \"titleX\": -25, \"titleY\": -30, \"values\": [-5, 0, 5, 10, 15, 20, 25]}, \"field\": \"Pct_Change\", \"scale\": {\"domain\": [-10, 30]}, \"title\": \"Income growth outpaced housing expenses for both renters and homeowners\"}}, \"title\": \"Change in Housing Expenses and Income\"}, {\"data\": {\"name\": \"data-1c64bb862641fa14714b4f450630859d\"}, \"mark\": {\"type\": \"area\", \"color\": \"#b7c83e\", \"interpolate\": \"basis\", \"opacity\": 1}, \"encoding\": {\"x\": {\"type\": \"ordinal\", \"field\": \"Year\"}, \"y\": {\"type\": \"quantitative\", \"field\": \"Pct_Change\"}}}, {\"data\": {\"name\": \"data-cb4b815d247c2fa5c32d450fe9467f4b\"}, \"mark\": {\"type\": \"line\", \"color\": \"#81addc\", \"interpolate\": \"basis\", \"size\": 6, \"strokeCap\": \"round\"}, \"encoding\": {\"x\": {\"type\": \"ordinal\", \"field\": \"Year\"}, \"y\": {\"type\": \"quantitative\", \"field\": \"Pct_Change\"}}}, {\"data\": {\"name\": \"data-45b362d7abb9c202fe1d1d3fa1fbcba4\"}, \"mark\": {\"type\": \"line\", \"color\": \"#b7c83e\", \"interpolate\": \"basis\", \"size\": 6, \"strokeCap\": \"round\"}, \"encoding\": {\"x\": {\"type\": \"ordinal\", \"field\": \"Year\"}, \"y\": {\"type\": \"quantitative\", \"field\": \"Pct_Change\"}}}, {\"data\": {\"name\": \"data-1312dd03f0a763549776cd2f9d4c18ee\"}, \"mark\": {\"type\": \"text\", \"dx\": -17, \"font\": \"lato\", \"fontSize\": 14, \"opacity\": 0.7}, \"encoding\": {\"text\": {\"type\": \"nominal\", \"field\": \"text\"}, \"x\": {\"type\": \"ordinal\", \"field\": \"x\"}, \"y\": {\"type\": \"quantitative\", \"field\": \"y\"}}}, {\"data\": {\"name\": \"data-ffc32e77651f1794c2a4ab1dc810f760\"}, \"mark\": {\"type\": \"text\", \"dx\": 220, \"dy\": -4, \"fontSize\": 11.5, \"fontWeight\": \"bold\", \"opacity\": 0.09}, \"encoding\": {\"text\": {\"type\": \"nominal\", \"field\": \"text\"}, \"x\": {\"type\": \"ordinal\", \"field\": \"x\"}, \"y\": {\"type\": \"quantitative\", \"field\": \"y\"}}}, {\"data\": {\"name\": \"data-6ea092795ae0a82af1627963e9606d68\"}, \"mark\": {\"type\": \"text\", \"color\": \"#b7c83e\", \"dx\": 446, \"dy\": -5, \"font\": \"lato\", \"fontSize\": 22}, \"encoding\": {\"text\": {\"type\": \"nominal\", \"field\": \"text\"}, \"x\": {\"type\": \"ordinal\", \"field\": \"x\"}, \"y\": {\"type\": \"quantitative\", \"field\": \"y\"}}}, {\"data\": {\"name\": \"data-edbaa32503381a1e1d68d4b29a822939\"}, \"mark\": {\"type\": \"text\", \"color\": \"#b7c83e\", \"dx\": 316, \"dy\": -48, \"font\": \"lato\", \"fontSize\": 22}, \"encoding\": {\"text\": {\"type\": \"nominal\", \"field\": \"text\"}, \"x\": {\"type\": \"ordinal\", \"field\": \"x\"}, \"y\": {\"type\": \"quantitative\", \"field\": \"y\"}}}, {\"data\": {\"name\": \"data-696107cd9f2e6b5958456e8d98406dbe\"}, \"mark\": {\"type\": \"text\", \"color\": \"#81addc\", \"dx\": 410, \"dy\": 42, \"font\": \"lato\", \"fontSize\": 22}, \"encoding\": {\"text\": {\"type\": \"nominal\", \"field\": \"text\"}, \"x\": {\"type\": \"ordinal\", \"field\": \"x\"}, \"y\": {\"type\": \"quantitative\", \"field\": \"y\"}}}, {\"data\": {\"name\": \"data-edbaa32503381a1e1d68d4b29a822939\"}, \"mark\": {\"type\": \"text\", \"color\": \"#81addc\", \"dx\": 316, \"dy\": 20, \"font\": \"lato\", \"fontSize\": 22}, \"encoding\": {\"text\": {\"type\": \"nominal\", \"field\": \"text\"}, \"x\": {\"type\": \"ordinal\", \"field\": \"x\"}, \"y\": {\"type\": \"quantitative\", \"field\": \"y\"}}}, {\"data\": {\"name\": \"data-6ea092795ae0a82af1627963e9606d68\"}, \"mark\": {\"type\": \"text\", \"color\": \"white\", \"dx\": 272, \"dy\": 215, \"font\": \"lato\", \"fontSize\": 22, \"fontWeight\": \"bold\"}, \"encoding\": {\"text\": {\"type\": \"nominal\", \"field\": \"text\"}, \"x\": {\"type\": \"ordinal\", \"field\": \"x\"}, \"y\": {\"type\": \"quantitative\", \"field\": \"y\"}}}, {\"data\": {\"name\": \"data-17ecb6fad9908ff09ba9b684b3d5fee2\"}, \"mark\": {\"type\": \"text\", \"color\": \"white\", \"dx\": 85, \"dy\": 150, \"font\": \"lato\", \"fontSize\": 22, \"fontWeight\": \"bold\"}, \"encoding\": {\"text\": {\"type\": \"nominal\", \"field\": \"text\"}, \"x\": {\"type\": \"ordinal\", \"field\": \"x\"}, \"y\": {\"type\": \"quantitative\", \"field\": \"y\"}}}, {\"data\": {\"name\": \"data-696107cd9f2e6b5958456e8d98406dbe\"}, \"mark\": {\"type\": \"text\", \"color\": \"white\", \"dx\": 37, \"dy\": 290, \"font\": \"lato\", \"fontSize\": 22, \"fontWeight\": \"bold\"}, \"encoding\": {\"text\": {\"type\": \"nominal\", \"field\": \"text\"}, \"x\": {\"type\": \"ordinal\", \"field\": \"x\"}, \"y\": {\"type\": \"quantitative\", \"field\": \"y\"}}}, {\"data\": {\"name\": \"data-17ecb6fad9908ff09ba9b684b3d5fee2\"}, \"mark\": {\"type\": \"text\", \"color\": \"white\", \"dx\": -111, \"dy\": 247, \"font\": \"lato\", \"fontSize\": 22, \"fontWeight\": \"bold\"}, \"encoding\": {\"text\": {\"type\": \"nominal\", \"field\": \"text\"}, \"x\": {\"type\": \"ordinal\", \"field\": \"x\"}, \"y\": {\"type\": \"quantitative\", \"field\": \"y\"}}}], \"$schema\": \"https://vega.github.io/schema/vega-lite/v4.0.0.json\", \"datasets\": {\"data-377889f6e56f2e6bee191bf6bc3989ff\": [{\"Year\": 2010, \"Value\": \"Med_Mort\", \"Pct_Change\": 0.0}, {\"Year\": 2011, \"Value\": \"Med_Mort\", \"Pct_Change\": -0.9057971014492794}, {\"Year\": 2012, \"Value\": \"Med_Mort\", \"Pct_Change\": -3.4652120923085117}, {\"Year\": 2013, \"Value\": \"Med_Mort\", \"Pct_Change\": -6.748514156098384}, {\"Year\": 2014, \"Value\": \"Med_Mort\", \"Pct_Change\": -5.293615998969381}, {\"Year\": 2015, \"Value\": \"Med_Mort\", \"Pct_Change\": -3.7639792876883016}, {\"Year\": 2016, \"Value\": \"Med_Mort\", \"Pct_Change\": -3.7639792876883016}, {\"Year\": 2017, \"Value\": \"Med_Mort\", \"Pct_Change\": -2.163225992019746}, {\"Year\": 2018, \"Value\": \"Med_Mort\", \"Pct_Change\": 0.061055750334282344}], \"data-1c64bb862641fa14714b4f450630859d\": [{\"Year\": 2010, \"Value\": \"Med_Rent\", \"Pct_Change\": 0.0}, {\"Year\": 2011, \"Value\": \"Med_Rent\", \"Pct_Change\": 1.871345029239757}, {\"Year\": 2012, \"Value\": \"Med_Rent\", \"Pct_Change\": 3.3638823426725972}, {\"Year\": 2013, \"Value\": \"Med_Rent\", \"Pct_Change\": 5.739447953532317}, {\"Year\": 2014, \"Value\": \"Med_Rent\", \"Pct_Change\": 8.943867843035068}, {\"Year\": 2015, \"Value\": \"Med_Rent\", \"Pct_Change\": 11.620527371942991}, {\"Year\": 2016, \"Value\": \"Med_Rent\", \"Pct_Change\": 13.914583680597836}, {\"Year\": 2017, \"Value\": \"Med_Rent\", \"Pct_Change\": 17.07462445531751}, {\"Year\": 2018, \"Value\": \"Med_Rent\", \"Pct_Change\": 21.62007900077205}], \"data-cb4b815d247c2fa5c32d450fe9467f4b\": [{\"Year\": 2010, \"Value\": \"Med_Mort_Inc\", \"Pct_Change\": 0.0}, {\"Year\": 2011, \"Value\": \"Med_Mort_Inc\", \"Pct_Change\": 1.8504387638305975}, {\"Year\": 2012, \"Value\": \"Med_Mort_Inc\", \"Pct_Change\": 4.116780775443263}, {\"Year\": 2013, \"Value\": \"Med_Mort_Inc\", \"Pct_Change\": 6.113117771780252}, {\"Year\": 2014, \"Value\": \"Med_Mort_Inc\", \"Pct_Change\": 9.05799117813686}, {\"Year\": 2015, \"Value\": \"Med_Mort_Inc\", \"Pct_Change\": 12.302365851082953}, {\"Year\": 2016, \"Value\": \"Med_Mort_Inc\", \"Pct_Change\": 15.258946354546365}, {\"Year\": 2017, \"Value\": \"Med_Mort_Inc\", \"Pct_Change\": 19.016740906564756}, {\"Year\": 2018, \"Value\": \"Med_Mort_Inc\", \"Pct_Change\": 21.87930614458469}], \"data-45b362d7abb9c202fe1d1d3fa1fbcba4\": [{\"Year\": 2010, \"Value\": \"Med_Rent_Inc\", \"Pct_Change\": 0.0}, {\"Year\": 2011, \"Value\": \"Med_Rent_Inc\", \"Pct_Change\": 0.8607198748043832}, {\"Year\": 2012, \"Value\": \"Med_Rent_Inc\", \"Pct_Change\": 3.9251108755801845}, {\"Year\": 2013, \"Value\": \"Med_Rent_Inc\", \"Pct_Change\": 6.898389008813144}, {\"Year\": 2014, \"Value\": \"Med_Rent_Inc\", \"Pct_Change\": 11.64985099711724}, {\"Year\": 2015, \"Value\": \"Med_Rent_Inc\", \"Pct_Change\": 15.941546740313338}, {\"Year\": 2016, \"Value\": \"Med_Rent_Inc\", \"Pct_Change\": 19.822443361256802}, {\"Year\": 2017, \"Value\": \"Med_Rent_Inc\", \"Pct_Change\": 24.331300044026527}, {\"Year\": 2018, \"Value\": \"Med_Rent_Inc\", \"Pct_Change\": 28.42991329518214}], \"data-1312dd03f0a763549776cd2f9d4c18ee\": [{\"x\": 2010, \"y\": 30.0, \"text\": \"30% increase\"}], \"data-ffc32e77651f1794c2a4ab1dc810f760\": [{\"x\": 2011, \"y\": 30.0, \"text\": \"________________________________________________________________________________\"}], \"data-6ea092795ae0a82af1627963e9606d68\": [{\"x\": 2012, \"y\": 29.3, \"text\": \"Renter\"}], \"data-edbaa32503381a1e1d68d4b29a822939\": [{\"x\": 2014, \"y\": 22.9, \"text\": \"Income\"}], \"data-696107cd9f2e6b5958456e8d98406dbe\": [{\"x\": 2013, \"y\": 27.3, \"text\": \"Homeowner\"}], \"data-17ecb6fad9908ff09ba9b684b3d5fee2\": [{\"x\": 2015, \"y\": 20.9, \"text\": \"Expenses\"}]}}, {\"mode\": \"vega-lite\"});\n",
       "</script>"
      ],
      "text/plain": [
       "alt.LayerChart(...)"
      ]
     },
     "execution_count": 82,
     "metadata": {},
     "output_type": "execute_result"
    }
   ],
   "source": [
    "inc_hous_chg"
   ]
  },
  {
   "cell_type": "code",
   "execution_count": 83,
   "metadata": {},
   "outputs": [],
   "source": [
    "inc_hous_chg.save('inc_hous_chg_1018.png', scale_factor=6)"
   ]
  },
  {
   "cell_type": "markdown",
   "metadata": {},
   "source": [
    "---"
   ]
  },
  {
   "cell_type": "code",
   "execution_count": 44,
   "metadata": {},
   "outputs": [],
   "source": [
    "nat_mort_inc = alt.Chart(rent_mort_inc1\n",
    "                    ).mark_area(opacity=.7, strokeCap='round', color='#97c2f2', interpolate='basis'\n",
    "                               ).encode(x=alt.X('Year:O', axis=alt.Axis(values=[2010,2018], ticks=True, tickSize=13, \n",
    "                                                                        labelFontSize=23, labelOpacity=.7, labelPadding=13)), \n",
    "                                        y=alt.Y('Med_Mort_Inc',\n",
    "                                               axis=alt.Axis(values=list(range(1000, 8000, 1000)), format='~s', \n",
    "                                                             labelPadding=30, \n",
    "                                                             labelOpacity=.7,\n",
    "                                                             labelFontSize=23)))"
   ]
  },
  {
   "cell_type": "code",
   "execution_count": 45,
   "metadata": {},
   "outputs": [],
   "source": [
    "nat_rent_inc = alt.Chart(rent_mort_inc1, title='Median Income (Renters)'\n",
    "                    ).mark_area(opacity=.7, strokeCap='round', color='#cede54', interpolate='basis'\n",
    "                               ).encode(x=alt.X('Year:O', axis=alt.Axis(values=[2010,2018], ticks=True, tickSize=13, labelFontSize=23, \n",
    "                                                                        labelOpacity=.7, labelPadding=13)), \n",
    "                                        y=alt.Y('Med_Rent_Inc',\n",
    "                                               axis=alt.Axis(values=list(range(1000, 8000, 1000)), format='~s', \n",
    "                                                             titleX=-31, titleY=-40, titleOpacity=.7, titleFontSize=26,\n",
    "                                                             labelPadding=30, labelOpacity=.7, labelFontSize=23)))"
   ]
  },
  {
   "cell_type": "code",
   "execution_count": 46,
   "metadata": {},
   "outputs": [],
   "source": [
    "nat_mort = alt.Chart(rent_mort_inc1\n",
    "                    ).mark_line(size=5, strokeCap='round', color='#97c2f2', interpolate='basis'\n",
    "                               ).encode(x=alt.X('Year:O', axis=alt.Axis(values=[2010,2018], ticks=True, tickSize=13, \n",
    "                                                                        labelFontSize=16, labelOpacity=.7, labelPadding=13)), \n",
    "                                        y=alt.Y('Med_Mort',\n",
    "                                               axis=alt.Axis(labelPadding=40, labelOpacity=.7,labelFontSize=16, format='<a'),\n",
    "                                               scale=alt.Scale(domain=[400,1400])))"
   ]
  },
  {
   "cell_type": "code",
   "execution_count": 52,
   "metadata": {},
   "outputs": [],
   "source": [
    "nat_rent = alt.Chart(rent_mort_inc1, title='Monthly Housing Expenses'\n",
    "                    ).mark_line(size=5, strokeCap='round', color='#cede54', interpolate='basis'\n",
    "                               ).encode(x=alt.X('Year:O', axis=alt.Axis(values=[2010,2018], ticks=True, tickSize=13, \n",
    "                                                                        labelFontSize=16, labelOpacity=.7, labelPadding=13)), \n",
    "                                        y=alt.Y('Med_Rent', title='Renter housing expenses are now almost equal to homeowner expenses',\n",
    "                                               axis=alt.Axis(values=list(range(600, 1300, 200)), format='<a',\n",
    "                                                             titleX=-50, titleY=-40, titleOpacity=.7, titleFontSize=18,\n",
    "                                                             labelPadding=40, labelOpacity=.7,labelFontSize=16),\n",
    "                                               scale=alt.Scale(domain=[400,1400])))\n",
    "\n",
    "df = pd.DataFrame({'x':[2010,2011,2017,2016], 'y':[1400, 1400, 1150, 930], 'text':['$1400 per month', '_'*82, 'Homeowners', 'Renters']})\n",
    "y_label = alt.Chart(df.query('x==2010')\n",
    "                   ).mark_text(dx=-20, font='lato', fontSize=16, opacity=.7\n",
    "                   ).encode(x='x:O', y='y', text='text')\n",
    "\n",
    "line = alt.Chart(df.query('x==2011')).mark_text(dx=240, dy=-4, opacity=.09, \n",
    "                                                fontSize=11.5, fontWeight='bold').encode(x='x:O', y='y', text='text')\n",
    "\n",
    "homeowners = alt.Chart(df.query('x==2017')).mark_text(dx=0, dy=0, font='lato', fontSize=22, color='#81addc').encode(x='x:O', y='y', text='text')\n",
    "renters = alt.Chart(df.query('x==2016')).mark_text(dx=60, dy=0, font='lato', fontSize=22, color='#b7c83e').encode(x='x:O', y='y', text='text')"
   ]
  },
  {
   "cell_type": "code",
   "execution_count": 53,
   "metadata": {},
   "outputs": [
    {
     "ename": "NameError",
     "evalue": "name 'nat_mort' is not defined",
     "output_type": "error",
     "traceback": [
      "\u001b[1;31m---------------------------------------------------------------------------\u001b[0m",
      "\u001b[1;31mNameError\u001b[0m                                 Traceback (most recent call last)",
      "\u001b[1;32m<ipython-input-53-2b76a999db7c>\u001b[0m in \u001b[0;36m<module>\u001b[1;34m\u001b[0m\n\u001b[1;32m----> 1\u001b[1;33m \u001b[0mhous_expens_chart\u001b[0m \u001b[1;33m=\u001b[0m \u001b[1;33m(\u001b[0m\u001b[0mnat_mort\u001b[0m \u001b[1;33m+\u001b[0m \u001b[0mnat_rent\u001b[0m \u001b[1;33m+\u001b[0m \u001b[0my_label\u001b[0m \u001b[1;33m+\u001b[0m \u001b[0mline\u001b[0m \u001b[1;33m+\u001b[0m \u001b[0mhomeowners\u001b[0m \u001b[1;33m+\u001b[0m \u001b[0mrenters\u001b[0m\u001b[1;33m)\u001b[0m\u001b[1;33m.\u001b[0m\u001b[0mconfigure_title\u001b[0m\u001b[1;33m(\u001b[0m\u001b[0mfontSize\u001b[0m\u001b[1;33m=\u001b[0m\u001b[1;36m22\u001b[0m\u001b[1;33m)\u001b[0m\u001b[1;33m\u001b[0m\u001b[1;33m\u001b[0m\u001b[0m\n\u001b[0m\u001b[0;32m      2\u001b[0m \u001b[0mhous_expens_chart\u001b[0m\u001b[1;33m\u001b[0m\u001b[1;33m\u001b[0m\u001b[0m\n",
      "\u001b[1;31mNameError\u001b[0m: name 'nat_mort' is not defined"
     ]
    }
   ],
   "source": [
    "hous_expens_chart = (nat_mort + nat_rent + y_label + line + homeowners + renters).configure_title(fontSize=22)\n",
    "hous_expens_chart"
   ]
  },
  {
   "cell_type": "code",
   "execution_count": 49,
   "metadata": {},
   "outputs": [],
   "source": [
    "hous_expens_chart.save('mort_rent_exp_1018.png', scale_factor=6)"
   ]
  },
  {
   "cell_type": "markdown",
   "metadata": {},
   "source": [
    "---"
   ]
  },
  {
   "cell_type": "code",
   "execution_count": 7,
   "metadata": {},
   "outputs": [],
   "source": [
    "file = pd.read_csv('county_rent_mort_inc_units_5yr.csv')"
   ]
  },
  {
   "cell_type": "code",
   "execution_count": 8,
   "metadata": {},
   "outputs": [],
   "source": [
    "cols = ['Year', 'FIPS', 'County', 'Med_Mort', 'Med_Rent', 'Med_Mort_Inc', 'Med_Rent_Inc', 'Mort_Share_Inc', 'Rent_Share_Inc', 'Total_Owned', 'Total_Rented']\n",
    "last = file[cols][file.Year == 2016]"
   ]
  },
  {
   "cell_type": "code",
   "execution_count": 9,
   "metadata": {},
   "outputs": [],
   "source": [
    "last['Rent_Share_Inc_Bin'] = last.Rent_Share_Inc.round().values\n",
    "last['Mort_Share_Inc_Bin'] = last.Mort_Share_Inc.round().values"
   ]
  },
  {
   "cell_type": "code",
   "execution_count": 10,
   "metadata": {},
   "outputs": [],
   "source": [
    "vals_dict = {}\n",
    "for val in last.Rent_Share_Inc_Bin.dropna().unique():\n",
    "    bin_fips = last.FIPS[last.Rent_Share_Inc_Bin == val].values\n",
    "    vals_dict[val] = len(bin_fips)"
   ]
  },
  {
   "cell_type": "code",
   "execution_count": 11,
   "metadata": {},
   "outputs": [],
   "source": [
    "df = pd.DataFrame(vals_dict.items())\n",
    "df.columns = ['Bin', 'Count']"
   ]
  },
  {
   "cell_type": "code",
   "execution_count": 12,
   "metadata": {},
   "outputs": [],
   "source": [
    "chart = alt.Chart(df, title='Renter Income Devoted to Housing (2014-2018)'\n",
    "                 ).mark_bar(size=11, color='#cede54'\n",
    "                           ).encode(x=alt.X('Bin', title='Income Devoted to Housing', axis=alt.Axis(titleY=35, titleOpacity=.7, labelOpacity=0)), \n",
    "                                    y=alt.Y('Count', title='In most counties, the median share of income devoted to housing is between 20% and 40%', \n",
    "                                            axis=alt.Axis(values=list(range(50,300,50)), \n",
    "                                                          titleX=-30, titleY=-30, titleOpacity=.7, labelOpacity=.7, labelPadding=30), \n",
    "                                            scale=alt.Scale(domain=[0,300])))\n",
    "x_text_df = pd.DataFrame({'x':list(range(5,60,5)), 'y':[0]*11, 'text':['   5%'] + [str(i) for i in range(10,60,5)]})\n",
    "x_text = alt.Chart(x_text_df).mark_text(dx=0, dy=17, fontSize=16, font='lato', opacity=.7).encode(x=alt.X('x'), y='y', text='text')\n",
    "y_text_df = pd.DataFrame({'x':[10], 'y':[300], 'text':['300 counties']})\n",
    "y_text = alt.Chart(y_text_df).mark_text(dx=-44, dy=0, fontSize=16, font='lato', opacity=.7).encode(x=alt.X('x', scale=alt.Scale(domain=[10,50])), y='y', text='text')\n",
    "line = alt.Chart(pd.DataFrame({'x1':[10.3], 'x2':[55], 'y1':[300]})).mark_rule(opacity=.15).encode(x=alt.X('x1', scale=alt.Scale(domain=[10,50])), x2='x2',y='y1')\n",
    "\n",
    "rent_inc_dist = (chart + line + x_text + y_text).configure_title(fontSize=20)"
   ]
  },
  {
   "cell_type": "code",
   "execution_count": 14,
   "metadata": {},
   "outputs": [
    {
     "data": {
      "text/html": [
       "\n",
       "<div id=\"altair-viz-2\"></div>\n",
       "<script type=\"text/javascript\">\n",
       "  (function(spec, embedOpt){\n",
       "    const outputDiv = document.getElementById(\"altair-viz-2\");\n",
       "    const paths = {\n",
       "      \"vega\": \"https://cdn.jsdelivr.net/npm//vega@5?noext\",\n",
       "      \"vega-lib\": \"https://cdn.jsdelivr.net/npm//vega-lib?noext\",\n",
       "      \"vega-lite\": \"https://cdn.jsdelivr.net/npm//vega-lite@4.0.0?noext\",\n",
       "      \"vega-embed\": \"https://cdn.jsdelivr.net/npm//vega-embed@6?noext\",\n",
       "    };\n",
       "\n",
       "    function loadScript(lib) {\n",
       "      return new Promise(function(resolve, reject) {\n",
       "        var s = document.createElement('script');\n",
       "        s.src = paths[lib];\n",
       "        s.async = true;\n",
       "        s.onload = () => resolve(paths[lib]);\n",
       "        s.onerror = () => reject(`Error loading script: ${paths[lib]}`);\n",
       "        document.getElementsByTagName(\"head\")[0].appendChild(s);\n",
       "      });\n",
       "    }\n",
       "\n",
       "    function showError(err) {\n",
       "      outputDiv.innerHTML = `<div class=\"error\" style=\"color:red;\">${err}</div>`;\n",
       "      throw err;\n",
       "    }\n",
       "\n",
       "    function displayChart(vegaEmbed) {\n",
       "      vegaEmbed(outputDiv, spec, embedOpt)\n",
       "        .catch(err => showError(`Javascript Error: ${err.message}<br>This usually means there's a typo in your chart specification. See the javascript console for the full traceback.`));\n",
       "    }\n",
       "\n",
       "    if(typeof define === \"function\" && define.amd) {\n",
       "      requirejs.config({paths});\n",
       "      require([\"vega-embed\"], displayChart, err => showError(`Error loading script: ${err.message}`));\n",
       "    } else if (typeof vegaEmbed === \"function\") {\n",
       "      displayChart(vegaEmbed);\n",
       "    } else {\n",
       "      loadScript(\"vega\")\n",
       "        .then(() => loadScript(\"vega-lite\"))\n",
       "        .then(() => loadScript(\"vega-embed\"))\n",
       "        .catch(showError)\n",
       "        .then(() => displayChart(vegaEmbed));\n",
       "    }\n",
       "  })({\"width\": 600, \"height\": 400, \"background\": \"white\", \"config\": {\"title\": {\"fontSize\": 20, \"anchor\": \"start\", \"font\": \"Lato\", \"offset\": 5}, \"axisX\": {\"grid\": false, \"labelFont\": \"Lato\", \"labelFontSize\": 16, \"labelAngle\": 0, \"labelPadding\": 10, \"ticks\": false, \"tickSize\": 5, \"title\": null, \"titleFont\": \"Lato\", \"titleFontSize\": 16, \"titleFontWeight\": \"normal\", \"titleY\": 30, \"titleX\": 280}, \"axisY\": {\"grid\": true, \"gridOpacity\": 1, \"labelFont\": \"Lato\", \"labelFontSize\": 16, \"labelLimit\": 100, \"labelAlign\": \"left\", \"labelPadding\": 20, \"ticks\": false, \"title\": null, \"titleFont\": \"Lato\", \"titleFontWeight\": \"normal\", \"titleFontSize\": 16, \"titleAlign\": \"left\", \"titleAngle\": 0, \"titleY\": -20, \"titleX\": -20, \"domainWidth\": 0}, \"view\": {\"strokeOpacity\": 0}}, \"layer\": [{\"data\": {\"name\": \"data-6cff287b501bbe338755d2392dbd2d54\"}, \"mark\": {\"type\": \"bar\", \"color\": \"#cede54\", \"size\": 11}, \"encoding\": {\"x\": {\"type\": \"quantitative\", \"axis\": {\"labelOpacity\": 0, \"titleOpacity\": 0.7, \"titleY\": 35}, \"field\": \"Bin\", \"title\": \"Income Devoted to Housing\"}, \"y\": {\"type\": \"quantitative\", \"axis\": {\"labelOpacity\": 0.7, \"labelPadding\": 30, \"titleOpacity\": 0.7, \"titleX\": -30, \"titleY\": -30, \"values\": [50, 100, 150, 200, 250]}, \"field\": \"Count\", \"scale\": {\"domain\": [0, 300]}, \"title\": \"In most counties, the median share of income devoted to housing is between 20% and 40%\"}}, \"title\": \"Renter Income Devoted to Housing (2014-2018)\"}, {\"data\": {\"name\": \"data-9563707fa4e0fff82f50cab0829ea9f3\"}, \"mark\": {\"type\": \"rule\", \"opacity\": 0.15}, \"encoding\": {\"x\": {\"type\": \"quantitative\", \"field\": \"x1\", \"scale\": {\"domain\": [10, 50]}}, \"x2\": {\"field\": \"x2\"}, \"y\": {\"type\": \"quantitative\", \"field\": \"y1\"}}}, {\"data\": {\"name\": \"data-4893136b9156606a4b0bfac83e423081\"}, \"mark\": {\"type\": \"text\", \"dx\": 0, \"dy\": 17, \"font\": \"lato\", \"fontSize\": 16, \"opacity\": 0.7}, \"encoding\": {\"text\": {\"type\": \"nominal\", \"field\": \"text\"}, \"x\": {\"type\": \"quantitative\", \"field\": \"x\"}, \"y\": {\"type\": \"quantitative\", \"field\": \"y\"}}}, {\"data\": {\"name\": \"data-4a9602a2b82813a3f469ea1330b1523f\"}, \"mark\": {\"type\": \"text\", \"dx\": -44, \"dy\": 0, \"font\": \"lato\", \"fontSize\": 16, \"opacity\": 0.7}, \"encoding\": {\"text\": {\"type\": \"nominal\", \"field\": \"text\"}, \"x\": {\"type\": \"quantitative\", \"field\": \"x\", \"scale\": {\"domain\": [10, 50]}}, \"y\": {\"type\": \"quantitative\", \"field\": \"y\"}}}], \"$schema\": \"https://vega.github.io/schema/vega-lite/v4.0.0.json\", \"datasets\": {\"data-6cff287b501bbe338755d2392dbd2d54\": [{\"Bin\": 33.0, \"Count\": 145}, {\"Bin\": 31.0, \"Count\": 221}, {\"Bin\": 38.0, \"Count\": 61}, {\"Bin\": 34.0, \"Count\": 166}, {\"Bin\": 30.0, \"Count\": 274}, {\"Bin\": 32.0, \"Count\": 197}, {\"Bin\": 40.0, \"Count\": 35}, {\"Bin\": 36.0, \"Count\": 99}, {\"Bin\": 22.0, \"Count\": 104}, {\"Bin\": 28.0, \"Count\": 259}, {\"Bin\": 35.0, \"Count\": 87}, {\"Bin\": 26.0, \"Count\": 209}, {\"Bin\": 29.0, \"Count\": 195}, {\"Bin\": 39.0, \"Count\": 34}, {\"Bin\": 24.0, \"Count\": 167}, {\"Bin\": 41.0, \"Count\": 23}, {\"Bin\": 25.0, \"Count\": 143}, {\"Bin\": 49.0, \"Count\": 3}, {\"Bin\": 45.0, \"Count\": 14}, {\"Bin\": 27.0, \"Count\": 182}, {\"Bin\": 37.0, \"Count\": 61}, {\"Bin\": 18.0, \"Count\": 44}, {\"Bin\": 19.0, \"Count\": 30}, {\"Bin\": 16.0, \"Count\": 25}, {\"Bin\": 14.0, \"Count\": 13}, {\"Bin\": 21.0, \"Count\": 65}, {\"Bin\": 20.0, \"Count\": 62}, {\"Bin\": 17.0, \"Count\": 21}, {\"Bin\": 23.0, \"Count\": 95}, {\"Bin\": 8.0, \"Count\": 1}, {\"Bin\": 42.0, \"Count\": 16}, {\"Bin\": 44.0, \"Count\": 11}, {\"Bin\": 43.0, \"Count\": 13}, {\"Bin\": 46.0, \"Count\": 7}, {\"Bin\": 12.0, \"Count\": 2}, {\"Bin\": 47.0, \"Count\": 7}, {\"Bin\": 48.0, \"Count\": 5}, {\"Bin\": 50.0, \"Count\": 1}, {\"Bin\": 15.0, \"Count\": 9}, {\"Bin\": 13.0, \"Count\": 6}, {\"Bin\": 11.0, \"Count\": 1}, {\"Bin\": 10.0, \"Count\": 1}, {\"Bin\": 7.0, \"Count\": 1}], \"data-9563707fa4e0fff82f50cab0829ea9f3\": [{\"x1\": 10.3, \"x2\": 55, \"y1\": 300}], \"data-4893136b9156606a4b0bfac83e423081\": [{\"x\": 5, \"y\": 0, \"text\": \"   5%\"}, {\"x\": 10, \"y\": 0, \"text\": \"10\"}, {\"x\": 15, \"y\": 0, \"text\": \"15\"}, {\"x\": 20, \"y\": 0, \"text\": \"20\"}, {\"x\": 25, \"y\": 0, \"text\": \"25\"}, {\"x\": 30, \"y\": 0, \"text\": \"30\"}, {\"x\": 35, \"y\": 0, \"text\": \"35\"}, {\"x\": 40, \"y\": 0, \"text\": \"40\"}, {\"x\": 45, \"y\": 0, \"text\": \"45\"}, {\"x\": 50, \"y\": 0, \"text\": \"50\"}, {\"x\": 55, \"y\": 0, \"text\": \"55\"}], \"data-4a9602a2b82813a3f469ea1330b1523f\": [{\"x\": 10, \"y\": 300, \"text\": \"300 counties\"}]}}, {\"mode\": \"vega-lite\"});\n",
       "</script>"
      ],
      "text/plain": [
       "alt.LayerChart(...)"
      ]
     },
     "execution_count": 14,
     "metadata": {},
     "output_type": "execute_result"
    }
   ],
   "source": [
    "rent_inc_dist"
   ]
  },
  {
   "cell_type": "code",
   "execution_count": 15,
   "metadata": {},
   "outputs": [],
   "source": [
    "rent_inc_dist.save('rent_inc_share_dist.png', scale_factor=6)"
   ]
  },
  {
   "cell_type": "code",
   "execution_count": 16,
   "metadata": {},
   "outputs": [],
   "source": [
    "vals_dict = {}\n",
    "for val in last.Mort_Share_Inc_Bin.dropna().unique():\n",
    "    bin_fips = last.FIPS[last.Mort_Share_Inc_Bin == val].values\n",
    "    vals_dict[val] = len(bin_fips)"
   ]
  },
  {
   "cell_type": "code",
   "execution_count": 17,
   "metadata": {},
   "outputs": [],
   "source": [
    "df = pd.DataFrame(vals_dict.items())\n",
    "df.columns = ['Bin', 'Count']"
   ]
  },
  {
   "cell_type": "code",
   "execution_count": 18,
   "metadata": {},
   "outputs": [],
   "source": [
    "chart = alt.Chart(df, title='Homeowner Income Devoted to Housing (2014-2018)'\n",
    "                 ).mark_bar(size=11, color='#97c2f2'\n",
    "                           ).encode(x=alt.X('Bin', title='Income Devoted to Housing', axis=alt.Axis(titleY=35, titleOpacity=.7, labelOpacity=0)), \n",
    "                                    y=alt.Y('Count', title='In most counties, the median share of income devoted to housing is between 10% and 20%', \n",
    "                                            axis=alt.Axis(values=list(range(100,500,100)), \n",
    "                                                          titleX=-30, titleY=-30, titleOpacity=.7, labelOpacity=.7, labelPadding=30), \n",
    "                                            scale=alt.Scale(domain=[0,500])))\n",
    "x_text_df = pd.DataFrame({'x':list(range(5,35,5)), 'y':[0]*6, 'text':['   5%'] + [str(i) for i in range(10,35,5)]})\n",
    "x_text = alt.Chart(x_text_df).mark_text(dx=0, dy=17, fontSize=16, font='lato', opacity=.7).encode(x=alt.X('x'), y='y', text='text')\n",
    "y_text_df = pd.DataFrame({'x':[10], 'y':[500], 'text':['500 counties']})\n",
    "y_text = alt.Chart(y_text_df).mark_text(dx=-44, dy=0, fontSize=16, font='lato', opacity=.7).encode(x=alt.X('x', scale=alt.Scale(domain=[10,50])), y='y', text='text')\n",
    "line = alt.Chart(pd.DataFrame({'x1':[10.3], 'x2':[55], 'y1':[500]})).mark_rule(opacity=.15).encode(x=alt.X('x1', scale=alt.Scale(domain=[10,50])), x2='x2',y='y1')\n",
    "\n",
    "mort_inc_dist = (line + chart + x_text + y_text).configure_title(fontSize=20)"
   ]
  },
  {
   "cell_type": "code",
   "execution_count": 19,
   "metadata": {},
   "outputs": [
    {
     "data": {
      "text/html": [
       "\n",
       "<div id=\"altair-viz-3\"></div>\n",
       "<script type=\"text/javascript\">\n",
       "  (function(spec, embedOpt){\n",
       "    const outputDiv = document.getElementById(\"altair-viz-3\");\n",
       "    const paths = {\n",
       "      \"vega\": \"https://cdn.jsdelivr.net/npm//vega@5?noext\",\n",
       "      \"vega-lib\": \"https://cdn.jsdelivr.net/npm//vega-lib?noext\",\n",
       "      \"vega-lite\": \"https://cdn.jsdelivr.net/npm//vega-lite@4.0.0?noext\",\n",
       "      \"vega-embed\": \"https://cdn.jsdelivr.net/npm//vega-embed@6?noext\",\n",
       "    };\n",
       "\n",
       "    function loadScript(lib) {\n",
       "      return new Promise(function(resolve, reject) {\n",
       "        var s = document.createElement('script');\n",
       "        s.src = paths[lib];\n",
       "        s.async = true;\n",
       "        s.onload = () => resolve(paths[lib]);\n",
       "        s.onerror = () => reject(`Error loading script: ${paths[lib]}`);\n",
       "        document.getElementsByTagName(\"head\")[0].appendChild(s);\n",
       "      });\n",
       "    }\n",
       "\n",
       "    function showError(err) {\n",
       "      outputDiv.innerHTML = `<div class=\"error\" style=\"color:red;\">${err}</div>`;\n",
       "      throw err;\n",
       "    }\n",
       "\n",
       "    function displayChart(vegaEmbed) {\n",
       "      vegaEmbed(outputDiv, spec, embedOpt)\n",
       "        .catch(err => showError(`Javascript Error: ${err.message}<br>This usually means there's a typo in your chart specification. See the javascript console for the full traceback.`));\n",
       "    }\n",
       "\n",
       "    if(typeof define === \"function\" && define.amd) {\n",
       "      requirejs.config({paths});\n",
       "      require([\"vega-embed\"], displayChart, err => showError(`Error loading script: ${err.message}`));\n",
       "    } else if (typeof vegaEmbed === \"function\") {\n",
       "      displayChart(vegaEmbed);\n",
       "    } else {\n",
       "      loadScript(\"vega\")\n",
       "        .then(() => loadScript(\"vega-lite\"))\n",
       "        .then(() => loadScript(\"vega-embed\"))\n",
       "        .catch(showError)\n",
       "        .then(() => displayChart(vegaEmbed));\n",
       "    }\n",
       "  })({\"width\": 600, \"height\": 400, \"background\": \"white\", \"config\": {\"title\": {\"fontSize\": 20, \"anchor\": \"start\", \"font\": \"Lato\", \"offset\": 5}, \"axisX\": {\"grid\": false, \"labelFont\": \"Lato\", \"labelFontSize\": 16, \"labelAngle\": 0, \"labelPadding\": 10, \"ticks\": false, \"tickSize\": 5, \"title\": null, \"titleFont\": \"Lato\", \"titleFontSize\": 16, \"titleFontWeight\": \"normal\", \"titleY\": 30, \"titleX\": 280}, \"axisY\": {\"grid\": true, \"gridOpacity\": 1, \"labelFont\": \"Lato\", \"labelFontSize\": 16, \"labelLimit\": 100, \"labelAlign\": \"left\", \"labelPadding\": 20, \"ticks\": false, \"title\": null, \"titleFont\": \"Lato\", \"titleFontWeight\": \"normal\", \"titleFontSize\": 16, \"titleAlign\": \"left\", \"titleAngle\": 0, \"titleY\": -20, \"titleX\": -20, \"domainWidth\": 0}, \"view\": {\"strokeOpacity\": 0}}, \"layer\": [{\"data\": {\"name\": \"data-8f7c72f0624d4b6aca37da8d24e8e19f\"}, \"mark\": {\"type\": \"rule\", \"opacity\": 0.15}, \"encoding\": {\"x\": {\"type\": \"quantitative\", \"field\": \"x1\", \"scale\": {\"domain\": [10, 50]}}, \"x2\": {\"field\": \"x2\"}, \"y\": {\"type\": \"quantitative\", \"field\": \"y1\"}}}, {\"data\": {\"name\": \"data-3bd123076f21c18d652abc9e5e9f723d\"}, \"mark\": {\"type\": \"bar\", \"color\": \"#97c2f2\", \"size\": 11}, \"encoding\": {\"x\": {\"type\": \"quantitative\", \"axis\": {\"labelOpacity\": 0, \"titleOpacity\": 0.7, \"titleY\": 35}, \"field\": \"Bin\", \"title\": \"Income Devoted to Housing\"}, \"y\": {\"type\": \"quantitative\", \"axis\": {\"labelOpacity\": 0.7, \"labelPadding\": 30, \"titleOpacity\": 0.7, \"titleX\": -30, \"titleY\": -30, \"values\": [100, 200, 300, 400]}, \"field\": \"Count\", \"scale\": {\"domain\": [0, 500]}, \"title\": \"In most counties, the median share of income devoted to housing is between 10% and 20%\"}}, \"title\": \"Homeowner Income Devoted to Housing (2014-2018)\"}, {\"data\": {\"name\": \"data-55b86b2343210df69ef3121c1ef72d35\"}, \"mark\": {\"type\": \"text\", \"dx\": 0, \"dy\": 17, \"font\": \"lato\", \"fontSize\": 16, \"opacity\": 0.7}, \"encoding\": {\"text\": {\"type\": \"nominal\", \"field\": \"text\"}, \"x\": {\"type\": \"quantitative\", \"field\": \"x\"}, \"y\": {\"type\": \"quantitative\", \"field\": \"y\"}}}, {\"data\": {\"name\": \"data-9173c0de8e8f4907406a62ec014a25fd\"}, \"mark\": {\"type\": \"text\", \"dx\": -44, \"dy\": 0, \"font\": \"lato\", \"fontSize\": 16, \"opacity\": 0.7}, \"encoding\": {\"text\": {\"type\": \"nominal\", \"field\": \"text\"}, \"x\": {\"type\": \"quantitative\", \"field\": \"x\", \"scale\": {\"domain\": [10, 50]}}, \"y\": {\"type\": \"quantitative\", \"field\": \"y\"}}}], \"$schema\": \"https://vega.github.io/schema/vega-lite/v4.0.0.json\", \"datasets\": {\"data-8f7c72f0624d4b6aca37da8d24e8e19f\": [{\"x1\": 10.3, \"x2\": 55, \"y1\": 500}], \"data-3bd123076f21c18d652abc9e5e9f723d\": [{\"Bin\": 16.0, \"Count\": 470}, {\"Bin\": 17.0, \"Count\": 264}, {\"Bin\": 13.0, \"Count\": 340}, {\"Bin\": 11.0, \"Count\": 141}, {\"Bin\": 14.0, \"Count\": 508}, {\"Bin\": 12.0, \"Count\": 280}, {\"Bin\": 10.0, \"Count\": 95}, {\"Bin\": 15.0, \"Count\": 380}, {\"Bin\": 21.0, \"Count\": 57}, {\"Bin\": 19.0, \"Count\": 123}, {\"Bin\": 9.0, \"Count\": 42}, {\"Bin\": 8.0, \"Count\": 19}, {\"Bin\": 20.0, \"Count\": 95}, {\"Bin\": 18.0, \"Count\": 228}, {\"Bin\": 22.0, \"Count\": 34}, {\"Bin\": 23.0, \"Count\": 12}, {\"Bin\": 25.0, \"Count\": 5}, {\"Bin\": 24.0, \"Count\": 15}, {\"Bin\": 7.0, \"Count\": 4}, {\"Bin\": 26.0, \"Count\": 2}, {\"Bin\": 6.0, \"Count\": 1}], \"data-55b86b2343210df69ef3121c1ef72d35\": [{\"x\": 5, \"y\": 0, \"text\": \"   5%\"}, {\"x\": 10, \"y\": 0, \"text\": \"10\"}, {\"x\": 15, \"y\": 0, \"text\": \"15\"}, {\"x\": 20, \"y\": 0, \"text\": \"20\"}, {\"x\": 25, \"y\": 0, \"text\": \"25\"}, {\"x\": 30, \"y\": 0, \"text\": \"30\"}], \"data-9173c0de8e8f4907406a62ec014a25fd\": [{\"x\": 10, \"y\": 500, \"text\": \"500 counties\"}]}}, {\"mode\": \"vega-lite\"});\n",
       "</script>"
      ],
      "text/plain": [
       "alt.LayerChart(...)"
      ]
     },
     "execution_count": 19,
     "metadata": {},
     "output_type": "execute_result"
    }
   ],
   "source": [
    "mort_inc_dist"
   ]
  },
  {
   "cell_type": "code",
   "execution_count": 38,
   "metadata": {},
   "outputs": [],
   "source": [
    "mort_inc_dist.save('mort_inc_share_dist.png', scale_factor=6)"
   ]
  },
  {
   "cell_type": "markdown",
   "metadata": {},
   "source": [
    "---"
   ]
  },
  {
   "cell_type": "markdown",
   "metadata": {},
   "source": [
    "Digging deeper into income devoted to housing:"
   ]
  },
  {
   "cell_type": "code",
   "execution_count": 20,
   "metadata": {},
   "outputs": [],
   "source": [
    "rent_hi = last[last.Med_Rent > last.Med_Mort]\n",
    "mort_hi = last[last.Med_Mort > last.Med_Rent]"
   ]
  },
  {
   "cell_type": "code",
   "execution_count": 21,
   "metadata": {},
   "outputs": [
    {
     "data": {
      "text/plain": [
       "1396"
      ]
     },
     "execution_count": 21,
     "metadata": {},
     "output_type": "execute_result"
    }
   ],
   "source": [
    "len(rent_hi)"
   ]
  },
  {
   "cell_type": "code",
   "execution_count": 22,
   "metadata": {},
   "outputs": [
    {
     "data": {
      "text/plain": [
       "1716"
      ]
     },
     "execution_count": 22,
     "metadata": {},
     "output_type": "execute_result"
    }
   ],
   "source": [
    "len(mort_hi)"
   ]
  },
  {
   "cell_type": "code",
   "execution_count": 23,
   "metadata": {
    "collapsed": true,
    "jupyter": {
     "outputs_hidden": true
    }
   },
   "outputs": [
    {
     "name": "stderr",
     "output_type": "stream",
     "text": [
      "C:\\Users\\Mahmoud\\Miniconda3\\envs\\data_analysis\\lib\\site-packages\\ipykernel_launcher.py:1: SettingWithCopyWarning: \n",
      "A value is trying to be set on a copy of a slice from a DataFrame.\n",
      "Try using .loc[row_indexer,col_indexer] = value instead\n",
      "\n",
      "See the caveats in the documentation: http://pandas.pydata.org/pandas-docs/stable/user_guide/indexing.html#returning-a-view-versus-a-copy\n",
      "  \"\"\"Entry point for launching an IPython kernel.\n",
      "C:\\Users\\Mahmoud\\Miniconda3\\envs\\data_analysis\\lib\\site-packages\\ipykernel_launcher.py:2: SettingWithCopyWarning: \n",
      "A value is trying to be set on a copy of a slice from a DataFrame.\n",
      "Try using .loc[row_indexer,col_indexer] = value instead\n",
      "\n",
      "See the caveats in the documentation: http://pandas.pydata.org/pandas-docs/stable/user_guide/indexing.html#returning-a-view-versus-a-copy\n",
      "  \n",
      "C:\\Users\\Mahmoud\\Miniconda3\\envs\\data_analysis\\lib\\site-packages\\ipykernel_launcher.py:3: SettingWithCopyWarning: \n",
      "A value is trying to be set on a copy of a slice from a DataFrame.\n",
      "Try using .loc[row_indexer,col_indexer] = value instead\n",
      "\n",
      "See the caveats in the documentation: http://pandas.pydata.org/pandas-docs/stable/user_guide/indexing.html#returning-a-view-versus-a-copy\n",
      "  This is separate from the ipykernel package so we can avoid doing imports until\n",
      "C:\\Users\\Mahmoud\\Miniconda3\\envs\\data_analysis\\lib\\site-packages\\ipykernel_launcher.py:4: SettingWithCopyWarning: \n",
      "A value is trying to be set on a copy of a slice from a DataFrame.\n",
      "Try using .loc[row_indexer,col_indexer] = value instead\n",
      "\n",
      "See the caveats in the documentation: http://pandas.pydata.org/pandas-docs/stable/user_guide/indexing.html#returning-a-view-versus-a-copy\n",
      "  after removing the cwd from sys.path.\n",
      "C:\\Users\\Mahmoud\\Miniconda3\\envs\\data_analysis\\lib\\site-packages\\ipykernel_launcher.py:5: SettingWithCopyWarning: \n",
      "A value is trying to be set on a copy of a slice from a DataFrame.\n",
      "Try using .loc[row_indexer,col_indexer] = value instead\n",
      "\n",
      "See the caveats in the documentation: http://pandas.pydata.org/pandas-docs/stable/user_guide/indexing.html#returning-a-view-versus-a-copy\n",
      "  \"\"\"\n",
      "C:\\Users\\Mahmoud\\Miniconda3\\envs\\data_analysis\\lib\\site-packages\\ipykernel_launcher.py:6: SettingWithCopyWarning: \n",
      "A value is trying to be set on a copy of a slice from a DataFrame.\n",
      "Try using .loc[row_indexer,col_indexer] = value instead\n",
      "\n",
      "See the caveats in the documentation: http://pandas.pydata.org/pandas-docs/stable/user_guide/indexing.html#returning-a-view-versus-a-copy\n",
      "  \n",
      "C:\\Users\\Mahmoud\\Miniconda3\\envs\\data_analysis\\lib\\site-packages\\ipykernel_launcher.py:8: SettingWithCopyWarning: \n",
      "A value is trying to be set on a copy of a slice from a DataFrame.\n",
      "Try using .loc[row_indexer,col_indexer] = value instead\n",
      "\n",
      "See the caveats in the documentation: http://pandas.pydata.org/pandas-docs/stable/user_guide/indexing.html#returning-a-view-versus-a-copy\n",
      "  \n",
      "C:\\Users\\Mahmoud\\Miniconda3\\envs\\data_analysis\\lib\\site-packages\\ipykernel_launcher.py:9: SettingWithCopyWarning: \n",
      "A value is trying to be set on a copy of a slice from a DataFrame.\n",
      "Try using .loc[row_indexer,col_indexer] = value instead\n",
      "\n",
      "See the caveats in the documentation: http://pandas.pydata.org/pandas-docs/stable/user_guide/indexing.html#returning-a-view-versus-a-copy\n",
      "  if __name__ == '__main__':\n",
      "C:\\Users\\Mahmoud\\Miniconda3\\envs\\data_analysis\\lib\\site-packages\\ipykernel_launcher.py:10: SettingWithCopyWarning: \n",
      "A value is trying to be set on a copy of a slice from a DataFrame.\n",
      "Try using .loc[row_indexer,col_indexer] = value instead\n",
      "\n",
      "See the caveats in the documentation: http://pandas.pydata.org/pandas-docs/stable/user_guide/indexing.html#returning-a-view-versus-a-copy\n",
      "  # Remove the CWD from sys.path while we load stuff.\n",
      "C:\\Users\\Mahmoud\\Miniconda3\\envs\\data_analysis\\lib\\site-packages\\ipykernel_launcher.py:11: SettingWithCopyWarning: \n",
      "A value is trying to be set on a copy of a slice from a DataFrame.\n",
      "Try using .loc[row_indexer,col_indexer] = value instead\n",
      "\n",
      "See the caveats in the documentation: http://pandas.pydata.org/pandas-docs/stable/user_guide/indexing.html#returning-a-view-versus-a-copy\n",
      "  # This is added back by InteractiveShellApp.init_path()\n",
      "C:\\Users\\Mahmoud\\Miniconda3\\envs\\data_analysis\\lib\\site-packages\\ipykernel_launcher.py:12: SettingWithCopyWarning: \n",
      "A value is trying to be set on a copy of a slice from a DataFrame.\n",
      "Try using .loc[row_indexer,col_indexer] = value instead\n",
      "\n",
      "See the caveats in the documentation: http://pandas.pydata.org/pandas-docs/stable/user_guide/indexing.html#returning-a-view-versus-a-copy\n",
      "  if sys.path[0] == '':\n",
      "C:\\Users\\Mahmoud\\Miniconda3\\envs\\data_analysis\\lib\\site-packages\\ipykernel_launcher.py:13: SettingWithCopyWarning: \n",
      "A value is trying to be set on a copy of a slice from a DataFrame.\n",
      "Try using .loc[row_indexer,col_indexer] = value instead\n",
      "\n",
      "See the caveats in the documentation: http://pandas.pydata.org/pandas-docs/stable/user_guide/indexing.html#returning-a-view-versus-a-copy\n",
      "  del sys.path[0]\n",
      "C:\\Users\\Mahmoud\\Miniconda3\\envs\\data_analysis\\lib\\site-packages\\ipykernel_launcher.py:26: SettingWithCopyWarning: \n",
      "A value is trying to be set on a copy of a slice from a DataFrame.\n",
      "Try using .loc[row_indexer,col_indexer] = value instead\n",
      "\n",
      "See the caveats in the documentation: http://pandas.pydata.org/pandas-docs/stable/user_guide/indexing.html#returning-a-view-versus-a-copy\n"
     ]
    }
   ],
   "source": [
    "rent_hi['Rent_Housing_Rent_Higher_Bin'] = rent_hi.Med_Rent.round().values\n",
    "rent_hi['Rent_Housing_Rent_Higher_Inc_Bin'] = rent_hi.Med_Rent_Inc.round().values\n",
    "rent_hi['Rent_Housing_Rent_Higher_Share_Inc_Bin'] = rent_hi.Rent_Share_Inc.round().values\n",
    "mort_hi['Rent_Housing_Mort_Higher_Bin'] = mort_hi.Med_Rent.round().values\n",
    "mort_hi['Rent_Housing_Mort_Higher_Inc_Bin'] = mort_hi.Med_Rent_Inc.round().values\n",
    "mort_hi['Rent_Housing_Mort_Higher_Share_Inc_Bin'] = mort_hi.Rent_Share_Inc.round().values\n",
    "\n",
    "mort_hi['Mort_Housing_Rent_Higher_Bin'] = mort_hi.Med_Mort.round().values\n",
    "mort_hi['Mort_Housing_Rent_Higher_Inc_Bin'] = mort_hi.Med_Mort_Inc.round().values\n",
    "mort_hi['Mort_Housing_Rent_Higher_Share_Inc_Bin'] = mort_hi.Mort_Share_Inc.round().values\n",
    "rent_hi['Mort_Housing_Mort_Higher_Bin'] = rent_hi.Med_Mort.round().values\n",
    "rent_hi['Mort_Housing_Mort_Higher_Inc_Bin'] = rent_hi.Med_Mort_Inc.round().values\n",
    "rent_hi['Mort_Housing_Mort_Higher_Share_Inc_Bin'] = rent_hi.Mort_Share_Inc.round().values\n",
    "\n",
    "rent_dict = {}\n",
    "dfs = [rent_hi, rent_hi, rent_hi, mort_hi, mort_hi, mort_hi, mort_hi, mort_hi, mort_hi, rent_hi, rent_hi, rent_hi]\n",
    "divs = [40, 200, 1]*2 + [40, 200, 1]*2\n",
    "counter = 0\n",
    "for col in ['Rent_Housing_Rent_Higher_Bin', 'Rent_Housing_Rent_Higher_Inc_Bin', \n",
    "            'Rent_Housing_Rent_Higher_Share_Inc_Bin', 'Rent_Housing_Mort_Higher_Bin', \n",
    "            'Rent_Housing_Mort_Higher_Inc_Bin', 'Rent_Housing_Mort_Higher_Share_Inc_Bin',\n",
    "            'Mort_Housing_Rent_Higher_Bin', 'Mort_Housing_Rent_Higher_Inc_Bin', \n",
    "            'Mort_Housing_Rent_Higher_Share_Inc_Bin', 'Mort_Housing_Mort_Higher_Bin', \n",
    "            'Mort_Housing_Mort_Higher_Inc_Bin', 'Mort_Housing_Mort_Higher_Share_Inc_Bin']:\n",
    "    df = dfs[counter]\n",
    "    df[col] = [int(round(i/divs[counter])*divs[counter]) for i in df[col].values]\n",
    "    vals_dict = {}\n",
    "    for val in df[col].dropna().unique():\n",
    "        bin_fips = df.FIPS[df[col] == val].values\n",
    "        vals_dict[val] = len(bin_fips)\n",
    "        \n",
    "        dataframe = pd.DataFrame(vals_dict.items())\n",
    "        dataframe.columns = ['Bin', 'Count']\n",
    "    rent_dict[col] = dataframe\n",
    "    counter += 1"
   ]
  },
  {
   "cell_type": "markdown",
   "metadata": {},
   "source": [
    "### Income Devoted to Housing"
   ]
  },
  {
   "cell_type": "markdown",
   "metadata": {},
   "source": [
    "#### (1) Renters:"
   ]
  },
  {
   "cell_type": "code",
   "execution_count": 400,
   "metadata": {},
   "outputs": [],
   "source": [
    "charts_dict = {}\n",
    "keys = ['Rent_Housing_Rent_Higher_Bin', 'Rent_Housing_Mort_Higher_Bin', 'Mort_Housing_Rent_Higher_Bin', 'Mort_Housing_Mort_Higher_Bin']\n",
    "titles = ['Median Renter Housing Expense', ''] + ['', 'Median Homeowner Housing Expense']\n",
    "y_titles = ['Counties where renting is more expensive than owning', 'Counties where owning is more expensive than renting', 'Counties where renting is more expensive than owning', 'Counties where owning is more expensive than renting']\n",
    "opacities = [.7,.7,0,0]\n",
    "colors = ['#cede54']*2 + ['#97c2f2']*2\n",
    "counter = 0\n",
    "for key in keys:\n",
    "    df = rent_dict[key]\n",
    "    chart = alt.Chart(df[df.Bin < 2000], title=titles[counter]\n",
    "                     ).mark_bar(size=14.5, color=colors[counter]\n",
    "                               ).encode(x=alt.X('Bin', title='', \n",
    "                                                axis=alt.Axis(values=list(range(800,2400,400)), titleY=35, titleOpacity=.7, titleFontSize=28, titleFontWeight='bold',\n",
    "                                                              labelOpacity=.7, labelFontSize=28, format='a'), \n",
    "                                                scale=alt.Scale(domain=[400,1900])), \n",
    "                                        y=alt.Y('Count', title=y_titles[counter], \n",
    "                                                axis=alt.Axis(values=list(range(80,240,80)), titleX=-50, titleY=60, titleOpacity=.7, titleFontSize=28,\n",
    "                                                              labelOpacity=opacities[counter], labelPadding=50, labelFontSize=28),\n",
    "                                                scale=alt.Scale(domain=[0,300])))\n",
    "\n",
    "    text_df = pd.DataFrame({'x':[400,280,1190], 'y':[0,240,240], 'text':['$400','240 counties','_'*92]})\n",
    "    x_text = alt.Chart(text_df.query('x==400')).mark_text(dx=0, dy=25.5, fontSize=28, font='lato', opacity=.7).encode(x='x', y='y', text='text')\n",
    "    y_text = alt.Chart(text_df.query('x==280')).mark_text(dx=0, dy=0, fontSize=28, font='lato', opacity=opacities[counter]).encode(x='x', y='y', text='text')\n",
    "    line = alt.Chart(text_df.query('x==1190')).mark_text(dx=22, dy=-4, opacity=.09, fontSize=11.5, fontWeight='bold').encode(x=alt.X('x', scale=alt.Scale(domain=[300,1000])), y='y', text='text')\n",
    "\n",
    "    combined = (line + chart + x_text + y_text).properties(width=700, height=550)\n",
    "    charts_dict[counter] = combined\n",
    "    #combined.save(keys[counter] + str(counter) + '.png', scale_factor=6)\n",
    "    counter += 1"
   ]
  },
  {
   "cell_type": "code",
   "execution_count": 403,
   "metadata": {},
   "outputs": [
    {
     "data": {
      "text/html": [
       "\n",
       "<div id=\"altair-viz-174\"></div>\n",
       "<script type=\"text/javascript\">\n",
       "  (function(spec, embedOpt){\n",
       "    const outputDiv = document.getElementById(\"altair-viz-174\");\n",
       "    const paths = {\n",
       "      \"vega\": \"https://cdn.jsdelivr.net/npm//vega@5?noext\",\n",
       "      \"vega-lib\": \"https://cdn.jsdelivr.net/npm//vega-lib?noext\",\n",
       "      \"vega-lite\": \"https://cdn.jsdelivr.net/npm//vega-lite@4.0.0?noext\",\n",
       "      \"vega-embed\": \"https://cdn.jsdelivr.net/npm//vega-embed@6?noext\",\n",
       "    };\n",
       "\n",
       "    function loadScript(lib) {\n",
       "      return new Promise(function(resolve, reject) {\n",
       "        var s = document.createElement('script');\n",
       "        s.src = paths[lib];\n",
       "        s.async = true;\n",
       "        s.onload = () => resolve(paths[lib]);\n",
       "        s.onerror = () => reject(`Error loading script: ${paths[lib]}`);\n",
       "        document.getElementsByTagName(\"head\")[0].appendChild(s);\n",
       "      });\n",
       "    }\n",
       "\n",
       "    function showError(err) {\n",
       "      outputDiv.innerHTML = `<div class=\"error\" style=\"color:red;\">${err}</div>`;\n",
       "      throw err;\n",
       "    }\n",
       "\n",
       "    function displayChart(vegaEmbed) {\n",
       "      vegaEmbed(outputDiv, spec, embedOpt)\n",
       "        .catch(err => showError(`Javascript Error: ${err.message}<br>This usually means there's a typo in your chart specification. See the javascript console for the full traceback.`));\n",
       "    }\n",
       "\n",
       "    if(typeof define === \"function\" && define.amd) {\n",
       "      requirejs.config({paths});\n",
       "      require([\"vega-embed\"], displayChart, err => showError(`Error loading script: ${err.message}`));\n",
       "    } else if (typeof vegaEmbed === \"function\") {\n",
       "      displayChart(vegaEmbed);\n",
       "    } else {\n",
       "      loadScript(\"vega\")\n",
       "        .then(() => loadScript(\"vega-lite\"))\n",
       "        .then(() => loadScript(\"vega-embed\"))\n",
       "        .catch(showError)\n",
       "        .then(() => displayChart(vegaEmbed));\n",
       "    }\n",
       "  })({\"width\": 600, \"height\": 400, \"background\": \"white\", \"config\": {\"title\": {\"fontWeight\": \"normal\", \"fontSize\": 36, \"anchor\": \"start\", \"font\": \"Lato\", \"offset\": 5}, \"axisX\": {\"grid\": false, \"labelFont\": \"Lato\", \"labelFontSize\": 16, \"labelAngle\": 0, \"labelPadding\": 10, \"ticks\": false, \"tickSize\": 5, \"title\": null, \"titleFont\": \"Lato\", \"titleFontSize\": 16, \"titleFontWeight\": \"normal\", \"titleY\": 30, \"titleX\": 280}, \"axisY\": {\"grid\": true, \"gridOpacity\": 1, \"labelFont\": \"Lato\", \"labelFontSize\": 16, \"labelLimit\": 100, \"labelAlign\": \"left\", \"labelPadding\": 20, \"ticks\": false, \"title\": null, \"titleFont\": \"Lato\", \"titleFontWeight\": \"normal\", \"titleFontSize\": 16, \"titleAlign\": \"left\", \"titleAngle\": 0, \"titleY\": -20, \"titleX\": -20, \"domainWidth\": 0}, \"view\": {\"strokeOpacity\": 0}}, \"vconcat\": [{\"hconcat\": [{\"layer\": [{\"data\": {\"name\": \"data-ee62141d9fe68b08516551378039e7b7\"}, \"mark\": {\"type\": \"text\", \"dx\": 22, \"dy\": -4, \"fontSize\": 11.5, \"fontWeight\": \"bold\", \"opacity\": 0.09}, \"encoding\": {\"text\": {\"type\": \"nominal\", \"field\": \"text\"}, \"x\": {\"type\": \"quantitative\", \"field\": \"x\", \"scale\": {\"domain\": [300, 1000]}}, \"y\": {\"type\": \"quantitative\", \"field\": \"y\"}}}, {\"data\": {\"name\": \"data-79e3c1bf62d821641a063b2d78419e43\"}, \"mark\": {\"type\": \"bar\", \"color\": \"#cede54\", \"size\": 14.5}, \"encoding\": {\"x\": {\"type\": \"quantitative\", \"axis\": {\"format\": \"a\", \"labelFontSize\": 28, \"labelOpacity\": 0.7, \"titleFontSize\": 28, \"titleFontWeight\": \"bold\", \"titleOpacity\": 0.7, \"titleY\": 35, \"values\": [800, 1200, 1600, 2000]}, \"field\": \"Bin\", \"scale\": {\"domain\": [400, 1900]}, \"title\": \"\"}, \"y\": {\"type\": \"quantitative\", \"axis\": {\"labelFontSize\": 28, \"labelOpacity\": 0.7, \"labelPadding\": 50, \"titleFontSize\": 28, \"titleOpacity\": 0.7, \"titleX\": -50, \"titleY\": 60, \"values\": [80, 160]}, \"field\": \"Count\", \"scale\": {\"domain\": [0, 300]}, \"title\": \"Counties where renting is more expensive than owning\"}}, \"title\": \"Median Renter Housing Expense\"}, {\"data\": {\"name\": \"data-b82407ff56bf3e563eb8b27ba0c29967\"}, \"mark\": {\"type\": \"text\", \"dx\": 0, \"dy\": 25.5, \"font\": \"lato\", \"fontSize\": 28, \"opacity\": 0.7}, \"encoding\": {\"text\": {\"type\": \"nominal\", \"field\": \"text\"}, \"x\": {\"type\": \"quantitative\", \"field\": \"x\"}, \"y\": {\"type\": \"quantitative\", \"field\": \"y\"}}}, {\"data\": {\"name\": \"data-97fdd5b9069433960a7e00403800538a\"}, \"mark\": {\"type\": \"text\", \"dx\": 0, \"dy\": 0, \"font\": \"lato\", \"fontSize\": 28, \"opacity\": 0.7}, \"encoding\": {\"text\": {\"type\": \"nominal\", \"field\": \"text\"}, \"x\": {\"type\": \"quantitative\", \"field\": \"x\"}, \"y\": {\"type\": \"quantitative\", \"field\": \"y\"}}}], \"height\": 550, \"width\": 700}, {\"layer\": [{\"data\": {\"name\": \"data-ee62141d9fe68b08516551378039e7b7\"}, \"mark\": {\"type\": \"text\", \"dx\": 22, \"dy\": -4, \"fontSize\": 11.5, \"fontWeight\": \"bold\", \"opacity\": 0.09}, \"encoding\": {\"text\": {\"type\": \"nominal\", \"field\": \"text\"}, \"x\": {\"type\": \"quantitative\", \"field\": \"x\", \"scale\": {\"domain\": [300, 1000]}}, \"y\": {\"type\": \"quantitative\", \"field\": \"y\"}}}, {\"data\": {\"name\": \"data-bc528808dd810b62f88166c11a68df7f\"}, \"mark\": {\"type\": \"bar\", \"color\": \"#97c2f2\", \"size\": 14.5}, \"encoding\": {\"x\": {\"type\": \"quantitative\", \"axis\": {\"format\": \"a\", \"labelFontSize\": 28, \"labelOpacity\": 0.7, \"titleFontSize\": 28, \"titleFontWeight\": \"bold\", \"titleOpacity\": 0.7, \"titleY\": 35, \"values\": [800, 1200, 1600, 2000]}, \"field\": \"Bin\", \"scale\": {\"domain\": [400, 1900]}, \"title\": \"\"}, \"y\": {\"type\": \"quantitative\", \"axis\": {\"labelFontSize\": 28, \"labelOpacity\": 0, \"labelPadding\": 50, \"titleFontSize\": 28, \"titleOpacity\": 0.7, \"titleX\": -50, \"titleY\": 60, \"values\": [80, 160]}, \"field\": \"Count\", \"scale\": {\"domain\": [0, 300]}, \"title\": \"Counties where owning is more expensive than renting\"}}, \"title\": \"Median Homeowner Housing Expense\"}, {\"data\": {\"name\": \"data-b82407ff56bf3e563eb8b27ba0c29967\"}, \"mark\": {\"type\": \"text\", \"dx\": 0, \"dy\": 25.5, \"font\": \"lato\", \"fontSize\": 28, \"opacity\": 0.7}, \"encoding\": {\"text\": {\"type\": \"nominal\", \"field\": \"text\"}, \"x\": {\"type\": \"quantitative\", \"field\": \"x\"}, \"y\": {\"type\": \"quantitative\", \"field\": \"y\"}}}, {\"data\": {\"name\": \"data-97fdd5b9069433960a7e00403800538a\"}, \"mark\": {\"type\": \"text\", \"dx\": 0, \"dy\": 0, \"font\": \"lato\", \"fontSize\": 28, \"opacity\": 0}, \"encoding\": {\"text\": {\"type\": \"nominal\", \"field\": \"text\"}, \"x\": {\"type\": \"quantitative\", \"field\": \"x\"}, \"y\": {\"type\": \"quantitative\", \"field\": \"y\"}}}], \"height\": 550, \"width\": 700}]}, {\"hconcat\": [{\"layer\": [{\"data\": {\"name\": \"data-ee62141d9fe68b08516551378039e7b7\"}, \"mark\": {\"type\": \"text\", \"dx\": 22, \"dy\": -4, \"fontSize\": 11.5, \"fontWeight\": \"bold\", \"opacity\": 0.09}, \"encoding\": {\"text\": {\"type\": \"nominal\", \"field\": \"text\"}, \"x\": {\"type\": \"quantitative\", \"field\": \"x\", \"scale\": {\"domain\": [300, 1000]}}, \"y\": {\"type\": \"quantitative\", \"field\": \"y\"}}}, {\"data\": {\"name\": \"data-0805ecfab7929b44677d5b9548af4d95\"}, \"mark\": {\"type\": \"bar\", \"color\": \"#cede54\", \"size\": 14.5}, \"encoding\": {\"x\": {\"type\": \"quantitative\", \"axis\": {\"format\": \"a\", \"labelFontSize\": 28, \"labelOpacity\": 0.7, \"titleFontSize\": 28, \"titleFontWeight\": \"bold\", \"titleOpacity\": 0.7, \"titleY\": 35, \"values\": [800, 1200, 1600, 2000]}, \"field\": \"Bin\", \"scale\": {\"domain\": [400, 1900]}, \"title\": \"\"}, \"y\": {\"type\": \"quantitative\", \"axis\": {\"labelFontSize\": 28, \"labelOpacity\": 0.7, \"labelPadding\": 50, \"titleFontSize\": 28, \"titleOpacity\": 0.7, \"titleX\": -50, \"titleY\": 60, \"values\": [80, 160]}, \"field\": \"Count\", \"scale\": {\"domain\": [0, 300]}, \"title\": \"Counties where owning is more expensive than renting\"}}, \"title\": \"\"}, {\"data\": {\"name\": \"data-b82407ff56bf3e563eb8b27ba0c29967\"}, \"mark\": {\"type\": \"text\", \"dx\": 0, \"dy\": 25.5, \"font\": \"lato\", \"fontSize\": 28, \"opacity\": 0.7}, \"encoding\": {\"text\": {\"type\": \"nominal\", \"field\": \"text\"}, \"x\": {\"type\": \"quantitative\", \"field\": \"x\"}, \"y\": {\"type\": \"quantitative\", \"field\": \"y\"}}}, {\"data\": {\"name\": \"data-97fdd5b9069433960a7e00403800538a\"}, \"mark\": {\"type\": \"text\", \"dx\": 0, \"dy\": 0, \"font\": \"lato\", \"fontSize\": 28, \"opacity\": 0.7}, \"encoding\": {\"text\": {\"type\": \"nominal\", \"field\": \"text\"}, \"x\": {\"type\": \"quantitative\", \"field\": \"x\"}, \"y\": {\"type\": \"quantitative\", \"field\": \"y\"}}}], \"height\": 550, \"width\": 700}, {\"layer\": [{\"data\": {\"name\": \"data-ee62141d9fe68b08516551378039e7b7\"}, \"mark\": {\"type\": \"text\", \"dx\": 22, \"dy\": -4, \"fontSize\": 11.5, \"fontWeight\": \"bold\", \"opacity\": 0.09}, \"encoding\": {\"text\": {\"type\": \"nominal\", \"field\": \"text\"}, \"x\": {\"type\": \"quantitative\", \"field\": \"x\", \"scale\": {\"domain\": [300, 1000]}}, \"y\": {\"type\": \"quantitative\", \"field\": \"y\"}}}, {\"data\": {\"name\": \"data-8cd538aa9ba344d83db00976713be861\"}, \"mark\": {\"type\": \"bar\", \"color\": \"#97c2f2\", \"size\": 14.5}, \"encoding\": {\"x\": {\"type\": \"quantitative\", \"axis\": {\"format\": \"a\", \"labelFontSize\": 28, \"labelOpacity\": 0.7, \"titleFontSize\": 28, \"titleFontWeight\": \"bold\", \"titleOpacity\": 0.7, \"titleY\": 35, \"values\": [800, 1200, 1600, 2000]}, \"field\": \"Bin\", \"scale\": {\"domain\": [400, 1900]}, \"title\": \"\"}, \"y\": {\"type\": \"quantitative\", \"axis\": {\"labelFontSize\": 28, \"labelOpacity\": 0, \"labelPadding\": 50, \"titleFontSize\": 28, \"titleOpacity\": 0.7, \"titleX\": -50, \"titleY\": 60, \"values\": [80, 160]}, \"field\": \"Count\", \"scale\": {\"domain\": [0, 300]}, \"title\": \"Counties where renting is more expensive than owning\"}}, \"title\": \"\"}, {\"data\": {\"name\": \"data-b82407ff56bf3e563eb8b27ba0c29967\"}, \"mark\": {\"type\": \"text\", \"dx\": 0, \"dy\": 25.5, \"font\": \"lato\", \"fontSize\": 28, \"opacity\": 0.7}, \"encoding\": {\"text\": {\"type\": \"nominal\", \"field\": \"text\"}, \"x\": {\"type\": \"quantitative\", \"field\": \"x\"}, \"y\": {\"type\": \"quantitative\", \"field\": \"y\"}}}, {\"data\": {\"name\": \"data-97fdd5b9069433960a7e00403800538a\"}, \"mark\": {\"type\": \"text\", \"dx\": 0, \"dy\": 0, \"font\": \"lato\", \"fontSize\": 28, \"opacity\": 0}, \"encoding\": {\"text\": {\"type\": \"nominal\", \"field\": \"text\"}, \"x\": {\"type\": \"quantitative\", \"field\": \"x\"}, \"y\": {\"type\": \"quantitative\", \"field\": \"y\"}}}], \"height\": 550, \"width\": 700}]}], \"$schema\": \"https://vega.github.io/schema/vega-lite/v4.0.0.json\", \"datasets\": {\"data-ee62141d9fe68b08516551378039e7b7\": [{\"x\": 1190, \"y\": 240, \"text\": \"____________________________________________________________________________________________\"}], \"data-79e3c1bf62d821641a063b2d78419e43\": [{\"Bin\": 960, \"Count\": 29}, {\"Bin\": 600, \"Count\": 176}, {\"Bin\": 720, \"Count\": 155}, {\"Bin\": 680, \"Count\": 202}, {\"Bin\": 520, \"Count\": 81}, {\"Bin\": 560, \"Count\": 140}, {\"Bin\": 800, \"Count\": 79}, {\"Bin\": 640, \"Count\": 236}, {\"Bin\": 760, \"Count\": 95}, {\"Bin\": 840, \"Count\": 51}, {\"Bin\": 1000, \"Count\": 17}, {\"Bin\": 1320, \"Count\": 4}, {\"Bin\": 1280, \"Count\": 3}, {\"Bin\": 880, \"Count\": 35}, {\"Bin\": 1080, \"Count\": 6}, {\"Bin\": 1240, \"Count\": 3}, {\"Bin\": 1040, \"Count\": 9}, {\"Bin\": 480, \"Count\": 29}, {\"Bin\": 1120, \"Count\": 7}, {\"Bin\": 920, \"Count\": 21}, {\"Bin\": 440, \"Count\": 6}, {\"Bin\": 1160, \"Count\": 5}, {\"Bin\": 1600, \"Count\": 1}, {\"Bin\": 1200, \"Count\": 3}, {\"Bin\": 360, \"Count\": 1}, {\"Bin\": 400, \"Count\": 2}], \"data-b82407ff56bf3e563eb8b27ba0c29967\": [{\"x\": 400, \"y\": 0, \"text\": \"$400\"}], \"data-97fdd5b9069433960a7e00403800538a\": [{\"x\": 280, \"y\": 240, \"text\": \"240 counties\"}], \"data-bc528808dd810b62f88166c11a68df7f\": [{\"Bin\": 880, \"Count\": 14}, {\"Bin\": 920, \"Count\": 19}, {\"Bin\": 520, \"Count\": 168}, {\"Bin\": 600, \"Count\": 170}, {\"Bin\": 560, \"Count\": 188}, {\"Bin\": 640, \"Count\": 138}, {\"Bin\": 480, \"Count\": 186}, {\"Bin\": 440, \"Count\": 117}, {\"Bin\": 400, \"Count\": 70}, {\"Bin\": 720, \"Count\": 55}, {\"Bin\": 360, \"Count\": 37}, {\"Bin\": 680, \"Count\": 97}, {\"Bin\": 840, \"Count\": 31}, {\"Bin\": 1120, \"Count\": 3}, {\"Bin\": 760, \"Count\": 37}, {\"Bin\": 800, \"Count\": 29}, {\"Bin\": 240, \"Count\": 1}, {\"Bin\": 1080, \"Count\": 5}, {\"Bin\": 1000, \"Count\": 5}, {\"Bin\": 1320, \"Count\": 1}, {\"Bin\": 1040, \"Count\": 2}, {\"Bin\": 1200, \"Count\": 2}, {\"Bin\": 960, \"Count\": 7}, {\"Bin\": 1360, \"Count\": 1}, {\"Bin\": 320, \"Count\": 7}, {\"Bin\": 280, \"Count\": 4}, {\"Bin\": 1160, \"Count\": 2}], \"data-0805ecfab7929b44677d5b9548af4d95\": [{\"Bin\": 560, \"Count\": 89}, {\"Bin\": 880, \"Count\": 82}, {\"Bin\": 520, \"Count\": 45}, {\"Bin\": 400, \"Count\": 9}, {\"Bin\": 640, \"Count\": 155}, {\"Bin\": 840, \"Count\": 81}, {\"Bin\": 440, \"Count\": 17}, {\"Bin\": 760, \"Count\": 156}, {\"Bin\": 1040, \"Count\": 46}, {\"Bin\": 1320, \"Count\": 9}, {\"Bin\": 1280, \"Count\": 20}, {\"Bin\": 920, \"Count\": 60}, {\"Bin\": 1240, \"Count\": 19}, {\"Bin\": 1000, \"Count\": 47}, {\"Bin\": 1160, \"Count\": 25}, {\"Bin\": 1360, \"Count\": 7}, {\"Bin\": 1120, \"Count\": 35}, {\"Bin\": 1080, \"Count\": 30}, {\"Bin\": 680, \"Count\": 205}, {\"Bin\": 800, \"Count\": 112}, {\"Bin\": 360, \"Count\": 4}, {\"Bin\": 480, \"Count\": 24}, {\"Bin\": 600, \"Count\": 118}, {\"Bin\": 1680, \"Count\": 7}, {\"Bin\": 1720, \"Count\": 5}, {\"Bin\": 1200, \"Count\": 24}, {\"Bin\": 960, \"Count\": 63}, {\"Bin\": 1400, \"Count\": 11}, {\"Bin\": 1960, \"Count\": 1}, {\"Bin\": 1640, \"Count\": 3}, {\"Bin\": 1760, \"Count\": 3}, {\"Bin\": 1480, \"Count\": 10}, {\"Bin\": 1560, \"Count\": 7}, {\"Bin\": 1800, \"Count\": 2}, {\"Bin\": 1600, \"Count\": 3}, {\"Bin\": 1520, \"Count\": 4}, {\"Bin\": 720, \"Count\": 163}, {\"Bin\": 320, \"Count\": 2}, {\"Bin\": 1440, \"Count\": 7}, {\"Bin\": 1920, \"Count\": 1}, {\"Bin\": 1840, \"Count\": 2}, {\"Bin\": 1880, \"Count\": 1}], \"data-8cd538aa9ba344d83db00976713be861\": [{\"Bin\": 560, \"Count\": 35}, {\"Bin\": 920, \"Count\": 93}, {\"Bin\": 520, \"Count\": 19}, {\"Bin\": 960, \"Count\": 78}, {\"Bin\": 400, \"Count\": 4}, {\"Bin\": 680, \"Count\": 131}, {\"Bin\": 880, \"Count\": 104}, {\"Bin\": 800, \"Count\": 100}, {\"Bin\": 1000, \"Count\": 72}, {\"Bin\": 640, \"Count\": 98}, {\"Bin\": 1160, \"Count\": 42}, {\"Bin\": 1720, \"Count\": 10}, {\"Bin\": 1520, \"Count\": 15}, {\"Bin\": 1040, \"Count\": 46}, {\"Bin\": 1760, \"Count\": 11}, {\"Bin\": 1360, \"Count\": 23}, {\"Bin\": 1560, \"Count\": 11}, {\"Bin\": 1440, \"Count\": 12}, {\"Bin\": 1120, \"Count\": 49}, {\"Bin\": 1280, \"Count\": 33}, {\"Bin\": 1200, \"Count\": 42}, {\"Bin\": 840, \"Count\": 113}, {\"Bin\": 720, \"Count\": 128}, {\"Bin\": 480, \"Count\": 14}, {\"Bin\": 1240, \"Count\": 27}, {\"Bin\": 1080, \"Count\": 53}, {\"Bin\": 1960, \"Count\": 6}, {\"Bin\": 1400, \"Count\": 18}, {\"Bin\": 1640, \"Count\": 9}, {\"Bin\": 1880, \"Count\": 4}, {\"Bin\": 1840, \"Count\": 9}, {\"Bin\": 1480, \"Count\": 14}, {\"Bin\": 1800, \"Count\": 7}, {\"Bin\": 1320, \"Count\": 29}, {\"Bin\": 1680, \"Count\": 9}, {\"Bin\": 760, \"Count\": 129}, {\"Bin\": 1600, \"Count\": 14}, {\"Bin\": 440, \"Count\": 6}, {\"Bin\": 600, \"Count\": 56}, {\"Bin\": 1920, \"Count\": 3}]}}, {\"mode\": \"vega-lite\"});\n",
       "</script>"
      ],
      "text/plain": [
       "alt.VConcatChart(...)"
      ]
     },
     "execution_count": 403,
     "metadata": {},
     "output_type": "execute_result"
    }
   ],
   "source": [
    "renter_owner_hous_exp_charts = (charts_dict[0] | charts_dict[3]) & (charts_dict[1] | charts_dict[2])\n",
    "renter_owner_hous_exp_charts"
   ]
  },
  {
   "cell_type": "code",
   "execution_count": 406,
   "metadata": {},
   "outputs": [],
   "source": [
    "renter_owner_hous_exp_charts.save('renter_owner_hous_exp.png', scale_factor=6)"
   ]
  },
  {
   "cell_type": "markdown",
   "metadata": {},
   "source": [
    "---"
   ]
  },
  {
   "cell_type": "markdown",
   "metadata": {},
   "source": [
    "#### (2) Homeowners"
   ]
  },
  {
   "cell_type": "code",
   "execution_count": 233,
   "metadata": {},
   "outputs": [],
   "source": [
    "charts_dict = {}\n",
    "keys = ['Rent_Housing_Rent_Higher_Share_Inc_Bin', 'Rent_Housing_Mort_Higher_Share_Inc_Bin', 'Mort_Housing_Rent_Higher_Share_Inc_Bin', 'Mort_Housing_Mort_Higher_Share_Inc_Bin']\n",
    "titles = ['Renter Income Devoted to Housing', ''] + ['', 'Homeowner Income Devoted to Housing']\n",
    "y_titles = ['Counties where renting is more expensive than owning', 'Counties where owning is more expensive than renting', 'Counties where renting is more expensive than owning', 'Counties where owning is more expensive than renting']\n",
    "opacities = [.7,.7,0,0]\n",
    "colors = ['#cede54']*2 + ['#97c2f2']*2\n",
    "counter = 0\n",
    "for key in keys:\n",
    "    df = rent_dict[key]\n",
    "    chart = alt.Chart(df, title=titles[counter]\n",
    "                     ).mark_bar(size=13, color=colors[counter]\n",
    "                           ).encode(x=alt.X('Bin', \n",
    "                                            axis=alt.Axis(values=list(range(10,60,5)), titleOpacity=.7, \n",
    "                                                          labelFontSize=24, labelOpacity=.7, titleY=35),\n",
    "                                            scale=alt.Scale(domain=[10,50])), \n",
    "                                    y=alt.Y('Count', title=y_titles[counter], \n",
    "                                            axis=alt.Axis(values=list(range(60,360,60)), \n",
    "                                                          titleX=-45, titleY=0, titleOpacity=.7, titleFontSize=24, \n",
    "                                                          labelPadding=45, labelFontSize=24, labelOpacity=opacities[counter]), \n",
    "                                            scale=alt.Scale(domain=[0,360])))\n",
    "\n",
    "    text_df = pd.DataFrame({'x':[34,6,7], 'y':[360,0,360], 'text':['_'*94, '5%', '360 counties']})\n",
    "    line = alt.Chart(text_df.query('x==34')).mark_text(dx=-7, dy=-4, opacity=.09, fontSize=11.5, fontWeight='bold').encode(x=alt.X('x', scale=alt.Scale(domain=[10,50])), y='y', text='text')\n",
    "    x_text = alt.Chart(text_df.query('x==6')).mark_text(dx=-5, dy=22.5, fontSize=24, font='lato', opacity=.7).encode(x='x', y='y', text='text')\n",
    "    y_text = alt.Chart(text_df.query('x==7')).mark_text(dx=-4, dy=0, fontSize=24, font='lato', opacity=opacities[counter]).encode(x='x', y='y', text='text')\n",
    "    \n",
    "    combined = (line + chart + x_text + y_text).properties(width=700, height=550)\n",
    "    charts_dict[counter] = combined\n",
    "    #combined.save(keys[counter] + str(counter) + '.png', scale_factor=6)\n",
    "    counter += 1"
   ]
  },
  {
   "cell_type": "code",
   "execution_count": 234,
   "metadata": {},
   "outputs": [
    {
     "data": {
      "text/html": [
       "\n",
       "<div id=\"altair-viz-100\"></div>\n",
       "<script type=\"text/javascript\">\n",
       "  (function(spec, embedOpt){\n",
       "    const outputDiv = document.getElementById(\"altair-viz-100\");\n",
       "    const paths = {\n",
       "      \"vega\": \"https://cdn.jsdelivr.net/npm//vega@5?noext\",\n",
       "      \"vega-lib\": \"https://cdn.jsdelivr.net/npm//vega-lib?noext\",\n",
       "      \"vega-lite\": \"https://cdn.jsdelivr.net/npm//vega-lite@4.0.0?noext\",\n",
       "      \"vega-embed\": \"https://cdn.jsdelivr.net/npm//vega-embed@6?noext\",\n",
       "    };\n",
       "\n",
       "    function loadScript(lib) {\n",
       "      return new Promise(function(resolve, reject) {\n",
       "        var s = document.createElement('script');\n",
       "        s.src = paths[lib];\n",
       "        s.async = true;\n",
       "        s.onload = () => resolve(paths[lib]);\n",
       "        s.onerror = () => reject(`Error loading script: ${paths[lib]}`);\n",
       "        document.getElementsByTagName(\"head\")[0].appendChild(s);\n",
       "      });\n",
       "    }\n",
       "\n",
       "    function showError(err) {\n",
       "      outputDiv.innerHTML = `<div class=\"error\" style=\"color:red;\">${err}</div>`;\n",
       "      throw err;\n",
       "    }\n",
       "\n",
       "    function displayChart(vegaEmbed) {\n",
       "      vegaEmbed(outputDiv, spec, embedOpt)\n",
       "        .catch(err => showError(`Javascript Error: ${err.message}<br>This usually means there's a typo in your chart specification. See the javascript console for the full traceback.`));\n",
       "    }\n",
       "\n",
       "    if(typeof define === \"function\" && define.amd) {\n",
       "      requirejs.config({paths});\n",
       "      require([\"vega-embed\"], displayChart, err => showError(`Error loading script: ${err.message}`));\n",
       "    } else if (typeof vegaEmbed === \"function\") {\n",
       "      displayChart(vegaEmbed);\n",
       "    } else {\n",
       "      loadScript(\"vega\")\n",
       "        .then(() => loadScript(\"vega-lite\"))\n",
       "        .then(() => loadScript(\"vega-embed\"))\n",
       "        .catch(showError)\n",
       "        .then(() => displayChart(vegaEmbed));\n",
       "    }\n",
       "  })({\"width\": 600, \"height\": 400, \"background\": \"white\", \"config\": {\"title\": {\"fontOpacity\": 0.3, \"fontSize\": 30, \"anchor\": \"start\", \"font\": \"Lato\", \"offset\": 5}, \"axisX\": {\"grid\": false, \"labelFont\": \"Lato\", \"labelFontSize\": 16, \"labelAngle\": 0, \"labelPadding\": 10, \"ticks\": false, \"tickSize\": 5, \"title\": null, \"titleFont\": \"Lato\", \"titleFontSize\": 16, \"titleFontWeight\": \"normal\", \"titleY\": 30, \"titleX\": 280}, \"axisY\": {\"grid\": true, \"gridOpacity\": 1, \"labelFont\": \"Lato\", \"labelFontSize\": 16, \"labelLimit\": 100, \"labelAlign\": \"left\", \"labelPadding\": 20, \"ticks\": false, \"title\": null, \"titleFont\": \"Lato\", \"titleFontWeight\": \"normal\", \"titleFontSize\": 16, \"titleAlign\": \"left\", \"titleAngle\": 0, \"titleY\": -20, \"titleX\": -20, \"domainWidth\": 0}, \"view\": {\"strokeOpacity\": 0}}, \"vconcat\": [{\"hconcat\": [{\"layer\": [{\"data\": {\"name\": \"data-93a1860a1a99ca88f1c22da7f7218985\"}, \"mark\": {\"type\": \"text\", \"dx\": -7, \"dy\": -4, \"fontSize\": 11.5, \"fontWeight\": \"bold\", \"opacity\": 0.09}, \"encoding\": {\"text\": {\"type\": \"nominal\", \"field\": \"text\"}, \"x\": {\"type\": \"quantitative\", \"field\": \"x\", \"scale\": {\"domain\": [10, 50]}}, \"y\": {\"type\": \"quantitative\", \"field\": \"y\"}}}, {\"data\": {\"name\": \"data-21a4e5e6877e5696b40945bd7685b83b\"}, \"mark\": {\"type\": \"bar\", \"color\": \"#cede54\", \"size\": 13}, \"encoding\": {\"x\": {\"type\": \"quantitative\", \"axis\": {\"labelFontSize\": 24, \"labelOpacity\": 0.7, \"titleOpacity\": 0.7, \"titleY\": 35, \"values\": [10, 15, 20, 25, 30, 35, 40, 45, 50, 55]}, \"field\": \"Bin\", \"scale\": {\"domain\": [10, 50]}}, \"y\": {\"type\": \"quantitative\", \"axis\": {\"labelFontSize\": 24, \"labelOpacity\": 0.7, \"labelPadding\": 45, \"titleFontSize\": 24, \"titleOpacity\": 0.7, \"titleX\": -45, \"titleY\": 0, \"values\": [60, 120, 180, 240, 300]}, \"field\": \"Count\", \"scale\": {\"domain\": [0, 360]}, \"title\": \"Counties where renting is more expensive than owning\"}}, \"title\": \"Renter Income Devoted to Housing\"}, {\"data\": {\"name\": \"data-fcbf7a1326e5a92c8e8b9df976c576ce\"}, \"mark\": {\"type\": \"text\", \"dx\": -5, \"dy\": 22.5, \"font\": \"lato\", \"fontSize\": 24, \"opacity\": 0.7}, \"encoding\": {\"text\": {\"type\": \"nominal\", \"field\": \"text\"}, \"x\": {\"type\": \"quantitative\", \"field\": \"x\"}, \"y\": {\"type\": \"quantitative\", \"field\": \"y\"}}}, {\"data\": {\"name\": \"data-d52168d0dfeed3670e7525367a93c397\"}, \"mark\": {\"type\": \"text\", \"dx\": -4, \"dy\": 0, \"font\": \"lato\", \"fontSize\": 24, \"opacity\": 0.7}, \"encoding\": {\"text\": {\"type\": \"nominal\", \"field\": \"text\"}, \"x\": {\"type\": \"quantitative\", \"field\": \"x\"}, \"y\": {\"type\": \"quantitative\", \"field\": \"y\"}}}], \"height\": 550, \"width\": 700}, {\"layer\": [{\"data\": {\"name\": \"data-93a1860a1a99ca88f1c22da7f7218985\"}, \"mark\": {\"type\": \"text\", \"dx\": -7, \"dy\": -4, \"fontSize\": 11.5, \"fontWeight\": \"bold\", \"opacity\": 0.09}, \"encoding\": {\"text\": {\"type\": \"nominal\", \"field\": \"text\"}, \"x\": {\"type\": \"quantitative\", \"field\": \"x\", \"scale\": {\"domain\": [10, 50]}}, \"y\": {\"type\": \"quantitative\", \"field\": \"y\"}}}, {\"data\": {\"name\": \"data-0d6653b94ecaec5ec23f116b6ccba55a\"}, \"mark\": {\"type\": \"bar\", \"color\": \"#97c2f2\", \"size\": 13}, \"encoding\": {\"x\": {\"type\": \"quantitative\", \"axis\": {\"labelFontSize\": 24, \"labelOpacity\": 0.7, \"titleOpacity\": 0.7, \"titleY\": 35, \"values\": [10, 15, 20, 25, 30, 35, 40, 45, 50, 55]}, \"field\": \"Bin\", \"scale\": {\"domain\": [10, 50]}}, \"y\": {\"type\": \"quantitative\", \"axis\": {\"labelFontSize\": 24, \"labelOpacity\": 0, \"labelPadding\": 45, \"titleFontSize\": 24, \"titleOpacity\": 0.7, \"titleX\": -45, \"titleY\": 0, \"values\": [60, 120, 180, 240, 300]}, \"field\": \"Count\", \"scale\": {\"domain\": [0, 360]}, \"title\": \"Counties where owning is more expensive than renting\"}}, \"title\": \"Homeowner Income Devoted to Housing\"}, {\"data\": {\"name\": \"data-fcbf7a1326e5a92c8e8b9df976c576ce\"}, \"mark\": {\"type\": \"text\", \"dx\": -5, \"dy\": 22.5, \"font\": \"lato\", \"fontSize\": 24, \"opacity\": 0.7}, \"encoding\": {\"text\": {\"type\": \"nominal\", \"field\": \"text\"}, \"x\": {\"type\": \"quantitative\", \"field\": \"x\"}, \"y\": {\"type\": \"quantitative\", \"field\": \"y\"}}}, {\"data\": {\"name\": \"data-d52168d0dfeed3670e7525367a93c397\"}, \"mark\": {\"type\": \"text\", \"dx\": -4, \"dy\": 0, \"font\": \"lato\", \"fontSize\": 24, \"opacity\": 0}, \"encoding\": {\"text\": {\"type\": \"nominal\", \"field\": \"text\"}, \"x\": {\"type\": \"quantitative\", \"field\": \"x\"}, \"y\": {\"type\": \"quantitative\", \"field\": \"y\"}}}], \"height\": 550, \"width\": 700}]}, {\"hconcat\": [{\"layer\": [{\"data\": {\"name\": \"data-93a1860a1a99ca88f1c22da7f7218985\"}, \"mark\": {\"type\": \"text\", \"dx\": -7, \"dy\": -4, \"fontSize\": 11.5, \"fontWeight\": \"bold\", \"opacity\": 0.09}, \"encoding\": {\"text\": {\"type\": \"nominal\", \"field\": \"text\"}, \"x\": {\"type\": \"quantitative\", \"field\": \"x\", \"scale\": {\"domain\": [10, 50]}}, \"y\": {\"type\": \"quantitative\", \"field\": \"y\"}}}, {\"data\": {\"name\": \"data-77ad753fbdc530e19cb1774976fc8bc9\"}, \"mark\": {\"type\": \"bar\", \"color\": \"#cede54\", \"size\": 13}, \"encoding\": {\"x\": {\"type\": \"quantitative\", \"axis\": {\"labelFontSize\": 24, \"labelOpacity\": 0.7, \"titleOpacity\": 0.7, \"titleY\": 35, \"values\": [10, 15, 20, 25, 30, 35, 40, 45, 50, 55]}, \"field\": \"Bin\", \"scale\": {\"domain\": [10, 50]}}, \"y\": {\"type\": \"quantitative\", \"axis\": {\"labelFontSize\": 24, \"labelOpacity\": 0.7, \"labelPadding\": 45, \"titleFontSize\": 24, \"titleOpacity\": 0.7, \"titleX\": -45, \"titleY\": 0, \"values\": [60, 120, 180, 240, 300]}, \"field\": \"Count\", \"scale\": {\"domain\": [0, 360]}, \"title\": \"Counties where owning is more expensive than renting\"}}, \"title\": \"\"}, {\"data\": {\"name\": \"data-fcbf7a1326e5a92c8e8b9df976c576ce\"}, \"mark\": {\"type\": \"text\", \"dx\": -5, \"dy\": 22.5, \"font\": \"lato\", \"fontSize\": 24, \"opacity\": 0.7}, \"encoding\": {\"text\": {\"type\": \"nominal\", \"field\": \"text\"}, \"x\": {\"type\": \"quantitative\", \"field\": \"x\"}, \"y\": {\"type\": \"quantitative\", \"field\": \"y\"}}}, {\"data\": {\"name\": \"data-d52168d0dfeed3670e7525367a93c397\"}, \"mark\": {\"type\": \"text\", \"dx\": -4, \"dy\": 0, \"font\": \"lato\", \"fontSize\": 24, \"opacity\": 0.7}, \"encoding\": {\"text\": {\"type\": \"nominal\", \"field\": \"text\"}, \"x\": {\"type\": \"quantitative\", \"field\": \"x\"}, \"y\": {\"type\": \"quantitative\", \"field\": \"y\"}}}], \"height\": 550, \"width\": 700}, {\"layer\": [{\"data\": {\"name\": \"data-93a1860a1a99ca88f1c22da7f7218985\"}, \"mark\": {\"type\": \"text\", \"dx\": -7, \"dy\": -4, \"fontSize\": 11.5, \"fontWeight\": \"bold\", \"opacity\": 0.09}, \"encoding\": {\"text\": {\"type\": \"nominal\", \"field\": \"text\"}, \"x\": {\"type\": \"quantitative\", \"field\": \"x\", \"scale\": {\"domain\": [10, 50]}}, \"y\": {\"type\": \"quantitative\", \"field\": \"y\"}}}, {\"data\": {\"name\": \"data-c7d884abf4a0f8c18f7471f5d7471e99\"}, \"mark\": {\"type\": \"bar\", \"color\": \"#97c2f2\", \"size\": 13}, \"encoding\": {\"x\": {\"type\": \"quantitative\", \"axis\": {\"labelFontSize\": 24, \"labelOpacity\": 0.7, \"titleOpacity\": 0.7, \"titleY\": 35, \"values\": [10, 15, 20, 25, 30, 35, 40, 45, 50, 55]}, \"field\": \"Bin\", \"scale\": {\"domain\": [10, 50]}}, \"y\": {\"type\": \"quantitative\", \"axis\": {\"labelFontSize\": 24, \"labelOpacity\": 0, \"labelPadding\": 45, \"titleFontSize\": 24, \"titleOpacity\": 0.7, \"titleX\": -45, \"titleY\": 0, \"values\": [60, 120, 180, 240, 300]}, \"field\": \"Count\", \"scale\": {\"domain\": [0, 360]}, \"title\": \"Counties where renting is more expensive than owning\"}}, \"title\": \"\"}, {\"data\": {\"name\": \"data-fcbf7a1326e5a92c8e8b9df976c576ce\"}, \"mark\": {\"type\": \"text\", \"dx\": -5, \"dy\": 22.5, \"font\": \"lato\", \"fontSize\": 24, \"opacity\": 0.7}, \"encoding\": {\"text\": {\"type\": \"nominal\", \"field\": \"text\"}, \"x\": {\"type\": \"quantitative\", \"field\": \"x\"}, \"y\": {\"type\": \"quantitative\", \"field\": \"y\"}}}, {\"data\": {\"name\": \"data-d52168d0dfeed3670e7525367a93c397\"}, \"mark\": {\"type\": \"text\", \"dx\": -4, \"dy\": 0, \"font\": \"lato\", \"fontSize\": 24, \"opacity\": 0}, \"encoding\": {\"text\": {\"type\": \"nominal\", \"field\": \"text\"}, \"x\": {\"type\": \"quantitative\", \"field\": \"x\"}, \"y\": {\"type\": \"quantitative\", \"field\": \"y\"}}}], \"height\": 550, \"width\": 700}]}], \"$schema\": \"https://vega.github.io/schema/vega-lite/v4.0.0.json\", \"datasets\": {\"data-93a1860a1a99ca88f1c22da7f7218985\": [{\"x\": 34, \"y\": 360, \"text\": \"______________________________________________________________________________________________\"}], \"data-21a4e5e6877e5696b40945bd7685b83b\": [{\"Bin\": 33, \"Count\": 81}, {\"Bin\": 31, \"Count\": 97}, {\"Bin\": 38, \"Count\": 37}, {\"Bin\": 34, \"Count\": 79}, {\"Bin\": 30, \"Count\": 106}, {\"Bin\": 32, \"Count\": 93}, {\"Bin\": 40, \"Count\": 24}, {\"Bin\": 36, \"Count\": 50}, {\"Bin\": 22, \"Count\": 45}, {\"Bin\": 28, \"Count\": 98}, {\"Bin\": 35, \"Count\": 49}, {\"Bin\": 29, \"Count\": 74}, {\"Bin\": 39, \"Count\": 23}, {\"Bin\": 24, \"Count\": 57}, {\"Bin\": 25, \"Count\": 52}, {\"Bin\": 49, \"Count\": 3}, {\"Bin\": 37, \"Count\": 38}, {\"Bin\": 18, \"Count\": 30}, {\"Bin\": 19, \"Count\": 15}, {\"Bin\": 16, \"Count\": 17}, {\"Bin\": 14, \"Count\": 5}, {\"Bin\": 27, \"Count\": 69}, {\"Bin\": 20, \"Count\": 29}, {\"Bin\": 17, \"Count\": 11}, {\"Bin\": 23, \"Count\": 37}, {\"Bin\": 8, \"Count\": 1}, {\"Bin\": 42, \"Count\": 10}, {\"Bin\": 44, \"Count\": 9}, {\"Bin\": 26, \"Count\": 74}, {\"Bin\": 41, \"Count\": 17}, {\"Bin\": 46, \"Count\": 4}, {\"Bin\": 45, \"Count\": 11}, {\"Bin\": 21, \"Count\": 25}, {\"Bin\": 43, \"Count\": 7}, {\"Bin\": 47, \"Count\": 7}, {\"Bin\": 48, \"Count\": 4}, {\"Bin\": 50, \"Count\": 1}, {\"Bin\": 15, \"Count\": 3}, {\"Bin\": 11, \"Count\": 1}, {\"Bin\": 13, \"Count\": 3}], \"data-fcbf7a1326e5a92c8e8b9df976c576ce\": [{\"x\": 6, \"y\": 0, \"text\": \"5%\"}], \"data-d52168d0dfeed3670e7525367a93c397\": [{\"x\": 7, \"y\": 360, \"text\": \"360 counties\"}], \"data-0d6653b94ecaec5ec23f116b6ccba55a\": [{\"Bin\": 16, \"Count\": 123}, {\"Bin\": 17, \"Count\": 62}, {\"Bin\": 13, \"Count\": 228}, {\"Bin\": 11, \"Count\": 113}, {\"Bin\": 14, \"Count\": 281}, {\"Bin\": 12, \"Count\": 223}, {\"Bin\": 10, \"Count\": 85}, {\"Bin\": 15, \"Count\": 152}, {\"Bin\": 21, \"Count\": 4}, {\"Bin\": 9, \"Count\": 38}, {\"Bin\": 8, \"Count\": 19}, {\"Bin\": 18, \"Count\": 42}, {\"Bin\": 20, \"Count\": 11}, {\"Bin\": 19, \"Count\": 9}, {\"Bin\": 22, \"Count\": 2}, {\"Bin\": 7, \"Count\": 3}, {\"Bin\": 6, \"Count\": 1}], \"data-77ad753fbdc530e19cb1774976fc8bc9\": [{\"Bin\": 26, \"Count\": 134}, {\"Bin\": 31, \"Count\": 124}, {\"Bin\": 41, \"Count\": 6}, {\"Bin\": 34, \"Count\": 87}, {\"Bin\": 30, \"Count\": 168}, {\"Bin\": 24, \"Count\": 110}, {\"Bin\": 38, \"Count\": 23}, {\"Bin\": 28, \"Count\": 161}, {\"Bin\": 35, \"Count\": 38}, {\"Bin\": 29, \"Count\": 121}, {\"Bin\": 45, \"Count\": 3}, {\"Bin\": 27, \"Count\": 113}, {\"Bin\": 21, \"Count\": 40}, {\"Bin\": 32, \"Count\": 103}, {\"Bin\": 23, \"Count\": 58}, {\"Bin\": 33, \"Count\": 64}, {\"Bin\": 25, \"Count\": 91}, {\"Bin\": 16, \"Count\": 8}, {\"Bin\": 36, \"Count\": 49}, {\"Bin\": 37, \"Count\": 23}, {\"Bin\": 40, \"Count\": 11}, {\"Bin\": 20, \"Count\": 33}, {\"Bin\": 43, \"Count\": 6}, {\"Bin\": 44, \"Count\": 2}, {\"Bin\": 39, \"Count\": 11}, {\"Bin\": 22, \"Count\": 59}, {\"Bin\": 42, \"Count\": 6}, {\"Bin\": 18, \"Count\": 14}, {\"Bin\": 17, \"Count\": 10}, {\"Bin\": 19, \"Count\": 15}, {\"Bin\": 12, \"Count\": 2}, {\"Bin\": 14, \"Count\": 8}, {\"Bin\": 48, \"Count\": 1}, {\"Bin\": 46, \"Count\": 3}, {\"Bin\": 15, \"Count\": 6}, {\"Bin\": 13, \"Count\": 3}, {\"Bin\": 10, \"Count\": 1}, {\"Bin\": 7, \"Count\": 1}], \"data-c7d884abf4a0f8c18f7471f5d7471e99\": [{\"Bin\": 16, \"Count\": 347}, {\"Bin\": 14, \"Count\": 226}, {\"Bin\": 17, \"Count\": 201}, {\"Bin\": 11, \"Count\": 28}, {\"Bin\": 13, \"Count\": 112}, {\"Bin\": 15, \"Count\": 228}, {\"Bin\": 19, \"Count\": 113}, {\"Bin\": 20, \"Count\": 84}, {\"Bin\": 18, \"Count\": 186}, {\"Bin\": 12, \"Count\": 57}, {\"Bin\": 22, \"Count\": 32}, {\"Bin\": 23, \"Count\": 12}, {\"Bin\": 21, \"Count\": 53}, {\"Bin\": 25, \"Count\": 5}, {\"Bin\": 24, \"Count\": 15}, {\"Bin\": 10, \"Count\": 10}, {\"Bin\": 9, \"Count\": 4}, {\"Bin\": 26, \"Count\": 2}, {\"Bin\": 7, \"Count\": 1}]}}, {\"mode\": \"vega-lite\"});\n",
       "</script>"
      ],
      "text/plain": [
       "alt.VConcatChart(...)"
      ]
     },
     "execution_count": 234,
     "metadata": {},
     "output_type": "execute_result"
    }
   ],
   "source": [
    "inc_housing_charts = (charts_dict[0] | charts_dict[3]) & (charts_dict[1] | charts_dict[2])\n",
    "inc_housing_charts"
   ]
  },
  {
   "cell_type": "code",
   "execution_count": 235,
   "metadata": {},
   "outputs": [],
   "source": [
    "inc_housing_charts.save('renter_homeowner_inc_dev_hous.png', scale_factor=6)"
   ]
  },
  {
   "cell_type": "code",
   "execution_count": null,
   "metadata": {},
   "outputs": [],
   "source": []
  },
  {
   "cell_type": "code",
   "execution_count": 335,
   "metadata": {},
   "outputs": [],
   "source": [
    "%run chart_theme.py"
   ]
  },
  {
   "cell_type": "code",
   "execution_count": 409,
   "metadata": {},
   "outputs": [],
   "source": [
    "charts_dict = {}\n",
    "keys = ['Rent_Housing_Mort_Higher_Inc_Bin', 'Rent_Housing_Rent_Higher_Inc_Bin', 'Mort_Housing_Mort_Higher_Inc_Bin', 'Mort_Housing_Rent_Higher_Inc_Bin']\n",
    "titles = ['Monthly Renter Income', ''] + ['', 'Monthly Homeowner Income']\n",
    "y_titles = ['Counties where renting is more expensive than owning', 'Counties where owning is more expensive than renting', 'Counties where owning is more expensive than renting', 'Counties where renting is more expensive than owning']\n",
    "opacities = [.7,.7,0,0]\n",
    "colors = ['#cede54']*2 + ['#97c2f2']*2\n",
    "counter = 0\n",
    "for key in keys:\n",
    "    df = rent_dict[key]\n",
    "    chart = alt.Chart(df[df.Bin < 11000], title=titles[counter]\n",
    "                     ).mark_bar(size=11.8, color=colors[counter]\n",
    "                           ).encode(x=alt.X('Bin', \n",
    "                                            axis=alt.Axis(values=list(range(4000, 11000, 2000)), format='~s', \n",
    "                                                          titleOpacity=.7, titleY=35, \n",
    "                                                          labelFontSize=28, labelOpacity=.7),\n",
    "                                            scale=alt.Scale(domain=[1000,10000])), \n",
    "                                    y=alt.Y('Count', title=y_titles[counter], \n",
    "                                            axis=alt.Axis(values=list(range(100,300,100)), \n",
    "                                                          titleX=-45, titleY=80, titleOpacity=.7, titleFontSize=28, \n",
    "                                                          labelPadding=45, labelFontSize=28, labelOpacity=opacities[counter]), \n",
    "                                            scale=alt.Scale(domain=[0,360])))\n",
    "\n",
    "    text_df = pd.DataFrame({'x':[6300,2300,550], 'y':[300,0,300], 'text':['_'*94, '$2k/mo', '300 counties']})\n",
    "    line = alt.Chart(text_df.query('x==6300')).mark_text(dx=0, dy=-4, opacity=.09, fontSize=11.5, fontWeight='bold').encode(x=alt.X('x', scale=alt.Scale(domain=[1000,10000])), y='y', text='text')\n",
    "    x_text = alt.Chart(text_df.query('x==2300')).mark_text(dx=-5, dy=25, fontSize=28, font='lato', opacity=.7).encode(x='x', y='y', text='text')\n",
    "    y_text = alt.Chart(text_df.query('x==550')).mark_text(dx=0, dy=0, fontSize=28, font='lato', opacity=opacities[counter]).encode(x='x', y='y', text='text')\n",
    "    \n",
    "    combined = (line + chart + x_text + y_text).properties(width=700, height=550)\n",
    "    charts_dict[counter] = combined\n",
    "    #combined.save(keys[counter] + str(counter) + '.png', scale_factor=6)\n",
    "    counter += 1"
   ]
  },
  {
   "cell_type": "code",
   "execution_count": 410,
   "metadata": {},
   "outputs": [
    {
     "data": {
      "text/html": [
       "\n",
       "<div id=\"altair-viz-176\"></div>\n",
       "<script type=\"text/javascript\">\n",
       "  (function(spec, embedOpt){\n",
       "    const outputDiv = document.getElementById(\"altair-viz-176\");\n",
       "    const paths = {\n",
       "      \"vega\": \"https://cdn.jsdelivr.net/npm//vega@5?noext\",\n",
       "      \"vega-lib\": \"https://cdn.jsdelivr.net/npm//vega-lib?noext\",\n",
       "      \"vega-lite\": \"https://cdn.jsdelivr.net/npm//vega-lite@4.0.0?noext\",\n",
       "      \"vega-embed\": \"https://cdn.jsdelivr.net/npm//vega-embed@6?noext\",\n",
       "    };\n",
       "\n",
       "    function loadScript(lib) {\n",
       "      return new Promise(function(resolve, reject) {\n",
       "        var s = document.createElement('script');\n",
       "        s.src = paths[lib];\n",
       "        s.async = true;\n",
       "        s.onload = () => resolve(paths[lib]);\n",
       "        s.onerror = () => reject(`Error loading script: ${paths[lib]}`);\n",
       "        document.getElementsByTagName(\"head\")[0].appendChild(s);\n",
       "      });\n",
       "    }\n",
       "\n",
       "    function showError(err) {\n",
       "      outputDiv.innerHTML = `<div class=\"error\" style=\"color:red;\">${err}</div>`;\n",
       "      throw err;\n",
       "    }\n",
       "\n",
       "    function displayChart(vegaEmbed) {\n",
       "      vegaEmbed(outputDiv, spec, embedOpt)\n",
       "        .catch(err => showError(`Javascript Error: ${err.message}<br>This usually means there's a typo in your chart specification. See the javascript console for the full traceback.`));\n",
       "    }\n",
       "\n",
       "    if(typeof define === \"function\" && define.amd) {\n",
       "      requirejs.config({paths});\n",
       "      require([\"vega-embed\"], displayChart, err => showError(`Error loading script: ${err.message}`));\n",
       "    } else if (typeof vegaEmbed === \"function\") {\n",
       "      displayChart(vegaEmbed);\n",
       "    } else {\n",
       "      loadScript(\"vega\")\n",
       "        .then(() => loadScript(\"vega-lite\"))\n",
       "        .then(() => loadScript(\"vega-embed\"))\n",
       "        .catch(showError)\n",
       "        .then(() => displayChart(vegaEmbed));\n",
       "    }\n",
       "  })({\"width\": 600, \"height\": 400, \"background\": \"white\", \"config\": {\"title\": {\"fontWeight\": \"normal\", \"fontSize\": 36, \"anchor\": \"start\", \"font\": \"Lato\", \"offset\": 5}, \"axisX\": {\"grid\": false, \"labelFont\": \"Lato\", \"labelFontSize\": 16, \"labelAngle\": 0, \"labelPadding\": 10, \"ticks\": false, \"tickSize\": 5, \"title\": null, \"titleFont\": \"Lato\", \"titleFontSize\": 16, \"titleFontWeight\": \"normal\", \"titleY\": 30, \"titleX\": 280}, \"axisY\": {\"grid\": true, \"gridOpacity\": 1, \"labelFont\": \"Lato\", \"labelFontSize\": 16, \"labelLimit\": 100, \"labelAlign\": \"left\", \"labelPadding\": 20, \"ticks\": false, \"title\": null, \"titleFont\": \"Lato\", \"titleFontWeight\": \"normal\", \"titleFontSize\": 16, \"titleAlign\": \"left\", \"titleAngle\": 0, \"titleY\": -20, \"titleX\": -20, \"domainWidth\": 0}, \"view\": {\"strokeOpacity\": 0}}, \"vconcat\": [{\"hconcat\": [{\"layer\": [{\"data\": {\"name\": \"data-7577eb4c0b237e17ba1bc357e80d5722\"}, \"mark\": {\"type\": \"text\", \"dx\": 0, \"dy\": -4, \"fontSize\": 11.5, \"fontWeight\": \"bold\", \"opacity\": 0.09}, \"encoding\": {\"text\": {\"type\": \"nominal\", \"field\": \"text\"}, \"x\": {\"type\": \"quantitative\", \"field\": \"x\", \"scale\": {\"domain\": [1000, 10000]}}, \"y\": {\"type\": \"quantitative\", \"field\": \"y\"}}}, {\"data\": {\"name\": \"data-fdcc87dee808c3f00794108ea7029c5e\"}, \"mark\": {\"type\": \"bar\", \"color\": \"#cede54\", \"size\": 11.8}, \"encoding\": {\"x\": {\"type\": \"quantitative\", \"axis\": {\"format\": \"~s\", \"labelFontSize\": 28, \"labelOpacity\": 0.7, \"titleOpacity\": 0.7, \"titleY\": 35, \"values\": [4000, 6000, 8000, 10000]}, \"field\": \"Bin\", \"scale\": {\"domain\": [1000, 10000]}}, \"y\": {\"type\": \"quantitative\", \"axis\": {\"labelFontSize\": 28, \"labelOpacity\": 0.7, \"labelPadding\": 45, \"titleFontSize\": 28, \"titleOpacity\": 0.7, \"titleX\": -45, \"titleY\": 80, \"values\": [100, 200]}, \"field\": \"Count\", \"scale\": {\"domain\": [0, 360]}, \"title\": \"Counties where renting is more expensive than owning\"}}, \"title\": \"Monthly Renter Income\"}, {\"data\": {\"name\": \"data-ae80e88516c1616baa19089055cec545\"}, \"mark\": {\"type\": \"text\", \"dx\": -5, \"dy\": 25, \"font\": \"lato\", \"fontSize\": 28, \"opacity\": 0.7}, \"encoding\": {\"text\": {\"type\": \"nominal\", \"field\": \"text\"}, \"x\": {\"type\": \"quantitative\", \"field\": \"x\"}, \"y\": {\"type\": \"quantitative\", \"field\": \"y\"}}}, {\"data\": {\"name\": \"data-ddccd6af646b7f30406e1fd1912597ae\"}, \"mark\": {\"type\": \"text\", \"dx\": 0, \"dy\": 0, \"font\": \"lato\", \"fontSize\": 28, \"opacity\": 0.7}, \"encoding\": {\"text\": {\"type\": \"nominal\", \"field\": \"text\"}, \"x\": {\"type\": \"quantitative\", \"field\": \"x\"}, \"y\": {\"type\": \"quantitative\", \"field\": \"y\"}}}], \"height\": 550, \"width\": 700}, {\"layer\": [{\"data\": {\"name\": \"data-7577eb4c0b237e17ba1bc357e80d5722\"}, \"mark\": {\"type\": \"text\", \"dx\": 0, \"dy\": -4, \"fontSize\": 11.5, \"fontWeight\": \"bold\", \"opacity\": 0.09}, \"encoding\": {\"text\": {\"type\": \"nominal\", \"field\": \"text\"}, \"x\": {\"type\": \"quantitative\", \"field\": \"x\", \"scale\": {\"domain\": [1000, 10000]}}, \"y\": {\"type\": \"quantitative\", \"field\": \"y\"}}}, {\"data\": {\"name\": \"data-1ad9a20f97aba60aaa73fd2c6f99d031\"}, \"mark\": {\"type\": \"bar\", \"color\": \"#97c2f2\", \"size\": 11.8}, \"encoding\": {\"x\": {\"type\": \"quantitative\", \"axis\": {\"format\": \"~s\", \"labelFontSize\": 28, \"labelOpacity\": 0.7, \"titleOpacity\": 0.7, \"titleY\": 35, \"values\": [4000, 6000, 8000, 10000]}, \"field\": \"Bin\", \"scale\": {\"domain\": [1000, 10000]}}, \"y\": {\"type\": \"quantitative\", \"axis\": {\"labelFontSize\": 28, \"labelOpacity\": 0, \"labelPadding\": 45, \"titleFontSize\": 28, \"titleOpacity\": 0.7, \"titleX\": -45, \"titleY\": 80, \"values\": [100, 200]}, \"field\": \"Count\", \"scale\": {\"domain\": [0, 360]}, \"title\": \"Counties where renting is more expensive than owning\"}}, \"title\": \"Monthly Homeowner Income\"}, {\"data\": {\"name\": \"data-ae80e88516c1616baa19089055cec545\"}, \"mark\": {\"type\": \"text\", \"dx\": -5, \"dy\": 25, \"font\": \"lato\", \"fontSize\": 28, \"opacity\": 0.7}, \"encoding\": {\"text\": {\"type\": \"nominal\", \"field\": \"text\"}, \"x\": {\"type\": \"quantitative\", \"field\": \"x\"}, \"y\": {\"type\": \"quantitative\", \"field\": \"y\"}}}, {\"data\": {\"name\": \"data-ddccd6af646b7f30406e1fd1912597ae\"}, \"mark\": {\"type\": \"text\", \"dx\": 0, \"dy\": 0, \"font\": \"lato\", \"fontSize\": 28, \"opacity\": 0}, \"encoding\": {\"text\": {\"type\": \"nominal\", \"field\": \"text\"}, \"x\": {\"type\": \"quantitative\", \"field\": \"x\"}, \"y\": {\"type\": \"quantitative\", \"field\": \"y\"}}}], \"height\": 550, \"width\": 700}]}, {\"hconcat\": [{\"layer\": [{\"data\": {\"name\": \"data-7577eb4c0b237e17ba1bc357e80d5722\"}, \"mark\": {\"type\": \"text\", \"dx\": 0, \"dy\": -4, \"fontSize\": 11.5, \"fontWeight\": \"bold\", \"opacity\": 0.09}, \"encoding\": {\"text\": {\"type\": \"nominal\", \"field\": \"text\"}, \"x\": {\"type\": \"quantitative\", \"field\": \"x\", \"scale\": {\"domain\": [1000, 10000]}}, \"y\": {\"type\": \"quantitative\", \"field\": \"y\"}}}, {\"data\": {\"name\": \"data-5a8d7d5e9601b04bb4b347dd34920f33\"}, \"mark\": {\"type\": \"bar\", \"color\": \"#cede54\", \"size\": 11.8}, \"encoding\": {\"x\": {\"type\": \"quantitative\", \"axis\": {\"format\": \"~s\", \"labelFontSize\": 28, \"labelOpacity\": 0.7, \"titleOpacity\": 0.7, \"titleY\": 35, \"values\": [4000, 6000, 8000, 10000]}, \"field\": \"Bin\", \"scale\": {\"domain\": [1000, 10000]}}, \"y\": {\"type\": \"quantitative\", \"axis\": {\"labelFontSize\": 28, \"labelOpacity\": 0.7, \"labelPadding\": 45, \"titleFontSize\": 28, \"titleOpacity\": 0.7, \"titleX\": -45, \"titleY\": 80, \"values\": [100, 200]}, \"field\": \"Count\", \"scale\": {\"domain\": [0, 360]}, \"title\": \"Counties where owning is more expensive than renting\"}}, \"title\": \"\"}, {\"data\": {\"name\": \"data-ae80e88516c1616baa19089055cec545\"}, \"mark\": {\"type\": \"text\", \"dx\": -5, \"dy\": 25, \"font\": \"lato\", \"fontSize\": 28, \"opacity\": 0.7}, \"encoding\": {\"text\": {\"type\": \"nominal\", \"field\": \"text\"}, \"x\": {\"type\": \"quantitative\", \"field\": \"x\"}, \"y\": {\"type\": \"quantitative\", \"field\": \"y\"}}}, {\"data\": {\"name\": \"data-ddccd6af646b7f30406e1fd1912597ae\"}, \"mark\": {\"type\": \"text\", \"dx\": 0, \"dy\": 0, \"font\": \"lato\", \"fontSize\": 28, \"opacity\": 0.7}, \"encoding\": {\"text\": {\"type\": \"nominal\", \"field\": \"text\"}, \"x\": {\"type\": \"quantitative\", \"field\": \"x\"}, \"y\": {\"type\": \"quantitative\", \"field\": \"y\"}}}], \"height\": 550, \"width\": 700}, {\"layer\": [{\"data\": {\"name\": \"data-7577eb4c0b237e17ba1bc357e80d5722\"}, \"mark\": {\"type\": \"text\", \"dx\": 0, \"dy\": -4, \"fontSize\": 11.5, \"fontWeight\": \"bold\", \"opacity\": 0.09}, \"encoding\": {\"text\": {\"type\": \"nominal\", \"field\": \"text\"}, \"x\": {\"type\": \"quantitative\", \"field\": \"x\", \"scale\": {\"domain\": [1000, 10000]}}, \"y\": {\"type\": \"quantitative\", \"field\": \"y\"}}}, {\"data\": {\"name\": \"data-5b0f1fe251132edd73a36dc6323e830c\"}, \"mark\": {\"type\": \"bar\", \"color\": \"#97c2f2\", \"size\": 11.8}, \"encoding\": {\"x\": {\"type\": \"quantitative\", \"axis\": {\"format\": \"~s\", \"labelFontSize\": 28, \"labelOpacity\": 0.7, \"titleOpacity\": 0.7, \"titleY\": 35, \"values\": [4000, 6000, 8000, 10000]}, \"field\": \"Bin\", \"scale\": {\"domain\": [1000, 10000]}}, \"y\": {\"type\": \"quantitative\", \"axis\": {\"labelFontSize\": 28, \"labelOpacity\": 0, \"labelPadding\": 45, \"titleFontSize\": 28, \"titleOpacity\": 0.7, \"titleX\": -45, \"titleY\": 80, \"values\": [100, 200]}, \"field\": \"Count\", \"scale\": {\"domain\": [0, 360]}, \"title\": \"Counties where owning is more expensive than renting\"}}, \"title\": \"\"}, {\"data\": {\"name\": \"data-ae80e88516c1616baa19089055cec545\"}, \"mark\": {\"type\": \"text\", \"dx\": -5, \"dy\": 25, \"font\": \"lato\", \"fontSize\": 28, \"opacity\": 0.7}, \"encoding\": {\"text\": {\"type\": \"nominal\", \"field\": \"text\"}, \"x\": {\"type\": \"quantitative\", \"field\": \"x\"}, \"y\": {\"type\": \"quantitative\", \"field\": \"y\"}}}, {\"data\": {\"name\": \"data-ddccd6af646b7f30406e1fd1912597ae\"}, \"mark\": {\"type\": \"text\", \"dx\": 0, \"dy\": 0, \"font\": \"lato\", \"fontSize\": 28, \"opacity\": 0}, \"encoding\": {\"text\": {\"type\": \"nominal\", \"field\": \"text\"}, \"x\": {\"type\": \"quantitative\", \"field\": \"x\"}, \"y\": {\"type\": \"quantitative\", \"field\": \"y\"}}}], \"height\": 550, \"width\": 700}]}], \"$schema\": \"https://vega.github.io/schema/vega-lite/v4.0.0.json\", \"datasets\": {\"data-7577eb4c0b237e17ba1bc357e80d5722\": [{\"x\": 6300, \"y\": 300, \"text\": \"______________________________________________________________________________________________\"}], \"data-fdcc87dee808c3f00794108ea7029c5e\": [{\"Bin\": 2200, \"Count\": 175}, {\"Bin\": 2800, \"Count\": 219}, {\"Bin\": 1200, \"Count\": 9}, {\"Bin\": 2600, \"Count\": 294}, {\"Bin\": 2400, \"Count\": 175}, {\"Bin\": 1400, \"Count\": 10}, {\"Bin\": 2000, \"Count\": 81}, {\"Bin\": 1600, \"Count\": 25}, {\"Bin\": 3000, \"Count\": 172}, {\"Bin\": 3800, \"Count\": 44}, {\"Bin\": 4800, \"Count\": 13}, {\"Bin\": 4400, \"Count\": 31}, {\"Bin\": 5000, \"Count\": 11}, {\"Bin\": 3600, \"Count\": 63}, {\"Bin\": 4600, \"Count\": 17}, {\"Bin\": 3400, \"Count\": 122}, {\"Bin\": 5200, \"Count\": 5}, {\"Bin\": 3200, \"Count\": 113}, {\"Bin\": 5800, \"Count\": 1}, {\"Bin\": 4200, \"Count\": 30}, {\"Bin\": 7000, \"Count\": 3}, {\"Bin\": 4000, \"Count\": 36}, {\"Bin\": 6200, \"Count\": 3}, {\"Bin\": 1800, \"Count\": 47}, {\"Bin\": 1000, \"Count\": 2}, {\"Bin\": 5400, \"Count\": 7}, {\"Bin\": 6000, \"Count\": 3}, {\"Bin\": 6400, \"Count\": 1}, {\"Bin\": 5600, \"Count\": 1}, {\"Bin\": 7600, \"Count\": 1}, {\"Bin\": 6600, \"Count\": 1}, {\"Bin\": 7200, \"Count\": 1}], \"data-ae80e88516c1616baa19089055cec545\": [{\"x\": 2300, \"y\": 0, \"text\": \"$2k/mo\"}], \"data-ddccd6af646b7f30406e1fd1912597ae\": [{\"x\": 550, \"y\": 300, \"text\": \"300 counties\"}], \"data-1ad9a20f97aba60aaa73fd2c6f99d031\": [{\"Bin\": 3400, \"Count\": 9}, {\"Bin\": 5800, \"Count\": 117}, {\"Bin\": 3600, \"Count\": 9}, {\"Bin\": 5600, \"Count\": 122}, {\"Bin\": 3800, \"Count\": 22}, {\"Bin\": 5000, \"Count\": 140}, {\"Bin\": 4200, \"Count\": 56}, {\"Bin\": 7000, \"Count\": 37}, {\"Bin\": 4400, \"Count\": 56}, {\"Bin\": 5400, \"Count\": 141}, {\"Bin\": 4000, \"Count\": 27}, {\"Bin\": 5200, \"Count\": 148}, {\"Bin\": 7200, \"Count\": 33}, {\"Bin\": 9000, \"Count\": 9}, {\"Bin\": 8000, \"Count\": 15}, {\"Bin\": 6200, \"Count\": 86}, {\"Bin\": 9200, \"Count\": 12}, {\"Bin\": 6400, \"Count\": 69}, {\"Bin\": 8200, \"Count\": 24}, {\"Bin\": 7400, \"Count\": 23}, {\"Bin\": 7600, \"Count\": 29}, {\"Bin\": 6600, \"Count\": 43}, {\"Bin\": 4600, \"Count\": 112}, {\"Bin\": 4800, \"Count\": 120}, {\"Bin\": 6000, \"Count\": 99}, {\"Bin\": 10600, \"Count\": 4}, {\"Bin\": 9600, \"Count\": 3}, {\"Bin\": 7800, \"Count\": 19}, {\"Bin\": 8800, \"Count\": 16}, {\"Bin\": 9400, \"Count\": 5}, {\"Bin\": 8400, \"Count\": 20}, {\"Bin\": 6800, \"Count\": 39}, {\"Bin\": 8600, \"Count\": 11}, {\"Bin\": 10000, \"Count\": 5}, {\"Bin\": 2600, \"Count\": 1}, {\"Bin\": 2800, \"Count\": 3}, {\"Bin\": 3000, \"Count\": 1}, {\"Bin\": 3200, \"Count\": 4}, {\"Bin\": 9800, \"Count\": 3}, {\"Bin\": 10400, \"Count\": 3}, {\"Bin\": 10200, \"Count\": 3}, {\"Bin\": 10800, \"Count\": 1}], \"data-5a8d7d5e9601b04bb4b347dd34920f33\": [{\"Bin\": 3000, \"Count\": 74}, {\"Bin\": 3200, \"Count\": 65}, {\"Bin\": 1600, \"Count\": 107}, {\"Bin\": 2200, \"Count\": 189}, {\"Bin\": 2000, \"Count\": 172}, {\"Bin\": 2400, \"Count\": 173}, {\"Bin\": 1800, \"Count\": 150}, {\"Bin\": 1400, \"Count\": 60}, {\"Bin\": 2600, \"Count\": 143}, {\"Bin\": 2800, \"Count\": 93}, {\"Bin\": 5400, \"Count\": 6}, {\"Bin\": 7000, \"Count\": 1}, {\"Bin\": 4400, \"Count\": 10}, {\"Bin\": 6200, \"Count\": 2}, {\"Bin\": 5800, \"Count\": 2}, {\"Bin\": 3800, \"Count\": 20}, {\"Bin\": 4600, \"Count\": 4}, {\"Bin\": 4800, \"Count\": 5}, {\"Bin\": 3400, \"Count\": 53}, {\"Bin\": 4000, \"Count\": 10}, {\"Bin\": 5600, \"Count\": 1}, {\"Bin\": 1200, \"Count\": 12}, {\"Bin\": 3600, \"Count\": 29}, {\"Bin\": 4200, \"Count\": 10}, {\"Bin\": 1000, \"Count\": 2}, {\"Bin\": 5200, \"Count\": 1}, {\"Bin\": 5000, \"Count\": 2}], \"data-5b0f1fe251132edd73a36dc6323e830c\": [{\"Bin\": 5400, \"Count\": 42}, {\"Bin\": 4000, \"Count\": 151}, {\"Bin\": 4400, \"Count\": 145}, {\"Bin\": 4600, \"Count\": 118}, {\"Bin\": 3800, \"Count\": 111}, {\"Bin\": 3400, \"Count\": 82}, {\"Bin\": 5600, \"Count\": 29}, {\"Bin\": 4800, \"Count\": 116}, {\"Bin\": 3200, \"Count\": 48}, {\"Bin\": 4200, \"Count\": 143}, {\"Bin\": 3600, \"Count\": 118}, {\"Bin\": 5000, \"Count\": 79}, {\"Bin\": 2200, \"Count\": 1}, {\"Bin\": 6400, \"Count\": 4}, {\"Bin\": 8200, \"Count\": 1}, {\"Bin\": 8600, \"Count\": 1}, {\"Bin\": 7200, \"Count\": 3}, {\"Bin\": 5800, \"Count\": 25}, {\"Bin\": 6200, \"Count\": 18}, {\"Bin\": 5200, \"Count\": 68}, {\"Bin\": 6600, \"Count\": 5}, {\"Bin\": 7000, \"Count\": 6}, {\"Bin\": 2600, \"Count\": 5}, {\"Bin\": 3000, \"Count\": 31}, {\"Bin\": 6000, \"Count\": 12}, {\"Bin\": 2800, \"Count\": 19}, {\"Bin\": 2400, \"Count\": 3}, {\"Bin\": 6800, \"Count\": 5}, {\"Bin\": 8800, \"Count\": 2}, {\"Bin\": 7400, \"Count\": 2}, {\"Bin\": 8000, \"Count\": 1}, {\"Bin\": 9200, \"Count\": 1}, {\"Bin\": 7800, \"Count\": 1}]}}, {\"mode\": \"vega-lite\"});\n",
       "</script>"
      ],
      "text/plain": [
       "alt.VConcatChart(...)"
      ]
     },
     "execution_count": 410,
     "metadata": {},
     "output_type": "execute_result"
    }
   ],
   "source": [
    "incomes_charts = (charts_dict[0] | charts_dict[3]) & (charts_dict[1] | charts_dict[2])\n",
    "incomes_charts"
   ]
  },
  {
   "cell_type": "code",
   "execution_count": 371,
   "metadata": {},
   "outputs": [],
   "source": [
    "incomes_charts.save('renter_owner_incomes.png', scale_factor=6)"
   ]
  },
  {
   "cell_type": "markdown",
   "metadata": {},
   "source": [
    "---"
   ]
  },
  {
   "cell_type": "markdown",
   "metadata": {},
   "source": [
    "### Pop & Housing Density"
   ]
  },
  {
   "cell_type": "code",
   "execution_count": 305,
   "metadata": {},
   "outputs": [],
   "source": [
    "rent_share_inc_pop_den5 = pd.read_csv('rent_share_inc_by_pop_den_5yr_0816.csv')\n",
    "rent_share_inc_pop_den1 = pd.read_csv('rent_share_inc_by_pop_den_1yr_1018.csv')"
   ]
  },
  {
   "cell_type": "code",
   "execution_count": 596,
   "metadata": {},
   "outputs": [],
   "source": [
    "rent_pop_den_df = pd.concat([rent_share_inc_pop_den5, rent_share_inc_pop_den1[rent_share_inc_pop_den1.Year > 2016]]).sort_values(['Home_Units', 'Year']).reset_index(drop=True)"
   ]
  },
  {
   "cell_type": "markdown",
   "metadata": {},
   "source": [
    "*Adjusting 2017 & 2018 values for '10-25' & 'Less than 10' cols (since 1-yr data included few counties of low pop densities, resulting in distorted figures)"
   ]
  },
  {
   "cell_type": "code",
   "execution_count": 597,
   "metadata": {},
   "outputs": [],
   "source": [
    "rent_pop_den_df['pct_chg'] = rent_pop_den_df['Rent_Share_Inc'].pct_change()"
   ]
  },
  {
   "cell_type": "code",
   "execution_count": 598,
   "metadata": {},
   "outputs": [],
   "source": [
    "for year in [2017, 2018]:\n",
    "    yr_df = rent_pop_den_df[rent_pop_den_df.Year == year]\n",
    "    for typ in ['100 to 250', '50 to 100', '25 to 50', '10 to 25', 'Less than 10']:\n",
    "        index = yr_df[yr_df.Home_Units == typ].index[0]\n",
    "        rent_pop_den_df.loc[index, 'Rent_Share_Inc'] = round(rent_pop_den_df['Rent_Share_Inc'][(rent_pop_den_df.Year == year-1) & (rent_pop_den_df.Home_Units == typ)].iloc[0] + rent_pop_den_df['Rent_Share_Inc'][(rent_pop_den_df.Year == year-1) & (rent_pop_den_df.Home_Units == typ)].iloc[0] * rent_pop_den_df.pct_chg[(rent_pop_den_df.Year == year) & (rent_pop_den_df.Home_Units == 'More than 1000')].iloc[0], 3)"
   ]
  },
  {
   "cell_type": "code",
   "execution_count": 599,
   "metadata": {},
   "outputs": [],
   "source": [
    "dic = {}\n",
    "for t in ['More than 1000', '250 to 1000', '100 to 250', '50 to 100', '25 to 50', '10 to 25', 'Less than 10']:\n",
    "    dic[t] = t.split()[-1]"
   ]
  },
  {
   "cell_type": "code",
   "execution_count": 600,
   "metadata": {},
   "outputs": [],
   "source": [
    "rent_pop_den_df['Order'] = rent_pop_den_df.Home_Units.map(dic).astype(int)"
   ]
  },
  {
   "cell_type": "code",
   "execution_count": 601,
   "metadata": {},
   "outputs": [],
   "source": [
    "rent_pop_den_df = rent_pop_den_df.sort_values(['Order', 'Home_Units'], ascending=[False, False])"
   ]
  },
  {
   "cell_type": "code",
   "execution_count": 602,
   "metadata": {},
   "outputs": [],
   "source": [
    "rent_pop_den = alt.Chart(rent_pop_den_df, title='Renter Income Devoted to Housing').mark_line(size=6, opacity=.85, strokeCap='round', interpolate='basis').encode(\n",
    "x=alt.X('Year:O', axis=alt.Axis(values=[2008, 2018], ticks=True, tickSize=10, titleFontSize=20, labelFontSize=18, labelOpacity=.7)),\n",
    "y=alt.Y('Rent_Share_Inc', title='Counties grouped by population density', \n",
    "        scale=alt.Scale(domain=[10,40]),\n",
    "        axis=alt.Axis(values=list(range(15,40,5)),\n",
    "                      titleX=-25, titleY=-30, titleFontSize=20, titleOpacity=.7,\n",
    "                      labelFontSize=18, labelOpacity=.7, labelPadding=25)),\n",
    "color=alt.Color('Home_Units', scale=alt.Scale(domain=list(rent_pop_den_df.Home_Units.unique()), \n",
    "                                             range=['#b2182b','#ef8a62','#fddbc7','#f8f6e9','#d1e5f0','#67a9cf','#2166ac']), title='Residents / sq. mile')\n",
    ")\n",
    "\n",
    "y_text_df = pd.DataFrame({'x':[2008], 'y':[40], 'text':['40% of income']})\n",
    "y_text = alt.Chart(y_text_df).mark_text(dx=6, dy=0, fontSize=18, font='lato', opacity=.7).encode(x=alt.X('x:O'), y='y', text='text')\n",
    "line = alt.Chart(pd.DataFrame({'x':[2008], 'y':[40], 'text':['_'*79]})).mark_text(dx=320, dy=-4, opacity=.09, fontSize=11.5, fontWeight='bold').encode(x=alt.X('x:O', axis=None), y=alt.Y('y', axis=None), text='text')\n",
    "\n",
    "\n",
    "rent_pop_den_chart = (rent_pop_den + y_text + line).configure_legend(titleFont='Lato', titleFontSize=20, titleOpacity=.85, titleLimit=250, labelFont='Lato', labelFontSize=20, labelOpacity=.85, symbolSize=300, symbolStrokeWidth=6)"
   ]
  },
  {
   "cell_type": "code",
   "execution_count": 603,
   "metadata": {},
   "outputs": [
    {
     "data": {
      "text/html": [
       "\n",
       "<div id=\"altair-viz-158\"></div>\n",
       "<script type=\"text/javascript\">\n",
       "  (function(spec, embedOpt){\n",
       "    const outputDiv = document.getElementById(\"altair-viz-158\");\n",
       "    const paths = {\n",
       "      \"vega\": \"https://cdn.jsdelivr.net/npm//vega@5?noext\",\n",
       "      \"vega-lib\": \"https://cdn.jsdelivr.net/npm//vega-lib?noext\",\n",
       "      \"vega-lite\": \"https://cdn.jsdelivr.net/npm//vega-lite@4.0.0?noext\",\n",
       "      \"vega-embed\": \"https://cdn.jsdelivr.net/npm//vega-embed@6?noext\",\n",
       "    };\n",
       "\n",
       "    function loadScript(lib) {\n",
       "      return new Promise(function(resolve, reject) {\n",
       "        var s = document.createElement('script');\n",
       "        s.src = paths[lib];\n",
       "        s.async = true;\n",
       "        s.onload = () => resolve(paths[lib]);\n",
       "        s.onerror = () => reject(`Error loading script: ${paths[lib]}`);\n",
       "        document.getElementsByTagName(\"head\")[0].appendChild(s);\n",
       "      });\n",
       "    }\n",
       "\n",
       "    function showError(err) {\n",
       "      outputDiv.innerHTML = `<div class=\"error\" style=\"color:red;\">${err}</div>`;\n",
       "      throw err;\n",
       "    }\n",
       "\n",
       "    function displayChart(vegaEmbed) {\n",
       "      vegaEmbed(outputDiv, spec, embedOpt)\n",
       "        .catch(err => showError(`Javascript Error: ${err.message}<br>This usually means there's a typo in your chart specification. See the javascript console for the full traceback.`));\n",
       "    }\n",
       "\n",
       "    if(typeof define === \"function\" && define.amd) {\n",
       "      requirejs.config({paths});\n",
       "      require([\"vega-embed\"], displayChart, err => showError(`Error loading script: ${err.message}`));\n",
       "    } else if (typeof vegaEmbed === \"function\") {\n",
       "      displayChart(vegaEmbed);\n",
       "    } else {\n",
       "      loadScript(\"vega\")\n",
       "        .then(() => loadScript(\"vega-lite\"))\n",
       "        .then(() => loadScript(\"vega-embed\"))\n",
       "        .catch(showError)\n",
       "        .then(() => displayChart(vegaEmbed));\n",
       "    }\n",
       "  })({\"width\": 600, \"height\": 400, \"background\": \"white\", \"config\": {\"title\": {\"fontSize\": 24, \"anchor\": \"start\", \"font\": \"Lato\", \"offset\": 5}, \"axisX\": {\"grid\": false, \"labelFont\": \"Lato\", \"labelFontSize\": 16, \"labelAngle\": 0, \"labelPadding\": 10, \"ticks\": false, \"tickSize\": 5, \"title\": null, \"titleFont\": \"Lato\", \"titleFontSize\": 16, \"titleFontWeight\": \"normal\", \"titleY\": 30, \"titleX\": 280}, \"axisY\": {\"grid\": true, \"gridOpacity\": 1, \"labelFont\": \"Lato\", \"labelFontSize\": 16, \"labelLimit\": 100, \"labelAlign\": \"left\", \"labelPadding\": 20, \"ticks\": false, \"title\": null, \"titleFont\": \"Lato\", \"titleFontWeight\": \"normal\", \"titleFontSize\": 16, \"titleAlign\": \"left\", \"titleAngle\": 0, \"titleY\": -20, \"titleX\": -20, \"domainWidth\": 0}, \"view\": {\"strokeOpacity\": 0}, \"legend\": {\"labelFont\": \"Lato\", \"labelFontSize\": 20, \"labelOpacity\": 0.85, \"symbolSize\": 300, \"symbolStrokeWidth\": 6, \"titleFont\": \"Lato\", \"titleFontSize\": 20, \"titleLimit\": 250, \"titleOpacity\": 0.85}}, \"layer\": [{\"data\": {\"name\": \"data-f1d2e6c90994022b09d9bf043d512484\"}, \"mark\": {\"type\": \"line\", \"interpolate\": \"basis\", \"opacity\": 0.85, \"size\": 6, \"strokeCap\": \"round\"}, \"encoding\": {\"color\": {\"type\": \"nominal\", \"field\": \"Home_Units\", \"scale\": {\"domain\": [\"More than 1000\", \"250 to 1000\", \"100 to 250\", \"50 to 100\", \"25 to 50\", \"10 to 25\", \"Less than 10\"], \"range\": [\"#b2182b\", \"#ef8a62\", \"#fddbc7\", \"#f8f6e9\", \"#d1e5f0\", \"#67a9cf\", \"#2166ac\"]}, \"title\": \"Residents / sq. mile\"}, \"x\": {\"type\": \"ordinal\", \"axis\": {\"labelFontSize\": 18, \"labelOpacity\": 0.7, \"tickSize\": 10, \"ticks\": true, \"titleFontSize\": 20, \"values\": [2008, 2018]}, \"field\": \"Year\"}, \"y\": {\"type\": \"quantitative\", \"axis\": {\"labelFontSize\": 18, \"labelOpacity\": 0.7, \"labelPadding\": 25, \"titleFontSize\": 20, \"titleOpacity\": 0.7, \"titleX\": -25, \"titleY\": -30, \"values\": [15, 20, 25, 30, 35]}, \"field\": \"Rent_Share_Inc\", \"scale\": {\"domain\": [10, 40]}, \"title\": \"Counties grouped by population density\"}}, \"title\": \"Renter Income Devoted to Housing\"}, {\"data\": {\"name\": \"data-210bcfbf6ca010247ca2ea02fc053f02\"}, \"mark\": {\"type\": \"text\", \"dx\": 6, \"dy\": 0, \"font\": \"lato\", \"fontSize\": 18, \"opacity\": 0.7}, \"encoding\": {\"text\": {\"type\": \"nominal\", \"field\": \"text\"}, \"x\": {\"type\": \"ordinal\", \"field\": \"x\"}, \"y\": {\"type\": \"quantitative\", \"field\": \"y\"}}}, {\"data\": {\"name\": \"data-13b48c35d42a118470c4da8ad44cb782\"}, \"mark\": {\"type\": \"text\", \"dx\": 320, \"dy\": -4, \"fontSize\": 11.5, \"fontWeight\": \"bold\", \"opacity\": 0.09}, \"encoding\": {\"text\": {\"type\": \"nominal\", \"field\": \"text\"}, \"x\": {\"type\": \"ordinal\", \"axis\": null, \"field\": \"x\"}, \"y\": {\"type\": \"quantitative\", \"axis\": null, \"field\": \"y\"}}}], \"$schema\": \"https://vega.github.io/schema/vega-lite/v4.0.0.json\", \"datasets\": {\"data-f1d2e6c90994022b09d9bf043d512484\": [{\"Year\": 2008, \"Rent_Share_Inc\": 33.200000762939446, \"Home_Units\": \"More than 1000\", \"pct_chg\": -0.05142854963030152, \"Order\": 1000}, {\"Year\": 2009, \"Rent_Share_Inc\": 33.700000762939446, \"Home_Units\": \"More than 1000\", \"pct_chg\": 0.01506024061776956, \"Order\": 1000}, {\"Year\": 2010, \"Rent_Share_Inc\": 34.200000762939446, \"Home_Units\": \"More than 1000\", \"pct_chg\": 0.014836794916333051, \"Order\": 1000}, {\"Year\": 2011, \"Rent_Share_Inc\": 34.299999237060554, \"Home_Units\": \"More than 1000\", \"pct_chg\": 0.002923931926617662, \"Order\": 1000}, {\"Year\": 2012, \"Rent_Share_Inc\": 34.200000762939446, \"Home_Units\": \"More than 1000\", \"pct_chg\": -0.002915407473626508, \"Order\": 1000}, {\"Year\": 2013, \"Rent_Share_Inc\": 33.5, \"Home_Units\": \"More than 1000\", \"pct_chg\": -0.02046785810888041, \"Order\": 1000}, {\"Year\": 2014, \"Rent_Share_Inc\": 33.200000762939446, \"Home_Units\": \"More than 1000\", \"pct_chg\": -0.008955201106285227, \"Order\": 1000}, {\"Year\": 2015, \"Rent_Share_Inc\": 33.0, \"Home_Units\": \"More than 1000\", \"pct_chg\": -0.006024119227211133, \"Order\": 1000}, {\"Year\": 2016, \"Rent_Share_Inc\": 32.59999847412109, \"Home_Units\": \"More than 1000\", \"pct_chg\": -0.012121258359967024, \"Order\": 1000}, {\"Year\": 2017, \"Rent_Share_Inc\": 32.200000762939446, \"Home_Units\": \"More than 1000\", \"pct_chg\": -0.012269869015459345, \"Order\": 1000}, {\"Year\": 2018, \"Rent_Share_Inc\": 31.79999923706055, \"Home_Units\": \"More than 1000\", \"pct_chg\": -0.012422407341656894, \"Order\": 1000}, {\"Year\": 2008, \"Rent_Share_Inc\": 31.5, \"Home_Units\": \"250 to 1000\", \"pct_chg\": -0.0031645689956500966, \"Order\": 1000}, {\"Year\": 2009, \"Rent_Share_Inc\": 32.299999237060554, \"Home_Units\": \"250 to 1000\", \"pct_chg\": 0.02539680117652554, \"Order\": 1000}, {\"Year\": 2010, \"Rent_Share_Inc\": 32.59999847412109, \"Home_Units\": \"250 to 1000\", \"pct_chg\": 0.009287902295561645, \"Order\": 1000}, {\"Year\": 2011, \"Rent_Share_Inc\": 32.59999847412109, \"Home_Units\": \"250 to 1000\", \"pct_chg\": 0.0, \"Order\": 1000}, {\"Year\": 2012, \"Rent_Share_Inc\": 32.299999237060554, \"Home_Units\": \"250 to 1000\", \"pct_chg\": -0.009202431015408852, \"Order\": 1000}, {\"Year\": 2013, \"Rent_Share_Inc\": 32.0, \"Home_Units\": \"250 to 1000\", \"pct_chg\": -0.009287902295562311, \"Order\": 1000}, {\"Year\": 2014, \"Rent_Share_Inc\": 31.79999923706055, \"Home_Units\": \"250 to 1000\", \"pct_chg\": -0.006250023841857799, \"Order\": 1000}, {\"Year\": 2015, \"Rent_Share_Inc\": 31.899999618530273, \"Home_Units\": \"250 to 1000\", \"pct_chg\": 0.0031446661593996783, \"Order\": 1000}, {\"Year\": 2016, \"Rent_Share_Inc\": 31.5, \"Home_Units\": \"250 to 1000\", \"pct_chg\": -0.012539173144626603, \"Order\": 1000}, {\"Year\": 2017, \"Rent_Share_Inc\": 31.20000076293945, \"Home_Units\": \"250 to 1000\", \"pct_chg\": -0.009523785303509502, \"Order\": 1000}, {\"Year\": 2018, \"Rent_Share_Inc\": 31.399999618530273, \"Home_Units\": \"250 to 1000\", \"pct_chg\": 0.006410219573724785, \"Order\": 1000}, {\"Year\": 2008, \"Rent_Share_Inc\": 31.0, \"Home_Units\": \"100 to 250\", \"pct_chg\": 0.1071428571428572, \"Order\": 250}, {\"Year\": 2009, \"Rent_Share_Inc\": 31.899999618530273, \"Home_Units\": \"100 to 250\", \"pct_chg\": 0.029032245759041064, \"Order\": 250}, {\"Year\": 2010, \"Rent_Share_Inc\": 32.400001525878906, \"Home_Units\": \"100 to 250\", \"pct_chg\": 0.015674041170150588, \"Order\": 250}, {\"Year\": 2011, \"Rent_Share_Inc\": 33.200000762939446, \"Home_Units\": \"100 to 250\", \"pct_chg\": 0.02469133331433815, \"Order\": 250}, {\"Year\": 2012, \"Rent_Share_Inc\": 32.900001525878906, \"Home_Units\": \"100 to 250\", \"pct_chg\": -0.009036121390557983, \"Order\": 250}, {\"Year\": 2013, \"Rent_Share_Inc\": 32.59999847412109, \"Home_Units\": \"100 to 250\", \"pct_chg\": -0.009118633369115225, \"Order\": 250}, {\"Year\": 2014, \"Rent_Share_Inc\": 32.09999847412109, \"Home_Units\": \"100 to 250\", \"pct_chg\": -0.015337424030768432, \"Order\": 250}, {\"Year\": 2015, \"Rent_Share_Inc\": 31.899999618530273, \"Home_Units\": \"100 to 250\", \"pct_chg\": -0.006230494239806594, \"Order\": 250}, {\"Year\": 2016, \"Rent_Share_Inc\": 31.399999618530273, \"Home_Units\": \"100 to 250\", \"pct_chg\": -0.01567398137865672, \"Order\": 250}, {\"Year\": 2017, \"Rent_Share_Inc\": 31.015, \"Home_Units\": \"100 to 250\", \"pct_chg\": 0.02547774376204326, \"Order\": 250}, {\"Year\": 2018, \"Rent_Share_Inc\": 30.63, \"Home_Units\": \"100 to 250\", \"pct_chg\": 0.00931674627181489, \"Order\": 250}, {\"Year\": 2008, \"Rent_Share_Inc\": 31.399999618530273, \"Home_Units\": \"50 to 100\", \"pct_chg\": 0.0, \"Order\": 100}, {\"Year\": 2009, \"Rent_Share_Inc\": 31.5, \"Home_Units\": \"50 to 100\", \"pct_chg\": 0.0031847255632038163, \"Order\": 100}, {\"Year\": 2010, \"Rent_Share_Inc\": 32.200000762939446, \"Home_Units\": \"50 to 100\", \"pct_chg\": 0.02222224644252213, \"Order\": 100}, {\"Year\": 2011, \"Rent_Share_Inc\": 32.400001525878906, \"Home_Units\": \"50 to 100\", \"pct_chg\": 0.006211203670828835, \"Order\": 100}, {\"Year\": 2012, \"Rent_Share_Inc\": 32.0, \"Home_Units\": \"50 to 100\", \"pct_chg\": -0.012345725525951368, \"Order\": 100}, {\"Year\": 2013, \"Rent_Share_Inc\": 31.70000076293945, \"Home_Units\": \"50 to 100\", \"pct_chg\": -0.0093749761581422, \"Order\": 100}, {\"Year\": 2014, \"Rent_Share_Inc\": 31.20000076293945, \"Home_Units\": \"50 to 100\", \"pct_chg\": -0.01577287028284713, \"Order\": 100}, {\"Year\": 2015, \"Rent_Share_Inc\": 30.60000038146973, \"Home_Units\": \"50 to 100\", \"pct_chg\": -0.019230780987108953, \"Order\": 100}, {\"Year\": 2016, \"Rent_Share_Inc\": 30.60000038146973, \"Home_Units\": \"50 to 100\", \"pct_chg\": 0.0, \"Order\": 100}, {\"Year\": 2017, \"Rent_Share_Inc\": 30.225, \"Home_Units\": \"50 to 100\", \"pct_chg\": 0.07843135910493726, \"Order\": 100}, {\"Year\": 2018, \"Rent_Share_Inc\": 29.85, \"Home_Units\": \"50 to 100\", \"pct_chg\": -0.06060606060606055, \"Order\": 100}, {\"Year\": 2008, \"Rent_Share_Inc\": 30.60000038146973, \"Home_Units\": \"25 to 50\", \"pct_chg\": -0.058461526724008284, \"Order\": 50}, {\"Year\": 2009, \"Rent_Share_Inc\": 31.20000076293945, \"Home_Units\": \"25 to 50\", \"pct_chg\": 0.019607855359147663, \"Order\": 50}, {\"Year\": 2010, \"Rent_Share_Inc\": 31.399999618530273, \"Home_Units\": \"25 to 50\", \"pct_chg\": 0.006410219573724785, \"Order\": 50}, {\"Year\": 2011, \"Rent_Share_Inc\": 32.09999847412109, \"Home_Units\": \"25 to 50\", \"pct_chg\": 0.022292957455251727, \"Order\": 50}, {\"Year\": 2012, \"Rent_Share_Inc\": 32.0, \"Home_Units\": \"25 to 50\", \"pct_chg\": -0.0031152174104215336, \"Order\": 50}, {\"Year\": 2013, \"Rent_Share_Inc\": 31.5, \"Home_Units\": \"25 to 50\", \"pct_chg\": -0.015625, \"Order\": 50}, {\"Year\": 2014, \"Rent_Share_Inc\": 30.899999618530273, \"Home_Units\": \"25 to 50\", \"pct_chg\": -0.019047631157769085, \"Order\": 50}, {\"Year\": 2015, \"Rent_Share_Inc\": 30.79999923706055, \"Home_Units\": \"25 to 50\", \"pct_chg\": -0.003236258339943565, \"Order\": 50}, {\"Year\": 2016, \"Rent_Share_Inc\": 30.5, \"Home_Units\": \"25 to 50\", \"pct_chg\": -0.009740235210771386, \"Order\": 50}, {\"Year\": 2017, \"Rent_Share_Inc\": 30.126, \"Home_Units\": \"25 to 50\", \"pct_chg\": 0.0032787010317945064, \"Order\": 50}, {\"Year\": 2018, \"Rent_Share_Inc\": 29.752, \"Home_Units\": \"25 to 50\", \"pct_chg\": 0.03267973815469505, \"Order\": 50}, {\"Year\": 2008, \"Rent_Share_Inc\": 27.70000076293945, \"Home_Units\": \"10 to 25\", \"pct_chg\": null, \"Order\": 25}, {\"Year\": 2009, \"Rent_Share_Inc\": 28.60000038146973, \"Home_Units\": \"10 to 25\", \"pct_chg\": 0.03249096006287533, \"Order\": 25}, {\"Year\": 2010, \"Rent_Share_Inc\": 29.399999618530273, \"Home_Units\": \"10 to 25\", \"pct_chg\": 0.02797200092272978, \"Order\": 25}, {\"Year\": 2011, \"Rent_Share_Inc\": 30.0, \"Home_Units\": \"10 to 25\", \"pct_chg\": 0.020408176505266162, \"Order\": 25}, {\"Year\": 2012, \"Rent_Share_Inc\": 29.70000076293945, \"Home_Units\": \"10 to 25\", \"pct_chg\": -0.009999974568685066, \"Order\": 25}, {\"Year\": 2013, \"Rent_Share_Inc\": 30.20000076293945, \"Home_Units\": \"10 to 25\", \"pct_chg\": 0.01683501640255569, \"Order\": 25}, {\"Year\": 2014, \"Rent_Share_Inc\": 29.29999923706055, \"Home_Units\": \"10 to 25\", \"pct_chg\": -0.02980137427623364, \"Order\": 25}, {\"Year\": 2015, \"Rent_Share_Inc\": 29.29999923706055, \"Home_Units\": \"10 to 25\", \"pct_chg\": 0.0, \"Order\": 25}, {\"Year\": 2016, \"Rent_Share_Inc\": 28.70000076293945, \"Home_Units\": \"10 to 25\", \"pct_chg\": -0.020477764155098832, \"Order\": 25}, {\"Year\": 2017, \"Rent_Share_Inc\": 28.348, \"Home_Units\": \"10 to 25\", \"pct_chg\": -0.0069686675129887465, \"Order\": 25}, {\"Year\": 2018, \"Rent_Share_Inc\": 27.996, \"Home_Units\": \"10 to 25\", \"pct_chg\": -0.01754385964912286, \"Order\": 25}, {\"Year\": 2008, \"Rent_Share_Inc\": 24.899999618530273, \"Home_Units\": \"Less than 10\", \"pct_chg\": -0.19677420585386218, \"Order\": 10}, {\"Year\": 2009, \"Rent_Share_Inc\": 25.29999923706055, \"Home_Units\": \"Less than 10\", \"pct_chg\": 0.016064241954148573, \"Order\": 10}, {\"Year\": 2010, \"Rent_Share_Inc\": 26.20000076293945, \"Home_Units\": \"Less than 10\", \"pct_chg\": 0.03557318391379782, \"Order\": 10}, {\"Year\": 2011, \"Rent_Share_Inc\": 26.29999923706055, \"Home_Units\": \"Less than 10\", \"pct_chg\": 0.003816735542334415, \"Order\": 10}, {\"Year\": 2012, \"Rent_Share_Inc\": 26.899999618530273, \"Home_Units\": \"Less than 10\", \"pct_chg\": 0.02281370337928501, \"Order\": 10}, {\"Year\": 2013, \"Rent_Share_Inc\": 26.899999618530273, \"Home_Units\": \"Less than 10\", \"pct_chg\": 0.0, \"Order\": 10}, {\"Year\": 2014, \"Rent_Share_Inc\": 26.5, \"Home_Units\": \"Less than 10\", \"pct_chg\": -0.014869874505675895, \"Order\": 10}, {\"Year\": 2015, \"Rent_Share_Inc\": 26.20000076293945, \"Home_Units\": \"Less than 10\", \"pct_chg\": -0.011320725926813213, \"Order\": 10}, {\"Year\": 2016, \"Rent_Share_Inc\": 25.70000076293945, \"Home_Units\": \"Less than 10\", \"pct_chg\": -0.01908396890992703, \"Order\": 10}, {\"Year\": 2017, \"Rent_Share_Inc\": 25.385, \"Home_Units\": \"Less than 10\", \"pct_chg\": 0.43968867321419136, \"Order\": 10}, {\"Year\": 2018, \"Rent_Share_Inc\": 25.07, \"Home_Units\": \"Less than 10\", \"pct_chg\": -0.05405405405405406, \"Order\": 10}], \"data-210bcfbf6ca010247ca2ea02fc053f02\": [{\"x\": 2008, \"y\": 40, \"text\": \"40% of income\"}], \"data-13b48c35d42a118470c4da8ad44cb782\": [{\"x\": 2008, \"y\": 40, \"text\": \"_______________________________________________________________________________\"}]}}, {\"mode\": \"vega-lite\"});\n",
       "</script>"
      ],
      "text/plain": [
       "alt.LayerChart(...)"
      ]
     },
     "execution_count": 603,
     "metadata": {},
     "output_type": "execute_result"
    }
   ],
   "source": [
    "rent_pop_den_chart"
   ]
  },
  {
   "cell_type": "code",
   "execution_count": 604,
   "metadata": {},
   "outputs": [],
   "source": [
    "rent_pop_den_chart.save('rent_pop_den.png', scale_factor=3)"
   ]
  },
  {
   "cell_type": "markdown",
   "metadata": {},
   "source": [
    "---"
   ]
  },
  {
   "cell_type": "code",
   "execution_count": 464,
   "metadata": {},
   "outputs": [],
   "source": [
    "mort_share_inc_pop_den5 = pd.read_csv('mort_share_inc_by_pop_den_5yr_0816.csv')\n",
    "mort_share_inc_pop_den1 = pd.read_csv('mort_share_inc_by_pop_den_1yr_1018.csv')"
   ]
  },
  {
   "cell_type": "code",
   "execution_count": 605,
   "metadata": {},
   "outputs": [],
   "source": [
    "mort_pop_den_df = pd.concat([mort_share_inc_pop_den5, mort_share_inc_pop_den1[mort_share_inc_pop_den1.Year > 2016]]).sort_values(['Home_Units', 'Year']).reset_index(drop=True)"
   ]
  },
  {
   "cell_type": "markdown",
   "metadata": {},
   "source": [
    "*Adjusting 2017 & 2018 values for some cols (since 1-yr data included few counties of low pop densities, resulting in distorted figures)"
   ]
  },
  {
   "cell_type": "code",
   "execution_count": 606,
   "metadata": {},
   "outputs": [],
   "source": [
    "mort_pop_den_df['pct_chg'] = mort_pop_den_df['Mort_Share_Inc'].pct_change()"
   ]
  },
  {
   "cell_type": "code",
   "execution_count": 607,
   "metadata": {},
   "outputs": [],
   "source": [
    "for year in [2017, 2018]:\n",
    "    yr_df = mort_pop_den_df[mort_pop_den_df.Year == year]\n",
    "    for typ in ['100 to 250', '50 to 100', '25 to 50', '10 to 25', 'Less than 10']:\n",
    "        index = yr_df[yr_df.Home_Units == typ].index[0]\n",
    "        mort_pop_den_df.loc[index, 'Mort_Share_Inc'] = round(mort_pop_den_df['Mort_Share_Inc'][(mort_pop_den_df.Year == year-1) & (mort_pop_den_df.Home_Units == typ)].iloc[0] + mort_pop_den_df['Mort_Share_Inc'][(mort_pop_den_df.Year == year-1) & (mort_pop_den_df.Home_Units == typ)].iloc[0] * mort_pop_den_df.pct_chg[(mort_pop_den_df.Year == year) & (mort_pop_den_df.Home_Units == 'More than 1000')].iloc[0], 3)"
   ]
  },
  {
   "cell_type": "code",
   "execution_count": 608,
   "metadata": {},
   "outputs": [],
   "source": [
    "dic = {}\n",
    "for t in ['More than 1000', '250 to 1000', '100 to 250', '50 to 100', '25 to 50', '10 to 25', 'Less than 10']:\n",
    "    dic[t] = t.split()[-1]"
   ]
  },
  {
   "cell_type": "code",
   "execution_count": 609,
   "metadata": {},
   "outputs": [],
   "source": [
    "mort_pop_den_df['Order'] = mort_pop_den_df.Home_Units.map(dic).astype(int)\n",
    "mort_pop_den_df = mort_pop_den_df.sort_values(['Order', 'Home_Units'], ascending=[False, False])"
   ]
  },
  {
   "cell_type": "code",
   "execution_count": 610,
   "metadata": {},
   "outputs": [],
   "source": [
    "mort_pop_den = alt.Chart(mort_pop_den_df, title='Homeowner Income Devoted to Housing').mark_line(size=6, opacity=.85, strokeCap='round', interpolate='basis').encode(\n",
    "x=alt.X('Year:O', axis=alt.Axis(values=[2008, 2018], ticks=True, tickSize=10, titleFontSize=20, labelFontSize=18, labelOpacity=.7)),\n",
    "y=alt.Y('Mort_Share_Inc', title='Counties grouped by population density', \n",
    "        scale=alt.Scale(domain=[10,40]),\n",
    "        axis=alt.Axis(values=list(range(15,40,5)),\n",
    "                      titleX=-25, titleY=-30, titleFontSize=20, titleOpacity=.7,\n",
    "                      labelFontSize=18, labelOpacity=.7, labelPadding=25)),\n",
    "color=alt.Color('Home_Units', scale=alt.Scale(domain=list(mort_pop_den_df.Home_Units.unique()), \n",
    "                                             range=['#b2182b','#ef8a62','#fddbc7','#f8f6e9','#d1e5f0','#67a9cf','#2166ac']), title='Residents / sq. mile')\n",
    ")\n",
    "\n",
    "y_text_df = pd.DataFrame({'x':[2008], 'y':[40], 'text':['40% of income']})\n",
    "y_text = alt.Chart(y_text_df).mark_text(dx=6, dy=0, fontSize=18, font='lato', opacity=.7).encode(x=alt.X('x:O'), y='y', text='text')\n",
    "line = alt.Chart(pd.DataFrame({'x':[2008], 'y':[40], 'text':['_'*79]})).mark_text(dx=320, dy=-4, opacity=.09, fontSize=11.5, fontWeight='bold').encode(x=alt.X('x:O', axis=None), y=alt.Y('y', axis=None), text='text')\n",
    "\n",
    "\n",
    "mort_pop_den_chart = (mort_pop_den + y_text + line).configure_legend(titleFont='Lato', titleFontSize=20, titleOpacity=.85, titleLimit=250, labelFont='Lato', labelFontSize=20, labelOpacity=.85, symbolSize=300, symbolStrokeWidth=6)"
   ]
  },
  {
   "cell_type": "code",
   "execution_count": 611,
   "metadata": {},
   "outputs": [
    {
     "data": {
      "text/html": [
       "\n",
       "<div id=\"altair-viz-159\"></div>\n",
       "<script type=\"text/javascript\">\n",
       "  (function(spec, embedOpt){\n",
       "    const outputDiv = document.getElementById(\"altair-viz-159\");\n",
       "    const paths = {\n",
       "      \"vega\": \"https://cdn.jsdelivr.net/npm//vega@5?noext\",\n",
       "      \"vega-lib\": \"https://cdn.jsdelivr.net/npm//vega-lib?noext\",\n",
       "      \"vega-lite\": \"https://cdn.jsdelivr.net/npm//vega-lite@4.0.0?noext\",\n",
       "      \"vega-embed\": \"https://cdn.jsdelivr.net/npm//vega-embed@6?noext\",\n",
       "    };\n",
       "\n",
       "    function loadScript(lib) {\n",
       "      return new Promise(function(resolve, reject) {\n",
       "        var s = document.createElement('script');\n",
       "        s.src = paths[lib];\n",
       "        s.async = true;\n",
       "        s.onload = () => resolve(paths[lib]);\n",
       "        s.onerror = () => reject(`Error loading script: ${paths[lib]}`);\n",
       "        document.getElementsByTagName(\"head\")[0].appendChild(s);\n",
       "      });\n",
       "    }\n",
       "\n",
       "    function showError(err) {\n",
       "      outputDiv.innerHTML = `<div class=\"error\" style=\"color:red;\">${err}</div>`;\n",
       "      throw err;\n",
       "    }\n",
       "\n",
       "    function displayChart(vegaEmbed) {\n",
       "      vegaEmbed(outputDiv, spec, embedOpt)\n",
       "        .catch(err => showError(`Javascript Error: ${err.message}<br>This usually means there's a typo in your chart specification. See the javascript console for the full traceback.`));\n",
       "    }\n",
       "\n",
       "    if(typeof define === \"function\" && define.amd) {\n",
       "      requirejs.config({paths});\n",
       "      require([\"vega-embed\"], displayChart, err => showError(`Error loading script: ${err.message}`));\n",
       "    } else if (typeof vegaEmbed === \"function\") {\n",
       "      displayChart(vegaEmbed);\n",
       "    } else {\n",
       "      loadScript(\"vega\")\n",
       "        .then(() => loadScript(\"vega-lite\"))\n",
       "        .then(() => loadScript(\"vega-embed\"))\n",
       "        .catch(showError)\n",
       "        .then(() => displayChart(vegaEmbed));\n",
       "    }\n",
       "  })({\"width\": 600, \"height\": 400, \"background\": \"white\", \"config\": {\"title\": {\"fontSize\": 24, \"anchor\": \"start\", \"font\": \"Lato\", \"offset\": 5}, \"axisX\": {\"grid\": false, \"labelFont\": \"Lato\", \"labelFontSize\": 16, \"labelAngle\": 0, \"labelPadding\": 10, \"ticks\": false, \"tickSize\": 5, \"title\": null, \"titleFont\": \"Lato\", \"titleFontSize\": 16, \"titleFontWeight\": \"normal\", \"titleY\": 30, \"titleX\": 280}, \"axisY\": {\"grid\": true, \"gridOpacity\": 1, \"labelFont\": \"Lato\", \"labelFontSize\": 16, \"labelLimit\": 100, \"labelAlign\": \"left\", \"labelPadding\": 20, \"ticks\": false, \"title\": null, \"titleFont\": \"Lato\", \"titleFontWeight\": \"normal\", \"titleFontSize\": 16, \"titleAlign\": \"left\", \"titleAngle\": 0, \"titleY\": -20, \"titleX\": -20, \"domainWidth\": 0}, \"view\": {\"strokeOpacity\": 0}, \"legend\": {\"labelFont\": \"Lato\", \"labelFontSize\": 20, \"labelOpacity\": 0.85, \"symbolSize\": 300, \"symbolStrokeWidth\": 6, \"titleFont\": \"Lato\", \"titleFontSize\": 20, \"titleLimit\": 250, \"titleOpacity\": 0.85}}, \"layer\": [{\"data\": {\"name\": \"data-ba1618d5c76c34b2e6b213ac41c400e7\"}, \"mark\": {\"type\": \"line\", \"interpolate\": \"basis\", \"opacity\": 0.85, \"size\": 6, \"strokeCap\": \"round\"}, \"encoding\": {\"color\": {\"type\": \"nominal\", \"field\": \"Home_Units\", \"scale\": {\"domain\": [\"More than 1000\", \"250 to 1000\", \"100 to 250\", \"50 to 100\", \"25 to 50\", \"10 to 25\", \"Less than 10\"], \"range\": [\"#b2182b\", \"#ef8a62\", \"#fddbc7\", \"#f8f6e9\", \"#d1e5f0\", \"#67a9cf\", \"#2166ac\"]}, \"title\": \"Residents / sq. mile\"}, \"x\": {\"type\": \"ordinal\", \"axis\": {\"labelFontSize\": 18, \"labelOpacity\": 0.7, \"tickSize\": 10, \"ticks\": true, \"titleFontSize\": 20, \"values\": [2008, 2018]}, \"field\": \"Year\"}, \"y\": {\"type\": \"quantitative\", \"axis\": {\"labelFontSize\": 18, \"labelOpacity\": 0.7, \"labelPadding\": 25, \"titleFontSize\": 20, \"titleOpacity\": 0.7, \"titleX\": -25, \"titleY\": -30, \"values\": [15, 20, 25, 30, 35]}, \"field\": \"Mort_Share_Inc\", \"scale\": {\"domain\": [10, 40]}, \"title\": \"Counties grouped by population density\"}}, \"title\": \"Homeowner Income Devoted to Housing\"}, {\"data\": {\"name\": \"data-210bcfbf6ca010247ca2ea02fc053f02\"}, \"mark\": {\"type\": \"text\", \"dx\": 6, \"dy\": 0, \"font\": \"lato\", \"fontSize\": 18, \"opacity\": 0.7}, \"encoding\": {\"text\": {\"type\": \"nominal\", \"field\": \"text\"}, \"x\": {\"type\": \"ordinal\", \"field\": \"x\"}, \"y\": {\"type\": \"quantitative\", \"field\": \"y\"}}}, {\"data\": {\"name\": \"data-13b48c35d42a118470c4da8ad44cb782\"}, \"mark\": {\"type\": \"text\", \"dx\": 320, \"dy\": -4, \"fontSize\": 11.5, \"fontWeight\": \"bold\", \"opacity\": 0.09}, \"encoding\": {\"text\": {\"type\": \"nominal\", \"field\": \"text\"}, \"x\": {\"type\": \"ordinal\", \"axis\": null, \"field\": \"x\"}, \"y\": {\"type\": \"quantitative\", \"axis\": null, \"field\": \"y\"}}}], \"$schema\": \"https://vega.github.io/schema/vega-lite/v4.0.0.json\", \"datasets\": {\"data-ba1618d5c76c34b2e6b213ac41c400e7\": [{\"Year\": 2008, \"Mort_Share_Inc\": 23.60000038146973, \"Home_Units\": \"More than 1000\", \"pct_chg\": 0.8582677744808018, \"Order\": 1000}, {\"Year\": 2009, \"Mort_Share_Inc\": 23.29999923706055, \"Home_Units\": \"More than 1000\", \"pct_chg\": -0.01271191269321903, \"Order\": 1000}, {\"Year\": 2010, \"Mort_Share_Inc\": 23.0, \"Home_Units\": \"More than 1000\", \"pct_chg\": -0.012875504158102125, \"Order\": 1000}, {\"Year\": 2011, \"Mort_Share_Inc\": 22.299999237060547, \"Home_Units\": \"More than 1000\", \"pct_chg\": -0.0304348157799762, \"Order\": 1000}, {\"Year\": 2012, \"Mort_Share_Inc\": 21.600000381469727, \"Home_Units\": \"More than 1000\", \"pct_chg\": -0.031390084284284914, \"Order\": 1000}, {\"Year\": 2013, \"Mort_Share_Inc\": 20.899999618530273, \"Home_Units\": \"More than 1000\", \"pct_chg\": -0.03240744215634239, \"Order\": 1000}, {\"Year\": 2014, \"Mort_Share_Inc\": 20.200000762939453, \"Home_Units\": \"More than 1000\", \"pct_chg\": -0.03349276882140184, \"Order\": 1000}, {\"Year\": 2015, \"Mort_Share_Inc\": 19.799999237060547, \"Home_Units\": \"More than 1000\", \"pct_chg\": -0.01980205498867016, \"Order\": 1000}, {\"Year\": 2016, \"Mort_Share_Inc\": 19.399999618530273, \"Home_Units\": \"More than 1000\", \"pct_chg\": -0.020202001714301865, \"Order\": 1000}, {\"Year\": 2017, \"Mort_Share_Inc\": 18.899999618530273, \"Home_Units\": \"More than 1000\", \"pct_chg\": -0.02577319638307707, \"Order\": 1000}, {\"Year\": 2018, \"Mort_Share_Inc\": 18.5, \"Home_Units\": \"More than 1000\", \"pct_chg\": -0.021164001407603106, \"Order\": 1000}, {\"Year\": 2008, \"Mort_Share_Inc\": 21.299999237060547, \"Home_Units\": \"250 to 1000\", \"pct_chg\": 0.2754489978425261, \"Order\": 1000}, {\"Year\": 2009, \"Mort_Share_Inc\": 21.100000381469727, \"Home_Units\": \"250 to 1000\", \"pct_chg\": -0.009389617969696284, \"Order\": 1000}, {\"Year\": 2010, \"Mort_Share_Inc\": 20.899999618530273, \"Home_Units\": \"250 to 1000\", \"pct_chg\": -0.009478708972683103, \"Order\": 1000}, {\"Year\": 2011, \"Mort_Share_Inc\": 20.600000381469727, \"Home_Units\": \"250 to 1000\", \"pct_chg\": -0.014354030743357615, \"Order\": 1000}, {\"Year\": 2012, \"Mort_Share_Inc\": 19.799999237060547, \"Home_Units\": \"250 to 1000\", \"pct_chg\": -0.03883500629100978, \"Order\": 1000}, {\"Year\": 2013, \"Mort_Share_Inc\": 19.200000762939453, \"Home_Units\": \"250 to 1000\", \"pct_chg\": -0.03030295440608144, \"Order\": 1000}, {\"Year\": 2014, \"Mort_Share_Inc\": 18.5, \"Home_Units\": \"250 to 1000\", \"pct_chg\": -0.03645837162103771, \"Order\": 1000}, {\"Year\": 2015, \"Mort_Share_Inc\": 17.899999618530273, \"Home_Units\": \"250 to 1000\", \"pct_chg\": -0.0324324530524176, \"Order\": 1000}, {\"Year\": 2016, \"Mort_Share_Inc\": 17.600000381469727, \"Home_Units\": \"250 to 1000\", \"pct_chg\": -0.016759734271166393, \"Order\": 1000}, {\"Year\": 2017, \"Mort_Share_Inc\": 17.399999618530273, \"Home_Units\": \"250 to 1000\", \"pct_chg\": -0.011363679466167786, \"Order\": 1000}, {\"Year\": 2018, \"Mort_Share_Inc\": 17.399999618530273, \"Home_Units\": \"250 to 1000\", \"pct_chg\": 0.0, \"Order\": 1000}, {\"Year\": 2008, \"Mort_Share_Inc\": 19.200000762939453, \"Home_Units\": \"100 to 250\", \"pct_chg\": 0.2715231972113805, \"Order\": 250}, {\"Year\": 2009, \"Mort_Share_Inc\": 19.100000381469727, \"Home_Units\": \"100 to 250\", \"pct_chg\": -0.0052083529945868845, \"Order\": 250}, {\"Year\": 2010, \"Mort_Share_Inc\": 19.0, \"Home_Units\": \"100 to 250\", \"pct_chg\": -0.005235621961910741, \"Order\": 250}, {\"Year\": 2011, \"Mort_Share_Inc\": 18.5, \"Home_Units\": \"100 to 250\", \"pct_chg\": -0.02631578947368418, \"Order\": 250}, {\"Year\": 2012, \"Mort_Share_Inc\": 18.0, \"Home_Units\": \"100 to 250\", \"pct_chg\": -0.027027027027026973, \"Order\": 250}, {\"Year\": 2013, \"Mort_Share_Inc\": 17.600000381469727, \"Home_Units\": \"100 to 250\", \"pct_chg\": -0.0222222010294596, \"Order\": 250}, {\"Year\": 2014, \"Mort_Share_Inc\": 16.899999618530273, \"Home_Units\": \"100 to 250\", \"pct_chg\": -0.039772769759508275, \"Order\": 250}, {\"Year\": 2015, \"Mort_Share_Inc\": 16.399999618530273, \"Home_Units\": \"100 to 250\", \"pct_chg\": -0.02958579948438389, \"Order\": 250}, {\"Year\": 2016, \"Mort_Share_Inc\": 16.100000381469727, \"Home_Units\": \"100 to 250\", \"pct_chg\": -0.018292636831624076, \"Order\": 250}, {\"Year\": 2017, \"Mort_Share_Inc\": 15.685, \"Home_Units\": \"100 to 250\", \"pct_chg\": -0.012422407341657227, \"Order\": 250}, {\"Year\": 2018, \"Mort_Share_Inc\": 15.353, \"Home_Units\": \"100 to 250\", \"pct_chg\": 0.0, \"Order\": 250}, {\"Year\": 2008, \"Mort_Share_Inc\": 17.899999618530273, \"Home_Units\": \"50 to 100\", \"pct_chg\": 0.028735632813895018, \"Order\": 100}, {\"Year\": 2009, \"Mort_Share_Inc\": 17.600000381469727, \"Home_Units\": \"50 to 100\", \"pct_chg\": -0.016759734271166393, \"Order\": 100}, {\"Year\": 2010, \"Mort_Share_Inc\": 17.600000381469727, \"Home_Units\": \"50 to 100\", \"pct_chg\": 0.0, \"Order\": 100}, {\"Year\": 2011, \"Mort_Share_Inc\": 17.299999237060547, \"Home_Units\": \"50 to 100\", \"pct_chg\": -0.01704551919925168, \"Order\": 100}, {\"Year\": 2012, \"Mort_Share_Inc\": 17.0, \"Home_Units\": \"50 to 100\", \"pct_chg\": -0.017340997126628732, \"Order\": 100}, {\"Year\": 2013, \"Mort_Share_Inc\": 16.600000381469727, \"Home_Units\": \"50 to 100\", \"pct_chg\": -0.023529389325310235, \"Order\": 100}, {\"Year\": 2014, \"Mort_Share_Inc\": 16.100000381469727, \"Home_Units\": \"50 to 100\", \"pct_chg\": -0.03012048123553901, \"Order\": 100}, {\"Year\": 2015, \"Mort_Share_Inc\": 15.800000190734865, \"Home_Units\": \"50 to 100\", \"pct_chg\": -0.018633551778057478, \"Order\": 100}, {\"Year\": 2016, \"Mort_Share_Inc\": 15.5, \"Home_Units\": \"50 to 100\", \"pct_chg\": -0.018987353614766778, \"Order\": 100}, {\"Year\": 2017, \"Mort_Share_Inc\": 15.101, \"Home_Units\": \"50 to 100\", \"pct_chg\": 0.16774196009482112, \"Order\": 100}, {\"Year\": 2018, \"Mort_Share_Inc\": 14.781, \"Home_Units\": \"50 to 100\", \"pct_chg\": -0.04419895732312795, \"Order\": 100}, {\"Year\": 2008, \"Mort_Share_Inc\": 16.700000762939453, \"Home_Units\": \"25 to 50\", \"pct_chg\": 0.050314538591361924, \"Order\": 50}, {\"Year\": 2009, \"Mort_Share_Inc\": 16.700000762939453, \"Home_Units\": \"25 to 50\", \"pct_chg\": 0.0, \"Order\": 50}, {\"Year\": 2010, \"Mort_Share_Inc\": 16.5, \"Home_Units\": \"25 to 50\", \"pct_chg\": -0.011976093042061042, \"Order\": 50}, {\"Year\": 2011, \"Mort_Share_Inc\": 16.200000762939453, \"Home_Units\": \"25 to 50\", \"pct_chg\": -0.018181771943063474, \"Order\": 50}, {\"Year\": 2012, \"Mort_Share_Inc\": 16.100000381469727, \"Home_Units\": \"25 to 50\", \"pct_chg\": -0.006172862762975684, \"Order\": 50}, {\"Year\": 2013, \"Mort_Share_Inc\": 15.800000190734865, \"Home_Units\": \"25 to 50\", \"pct_chg\": -0.018633551778057478, \"Order\": 50}, {\"Year\": 2014, \"Mort_Share_Inc\": 15.300000190734865, \"Home_Units\": \"25 to 50\", \"pct_chg\": -0.03164556923823336, \"Order\": 50}, {\"Year\": 2015, \"Mort_Share_Inc\": 15.0, \"Home_Units\": \"25 to 50\", \"pct_chg\": -0.019607855359147885, \"Order\": 50}, {\"Year\": 2016, \"Mort_Share_Inc\": 14.800000190734865, \"Home_Units\": \"25 to 50\", \"pct_chg\": -0.01333332061767567, \"Order\": 50}, {\"Year\": 2017, \"Mort_Share_Inc\": 14.419, \"Home_Units\": \"25 to 50\", \"pct_chg\": 0.10810806805239404, \"Order\": 50}, {\"Year\": 2018, \"Mort_Share_Inc\": 14.114, \"Home_Units\": \"25 to 50\", \"pct_chg\": 0.01829275313337253, \"Order\": 50}, {\"Year\": 2008, \"Mort_Share_Inc\": 15.800000190734865, \"Home_Units\": \"10 to 25\", \"pct_chg\": null, \"Order\": 25}, {\"Year\": 2009, \"Mort_Share_Inc\": 16.0, \"Home_Units\": \"10 to 25\", \"pct_chg\": 0.012658215623466473, \"Order\": 25}, {\"Year\": 2010, \"Mort_Share_Inc\": 15.800000190734865, \"Home_Units\": \"10 to 25\", \"pct_chg\": -0.012499988079070934, \"Order\": 25}, {\"Year\": 2011, \"Mort_Share_Inc\": 15.800000190734865, \"Home_Units\": \"10 to 25\", \"pct_chg\": 0.0, \"Order\": 25}, {\"Year\": 2012, \"Mort_Share_Inc\": 15.399999618530273, \"Home_Units\": \"10 to 25\", \"pct_chg\": -0.02531649160606675, \"Order\": 25}, {\"Year\": 2013, \"Mort_Share_Inc\": 15.100000381469727, \"Home_Units\": \"10 to 25\", \"pct_chg\": -0.01948047042154266, \"Order\": 25}, {\"Year\": 2014, \"Mort_Share_Inc\": 14.899999618530273, \"Home_Units\": \"10 to 25\", \"pct_chg\": -0.01324508330376517, \"Order\": 25}, {\"Year\": 2015, \"Mort_Share_Inc\": 14.5, \"Home_Units\": \"10 to 25\", \"pct_chg\": -0.026845612669198826, \"Order\": 25}, {\"Year\": 2016, \"Mort_Share_Inc\": 14.300000190734865, \"Home_Units\": \"10 to 25\", \"pct_chg\": -0.013793090294147214, \"Order\": 25}, {\"Year\": 2017, \"Mort_Share_Inc\": 13.931, \"Home_Units\": \"10 to 25\", \"pct_chg\": -0.013986000461365111, \"Order\": 25}, {\"Year\": 2018, \"Mort_Share_Inc\": 13.636, \"Home_Units\": \"10 to 25\", \"pct_chg\": 0.07092198389683757, \"Order\": 25}, {\"Year\": 2008, \"Mort_Share_Inc\": 15.100000381469727, \"Home_Units\": \"Less than 10\", \"pct_chg\": -0.1271675695151432, \"Order\": 10}, {\"Year\": 2009, \"Mort_Share_Inc\": 15.0, \"Home_Units\": \"Less than 10\", \"pct_chg\": -0.006622541651882585, \"Order\": 10}, {\"Year\": 2010, \"Mort_Share_Inc\": 15.0, \"Home_Units\": \"Less than 10\", \"pct_chg\": 0.0, \"Order\": 10}, {\"Year\": 2011, \"Mort_Share_Inc\": 15.0, \"Home_Units\": \"Less than 10\", \"pct_chg\": 0.0, \"Order\": 10}, {\"Year\": 2012, \"Mort_Share_Inc\": 14.800000190734865, \"Home_Units\": \"Less than 10\", \"pct_chg\": -0.01333332061767567, \"Order\": 10}, {\"Year\": 2013, \"Mort_Share_Inc\": 14.5, \"Home_Units\": \"Less than 10\", \"pct_chg\": -0.020270282896528102, \"Order\": 10}, {\"Year\": 2014, \"Mort_Share_Inc\": 14.0, \"Home_Units\": \"Less than 10\", \"pct_chg\": -0.03448275862068961, \"Order\": 10}, {\"Year\": 2015, \"Mort_Share_Inc\": 13.899999618530273, \"Home_Units\": \"Less than 10\", \"pct_chg\": -0.00714288439069477, \"Order\": 10}, {\"Year\": 2016, \"Mort_Share_Inc\": 13.899999618530273, \"Home_Units\": \"Less than 10\", \"pct_chg\": 0.0, \"Order\": 10}, {\"Year\": 2017, \"Mort_Share_Inc\": 13.542, \"Home_Units\": \"Less than 10\", \"pct_chg\": 0.014388544491240829, \"Order\": 10}, {\"Year\": 2018, \"Mort_Share_Inc\": 13.255, \"Home_Units\": \"Less than 10\", \"pct_chg\": -0.09929081803745743, \"Order\": 10}], \"data-210bcfbf6ca010247ca2ea02fc053f02\": [{\"x\": 2008, \"y\": 40, \"text\": \"40% of income\"}], \"data-13b48c35d42a118470c4da8ad44cb782\": [{\"x\": 2008, \"y\": 40, \"text\": \"_______________________________________________________________________________\"}]}}, {\"mode\": \"vega-lite\"});\n",
       "</script>"
      ],
      "text/plain": [
       "alt.LayerChart(...)"
      ]
     },
     "execution_count": 611,
     "metadata": {},
     "output_type": "execute_result"
    }
   ],
   "source": [
    "mort_pop_den_chart"
   ]
  },
  {
   "cell_type": "code",
   "execution_count": 612,
   "metadata": {},
   "outputs": [],
   "source": [
    "mort_pop_den_chart.save('mort_pop_den.png', scale_factor=3)"
   ]
  },
  {
   "cell_type": "markdown",
   "metadata": {},
   "source": [
    "---"
   ]
  },
  {
   "cell_type": "code",
   "execution_count": 561,
   "metadata": {},
   "outputs": [],
   "source": [
    "mort_share_inc_hous_den5 = pd.read_csv('mort_share_inc_by_hous_den_5yr_0816.csv')\n",
    "mort_share_inc_hous_den1 = pd.read_csv('mort_share_inc_by_hous_den_1yr_1018.csv')"
   ]
  },
  {
   "cell_type": "code",
   "execution_count": 562,
   "metadata": {},
   "outputs": [],
   "source": [
    "mort_hous_den_df = pd.concat([mort_share_inc_hous_den5, mort_share_inc_hous_den1[mort_share_inc_hous_den1.Year > 2016]]).sort_values(['Home_Units', 'Year']).reset_index(drop=True)"
   ]
  },
  {
   "cell_type": "markdown",
   "metadata": {},
   "source": [
    "*Adjusting 2017 & 2018 values for most cols (since 1-yr data included few counties of low pop densities, resulting in distorted figures)"
   ]
  },
  {
   "cell_type": "code",
   "execution_count": 563,
   "metadata": {},
   "outputs": [],
   "source": [
    "mort_hous_den_df['pct_chg'] = mort_hous_den_df['Mort_Share_Inc'].pct_change()"
   ]
  },
  {
   "cell_type": "code",
   "execution_count": 569,
   "metadata": {},
   "outputs": [],
   "source": [
    "for year in [2017, 2018]:\n",
    "    yr_df = mort_hous_den_df[mort_hous_den_df.Year == year]\n",
    "    for typ in ['30 to 75', '20 to 30', '10 to 20', '5 to 10', 'Less than 5']:\n",
    "        index = yr_df[yr_df.Home_Units == typ].index[0]\n",
    "        mort_hous_den_df.loc[index, 'Mort_Share_Inc'] = round(mort_hous_den_df['Mort_Share_Inc'][(mort_hous_den_df.Year == year-1) & (mort_hous_den_df.Home_Units == typ)].iloc[0] + mort_hous_den_df['Mort_Share_Inc'][(mort_hous_den_df.Year == year-1) & (mort_hous_den_df.Home_Units == typ)].iloc[0] * mort_hous_den_df.pct_chg[(mort_hous_den_df.Year == year) & (mort_hous_den_df.Home_Units == 'More than 75')].iloc[0], 3)"
   ]
  },
  {
   "cell_type": "code",
   "execution_count": 571,
   "metadata": {},
   "outputs": [],
   "source": [
    "dic = {}\n",
    "for t in ['More than 75', '30 to 75', '20 to 30', '10 to 20', '5 to 10', 'Less than 5']:\n",
    "    dic[t] = t.split()[-1]"
   ]
  },
  {
   "cell_type": "code",
   "execution_count": 572,
   "metadata": {},
   "outputs": [],
   "source": [
    "mort_hous_den_df['Order'] = mort_hous_den_df.Home_Units.map(dic).astype(int)\n",
    "mort_hous_den_df = mort_hous_den_df.sort_values(['Order', 'Home_Units'], ascending=[False, False])"
   ]
  },
  {
   "cell_type": "code",
   "execution_count": 593,
   "metadata": {},
   "outputs": [],
   "source": [
    "mort_hous_den = alt.Chart(mort_hous_den_df, title='Homeowner Income Devoted to Housing').mark_line(size=6, opacity=.85, strokeCap='round', interpolate='basis').encode(\n",
    "x=alt.X('Year:O', axis=alt.Axis(values=[2008, 2018], ticks=True, tickSize=10, titleFontSize=20, labelFontSize=18, labelOpacity=.7)),\n",
    "y=alt.Y('Mort_Share_Inc', title='Counties grouped by housing density', \n",
    "        scale=alt.Scale(domain=[10,40]),\n",
    "        axis=alt.Axis(values=list(range(15,40,5)),\n",
    "                      titleX=-25, titleY=-30, titleFontSize=20, titleOpacity=.7,\n",
    "                      labelFontSize=18, labelOpacity=.7, labelPadding=25)),\n",
    "color=alt.Color('Home_Units', scale=alt.Scale(domain=list(mort_hous_den_df.Home_Units.unique()), \n",
    "                                             range=['#b2182b','#ef8a62','#fddbc7','#d1e5f0','#67a9cf','#2166ac']), title='Housing Units / sq. mile')\n",
    ")\n",
    "\n",
    "y_text_df = pd.DataFrame({'x':[2008], 'y':[40], 'text':['40% of income']})\n",
    "y_text = alt.Chart(y_text_df).mark_text(dx=6, dy=0, fontSize=18, font='lato', opacity=.7).encode(x=alt.X('x:O'), y='y', text='text')\n",
    "line = alt.Chart(pd.DataFrame({'x':[2008], 'y':[40], 'text':['_'*79]})).mark_text(dx=320, dy=-4, opacity=.09, fontSize=11.5, fontWeight='bold').encode(x=alt.X('x:O', axis=None), y=alt.Y('y', axis=None), text='text')\n",
    "\n",
    "\n",
    "mort_hous_den_chart = (mort_hous_den + y_text + line).configure_legend(titleFont='Lato', titleFontSize=20, titleOpacity=.85, titleLimit=250, labelFont='Lato', labelFontSize=20, labelOpacity=.85, symbolSize=300, symbolStrokeWidth=6)"
   ]
  },
  {
   "cell_type": "code",
   "execution_count": 594,
   "metadata": {},
   "outputs": [
    {
     "data": {
      "text/html": [
       "\n",
       "<div id=\"altair-viz-157\"></div>\n",
       "<script type=\"text/javascript\">\n",
       "  (function(spec, embedOpt){\n",
       "    const outputDiv = document.getElementById(\"altair-viz-157\");\n",
       "    const paths = {\n",
       "      \"vega\": \"https://cdn.jsdelivr.net/npm//vega@5?noext\",\n",
       "      \"vega-lib\": \"https://cdn.jsdelivr.net/npm//vega-lib?noext\",\n",
       "      \"vega-lite\": \"https://cdn.jsdelivr.net/npm//vega-lite@4.0.0?noext\",\n",
       "      \"vega-embed\": \"https://cdn.jsdelivr.net/npm//vega-embed@6?noext\",\n",
       "    };\n",
       "\n",
       "    function loadScript(lib) {\n",
       "      return new Promise(function(resolve, reject) {\n",
       "        var s = document.createElement('script');\n",
       "        s.src = paths[lib];\n",
       "        s.async = true;\n",
       "        s.onload = () => resolve(paths[lib]);\n",
       "        s.onerror = () => reject(`Error loading script: ${paths[lib]}`);\n",
       "        document.getElementsByTagName(\"head\")[0].appendChild(s);\n",
       "      });\n",
       "    }\n",
       "\n",
       "    function showError(err) {\n",
       "      outputDiv.innerHTML = `<div class=\"error\" style=\"color:red;\">${err}</div>`;\n",
       "      throw err;\n",
       "    }\n",
       "\n",
       "    function displayChart(vegaEmbed) {\n",
       "      vegaEmbed(outputDiv, spec, embedOpt)\n",
       "        .catch(err => showError(`Javascript Error: ${err.message}<br>This usually means there's a typo in your chart specification. See the javascript console for the full traceback.`));\n",
       "    }\n",
       "\n",
       "    if(typeof define === \"function\" && define.amd) {\n",
       "      requirejs.config({paths});\n",
       "      require([\"vega-embed\"], displayChart, err => showError(`Error loading script: ${err.message}`));\n",
       "    } else if (typeof vegaEmbed === \"function\") {\n",
       "      displayChart(vegaEmbed);\n",
       "    } else {\n",
       "      loadScript(\"vega\")\n",
       "        .then(() => loadScript(\"vega-lite\"))\n",
       "        .then(() => loadScript(\"vega-embed\"))\n",
       "        .catch(showError)\n",
       "        .then(() => displayChart(vegaEmbed));\n",
       "    }\n",
       "  })({\"width\": 600, \"height\": 400, \"background\": \"white\", \"config\": {\"title\": {\"fontSize\": 24, \"anchor\": \"start\", \"font\": \"Lato\", \"offset\": 5}, \"axisX\": {\"grid\": false, \"labelFont\": \"Lato\", \"labelFontSize\": 16, \"labelAngle\": 0, \"labelPadding\": 10, \"ticks\": false, \"tickSize\": 5, \"title\": null, \"titleFont\": \"Lato\", \"titleFontSize\": 16, \"titleFontWeight\": \"normal\", \"titleY\": 30, \"titleX\": 280}, \"axisY\": {\"grid\": true, \"gridOpacity\": 1, \"labelFont\": \"Lato\", \"labelFontSize\": 16, \"labelLimit\": 100, \"labelAlign\": \"left\", \"labelPadding\": 20, \"ticks\": false, \"title\": null, \"titleFont\": \"Lato\", \"titleFontWeight\": \"normal\", \"titleFontSize\": 16, \"titleAlign\": \"left\", \"titleAngle\": 0, \"titleY\": -20, \"titleX\": -20, \"domainWidth\": 0}, \"view\": {\"strokeOpacity\": 0}, \"legend\": {\"labelFont\": \"Lato\", \"labelFontSize\": 20, \"labelOpacity\": 0.85, \"symbolSize\": 300, \"symbolStrokeWidth\": 6, \"titleFont\": \"Lato\", \"titleFontSize\": 20, \"titleLimit\": 250, \"titleOpacity\": 0.85}}, \"layer\": [{\"data\": {\"name\": \"data-7ab199bf635572cddbbb523a05de9aeb\"}, \"mark\": {\"type\": \"line\", \"interpolate\": \"basis\", \"opacity\": 0.85, \"size\": 6, \"strokeCap\": \"round\"}, \"encoding\": {\"color\": {\"type\": \"nominal\", \"field\": \"Home_Units\", \"scale\": {\"domain\": [\"More than 75\", \"30 to 75\", \"20 to 30\", \"10 to 20\", \"5 to 10\", \"Less than 5\"], \"range\": [\"#b2182b\", \"#ef8a62\", \"#fddbc7\", \"#d1e5f0\", \"#67a9cf\", \"#2166ac\"]}, \"title\": \"Housing Units / sq. mile\"}, \"x\": {\"type\": \"ordinal\", \"axis\": {\"labelFontSize\": 18, \"labelOpacity\": 0.7, \"tickSize\": 10, \"ticks\": true, \"titleFontSize\": 20, \"values\": [2008, 2018]}, \"field\": \"Year\"}, \"y\": {\"type\": \"quantitative\", \"axis\": {\"labelFontSize\": 18, \"labelOpacity\": 0.7, \"labelPadding\": 25, \"titleFontSize\": 20, \"titleOpacity\": 0.7, \"titleX\": -25, \"titleY\": -30, \"values\": [15, 20, 25, 30, 35]}, \"field\": \"Mort_Share_Inc\", \"scale\": {\"domain\": [10, 40]}, \"title\": \"Counties grouped by housing density\"}}, \"title\": \"Homeowner Income Devoted to Housing\"}, {\"data\": {\"name\": \"data-210bcfbf6ca010247ca2ea02fc053f02\"}, \"mark\": {\"type\": \"text\", \"dx\": 6, \"dy\": 0, \"font\": \"lato\", \"fontSize\": 18, \"opacity\": 0.7}, \"encoding\": {\"text\": {\"type\": \"nominal\", \"field\": \"text\"}, \"x\": {\"type\": \"ordinal\", \"field\": \"x\"}, \"y\": {\"type\": \"quantitative\", \"field\": \"y\"}}}, {\"data\": {\"name\": \"data-13b48c35d42a118470c4da8ad44cb782\"}, \"mark\": {\"type\": \"text\", \"dx\": 320, \"dy\": -4, \"fontSize\": 11.5, \"fontWeight\": \"bold\", \"opacity\": 0.09}, \"encoding\": {\"text\": {\"type\": \"nominal\", \"field\": \"text\"}, \"x\": {\"type\": \"ordinal\", \"axis\": null, \"field\": \"x\"}, \"y\": {\"type\": \"quantitative\", \"axis\": null, \"field\": \"y\"}}}], \"$schema\": \"https://vega.github.io/schema/vega-lite/v4.0.0.json\", \"datasets\": {\"data-7ab199bf635572cddbbb523a05de9aeb\": [{\"Year\": 2008, \"Mort_Share_Inc\": 22.399999618530273, \"Home_Units\": \"More than 75\", \"pct_chg\": 0.7637795240113798, \"Order\": 75}, {\"Year\": 2009, \"Mort_Share_Inc\": 22.200000762939453, \"Home_Units\": \"More than 75\", \"pct_chg\": -0.008928520490927738, \"Order\": 75}, {\"Year\": 2010, \"Mort_Share_Inc\": 21.799999237060547, \"Home_Units\": \"More than 75\", \"pct_chg\": -0.018018086132081, \"Order\": 75}, {\"Year\": 2011, \"Mort_Share_Inc\": 21.200000762939453, \"Home_Units\": \"More than 75\", \"pct_chg\": -0.027522866748595165, \"Order\": 75}, {\"Year\": 2012, \"Mort_Share_Inc\": 20.600000381469727, \"Home_Units\": \"More than 75\", \"pct_chg\": -0.028301903767787184, \"Order\": 75}, {\"Year\": 2013, \"Mort_Share_Inc\": 19.700000762939453, \"Home_Units\": \"More than 75\", \"pct_chg\": -0.04368930106136537, \"Order\": 75}, {\"Year\": 2014, \"Mort_Share_Inc\": 19.100000381469727, \"Home_Units\": \"More than 75\", \"pct_chg\": -0.03045687097629335, \"Order\": 75}, {\"Year\": 2015, \"Mort_Share_Inc\": 18.600000381469727, \"Home_Units\": \"More than 75\", \"pct_chg\": -0.026178009948370717, \"Order\": 75}, {\"Year\": 2016, \"Mort_Share_Inc\": 18.299999237060547, \"Home_Units\": \"More than 75\", \"pct_chg\": -0.016129093454646193, \"Order\": 75}, {\"Year\": 2017, \"Mort_Share_Inc\": 18.0, \"Home_Units\": \"More than 75\", \"pct_chg\": -0.016393401615722336, \"Order\": 75}, {\"Year\": 2018, \"Mort_Share_Inc\": 17.899999618530273, \"Home_Units\": \"More than 75\", \"pct_chg\": -0.005555576748318192, \"Order\": 75}, {\"Year\": 2008, \"Mort_Share_Inc\": 18.600000381469727, \"Home_Units\": \"30 to 75\", \"pct_chg\": 0.06896556260044417, \"Order\": 75}, {\"Year\": 2009, \"Mort_Share_Inc\": 18.600000381469727, \"Home_Units\": \"30 to 75\", \"pct_chg\": 0.0, \"Order\": 75}, {\"Year\": 2010, \"Mort_Share_Inc\": 18.5, \"Home_Units\": \"30 to 75\", \"pct_chg\": -0.005376364484882101, \"Order\": 75}, {\"Year\": 2011, \"Mort_Share_Inc\": 18.200000762939453, \"Home_Units\": \"30 to 75\", \"pct_chg\": -0.016216174976245723, \"Order\": 75}, {\"Year\": 2012, \"Mort_Share_Inc\": 17.899999618530273, \"Home_Units\": \"30 to 75\", \"pct_chg\": -0.01648357867215422, \"Order\": 75}, {\"Year\": 2013, \"Mort_Share_Inc\": 17.5, \"Home_Units\": \"30 to 75\", \"pct_chg\": -0.02234634788015244, \"Order\": 75}, {\"Year\": 2014, \"Mort_Share_Inc\": 16.799999237060547, \"Home_Units\": \"30 to 75\", \"pct_chg\": -0.04000004359654019, \"Order\": 75}, {\"Year\": 2015, \"Mort_Share_Inc\": 16.299999237060547, \"Home_Units\": \"30 to 75\", \"pct_chg\": -0.02976190611348406, \"Order\": 75}, {\"Year\": 2016, \"Mort_Share_Inc\": 16.0, \"Home_Units\": \"30 to 75\", \"pct_chg\": -0.01840486203081859, \"Order\": 75}, {\"Year\": 2017, \"Mort_Share_Inc\": 15.738, \"Home_Units\": \"30 to 75\", \"pct_chg\": 0.05624997615814209, \"Order\": 75}, {\"Year\": 2018, \"Mort_Share_Inc\": 15.651, \"Home_Units\": \"30 to 75\", \"pct_chg\": -0.023668617015333404, \"Order\": 75}, {\"Year\": 2008, \"Mort_Share_Inc\": 17.399999618530273, \"Home_Units\": \"20 to 30\", \"pct_chg\": 0.023529389325310124, \"Order\": 30}, {\"Year\": 2009, \"Mort_Share_Inc\": 17.399999618530273, \"Home_Units\": \"20 to 30\", \"pct_chg\": 0.0, \"Order\": 30}, {\"Year\": 2010, \"Mort_Share_Inc\": 17.399999618530273, \"Home_Units\": \"20 to 30\", \"pct_chg\": 0.0, \"Order\": 30}, {\"Year\": 2011, \"Mort_Share_Inc\": 17.299999237060547, \"Home_Units\": \"20 to 30\", \"pct_chg\": -0.005747148486326958, \"Order\": 30}, {\"Year\": 2012, \"Mort_Share_Inc\": 17.0, \"Home_Units\": \"20 to 30\", \"pct_chg\": -0.017340997126628732, \"Order\": 30}, {\"Year\": 2013, \"Mort_Share_Inc\": 16.799999237060547, \"Home_Units\": \"20 to 30\", \"pct_chg\": -0.01176475076114425, \"Order\": 30}, {\"Year\": 2014, \"Mort_Share_Inc\": 16.100000381469727, \"Home_Units\": \"20 to 30\", \"pct_chg\": -0.04166660043928061, \"Order\": 30}, {\"Year\": 2015, \"Mort_Share_Inc\": 15.800000190734865, \"Home_Units\": \"20 to 30\", \"pct_chg\": -0.018633551778057478, \"Order\": 30}, {\"Year\": 2016, \"Mort_Share_Inc\": 15.5, \"Home_Units\": \"20 to 30\", \"pct_chg\": -0.018987353614766778, \"Order\": 30}, {\"Year\": 2017, \"Mort_Share_Inc\": 15.246, \"Home_Units\": \"20 to 30\", \"pct_chg\": 0.18709674958259837, \"Order\": 30}, {\"Year\": 2018, \"Mort_Share_Inc\": 15.161, \"Home_Units\": \"20 to 30\", \"pct_chg\": -0.05434782721369846, \"Order\": 30}, {\"Year\": 2008, \"Mort_Share_Inc\": 16.700000762939453, \"Home_Units\": \"10 to 20\", \"pct_chg\": null, \"Order\": 20}, {\"Year\": 2009, \"Mort_Share_Inc\": 16.700000762939453, \"Home_Units\": \"10 to 20\", \"pct_chg\": 0.0, \"Order\": 20}, {\"Year\": 2010, \"Mort_Share_Inc\": 16.5, \"Home_Units\": \"10 to 20\", \"pct_chg\": -0.011976093042061042, \"Order\": 20}, {\"Year\": 2011, \"Mort_Share_Inc\": 16.299999237060547, \"Home_Units\": \"10 to 20\", \"pct_chg\": -0.012121258359966802, \"Order\": 20}, {\"Year\": 2012, \"Mort_Share_Inc\": 16.100000381469727, \"Home_Units\": \"10 to 20\", \"pct_chg\": -0.012269869015459345, \"Order\": 20}, {\"Year\": 2013, \"Mort_Share_Inc\": 15.800000190734865, \"Home_Units\": \"10 to 20\", \"pct_chg\": -0.018633551778057478, \"Order\": 20}, {\"Year\": 2014, \"Mort_Share_Inc\": 15.199999809265135, \"Home_Units\": \"10 to 20\", \"pct_chg\": -0.037974707229533555, \"Order\": 20}, {\"Year\": 2015, \"Mort_Share_Inc\": 14.899999618530273, \"Home_Units\": \"10 to 20\", \"pct_chg\": -0.019736854901274192, \"Order\": 20}, {\"Year\": 2016, \"Mort_Share_Inc\": 14.699999809265135, \"Home_Units\": \"10 to 20\", \"pct_chg\": -0.013422806334599469, \"Order\": 20}, {\"Year\": 2017, \"Mort_Share_Inc\": 14.459, \"Home_Units\": \"10 to 20\", \"pct_chg\": 0.14285710578525457, \"Order\": 20}, {\"Year\": 2018, \"Mort_Share_Inc\": 14.379, \"Home_Units\": \"10 to 20\", \"pct_chg\": 0.011904807858458266, \"Order\": 20}, {\"Year\": 2008, \"Mort_Share_Inc\": 15.899999618530273, \"Home_Units\": \"5 to 10\", \"pct_chg\": -0.03636365948301368, \"Order\": 10}, {\"Year\": 2009, \"Mort_Share_Inc\": 16.100000381469727, \"Home_Units\": \"5 to 10\", \"pct_chg\": 0.012578664637599601, \"Order\": 10}, {\"Year\": 2010, \"Mort_Share_Inc\": 16.100000381469727, \"Home_Units\": \"5 to 10\", \"pct_chg\": 0.0, \"Order\": 10}, {\"Year\": 2011, \"Mort_Share_Inc\": 15.899999618530273, \"Home_Units\": \"5 to 10\", \"pct_chg\": -0.012422407341657227, \"Order\": 10}, {\"Year\": 2012, \"Mort_Share_Inc\": 15.600000381469727, \"Home_Units\": \"5 to 10\", \"pct_chg\": -0.01886787699736292, \"Order\": 10}, {\"Year\": 2013, \"Mort_Share_Inc\": 15.199999809265135, \"Home_Units\": \"5 to 10\", \"pct_chg\": -0.025641061693801426, \"Order\": 10}, {\"Year\": 2014, \"Mort_Share_Inc\": 15.0, \"Home_Units\": \"5 to 10\", \"pct_chg\": -0.013157882353605377, \"Order\": 10}, {\"Year\": 2015, \"Mort_Share_Inc\": 14.600000381469727, \"Home_Units\": \"5 to 10\", \"pct_chg\": -0.026666641235351562, \"Order\": 10}, {\"Year\": 2016, \"Mort_Share_Inc\": 14.399999618530273, \"Home_Units\": \"5 to 10\", \"pct_chg\": -0.0136986820351932, \"Order\": 10}, {\"Year\": 2017, \"Mort_Share_Inc\": 14.164, \"Home_Units\": \"5 to 10\", \"pct_chg\": 0.09027779341479913, \"Order\": 10}, {\"Year\": 2018, \"Mort_Share_Inc\": 14.085, \"Home_Units\": \"5 to 10\", \"pct_chg\": -0.012738841509227772, \"Order\": 10}, {\"Year\": 2008, \"Mort_Share_Inc\": 15.199999809265135, \"Home_Units\": \"Less than 5\", \"pct_chg\": -0.019354851015152552, \"Order\": 5}, {\"Year\": 2009, \"Mort_Share_Inc\": 15.100000381469727, \"Home_Units\": \"Less than 5\", \"pct_chg\": -0.006578909805936561, \"Order\": 5}, {\"Year\": 2010, \"Mort_Share_Inc\": 15.0, \"Home_Units\": \"Less than 5\", \"pct_chg\": -0.006622541651882585, \"Order\": 5}, {\"Year\": 2011, \"Mort_Share_Inc\": 14.800000190734865, \"Home_Units\": \"Less than 5\", \"pct_chg\": -0.01333332061767567, \"Order\": 5}, {\"Year\": 2012, \"Mort_Share_Inc\": 14.699999809265135, \"Home_Units\": \"Less than 5\", \"pct_chg\": -0.006756782444660603, \"Order\": 5}, {\"Year\": 2013, \"Mort_Share_Inc\": 14.600000381469727, \"Home_Units\": \"Less than 5\", \"pct_chg\": -0.006802682251218828, \"Order\": 5}, {\"Year\": 2014, \"Mort_Share_Inc\": 14.100000381469727, \"Home_Units\": \"Less than 5\", \"pct_chg\": -0.0342465744476691, \"Order\": 5}, {\"Year\": 2015, \"Mort_Share_Inc\": 13.899999618530273, \"Home_Units\": \"Less than 5\", \"pct_chg\": -0.01418445088854714, \"Order\": 5}, {\"Year\": 2016, \"Mort_Share_Inc\": 13.899999618530273, \"Home_Units\": \"Less than 5\", \"pct_chg\": 0.0, \"Order\": 5}, {\"Year\": 2017, \"Mort_Share_Inc\": 13.672, \"Home_Units\": \"Less than 5\", \"pct_chg\": 0.014388544491240829, \"Order\": 5}, {\"Year\": 2018, \"Mort_Share_Inc\": 13.596, \"Home_Units\": \"Less than 5\", \"pct_chg\": -0.09929081803745743, \"Order\": 5}], \"data-210bcfbf6ca010247ca2ea02fc053f02\": [{\"x\": 2008, \"y\": 40, \"text\": \"40% of income\"}], \"data-13b48c35d42a118470c4da8ad44cb782\": [{\"x\": 2008, \"y\": 40, \"text\": \"_______________________________________________________________________________\"}]}}, {\"mode\": \"vega-lite\"});\n",
       "</script>"
      ],
      "text/plain": [
       "alt.LayerChart(...)"
      ]
     },
     "execution_count": 594,
     "metadata": {},
     "output_type": "execute_result"
    }
   ],
   "source": [
    "mort_hous_den_chart"
   ]
  },
  {
   "cell_type": "code",
   "execution_count": 595,
   "metadata": {},
   "outputs": [],
   "source": [
    "mort_hous_den_chart.save('mort_hous_den.png', scale_factor=3)"
   ]
  },
  {
   "cell_type": "markdown",
   "metadata": {},
   "source": [
    "---"
   ]
  },
  {
   "cell_type": "code",
   "execution_count": 575,
   "metadata": {},
   "outputs": [],
   "source": [
    "rent_share_inc_hous_den5 = pd.read_csv('rent_share_inc_by_hous_den_5yr_0816.csv')\n",
    "rent_share_inc_hous_den1 = pd.read_csv('rent_share_inc_by_hous_den_1yr_1018.csv')"
   ]
  },
  {
   "cell_type": "code",
   "execution_count": 579,
   "metadata": {},
   "outputs": [],
   "source": [
    "rent_hous_den_df = pd.concat([rent_share_inc_hous_den5, rent_share_inc_hous_den1[rent_share_inc_hous_den1.Year > 2016]]).sort_values(['Home_Units', 'Year']).reset_index(drop=True)"
   ]
  },
  {
   "cell_type": "markdown",
   "metadata": {},
   "source": [
    "*Adjusting 2017 & 2018 values for most cols (since 1-yr data included few counties of low pop densities, resulting in distorted figures)"
   ]
  },
  {
   "cell_type": "code",
   "execution_count": 581,
   "metadata": {},
   "outputs": [],
   "source": [
    "rent_hous_den_df['pct_chg'] = rent_hous_den_df['Rent_Share_Inc'].pct_change()"
   ]
  },
  {
   "cell_type": "code",
   "execution_count": 582,
   "metadata": {},
   "outputs": [],
   "source": [
    "for year in [2017, 2018]:\n",
    "    yr_df = rent_hous_den_df[rent_hous_den_df.Year == year]\n",
    "    for typ in ['30 to 75', '20 to 30', '10 to 20', '5 to 10', 'Less than 5']:\n",
    "        index = yr_df[yr_df.Home_Units == typ].index[0]\n",
    "        rent_hous_den_df.loc[index, 'Rent_Share_Inc'] = round(rent_hous_den_df['Rent_Share_Inc'][(rent_hous_den_df.Year == year-1) & (rent_hous_den_df.Home_Units == typ)].iloc[0] + rent_hous_den_df['Rent_Share_Inc'][(rent_hous_den_df.Year == year-1) & (rent_hous_den_df.Home_Units == typ)].iloc[0] * rent_hous_den_df.pct_chg[(rent_hous_den_df.Year == year) & (rent_hous_den_df.Home_Units == 'More than 75')].iloc[0], 3)"
   ]
  },
  {
   "cell_type": "code",
   "execution_count": 583,
   "metadata": {},
   "outputs": [],
   "source": [
    "dic = {}\n",
    "for t in ['More than 75', '30 to 75', '20 to 30', '10 to 20', '5 to 10', 'Less than 5']:\n",
    "    dic[t] = t.split()[-1]"
   ]
  },
  {
   "cell_type": "code",
   "execution_count": 584,
   "metadata": {},
   "outputs": [],
   "source": [
    "rent_hous_den_df['Order'] = rent_hous_den_df.Home_Units.map(dic).astype(int)\n",
    "rent_hous_den_df = rent_hous_den_df.sort_values(['Order', 'Home_Units'], ascending=[False, False])"
   ]
  },
  {
   "cell_type": "code",
   "execution_count": 589,
   "metadata": {},
   "outputs": [],
   "source": [
    "rent_hous_den = alt.Chart(rent_hous_den_df, title='Renter Income Devoted to Housing').mark_line(size=6, opacity=.85, strokeCap='round', interpolate='basis').encode(\n",
    "x=alt.X('Year:O', axis=alt.Axis(values=[2008, 2018], ticks=True, tickSize=10, titleFontSize=20, labelFontSize=18, labelOpacity=.7)),\n",
    "y=alt.Y('Rent_Share_Inc', title='Counties grouped by housing density', \n",
    "        scale=alt.Scale(domain=[10,40]),\n",
    "        axis=alt.Axis(values=list(range(15,40,5)),\n",
    "                      titleX=-25, titleY=-30, titleFontSize=20, titleOpacity=.7,\n",
    "                      labelFontSize=18, labelOpacity=.7, labelPadding=25)),\n",
    "color=alt.Color('Home_Units', scale=alt.Scale(domain=list(rent_hous_den_df.Home_Units.unique()), \n",
    "                                             range=['#b2182b','#ef8a62','#fddbc7','#d1e5f0','#67a9cf','#2166ac']), title='Housing Units / sq. mile')\n",
    ")\n",
    "\n",
    "y_text_df = pd.DataFrame({'x':[2008], 'y':[40], 'text':['40% of income']})\n",
    "y_text = alt.Chart(y_text_df).mark_text(dx=6, dy=0, fontSize=18, font='lato', opacity=.7).encode(x=alt.X('x:O'), y='y', text='text')\n",
    "line = alt.Chart(pd.DataFrame({'x':[2008], 'y':[40], 'text':['_'*79]})).mark_text(dx=320, dy=-4, opacity=.09, fontSize=11.5, fontWeight='bold').encode(x=alt.X('x:O', axis=None), y=alt.Y('y', axis=None), text='text')\n",
    "\n",
    "\n",
    "rent_hous_den_chart = (rent_hous_den + y_text + line).configure_legend(titleFont='Lato', titleFontSize=20, titleOpacity=.85, titleLimit=250, labelFont='Lato', labelFontSize=20, labelOpacity=.85, symbolSize=300, symbolStrokeWidth=6)"
   ]
  },
  {
   "cell_type": "code",
   "execution_count": 590,
   "metadata": {},
   "outputs": [
    {
     "data": {
      "text/html": [
       "\n",
       "<div id=\"altair-viz-156\"></div>\n",
       "<script type=\"text/javascript\">\n",
       "  (function(spec, embedOpt){\n",
       "    const outputDiv = document.getElementById(\"altair-viz-156\");\n",
       "    const paths = {\n",
       "      \"vega\": \"https://cdn.jsdelivr.net/npm//vega@5?noext\",\n",
       "      \"vega-lib\": \"https://cdn.jsdelivr.net/npm//vega-lib?noext\",\n",
       "      \"vega-lite\": \"https://cdn.jsdelivr.net/npm//vega-lite@4.0.0?noext\",\n",
       "      \"vega-embed\": \"https://cdn.jsdelivr.net/npm//vega-embed@6?noext\",\n",
       "    };\n",
       "\n",
       "    function loadScript(lib) {\n",
       "      return new Promise(function(resolve, reject) {\n",
       "        var s = document.createElement('script');\n",
       "        s.src = paths[lib];\n",
       "        s.async = true;\n",
       "        s.onload = () => resolve(paths[lib]);\n",
       "        s.onerror = () => reject(`Error loading script: ${paths[lib]}`);\n",
       "        document.getElementsByTagName(\"head\")[0].appendChild(s);\n",
       "      });\n",
       "    }\n",
       "\n",
       "    function showError(err) {\n",
       "      outputDiv.innerHTML = `<div class=\"error\" style=\"color:red;\">${err}</div>`;\n",
       "      throw err;\n",
       "    }\n",
       "\n",
       "    function displayChart(vegaEmbed) {\n",
       "      vegaEmbed(outputDiv, spec, embedOpt)\n",
       "        .catch(err => showError(`Javascript Error: ${err.message}<br>This usually means there's a typo in your chart specification. See the javascript console for the full traceback.`));\n",
       "    }\n",
       "\n",
       "    if(typeof define === \"function\" && define.amd) {\n",
       "      requirejs.config({paths});\n",
       "      require([\"vega-embed\"], displayChart, err => showError(`Error loading script: ${err.message}`));\n",
       "    } else if (typeof vegaEmbed === \"function\") {\n",
       "      displayChart(vegaEmbed);\n",
       "    } else {\n",
       "      loadScript(\"vega\")\n",
       "        .then(() => loadScript(\"vega-lite\"))\n",
       "        .then(() => loadScript(\"vega-embed\"))\n",
       "        .catch(showError)\n",
       "        .then(() => displayChart(vegaEmbed));\n",
       "    }\n",
       "  })({\"width\": 600, \"height\": 400, \"background\": \"white\", \"config\": {\"title\": {\"fontSize\": 24, \"anchor\": \"start\", \"font\": \"Lato\", \"offset\": 5}, \"axisX\": {\"grid\": false, \"labelFont\": \"Lato\", \"labelFontSize\": 16, \"labelAngle\": 0, \"labelPadding\": 10, \"ticks\": false, \"tickSize\": 5, \"title\": null, \"titleFont\": \"Lato\", \"titleFontSize\": 16, \"titleFontWeight\": \"normal\", \"titleY\": 30, \"titleX\": 280}, \"axisY\": {\"grid\": true, \"gridOpacity\": 1, \"labelFont\": \"Lato\", \"labelFontSize\": 16, \"labelLimit\": 100, \"labelAlign\": \"left\", \"labelPadding\": 20, \"ticks\": false, \"title\": null, \"titleFont\": \"Lato\", \"titleFontWeight\": \"normal\", \"titleFontSize\": 16, \"titleAlign\": \"left\", \"titleAngle\": 0, \"titleY\": -20, \"titleX\": -20, \"domainWidth\": 0}, \"view\": {\"strokeOpacity\": 0}, \"legend\": {\"labelFont\": \"Lato\", \"labelFontSize\": 20, \"labelOpacity\": 0.85, \"symbolSize\": 300, \"symbolStrokeWidth\": 6, \"titleFont\": \"Lato\", \"titleFontSize\": 20, \"titleLimit\": 250, \"titleOpacity\": 0.85}}, \"layer\": [{\"data\": {\"name\": \"data-82eb5f538325b66bf5aa98b31487bafb\"}, \"mark\": {\"type\": \"line\", \"interpolate\": \"basis\", \"opacity\": 0.85, \"size\": 6, \"strokeCap\": \"round\"}, \"encoding\": {\"color\": {\"type\": \"nominal\", \"field\": \"Home_Units\", \"scale\": {\"domain\": [\"More than 75\", \"30 to 75\", \"20 to 30\", \"10 to 20\", \"5 to 10\", \"Less than 5\"], \"range\": [\"#b2182b\", \"#ef8a62\", \"#fddbc7\", \"#d1e5f0\", \"#67a9cf\", \"#2166ac\"]}, \"title\": \"Housing Units / sq. mile\"}, \"x\": {\"type\": \"ordinal\", \"axis\": {\"labelFontSize\": 18, \"labelOpacity\": 0.7, \"tickSize\": 10, \"ticks\": true, \"titleFontSize\": 20, \"values\": [2008, 2018]}, \"field\": \"Year\"}, \"y\": {\"type\": \"quantitative\", \"axis\": {\"labelFontSize\": 18, \"labelOpacity\": 0.7, \"labelPadding\": 25, \"titleFontSize\": 20, \"titleOpacity\": 0.7, \"titleX\": -25, \"titleY\": -30, \"values\": [15, 20, 25, 30, 35]}, \"field\": \"Rent_Share_Inc\", \"scale\": {\"domain\": [10, 40]}, \"title\": \"Counties grouped by housing density\"}}, \"title\": \"Renter Income Devoted to Housing\"}, {\"data\": {\"name\": \"data-210bcfbf6ca010247ca2ea02fc053f02\"}, \"mark\": {\"type\": \"text\", \"dx\": 6, \"dy\": 0, \"font\": \"lato\", \"fontSize\": 18, \"opacity\": 0.7}, \"encoding\": {\"text\": {\"type\": \"nominal\", \"field\": \"text\"}, \"x\": {\"type\": \"ordinal\", \"field\": \"x\"}, \"y\": {\"type\": \"quantitative\", \"field\": \"y\"}}}, {\"data\": {\"name\": \"data-13b48c35d42a118470c4da8ad44cb782\"}, \"mark\": {\"type\": \"text\", \"dx\": 320, \"dy\": -4, \"fontSize\": 11.5, \"fontWeight\": \"bold\", \"opacity\": 0.09}, \"encoding\": {\"text\": {\"type\": \"nominal\", \"field\": \"text\"}, \"x\": {\"type\": \"ordinal\", \"axis\": null, \"field\": \"x\"}, \"y\": {\"type\": \"quantitative\", \"axis\": null, \"field\": \"y\"}}}], \"$schema\": \"https://vega.github.io/schema/vega-lite/v4.0.0.json\", \"datasets\": {\"data-82eb5f538325b66bf5aa98b31487bafb\": [{\"Year\": 2008, \"Rent_Share_Inc\": 32.5, \"Home_Units\": \"More than 75\", \"pct_chg\": 0.06907896078359399, \"Order\": 75}, {\"Year\": 2009, \"Rent_Share_Inc\": 33.09999847412109, \"Home_Units\": \"More than 75\", \"pct_chg\": 0.01846149151141807, \"Order\": 75}, {\"Year\": 2010, \"Rent_Share_Inc\": 33.299999237060554, \"Home_Units\": \"More than 75\", \"pct_chg\": 0.00604231940058364, \"Order\": 75}, {\"Year\": 2011, \"Rent_Share_Inc\": 33.799999237060554, \"Home_Units\": \"More than 75\", \"pct_chg\": 0.015015015359025385, \"Order\": 75}, {\"Year\": 2012, \"Rent_Share_Inc\": 33.59999847412109, \"Home_Units\": \"More than 75\", \"pct_chg\": -0.005917182469050819, \"Order\": 75}, {\"Year\": 2013, \"Rent_Share_Inc\": 33.200000762939446, \"Home_Units\": \"More than 75\", \"pct_chg\": -0.01190469432579655, \"Order\": 75}, {\"Year\": 2014, \"Rent_Share_Inc\": 32.700000762939446, \"Home_Units\": \"More than 75\", \"pct_chg\": -0.01506024061776956, \"Order\": 75}, {\"Year\": 2015, \"Rent_Share_Inc\": 32.400001525878906, \"Home_Units\": \"More than 75\", \"pct_chg\": -0.009174288381073814, \"Order\": 75}, {\"Year\": 2016, \"Rent_Share_Inc\": 32.09999847412109, \"Home_Units\": \"More than 75\", \"pct_chg\": -0.009259353013245986, \"Order\": 75}, {\"Year\": 2017, \"Rent_Share_Inc\": 31.79999923706055, \"Home_Units\": \"More than 75\", \"pct_chg\": -0.009345771069191655, \"Order\": 75}, {\"Year\": 2018, \"Rent_Share_Inc\": 31.79999923706055, \"Home_Units\": \"More than 75\", \"pct_chg\": 0.0, \"Order\": 75}, {\"Year\": 2008, \"Rent_Share_Inc\": 31.70000076293945, \"Home_Units\": \"30 to 75\", \"pct_chg\": -0.0185758045911244, \"Order\": 75}, {\"Year\": 2009, \"Rent_Share_Inc\": 32.299999237060554, \"Home_Units\": \"30 to 75\", \"pct_chg\": 0.01892739620443673, \"Order\": 75}, {\"Year\": 2010, \"Rent_Share_Inc\": 32.900001525878906, \"Home_Units\": \"30 to 75\", \"pct_chg\": 0.01857592269320918, \"Order\": 75}, {\"Year\": 2011, \"Rent_Share_Inc\": 33.299999237060554, \"Home_Units\": \"30 to 75\", \"pct_chg\": 0.012157984578420544, \"Order\": 75}, {\"Year\": 2012, \"Rent_Share_Inc\": 33.200000762939446, \"Home_Units\": \"30 to 75\", \"pct_chg\": -0.003002957249615079, \"Order\": 75}, {\"Year\": 2013, \"Rent_Share_Inc\": 32.799999237060554, \"Home_Units\": \"30 to 75\", \"pct_chg\": -0.012048238454422155, \"Order\": 75}, {\"Year\": 2014, \"Rent_Share_Inc\": 32.59999847412109, \"Home_Units\": \"30 to 75\", \"pct_chg\": -0.0060975843777912875, \"Order\": 75}, {\"Year\": 2015, \"Rent_Share_Inc\": 32.09999847412109, \"Home_Units\": \"30 to 75\", \"pct_chg\": -0.015337424030768432, \"Order\": 75}, {\"Year\": 2016, \"Rent_Share_Inc\": 31.60000038146973, \"Home_Units\": \"30 to 75\", \"pct_chg\": -0.015576265308998472, \"Order\": 75}, {\"Year\": 2017, \"Rent_Share_Inc\": 31.305, \"Home_Units\": \"30 to 75\", \"pct_chg\": 0.05379743148951688, \"Order\": 75}, {\"Year\": 2018, \"Rent_Share_Inc\": 31.305, \"Home_Units\": \"30 to 75\", \"pct_chg\": 0.003003071805090407, \"Order\": 75}, {\"Year\": 2008, \"Rent_Share_Inc\": 30.70000076293945, \"Home_Units\": \"20 to 30\", \"pct_chg\": -0.02539680117652543, \"Order\": 30}, {\"Year\": 2009, \"Rent_Share_Inc\": 31.0, \"Home_Units\": \"20 to 30\", \"pct_chg\": 0.009771961876388735, \"Order\": 30}, {\"Year\": 2010, \"Rent_Share_Inc\": 32.200000762939446, \"Home_Units\": \"20 to 30\", \"pct_chg\": 0.03870970203030466, \"Order\": 30}, {\"Year\": 2011, \"Rent_Share_Inc\": 32.200000762939446, \"Home_Units\": \"20 to 30\", \"pct_chg\": 0.0, \"Order\": 30}, {\"Year\": 2012, \"Rent_Share_Inc\": 32.0, \"Home_Units\": \"20 to 30\", \"pct_chg\": -0.006211203670828391, \"Order\": 30}, {\"Year\": 2013, \"Rent_Share_Inc\": 31.5, \"Home_Units\": \"20 to 30\", \"pct_chg\": -0.015625, \"Order\": 30}, {\"Year\": 2014, \"Rent_Share_Inc\": 31.399999618530273, \"Home_Units\": \"20 to 30\", \"pct_chg\": -0.0031746152847532683, \"Order\": 30}, {\"Year\": 2015, \"Rent_Share_Inc\": 30.60000038146973, \"Home_Units\": \"20 to 30\", \"pct_chg\": -0.025477683018455655, \"Order\": 30}, {\"Year\": 2016, \"Rent_Share_Inc\": 30.10000038146973, \"Home_Units\": \"20 to 30\", \"pct_chg\": -0.016339869077347524, \"Order\": 30}, {\"Year\": 2017, \"Rent_Share_Inc\": 29.819, \"Home_Units\": \"20 to 30\", \"pct_chg\": 0.10299004459076855, \"Order\": 30}, {\"Year\": 2018, \"Rent_Share_Inc\": 29.819, \"Home_Units\": \"20 to 30\", \"pct_chg\": -0.027108479072191716, \"Order\": 30}, {\"Year\": 2008, \"Rent_Share_Inc\": 30.5, \"Home_Units\": \"10 to 20\", \"pct_chg\": null, \"Order\": 20}, {\"Year\": 2009, \"Rent_Share_Inc\": 31.399999618530273, \"Home_Units\": \"10 to 20\", \"pct_chg\": 0.02950818421410739, \"Order\": 20}, {\"Year\": 2010, \"Rent_Share_Inc\": 31.29999923706055, \"Home_Units\": \"10 to 20\", \"pct_chg\": -0.0031847255632038163, \"Order\": 20}, {\"Year\": 2011, \"Rent_Share_Inc\": 32.0, \"Home_Units\": \"10 to 20\", \"pct_chg\": 0.022364242172588256, \"Order\": 20}, {\"Year\": 2012, \"Rent_Share_Inc\": 32.0, \"Home_Units\": \"10 to 20\", \"pct_chg\": 0.0, \"Order\": 20}, {\"Year\": 2013, \"Rent_Share_Inc\": 31.29999923706055, \"Home_Units\": \"10 to 20\", \"pct_chg\": -0.0218750238418578, \"Order\": 20}, {\"Year\": 2014, \"Rent_Share_Inc\": 30.79999923706055, \"Home_Units\": \"10 to 20\", \"pct_chg\": -0.01597444128394665, \"Order\": 20}, {\"Year\": 2015, \"Rent_Share_Inc\": 30.70000076293945, \"Home_Units\": \"10 to 20\", \"pct_chg\": -0.003246703785653837, \"Order\": 20}, {\"Year\": 2016, \"Rent_Share_Inc\": 30.399999618530273, \"Home_Units\": \"10 to 20\", \"pct_chg\": -0.009772024005006985, \"Order\": 20}, {\"Year\": 2017, \"Rent_Share_Inc\": 30.116, \"Home_Units\": \"10 to 20\", \"pct_chg\": 0.0032894862738344077, \"Order\": 20}, {\"Year\": 2018, \"Rent_Share_Inc\": 30.116, \"Home_Units\": \"10 to 20\", \"pct_chg\": 0.032786885245901676, \"Order\": 20}, {\"Year\": 2008, \"Rent_Share_Inc\": 28.29999923706055, \"Home_Units\": \"5 to 10\", \"pct_chg\": -0.15269467233008316, \"Order\": 10}, {\"Year\": 2009, \"Rent_Share_Inc\": 28.899999618530273, \"Home_Units\": \"5 to 10\", \"pct_chg\": 0.021201427478626522, \"Order\": 10}, {\"Year\": 2010, \"Rent_Share_Inc\": 29.60000038146973, \"Home_Units\": \"5 to 10\", \"pct_chg\": 0.02422148000620128, \"Order\": 10}, {\"Year\": 2011, \"Rent_Share_Inc\": 30.20000076293945, \"Home_Units\": \"5 to 10\", \"pct_chg\": 0.02027028289652777, \"Order\": 10}, {\"Year\": 2012, \"Rent_Share_Inc\": 29.70000076293945, \"Home_Units\": \"5 to 10\", \"pct_chg\": -0.01655629097246858, \"Order\": 10}, {\"Year\": 2013, \"Rent_Share_Inc\": 30.0, \"Home_Units\": \"5 to 10\", \"pct_chg\": 0.010100984153337045, \"Order\": 10}, {\"Year\": 2014, \"Rent_Share_Inc\": 29.29999923706055, \"Home_Units\": \"5 to 10\", \"pct_chg\": -0.02333335876464837, \"Order\": 10}, {\"Year\": 2015, \"Rent_Share_Inc\": 29.29999923706055, \"Home_Units\": \"5 to 10\", \"pct_chg\": 0.0, \"Order\": 10}, {\"Year\": 2016, \"Rent_Share_Inc\": 28.60000038146973, \"Home_Units\": \"5 to 10\", \"pct_chg\": -0.02389074654668988, \"Order\": 10}, {\"Year\": 2017, \"Rent_Share_Inc\": 28.333, \"Home_Units\": \"5 to 10\", \"pct_chg\": -0.04195806807460578, \"Order\": 10}, {\"Year\": 2018, \"Rent_Share_Inc\": 28.333, \"Home_Units\": \"5 to 10\", \"pct_chg\": 0.01094894702868121, \"Order\": 10}, {\"Year\": 2008, \"Rent_Share_Inc\": 25.399999618530273, \"Home_Units\": \"Less than 5\", \"pct_chg\": -0.08303253000217992, \"Order\": 5}, {\"Year\": 2009, \"Rent_Share_Inc\": 25.899999618530273, \"Home_Units\": \"Less than 5\", \"pct_chg\": 0.01968503966571844, \"Order\": 5}, {\"Year\": 2010, \"Rent_Share_Inc\": 26.399999618530273, \"Home_Units\": \"Less than 5\", \"pct_chg\": 0.01930501958935449, \"Order\": 5}, {\"Year\": 2011, \"Rent_Share_Inc\": 26.70000076293945, \"Home_Units\": \"Less than 5\", \"pct_chg\": 0.011363679876669641, \"Order\": 5}, {\"Year\": 2012, \"Rent_Share_Inc\": 27.0, \"Home_Units\": \"Less than 5\", \"pct_chg\": 0.011235926160607423, \"Order\": 5}, {\"Year\": 2013, \"Rent_Share_Inc\": 27.5, \"Home_Units\": \"Less than 5\", \"pct_chg\": 0.0185185185185186, \"Order\": 5}, {\"Year\": 2014, \"Rent_Share_Inc\": 27.10000038146973, \"Home_Units\": \"Less than 5\", \"pct_chg\": -0.014545440673828014, \"Order\": 5}, {\"Year\": 2015, \"Rent_Share_Inc\": 26.899999618530273, \"Home_Units\": \"Less than 5\", \"pct_chg\": -0.007380101849600362, \"Order\": 5}, {\"Year\": 2016, \"Rent_Share_Inc\": 26.5, \"Home_Units\": \"Less than 5\", \"pct_chg\": -0.014869874505675895, \"Order\": 5}, {\"Year\": 2017, \"Rent_Share_Inc\": 26.252, \"Home_Units\": \"Less than 5\", \"pct_chg\": 0.15471699552715967, \"Order\": 5}, {\"Year\": 2018, \"Rent_Share_Inc\": 26.252, \"Home_Units\": \"Less than 5\", \"pct_chg\": -0.006535972563600723, \"Order\": 5}], \"data-210bcfbf6ca010247ca2ea02fc053f02\": [{\"x\": 2008, \"y\": 40, \"text\": \"40% of income\"}], \"data-13b48c35d42a118470c4da8ad44cb782\": [{\"x\": 2008, \"y\": 40, \"text\": \"_______________________________________________________________________________\"}]}}, {\"mode\": \"vega-lite\"});\n",
       "</script>"
      ],
      "text/plain": [
       "alt.LayerChart(...)"
      ]
     },
     "execution_count": 590,
     "metadata": {},
     "output_type": "execute_result"
    }
   ],
   "source": [
    "rent_hous_den_chart"
   ]
  },
  {
   "cell_type": "code",
   "execution_count": 592,
   "metadata": {},
   "outputs": [],
   "source": [
    "rent_hous_den_chart.save('rent_hous_den.png', scale_factor=3)"
   ]
  },
  {
   "cell_type": "code",
   "execution_count": null,
   "metadata": {},
   "outputs": [],
   "source": []
  }
 ],
 "metadata": {
  "kernelspec": {
   "display_name": "Python 3",
   "language": "python",
   "name": "python3"
  },
  "language_info": {
   "codemirror_mode": {
    "name": "ipython",
    "version": 3
   },
   "file_extension": ".py",
   "mimetype": "text/x-python",
   "name": "python",
   "nbconvert_exporter": "python",
   "pygments_lexer": "ipython3",
   "version": "3.7.3"
  }
 },
 "nbformat": 4,
 "nbformat_minor": 4
}
