{
 "cells": [
  {
   "cell_type": "code",
   "execution_count": 1,
   "metadata": {},
   "outputs": [],
   "source": [
    "import pandas as pd\n",
    "import numpy as np"
   ]
  },
  {
   "cell_type": "code",
   "execution_count": 2,
   "metadata": {},
   "outputs": [],
   "source": [
    "%run chart_theme.py"
   ]
  },
  {
   "cell_type": "code",
   "execution_count": 3,
   "metadata": {},
   "outputs": [],
   "source": [
    "nat1 = pd.read_csv('national_rent_vs_mort_and_inc_1yr_1018.csv')\n",
    "nat5 = pd.read_csv('national_rent_vs_mort_and_inc_5yr_0816.csv')"
   ]
  },
  {
   "cell_type": "markdown",
   "metadata": {},
   "source": [
    "### National Med. Housing % of Income"
   ]
  },
  {
   "cell_type": "code",
   "execution_count": 4,
   "metadata": {},
   "outputs": [],
   "source": [
    "# Supplementing 1-yr data w/ 08 & 09 from 5-yr\n",
    "nat_comb = pd.concat([nat5[nat5.Year < 2010], nat1])"
   ]
  },
  {
   "cell_type": "code",
   "execution_count": 80,
   "metadata": {},
   "outputs": [],
   "source": [
    "nat_mort = alt.Chart(nat_comb\n",
    "                    ).mark_line(size=7, strokeCap='round', color='#97c2f2', interpolate='basis'\n",
    "                               ).encode(x=alt.X('Year:O', axis=alt.Axis(values=[2008,2018], ticks=True, tickSize=13, \n",
    "                                                                        labelFontSize=22, labelOpacity=.7, labelPadding=13)), \n",
    "                                        y=alt.Y('Mort_Share_Inc_whole',\n",
    "                                               axis=alt.Axis(values=list(range(15,40,5)), \n",
    "                                                             labelPadding=30, \n",
    "                                                             labelOpacity=.7,\n",
    "                                                             labelFontSize=22), \n",
    "                                               scale=alt.Scale(domain=[10,40])))"
   ]
  },
  {
   "cell_type": "code",
   "execution_count": 81,
   "metadata": {},
   "outputs": [],
   "source": [
    "nat_rent = alt.Chart(nat_comb, title='Income Devoted to Housing'\n",
    "                    ).mark_line(size=5, strokeCap='round', color='#cede54', interpolate='basis'\n",
    "                               ).encode(x=alt.X('Year:O', axis=alt.Axis(values=[2008,2018], ticks=True, tickSize=13, \n",
    "                                                                        labelFontSize=22, labelOpacity=.7, labelPadding=13)), \n",
    "                                        y=alt.Y('Rent_Share_Inc_whole', title='Relative housing expenses have trended downwards since 2010',\n",
    "                                               axis=alt.Axis(values=list(range(15,40,5)), \n",
    "                                                             titleX=-33, titleY=-40, titleOpacity=.7, titleFontSize=26,\n",
    "                                                             labelPadding=30, labelOpacity=.7, labelFontSize=22),\n",
    "                                               scale=alt.Scale(domain=[10,40])))"
   ]
  },
  {
   "cell_type": "code",
   "execution_count": 95,
   "metadata": {},
   "outputs": [],
   "source": [
    "nat_mort_text_df = pd.DataFrame({'Year':(range(2008, 2011)), \n",
    "                                 'Numbers':[0,0,40], \n",
    "                                 'Text':['Renters', 'Homeowners', '_'*76]})"
   ]
  },
  {
   "cell_type": "code",
   "execution_count": 102,
   "metadata": {},
   "outputs": [],
   "source": [
    "renters = alt.Chart(nat_mort_text_df.query('Year == 2008')).mark_text(dx=608, dy=-418, font='lato', fontSize=30, color='#b7c83e').encode(x='Year:O', y='Numbers', text='Text')\n",
    "homeowners = alt.Chart(nat_mort_text_df.query('Year == 2009')).mark_text(dx=590, dy=-225, font='lato', fontSize=30, color='#81addc').encode(x='Year:O', y='Numbers', text='Text')\n",
    "line = alt.Chart(nat_mort_text_df.query('Year == 2010')).mark_text(dx=222, dy=-4, opacity=.09, fontSize=11.5, fontWeight='bold').encode(x='Year:O', y='Numbers', text='Text')\n",
    "y_labels_df = pd.DataFrame({'x':[2008], 'y':[40], 'text':['40% of income']})\n",
    "y_labels = alt.Chart(y_labels_df.query('x == 2008')).mark_text(dx=12, dy=0, font='lato', fontSize=22, opacity=.7).encode(x='x:O', y='y', text='text')"
   ]
  },
  {
   "cell_type": "code",
   "execution_count": 106,
   "metadata": {},
   "outputs": [],
   "source": [
    "nat_comb_plot = (nat_mort + nat_rent + renters + homeowners + y_labels + line).configure_title(fontSize=32)"
   ]
  },
  {
   "cell_type": "code",
   "execution_count": 107,
   "metadata": {},
   "outputs": [
    {
     "data": {
      "text/html": [
       "\n",
       "<div id=\"altair-viz-29\"></div>\n",
       "<script type=\"text/javascript\">\n",
       "  (function(spec, embedOpt){\n",
       "    const outputDiv = document.getElementById(\"altair-viz-29\");\n",
       "    const paths = {\n",
       "      \"vega\": \"https://cdn.jsdelivr.net/npm//vega@5?noext\",\n",
       "      \"vega-lib\": \"https://cdn.jsdelivr.net/npm//vega-lib?noext\",\n",
       "      \"vega-lite\": \"https://cdn.jsdelivr.net/npm//vega-lite@4.0.0?noext\",\n",
       "      \"vega-embed\": \"https://cdn.jsdelivr.net/npm//vega-embed@6?noext\",\n",
       "    };\n",
       "\n",
       "    function loadScript(lib) {\n",
       "      return new Promise(function(resolve, reject) {\n",
       "        var s = document.createElement('script');\n",
       "        s.src = paths[lib];\n",
       "        s.async = true;\n",
       "        s.onload = () => resolve(paths[lib]);\n",
       "        s.onerror = () => reject(`Error loading script: ${paths[lib]}`);\n",
       "        document.getElementsByTagName(\"head\")[0].appendChild(s);\n",
       "      });\n",
       "    }\n",
       "\n",
       "    function showError(err) {\n",
       "      outputDiv.innerHTML = `<div class=\"error\" style=\"color:red;\">${err}</div>`;\n",
       "      throw err;\n",
       "    }\n",
       "\n",
       "    function displayChart(vegaEmbed) {\n",
       "      vegaEmbed(outputDiv, spec, embedOpt)\n",
       "        .catch(err => showError(`Javascript Error: ${err.message}<br>This usually means there's a typo in your chart specification. See the javascript console for the full traceback.`));\n",
       "    }\n",
       "\n",
       "    if(typeof define === \"function\" && define.amd) {\n",
       "      requirejs.config({paths});\n",
       "      require([\"vega-embed\"], displayChart, err => showError(`Error loading script: ${err.message}`));\n",
       "    } else if (typeof vegaEmbed === \"function\") {\n",
       "      displayChart(vegaEmbed);\n",
       "    } else {\n",
       "      loadScript(\"vega\")\n",
       "        .then(() => loadScript(\"vega-lite\"))\n",
       "        .then(() => loadScript(\"vega-embed\"))\n",
       "        .catch(showError)\n",
       "        .then(() => displayChart(vegaEmbed));\n",
       "    }\n",
       "  })({\"width\": 600, \"height\": 400, \"background\": \"white\", \"config\": {\"title\": {\"fontWeight\": \"normal\", \"fontSize\": 32, \"anchor\": \"start\", \"font\": \"Lato\", \"offset\": 5}, \"axisX\": {\"grid\": false, \"labelFont\": \"Lato\", \"labelFontSize\": 16, \"labelAngle\": 0, \"labelPadding\": 10, \"ticks\": false, \"tickSize\": 5, \"title\": null, \"titleFont\": \"Lato\", \"titleFontSize\": 16, \"titleFontWeight\": \"normal\", \"titleY\": 30, \"titleX\": 280}, \"axisY\": {\"grid\": true, \"gridOpacity\": 1, \"labelFont\": \"Lato\", \"labelFontSize\": 16, \"labelLimit\": 100, \"labelAlign\": \"left\", \"labelPadding\": 20, \"ticks\": false, \"title\": null, \"titleFont\": \"Lato\", \"titleFontWeight\": \"normal\", \"titleFontSize\": 16, \"titleAlign\": \"left\", \"titleAngle\": 0, \"titleY\": -20, \"titleX\": -20, \"domainWidth\": 0}, \"view\": {\"strokeOpacity\": 0}}, \"layer\": [{\"mark\": {\"type\": \"line\", \"color\": \"#97c2f2\", \"interpolate\": \"basis\", \"size\": 7, \"strokeCap\": \"round\"}, \"encoding\": {\"x\": {\"type\": \"ordinal\", \"axis\": {\"labelFontSize\": 22, \"labelOpacity\": 0.7, \"labelPadding\": 13, \"tickSize\": 13, \"ticks\": true, \"values\": [2008, 2018]}, \"field\": \"Year\"}, \"y\": {\"type\": \"quantitative\", \"axis\": {\"labelFontSize\": 22, \"labelOpacity\": 0.7, \"labelPadding\": 30, \"values\": [15, 20, 25, 30, 35]}, \"field\": \"Mort_Share_Inc_whole\", \"scale\": {\"domain\": [10, 40]}}}}, {\"mark\": {\"type\": \"line\", \"color\": \"#cede54\", \"interpolate\": \"basis\", \"size\": 5, \"strokeCap\": \"round\"}, \"encoding\": {\"x\": {\"type\": \"ordinal\", \"axis\": {\"labelFontSize\": 22, \"labelOpacity\": 0.7, \"labelPadding\": 13, \"tickSize\": 13, \"ticks\": true, \"values\": [2008, 2018]}, \"field\": \"Year\"}, \"y\": {\"type\": \"quantitative\", \"axis\": {\"labelFontSize\": 22, \"labelOpacity\": 0.7, \"labelPadding\": 30, \"titleFontSize\": 26, \"titleOpacity\": 0.7, \"titleX\": -33, \"titleY\": -40, \"values\": [15, 20, 25, 30, 35]}, \"field\": \"Rent_Share_Inc_whole\", \"scale\": {\"domain\": [10, 40]}, \"title\": \"Relative housing expenses have trended downwards since 2010\"}}, \"title\": \"Income Devoted to Housing\"}, {\"data\": {\"name\": \"data-3452f1546f74f96240a37bbb9a5572a9\"}, \"mark\": {\"type\": \"text\", \"color\": \"#b7c83e\", \"dx\": 608, \"dy\": -418, \"font\": \"lato\", \"fontSize\": 30}, \"encoding\": {\"text\": {\"type\": \"nominal\", \"field\": \"Text\"}, \"x\": {\"type\": \"ordinal\", \"field\": \"Year\"}, \"y\": {\"type\": \"quantitative\", \"field\": \"Numbers\"}}}, {\"data\": {\"name\": \"data-6c537c6a3d89cf1c69c3efd34efaa980\"}, \"mark\": {\"type\": \"text\", \"color\": \"#81addc\", \"dx\": 590, \"dy\": -225, \"font\": \"lato\", \"fontSize\": 30}, \"encoding\": {\"text\": {\"type\": \"nominal\", \"field\": \"Text\"}, \"x\": {\"type\": \"ordinal\", \"field\": \"Year\"}, \"y\": {\"type\": \"quantitative\", \"field\": \"Numbers\"}}}, {\"data\": {\"name\": \"data-210bcfbf6ca010247ca2ea02fc053f02\"}, \"mark\": {\"type\": \"text\", \"dx\": 12, \"dy\": 0, \"font\": \"lato\", \"fontSize\": 22, \"opacity\": 0.7}, \"encoding\": {\"text\": {\"type\": \"nominal\", \"field\": \"text\"}, \"x\": {\"type\": \"ordinal\", \"field\": \"x\"}, \"y\": {\"type\": \"quantitative\", \"field\": \"y\"}}}, {\"data\": {\"name\": \"data-5eed0d371b4346ff0910a698882dd2a0\"}, \"mark\": {\"type\": \"text\", \"dx\": 222, \"dy\": -4, \"fontSize\": 11.5, \"fontWeight\": \"bold\", \"opacity\": 0.09}, \"encoding\": {\"text\": {\"type\": \"nominal\", \"field\": \"Text\"}, \"x\": {\"type\": \"ordinal\", \"field\": \"Year\"}, \"y\": {\"type\": \"quantitative\", \"field\": \"Numbers\"}}}], \"data\": {\"name\": \"data-c790d6339ac680404a8629eb8560b18f\"}, \"$schema\": \"https://vega.github.io/schema/vega-lite/v4.0.0.json\", \"datasets\": {\"data-c790d6339ac680404a8629eb8560b18f\": [{\"Year\": 2008, \"Region\": \"United States\", \"Owners30\": 30.3, \"Renters30\": 47.0, \"Med_Mort\": 1126.0, \"Med_Rent\": 841.0, \"Med_Mort_Inc\": 5431.0, \"Med_Rent_Inc\": 2629.0, \"Owned_Units\": 76089650.0, \"Rented_Units\": 38146346.0, \"Mort_Rent_Diff\": -285.0, \"Rent_Mort_Diff\": 285.0, \"Rent_Mort_Diff_div_Rent\": 33.89, \"MR_Diff_Per_Rent_Inc\": -10.84, \"RM_Diff_Per_Mort_Inc\": 5.25, \"Mort_Less30\": 69.7, \"Rent_Less30\": 53.0, \"Total_Units\": 114235996.0, \"Owned_Units_Per_dec\": 0.6659999999999999, \"Owned_Units_Per_whole\": 66.60000000000001, \"Rent_Units_Per_dec\": 0.33399999999999996, \"Rent_Units_Per_whole\": 33.4, \"Mort_Share_Inc_dec\": 0.207, \"Mort_Share_Inc_whole\": 20.7, \"Rent_Share_Inc_dec\": 0.32, \"Rent_Share_Inc_whole\": 32.0}, {\"Year\": 2009, \"Region\": \"United States\", \"Owners30\": 30.3, \"Renters30\": 47.5, \"Med_Mort\": 1148.0, \"Med_Rent\": 871.0, \"Med_Mort_Inc\": 5550.0, \"Med_Rent_Inc\": 2671.0, \"Owned_Units\": 75896759.0, \"Rented_Units\": 38864600.0, \"Mort_Rent_Diff\": -277.0, \"Rent_Mort_Diff\": 277.0, \"Rent_Mort_Diff_div_Rent\": 31.8, \"MR_Diff_Per_Rent_Inc\": -10.37, \"RM_Diff_Per_Mort_Inc\": 4.99, \"Mort_Less30\": 69.7, \"Rent_Less30\": 52.5, \"Total_Units\": 114761359.0, \"Owned_Units_Per_dec\": 0.6609999999999999, \"Owned_Units_Per_whole\": 66.10000000000001, \"Rent_Units_Per_dec\": 0.33899999999999997, \"Rent_Units_Per_whole\": 33.90000000000001, \"Mort_Share_Inc_dec\": 0.207, \"Mort_Share_Inc_whole\": 20.7, \"Rent_Share_Inc_dec\": 0.326, \"Rent_Share_Inc_whole\": 32.6}, {\"Year\": 2010, \"Region\": \"United States\", \"Owners30\": 30.5, \"Renters30\": 48.9, \"Med_Mort\": 1104.0, \"Med_Rent\": 855.0, \"Med_Mort_Inc\": 5242.0, \"Med_Rent_Inc\": 2556.0, \"Owned_Units\": 74873372.0, \"Rented_Units\": 39694047.0, \"Mort_Rent_Diff\": -249.0, \"Rent_Mort_Diff\": 249.0, \"Rent_Mort_Diff_div_Rent\": 29.12, \"MR_Diff_Per_Rent_Inc\": -9.74, \"RM_Diff_Per_Mort_Inc\": 4.75, \"Mort_Less30\": 69.5, \"Rent_Less30\": 51.1, \"Total_Units\": 114567419.0, \"Owned_Units_Per_dec\": 0.654, \"Owned_Units_Per_whole\": 65.4, \"Rent_Units_Per_dec\": 0.34600000000000003, \"Rent_Units_Per_whole\": 34.599999999999994, \"Mort_Share_Inc_dec\": 0.21100000000000002, \"Mort_Share_Inc_whole\": 21.1, \"Rent_Share_Inc_dec\": 0.335, \"Rent_Share_Inc_whole\": 33.5}, {\"Year\": 2011, \"Region\": \"United States\", \"Owners30\": 29.6, \"Renters30\": 49.3, \"Med_Mort\": 1094.0, \"Med_Rent\": 871.0, \"Med_Mort_Inc\": 5339.0, \"Med_Rent_Inc\": 2578.0, \"Owned_Units\": 74264435.0, \"Rented_Units\": 40727290.0, \"Mort_Rent_Diff\": -223.0, \"Rent_Mort_Diff\": 223.0, \"Rent_Mort_Diff_div_Rent\": 25.6, \"MR_Diff_Per_Rent_Inc\": -8.65, \"RM_Diff_Per_Mort_Inc\": 4.18, \"Mort_Less30\": 70.4, \"Rent_Less30\": 50.7, \"Total_Units\": 114991725.0, \"Owned_Units_Per_dec\": 0.6459999999999999, \"Owned_Units_Per_whole\": 64.60000000000001, \"Rent_Units_Per_dec\": 0.354, \"Rent_Units_Per_whole\": 35.4, \"Mort_Share_Inc_dec\": 0.205, \"Mort_Share_Inc_whole\": 20.5, \"Rent_Share_Inc_dec\": 0.33799999999999997, \"Rent_Share_Inc_whole\": 33.800000000000004}, {\"Year\": 2012, \"Region\": \"United States\", \"Owners30\": 27.1, \"Renters30\": 48.1, \"Med_Mort\": 1066.0, \"Med_Rent\": 884.0, \"Med_Mort_Inc\": 5460.0, \"Med_Rent_Inc\": 2657.0, \"Owned_Units\": 74119256.0, \"Rented_Units\": 41850284.0, \"Mort_Rent_Diff\": -182.0, \"Rent_Mort_Diff\": 182.0, \"Rent_Mort_Diff_div_Rent\": 20.59, \"MR_Diff_Per_Rent_Inc\": -6.85, \"RM_Diff_Per_Mort_Inc\": 3.33, \"Mort_Less30\": 72.9, \"Rent_Less30\": 51.9, \"Total_Units\": 115969540.0, \"Owned_Units_Per_dec\": 0.639, \"Owned_Units_Per_whole\": 63.9, \"Rent_Units_Per_dec\": 0.361, \"Rent_Units_Per_whole\": 36.1, \"Mort_Share_Inc_dec\": 0.195, \"Mort_Share_Inc_whole\": 19.5, \"Rent_Share_Inc_dec\": 0.33299999999999996, \"Rent_Share_Inc_whole\": 33.300000000000004}, {\"Year\": 2013, \"Region\": \"United States\", \"Owners30\": 25.3, \"Renters30\": 47.7, \"Med_Mort\": 1031.0, \"Med_Rent\": 905.0, \"Med_Mort_Inc\": 5569.0, \"Med_Rent_Inc\": 2736.0, \"Owned_Units\": 73843861.0, \"Rented_Units\": 42447172.0, \"Mort_Rent_Diff\": -126.0, \"Rent_Mort_Diff\": 126.0, \"Rent_Mort_Diff_div_Rent\": 13.92, \"MR_Diff_Per_Rent_Inc\": -4.61, \"RM_Diff_Per_Mort_Inc\": 2.26, \"Mort_Less30\": 74.7, \"Rent_Less30\": 52.3, \"Total_Units\": 116291033.0, \"Owned_Units_Per_dec\": 0.635, \"Owned_Units_Per_whole\": 63.5, \"Rent_Units_Per_dec\": 0.365, \"Rent_Units_Per_whole\": 36.5, \"Mort_Share_Inc_dec\": 0.185, \"Mort_Share_Inc_whole\": 18.5, \"Rent_Share_Inc_dec\": 0.331, \"Rent_Share_Inc_whole\": 33.1}, {\"Year\": 2014, \"Region\": \"United States\", \"Owners30\": 24.8, \"Renters30\": 47.9, \"Med_Mort\": 1046.0, \"Med_Rent\": 934.0, \"Med_Mort_Inc\": 5733.0, \"Med_Rent_Inc\": 2866.0, \"Owned_Units\": 73991995.0, \"Rented_Units\": 43267432.0, \"Mort_Rent_Diff\": -112.0, \"Rent_Mort_Diff\": 112.0, \"Rent_Mort_Diff_div_Rent\": 11.99, \"MR_Diff_Per_Rent_Inc\": -3.91, \"RM_Diff_Per_Mort_Inc\": 1.95, \"Mort_Less30\": 75.2, \"Rent_Less30\": 52.1, \"Total_Units\": 117259427.0, \"Owned_Units_Per_dec\": 0.631, \"Owned_Units_Per_whole\": 63.1, \"Rent_Units_Per_dec\": 0.369, \"Rent_Units_Per_whole\": 36.9, \"Mort_Share_Inc_dec\": 0.182, \"Mort_Share_Inc_whole\": 18.2, \"Rent_Share_Inc_dec\": 0.326, \"Rent_Share_Inc_whole\": 32.6}, {\"Year\": 2015, \"Region\": \"United States\", \"Owners30\": 23.7, \"Renters30\": 46.8, \"Med_Mort\": 1062.0, \"Med_Rent\": 959.0, \"Med_Mort_Inc\": 5919.0, \"Med_Rent_Inc\": 2989.0, \"Owned_Units\": 74506512.0, \"Rented_Units\": 43701738.0, \"Mort_Rent_Diff\": -103.0, \"Rent_Mort_Diff\": 103.0, \"Rent_Mort_Diff_div_Rent\": 10.74, \"MR_Diff_Per_Rent_Inc\": -3.45, \"RM_Diff_Per_Mort_Inc\": 1.74, \"Mort_Less30\": 76.3, \"Rent_Less30\": 53.2, \"Total_Units\": 118208250.0, \"Owned_Units_Per_dec\": 0.63, \"Owned_Units_Per_whole\": 63.0, \"Rent_Units_Per_dec\": 0.37, \"Rent_Units_Per_whole\": 37.0, \"Mort_Share_Inc_dec\": 0.179, \"Mort_Share_Inc_whole\": 17.9, \"Rent_Share_Inc_dec\": 0.321, \"Rent_Share_Inc_whole\": 32.1}, {\"Year\": 2016, \"Region\": \"United States\", \"Owners30\": 22.7, \"Renters30\": 46.1, \"Med_Mort\": 1062.0, \"Med_Rent\": 981.0, \"Med_Mort_Inc\": 6094.0, \"Med_Rent_Inc\": 3105.0, \"Owned_Units\": 75022569.0, \"Rented_Units\": 43837496.0, \"Mort_Rent_Diff\": -81.0, \"Rent_Mort_Diff\": 81.0, \"Rent_Mort_Diff_div_Rent\": 8.26, \"MR_Diff_Per_Rent_Inc\": -2.61, \"RM_Diff_Per_Mort_Inc\": 1.33, \"Mort_Less30\": 77.3, \"Rent_Less30\": 53.9, \"Total_Units\": 118860065.0, \"Owned_Units_Per_dec\": 0.631, \"Owned_Units_Per_whole\": 63.1, \"Rent_Units_Per_dec\": 0.369, \"Rent_Units_Per_whole\": 36.9, \"Mort_Share_Inc_dec\": 0.174, \"Mort_Share_Inc_whole\": 17.4, \"Rent_Share_Inc_dec\": 0.316, \"Rent_Share_Inc_whole\": 31.6}, {\"Year\": 2017, \"Region\": \"United States\", \"Owners30\": 22.1, \"Renters30\": 45.9, \"Med_Mort\": 1079.0, \"Med_Rent\": 1012.0, \"Med_Mort_Inc\": 6323.0, \"Med_Rent_Inc\": 3245.0, \"Owned_Units\": 76684018.0, \"Rented_Units\": 43378800.0, \"Mort_Rent_Diff\": -67.0, \"Rent_Mort_Diff\": 67.0, \"Rent_Mort_Diff_div_Rent\": 6.62, \"MR_Diff_Per_Rent_Inc\": -2.06, \"RM_Diff_Per_Mort_Inc\": 1.06, \"Mort_Less30\": 77.9, \"Rent_Less30\": 54.1, \"Total_Units\": 120062818.0, \"Owned_Units_Per_dec\": 0.639, \"Owned_Units_Per_whole\": 63.9, \"Rent_Units_Per_dec\": 0.361, \"Rent_Units_Per_whole\": 36.1, \"Mort_Share_Inc_dec\": 0.171, \"Mort_Share_Inc_whole\": 17.1, \"Rent_Share_Inc_dec\": 0.312, \"Rent_Share_Inc_whole\": 31.2}, {\"Year\": 2018, \"Region\": \"United States\", \"Owners30\": 22.3, \"Renters30\": 46.1, \"Med_Mort\": 1103.0, \"Med_Rent\": 1058.0, \"Med_Mort_Inc\": 6504.0, \"Med_Rent_Inc\": 3378.0, \"Owned_Units\": 77708394.0, \"Rented_Units\": 43811786.0, \"Mort_Rent_Diff\": -45.0, \"Rent_Mort_Diff\": 45.0, \"Rent_Mort_Diff_div_Rent\": 4.25, \"MR_Diff_Per_Rent_Inc\": -1.33, \"RM_Diff_Per_Mort_Inc\": 0.69, \"Mort_Less30\": 77.7, \"Rent_Less30\": 53.9, \"Total_Units\": 121520180.0, \"Owned_Units_Per_dec\": 0.639, \"Owned_Units_Per_whole\": 63.9, \"Rent_Units_Per_dec\": 0.361, \"Rent_Units_Per_whole\": 36.1, \"Mort_Share_Inc_dec\": 0.17, \"Mort_Share_Inc_whole\": 17.0, \"Rent_Share_Inc_dec\": 0.313, \"Rent_Share_Inc_whole\": 31.3}], \"data-3452f1546f74f96240a37bbb9a5572a9\": [{\"Year\": 2008, \"Numbers\": 0, \"Text\": \"Renters\"}], \"data-6c537c6a3d89cf1c69c3efd34efaa980\": [{\"Year\": 2009, \"Numbers\": 0, \"Text\": \"Homeowners\"}], \"data-210bcfbf6ca010247ca2ea02fc053f02\": [{\"x\": 2008, \"y\": 40, \"text\": \"40% of income\"}], \"data-5eed0d371b4346ff0910a698882dd2a0\": [{\"Year\": 2010, \"Numbers\": 40, \"Text\": \"____________________________________________________________________________\"}]}}, {\"mode\": \"vega-lite\"});\n",
       "</script>"
      ],
      "text/plain": [
       "alt.LayerChart(...)"
      ]
     },
     "execution_count": 107,
     "metadata": {},
     "output_type": "execute_result"
    }
   ],
   "source": [
    "nat_comb_plot"
   ]
  },
  {
   "cell_type": "code",
   "execution_count": 108,
   "metadata": {},
   "outputs": [],
   "source": [
    "nat_comb_plot.save('nat_rent_mort_per_inc.svg')"
   ]
  },
  {
   "cell_type": "markdown",
   "metadata": {},
   "source": [
    "---"
   ]
  },
  {
   "cell_type": "markdown",
   "metadata": {},
   "source": [
    "### Change in Housing Expenses:"
   ]
  },
  {
   "cell_type": "code",
   "execution_count": 4,
   "metadata": {},
   "outputs": [],
   "source": [
    "rent_mort_inc5 = pd.read_csv('national_rent_vs_mort_and_inc_5yr_0816.csv')\n",
    "rent_mort_inc1 = pd.read_csv('national_rent_vs_mort_and_inc_1yr_1018.csv')"
   ]
  },
  {
   "cell_type": "code",
   "execution_count": 5,
   "metadata": {},
   "outputs": [],
   "source": [
    "vals = []\n",
    "cols = ['Med_Mort', 'Med_Rent', 'Med_Mort_Inc', 'Med_Rent_Inc']\n",
    "for col in cols:\n",
    "    vals.append([i*100 for i in rent_mort_inc1[col].pct_change().cumsum()])"
   ]
  },
  {
   "cell_type": "code",
   "execution_count": 6,
   "metadata": {},
   "outputs": [],
   "source": [
    "pct_chg_df = pd.DataFrame(vals).transpose()\n",
    "pct_chg_df.columns = cols\n",
    "pct_chg_df['Year'] = list(range(2010, 2019))\n",
    "pct_chg_df = pct_chg_df.fillna(0)"
   ]
  },
  {
   "cell_type": "code",
   "execution_count": 7,
   "metadata": {},
   "outputs": [],
   "source": [
    "pct_chg_df = pct_chg_df.melt(id_vars='Year', var_name='Value', value_name='Pct_Change')"
   ]
  },
  {
   "cell_type": "code",
   "execution_count": 8,
   "metadata": {},
   "outputs": [],
   "source": [
    "# Medium article formatting (label size, etc.)\n",
    "rh_housing1 = alt.Chart(pct_chg_df.iloc[:9], title='Change in Housing Expenses and Income'\n",
    "         ).mark_area(interpolate='basis', color='#81addc', opacity=1\n",
    "         ).encode(x=alt.X('Year:O', axis=alt.Axis(values=[2010, 2018], ticks=True, tickSize=10, labelFontSize=18, labelOpacity=.7)), \n",
    "                  y=alt.Y('Pct_Change', title= 'Income growth outpaced housing expenses for both renters and homeowners', \n",
    "                          axis=alt.Axis(values=list(range(-5,30,5)), \n",
    "                                        titleFontSize=20, titleOpacity=.7, titleX=-25, titleY=-30,\n",
    "                                        labelPadding = 25, labelFontSize=18, labelOpacity=.7),\n",
    "                          scale=alt.Scale(domain=[-10,30])))\n",
    "\n",
    "rh_housing2 = alt.Chart(pct_chg_df.iloc[9:18],\n",
    "         ).mark_area(interpolate='basis', color='#b7c83e', opacity=1\n",
    "         ).encode(x='Year:O', y=alt.Y('Pct_Change'))\n",
    "\n",
    "rh_income1 = alt.Chart(pct_chg_df.iloc[18:27],\n",
    "         ).mark_line(size=6, strokeCap='round', interpolate='basis', color='#81addc'\n",
    "         ).encode(x='Year:O', y=alt.Y('Pct_Change'))\n",
    "\n",
    "rh_income2 = alt.Chart(pct_chg_df.iloc[27:],\n",
    "         ).mark_line(size=6, strokeCap='round', interpolate='basis', color='#b7c83e'\n",
    "         ).encode(x='Year:O', y=alt.Y('Pct_Change'))\n",
    "\n",
    "df = pd.DataFrame({'x':list(range(2010,2016)), 'y':[30,30,29.3,27.3,22.9,20.9], 'text':['30% increase', '_'*75, 'Renter', 'Homeowner', 'Income', 'Expenses']})\n",
    "text = alt.Chart(df.query('x==2010')).mark_text(dx=-5, font='lato', fontSize=18, opacity=.7).encode(x='x:O', y='y', text='text')\n",
    "line = alt.Chart(df.query('x==2011')).mark_text(dx=230, dy=-4, opacity=.09, fontSize=11.5, fontWeight='bold').encode(x='x:O', y='y', text='text')\n",
    "rent_inc1 = alt.Chart(df.query('x==2012')).mark_text(dx=446, dy=-5, font='lato', fontSize=24, color='#b7c83e').encode(x='x:O', y='y', text='text')\n",
    "rent_inc2 = alt.Chart(df.query('x==2014')).mark_text(dx=316, dy=-48, font='lato', fontSize=24, color='#b7c83e').encode(x='x:O', y='y', text='text')\n",
    "home_inc1 = alt.Chart(df.query('x==2013')).mark_text(dx=410, dy=42, font='lato', fontSize=24, color='#81addc').encode(x='x:O', y='y', text='text')\n",
    "home_inc2 = alt.Chart(df.query('x==2014')).mark_text(dx=316, dy=20, font='lato', fontSize=24, color='#81addc').encode(x='x:O', y='y', text='text')\n",
    "rent_exp1 = alt.Chart(df.query('x==2012')).mark_text(dx=272, dy=215, font='lato', fontSize=22, fontWeight='bold', color='white').encode(x='x:O', y='y', text='text')\n",
    "rent_exp2 = alt.Chart(df.query('x==2015')).mark_text(dx=85, dy=150, font='lato', fontSize=22, fontWeight='bold', color='white').encode(x='x:O', y='y', text='text')\n",
    "home_exp1 = alt.Chart(df.query('x==2013')).mark_text(dx=37, dy=290, font='lato', fontSize=22, fontWeight='bold', color='white').encode(x='x:O', y='y', text='text')\n",
    "home_exp2 = alt.Chart(df.query('x==2015')).mark_text(dx=-111, dy=247, font='lato', fontSize=22, fontWeight='bold', color='white').encode(x='x:O', y='y', text='text')"
   ]
  },
  {
   "cell_type": "code",
   "execution_count": 59,
   "metadata": {},
   "outputs": [],
   "source": [
    "# Website formatting (label size, etc.)\n",
    "rh_housing1 = alt.Chart(pct_chg_df.iloc[:9], title='Change in Housing Expenses and Income'\n",
    "         ).mark_area(interpolate='basis', color='#81addc', opacity=1\n",
    "         ).encode(x=alt.X('Year:O', axis=alt.Axis(values=[2010, 2018], ticks=True, tickSize=10, labelFontSize=18, labelOpacity=.7)), \n",
    "                  y=alt.Y('Pct_Change', title= 'Income growth outpaced housing expenses for both renters and homeowners', \n",
    "                          axis=alt.Axis(values=list(range(-5,30,5)), \n",
    "                                        titleFontSize=20, titleOpacity=.7, titleX=-25, titleY=-30,\n",
    "                                        labelPadding = 25, labelFontSize=18, labelOpacity=.7),\n",
    "                          scale=alt.Scale(domain=[-10,30])))\n",
    "\n",
    "rh_housing2 = alt.Chart(pct_chg_df.iloc[9:18],\n",
    "         ).mark_area(interpolate='basis', color='#b7c83e', opacity=1\n",
    "         ).encode(x='Year:O', y=alt.Y('Pct_Change'))\n",
    "\n",
    "rh_income1 = alt.Chart(pct_chg_df.iloc[18:27],\n",
    "         ).mark_line(size=6, strokeCap='round', interpolate='basis', color='#81addc'\n",
    "         ).encode(x='Year:O', y=alt.Y('Pct_Change'))\n",
    "\n",
    "rh_income2 = alt.Chart(pct_chg_df.iloc[27:],\n",
    "         ).mark_line(size=6, strokeCap='round', interpolate='basis', color='#b7c83e'\n",
    "         ).encode(x='Year:O', y=alt.Y('Pct_Change'))\n",
    "\n",
    "df = pd.DataFrame({'x':list(range(2010,2016)), 'y':[30,30,29.3,27.3,22.9,20.9], 'text':['30% increase', '_'*76, 'Renter', 'Homeowner', 'Income', 'Expenses']})\n",
    "text = alt.Chart(df.query('x==2010')).mark_text(dx=-5, font='lato', fontSize=18, opacity=.7).encode(x='x:O', y='y', text='text')\n",
    "line = alt.Chart(df.query('x==2011')).mark_text(dx=230, dy=-4, opacity=.09, fontSize=11.5, fontWeight='bold').encode(x='x:O', y='y', text='text')\n",
    "rent_inc1 = alt.Chart(df.query('x==2012')).mark_text(dx=445.5, dy=-5, font='lato', fontSize=22, color='#b7c83e').encode(x='x:O', y='y', text='text')\n",
    "rent_inc2 = alt.Chart(df.query('x==2014')).mark_text(dx=315, dy=-48, font='lato', fontSize=22, color='#b7c83e').encode(x='x:O', y='y', text='text')\n",
    "home_inc1 = alt.Chart(df.query('x==2013')).mark_text(dx=406.5, dy=42, font='lato', fontSize=22, color='#81addc').encode(x='x:O', y='y', text='text')\n",
    "home_inc2 = alt.Chart(df.query('x==2014')).mark_text(dx=315, dy=20, font='lato', fontSize=22, color='#81addc').encode(x='x:O', y='y', text='text')\n",
    "rent_exp1 = alt.Chart(df.query('x==2012')).mark_text(dx=272, dy=215, font='lato', fontSize=22, fontWeight='bold', color='white').encode(x='x:O', y='y', text='text')\n",
    "rent_exp2 = alt.Chart(df.query('x==2015')).mark_text(dx=85, dy=150, font='lato', fontSize=22, fontWeight='bold', color='white').encode(x='x:O', y='y', text='text')\n",
    "home_exp1 = alt.Chart(df.query('x==2013')).mark_text(dx=37, dy=290, font='lato', fontSize=22, fontWeight='bold', color='white').encode(x='x:O', y='y', text='text')\n",
    "home_exp2 = alt.Chart(df.query('x==2015')).mark_text(dx=-111, dy=247, font='lato', fontSize=22, fontWeight='bold', color='white').encode(x='x:O', y='y', text='text')"
   ]
  },
  {
   "cell_type": "code",
   "execution_count": 60,
   "metadata": {},
   "outputs": [],
   "source": [
    "inc_hous_chg = (rh_housing1 + rh_housing2 + rh_income1 + rh_income2 + text + line + rent_inc1 + rent_inc2 + home_inc1 + home_inc2 + rent_exp1 + rent_exp2 + home_exp1 + home_exp2).configure_title(fontSize=28)"
   ]
  },
  {
   "cell_type": "code",
   "execution_count": 61,
   "metadata": {},
   "outputs": [
    {
     "data": {
      "text/html": [
       "\n",
       "<div id=\"altair-viz-16\"></div>\n",
       "<script type=\"text/javascript\">\n",
       "  (function(spec, embedOpt){\n",
       "    const outputDiv = document.getElementById(\"altair-viz-16\");\n",
       "    const paths = {\n",
       "      \"vega\": \"https://cdn.jsdelivr.net/npm//vega@5?noext\",\n",
       "      \"vega-lib\": \"https://cdn.jsdelivr.net/npm//vega-lib?noext\",\n",
       "      \"vega-lite\": \"https://cdn.jsdelivr.net/npm//vega-lite@4.0.0?noext\",\n",
       "      \"vega-embed\": \"https://cdn.jsdelivr.net/npm//vega-embed@6?noext\",\n",
       "    };\n",
       "\n",
       "    function loadScript(lib) {\n",
       "      return new Promise(function(resolve, reject) {\n",
       "        var s = document.createElement('script');\n",
       "        s.src = paths[lib];\n",
       "        s.async = true;\n",
       "        s.onload = () => resolve(paths[lib]);\n",
       "        s.onerror = () => reject(`Error loading script: ${paths[lib]}`);\n",
       "        document.getElementsByTagName(\"head\")[0].appendChild(s);\n",
       "      });\n",
       "    }\n",
       "\n",
       "    function showError(err) {\n",
       "      outputDiv.innerHTML = `<div class=\"error\" style=\"color:red;\">${err}</div>`;\n",
       "      throw err;\n",
       "    }\n",
       "\n",
       "    function displayChart(vegaEmbed) {\n",
       "      vegaEmbed(outputDiv, spec, embedOpt)\n",
       "        .catch(err => showError(`Javascript Error: ${err.message}<br>This usually means there's a typo in your chart specification. See the javascript console for the full traceback.`));\n",
       "    }\n",
       "\n",
       "    if(typeof define === \"function\" && define.amd) {\n",
       "      requirejs.config({paths});\n",
       "      require([\"vega-embed\"], displayChart, err => showError(`Error loading script: ${err.message}`));\n",
       "    } else if (typeof vegaEmbed === \"function\") {\n",
       "      displayChart(vegaEmbed);\n",
       "    } else {\n",
       "      loadScript(\"vega\")\n",
       "        .then(() => loadScript(\"vega-lite\"))\n",
       "        .then(() => loadScript(\"vega-embed\"))\n",
       "        .catch(showError)\n",
       "        .then(() => displayChart(vegaEmbed));\n",
       "    }\n",
       "  })({\"width\": 600, \"height\": 400, \"background\": \"white\", \"config\": {\"title\": {\"fontWeight\": \"normal\", \"fontSize\": 28, \"anchor\": \"start\", \"font\": \"Lato\", \"offset\": 5}, \"axisX\": {\"grid\": false, \"labelFont\": \"Lato\", \"labelFontSize\": 16, \"labelAngle\": 0, \"labelPadding\": 10, \"ticks\": false, \"tickSize\": 5, \"title\": null, \"titleFont\": \"Lato\", \"titleFontSize\": 16, \"titleFontWeight\": \"normal\", \"titleY\": 30, \"titleX\": 280}, \"axisY\": {\"grid\": true, \"gridOpacity\": 1, \"labelFont\": \"Lato\", \"labelFontSize\": 16, \"labelLimit\": 100, \"labelAlign\": \"left\", \"labelPadding\": 20, \"ticks\": false, \"title\": null, \"titleFont\": \"Lato\", \"titleFontWeight\": \"normal\", \"titleFontSize\": 16, \"titleAlign\": \"left\", \"titleAngle\": 0, \"titleY\": -20, \"titleX\": -20, \"domainWidth\": 0}, \"view\": {\"strokeOpacity\": 0}}, \"layer\": [{\"data\": {\"name\": \"data-377889f6e56f2e6bee191bf6bc3989ff\"}, \"mark\": {\"type\": \"area\", \"color\": \"#81addc\", \"interpolate\": \"basis\", \"opacity\": 1}, \"encoding\": {\"x\": {\"type\": \"ordinal\", \"axis\": {\"labelFontSize\": 18, \"labelOpacity\": 0.7, \"tickSize\": 10, \"ticks\": true, \"values\": [2010, 2018]}, \"field\": \"Year\"}, \"y\": {\"type\": \"quantitative\", \"axis\": {\"labelFontSize\": 18, \"labelOpacity\": 0.7, \"labelPadding\": 25, \"titleFontSize\": 20, \"titleOpacity\": 0.7, \"titleX\": -25, \"titleY\": -30, \"values\": [-5, 0, 5, 10, 15, 20, 25]}, \"field\": \"Pct_Change\", \"scale\": {\"domain\": [-10, 30]}, \"title\": \"Income growth outpaced housing expenses for both renters and homeowners\"}}, \"title\": \"Change in Housing Expenses and Income\"}, {\"data\": {\"name\": \"data-1c64bb862641fa14714b4f450630859d\"}, \"mark\": {\"type\": \"area\", \"color\": \"#b7c83e\", \"interpolate\": \"basis\", \"opacity\": 1}, \"encoding\": {\"x\": {\"type\": \"ordinal\", \"field\": \"Year\"}, \"y\": {\"type\": \"quantitative\", \"field\": \"Pct_Change\"}}}, {\"data\": {\"name\": \"data-cb4b815d247c2fa5c32d450fe9467f4b\"}, \"mark\": {\"type\": \"line\", \"color\": \"#81addc\", \"interpolate\": \"basis\", \"size\": 6, \"strokeCap\": \"round\"}, \"encoding\": {\"x\": {\"type\": \"ordinal\", \"field\": \"Year\"}, \"y\": {\"type\": \"quantitative\", \"field\": \"Pct_Change\"}}}, {\"data\": {\"name\": \"data-45b362d7abb9c202fe1d1d3fa1fbcba4\"}, \"mark\": {\"type\": \"line\", \"color\": \"#b7c83e\", \"interpolate\": \"basis\", \"size\": 6, \"strokeCap\": \"round\"}, \"encoding\": {\"x\": {\"type\": \"ordinal\", \"field\": \"Year\"}, \"y\": {\"type\": \"quantitative\", \"field\": \"Pct_Change\"}}}, {\"data\": {\"name\": \"data-1312dd03f0a763549776cd2f9d4c18ee\"}, \"mark\": {\"type\": \"text\", \"dx\": -5, \"font\": \"lato\", \"fontSize\": 18, \"opacity\": 0.7}, \"encoding\": {\"text\": {\"type\": \"nominal\", \"field\": \"text\"}, \"x\": {\"type\": \"ordinal\", \"field\": \"x\"}, \"y\": {\"type\": \"quantitative\", \"field\": \"y\"}}}, {\"data\": {\"name\": \"data-b1061d46ddd1e195a9641d33a6d9400b\"}, \"mark\": {\"type\": \"text\", \"dx\": 230, \"dy\": -4, \"fontSize\": 11.5, \"fontWeight\": \"bold\", \"opacity\": 0.09}, \"encoding\": {\"text\": {\"type\": \"nominal\", \"field\": \"text\"}, \"x\": {\"type\": \"ordinal\", \"field\": \"x\"}, \"y\": {\"type\": \"quantitative\", \"field\": \"y\"}}}, {\"data\": {\"name\": \"data-6ea092795ae0a82af1627963e9606d68\"}, \"mark\": {\"type\": \"text\", \"color\": \"#b7c83e\", \"dx\": 445.5, \"dy\": -5, \"font\": \"lato\", \"fontSize\": 22}, \"encoding\": {\"text\": {\"type\": \"nominal\", \"field\": \"text\"}, \"x\": {\"type\": \"ordinal\", \"field\": \"x\"}, \"y\": {\"type\": \"quantitative\", \"field\": \"y\"}}}, {\"data\": {\"name\": \"data-edbaa32503381a1e1d68d4b29a822939\"}, \"mark\": {\"type\": \"text\", \"color\": \"#b7c83e\", \"dx\": 315, \"dy\": -48, \"font\": \"lato\", \"fontSize\": 22}, \"encoding\": {\"text\": {\"type\": \"nominal\", \"field\": \"text\"}, \"x\": {\"type\": \"ordinal\", \"field\": \"x\"}, \"y\": {\"type\": \"quantitative\", \"field\": \"y\"}}}, {\"data\": {\"name\": \"data-696107cd9f2e6b5958456e8d98406dbe\"}, \"mark\": {\"type\": \"text\", \"color\": \"#81addc\", \"dx\": 406.5, \"dy\": 42, \"font\": \"lato\", \"fontSize\": 22}, \"encoding\": {\"text\": {\"type\": \"nominal\", \"field\": \"text\"}, \"x\": {\"type\": \"ordinal\", \"field\": \"x\"}, \"y\": {\"type\": \"quantitative\", \"field\": \"y\"}}}, {\"data\": {\"name\": \"data-edbaa32503381a1e1d68d4b29a822939\"}, \"mark\": {\"type\": \"text\", \"color\": \"#81addc\", \"dx\": 315, \"dy\": 20, \"font\": \"lato\", \"fontSize\": 22}, \"encoding\": {\"text\": {\"type\": \"nominal\", \"field\": \"text\"}, \"x\": {\"type\": \"ordinal\", \"field\": \"x\"}, \"y\": {\"type\": \"quantitative\", \"field\": \"y\"}}}, {\"data\": {\"name\": \"data-6ea092795ae0a82af1627963e9606d68\"}, \"mark\": {\"type\": \"text\", \"color\": \"white\", \"dx\": 272, \"dy\": 215, \"font\": \"lato\", \"fontSize\": 22, \"fontWeight\": \"bold\"}, \"encoding\": {\"text\": {\"type\": \"nominal\", \"field\": \"text\"}, \"x\": {\"type\": \"ordinal\", \"field\": \"x\"}, \"y\": {\"type\": \"quantitative\", \"field\": \"y\"}}}, {\"data\": {\"name\": \"data-17ecb6fad9908ff09ba9b684b3d5fee2\"}, \"mark\": {\"type\": \"text\", \"color\": \"white\", \"dx\": 85, \"dy\": 150, \"font\": \"lato\", \"fontSize\": 22, \"fontWeight\": \"bold\"}, \"encoding\": {\"text\": {\"type\": \"nominal\", \"field\": \"text\"}, \"x\": {\"type\": \"ordinal\", \"field\": \"x\"}, \"y\": {\"type\": \"quantitative\", \"field\": \"y\"}}}, {\"data\": {\"name\": \"data-696107cd9f2e6b5958456e8d98406dbe\"}, \"mark\": {\"type\": \"text\", \"color\": \"white\", \"dx\": 37, \"dy\": 290, \"font\": \"lato\", \"fontSize\": 22, \"fontWeight\": \"bold\"}, \"encoding\": {\"text\": {\"type\": \"nominal\", \"field\": \"text\"}, \"x\": {\"type\": \"ordinal\", \"field\": \"x\"}, \"y\": {\"type\": \"quantitative\", \"field\": \"y\"}}}, {\"data\": {\"name\": \"data-17ecb6fad9908ff09ba9b684b3d5fee2\"}, \"mark\": {\"type\": \"text\", \"color\": \"white\", \"dx\": -111, \"dy\": 247, \"font\": \"lato\", \"fontSize\": 22, \"fontWeight\": \"bold\"}, \"encoding\": {\"text\": {\"type\": \"nominal\", \"field\": \"text\"}, \"x\": {\"type\": \"ordinal\", \"field\": \"x\"}, \"y\": {\"type\": \"quantitative\", \"field\": \"y\"}}}], \"$schema\": \"https://vega.github.io/schema/vega-lite/v4.0.0.json\", \"datasets\": {\"data-377889f6e56f2e6bee191bf6bc3989ff\": [{\"Year\": 2010, \"Value\": \"Med_Mort\", \"Pct_Change\": 0.0}, {\"Year\": 2011, \"Value\": \"Med_Mort\", \"Pct_Change\": -0.9057971014492794}, {\"Year\": 2012, \"Value\": \"Med_Mort\", \"Pct_Change\": -3.4652120923085117}, {\"Year\": 2013, \"Value\": \"Med_Mort\", \"Pct_Change\": -6.748514156098384}, {\"Year\": 2014, \"Value\": \"Med_Mort\", \"Pct_Change\": -5.293615998969381}, {\"Year\": 2015, \"Value\": \"Med_Mort\", \"Pct_Change\": -3.7639792876883016}, {\"Year\": 2016, \"Value\": \"Med_Mort\", \"Pct_Change\": -3.7639792876883016}, {\"Year\": 2017, \"Value\": \"Med_Mort\", \"Pct_Change\": -2.163225992019746}, {\"Year\": 2018, \"Value\": \"Med_Mort\", \"Pct_Change\": 0.061055750334282344}], \"data-1c64bb862641fa14714b4f450630859d\": [{\"Year\": 2010, \"Value\": \"Med_Rent\", \"Pct_Change\": 0.0}, {\"Year\": 2011, \"Value\": \"Med_Rent\", \"Pct_Change\": 1.871345029239757}, {\"Year\": 2012, \"Value\": \"Med_Rent\", \"Pct_Change\": 3.3638823426725972}, {\"Year\": 2013, \"Value\": \"Med_Rent\", \"Pct_Change\": 5.739447953532317}, {\"Year\": 2014, \"Value\": \"Med_Rent\", \"Pct_Change\": 8.943867843035068}, {\"Year\": 2015, \"Value\": \"Med_Rent\", \"Pct_Change\": 11.620527371942991}, {\"Year\": 2016, \"Value\": \"Med_Rent\", \"Pct_Change\": 13.914583680597836}, {\"Year\": 2017, \"Value\": \"Med_Rent\", \"Pct_Change\": 17.07462445531751}, {\"Year\": 2018, \"Value\": \"Med_Rent\", \"Pct_Change\": 21.62007900077205}], \"data-cb4b815d247c2fa5c32d450fe9467f4b\": [{\"Year\": 2010, \"Value\": \"Med_Mort_Inc\", \"Pct_Change\": 0.0}, {\"Year\": 2011, \"Value\": \"Med_Mort_Inc\", \"Pct_Change\": 1.8504387638305975}, {\"Year\": 2012, \"Value\": \"Med_Mort_Inc\", \"Pct_Change\": 4.116780775443263}, {\"Year\": 2013, \"Value\": \"Med_Mort_Inc\", \"Pct_Change\": 6.113117771780252}, {\"Year\": 2014, \"Value\": \"Med_Mort_Inc\", \"Pct_Change\": 9.05799117813686}, {\"Year\": 2015, \"Value\": \"Med_Mort_Inc\", \"Pct_Change\": 12.302365851082953}, {\"Year\": 2016, \"Value\": \"Med_Mort_Inc\", \"Pct_Change\": 15.258946354546365}, {\"Year\": 2017, \"Value\": \"Med_Mort_Inc\", \"Pct_Change\": 19.016740906564756}, {\"Year\": 2018, \"Value\": \"Med_Mort_Inc\", \"Pct_Change\": 21.87930614458469}], \"data-45b362d7abb9c202fe1d1d3fa1fbcba4\": [{\"Year\": 2010, \"Value\": \"Med_Rent_Inc\", \"Pct_Change\": 0.0}, {\"Year\": 2011, \"Value\": \"Med_Rent_Inc\", \"Pct_Change\": 0.8607198748043832}, {\"Year\": 2012, \"Value\": \"Med_Rent_Inc\", \"Pct_Change\": 3.9251108755801845}, {\"Year\": 2013, \"Value\": \"Med_Rent_Inc\", \"Pct_Change\": 6.898389008813144}, {\"Year\": 2014, \"Value\": \"Med_Rent_Inc\", \"Pct_Change\": 11.64985099711724}, {\"Year\": 2015, \"Value\": \"Med_Rent_Inc\", \"Pct_Change\": 15.941546740313338}, {\"Year\": 2016, \"Value\": \"Med_Rent_Inc\", \"Pct_Change\": 19.822443361256802}, {\"Year\": 2017, \"Value\": \"Med_Rent_Inc\", \"Pct_Change\": 24.331300044026527}, {\"Year\": 2018, \"Value\": \"Med_Rent_Inc\", \"Pct_Change\": 28.42991329518214}], \"data-1312dd03f0a763549776cd2f9d4c18ee\": [{\"x\": 2010, \"y\": 30.0, \"text\": \"30% increase\"}], \"data-b1061d46ddd1e195a9641d33a6d9400b\": [{\"x\": 2011, \"y\": 30.0, \"text\": \"____________________________________________________________________________\"}], \"data-6ea092795ae0a82af1627963e9606d68\": [{\"x\": 2012, \"y\": 29.3, \"text\": \"Renter\"}], \"data-edbaa32503381a1e1d68d4b29a822939\": [{\"x\": 2014, \"y\": 22.9, \"text\": \"Income\"}], \"data-696107cd9f2e6b5958456e8d98406dbe\": [{\"x\": 2013, \"y\": 27.3, \"text\": \"Homeowner\"}], \"data-17ecb6fad9908ff09ba9b684b3d5fee2\": [{\"x\": 2015, \"y\": 20.9, \"text\": \"Expenses\"}]}}, {\"mode\": \"vega-lite\"});\n",
       "</script>"
      ],
      "text/plain": [
       "alt.LayerChart(...)"
      ]
     },
     "execution_count": 61,
     "metadata": {},
     "output_type": "execute_result"
    }
   ],
   "source": [
    "inc_hous_chg"
   ]
  },
  {
   "cell_type": "code",
   "execution_count": 62,
   "metadata": {},
   "outputs": [],
   "source": [
    "inc_hous_chg.save('inc_hous_chg_1018.svg')"
   ]
  },
  {
   "cell_type": "markdown",
   "metadata": {},
   "source": [
    "---"
   ]
  },
  {
   "cell_type": "code",
   "execution_count": 252,
   "metadata": {},
   "outputs": [],
   "source": [
    "nat_mort_inc = alt.Chart(rent_mort_inc1\n",
    "                    ).mark_area(opacity=.7, strokeCap='round', color='#97c2f2', interpolate='basis'\n",
    "                               ).encode(x=alt.X('Year:O', axis=alt.Axis(values=[2010,2018], ticks=True, tickSize=13, \n",
    "                                                                        labelFontSize=23, labelOpacity=.7, labelPadding=13)), \n",
    "                                        y=alt.Y('Med_Mort_Inc',\n",
    "                                               axis=alt.Axis(values=list(range(1000, 8000, 1000)), format='~s', \n",
    "                                                             labelPadding=30, \n",
    "                                                             labelOpacity=.7,\n",
    "                                                             labelFontSize=23)))"
   ]
  },
  {
   "cell_type": "code",
   "execution_count": 253,
   "metadata": {},
   "outputs": [],
   "source": [
    "nat_rent_inc = alt.Chart(rent_mort_inc1, title='Median Income (Renters)'\n",
    "                    ).mark_area(opacity=.7, strokeCap='round', color='#cede54', interpolate='basis'\n",
    "                               ).encode(x=alt.X('Year:O', axis=alt.Axis(values=[2010,2018], ticks=True, tickSize=13, labelFontSize=23, \n",
    "                                                                        labelOpacity=.7, labelPadding=13)), \n",
    "                                        y=alt.Y('Med_Rent_Inc',\n",
    "                                               axis=alt.Axis(values=list(range(1000, 8000, 1000)), format='~s', \n",
    "                                                             titleX=-31, titleY=-40, titleOpacity=.7, titleFontSize=26,\n",
    "                                                             labelPadding=30, labelOpacity=.7, labelFontSize=23)))"
   ]
  },
  {
   "cell_type": "code",
   "execution_count": 254,
   "metadata": {},
   "outputs": [],
   "source": [
    "nat_mort = alt.Chart(rent_mort_inc1\n",
    "                    ).mark_line(size=5, strokeCap='round', color='#97c2f2', interpolate='basis'\n",
    "                               ).encode(x=alt.X('Year:O', axis=alt.Axis(values=[2010,2018], ticks=True, tickSize=13, \n",
    "                                                                        labelFontSize=16, labelOpacity=.7, labelPadding=13)), \n",
    "                                        y=alt.Y('Med_Mort',\n",
    "                                               axis=alt.Axis(labelPadding=40, labelOpacity=.7,labelFontSize=16, format='<a'),\n",
    "                                               scale=alt.Scale(domain=[400,1400])))"
   ]
  },
  {
   "cell_type": "code",
   "execution_count": 268,
   "metadata": {},
   "outputs": [],
   "source": [
    "nat_rent = alt.Chart(rent_mort_inc1, title='Monthly Housing Expenses'\n",
    "                    ).mark_line(size=5, strokeCap='round', color='#cede54', interpolate='basis'\n",
    "                               ).encode(x=alt.X('Year:O', axis=alt.Axis(values=[2010,2018], ticks=True, tickSize=13, \n",
    "                                                                        labelFontSize=16, labelOpacity=.7, labelPadding=13)), \n",
    "                                        y=alt.Y('Med_Rent', title='Renter housing expenses are now almost equal to homeowner expenses',\n",
    "                                               axis=alt.Axis(values=list(range(600, 1300, 200)), format='<a',\n",
    "                                                             titleX=-40, titleY=-40, titleOpacity=.7, titleFontSize=18,\n",
    "                                                             labelPadding=40, labelOpacity=.7,labelFontSize=16),\n",
    "                                               scale=alt.Scale(domain=[400,1400])))\n",
    "\n",
    "df = pd.DataFrame({'x':[2010,2011,2017,2016], 'y':[1400, 1400, 1150, 930], 'text':['$1400 per month', '_'*81, 'Homeowners', 'Renters']})\n",
    "y_label = alt.Chart(df.query('x==2010')\n",
    "                   ).mark_text(dx=-12, font='lato', fontSize=16, opacity=.7\n",
    "                   ).encode(x='x:O', y='y', text='text')\n",
    "\n",
    "line = alt.Chart(df.query('x==2011')).mark_text(dx=242, dy=-4, opacity=.09, \n",
    "                                                fontSize=11.5, fontWeight='bold').encode(x='x:O', y='y', text='text')\n",
    "\n",
    "homeowners = alt.Chart(df.query('x==2017')).mark_text(dx=0, dy=0, font='lato', fontSize=22, color='#81addc').encode(x='x:O', y='y', text='text')\n",
    "renters = alt.Chart(df.query('x==2016')).mark_text(dx=60, dy=0, font='lato', fontSize=22, color='#b7c83e').encode(x='x:O', y='y', text='text')"
   ]
  },
  {
   "cell_type": "code",
   "execution_count": 269,
   "metadata": {},
   "outputs": [
    {
     "data": {
      "text/html": [
       "\n",
       "<div id=\"altair-viz-98\"></div>\n",
       "<script type=\"text/javascript\">\n",
       "  (function(spec, embedOpt){\n",
       "    const outputDiv = document.getElementById(\"altair-viz-98\");\n",
       "    const paths = {\n",
       "      \"vega\": \"https://cdn.jsdelivr.net/npm//vega@5?noext\",\n",
       "      \"vega-lib\": \"https://cdn.jsdelivr.net/npm//vega-lib?noext\",\n",
       "      \"vega-lite\": \"https://cdn.jsdelivr.net/npm//vega-lite@4.0.0?noext\",\n",
       "      \"vega-embed\": \"https://cdn.jsdelivr.net/npm//vega-embed@6?noext\",\n",
       "    };\n",
       "\n",
       "    function loadScript(lib) {\n",
       "      return new Promise(function(resolve, reject) {\n",
       "        var s = document.createElement('script');\n",
       "        s.src = paths[lib];\n",
       "        s.async = true;\n",
       "        s.onload = () => resolve(paths[lib]);\n",
       "        s.onerror = () => reject(`Error loading script: ${paths[lib]}`);\n",
       "        document.getElementsByTagName(\"head\")[0].appendChild(s);\n",
       "      });\n",
       "    }\n",
       "\n",
       "    function showError(err) {\n",
       "      outputDiv.innerHTML = `<div class=\"error\" style=\"color:red;\">${err}</div>`;\n",
       "      throw err;\n",
       "    }\n",
       "\n",
       "    function displayChart(vegaEmbed) {\n",
       "      vegaEmbed(outputDiv, spec, embedOpt)\n",
       "        .catch(err => showError(`Javascript Error: ${err.message}<br>This usually means there's a typo in your chart specification. See the javascript console for the full traceback.`));\n",
       "    }\n",
       "\n",
       "    if(typeof define === \"function\" && define.amd) {\n",
       "      requirejs.config({paths});\n",
       "      require([\"vega-embed\"], displayChart, err => showError(`Error loading script: ${err.message}`));\n",
       "    } else if (typeof vegaEmbed === \"function\") {\n",
       "      displayChart(vegaEmbed);\n",
       "    } else {\n",
       "      loadScript(\"vega\")\n",
       "        .then(() => loadScript(\"vega-lite\"))\n",
       "        .then(() => loadScript(\"vega-embed\"))\n",
       "        .catch(showError)\n",
       "        .then(() => displayChart(vegaEmbed));\n",
       "    }\n",
       "  })({\"width\": 600, \"height\": 400, \"background\": \"white\", \"config\": {\"title\": {\"fontWeight\": \"normal\", \"fontSize\": 22, \"anchor\": \"start\", \"font\": \"Lato\", \"offset\": 5}, \"axisX\": {\"grid\": false, \"labelFont\": \"Lato\", \"labelFontSize\": 16, \"labelAngle\": 0, \"labelPadding\": 10, \"ticks\": false, \"tickSize\": 5, \"title\": null, \"titleFont\": \"Lato\", \"titleFontSize\": 16, \"titleFontWeight\": \"normal\", \"titleY\": 30, \"titleX\": 280}, \"axisY\": {\"grid\": true, \"gridOpacity\": 1, \"labelFont\": \"Lato\", \"labelFontSize\": 16, \"labelLimit\": 100, \"labelAlign\": \"left\", \"labelPadding\": 20, \"ticks\": false, \"title\": null, \"titleFont\": \"Lato\", \"titleFontWeight\": \"normal\", \"titleFontSize\": 16, \"titleAlign\": \"left\", \"titleAngle\": 0, \"titleY\": -20, \"titleX\": -20, \"domainWidth\": 0}, \"view\": {\"strokeOpacity\": 0}}, \"layer\": [{\"mark\": {\"type\": \"line\", \"color\": \"#97c2f2\", \"interpolate\": \"basis\", \"size\": 5, \"strokeCap\": \"round\"}, \"encoding\": {\"x\": {\"type\": \"ordinal\", \"axis\": {\"labelFontSize\": 16, \"labelOpacity\": 0.7, \"labelPadding\": 13, \"tickSize\": 13, \"ticks\": true, \"values\": [2010, 2018]}, \"field\": \"Year\"}, \"y\": {\"type\": \"quantitative\", \"axis\": {\"format\": \"<a\", \"labelFontSize\": 16, \"labelOpacity\": 0.7, \"labelPadding\": 40}, \"field\": \"Med_Mort\", \"scale\": {\"domain\": [400, 1400]}}}}, {\"mark\": {\"type\": \"line\", \"color\": \"#cede54\", \"interpolate\": \"basis\", \"size\": 5, \"strokeCap\": \"round\"}, \"encoding\": {\"x\": {\"type\": \"ordinal\", \"axis\": {\"labelFontSize\": 16, \"labelOpacity\": 0.7, \"labelPadding\": 13, \"tickSize\": 13, \"ticks\": true, \"values\": [2010, 2018]}, \"field\": \"Year\"}, \"y\": {\"type\": \"quantitative\", \"axis\": {\"format\": \"<a\", \"labelFontSize\": 16, \"labelOpacity\": 0.7, \"labelPadding\": 40, \"titleFontSize\": 18, \"titleOpacity\": 0.7, \"titleX\": -40, \"titleY\": -40, \"values\": [600, 800, 1000, 1200]}, \"field\": \"Med_Rent\", \"scale\": {\"domain\": [400, 1400]}, \"title\": \"Renter housing expenses are now almost equal to homeowner expenses\"}}, \"title\": \"Monthly Housing Expenses\"}, {\"data\": {\"name\": \"data-d6ee621bd170f7d18843c20a78328718\"}, \"mark\": {\"type\": \"text\", \"dx\": -12, \"font\": \"lato\", \"fontSize\": 16, \"opacity\": 0.7}, \"encoding\": {\"text\": {\"type\": \"nominal\", \"field\": \"text\"}, \"x\": {\"type\": \"ordinal\", \"field\": \"x\"}, \"y\": {\"type\": \"quantitative\", \"field\": \"y\"}}}, {\"data\": {\"name\": \"data-6aea421cd65341cce4b89fc26f9e15fc\"}, \"mark\": {\"type\": \"text\", \"dx\": 242, \"dy\": -4, \"fontSize\": 11.5, \"fontWeight\": \"bold\", \"opacity\": 0.09}, \"encoding\": {\"text\": {\"type\": \"nominal\", \"field\": \"text\"}, \"x\": {\"type\": \"ordinal\", \"field\": \"x\"}, \"y\": {\"type\": \"quantitative\", \"field\": \"y\"}}}, {\"data\": {\"name\": \"data-464e0f487171856bc3d4bc783ef0a361\"}, \"mark\": {\"type\": \"text\", \"color\": \"#81addc\", \"dx\": 0, \"dy\": 0, \"font\": \"lato\", \"fontSize\": 22}, \"encoding\": {\"text\": {\"type\": \"nominal\", \"field\": \"text\"}, \"x\": {\"type\": \"ordinal\", \"field\": \"x\"}, \"y\": {\"type\": \"quantitative\", \"field\": \"y\"}}}, {\"data\": {\"name\": \"data-fc573549b9148ee539fc51f47922de73\"}, \"mark\": {\"type\": \"text\", \"color\": \"#b7c83e\", \"dx\": 60, \"dy\": 0, \"font\": \"lato\", \"fontSize\": 22}, \"encoding\": {\"text\": {\"type\": \"nominal\", \"field\": \"text\"}, \"x\": {\"type\": \"ordinal\", \"field\": \"x\"}, \"y\": {\"type\": \"quantitative\", \"field\": \"y\"}}}], \"data\": {\"name\": \"data-d8f4465be593fe0768b1e32b56123bcc\"}, \"$schema\": \"https://vega.github.io/schema/vega-lite/v4.0.0.json\", \"datasets\": {\"data-d8f4465be593fe0768b1e32b56123bcc\": [{\"Year\": 2010, \"Region\": \"United States\", \"Owners30\": 30.5, \"Renters30\": 48.9, \"Med_Mort\": 1104.0, \"Med_Rent\": 855.0, \"Med_Mort_Inc\": 5242.0, \"Med_Rent_Inc\": 2556.0, \"Owned_Units\": 74873372.0, \"Rented_Units\": 39694047.0, \"Mort_Rent_Diff\": -249.0, \"Rent_Mort_Diff\": 249.0, \"Rent_Mort_Diff_div_Rent\": 29.12, \"MR_Diff_Per_Rent_Inc\": -9.74, \"RM_Diff_Per_Mort_Inc\": 4.75, \"Mort_Less30\": 69.5, \"Rent_Less30\": 51.1, \"Total_Units\": 114567419.0, \"Owned_Units_Per_dec\": 0.654, \"Owned_Units_Per_whole\": 65.4, \"Rent_Units_Per_dec\": 0.34600000000000003, \"Rent_Units_Per_whole\": 34.599999999999994, \"Mort_Share_Inc_dec\": 0.21100000000000002, \"Mort_Share_Inc_whole\": 21.1, \"Rent_Share_Inc_dec\": 0.335, \"Rent_Share_Inc_whole\": 33.5}, {\"Year\": 2011, \"Region\": \"United States\", \"Owners30\": 29.6, \"Renters30\": 49.3, \"Med_Mort\": 1094.0, \"Med_Rent\": 871.0, \"Med_Mort_Inc\": 5339.0, \"Med_Rent_Inc\": 2578.0, \"Owned_Units\": 74264435.0, \"Rented_Units\": 40727290.0, \"Mort_Rent_Diff\": -223.0, \"Rent_Mort_Diff\": 223.0, \"Rent_Mort_Diff_div_Rent\": 25.6, \"MR_Diff_Per_Rent_Inc\": -8.65, \"RM_Diff_Per_Mort_Inc\": 4.18, \"Mort_Less30\": 70.4, \"Rent_Less30\": 50.7, \"Total_Units\": 114991725.0, \"Owned_Units_Per_dec\": 0.6459999999999999, \"Owned_Units_Per_whole\": 64.60000000000001, \"Rent_Units_Per_dec\": 0.354, \"Rent_Units_Per_whole\": 35.4, \"Mort_Share_Inc_dec\": 0.205, \"Mort_Share_Inc_whole\": 20.5, \"Rent_Share_Inc_dec\": 0.33799999999999997, \"Rent_Share_Inc_whole\": 33.800000000000004}, {\"Year\": 2012, \"Region\": \"United States\", \"Owners30\": 27.1, \"Renters30\": 48.1, \"Med_Mort\": 1066.0, \"Med_Rent\": 884.0, \"Med_Mort_Inc\": 5460.0, \"Med_Rent_Inc\": 2657.0, \"Owned_Units\": 74119256.0, \"Rented_Units\": 41850284.0, \"Mort_Rent_Diff\": -182.0, \"Rent_Mort_Diff\": 182.0, \"Rent_Mort_Diff_div_Rent\": 20.59, \"MR_Diff_Per_Rent_Inc\": -6.85, \"RM_Diff_Per_Mort_Inc\": 3.33, \"Mort_Less30\": 72.9, \"Rent_Less30\": 51.9, \"Total_Units\": 115969540.0, \"Owned_Units_Per_dec\": 0.639, \"Owned_Units_Per_whole\": 63.9, \"Rent_Units_Per_dec\": 0.361, \"Rent_Units_Per_whole\": 36.1, \"Mort_Share_Inc_dec\": 0.195, \"Mort_Share_Inc_whole\": 19.5, \"Rent_Share_Inc_dec\": 0.33299999999999996, \"Rent_Share_Inc_whole\": 33.300000000000004}, {\"Year\": 2013, \"Region\": \"United States\", \"Owners30\": 25.3, \"Renters30\": 47.7, \"Med_Mort\": 1031.0, \"Med_Rent\": 905.0, \"Med_Mort_Inc\": 5569.0, \"Med_Rent_Inc\": 2736.0, \"Owned_Units\": 73843861.0, \"Rented_Units\": 42447172.0, \"Mort_Rent_Diff\": -126.0, \"Rent_Mort_Diff\": 126.0, \"Rent_Mort_Diff_div_Rent\": 13.92, \"MR_Diff_Per_Rent_Inc\": -4.61, \"RM_Diff_Per_Mort_Inc\": 2.26, \"Mort_Less30\": 74.7, \"Rent_Less30\": 52.3, \"Total_Units\": 116291033.0, \"Owned_Units_Per_dec\": 0.635, \"Owned_Units_Per_whole\": 63.5, \"Rent_Units_Per_dec\": 0.365, \"Rent_Units_Per_whole\": 36.5, \"Mort_Share_Inc_dec\": 0.185, \"Mort_Share_Inc_whole\": 18.5, \"Rent_Share_Inc_dec\": 0.331, \"Rent_Share_Inc_whole\": 33.1}, {\"Year\": 2014, \"Region\": \"United States\", \"Owners30\": 24.8, \"Renters30\": 47.9, \"Med_Mort\": 1046.0, \"Med_Rent\": 934.0, \"Med_Mort_Inc\": 5733.0, \"Med_Rent_Inc\": 2866.0, \"Owned_Units\": 73991995.0, \"Rented_Units\": 43267432.0, \"Mort_Rent_Diff\": -112.0, \"Rent_Mort_Diff\": 112.0, \"Rent_Mort_Diff_div_Rent\": 11.99, \"MR_Diff_Per_Rent_Inc\": -3.91, \"RM_Diff_Per_Mort_Inc\": 1.95, \"Mort_Less30\": 75.2, \"Rent_Less30\": 52.1, \"Total_Units\": 117259427.0, \"Owned_Units_Per_dec\": 0.631, \"Owned_Units_Per_whole\": 63.1, \"Rent_Units_Per_dec\": 0.369, \"Rent_Units_Per_whole\": 36.9, \"Mort_Share_Inc_dec\": 0.182, \"Mort_Share_Inc_whole\": 18.2, \"Rent_Share_Inc_dec\": 0.326, \"Rent_Share_Inc_whole\": 32.6}, {\"Year\": 2015, \"Region\": \"United States\", \"Owners30\": 23.7, \"Renters30\": 46.8, \"Med_Mort\": 1062.0, \"Med_Rent\": 959.0, \"Med_Mort_Inc\": 5919.0, \"Med_Rent_Inc\": 2989.0, \"Owned_Units\": 74506512.0, \"Rented_Units\": 43701738.0, \"Mort_Rent_Diff\": -103.0, \"Rent_Mort_Diff\": 103.0, \"Rent_Mort_Diff_div_Rent\": 10.74, \"MR_Diff_Per_Rent_Inc\": -3.45, \"RM_Diff_Per_Mort_Inc\": 1.74, \"Mort_Less30\": 76.3, \"Rent_Less30\": 53.2, \"Total_Units\": 118208250.0, \"Owned_Units_Per_dec\": 0.63, \"Owned_Units_Per_whole\": 63.0, \"Rent_Units_Per_dec\": 0.37, \"Rent_Units_Per_whole\": 37.0, \"Mort_Share_Inc_dec\": 0.179, \"Mort_Share_Inc_whole\": 17.9, \"Rent_Share_Inc_dec\": 0.321, \"Rent_Share_Inc_whole\": 32.1}, {\"Year\": 2016, \"Region\": \"United States\", \"Owners30\": 22.7, \"Renters30\": 46.1, \"Med_Mort\": 1062.0, \"Med_Rent\": 981.0, \"Med_Mort_Inc\": 6094.0, \"Med_Rent_Inc\": 3105.0, \"Owned_Units\": 75022569.0, \"Rented_Units\": 43837496.0, \"Mort_Rent_Diff\": -81.0, \"Rent_Mort_Diff\": 81.0, \"Rent_Mort_Diff_div_Rent\": 8.26, \"MR_Diff_Per_Rent_Inc\": -2.61, \"RM_Diff_Per_Mort_Inc\": 1.33, \"Mort_Less30\": 77.3, \"Rent_Less30\": 53.9, \"Total_Units\": 118860065.0, \"Owned_Units_Per_dec\": 0.631, \"Owned_Units_Per_whole\": 63.1, \"Rent_Units_Per_dec\": 0.369, \"Rent_Units_Per_whole\": 36.9, \"Mort_Share_Inc_dec\": 0.174, \"Mort_Share_Inc_whole\": 17.4, \"Rent_Share_Inc_dec\": 0.316, \"Rent_Share_Inc_whole\": 31.6}, {\"Year\": 2017, \"Region\": \"United States\", \"Owners30\": 22.1, \"Renters30\": 45.9, \"Med_Mort\": 1079.0, \"Med_Rent\": 1012.0, \"Med_Mort_Inc\": 6323.0, \"Med_Rent_Inc\": 3245.0, \"Owned_Units\": 76684018.0, \"Rented_Units\": 43378800.0, \"Mort_Rent_Diff\": -67.0, \"Rent_Mort_Diff\": 67.0, \"Rent_Mort_Diff_div_Rent\": 6.62, \"MR_Diff_Per_Rent_Inc\": -2.06, \"RM_Diff_Per_Mort_Inc\": 1.06, \"Mort_Less30\": 77.9, \"Rent_Less30\": 54.1, \"Total_Units\": 120062818.0, \"Owned_Units_Per_dec\": 0.639, \"Owned_Units_Per_whole\": 63.9, \"Rent_Units_Per_dec\": 0.361, \"Rent_Units_Per_whole\": 36.1, \"Mort_Share_Inc_dec\": 0.171, \"Mort_Share_Inc_whole\": 17.1, \"Rent_Share_Inc_dec\": 0.312, \"Rent_Share_Inc_whole\": 31.2}, {\"Year\": 2018, \"Region\": \"United States\", \"Owners30\": 22.3, \"Renters30\": 46.1, \"Med_Mort\": 1103.0, \"Med_Rent\": 1058.0, \"Med_Mort_Inc\": 6504.0, \"Med_Rent_Inc\": 3378.0, \"Owned_Units\": 77708394.0, \"Rented_Units\": 43811786.0, \"Mort_Rent_Diff\": -45.0, \"Rent_Mort_Diff\": 45.0, \"Rent_Mort_Diff_div_Rent\": 4.25, \"MR_Diff_Per_Rent_Inc\": -1.33, \"RM_Diff_Per_Mort_Inc\": 0.69, \"Mort_Less30\": 77.7, \"Rent_Less30\": 53.9, \"Total_Units\": 121520180.0, \"Owned_Units_Per_dec\": 0.639, \"Owned_Units_Per_whole\": 63.9, \"Rent_Units_Per_dec\": 0.361, \"Rent_Units_Per_whole\": 36.1, \"Mort_Share_Inc_dec\": 0.17, \"Mort_Share_Inc_whole\": 17.0, \"Rent_Share_Inc_dec\": 0.313, \"Rent_Share_Inc_whole\": 31.3}], \"data-d6ee621bd170f7d18843c20a78328718\": [{\"x\": 2010, \"y\": 1400, \"text\": \"$1400 per month\"}], \"data-6aea421cd65341cce4b89fc26f9e15fc\": [{\"x\": 2011, \"y\": 1400, \"text\": \"_________________________________________________________________________________\"}], \"data-464e0f487171856bc3d4bc783ef0a361\": [{\"x\": 2017, \"y\": 1150, \"text\": \"Homeowners\"}], \"data-fc573549b9148ee539fc51f47922de73\": [{\"x\": 2016, \"y\": 930, \"text\": \"Renters\"}]}}, {\"mode\": \"vega-lite\"});\n",
       "</script>"
      ],
      "text/plain": [
       "alt.LayerChart(...)"
      ]
     },
     "execution_count": 269,
     "metadata": {},
     "output_type": "execute_result"
    }
   ],
   "source": [
    "hous_expens_chart = (nat_mort + nat_rent + y_label + line + homeowners + renters).configure_title(fontSize=22)\n",
    "hous_expens_chart"
   ]
  },
  {
   "cell_type": "code",
   "execution_count": 267,
   "metadata": {},
   "outputs": [],
   "source": [
    "hous_expens_chart.save('mort_rent_exp_1018.svg')"
   ]
  },
  {
   "cell_type": "markdown",
   "metadata": {},
   "source": [
    "---"
   ]
  }
 ],
 "metadata": {
  "kernelspec": {
   "display_name": "Python 3",
   "language": "python",
   "name": "python3"
  },
  "language_info": {
   "codemirror_mode": {
    "name": "ipython",
    "version": 3
   },
   "file_extension": ".py",
   "mimetype": "text/x-python",
   "name": "python",
   "nbconvert_exporter": "python",
   "pygments_lexer": "ipython3",
   "version": "3.7.3"
  }
 },
 "nbformat": 4,
 "nbformat_minor": 4
}
